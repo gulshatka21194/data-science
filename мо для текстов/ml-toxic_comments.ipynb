{
 "cells": [
  {
   "cell_type": "markdown",
   "metadata": {
    "toc": true
   },
   "source": [
    "<h1>Содержание<span class=\"tocSkip\"></span></h1>\n",
    "<div class=\"toc\"><ul class=\"toc-item\"><li><span><a href=\"#Подготовка\" data-toc-modified-id=\"Подготовка-1\"><span class=\"toc-item-num\">1&nbsp;&nbsp;</span>Подготовка</a></span></li><li><span><a href=\"#Обучение\" data-toc-modified-id=\"Обучение-2\"><span class=\"toc-item-num\">2&nbsp;&nbsp;</span>Обучение</a></span></li><li><span><a href=\"#Выводы\" data-toc-modified-id=\"Выводы-3\"><span class=\"toc-item-num\">3&nbsp;&nbsp;</span>Выводы</a></span></li><li><span><a href=\"#Общий-вывод\" data-toc-modified-id=\"Общий-вывод-4\"><span class=\"toc-item-num\">4&nbsp;&nbsp;</span>Общий вывод</a></span></li><li><span><a href=\"#Чек-лист-проверки\" data-toc-modified-id=\"Чек-лист-проверки-5\"><span class=\"toc-item-num\">5&nbsp;&nbsp;</span>Чек-лист проверки</a></span></li></ul></div>"
   ]
  },
  {
   "cell_type": "markdown",
   "metadata": {},
   "source": [
    "# Классификация комментариев на позитивные и негативные"
   ]
  },
  {
   "cell_type": "markdown",
   "metadata": {},
   "source": [
    "## Подготовка"
   ]
  },
  {
   "cell_type": "code",
   "execution_count": 19,
   "metadata": {},
   "outputs": [
    {
     "name": "stderr",
     "output_type": "stream",
     "text": [
      "[nltk_data] Downloading package stopwords to /home/jovyan/nltk_data...\n",
      "[nltk_data]   Package stopwords is already up-to-date!\n"
     ]
    },
    {
     "data": {
      "text/plain": [
       "True"
      ]
     },
     "execution_count": 19,
     "metadata": {},
     "output_type": "execute_result"
    }
   ],
   "source": [
    "import pandas as pd #импортируем библиотеку pandas\n",
    "import seaborn as sns, numpy as np\n",
    "import matplotlib.pyplot as plt #импортируем библиотеку plt\n",
    "import re #импортируем библиотеку re\n",
    "import time #импортируем библиотеку time\n",
    "import warnings #импортируем библиотеку warnings\n",
    "warnings.filterwarnings('ignore')\n",
    "\n",
    "from sklearn.linear_model import LogisticRegression #импортируем библиотеку LogisticRegression\n",
    "from sklearn.tree import DecisionTreeClassifier #импортируем библиотеку DecisionTreeClassifier\n",
    "from lightgbm import LGBMClassifier #импортируем библиотеку LGBMClassifier\n",
    "from sklearn.feature_extraction.text import TfidfVectorizer #импортируем библиотеку TfidfVectorizer\n",
    "from sklearn.model_selection import train_test_split #импортируем функцию train_test_split\n",
    "from sklearn.metrics import f1_score #импортируем функцию f1_score\n",
    "from sklearn.metrics import confusion_matrix #импортируем функцию confusion_matrix\n",
    "\n",
    "import nltk #импортируем библиотеку nltk\n",
    "from nltk.corpus import stopwords #импортируем stopwords\n",
    "from nltk.tokenize import word_tokenize #импортируем word_tokenize\n",
    "from nltk.stem import WordNetLemmatizer  #импортируем библиотеку WordNetLemmatizer\n",
    "nltk.download('stopwords') #загрузим stopwords"
   ]
  },
  {
   "cell_type": "code",
   "execution_count": 20,
   "metadata": {},
   "outputs": [],
   "source": [
    "data = pd.read_csv('/datasets/toxic_comments.csv') #считаем файл с данными и сохраним в data"
   ]
  },
  {
   "cell_type": "code",
   "execution_count": 21,
   "metadata": {},
   "outputs": [
    {
     "name": "stdout",
     "output_type": "stream",
     "text": [
      "<class 'pandas.core.frame.DataFrame'>\n",
      "RangeIndex: 159571 entries, 0 to 159570\n",
      "Data columns (total 2 columns):\n",
      " #   Column  Non-Null Count   Dtype \n",
      "---  ------  --------------   ----- \n",
      " 0   text    159571 non-null  object\n",
      " 1   toxic   159571 non-null  int64 \n",
      "dtypes: int64(1), object(1)\n",
      "memory usage: 2.4+ MB\n"
     ]
    },
    {
     "data": {
      "text/html": [
       "<div>\n",
       "<style scoped>\n",
       "    .dataframe tbody tr th:only-of-type {\n",
       "        vertical-align: middle;\n",
       "    }\n",
       "\n",
       "    .dataframe tbody tr th {\n",
       "        vertical-align: top;\n",
       "    }\n",
       "\n",
       "    .dataframe thead th {\n",
       "        text-align: right;\n",
       "    }\n",
       "</style>\n",
       "<table border=\"1\" class=\"dataframe\">\n",
       "  <thead>\n",
       "    <tr style=\"text-align: right;\">\n",
       "      <th></th>\n",
       "      <th>text</th>\n",
       "      <th>toxic</th>\n",
       "    </tr>\n",
       "  </thead>\n",
       "  <tbody>\n",
       "    <tr>\n",
       "      <th>0</th>\n",
       "      <td>Explanation\\nWhy the edits made under my usern...</td>\n",
       "      <td>0</td>\n",
       "    </tr>\n",
       "    <tr>\n",
       "      <th>1</th>\n",
       "      <td>D'aww! He matches this background colour I'm s...</td>\n",
       "      <td>0</td>\n",
       "    </tr>\n",
       "    <tr>\n",
       "      <th>2</th>\n",
       "      <td>Hey man, I'm really not trying to edit war. It...</td>\n",
       "      <td>0</td>\n",
       "    </tr>\n",
       "    <tr>\n",
       "      <th>3</th>\n",
       "      <td>\"\\nMore\\nI can't make any real suggestions on ...</td>\n",
       "      <td>0</td>\n",
       "    </tr>\n",
       "    <tr>\n",
       "      <th>4</th>\n",
       "      <td>You, sir, are my hero. Any chance you remember...</td>\n",
       "      <td>0</td>\n",
       "    </tr>\n",
       "    <tr>\n",
       "      <th>5</th>\n",
       "      <td>\"\\n\\nCongratulations from me as well, use the ...</td>\n",
       "      <td>0</td>\n",
       "    </tr>\n",
       "    <tr>\n",
       "      <th>6</th>\n",
       "      <td>COCKSUCKER BEFORE YOU PISS AROUND ON MY WORK</td>\n",
       "      <td>1</td>\n",
       "    </tr>\n",
       "    <tr>\n",
       "      <th>7</th>\n",
       "      <td>Your vandalism to the Matt Shirvington article...</td>\n",
       "      <td>0</td>\n",
       "    </tr>\n",
       "    <tr>\n",
       "      <th>8</th>\n",
       "      <td>Sorry if the word 'nonsense' was offensive to ...</td>\n",
       "      <td>0</td>\n",
       "    </tr>\n",
       "    <tr>\n",
       "      <th>9</th>\n",
       "      <td>alignment on this subject and which are contra...</td>\n",
       "      <td>0</td>\n",
       "    </tr>\n",
       "  </tbody>\n",
       "</table>\n",
       "</div>"
      ],
      "text/plain": [
       "                                                text  toxic\n",
       "0  Explanation\\nWhy the edits made under my usern...      0\n",
       "1  D'aww! He matches this background colour I'm s...      0\n",
       "2  Hey man, I'm really not trying to edit war. It...      0\n",
       "3  \"\\nMore\\nI can't make any real suggestions on ...      0\n",
       "4  You, sir, are my hero. Any chance you remember...      0\n",
       "5  \"\\n\\nCongratulations from me as well, use the ...      0\n",
       "6       COCKSUCKER BEFORE YOU PISS AROUND ON MY WORK      1\n",
       "7  Your vandalism to the Matt Shirvington article...      0\n",
       "8  Sorry if the word 'nonsense' was offensive to ...      0\n",
       "9  alignment on this subject and which are contra...      0"
      ]
     },
     "execution_count": 21,
     "metadata": {},
     "output_type": "execute_result"
    }
   ],
   "source": [
    "data.info() #получим общую информацию о данных в таблице data\n",
    "data.head(10)  #выведем первые 10 строк таблицы data"
   ]
  },
  {
   "cell_type": "code",
   "execution_count": 22,
   "metadata": {},
   "outputs": [
    {
     "data": {
      "text/plain": [
       "0         Explanation\\nWhy the edits made under my usern...\n",
       "1         D'aww! He matches this background colour I'm s...\n",
       "2         Hey man, I'm really not trying to edit war. It...\n",
       "3         \"\\nMore\\nI can't make any real suggestions on ...\n",
       "4         You, sir, are my hero. Any chance you remember...\n",
       "                                ...                        \n",
       "159566    \":::::And for the second time of asking, when ...\n",
       "159567    You should be ashamed of yourself \\n\\nThat is ...\n",
       "159568    Spitzer \\n\\nUmm, theres no actual article for ...\n",
       "159569    And it looks like it was actually you who put ...\n",
       "159570    \"\\nAnd ... I really don't think you understand...\n",
       "Name: text, Length: 159571, dtype: object"
      ]
     },
     "metadata": {},
     "output_type": "display_data"
    }
   ],
   "source": [
    "display(data['text'])"
   ]
  },
  {
   "cell_type": "markdown",
   "metadata": {},
   "source": [
    "В столбце 'text' видим, что есть слова, начинающиеся с верхнего регистра. Также содержатся знаки препинания и нет приведения слов к начальной форме.\n",
    "\n",
    "Для того, чтобы обучить модели классифицировать текст на позитивные и негативные комментарии, нужно устранить эти проблемы."
   ]
  },
  {
   "cell_type": "markdown",
   "metadata": {},
   "source": [
    "###### Лемматизация"
   ]
  },
  {
   "cell_type": "markdown",
   "metadata": {},
   "source": [
    "Напишем функцию лемматизации текста."
   ]
  },
  {
   "cell_type": "code",
   "execution_count": 23,
   "metadata": {},
   "outputs": [],
   "source": [
    "def lemmatize_text(text):\n",
    "    text = text.lower() # приведем к нижнему регистру\n",
    "    clear = re.sub(r'[^a-zA-Z]', ' ', text) # очистим от лишних символов\n",
    "    words = word_tokenize(clear) #разобъем предложение на слова \n",
    "    lemmatized_output = ' '.join([lemmatizer.lemmatize(word) for word in words]) # лемматизируем\n",
    "    return lemmatized_output"
   ]
  },
  {
   "cell_type": "markdown",
   "metadata": {},
   "source": [
    "Создадим класс для лемматизации."
   ]
  },
  {
   "cell_type": "code",
   "execution_count": 24,
   "metadata": {},
   "outputs": [],
   "source": [
    "lemmatizer = WordNetLemmatizer()"
   ]
  },
  {
   "cell_type": "markdown",
   "metadata": {},
   "source": [
    "Применим функцию lemmatize_text к столбцу 'text' таблицы data."
   ]
  },
  {
   "cell_type": "code",
   "execution_count": 25,
   "metadata": {},
   "outputs": [],
   "source": [
    "data['text'] = data['text'].apply(lemmatize_text) #методом apply применим функцию к data['text']"
   ]
  },
  {
   "cell_type": "code",
   "execution_count": 26,
   "metadata": {},
   "outputs": [
    {
     "data": {
      "text/html": [
       "<div>\n",
       "<style scoped>\n",
       "    .dataframe tbody tr th:only-of-type {\n",
       "        vertical-align: middle;\n",
       "    }\n",
       "\n",
       "    .dataframe tbody tr th {\n",
       "        vertical-align: top;\n",
       "    }\n",
       "\n",
       "    .dataframe thead th {\n",
       "        text-align: right;\n",
       "    }\n",
       "</style>\n",
       "<table border=\"1\" class=\"dataframe\">\n",
       "  <thead>\n",
       "    <tr style=\"text-align: right;\">\n",
       "      <th></th>\n",
       "      <th>text</th>\n",
       "      <th>toxic</th>\n",
       "    </tr>\n",
       "  </thead>\n",
       "  <tbody>\n",
       "    <tr>\n",
       "      <th>0</th>\n",
       "      <td>explanation why the edits made under my userna...</td>\n",
       "      <td>0</td>\n",
       "    </tr>\n",
       "    <tr>\n",
       "      <th>1</th>\n",
       "      <td>d aww he match this background colour i m seem...</td>\n",
       "      <td>0</td>\n",
       "    </tr>\n",
       "    <tr>\n",
       "      <th>2</th>\n",
       "      <td>hey man i m really not trying to edit war it s...</td>\n",
       "      <td>0</td>\n",
       "    </tr>\n",
       "    <tr>\n",
       "      <th>3</th>\n",
       "      <td>more i can t make any real suggestion on impro...</td>\n",
       "      <td>0</td>\n",
       "    </tr>\n",
       "    <tr>\n",
       "      <th>4</th>\n",
       "      <td>you sir are my hero any chance you remember wh...</td>\n",
       "      <td>0</td>\n",
       "    </tr>\n",
       "    <tr>\n",
       "      <th>...</th>\n",
       "      <td>...</td>\n",
       "      <td>...</td>\n",
       "    </tr>\n",
       "    <tr>\n",
       "      <th>159566</th>\n",
       "      <td>and for the second time of asking when your vi...</td>\n",
       "      <td>0</td>\n",
       "    </tr>\n",
       "    <tr>\n",
       "      <th>159567</th>\n",
       "      <td>you should be ashamed of yourself that is a ho...</td>\n",
       "      <td>0</td>\n",
       "    </tr>\n",
       "    <tr>\n",
       "      <th>159568</th>\n",
       "      <td>spitzer umm there no actual article for prosti...</td>\n",
       "      <td>0</td>\n",
       "    </tr>\n",
       "    <tr>\n",
       "      <th>159569</th>\n",
       "      <td>and it look like it wa actually you who put on...</td>\n",
       "      <td>0</td>\n",
       "    </tr>\n",
       "    <tr>\n",
       "      <th>159570</th>\n",
       "      <td>and i really don t think you understand i came...</td>\n",
       "      <td>0</td>\n",
       "    </tr>\n",
       "  </tbody>\n",
       "</table>\n",
       "<p>159571 rows × 2 columns</p>\n",
       "</div>"
      ],
      "text/plain": [
       "                                                     text  toxic\n",
       "0       explanation why the edits made under my userna...      0\n",
       "1       d aww he match this background colour i m seem...      0\n",
       "2       hey man i m really not trying to edit war it s...      0\n",
       "3       more i can t make any real suggestion on impro...      0\n",
       "4       you sir are my hero any chance you remember wh...      0\n",
       "...                                                   ...    ...\n",
       "159566  and for the second time of asking when your vi...      0\n",
       "159567  you should be ashamed of yourself that is a ho...      0\n",
       "159568  spitzer umm there no actual article for prosti...      0\n",
       "159569  and it look like it wa actually you who put on...      0\n",
       "159570  and i really don t think you understand i came...      0\n",
       "\n",
       "[159571 rows x 2 columns]"
      ]
     },
     "execution_count": 26,
     "metadata": {},
     "output_type": "execute_result"
    }
   ],
   "source": [
    "data"
   ]
  },
  {
   "cell_type": "markdown",
   "metadata": {},
   "source": [
    "## Обучение"
   ]
  },
  {
   "cell_type": "markdown",
   "metadata": {},
   "source": [
    "Выделим признаки."
   ]
  },
  {
   "cell_type": "code",
   "execution_count": 27,
   "metadata": {},
   "outputs": [],
   "source": [
    "features = data.drop(['toxic'], axis=1) #выделим признаки\n",
    "target = data['toxic'] #выделим целевой признак toxic"
   ]
  },
  {
   "cell_type": "markdown",
   "metadata": {},
   "source": [
    "Разделим данные на обучающую и тестовую выборки."
   ]
  },
  {
   "cell_type": "code",
   "execution_count": 28,
   "metadata": {},
   "outputs": [],
   "source": [
    "features_train, features_test, target_train, target_test = train_test_split(features, target, test_size=0.4, random_state=12345) # функцией train_test_split разделим на обучающую и тестовую выборки"
   ]
  },
  {
   "cell_type": "markdown",
   "metadata": {},
   "source": [
    "Сперва установим стоп-слова и создадим счетчик TfidfVectorizer."
   ]
  },
  {
   "cell_type": "code",
   "execution_count": 29,
   "metadata": {},
   "outputs": [],
   "source": [
    "stopwords = set(stopwords.words('english'))\n",
    "count_tf_idf = TfidfVectorizer(stop_words=stopwords) #создадим счётчик, указав в нём стоп-слова"
   ]
  },
  {
   "cell_type": "markdown",
   "metadata": {},
   "source": [
    "Затем создадим корпус текстов отдельно для обучающей и тестовой выборок. Преобразуем столбец 'text' в список текстов. Переведём тексты в стандартный для Python формат: кодировку Unicode U. Изменим кодировку методом astype().\n",
    "\n",
    "Передадим счётчику корпус текстов. Для этого вызовем функцию fit_transform() для обучающей и transform() для тестовой. Счётчик выделит из корпуса уникальные слова и посчитает количество их вхождений в каждом тексте корпуса."
   ]
  },
  {
   "cell_type": "code",
   "execution_count": 30,
   "metadata": {},
   "outputs": [],
   "source": [
    "features_train = count_tf_idf.fit_transform(features_train['text']) #для корпуса текстов, вызовем функцию fit_transform():\n",
    "features_test = count_tf_idf.transform(features_test['text'])"
   ]
  },
  {
   "cell_type": "code",
   "execution_count": 31,
   "metadata": {},
   "outputs": [
    {
     "data": {
      "text/plain": [
       "((95742, 117249), (63829, 117249))"
      ]
     },
     "execution_count": 31,
     "metadata": {},
     "output_type": "execute_result"
    }
   ],
   "source": [
    "features_train.shape, features_test.shape"
   ]
  },
  {
   "cell_type": "markdown",
   "metadata": {},
   "source": [
    "Напишем функцию для расчета времени выполнения обучения модели."
   ]
  },
  {
   "cell_type": "code",
   "execution_count": 32,
   "metadata": {},
   "outputs": [],
   "source": [
    "def getTimeModel(model):\n",
    "    start = time.time() #получим текущее время и запишем в переменную start\n",
    "    model.fit(features_train, target_train) #обучим модель\n",
    "    predictions_train = model.predict(features_train) #получим предсказания модели на тестовой выборке\n",
    "    f1 = f1_score(target_train, predictions_train) #получим метрику f1\n",
    "    stop = time.time() #получим время после выполнения обучения и запишем в переменную stop\n",
    "    total_time = stop - start #из stop вычтем start\n",
    "    print('Время выполнения обучения модели', total_time) #выведем время выполнения обучения модели\n",
    "    print('Лучшее значение метрики f1:', f1) #выведем наилучший показатель\n",
    "    return total_time, f1, predictions_train #вернем время, метрику"
   ]
  },
  {
   "cell_type": "code",
   "execution_count": 33,
   "metadata": {},
   "outputs": [],
   "source": [
    "data_result = []"
   ]
  },
  {
   "cell_type": "markdown",
   "metadata": {},
   "source": [
    "###### Модель дерева решений"
   ]
  },
  {
   "cell_type": "code",
   "execution_count": 34,
   "metadata": {},
   "outputs": [
    {
     "name": "stdout",
     "output_type": "stream",
     "text": [
      "Время выполнения обучения модели 31.375059366226196\n",
      "Лучшее значение метрики f1: 0.7930323644609358\n"
     ]
    }
   ],
   "source": [
    "model_dt = DecisionTreeClassifier(random_state=12345, class_weight='balanced', max_depth=50)\n",
    "\n",
    "total_time, f1, predictions = getTimeModel(model_dt) #применим функцию getTimeModel"
   ]
  },
  {
   "cell_type": "markdown",
   "metadata": {},
   "source": [
    "Добавим полученные результаты в таблицу."
   ]
  },
  {
   "cell_type": "code",
   "execution_count": 35,
   "metadata": {},
   "outputs": [],
   "source": [
    "data_result.append(['DecisionTreeClassifier', total_time, f1, predictions]) #добавим total_time, f1, predictions в data_result"
   ]
  },
  {
   "cell_type": "markdown",
   "metadata": {},
   "source": [
    "###### Модель LGBMClassifier"
   ]
  },
  {
   "cell_type": "code",
   "execution_count": 36,
   "metadata": {},
   "outputs": [
    {
     "name": "stdout",
     "output_type": "stream",
     "text": [
      "Время выполнения обучения модели 58.77430438995361\n",
      "Лучшее значение метрики f1: 0.745227453109988\n"
     ]
    }
   ],
   "source": [
    "model_lgbm = LGBMClassifier(random_state=12345, class_weight='balanced', max_depth=50, n_estimators=20, learning_rate=1, n_jobs=-1)\n",
    "\n",
    "total_time, f1, predictions = getTimeModel(model_lgbm) #применим функцию getTimeModel"
   ]
  },
  {
   "cell_type": "markdown",
   "metadata": {},
   "source": [
    "Добавим полученные результаты в таблицу."
   ]
  },
  {
   "cell_type": "code",
   "execution_count": 37,
   "metadata": {},
   "outputs": [],
   "source": [
    "data_result.append(['LGBMClassifier', total_time, f1, predictions]) #добавим total_time, f1, predictions в data_result"
   ]
  },
  {
   "cell_type": "markdown",
   "metadata": {},
   "source": [
    "###### Модель логистической регрессии"
   ]
  },
  {
   "cell_type": "code",
   "execution_count": 38,
   "metadata": {},
   "outputs": [
    {
     "name": "stdout",
     "output_type": "stream",
     "text": [
      "Время выполнения обучения модели 12.08735466003418\n",
      "Лучшее значение метрики f1: 0.8374095610102534\n"
     ]
    }
   ],
   "source": [
    "model_lr = LogisticRegression(random_state=12345, solver='liblinear', class_weight='balanced')\n",
    "\n",
    "total_time, f1, predictions = getTimeModel(model_lr) #применим функцию getTimeModel"
   ]
  },
  {
   "cell_type": "markdown",
   "metadata": {},
   "source": [
    "Добавим полученные результаты в таблицу."
   ]
  },
  {
   "cell_type": "code",
   "execution_count": 39,
   "metadata": {},
   "outputs": [],
   "source": [
    "data_result.append(['LogisticRegression', total_time, f1, predictions]) #добавим total_time, f1, predictions в data_result"
   ]
  },
  {
   "cell_type": "markdown",
   "metadata": {},
   "source": [
    "## Выводы"
   ]
  },
  {
   "cell_type": "markdown",
   "metadata": {},
   "source": [
    "Выведем таблицу с полученными результатами."
   ]
  },
  {
   "cell_type": "code",
   "execution_count": 40,
   "metadata": {},
   "outputs": [],
   "source": [
    "data_result = pd.DataFrame(data_result)"
   ]
  },
  {
   "cell_type": "code",
   "execution_count": 41,
   "metadata": {},
   "outputs": [],
   "source": [
    "data_result.columns =['Модель', 'Время обучения', 'F1', 'Предсказания']"
   ]
  },
  {
   "cell_type": "code",
   "execution_count": 42,
   "metadata": {},
   "outputs": [
    {
     "data": {
      "text/html": [
       "<div>\n",
       "<style scoped>\n",
       "    .dataframe tbody tr th:only-of-type {\n",
       "        vertical-align: middle;\n",
       "    }\n",
       "\n",
       "    .dataframe tbody tr th {\n",
       "        vertical-align: top;\n",
       "    }\n",
       "\n",
       "    .dataframe thead th {\n",
       "        text-align: right;\n",
       "    }\n",
       "</style>\n",
       "<table border=\"1\" class=\"dataframe\">\n",
       "  <thead>\n",
       "    <tr style=\"text-align: right;\">\n",
       "      <th></th>\n",
       "      <th>Модель</th>\n",
       "      <th>Время обучения</th>\n",
       "      <th>F1</th>\n",
       "      <th>Предсказания</th>\n",
       "    </tr>\n",
       "  </thead>\n",
       "  <tbody>\n",
       "    <tr>\n",
       "      <th>0</th>\n",
       "      <td>DecisionTreeClassifier</td>\n",
       "      <td>31.375059</td>\n",
       "      <td>0.793032</td>\n",
       "      <td>[0, 0, 0, 0, 0, 0, 0, 0, 0, 0, 0, 0, 0, 0, 0, ...</td>\n",
       "    </tr>\n",
       "    <tr>\n",
       "      <th>1</th>\n",
       "      <td>LGBMClassifier</td>\n",
       "      <td>58.774304</td>\n",
       "      <td>0.745227</td>\n",
       "      <td>[0, 0, 1, 0, 0, 0, 0, 0, 0, 0, 0, 0, 0, 0, 0, ...</td>\n",
       "    </tr>\n",
       "    <tr>\n",
       "      <th>2</th>\n",
       "      <td>LogisticRegression</td>\n",
       "      <td>12.087355</td>\n",
       "      <td>0.837410</td>\n",
       "      <td>[0, 0, 0, 0, 0, 0, 0, 0, 0, 0, 0, 0, 0, 0, 0, ...</td>\n",
       "    </tr>\n",
       "  </tbody>\n",
       "</table>\n",
       "</div>"
      ],
      "text/plain": [
       "                   Модель  Время обучения        F1  \\\n",
       "0  DecisionTreeClassifier       31.375059  0.793032   \n",
       "1          LGBMClassifier       58.774304  0.745227   \n",
       "2      LogisticRegression       12.087355  0.837410   \n",
       "\n",
       "                                        Предсказания  \n",
       "0  [0, 0, 0, 0, 0, 0, 0, 0, 0, 0, 0, 0, 0, 0, 0, ...  \n",
       "1  [0, 0, 1, 0, 0, 0, 0, 0, 0, 0, 0, 0, 0, 0, 0, ...  \n",
       "2  [0, 0, 0, 0, 0, 0, 0, 0, 0, 0, 0, 0, 0, 0, 0, ...  "
      ]
     },
     "execution_count": 42,
     "metadata": {},
     "output_type": "execute_result"
    }
   ],
   "source": [
    "data_result"
   ]
  },
  {
   "cell_type": "markdown",
   "metadata": {},
   "source": [
    "Наилучшее значение метрики F1 0.84 показывает модель LogisticRegression при времени выполнения - 12 секунд."
   ]
  },
  {
   "cell_type": "markdown",
   "metadata": {},
   "source": [
    "###### Тестирование"
   ]
  },
  {
   "cell_type": "markdown",
   "metadata": {},
   "source": [
    "Протестируем модель LogisticRegression на тестовой выборке."
   ]
  },
  {
   "cell_type": "code",
   "execution_count": 43,
   "metadata": {},
   "outputs": [
    {
     "name": "stdout",
     "output_type": "stream",
     "text": [
      "Значение метрики f1: 0.745774263904035\n"
     ]
    }
   ],
   "source": [
    "model_lr_test = LogisticRegression(random_state=12345, solver='liblinear', class_weight='balanced')\n",
    "model_lr_test.fit(features_train, target_train) #обучим модель\n",
    "predictions_test = model_lr_test.predict(features_test) #получим предсказания модели на тестовой выборке\n",
    "f1 = f1_score(target_test, predictions_test) #получим метрику f1\n",
    "print('Значение метрики f1:', f1) #выведем показатель"
   ]
  },
  {
   "cell_type": "markdown",
   "metadata": {},
   "source": [
    "Значение метрики f1 на тестовой выборке модели LogisticRegression получилось 0.75 (меньше чем на обучающей)."
   ]
  },
  {
   "cell_type": "markdown",
   "metadata": {},
   "source": [
    "###### Визуализация"
   ]
  },
  {
   "cell_type": "markdown",
   "metadata": {},
   "source": [
    "Выведем матрицу ошибок."
   ]
  },
  {
   "cell_type": "code",
   "execution_count": 44,
   "metadata": {},
   "outputs": [
    {
     "data": {
      "text/plain": [
       "array([[82646,  3343],\n",
       "       [  320,  9433]])"
      ]
     },
     "execution_count": 44,
     "metadata": {},
     "output_type": "execute_result"
    }
   ],
   "source": [
    "cf_matrix = confusion_matrix(target_train, data_result['Предсказания'][2]) #применим confusion_matrix к target_train, data_result['Предсказания'][2]\n",
    "cf_matrix"
   ]
  },
  {
   "cell_type": "markdown",
   "metadata": {},
   "source": [
    "Визуализируем матрицу ошибок в процентном соотношении негативных и положительных комментариев с помощью библиотеки seaborn, используя heatmap."
   ]
  },
  {
   "cell_type": "code",
   "execution_count": 45,
   "metadata": {},
   "outputs": [
    {
     "data": {
      "image/png": "[encoded data removed]",
      "text/plain": [
       "<Figure size 432x288 with 2 Axes>"
      ]
     },
     "metadata": {
      "needs_background": "light"
     },
     "output_type": "display_data"
    }
   ],
   "source": [
    "ax = sns.heatmap(cf_matrix/np.sum(cf_matrix), annot=True, \n",
    "            fmt='.2%', cmap='Blues')\n",
    "\n",
    "ax.set_title('Матрица ошибок')\n",
    "ax.set_xlabel('Predicted Values')\n",
    "ax.set_ylabel('Actual Values')\n",
    "\n",
    "ax.xaxis.set_ticklabels(['False','True']) #подпишем значения\n",
    "ax.yaxis.set_ticklabels(['False','True'])\n",
    "\n",
    "\n",
    "plt.show() #визуализируем матрицу ошибок"
   ]
  },
  {
   "cell_type": "markdown",
   "metadata": {},
   "source": [
    "## Общий вывод"
   ]
  },
  {
   "cell_type": "markdown",
   "metadata": {},
   "source": [
    "Таким образом, были проделаны следующие работы:\n",
    "\n",
    "    - в столбце 'text' слова приведены к нижнему регистру и к начальной форме, также очищены знаки препинания и прочие символы.\n",
    "    - выделены признаки и разделены на обучающую и тестовую выборки.\n",
    "    - выделены из корпуса уникальные слова и посчитано количество их вхождений в каждом тексте корпуса.\n",
    "    - обучены различные модели.\n",
    "    \n",
    "Исходя из результатов, наилучший показатель f1 дает модель LogisticRegression 0.84.\n",
    "\n",
    "Тестирование модели LogisticRegression на тестовой выборке прошло успешно (0.75).\n",
    "\n",
    "Визуализировав матрицу ошибок, видно, что модель классифицировала комментарии на негативные и положительные (86.3% и 9.9%)."
   ]
  },
  {
   "cell_type": "markdown",
   "metadata": {},
   "source": [
    "## Чек-лист проверки"
   ]
  },
  {
   "cell_type": "markdown",
   "metadata": {},
   "source": [
    "- [x]  Jupyter Notebook открыт\n",
    "- [x]  Весь код выполняется без ошибок\n",
    "- [x]  Ячейки с кодом расположены в порядке исполнения\n",
    "- [x]  Данные загружены и подготовлены\n",
    "- [x]  Модели обучены\n",
    "- [x]  Значение метрики *F1* не меньше 0.75\n",
    "- [x]  Выводы написаны"
   ]
  }
 ],
 "metadata": {
  "ExecuteTimeLog": [
   {
    "duration": 55,
    "start_time": "2022-08-06T16:44:46.647Z"
   },
   {
    "duration": 1524,
    "start_time": "2022-08-06T16:44:54.284Z"
   },
   {
    "duration": 3085,
    "start_time": "2022-08-06T16:44:57.394Z"
   },
   {
    "duration": 76,
    "start_time": "2022-08-06T16:45:13.490Z"
   },
   {
    "duration": 36,
    "start_time": "2022-08-06T16:45:36.632Z"
   },
   {
    "duration": 47269,
    "start_time": "2022-08-06T21:41:17.545Z"
   },
   {
    "duration": 2546,
    "start_time": "2022-08-06T21:42:04.816Z"
   },
   {
    "duration": 0,
    "start_time": "2022-08-06T21:42:07.697Z"
   },
   {
    "duration": 26,
    "start_time": "2022-08-06T21:42:15.067Z"
   },
   {
    "duration": 4,
    "start_time": "2022-08-06T21:42:24.410Z"
   },
   {
    "duration": 3,
    "start_time": "2022-08-06T21:42:25.343Z"
   },
   {
    "duration": 7,
    "start_time": "2022-08-06T21:42:26.407Z"
   },
   {
    "duration": 3,
    "start_time": "2022-08-06T21:42:33.189Z"
   },
   {
    "duration": 63284,
    "start_time": "2022-08-08T07:24:49.091Z"
   },
   {
    "duration": 2408,
    "start_time": "2022-08-08T07:25:52.377Z"
   },
   {
    "duration": 156,
    "start_time": "2022-08-08T08:37:45.580Z"
   },
   {
    "duration": 801,
    "start_time": "2022-08-08T08:37:46.778Z"
   },
   {
    "duration": 39,
    "start_time": "2022-08-08T08:38:12.824Z"
   },
   {
    "duration": 43,
    "start_time": "2022-08-08T08:38:17.970Z"
   },
   {
    "duration": 3,
    "start_time": "2022-08-08T08:40:25.652Z"
   },
   {
    "duration": 362,
    "start_time": "2022-08-08T08:41:10.370Z"
   },
   {
    "duration": 558,
    "start_time": "2022-08-08T08:41:18.251Z"
   },
   {
    "duration": 3,
    "start_time": "2022-08-08T08:41:33.970Z"
   },
   {
    "duration": 696,
    "start_time": "2022-08-08T08:41:34.578Z"
   },
   {
    "duration": 9,
    "start_time": "2022-08-08T08:48:38.866Z"
   },
   {
    "duration": 4,
    "start_time": "2022-08-08T08:48:51.530Z"
   },
   {
    "duration": 1220285,
    "start_time": "2022-08-08T08:48:53.250Z"
   },
   {
    "duration": 46,
    "start_time": "2022-08-08T09:09:13.537Z"
   },
   {
    "duration": 22,
    "start_time": "2022-08-08T09:10:28.767Z"
   },
   {
    "duration": 8,
    "start_time": "2022-08-08T09:13:04.472Z"
   },
   {
    "duration": 868,
    "start_time": "2022-08-08T09:13:06.477Z"
   },
   {
    "duration": 67,
    "start_time": "2022-08-08T09:13:07.348Z"
   },
   {
    "duration": 4,
    "start_time": "2022-08-08T09:13:08.926Z"
   },
   {
    "duration": 682,
    "start_time": "2022-08-08T09:13:36.145Z"
   },
   {
    "duration": 7,
    "start_time": "2022-08-08T09:14:11.808Z"
   },
   {
    "duration": 3,
    "start_time": "2022-08-08T09:14:19.044Z"
   },
   {
    "duration": 3,
    "start_time": "2022-08-08T09:14:19.977Z"
   },
   {
    "duration": 6011,
    "start_time": "2022-08-08T09:14:20.583Z"
   },
   {
    "duration": 15,
    "start_time": "2022-08-08T09:14:41.328Z"
   },
   {
    "duration": 39,
    "start_time": "2022-08-08T09:14:58.730Z"
   },
   {
    "duration": 12516,
    "start_time": "2022-08-08T09:15:02.736Z"
   },
   {
    "duration": 113723,
    "start_time": "2022-08-08T09:15:53.767Z"
   },
   {
    "duration": 535260,
    "start_time": "2022-08-08T09:17:47.492Z"
   },
   {
    "duration": 752588,
    "start_time": "2022-08-08T09:26:42.753Z"
   },
   {
    "duration": 4,
    "start_time": "2022-08-08T10:03:49.172Z"
   },
   {
    "duration": 442307,
    "start_time": "2022-08-08T10:03:54.876Z"
   },
   {
    "duration": 233,
    "start_time": "2022-08-08T10:12:31.669Z"
   },
   {
    "duration": 759,
    "start_time": "2022-08-08T10:12:33.917Z"
   },
   {
    "duration": 45,
    "start_time": "2022-08-08T10:12:34.678Z"
   },
   {
    "duration": 3,
    "start_time": "2022-08-08T10:12:36.094Z"
   },
   {
    "duration": 3,
    "start_time": "2022-08-08T10:12:37.329Z"
   },
   {
    "duration": 5920,
    "start_time": "2022-08-08T10:12:38.467Z"
   },
   {
    "duration": 9,
    "start_time": "2022-08-08T10:12:44.388Z"
   },
   {
    "duration": 38,
    "start_time": "2022-08-08T10:13:07.258Z"
   },
   {
    "duration": 12050,
    "start_time": "2022-08-08T10:13:08.676Z"
   },
   {
    "duration": 444792,
    "start_time": "2022-08-08T10:13:20.727Z"
   },
   {
    "duration": 27362,
    "start_time": "2022-08-08T10:20:45.521Z"
   },
   {
    "duration": 644124,
    "start_time": "2022-08-08T10:21:12.885Z"
   },
   {
    "duration": 72600,
    "start_time": "2022-08-08T11:00:40.447Z"
   },
   {
    "duration": 764,
    "start_time": "2022-08-08T11:02:08.812Z"
   },
   {
    "duration": 41,
    "start_time": "2022-08-08T11:02:10.415Z"
   },
   {
    "duration": 4,
    "start_time": "2022-08-08T11:02:11.290Z"
   },
   {
    "duration": 3,
    "start_time": "2022-08-08T11:02:12.534Z"
   },
   {
    "duration": 7067,
    "start_time": "2022-08-08T11:02:13.060Z"
   },
   {
    "duration": 13,
    "start_time": "2022-08-08T11:02:20.130Z"
   },
   {
    "duration": 45,
    "start_time": "2022-08-08T11:02:20.145Z"
   },
   {
    "duration": 11169,
    "start_time": "2022-08-08T11:02:20.209Z"
   },
   {
    "duration": 68573,
    "start_time": "2022-08-08T11:22:16.735Z"
   },
   {
    "duration": 839,
    "start_time": "2022-08-08T11:23:25.310Z"
   },
   {
    "duration": 44,
    "start_time": "2022-08-08T11:23:26.151Z"
   },
   {
    "duration": 7,
    "start_time": "2022-08-08T11:23:26.210Z"
   },
   {
    "duration": 21,
    "start_time": "2022-08-08T11:23:26.221Z"
   },
   {
    "duration": 7167,
    "start_time": "2022-08-08T11:23:26.244Z"
   },
   {
    "duration": 10,
    "start_time": "2022-08-08T11:23:33.413Z"
   },
   {
    "duration": 220,
    "start_time": "2022-08-08T11:23:33.425Z"
   },
   {
    "duration": 11116,
    "start_time": "2022-08-08T11:23:33.646Z"
   },
   {
    "duration": 64481,
    "start_time": "2022-08-08T11:24:24.213Z"
   },
   {
    "duration": 779,
    "start_time": "2022-08-08T11:25:28.696Z"
   },
   {
    "duration": 40,
    "start_time": "2022-08-08T11:25:29.476Z"
   },
   {
    "duration": 3,
    "start_time": "2022-08-08T11:25:29.517Z"
   },
   {
    "duration": 10,
    "start_time": "2022-08-08T11:25:29.522Z"
   },
   {
    "duration": 6958,
    "start_time": "2022-08-08T11:25:29.533Z"
   },
   {
    "duration": 17,
    "start_time": "2022-08-08T11:25:36.493Z"
   },
   {
    "duration": 23,
    "start_time": "2022-08-08T11:25:36.511Z"
   },
   {
    "duration": 10825,
    "start_time": "2022-08-08T11:25:36.536Z"
   },
   {
    "duration": 406302,
    "start_time": "2022-08-08T11:25:47.363Z"
   },
   {
    "duration": 110138,
    "start_time": "2022-08-08T11:32:33.667Z"
   },
   {
    "duration": 0,
    "start_time": "2022-08-08T11:34:23.807Z"
   },
   {
    "duration": 0,
    "start_time": "2022-08-08T11:35:37.133Z"
   },
   {
    "duration": 0,
    "start_time": "2022-08-08T11:35:37.134Z"
   },
   {
    "duration": 55163,
    "start_time": "2022-08-08T11:35:42.782Z"
   },
   {
    "duration": 0,
    "start_time": "2022-08-08T11:37:11.338Z"
   },
   {
    "duration": 15759,
    "start_time": "2022-08-08T11:37:28.578Z"
   },
   {
    "duration": 8,
    "start_time": "2022-08-08T12:23:38.046Z"
   },
   {
    "duration": 772,
    "start_time": "2022-08-08T12:23:41.549Z"
   },
   {
    "duration": 36,
    "start_time": "2022-08-08T12:23:42.873Z"
   },
   {
    "duration": 3,
    "start_time": "2022-08-08T12:23:44.062Z"
   },
   {
    "duration": 2,
    "start_time": "2022-08-08T12:23:46.453Z"
   },
   {
    "duration": 5720,
    "start_time": "2022-08-08T12:23:47.041Z"
   },
   {
    "duration": 9,
    "start_time": "2022-08-08T12:23:52.763Z"
   },
   {
    "duration": 26,
    "start_time": "2022-08-08T12:23:58.212Z"
   },
   {
    "duration": 11190,
    "start_time": "2022-08-08T12:23:59.093Z"
   },
   {
    "duration": 135611,
    "start_time": "2022-08-08T12:24:15.813Z"
   },
   {
    "duration": 21,
    "start_time": "2022-08-08T12:27:38.942Z"
   },
   {
    "duration": 0,
    "start_time": "2022-08-08T12:28:31.471Z"
   },
   {
    "duration": 166625,
    "start_time": "2022-08-08T12:28:36.500Z"
   },
   {
    "duration": 4,
    "start_time": "2022-08-08T12:32:54.129Z"
   },
   {
    "duration": 3,
    "start_time": "2022-08-08T12:32:55.346Z"
   },
   {
    "duration": 20,
    "start_time": "2022-08-08T12:32:57.933Z"
   },
   {
    "duration": 31,
    "start_time": "2022-08-08T12:33:09.463Z"
   },
   {
    "duration": 163,
    "start_time": "2022-08-08T12:33:30.174Z"
   },
   {
    "duration": 4,
    "start_time": "2022-08-08T12:33:35.181Z"
   },
   {
    "duration": 2,
    "start_time": "2022-08-08T12:33:35.789Z"
   },
   {
    "duration": 314052,
    "start_time": "2022-08-08T12:33:37.623Z"
   },
   {
    "duration": 299519,
    "start_time": "2022-08-08T12:39:58.413Z"
   },
   {
    "duration": 2,
    "start_time": "2022-08-08T12:44:57.934Z"
   },
   {
    "duration": 4,
    "start_time": "2022-08-08T12:46:00.437Z"
   },
   {
    "duration": 3,
    "start_time": "2022-08-08T12:46:01.973Z"
   },
   {
    "duration": 296028,
    "start_time": "2022-08-08T12:46:04.333Z"
   },
   {
    "duration": 3,
    "start_time": "2022-08-08T12:51:00.363Z"
   },
   {
    "duration": 86043,
    "start_time": "2022-08-08T12:51:00.367Z"
   },
   {
    "duration": 2,
    "start_time": "2022-08-08T12:52:26.412Z"
   },
   {
    "duration": 107401,
    "start_time": "2022-08-08T12:52:26.416Z"
   },
   {
    "duration": 3,
    "start_time": "2022-08-08T12:54:13.819Z"
   },
   {
    "duration": 9,
    "start_time": "2022-08-08T12:54:13.823Z"
   },
   {
    "duration": 11,
    "start_time": "2022-08-08T12:54:13.834Z"
   },
   {
    "duration": 17,
    "start_time": "2022-08-08T12:54:13.846Z"
   },
   {
    "duration": 164533,
    "start_time": "2022-08-08T12:58:58.094Z"
   },
   {
    "duration": 107130,
    "start_time": "2022-08-08T13:01:52.692Z"
   },
   {
    "duration": 7,
    "start_time": "2022-08-08T13:03:39.824Z"
   },
   {
    "duration": 761,
    "start_time": "2022-08-08T13:03:39.833Z"
   },
   {
    "duration": 37,
    "start_time": "2022-08-08T13:03:40.596Z"
   },
   {
    "duration": 3,
    "start_time": "2022-08-08T13:03:40.635Z"
   },
   {
    "duration": 10,
    "start_time": "2022-08-08T13:03:40.640Z"
   },
   {
    "duration": 5454,
    "start_time": "2022-08-08T13:03:40.652Z"
   },
   {
    "duration": 13,
    "start_time": "2022-08-08T13:03:46.109Z"
   },
   {
    "duration": 20,
    "start_time": "2022-08-08T13:03:46.124Z"
   },
   {
    "duration": 83041,
    "start_time": "2022-08-08T13:04:22.851Z"
   },
   {
    "duration": 2350,
    "start_time": "2022-08-08T13:05:45.893Z"
   },
   {
    "duration": 42,
    "start_time": "2022-08-08T13:05:48.244Z"
   },
   {
    "duration": 3,
    "start_time": "2022-08-08T13:05:48.288Z"
   },
   {
    "duration": 7,
    "start_time": "2022-08-08T13:05:48.292Z"
   },
   {
    "duration": 7171,
    "start_time": "2022-08-08T13:05:48.301Z"
   },
   {
    "duration": 8,
    "start_time": "2022-08-08T13:05:55.474Z"
   },
   {
    "duration": 25,
    "start_time": "2022-08-08T13:05:55.484Z"
   },
   {
    "duration": 11429,
    "start_time": "2022-08-08T13:05:55.511Z"
   },
   {
    "duration": 0,
    "start_time": "2022-08-08T13:06:06.942Z"
   },
   {
    "duration": 0,
    "start_time": "2022-08-08T13:06:06.943Z"
   },
   {
    "duration": 0,
    "start_time": "2022-08-08T13:06:06.945Z"
   },
   {
    "duration": 0,
    "start_time": "2022-08-08T13:06:06.947Z"
   },
   {
    "duration": 0,
    "start_time": "2022-08-08T13:06:06.948Z"
   },
   {
    "duration": 0,
    "start_time": "2022-08-08T13:06:06.950Z"
   },
   {
    "duration": 0,
    "start_time": "2022-08-08T13:06:06.951Z"
   },
   {
    "duration": 0,
    "start_time": "2022-08-08T13:06:06.953Z"
   },
   {
    "duration": 0,
    "start_time": "2022-08-08T13:06:06.954Z"
   },
   {
    "duration": 0,
    "start_time": "2022-08-08T13:06:06.955Z"
   },
   {
    "duration": 0,
    "start_time": "2022-08-08T13:06:06.956Z"
   },
   {
    "duration": 18,
    "start_time": "2022-08-08T13:06:34.811Z"
   },
   {
    "duration": 18,
    "start_time": "2022-08-08T13:06:52.211Z"
   },
   {
    "duration": 9,
    "start_time": "2022-08-08T13:06:58.850Z"
   },
   {
    "duration": 804,
    "start_time": "2022-08-08T13:06:59.952Z"
   },
   {
    "duration": 36,
    "start_time": "2022-08-08T13:07:00.890Z"
   },
   {
    "duration": 3,
    "start_time": "2022-08-08T13:07:02.580Z"
   },
   {
    "duration": 3,
    "start_time": "2022-08-08T13:07:03.500Z"
   },
   {
    "duration": 6283,
    "start_time": "2022-08-08T13:07:04.052Z"
   },
   {
    "duration": 11,
    "start_time": "2022-08-08T13:07:10.338Z"
   },
   {
    "duration": 21,
    "start_time": "2022-08-08T13:07:10.351Z"
   },
   {
    "duration": 10942,
    "start_time": "2022-08-08T13:07:18.772Z"
   },
   {
    "duration": 16,
    "start_time": "2022-08-08T13:07:43.610Z"
   },
   {
    "duration": 6,
    "start_time": "2022-08-08T13:07:47.258Z"
   },
   {
    "duration": 2,
    "start_time": "2022-08-08T13:07:48.012Z"
   },
   {
    "duration": 426666,
    "start_time": "2022-08-08T13:07:49.252Z"
   },
   {
    "duration": 3,
    "start_time": "2022-08-08T13:14:55.919Z"
   },
   {
    "duration": 159828,
    "start_time": "2022-08-08T13:14:55.924Z"
   },
   {
    "duration": 3,
    "start_time": "2022-08-08T13:17:35.754Z"
   },
   {
    "duration": 63649,
    "start_time": "2022-08-08T13:19:50.310Z"
   },
   {
    "duration": 1334,
    "start_time": "2022-08-08T13:20:53.961Z"
   },
   {
    "duration": 38,
    "start_time": "2022-08-08T13:20:55.297Z"
   },
   {
    "duration": 4,
    "start_time": "2022-08-08T13:20:55.337Z"
   },
   {
    "duration": 7,
    "start_time": "2022-08-08T13:20:55.342Z"
   },
   {
    "duration": 7055,
    "start_time": "2022-08-08T13:20:55.350Z"
   },
   {
    "duration": 9,
    "start_time": "2022-08-08T13:21:02.407Z"
   },
   {
    "duration": 24,
    "start_time": "2022-08-08T13:21:02.418Z"
   },
   {
    "duration": 38,
    "start_time": "2022-08-08T13:21:02.444Z"
   },
   {
    "duration": 10725,
    "start_time": "2022-08-08T13:21:02.484Z"
   },
   {
    "duration": 4,
    "start_time": "2022-08-08T13:21:13.211Z"
   },
   {
    "duration": 5,
    "start_time": "2022-08-08T13:21:13.217Z"
   },
   {
    "duration": 209464,
    "start_time": "2022-08-08T13:21:13.224Z"
   },
   {
    "duration": 4,
    "start_time": "2022-08-08T13:26:41.757Z"
   },
   {
    "duration": 3,
    "start_time": "2022-08-08T13:26:50.848Z"
   },
   {
    "duration": 31114,
    "start_time": "2022-08-08T13:27:47.020Z"
   },
   {
    "duration": 251482,
    "start_time": "2022-08-08T13:28:45.856Z"
   },
   {
    "duration": 0,
    "start_time": "2022-08-08T13:32:57.340Z"
   },
   {
    "duration": 7,
    "start_time": "2022-08-08T13:33:32.097Z"
   },
   {
    "duration": 738,
    "start_time": "2022-08-08T13:33:32.945Z"
   },
   {
    "duration": 33,
    "start_time": "2022-08-08T13:33:33.686Z"
   },
   {
    "duration": 3,
    "start_time": "2022-08-08T13:33:33.798Z"
   },
   {
    "duration": 3,
    "start_time": "2022-08-08T13:33:35.655Z"
   },
   {
    "duration": 5513,
    "start_time": "2022-08-08T13:33:36.128Z"
   },
   {
    "duration": 9,
    "start_time": "2022-08-08T13:33:41.643Z"
   },
   {
    "duration": 22,
    "start_time": "2022-08-08T13:33:41.654Z"
   },
   {
    "duration": 37,
    "start_time": "2022-08-08T13:33:41.678Z"
   },
   {
    "duration": 10605,
    "start_time": "2022-08-08T13:33:41.718Z"
   },
   {
    "duration": 4,
    "start_time": "2022-08-08T13:33:52.325Z"
   },
   {
    "duration": 27,
    "start_time": "2022-08-08T13:33:52.330Z"
   },
   {
    "duration": 206480,
    "start_time": "2022-08-08T13:34:00.807Z"
   },
   {
    "duration": 4,
    "start_time": "2022-08-08T13:37:27.290Z"
   },
   {
    "duration": 16,
    "start_time": "2022-08-08T13:38:53.337Z"
   },
   {
    "duration": 86,
    "start_time": "2022-08-08T13:40:52.532Z"
   },
   {
    "duration": 5,
    "start_time": "2022-08-08T13:41:01.089Z"
   },
   {
    "duration": 2,
    "start_time": "2022-08-08T13:41:02.112Z"
   },
   {
    "duration": 1612,
    "start_time": "2022-08-08T14:03:07.438Z"
   },
   {
    "duration": 867,
    "start_time": "2022-08-08T14:03:13.026Z"
   },
   {
    "duration": 40,
    "start_time": "2022-08-08T14:03:13.935Z"
   },
   {
    "duration": 3,
    "start_time": "2022-08-08T14:03:17.145Z"
   },
   {
    "duration": 3,
    "start_time": "2022-08-08T14:03:17.655Z"
   },
   {
    "duration": 6678,
    "start_time": "2022-08-08T14:03:18.120Z"
   },
   {
    "duration": 15,
    "start_time": "2022-08-08T14:03:24.800Z"
   },
   {
    "duration": 11,
    "start_time": "2022-08-08T14:03:55.204Z"
   },
   {
    "duration": 24,
    "start_time": "2022-08-08T14:03:56.395Z"
   },
   {
    "duration": 10753,
    "start_time": "2022-08-08T14:04:08.248Z"
   },
   {
    "duration": 4,
    "start_time": "2022-08-08T14:04:19.008Z"
   },
   {
    "duration": 8,
    "start_time": "2022-08-08T14:04:19.014Z"
   },
   {
    "duration": 183876,
    "start_time": "2022-08-08T14:04:29.938Z"
   },
   {
    "duration": 11045,
    "start_time": "2022-08-08T14:08:12.093Z"
   },
   {
    "duration": 11097,
    "start_time": "2022-08-08T14:09:28.656Z"
   },
   {
    "duration": 40098,
    "start_time": "2022-08-08T14:09:58.021Z"
   },
   {
    "duration": 5,
    "start_time": "2022-08-08T14:11:12.771Z"
   },
   {
    "duration": 3,
    "start_time": "2022-08-08T14:11:13.638Z"
   },
   {
    "duration": 65291,
    "start_time": "2022-08-08T14:11:17.425Z"
   },
   {
    "duration": 11795,
    "start_time": "2022-08-08T14:13:47.455Z"
   },
   {
    "duration": 26428,
    "start_time": "2022-08-08T14:14:07.121Z"
   },
   {
    "duration": 86556,
    "start_time": "2022-08-08T14:15:05.727Z"
   },
   {
    "duration": 113,
    "start_time": "2022-08-08T14:17:59.781Z"
   },
   {
    "duration": 4,
    "start_time": "2022-08-08T14:18:02.809Z"
   },
   {
    "duration": 3,
    "start_time": "2022-08-08T14:18:05.452Z"
   },
   {
    "duration": 40789,
    "start_time": "2022-08-08T14:18:07.053Z"
   },
   {
    "duration": 0,
    "start_time": "2022-08-08T14:18:47.846Z"
   },
   {
    "duration": 32020,
    "start_time": "2022-08-08T14:19:01.853Z"
   },
   {
    "duration": 3,
    "start_time": "2022-08-08T14:20:01.333Z"
   },
   {
    "duration": 66275,
    "start_time": "2022-08-08T14:20:08.477Z"
   },
   {
    "duration": 2,
    "start_time": "2022-08-08T14:21:14.754Z"
   },
   {
    "duration": 11096,
    "start_time": "2022-08-08T14:21:14.757Z"
   },
   {
    "duration": 2,
    "start_time": "2022-08-08T14:21:25.857Z"
   },
   {
    "duration": 10,
    "start_time": "2022-08-08T14:21:25.861Z"
   },
   {
    "duration": 6,
    "start_time": "2022-08-08T14:21:25.873Z"
   },
   {
    "duration": 28,
    "start_time": "2022-08-08T14:21:25.881Z"
   },
   {
    "duration": 11035,
    "start_time": "2022-08-08T14:21:25.911Z"
   },
   {
    "duration": 178,
    "start_time": "2022-08-08T14:23:59.382Z"
   },
   {
    "duration": 8,
    "start_time": "2022-08-08T14:24:13.334Z"
   },
   {
    "duration": 49,
    "start_time": "2022-08-08T14:26:12.405Z"
   },
   {
    "duration": 37,
    "start_time": "2022-08-08T14:34:04.807Z"
   },
   {
    "duration": 734,
    "start_time": "2022-08-08T14:34:33.203Z"
   },
   {
    "duration": 12,
    "start_time": "2022-08-08T14:34:49.548Z"
   },
   {
    "duration": 295,
    "start_time": "2022-08-08T14:35:20.391Z"
   },
   {
    "duration": 13,
    "start_time": "2022-08-08T14:37:05.579Z"
   },
   {
    "duration": 525,
    "start_time": "2022-08-08T14:37:22.918Z"
   },
   {
    "duration": 5,
    "start_time": "2022-08-08T14:56:36.114Z"
   },
   {
    "duration": 6,
    "start_time": "2022-08-08T14:56:44.174Z"
   },
   {
    "duration": 7,
    "start_time": "2022-08-08T14:56:55.781Z"
   },
   {
    "duration": 745,
    "start_time": "2022-08-08T14:56:56.422Z"
   },
   {
    "duration": 36,
    "start_time": "2022-08-08T14:56:57.493Z"
   },
   {
    "duration": 5,
    "start_time": "2022-08-08T14:56:58.814Z"
   },
   {
    "duration": 1853,
    "start_time": "2022-08-08T18:32:27.771Z"
   },
   {
    "duration": 2496,
    "start_time": "2022-08-08T18:32:29.626Z"
   },
   {
    "duration": 35,
    "start_time": "2022-08-08T18:32:32.123Z"
   },
   {
    "duration": 6,
    "start_time": "2022-08-08T18:32:32.160Z"
   },
   {
    "duration": 4,
    "start_time": "2022-08-08T18:32:33.402Z"
   },
   {
    "duration": 4,
    "start_time": "2022-08-08T18:32:34.518Z"
   },
   {
    "duration": 6869,
    "start_time": "2022-08-08T18:32:35.719Z"
   },
   {
    "duration": 12,
    "start_time": "2022-08-08T18:32:42.590Z"
   },
   {
    "duration": 10,
    "start_time": "2022-08-08T18:32:42.603Z"
   },
   {
    "duration": 20,
    "start_time": "2022-08-08T18:32:42.614Z"
   },
   {
    "duration": 5,
    "start_time": "2022-08-08T18:32:42.635Z"
   },
   {
    "duration": 10390,
    "start_time": "2022-08-08T18:32:42.708Z"
   },
   {
    "duration": 4,
    "start_time": "2022-08-08T18:32:53.100Z"
   },
   {
    "duration": 6,
    "start_time": "2022-08-08T18:32:53.105Z"
   },
   {
    "duration": 10,
    "start_time": "2022-08-08T18:32:53.113Z"
   },
   {
    "duration": 33268,
    "start_time": "2022-08-08T18:32:53.125Z"
   },
   {
    "duration": 6,
    "start_time": "2022-08-08T18:33:26.395Z"
   },
   {
    "duration": 228930,
    "start_time": "2022-08-08T18:33:26.403Z"
   },
   {
    "duration": 3,
    "start_time": "2022-08-08T18:37:15.335Z"
   },
   {
    "duration": 11001,
    "start_time": "2022-08-08T18:37:15.340Z"
   },
   {
    "duration": 2,
    "start_time": "2022-08-08T18:37:26.344Z"
   },
   {
    "duration": 7,
    "start_time": "2022-08-08T18:37:26.348Z"
   },
   {
    "duration": 8,
    "start_time": "2022-08-08T18:37:26.356Z"
   },
   {
    "duration": 13,
    "start_time": "2022-08-08T18:37:26.366Z"
   },
   {
    "duration": 9,
    "start_time": "2022-08-08T18:39:19.305Z"
   },
   {
    "duration": 2,
    "start_time": "2022-08-08T18:39:20.888Z"
   },
   {
    "duration": 34139,
    "start_time": "2022-08-08T18:39:21.963Z"
   },
   {
    "duration": 3,
    "start_time": "2022-08-08T18:39:56.105Z"
   },
   {
    "duration": 121817,
    "start_time": "2022-08-08T18:39:56.110Z"
   },
   {
    "duration": 2,
    "start_time": "2022-08-08T18:41:57.929Z"
   },
   {
    "duration": 9020,
    "start_time": "2022-08-08T18:41:57.932Z"
   },
   {
    "duration": 3,
    "start_time": "2022-08-08T18:42:06.954Z"
   },
   {
    "duration": 7,
    "start_time": "2022-08-08T18:42:06.959Z"
   },
   {
    "duration": 5,
    "start_time": "2022-08-08T18:42:06.967Z"
   },
   {
    "duration": 31,
    "start_time": "2022-08-08T18:42:06.974Z"
   },
   {
    "duration": 9329,
    "start_time": "2022-08-08T18:42:07.007Z"
   },
   {
    "duration": 72,
    "start_time": "2022-08-08T18:42:16.338Z"
   },
   {
    "duration": 800,
    "start_time": "2022-08-08T18:42:16.412Z"
   },
   {
    "duration": 60,
    "start_time": "2022-08-08T18:43:33.722Z"
   },
   {
    "duration": 256,
    "start_time": "2022-08-08T18:46:32.044Z"
   },
   {
    "duration": 1838,
    "start_time": "2022-08-08T19:05:11.101Z"
   },
   {
    "duration": 848,
    "start_time": "2022-08-08T19:05:12.941Z"
   },
   {
    "duration": 36,
    "start_time": "2022-08-08T19:05:13.791Z"
   },
   {
    "duration": 5,
    "start_time": "2022-08-08T19:05:13.829Z"
   },
   {
    "duration": 90,
    "start_time": "2022-08-08T19:05:13.836Z"
   },
   {
    "duration": 6,
    "start_time": "2022-08-08T19:05:13.927Z"
   },
   {
    "duration": 7061,
    "start_time": "2022-08-08T19:05:13.935Z"
   },
   {
    "duration": 8,
    "start_time": "2022-08-08T19:05:20.998Z"
   },
   {
    "duration": 10,
    "start_time": "2022-08-08T19:05:21.008Z"
   },
   {
    "duration": 20,
    "start_time": "2022-08-08T19:05:21.021Z"
   },
   {
    "duration": 4,
    "start_time": "2022-08-08T19:05:21.043Z"
   },
   {
    "duration": 10528,
    "start_time": "2022-08-08T19:05:21.049Z"
   },
   {
    "duration": 4,
    "start_time": "2022-08-08T19:05:31.579Z"
   },
   {
    "duration": 9,
    "start_time": "2022-08-08T19:05:31.585Z"
   },
   {
    "duration": 8,
    "start_time": "2022-08-08T19:05:31.595Z"
   },
   {
    "duration": 32725,
    "start_time": "2022-08-08T19:05:31.605Z"
   },
   {
    "duration": 2,
    "start_time": "2022-08-08T19:06:04.332Z"
   },
   {
    "duration": 62491,
    "start_time": "2022-08-08T19:06:04.336Z"
   },
   {
    "duration": 3,
    "start_time": "2022-08-08T19:07:06.829Z"
   },
   {
    "duration": 10716,
    "start_time": "2022-08-08T19:07:06.834Z"
   },
   {
    "duration": 3,
    "start_time": "2022-08-08T19:07:17.551Z"
   },
   {
    "duration": 9,
    "start_time": "2022-08-08T19:07:17.556Z"
   },
   {
    "duration": 21,
    "start_time": "2022-08-08T19:07:17.566Z"
   },
   {
    "duration": 18,
    "start_time": "2022-08-08T19:07:17.588Z"
   },
   {
    "duration": 11223,
    "start_time": "2022-08-08T19:07:17.607Z"
   },
   {
    "duration": 68,
    "start_time": "2022-08-08T19:07:28.838Z"
   },
   {
    "duration": 280,
    "start_time": "2022-08-08T19:07:28.908Z"
   },
   {
    "duration": 52,
    "start_time": "2022-08-09T06:43:12.622Z"
   },
   {
    "duration": 1925,
    "start_time": "2022-08-09T06:48:38.081Z"
   },
   {
    "duration": 2512,
    "start_time": "2022-08-09T06:53:31.262Z"
   },
   {
    "duration": 35,
    "start_time": "2022-08-09T06:53:33.776Z"
   },
   {
    "duration": 5,
    "start_time": "2022-08-09T06:53:33.812Z"
   },
   {
    "duration": 4,
    "start_time": "2022-08-09T06:53:37.970Z"
   },
   {
    "duration": 3,
    "start_time": "2022-08-09T06:53:47.235Z"
   },
   {
    "duration": 141875,
    "start_time": "2022-08-09T06:53:49.583Z"
   },
   {
    "duration": 9,
    "start_time": "2022-08-09T06:57:11.519Z"
   },
   {
    "duration": 7,
    "start_time": "2022-08-09T06:59:17.124Z"
   },
   {
    "duration": 8,
    "start_time": "2022-08-09T06:59:19.154Z"
   },
   {
    "duration": 761,
    "start_time": "2022-08-09T06:59:20.541Z"
   },
   {
    "duration": 34,
    "start_time": "2022-08-09T06:59:21.308Z"
   },
   {
    "duration": 5,
    "start_time": "2022-08-09T06:59:21.890Z"
   },
   {
    "duration": 3,
    "start_time": "2022-08-09T06:59:24.283Z"
   },
   {
    "duration": 2,
    "start_time": "2022-08-09T06:59:27.705Z"
   },
   {
    "duration": 80368,
    "start_time": "2022-08-09T06:59:29.341Z"
   },
   {
    "duration": 9,
    "start_time": "2022-08-09T07:01:37.894Z"
   },
   {
    "duration": 7,
    "start_time": "2022-08-09T07:08:09.372Z"
   },
   {
    "duration": 738,
    "start_time": "2022-08-09T07:08:10.509Z"
   },
   {
    "duration": 31,
    "start_time": "2022-08-09T07:08:11.249Z"
   },
   {
    "duration": 5,
    "start_time": "2022-08-09T07:08:11.368Z"
   },
   {
    "duration": 4,
    "start_time": "2022-08-09T07:08:14.667Z"
   },
   {
    "duration": 4,
    "start_time": "2022-08-09T07:08:17.352Z"
   },
   {
    "duration": 80209,
    "start_time": "2022-08-09T07:08:19.180Z"
   },
   {
    "duration": 8,
    "start_time": "2022-08-09T07:10:24.251Z"
   },
   {
    "duration": 10,
    "start_time": "2022-08-09T07:10:33.693Z"
   },
   {
    "duration": 23,
    "start_time": "2022-08-09T07:10:35.219Z"
   },
   {
    "duration": 5,
    "start_time": "2022-08-09T07:10:37.192Z"
   },
   {
    "duration": 6148,
    "start_time": "2022-08-09T07:10:49.204Z"
   },
   {
    "duration": 4,
    "start_time": "2022-08-09T07:10:58.264Z"
   },
   {
    "duration": 4,
    "start_time": "2022-08-09T07:11:15.413Z"
   },
   {
    "duration": 3,
    "start_time": "2022-08-09T07:11:16.610Z"
   },
   {
    "duration": 31378,
    "start_time": "2022-08-09T07:11:18.384Z"
   },
   {
    "duration": 3,
    "start_time": "2022-08-09T07:12:09.905Z"
   },
   {
    "duration": 58778,
    "start_time": "2022-08-09T07:12:11.672Z"
   },
   {
    "duration": 3,
    "start_time": "2022-08-09T07:13:10.452Z"
   },
   {
    "duration": 12098,
    "start_time": "2022-08-09T07:13:10.456Z"
   },
   {
    "duration": 3,
    "start_time": "2022-08-09T07:13:22.555Z"
   },
   {
    "duration": 4,
    "start_time": "2022-08-09T07:14:51.942Z"
   },
   {
    "duration": 3,
    "start_time": "2022-08-09T07:14:52.584Z"
   },
   {
    "duration": 11,
    "start_time": "2022-08-09T07:14:54.171Z"
   },
   {
    "duration": 11909,
    "start_time": "2022-08-09T07:15:11.745Z"
   },
   {
    "duration": 54,
    "start_time": "2022-08-09T07:15:29.724Z"
   },
   {
    "duration": 347,
    "start_time": "2022-08-09T07:15:34.774Z"
   }
  ],
  "kernelspec": {
   "display_name": "Python 3 (ipykernel)",
   "language": "python",
   "name": "python3"
  },
  "language_info": {
   "codemirror_mode": {
    "name": "ipython",
    "version": 3
   },
   "file_extension": ".py",
   "mimetype": "text/x-python",
   "name": "python",
   "nbconvert_exporter": "python",
   "pygments_lexer": "ipython3",
   "version": "3.9.5"
  },
  "toc": {
   "base_numbering": 1,
   "nav_menu": {},
   "number_sections": true,
   "sideBar": true,
   "skip_h1_title": true,
   "title_cell": "Содержание",
   "title_sidebar": "Contents",
   "toc_cell": true,
   "toc_position": {
    "height": "calc(100% - 180px)",
    "left": "10px",
    "top": "150px",
    "width": "302.391px"
   },
   "toc_section_display": true,
   "toc_window_display": false
  }
 },
 "nbformat": 4,
 "nbformat_minor": 2
}
