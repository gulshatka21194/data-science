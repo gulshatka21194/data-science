{
 "cells": [
  {
   "cell_type": "markdown",
   "metadata": {
    "toc": true
   },
   "source": [
    "<h1>Содержание<span class=\"tocSkip\"></span></h1>\n",
    "<div class=\"toc\"><ul class=\"toc-item\"><li><span><a href=\"#Подготовка-данных\" data-toc-modified-id=\"Подготовка-данных-1\"><span class=\"toc-item-num\">1&nbsp;&nbsp;</span>Подготовка данных</a></span><ul class=\"toc-item\"><li><span><a href=\"#Предобработка-данных\" data-toc-modified-id=\"Предобработка-данных-1.1\"><span class=\"toc-item-num\">1.1&nbsp;&nbsp;</span>Предобработка данных</a></span></li><li><span><a href=\"#Кодирование-данных\" data-toc-modified-id=\"Кодирование-данных-1.2\"><span class=\"toc-item-num\">1.2&nbsp;&nbsp;</span>Кодирование данных</a></span></li></ul></li><li><span><a href=\"#Обучение-моделей\" data-toc-modified-id=\"Обучение-моделей-2\"><span class=\"toc-item-num\">2&nbsp;&nbsp;</span>Обучение моделей</a></span></li><li><span><a href=\"#Анализ-моделей\" data-toc-modified-id=\"Анализ-моделей-3\"><span class=\"toc-item-num\">3&nbsp;&nbsp;</span>Анализ моделей</a></span></li><li><span><a href=\"#Общий-вывод\" data-toc-modified-id=\"Общий-вывод-4\"><span class=\"toc-item-num\">4&nbsp;&nbsp;</span>Общий вывод</a></span></li></ul></div>"
   ]
  },
  {
   "cell_type": "markdown",
   "metadata": {},
   "source": [
    "# Определение стоимости автомобилей"
   ]
  },
  {
   "cell_type": "markdown",
   "metadata": {},
   "source": [
    "## Подготовка данных"
   ]
  },
  {
   "cell_type": "code",
   "execution_count": 1,
   "metadata": {},
   "outputs": [],
   "source": [
    "from sklearn.model_selection import train_test_split #импортируем функцию train_test_split\n",
    "from sklearn.linear_model import LinearRegression #импортируем библиотеку LinearRegression\n",
    "from sklearn.tree import DecisionTreeRegressor #импортируем библиотеку DecisionTreeRegressor\n",
    "from sklearn.ensemble import RandomForestRegressor #импортируем библиотеку RandomForestRegressor\n",
    "from sklearn.model_selection import cross_val_score #импортируем cross_val_score\n",
    "from sklearn.preprocessing import OrdinalEncoder #импортируем библиотеку OrdinalEncoder\n",
    "from sklearn.model_selection import GridSearchCV #импортируем функцию GridSearchCV\n",
    "from sklearn.model_selection import RandomizedSearchCV #импортируем функцию RandomizedSearchCV\n",
    "from lightgbm import LGBMRegressor #импортируем библиотеку LGBMRegressor\n",
    "from catboost import CatBoostRegressor #импортируем библиотеку CatBoostRegressor\n",
    "\n",
    "import pandas as pd, numpy as np #импортируем библиотеки pandas\n",
    "import time #импортируем библиотеку time\n",
    "import matplotlib.pyplot as plt #импортируем matplotlib.pyplot\n",
    "import warnings #импортируем библиотеку warnings\n",
    "warnings.filterwarnings('ignore')"
   ]
  },
  {
   "cell_type": "code",
   "execution_count": 2,
   "metadata": {},
   "outputs": [],
   "source": [
    "data = pd.read_csv('/datasets/autos.csv') #считаем файл с данными и сохраним в data"
   ]
  },
  {
   "cell_type": "code",
   "execution_count": 3,
   "metadata": {},
   "outputs": [
    {
     "data": {
      "text/html": [
       "<div>\n",
       "<style scoped>\n",
       "    .dataframe tbody tr th:only-of-type {\n",
       "        vertical-align: middle;\n",
       "    }\n",
       "\n",
       "    .dataframe tbody tr th {\n",
       "        vertical-align: top;\n",
       "    }\n",
       "\n",
       "    .dataframe thead th {\n",
       "        text-align: right;\n",
       "    }\n",
       "</style>\n",
       "<table border=\"1\" class=\"dataframe\">\n",
       "  <thead>\n",
       "    <tr style=\"text-align: right;\">\n",
       "      <th></th>\n",
       "      <th>DateCrawled</th>\n",
       "      <th>Price</th>\n",
       "      <th>VehicleType</th>\n",
       "      <th>RegistrationYear</th>\n",
       "      <th>Gearbox</th>\n",
       "      <th>Power</th>\n",
       "      <th>Model</th>\n",
       "      <th>Kilometer</th>\n",
       "      <th>RegistrationMonth</th>\n",
       "      <th>FuelType</th>\n",
       "      <th>Brand</th>\n",
       "      <th>NotRepaired</th>\n",
       "      <th>DateCreated</th>\n",
       "      <th>NumberOfPictures</th>\n",
       "      <th>PostalCode</th>\n",
       "      <th>LastSeen</th>\n",
       "    </tr>\n",
       "  </thead>\n",
       "  <tbody>\n",
       "    <tr>\n",
       "      <th>0</th>\n",
       "      <td>2016-03-24 11:52:17</td>\n",
       "      <td>480</td>\n",
       "      <td>NaN</td>\n",
       "      <td>1993</td>\n",
       "      <td>manual</td>\n",
       "      <td>0</td>\n",
       "      <td>golf</td>\n",
       "      <td>150000</td>\n",
       "      <td>0</td>\n",
       "      <td>petrol</td>\n",
       "      <td>volkswagen</td>\n",
       "      <td>NaN</td>\n",
       "      <td>2016-03-24 00:00:00</td>\n",
       "      <td>0</td>\n",
       "      <td>70435</td>\n",
       "      <td>2016-04-07 03:16:57</td>\n",
       "    </tr>\n",
       "    <tr>\n",
       "      <th>1</th>\n",
       "      <td>2016-03-24 10:58:45</td>\n",
       "      <td>18300</td>\n",
       "      <td>coupe</td>\n",
       "      <td>2011</td>\n",
       "      <td>manual</td>\n",
       "      <td>190</td>\n",
       "      <td>NaN</td>\n",
       "      <td>125000</td>\n",
       "      <td>5</td>\n",
       "      <td>gasoline</td>\n",
       "      <td>audi</td>\n",
       "      <td>yes</td>\n",
       "      <td>2016-03-24 00:00:00</td>\n",
       "      <td>0</td>\n",
       "      <td>66954</td>\n",
       "      <td>2016-04-07 01:46:50</td>\n",
       "    </tr>\n",
       "    <tr>\n",
       "      <th>2</th>\n",
       "      <td>2016-03-14 12:52:21</td>\n",
       "      <td>9800</td>\n",
       "      <td>suv</td>\n",
       "      <td>2004</td>\n",
       "      <td>auto</td>\n",
       "      <td>163</td>\n",
       "      <td>grand</td>\n",
       "      <td>125000</td>\n",
       "      <td>8</td>\n",
       "      <td>gasoline</td>\n",
       "      <td>jeep</td>\n",
       "      <td>NaN</td>\n",
       "      <td>2016-03-14 00:00:00</td>\n",
       "      <td>0</td>\n",
       "      <td>90480</td>\n",
       "      <td>2016-04-05 12:47:46</td>\n",
       "    </tr>\n",
       "    <tr>\n",
       "      <th>3</th>\n",
       "      <td>2016-03-17 16:54:04</td>\n",
       "      <td>1500</td>\n",
       "      <td>small</td>\n",
       "      <td>2001</td>\n",
       "      <td>manual</td>\n",
       "      <td>75</td>\n",
       "      <td>golf</td>\n",
       "      <td>150000</td>\n",
       "      <td>6</td>\n",
       "      <td>petrol</td>\n",
       "      <td>volkswagen</td>\n",
       "      <td>no</td>\n",
       "      <td>2016-03-17 00:00:00</td>\n",
       "      <td>0</td>\n",
       "      <td>91074</td>\n",
       "      <td>2016-03-17 17:40:17</td>\n",
       "    </tr>\n",
       "    <tr>\n",
       "      <th>4</th>\n",
       "      <td>2016-03-31 17:25:20</td>\n",
       "      <td>3600</td>\n",
       "      <td>small</td>\n",
       "      <td>2008</td>\n",
       "      <td>manual</td>\n",
       "      <td>69</td>\n",
       "      <td>fabia</td>\n",
       "      <td>90000</td>\n",
       "      <td>7</td>\n",
       "      <td>gasoline</td>\n",
       "      <td>skoda</td>\n",
       "      <td>no</td>\n",
       "      <td>2016-03-31 00:00:00</td>\n",
       "      <td>0</td>\n",
       "      <td>60437</td>\n",
       "      <td>2016-04-06 10:17:21</td>\n",
       "    </tr>\n",
       "    <tr>\n",
       "      <th>5</th>\n",
       "      <td>2016-04-04 17:36:23</td>\n",
       "      <td>650</td>\n",
       "      <td>sedan</td>\n",
       "      <td>1995</td>\n",
       "      <td>manual</td>\n",
       "      <td>102</td>\n",
       "      <td>3er</td>\n",
       "      <td>150000</td>\n",
       "      <td>10</td>\n",
       "      <td>petrol</td>\n",
       "      <td>bmw</td>\n",
       "      <td>yes</td>\n",
       "      <td>2016-04-04 00:00:00</td>\n",
       "      <td>0</td>\n",
       "      <td>33775</td>\n",
       "      <td>2016-04-06 19:17:07</td>\n",
       "    </tr>\n",
       "    <tr>\n",
       "      <th>6</th>\n",
       "      <td>2016-04-01 20:48:51</td>\n",
       "      <td>2200</td>\n",
       "      <td>convertible</td>\n",
       "      <td>2004</td>\n",
       "      <td>manual</td>\n",
       "      <td>109</td>\n",
       "      <td>2_reihe</td>\n",
       "      <td>150000</td>\n",
       "      <td>8</td>\n",
       "      <td>petrol</td>\n",
       "      <td>peugeot</td>\n",
       "      <td>no</td>\n",
       "      <td>2016-04-01 00:00:00</td>\n",
       "      <td>0</td>\n",
       "      <td>67112</td>\n",
       "      <td>2016-04-05 18:18:39</td>\n",
       "    </tr>\n",
       "    <tr>\n",
       "      <th>7</th>\n",
       "      <td>2016-03-21 18:54:38</td>\n",
       "      <td>0</td>\n",
       "      <td>sedan</td>\n",
       "      <td>1980</td>\n",
       "      <td>manual</td>\n",
       "      <td>50</td>\n",
       "      <td>other</td>\n",
       "      <td>40000</td>\n",
       "      <td>7</td>\n",
       "      <td>petrol</td>\n",
       "      <td>volkswagen</td>\n",
       "      <td>no</td>\n",
       "      <td>2016-03-21 00:00:00</td>\n",
       "      <td>0</td>\n",
       "      <td>19348</td>\n",
       "      <td>2016-03-25 16:47:58</td>\n",
       "    </tr>\n",
       "    <tr>\n",
       "      <th>8</th>\n",
       "      <td>2016-04-04 23:42:13</td>\n",
       "      <td>14500</td>\n",
       "      <td>bus</td>\n",
       "      <td>2014</td>\n",
       "      <td>manual</td>\n",
       "      <td>125</td>\n",
       "      <td>c_max</td>\n",
       "      <td>30000</td>\n",
       "      <td>8</td>\n",
       "      <td>petrol</td>\n",
       "      <td>ford</td>\n",
       "      <td>NaN</td>\n",
       "      <td>2016-04-04 00:00:00</td>\n",
       "      <td>0</td>\n",
       "      <td>94505</td>\n",
       "      <td>2016-04-04 23:42:13</td>\n",
       "    </tr>\n",
       "    <tr>\n",
       "      <th>9</th>\n",
       "      <td>2016-03-17 10:53:50</td>\n",
       "      <td>999</td>\n",
       "      <td>small</td>\n",
       "      <td>1998</td>\n",
       "      <td>manual</td>\n",
       "      <td>101</td>\n",
       "      <td>golf</td>\n",
       "      <td>150000</td>\n",
       "      <td>0</td>\n",
       "      <td>NaN</td>\n",
       "      <td>volkswagen</td>\n",
       "      <td>NaN</td>\n",
       "      <td>2016-03-17 00:00:00</td>\n",
       "      <td>0</td>\n",
       "      <td>27472</td>\n",
       "      <td>2016-03-31 17:17:06</td>\n",
       "    </tr>\n",
       "  </tbody>\n",
       "</table>\n",
       "</div>"
      ],
      "text/plain": [
       "           DateCrawled  Price  VehicleType  RegistrationYear Gearbox  Power  \\\n",
       "0  2016-03-24 11:52:17    480          NaN              1993  manual      0   \n",
       "1  2016-03-24 10:58:45  18300        coupe              2011  manual    190   \n",
       "2  2016-03-14 12:52:21   9800          suv              2004    auto    163   \n",
       "3  2016-03-17 16:54:04   1500        small              2001  manual     75   \n",
       "4  2016-03-31 17:25:20   3600        small              2008  manual     69   \n",
       "5  2016-04-04 17:36:23    650        sedan              1995  manual    102   \n",
       "6  2016-04-01 20:48:51   2200  convertible              2004  manual    109   \n",
       "7  2016-03-21 18:54:38      0        sedan              1980  manual     50   \n",
       "8  2016-04-04 23:42:13  14500          bus              2014  manual    125   \n",
       "9  2016-03-17 10:53:50    999        small              1998  manual    101   \n",
       "\n",
       "     Model  Kilometer  RegistrationMonth  FuelType       Brand NotRepaired  \\\n",
       "0     golf     150000                  0    petrol  volkswagen         NaN   \n",
       "1      NaN     125000                  5  gasoline        audi         yes   \n",
       "2    grand     125000                  8  gasoline        jeep         NaN   \n",
       "3     golf     150000                  6    petrol  volkswagen          no   \n",
       "4    fabia      90000                  7  gasoline       skoda          no   \n",
       "5      3er     150000                 10    petrol         bmw         yes   \n",
       "6  2_reihe     150000                  8    petrol     peugeot          no   \n",
       "7    other      40000                  7    petrol  volkswagen          no   \n",
       "8    c_max      30000                  8    petrol        ford         NaN   \n",
       "9     golf     150000                  0       NaN  volkswagen         NaN   \n",
       "\n",
       "           DateCreated  NumberOfPictures  PostalCode             LastSeen  \n",
       "0  2016-03-24 00:00:00                 0       70435  2016-04-07 03:16:57  \n",
       "1  2016-03-24 00:00:00                 0       66954  2016-04-07 01:46:50  \n",
       "2  2016-03-14 00:00:00                 0       90480  2016-04-05 12:47:46  \n",
       "3  2016-03-17 00:00:00                 0       91074  2016-03-17 17:40:17  \n",
       "4  2016-03-31 00:00:00                 0       60437  2016-04-06 10:17:21  \n",
       "5  2016-04-04 00:00:00                 0       33775  2016-04-06 19:17:07  \n",
       "6  2016-04-01 00:00:00                 0       67112  2016-04-05 18:18:39  \n",
       "7  2016-03-21 00:00:00                 0       19348  2016-03-25 16:47:58  \n",
       "8  2016-04-04 00:00:00                 0       94505  2016-04-04 23:42:13  \n",
       "9  2016-03-17 00:00:00                 0       27472  2016-03-31 17:17:06  "
      ]
     },
     "metadata": {},
     "output_type": "display_data"
    },
    {
     "name": "stdout",
     "output_type": "stream",
     "text": [
      "<class 'pandas.core.frame.DataFrame'>\n",
      "RangeIndex: 354369 entries, 0 to 354368\n",
      "Data columns (total 16 columns):\n",
      " #   Column             Non-Null Count   Dtype \n",
      "---  ------             --------------   ----- \n",
      " 0   DateCrawled        354369 non-null  object\n",
      " 1   Price              354369 non-null  int64 \n",
      " 2   VehicleType        316879 non-null  object\n",
      " 3   RegistrationYear   354369 non-null  int64 \n",
      " 4   Gearbox            334536 non-null  object\n",
      " 5   Power              354369 non-null  int64 \n",
      " 6   Model              334664 non-null  object\n",
      " 7   Kilometer          354369 non-null  int64 \n",
      " 8   RegistrationMonth  354369 non-null  int64 \n",
      " 9   FuelType           321474 non-null  object\n",
      " 10  Brand              354369 non-null  object\n",
      " 11  NotRepaired        283215 non-null  object\n",
      " 12  DateCreated        354369 non-null  object\n",
      " 13  NumberOfPictures   354369 non-null  int64 \n",
      " 14  PostalCode         354369 non-null  int64 \n",
      " 15  LastSeen           354369 non-null  object\n",
      "dtypes: int64(7), object(9)\n",
      "memory usage: 43.3+ MB\n"
     ]
    },
    {
     "data": {
      "text/html": [
       "<div>\n",
       "<style scoped>\n",
       "    .dataframe tbody tr th:only-of-type {\n",
       "        vertical-align: middle;\n",
       "    }\n",
       "\n",
       "    .dataframe tbody tr th {\n",
       "        vertical-align: top;\n",
       "    }\n",
       "\n",
       "    .dataframe thead th {\n",
       "        text-align: right;\n",
       "    }\n",
       "</style>\n",
       "<table border=\"1\" class=\"dataframe\">\n",
       "  <thead>\n",
       "    <tr style=\"text-align: right;\">\n",
       "      <th></th>\n",
       "      <th>Price</th>\n",
       "      <th>RegistrationYear</th>\n",
       "      <th>Power</th>\n",
       "      <th>Kilometer</th>\n",
       "      <th>RegistrationMonth</th>\n",
       "      <th>NumberOfPictures</th>\n",
       "      <th>PostalCode</th>\n",
       "    </tr>\n",
       "  </thead>\n",
       "  <tbody>\n",
       "    <tr>\n",
       "      <th>count</th>\n",
       "      <td>354369.000000</td>\n",
       "      <td>354369.000000</td>\n",
       "      <td>354369.000000</td>\n",
       "      <td>354369.000000</td>\n",
       "      <td>354369.000000</td>\n",
       "      <td>354369.0</td>\n",
       "      <td>354369.000000</td>\n",
       "    </tr>\n",
       "    <tr>\n",
       "      <th>mean</th>\n",
       "      <td>4416.656776</td>\n",
       "      <td>2004.234448</td>\n",
       "      <td>110.094337</td>\n",
       "      <td>128211.172535</td>\n",
       "      <td>5.714645</td>\n",
       "      <td>0.0</td>\n",
       "      <td>50508.689087</td>\n",
       "    </tr>\n",
       "    <tr>\n",
       "      <th>std</th>\n",
       "      <td>4514.158514</td>\n",
       "      <td>90.227958</td>\n",
       "      <td>189.850405</td>\n",
       "      <td>37905.341530</td>\n",
       "      <td>3.726421</td>\n",
       "      <td>0.0</td>\n",
       "      <td>25783.096248</td>\n",
       "    </tr>\n",
       "    <tr>\n",
       "      <th>min</th>\n",
       "      <td>0.000000</td>\n",
       "      <td>1000.000000</td>\n",
       "      <td>0.000000</td>\n",
       "      <td>5000.000000</td>\n",
       "      <td>0.000000</td>\n",
       "      <td>0.0</td>\n",
       "      <td>1067.000000</td>\n",
       "    </tr>\n",
       "    <tr>\n",
       "      <th>25%</th>\n",
       "      <td>1050.000000</td>\n",
       "      <td>1999.000000</td>\n",
       "      <td>69.000000</td>\n",
       "      <td>125000.000000</td>\n",
       "      <td>3.000000</td>\n",
       "      <td>0.0</td>\n",
       "      <td>30165.000000</td>\n",
       "    </tr>\n",
       "    <tr>\n",
       "      <th>50%</th>\n",
       "      <td>2700.000000</td>\n",
       "      <td>2003.000000</td>\n",
       "      <td>105.000000</td>\n",
       "      <td>150000.000000</td>\n",
       "      <td>6.000000</td>\n",
       "      <td>0.0</td>\n",
       "      <td>49413.000000</td>\n",
       "    </tr>\n",
       "    <tr>\n",
       "      <th>75%</th>\n",
       "      <td>6400.000000</td>\n",
       "      <td>2008.000000</td>\n",
       "      <td>143.000000</td>\n",
       "      <td>150000.000000</td>\n",
       "      <td>9.000000</td>\n",
       "      <td>0.0</td>\n",
       "      <td>71083.000000</td>\n",
       "    </tr>\n",
       "    <tr>\n",
       "      <th>max</th>\n",
       "      <td>20000.000000</td>\n",
       "      <td>9999.000000</td>\n",
       "      <td>20000.000000</td>\n",
       "      <td>150000.000000</td>\n",
       "      <td>12.000000</td>\n",
       "      <td>0.0</td>\n",
       "      <td>99998.000000</td>\n",
       "    </tr>\n",
       "  </tbody>\n",
       "</table>\n",
       "</div>"
      ],
      "text/plain": [
       "               Price  RegistrationYear          Power      Kilometer  \\\n",
       "count  354369.000000     354369.000000  354369.000000  354369.000000   \n",
       "mean     4416.656776       2004.234448     110.094337  128211.172535   \n",
       "std      4514.158514         90.227958     189.850405   37905.341530   \n",
       "min         0.000000       1000.000000       0.000000    5000.000000   \n",
       "25%      1050.000000       1999.000000      69.000000  125000.000000   \n",
       "50%      2700.000000       2003.000000     105.000000  150000.000000   \n",
       "75%      6400.000000       2008.000000     143.000000  150000.000000   \n",
       "max     20000.000000       9999.000000   20000.000000  150000.000000   \n",
       "\n",
       "       RegistrationMonth  NumberOfPictures     PostalCode  \n",
       "count      354369.000000          354369.0  354369.000000  \n",
       "mean            5.714645               0.0   50508.689087  \n",
       "std             3.726421               0.0   25783.096248  \n",
       "min             0.000000               0.0    1067.000000  \n",
       "25%             3.000000               0.0   30165.000000  \n",
       "50%             6.000000               0.0   49413.000000  \n",
       "75%             9.000000               0.0   71083.000000  \n",
       "max            12.000000               0.0   99998.000000  "
      ]
     },
     "metadata": {},
     "output_type": "display_data"
    },
    {
     "data": {
      "text/plain": [
       "'Доля пропущенных значений:'"
      ]
     },
     "metadata": {},
     "output_type": "display_data"
    },
    {
     "data": {
      "text/plain": [
       "DateCrawled          0.000000\n",
       "Price                0.000000\n",
       "VehicleType          0.105794\n",
       "RegistrationYear     0.000000\n",
       "Gearbox              0.055967\n",
       "Power                0.000000\n",
       "Model                0.055606\n",
       "Kilometer            0.000000\n",
       "RegistrationMonth    0.000000\n",
       "FuelType             0.092827\n",
       "Brand                0.000000\n",
       "NotRepaired          0.200791\n",
       "DateCreated          0.000000\n",
       "NumberOfPictures     0.000000\n",
       "PostalCode           0.000000\n",
       "LastSeen             0.000000\n",
       "dtype: float64"
      ]
     },
     "metadata": {},
     "output_type": "display_data"
    }
   ],
   "source": [
    "display(data.head(10)) #получим первые 10 строк таблицы\n",
    "data.info() #получим общую информацию о данных в таблице\n",
    "display(data.describe()) #получим также разброс значений, максимум, минимум, среднее и медиану\n",
    "display(\"Доля пропущенных значений:\", data.isna().mean()) #получим долю пропущенных значений среди всех данных"
   ]
  },
  {
   "cell_type": "markdown",
   "metadata": {},
   "source": [
    "###### Вывод"
   ]
  },
  {
   "cell_type": "markdown",
   "metadata": {},
   "source": [
    "В таблице 16 столбцов. Типы данных в столбцах — object, int64.\n",
    "\n",
    "Согласно документации к данным:\n",
    "    \n",
    "    DateCrawled — дата скачивания анкеты из базы\n",
    "    VehicleType — тип автомобильного кузова\n",
    "    RegistrationYear — год регистрации автомобиля\n",
    "    Gearbox — тип коробки передач\n",
    "    Power — мощность (л. с.)\n",
    "    Model — модель автомобиля\n",
    "    Kilometer — пробег (км)\n",
    "    RegistrationMonth — месяц регистрации автомобиля\n",
    "    FuelType — тип топлива\n",
    "    Brand — марка автомобиля\n",
    "    NotRepaired — была машина в ремонте или нет\n",
    "    DateCreated — дата создания анкеты\n",
    "    NumberOfPictures — количество фотографий автомобиля\n",
    "    PostalCode — почтовый индекс владельца анкеты (пользователя)\n",
    "    LastSeen — дата последней активности пользователя\n",
    "\n",
    "Количество значений в столбцах различается. Значит, в данных есть пропущенные значения. Конкретно в столбцах - VehicleType, Gearbox, Model, FuelType и NotRepaired.\n",
    "В каждой строке таблицы — данные об автомобиле и его цене.\n",
    "Чтобы двигаться дальше, нужно устранить эти проблемы."
   ]
  },
  {
   "cell_type": "markdown",
   "metadata": {},
   "source": [
    "### Предобработка данных"
   ]
  },
  {
   "cell_type": "markdown",
   "metadata": {},
   "source": [
    "Удалим столбцы с датой создания анкеты, датой скачивания анкеты из базы, количеством фотографий автомобиля и датой последней активности пользователя, так как эти данные не нужны для построения модели определения стоимости автомобиля."
   ]
  },
  {
   "cell_type": "code",
   "execution_count": 4,
   "metadata": {},
   "outputs": [],
   "source": [
    "data = data.drop(['DateCrawled', 'DateCreated', 'LastSeen', 'NumberOfPictures'], axis=1) # #удалим столбцы 'DateCrawled', 'DateCreated', 'LastSeen', 'NumberOfPictures'"
   ]
  },
  {
   "cell_type": "markdown",
   "metadata": {},
   "source": [
    "Отсортировав по марке и модели автомобиля, заполним тип автомобильного кузова методами 'ffill','bfill', т.е. заполнение предыдущим и последующим значением.\n",
    "\n",
    "Пропуски в столбце NotRepaired заполним значением 'unknown'."
   ]
  },
  {
   "cell_type": "code",
   "execution_count": 5,
   "metadata": {},
   "outputs": [
    {
     "data": {
      "text/html": [
       "<div>\n",
       "<style scoped>\n",
       "    .dataframe tbody tr th:only-of-type {\n",
       "        vertical-align: middle;\n",
       "    }\n",
       "\n",
       "    .dataframe tbody tr th {\n",
       "        vertical-align: top;\n",
       "    }\n",
       "\n",
       "    .dataframe thead th {\n",
       "        text-align: right;\n",
       "    }\n",
       "</style>\n",
       "<table border=\"1\" class=\"dataframe\">\n",
       "  <thead>\n",
       "    <tr style=\"text-align: right;\">\n",
       "      <th></th>\n",
       "      <th>Price</th>\n",
       "      <th>VehicleType</th>\n",
       "      <th>RegistrationYear</th>\n",
       "      <th>Gearbox</th>\n",
       "      <th>Power</th>\n",
       "      <th>Model</th>\n",
       "      <th>Kilometer</th>\n",
       "      <th>RegistrationMonth</th>\n",
       "      <th>FuelType</th>\n",
       "      <th>Brand</th>\n",
       "      <th>NotRepaired</th>\n",
       "      <th>PostalCode</th>\n",
       "    </tr>\n",
       "  </thead>\n",
       "  <tbody>\n",
       "    <tr>\n",
       "      <th>0</th>\n",
       "      <td>480</td>\n",
       "      <td>small</td>\n",
       "      <td>1993</td>\n",
       "      <td>manual</td>\n",
       "      <td>0</td>\n",
       "      <td>golf</td>\n",
       "      <td>150000</td>\n",
       "      <td>0</td>\n",
       "      <td>petrol</td>\n",
       "      <td>volkswagen</td>\n",
       "      <td>unknown</td>\n",
       "      <td>70435</td>\n",
       "    </tr>\n",
       "    <tr>\n",
       "      <th>1</th>\n",
       "      <td>18300</td>\n",
       "      <td>NaN</td>\n",
       "      <td>2011</td>\n",
       "      <td>manual</td>\n",
       "      <td>190</td>\n",
       "      <td>NaN</td>\n",
       "      <td>125000</td>\n",
       "      <td>5</td>\n",
       "      <td>gasoline</td>\n",
       "      <td>audi</td>\n",
       "      <td>yes</td>\n",
       "      <td>66954</td>\n",
       "    </tr>\n",
       "    <tr>\n",
       "      <th>2</th>\n",
       "      <td>9800</td>\n",
       "      <td>suv</td>\n",
       "      <td>2004</td>\n",
       "      <td>auto</td>\n",
       "      <td>163</td>\n",
       "      <td>grand</td>\n",
       "      <td>125000</td>\n",
       "      <td>8</td>\n",
       "      <td>gasoline</td>\n",
       "      <td>jeep</td>\n",
       "      <td>unknown</td>\n",
       "      <td>90480</td>\n",
       "    </tr>\n",
       "    <tr>\n",
       "      <th>3</th>\n",
       "      <td>1500</td>\n",
       "      <td>small</td>\n",
       "      <td>2001</td>\n",
       "      <td>manual</td>\n",
       "      <td>75</td>\n",
       "      <td>golf</td>\n",
       "      <td>150000</td>\n",
       "      <td>6</td>\n",
       "      <td>petrol</td>\n",
       "      <td>volkswagen</td>\n",
       "      <td>no</td>\n",
       "      <td>91074</td>\n",
       "    </tr>\n",
       "    <tr>\n",
       "      <th>4</th>\n",
       "      <td>3600</td>\n",
       "      <td>small</td>\n",
       "      <td>2008</td>\n",
       "      <td>manual</td>\n",
       "      <td>69</td>\n",
       "      <td>fabia</td>\n",
       "      <td>90000</td>\n",
       "      <td>7</td>\n",
       "      <td>gasoline</td>\n",
       "      <td>skoda</td>\n",
       "      <td>no</td>\n",
       "      <td>60437</td>\n",
       "    </tr>\n",
       "    <tr>\n",
       "      <th>...</th>\n",
       "      <td>...</td>\n",
       "      <td>...</td>\n",
       "      <td>...</td>\n",
       "      <td>...</td>\n",
       "      <td>...</td>\n",
       "      <td>...</td>\n",
       "      <td>...</td>\n",
       "      <td>...</td>\n",
       "      <td>...</td>\n",
       "      <td>...</td>\n",
       "      <td>...</td>\n",
       "      <td>...</td>\n",
       "    </tr>\n",
       "    <tr>\n",
       "      <th>354364</th>\n",
       "      <td>0</td>\n",
       "      <td>sedan</td>\n",
       "      <td>2005</td>\n",
       "      <td>manual</td>\n",
       "      <td>0</td>\n",
       "      <td>colt</td>\n",
       "      <td>150000</td>\n",
       "      <td>7</td>\n",
       "      <td>petrol</td>\n",
       "      <td>mitsubishi</td>\n",
       "      <td>yes</td>\n",
       "      <td>2694</td>\n",
       "    </tr>\n",
       "    <tr>\n",
       "      <th>354365</th>\n",
       "      <td>2200</td>\n",
       "      <td>NaN</td>\n",
       "      <td>2005</td>\n",
       "      <td>NaN</td>\n",
       "      <td>0</td>\n",
       "      <td>NaN</td>\n",
       "      <td>20000</td>\n",
       "      <td>1</td>\n",
       "      <td>NaN</td>\n",
       "      <td>sonstige_autos</td>\n",
       "      <td>unknown</td>\n",
       "      <td>39576</td>\n",
       "    </tr>\n",
       "    <tr>\n",
       "      <th>354366</th>\n",
       "      <td>1199</td>\n",
       "      <td>convertible</td>\n",
       "      <td>2000</td>\n",
       "      <td>auto</td>\n",
       "      <td>101</td>\n",
       "      <td>fortwo</td>\n",
       "      <td>125000</td>\n",
       "      <td>3</td>\n",
       "      <td>petrol</td>\n",
       "      <td>smart</td>\n",
       "      <td>no</td>\n",
       "      <td>26135</td>\n",
       "    </tr>\n",
       "    <tr>\n",
       "      <th>354367</th>\n",
       "      <td>9200</td>\n",
       "      <td>bus</td>\n",
       "      <td>1996</td>\n",
       "      <td>manual</td>\n",
       "      <td>102</td>\n",
       "      <td>transporter</td>\n",
       "      <td>150000</td>\n",
       "      <td>3</td>\n",
       "      <td>gasoline</td>\n",
       "      <td>volkswagen</td>\n",
       "      <td>no</td>\n",
       "      <td>87439</td>\n",
       "    </tr>\n",
       "    <tr>\n",
       "      <th>354368</th>\n",
       "      <td>3400</td>\n",
       "      <td>wagon</td>\n",
       "      <td>2002</td>\n",
       "      <td>manual</td>\n",
       "      <td>100</td>\n",
       "      <td>golf</td>\n",
       "      <td>150000</td>\n",
       "      <td>6</td>\n",
       "      <td>gasoline</td>\n",
       "      <td>volkswagen</td>\n",
       "      <td>unknown</td>\n",
       "      <td>40764</td>\n",
       "    </tr>\n",
       "  </tbody>\n",
       "</table>\n",
       "<p>354369 rows × 12 columns</p>\n",
       "</div>"
      ],
      "text/plain": [
       "        Price  VehicleType  RegistrationYear Gearbox  Power        Model  \\\n",
       "0         480        small              1993  manual      0         golf   \n",
       "1       18300          NaN              2011  manual    190          NaN   \n",
       "2        9800          suv              2004    auto    163        grand   \n",
       "3        1500        small              2001  manual     75         golf   \n",
       "4        3600        small              2008  manual     69        fabia   \n",
       "...       ...          ...               ...     ...    ...          ...   \n",
       "354364      0        sedan              2005  manual      0         colt   \n",
       "354365   2200          NaN              2005     NaN      0          NaN   \n",
       "354366   1199  convertible              2000    auto    101       fortwo   \n",
       "354367   9200          bus              1996  manual    102  transporter   \n",
       "354368   3400        wagon              2002  manual    100         golf   \n",
       "\n",
       "        Kilometer  RegistrationMonth  FuelType           Brand NotRepaired  \\\n",
       "0          150000                  0    petrol      volkswagen     unknown   \n",
       "1          125000                  5  gasoline            audi         yes   \n",
       "2          125000                  8  gasoline            jeep     unknown   \n",
       "3          150000                  6    petrol      volkswagen          no   \n",
       "4           90000                  7  gasoline           skoda          no   \n",
       "...           ...                ...       ...             ...         ...   \n",
       "354364     150000                  7    petrol      mitsubishi         yes   \n",
       "354365      20000                  1       NaN  sonstige_autos     unknown   \n",
       "354366     125000                  3    petrol           smart          no   \n",
       "354367     150000                  3  gasoline      volkswagen          no   \n",
       "354368     150000                  6  gasoline      volkswagen     unknown   \n",
       "\n",
       "        PostalCode  \n",
       "0            70435  \n",
       "1            66954  \n",
       "2            90480  \n",
       "3            91074  \n",
       "4            60437  \n",
       "...            ...  \n",
       "354364        2694  \n",
       "354365       39576  \n",
       "354366       26135  \n",
       "354367       87439  \n",
       "354368       40764  \n",
       "\n",
       "[354369 rows x 12 columns]"
      ]
     },
     "execution_count": 5,
     "metadata": {},
     "output_type": "execute_result"
    }
   ],
   "source": [
    "data['VehicleType'] = data.groupby(['Brand','Model'], sort=False)['VehicleType'].apply(lambda x:x.ffill().bfill()) #Отсортировав по марке и модели автомобиля, заполним тип автомобильного кузова методами 'ffill','bfill', т.е. заполнение предыдущим и последующим значением\n",
    "data['NotRepaired'] = data['NotRepaired'].fillna('unknown') #заполним значением 'unknown'\n",
    "data"
   ]
  },
  {
   "cell_type": "markdown",
   "metadata": {},
   "source": [
    "Оставшиеся пропущенные значения в столбцах 'VehicleType', 'Gearbox', 'FuelType' удалим."
   ]
  },
  {
   "cell_type": "code",
   "execution_count": 6,
   "metadata": {},
   "outputs": [],
   "source": [
    "data = data.dropna(subset=['VehicleType', 'Gearbox', 'FuelType']) #удалим пропущенные значения"
   ]
  },
  {
   "cell_type": "code",
   "execution_count": 7,
   "metadata": {},
   "outputs": [
    {
     "data": {
      "text/plain": [
       "'Доля пропущенных значений:'"
      ]
     },
     "metadata": {},
     "output_type": "display_data"
    },
    {
     "data": {
      "text/plain": [
       "Price                0.0\n",
       "VehicleType          0.0\n",
       "RegistrationYear     0.0\n",
       "Gearbox              0.0\n",
       "Power                0.0\n",
       "Model                0.0\n",
       "Kilometer            0.0\n",
       "RegistrationMonth    0.0\n",
       "FuelType             0.0\n",
       "Brand                0.0\n",
       "NotRepaired          0.0\n",
       "PostalCode           0.0\n",
       "dtype: float64"
      ]
     },
     "metadata": {},
     "output_type": "display_data"
    }
   ],
   "source": [
    "display('Доля пропущенных значений:', data.isna().mean()) #получим долю пропущенных значений среди всех данных"
   ]
  },
  {
   "cell_type": "markdown",
   "metadata": {},
   "source": [
    "Построим гистограммы для оставшихся столбцов, для этого напишем функцию."
   ]
  },
  {
   "cell_type": "code",
   "execution_count": 8,
   "metadata": {},
   "outputs": [],
   "source": [
    "columns = ['Price', 'Power', 'RegistrationYear'] #столбцы для построения графиков\n",
    "name_of_columns = ['цена, млн.руб', 'мощность, л. с.', 'год регистрации автомобиля'] #названия столбцы\n",
    "name = ['Стоимость недвижимости, млн.руб', 'Мощность, л.с', 'Год регистрации автомобиля'] #названия таблиц\n",
    "range_for_column = [[0, 30000], [0, 30000], [0, 10000]]\n",
    "figsize_for_column = [[10,20], [10, 30], [10, 10]]\n",
    "#функция для построения гистограммы \n",
    "def func_for_hist(table):\n",
    "    for i in range(len(columns)):\n",
    "        print(table[columns[i]].describe()) #выведем подробное описание характеристик столбца\n",
    "        table[columns[i]].hist(bins=150, range=range_for_column[i])\n",
    "        plt.title(name[i])\n",
    "        plt.xlabel(name_of_columns[i])\n",
    "        plt.ylabel(\"кол-во объектов\")\n",
    "        plt.show()\n",
    "\n",
    "#функция для построения диаграммы размаха\n",
    "def func_for_boxplot(table):\n",
    "    for i in range(len(columns)):\n",
    "        table.boxplot(column=[columns[i]], figsize=figsize_for_column[i])\n",
    "        plt.title(name[i])\n",
    "        plt.xlabel(name_of_columns[i])\n",
    "        plt.ylabel(\"кол-во объектов\")\n",
    "        plt.show()"
   ]
  },
  {
   "cell_type": "markdown",
   "metadata": {},
   "source": [
    "Построим гистограммы для столбцов."
   ]
  },
  {
   "cell_type": "code",
   "execution_count": 9,
   "metadata": {},
   "outputs": [
    {
     "name": "stdout",
     "output_type": "stream",
     "text": [
      "count    299228.000000\n",
      "mean       4743.268190\n",
      "std        4604.410858\n",
      "min           0.000000\n",
      "25%        1250.000000\n",
      "50%        3000.000000\n",
      "75%        6900.000000\n",
      "max       20000.000000\n",
      "Name: Price, dtype: float64\n"
     ]
    },
    {
     "data": {
      "image/png": "[encoded data removed]",
      "text/plain": [
       "<Figure size 432x288 with 1 Axes>"
      ]
     },
     "metadata": {
      "needs_background": "light"
     },
     "output_type": "display_data"
    },
    {
     "name": "stdout",
     "output_type": "stream",
     "text": [
      "count    299228.000000\n",
      "mean        115.847097\n",
      "std         172.613493\n",
      "min           0.000000\n",
      "25%          75.000000\n",
      "50%         108.000000\n",
      "75%         144.000000\n",
      "max       20000.000000\n",
      "Name: Power, dtype: float64\n"
     ]
    },
    {
     "data": {
      "image/png": "[encoded data removed]",
      "text/plain": [
       "<Figure size 432x288 with 1 Axes>"
      ]
     },
     "metadata": {
      "needs_background": "light"
     },
     "output_type": "display_data"
    },
    {
     "name": "stdout",
     "output_type": "stream",
     "text": [
      "count    299228.000000\n",
      "mean       2003.206892\n",
      "std          24.504180\n",
      "min        1000.000000\n",
      "25%        1999.000000\n",
      "50%        2003.000000\n",
      "75%        2007.000000\n",
      "max        9000.000000\n",
      "Name: RegistrationYear, dtype: float64\n"
     ]
    },
    {
     "data": {
      "image/png": "[encoded data removed]",
      "text/plain": [
       "<Figure size 432x288 with 1 Axes>"
      ]
     },
     "metadata": {
      "needs_background": "light"
     },
     "output_type": "display_data"
    }
   ],
   "source": [
    "func_for_hist(data) #применим функцию func_for_hist"
   ]
  },
  {
   "cell_type": "markdown",
   "metadata": {},
   "source": [
    "Изучив гистограммы, видим, что у нас есть редкие значения.\n",
    "\n",
    "На гистограмме \"Price\" видим нулевые значения.\n",
    "\n",
    "Далее на гистограмме \"RegistrationYear\" аномальные значения. Минимум 1000 и максимум 9000.\n",
    "\n",
    "Также на гистограмме 'Power' есть выбросы."
   ]
  },
  {
   "cell_type": "markdown",
   "metadata": {},
   "source": [
    "Построим диаграммы размаха для определения границ."
   ]
  },
  {
   "cell_type": "code",
   "execution_count": 10,
   "metadata": {},
   "outputs": [
    {
     "data": {
      "image/png": "[encoded data removed]",
      "text/plain": [
       "<Figure size 720x1440 with 1 Axes>"
      ]
     },
     "metadata": {
      "needs_background": "light"
     },
     "output_type": "display_data"
    },
    {
     "data": {
      "image/png": "[encoded data removed]",
      "text/plain": [
       "<Figure size 720x2160 with 1 Axes>"
      ]
     },
     "metadata": {
      "needs_background": "light"
     },
     "output_type": "display_data"
    },
    {
     "data": {
      "image/png": "[encoded data removed]",
      "text/plain": [
       "<Figure size 720x720 with 1 Axes>"
      ]
     },
     "metadata": {
      "needs_background": "light"
     },
     "output_type": "display_data"
    }
   ],
   "source": [
    "func_for_boxplot(data) #применим функцию func_for_boxplot"
   ]
  },
  {
   "cell_type": "markdown",
   "metadata": {},
   "source": [
    "Price отбросим 0, Power верхняя граница 2500, RegistrationYear логичней взять от 1995 до 2022."
   ]
  },
  {
   "cell_type": "code",
   "execution_count": 11,
   "metadata": {},
   "outputs": [],
   "source": [
    "data = data.query('Price != 0 and Power <= 2500 and 1995 <= RegistrationYear <= 2022') #срез Price не равен 0, Power до 2500, RegistrationYear от 1995 до 2022"
   ]
  },
  {
   "cell_type": "code",
   "execution_count": 12,
   "metadata": {},
   "outputs": [
    {
     "data": {
      "text/plain": [
       "Price                273882\n",
       "VehicleType          273882\n",
       "RegistrationYear     273882\n",
       "Gearbox              273882\n",
       "Power                273882\n",
       "Model                273882\n",
       "Kilometer            273882\n",
       "RegistrationMonth    273882\n",
       "FuelType             273882\n",
       "Brand                273882\n",
       "NotRepaired          273882\n",
       "PostalCode           273882\n",
       "dtype: int64"
      ]
     },
     "execution_count": 12,
     "metadata": {},
     "output_type": "execute_result"
    }
   ],
   "source": [
    "data.count() #посчитаем количество"
   ]
  },
  {
   "cell_type": "markdown",
   "metadata": {},
   "source": [
    "Проверим также данные на наличие дубликатов."
   ]
  },
  {
   "cell_type": "code",
   "execution_count": 13,
   "metadata": {},
   "outputs": [
    {
     "data": {
      "text/plain": [
       "17833"
      ]
     },
     "execution_count": 13,
     "metadata": {},
     "output_type": "execute_result"
    }
   ],
   "source": [
    "data.duplicated().sum() #посчитаем количество дубликатов"
   ]
  },
  {
   "cell_type": "code",
   "execution_count": 14,
   "metadata": {},
   "outputs": [
    {
     "name": "stdout",
     "output_type": "stream",
     "text": [
      "VehicleType: ['suv' 'small' 'sedan' 'convertible' 'bus' 'wagon' 'coupe' 'other']\n",
      "Gearbox: ['auto' 'manual']\n",
      "Model: ['grand' 'golf' 'fabia' '3er' '2_reihe' 'c_max' '3_reihe' 'passat'\n",
      " 'navara' 'twingo' 'a_klasse' 'scirocco' '5er' 'meriva' 'arosa' 'civic'\n",
      " 'punto' 'e_klasse' 'clio' 'other' 'one' 'fortwo' '1er' 'b_klasse' 'astra'\n",
      " 'a8' 'jetta' 'fiesta' 'c_klasse' 'micra' 'vito' 'sprinter' '156'\n",
      " 'forester' 'xc_reihe' 'scenic' 'a4' 'a1' 'combo' 'focus' 'tt' 'a6' 'jazz'\n",
      " 'transporter' 'polo' 'slk' '7er' 'corsa' '80' '147' 'z_reihe' 'sportage'\n",
      " 'sorento' 'v40' 'ibiza' 'mustang' 'eos' 'touran' 'getz' 'insignia' 'ka'\n",
      " 'almera' 'megane' 'a3' 'lupo' 'zafira' 'mondeo' 'colt' 'vectra'\n",
      " 'berlingo' 'tiguan' 'i_reihe' 'sharan' '6_reihe' 'c4' 'panda' 'up'\n",
      " 'seicento' 'ceed' 'kangoo' '5_reihe' 'yeti' 'octavia' 'mii' 'rx_reihe'\n",
      " 'modus' 'fox' 'matiz' 'beetle' 'rio' 'touareg' 'logan' 'caddy' 'omega'\n",
      " 'cuore' 's_max' 'a2' 'galaxy' 'c3' 'viano' 's_klasse' 'avensis'\n",
      " 'roomster' 'santa' 'cooper' 'leon' 'a5' '500' 'ptcruiser' 'clk' 'primera'\n",
      " '4_reihe' 'x_reihe' 'exeo' 'transit' 'juke' 'qashqai' 'espace' '1_reihe'\n",
      " 'carisma' 'accord' 'corolla' 'lanos' 'phaeton' 'cordoba' 'verso' 'swift'\n",
      " 'rav' '159' 'picanto' 'boxster' 'stilo' 'alhambra' 'laguna' 'roadster'\n",
      " 'ypsilon' 'galant' 'justy' 'sirion' 'signum' 'crossfire' 'agila' 'duster'\n",
      " 'v50' 'mx_reihe' 'c_reihe' 'v_klasse' 'm_klasse' 'yaris' 'c5' 'aygo' 'cc'\n",
      " '911' 'bora' 'forfour' 'escort' 'cl' 'tigra' '300c' 'cr_reihe' 'spark'\n",
      " 'kuga' 'impreza' 'x_type' 'ducato' 's_type' 'x_trail' 'toledo' 'altea'\n",
      " 'voyager' 'carnival' 'v70' 'bravo' 'antara' 'c1' 'citigo' 'jimny'\n",
      " 'cayenne' 'wrangler' 'lybra' 'q7' 'captiva' 'fusion' 'sl' 'c2'\n",
      " 'discovery' 'sandero' 'note' 'spider' 'cherokee' 'clubman' 'samara'\n",
      " 'lancer' 'cx_reihe' 'legacy' 'pajero' 'auris' 'niva' 's60' 'nubira'\n",
      " 'vivaro' 'tucson' 'g_klasse' 'freelander' '100' 'lodgy' '850' 'superb'\n",
      " 'q3' 'calibra' 'glk' 'charade' 'croma' 'outlander' 'doblo' 'musa' '900'\n",
      " 'move' '9000' 'kalos' 'v60' '145' '6er' 'r19' 'm_reihe' 'defender'\n",
      " 'b_max' 'range_rover_sport' 'aveo' 'terios' 'kaefer' 'rangerover' 'q5'\n",
      " 'kadett' 'range_rover_evoque' 'materia' '601' 'gl' 'kalina' 'range_rover'\n",
      " 'elefantino' 'delta' 'i3' 'serie_2' 'amarok' 'kappa' '90']\n",
      "FuelType: ['gasoline' 'petrol' 'lpg' 'other' 'hybrid' 'cng' 'electric']\n",
      "Brand: ['jeep' 'volkswagen' 'skoda' 'bmw' 'peugeot' 'ford' 'mazda' 'nissan'\n",
      " 'renault' 'mercedes_benz' 'opel' 'seat' 'honda' 'fiat' 'mini' 'smart'\n",
      " 'audi' 'alfa_romeo' 'subaru' 'volvo' 'mitsubishi' 'kia' 'hyundai'\n",
      " 'lancia' 'citroen' 'toyota' 'chevrolet' 'dacia' 'daihatsu' 'suzuki'\n",
      " 'chrysler' 'daewoo' 'rover' 'porsche' 'saab' 'jaguar' 'land_rover' 'lada'\n",
      " 'trabant']\n"
     ]
    }
   ],
   "source": [
    "columns = ['VehicleType', 'Gearbox', 'Model', 'FuelType', 'Brand']\n",
    "for column in columns:\n",
    "    print(column + \":\", data[column].unique()) #получим уникальные значения"
   ]
  },
  {
   "cell_type": "markdown",
   "metadata": {},
   "source": [
    "В столбце 'Model' есть неявные дубликаты - 'rangerover' и 'range_rover'."
   ]
  },
  {
   "cell_type": "code",
   "execution_count": 15,
   "metadata": {},
   "outputs": [],
   "source": [
    "data['Model'] = data['Model'].str.replace('rangerover', 'range_rover') #заменим"
   ]
  },
  {
   "cell_type": "markdown",
   "metadata": {},
   "source": [
    "Удалим дубликаты."
   ]
  },
  {
   "cell_type": "code",
   "execution_count": 16,
   "metadata": {},
   "outputs": [],
   "source": [
    "data = data.drop_duplicates().reset_index(drop=True) #удалим дубликаты"
   ]
  },
  {
   "cell_type": "markdown",
   "metadata": {},
   "source": [
    "### Кодирование данных"
   ]
  },
  {
   "cell_type": "markdown",
   "metadata": {},
   "source": [
    "Для обучения моделей надо избавиться от категориальных признаков, но модель CatBoostRegressor сама кодирует признаки, так что сохраним копию данных в отдельную таблицу."
   ]
  },
  {
   "cell_type": "code",
   "execution_count": 17,
   "metadata": {},
   "outputs": [],
   "source": [
    "data_category = data.copy() #сохраним копию data в data_category"
   ]
  },
  {
   "cell_type": "markdown",
   "metadata": {},
   "source": [
    "Для линейных моделей преобразуем категориальные признвки в численные, применением метода OHE, учитывая ловушку фиктивных признаков."
   ]
  },
  {
   "cell_type": "code",
   "execution_count": 18,
   "metadata": {},
   "outputs": [],
   "source": [
    "data_ohe = pd.get_dummies(data, drop_first=True, columns=['VehicleType', 'Gearbox', 'Model', 'FuelType', 'Brand', 'NotRepaired']) #преобразуем категориальные признаки в столбцах 'VehicleType', 'Gearbox', 'Model', 'FuelType', 'Brand', 'NotRepaired' в численные"
   ]
  },
  {
   "cell_type": "markdown",
   "metadata": {},
   "source": [
    "Для моделей, основанных на деревьях решений, с помощью OrdinalEncoder кодируем категориальные признаки 'VehicleType', 'Gearbox', 'Model', 'FuelType', 'Brand', 'NotRepaired'."
   ]
  },
  {
   "cell_type": "code",
   "execution_count": 19,
   "metadata": {},
   "outputs": [],
   "source": [
    "categorical_features = ['VehicleType', 'Gearbox', 'Model', 'FuelType', 'Brand', 'NotRepaired'] #выделим категориальные признаки\n",
    "\n",
    "data[categorical_features] = OrdinalEncoder().fit_transform(data[categorical_features]) #кодируем"
   ]
  },
  {
   "cell_type": "markdown",
   "metadata": {},
   "source": [
    "Проверим."
   ]
  },
  {
   "cell_type": "code",
   "execution_count": 20,
   "metadata": {},
   "outputs": [
    {
     "data": {
      "text/html": [
       "<div>\n",
       "<style scoped>\n",
       "    .dataframe tbody tr th:only-of-type {\n",
       "        vertical-align: middle;\n",
       "    }\n",
       "\n",
       "    .dataframe tbody tr th {\n",
       "        vertical-align: top;\n",
       "    }\n",
       "\n",
       "    .dataframe thead th {\n",
       "        text-align: right;\n",
       "    }\n",
       "</style>\n",
       "<table border=\"1\" class=\"dataframe\">\n",
       "  <thead>\n",
       "    <tr style=\"text-align: right;\">\n",
       "      <th></th>\n",
       "      <th>Price</th>\n",
       "      <th>VehicleType</th>\n",
       "      <th>RegistrationYear</th>\n",
       "      <th>Gearbox</th>\n",
       "      <th>Power</th>\n",
       "      <th>Model</th>\n",
       "      <th>Kilometer</th>\n",
       "      <th>RegistrationMonth</th>\n",
       "      <th>FuelType</th>\n",
       "      <th>Brand</th>\n",
       "      <th>NotRepaired</th>\n",
       "      <th>PostalCode</th>\n",
       "    </tr>\n",
       "  </thead>\n",
       "  <tbody>\n",
       "    <tr>\n",
       "      <th>0</th>\n",
       "      <td>9800</td>\n",
       "      <td>6.0</td>\n",
       "      <td>2004</td>\n",
       "      <td>0.0</td>\n",
       "      <td>163</td>\n",
       "      <td>116.0</td>\n",
       "      <td>125000</td>\n",
       "      <td>8</td>\n",
       "      <td>2.0</td>\n",
       "      <td>14.0</td>\n",
       "      <td>1.0</td>\n",
       "      <td>90480</td>\n",
       "    </tr>\n",
       "    <tr>\n",
       "      <th>1</th>\n",
       "      <td>1500</td>\n",
       "      <td>5.0</td>\n",
       "      <td>2001</td>\n",
       "      <td>1.0</td>\n",
       "      <td>75</td>\n",
       "      <td>115.0</td>\n",
       "      <td>150000</td>\n",
       "      <td>6</td>\n",
       "      <td>6.0</td>\n",
       "      <td>37.0</td>\n",
       "      <td>0.0</td>\n",
       "      <td>91074</td>\n",
       "    </tr>\n",
       "    <tr>\n",
       "      <th>2</th>\n",
       "      <td>3600</td>\n",
       "      <td>5.0</td>\n",
       "      <td>2008</td>\n",
       "      <td>1.0</td>\n",
       "      <td>69</td>\n",
       "      <td>100.0</td>\n",
       "      <td>90000</td>\n",
       "      <td>7</td>\n",
       "      <td>2.0</td>\n",
       "      <td>31.0</td>\n",
       "      <td>0.0</td>\n",
       "      <td>60437</td>\n",
       "    </tr>\n",
       "    <tr>\n",
       "      <th>3</th>\n",
       "      <td>650</td>\n",
       "      <td>4.0</td>\n",
       "      <td>1995</td>\n",
       "      <td>1.0</td>\n",
       "      <td>102</td>\n",
       "      <td>10.0</td>\n",
       "      <td>150000</td>\n",
       "      <td>10</td>\n",
       "      <td>6.0</td>\n",
       "      <td>2.0</td>\n",
       "      <td>2.0</td>\n",
       "      <td>33775</td>\n",
       "    </tr>\n",
       "    <tr>\n",
       "      <th>4</th>\n",
       "      <td>2200</td>\n",
       "      <td>1.0</td>\n",
       "      <td>2004</td>\n",
       "      <td>1.0</td>\n",
       "      <td>109</td>\n",
       "      <td>7.0</td>\n",
       "      <td>150000</td>\n",
       "      <td>8</td>\n",
       "      <td>6.0</td>\n",
       "      <td>25.0</td>\n",
       "      <td>0.0</td>\n",
       "      <td>67112</td>\n",
       "    </tr>\n",
       "    <tr>\n",
       "      <th>...</th>\n",
       "      <td>...</td>\n",
       "      <td>...</td>\n",
       "      <td>...</td>\n",
       "      <td>...</td>\n",
       "      <td>...</td>\n",
       "      <td>...</td>\n",
       "      <td>...</td>\n",
       "      <td>...</td>\n",
       "      <td>...</td>\n",
       "      <td>...</td>\n",
       "      <td>...</td>\n",
       "      <td>...</td>\n",
       "    </tr>\n",
       "    <tr>\n",
       "      <th>256044</th>\n",
       "      <td>3999</td>\n",
       "      <td>7.0</td>\n",
       "      <td>2005</td>\n",
       "      <td>1.0</td>\n",
       "      <td>3</td>\n",
       "      <td>10.0</td>\n",
       "      <td>150000</td>\n",
       "      <td>5</td>\n",
       "      <td>2.0</td>\n",
       "      <td>2.0</td>\n",
       "      <td>0.0</td>\n",
       "      <td>81825</td>\n",
       "    </tr>\n",
       "    <tr>\n",
       "      <th>256045</th>\n",
       "      <td>3200</td>\n",
       "      <td>4.0</td>\n",
       "      <td>2004</td>\n",
       "      <td>1.0</td>\n",
       "      <td>225</td>\n",
       "      <td>139.0</td>\n",
       "      <td>150000</td>\n",
       "      <td>5</td>\n",
       "      <td>6.0</td>\n",
       "      <td>30.0</td>\n",
       "      <td>2.0</td>\n",
       "      <td>96465</td>\n",
       "    </tr>\n",
       "    <tr>\n",
       "      <th>256046</th>\n",
       "      <td>1199</td>\n",
       "      <td>1.0</td>\n",
       "      <td>2000</td>\n",
       "      <td>0.0</td>\n",
       "      <td>101</td>\n",
       "      <td>105.0</td>\n",
       "      <td>125000</td>\n",
       "      <td>3</td>\n",
       "      <td>6.0</td>\n",
       "      <td>32.0</td>\n",
       "      <td>0.0</td>\n",
       "      <td>26135</td>\n",
       "    </tr>\n",
       "    <tr>\n",
       "      <th>256047</th>\n",
       "      <td>9200</td>\n",
       "      <td>0.0</td>\n",
       "      <td>1996</td>\n",
       "      <td>1.0</td>\n",
       "      <td>102</td>\n",
       "      <td>220.0</td>\n",
       "      <td>150000</td>\n",
       "      <td>3</td>\n",
       "      <td>2.0</td>\n",
       "      <td>37.0</td>\n",
       "      <td>0.0</td>\n",
       "      <td>87439</td>\n",
       "    </tr>\n",
       "    <tr>\n",
       "      <th>256048</th>\n",
       "      <td>3400</td>\n",
       "      <td>7.0</td>\n",
       "      <td>2002</td>\n",
       "      <td>1.0</td>\n",
       "      <td>100</td>\n",
       "      <td>115.0</td>\n",
       "      <td>150000</td>\n",
       "      <td>6</td>\n",
       "      <td>2.0</td>\n",
       "      <td>37.0</td>\n",
       "      <td>1.0</td>\n",
       "      <td>40764</td>\n",
       "    </tr>\n",
       "  </tbody>\n",
       "</table>\n",
       "<p>256049 rows × 12 columns</p>\n",
       "</div>"
      ],
      "text/plain": [
       "        Price  VehicleType  RegistrationYear  Gearbox  Power  Model  \\\n",
       "0        9800          6.0              2004      0.0    163  116.0   \n",
       "1        1500          5.0              2001      1.0     75  115.0   \n",
       "2        3600          5.0              2008      1.0     69  100.0   \n",
       "3         650          4.0              1995      1.0    102   10.0   \n",
       "4        2200          1.0              2004      1.0    109    7.0   \n",
       "...       ...          ...               ...      ...    ...    ...   \n",
       "256044   3999          7.0              2005      1.0      3   10.0   \n",
       "256045   3200          4.0              2004      1.0    225  139.0   \n",
       "256046   1199          1.0              2000      0.0    101  105.0   \n",
       "256047   9200          0.0              1996      1.0    102  220.0   \n",
       "256048   3400          7.0              2002      1.0    100  115.0   \n",
       "\n",
       "        Kilometer  RegistrationMonth  FuelType  Brand  NotRepaired  PostalCode  \n",
       "0          125000                  8       2.0   14.0          1.0       90480  \n",
       "1          150000                  6       6.0   37.0          0.0       91074  \n",
       "2           90000                  7       2.0   31.0          0.0       60437  \n",
       "3          150000                 10       6.0    2.0          2.0       33775  \n",
       "4          150000                  8       6.0   25.0          0.0       67112  \n",
       "...           ...                ...       ...    ...          ...         ...  \n",
       "256044     150000                  5       2.0    2.0          0.0       81825  \n",
       "256045     150000                  5       6.0   30.0          2.0       96465  \n",
       "256046     125000                  3       6.0   32.0          0.0       26135  \n",
       "256047     150000                  3       2.0   37.0          0.0       87439  \n",
       "256048     150000                  6       2.0   37.0          1.0       40764  \n",
       "\n",
       "[256049 rows x 12 columns]"
      ]
     },
     "execution_count": 20,
     "metadata": {},
     "output_type": "execute_result"
    }
   ],
   "source": [
    "data"
   ]
  },
  {
   "cell_type": "code",
   "execution_count": 21,
   "metadata": {},
   "outputs": [
    {
     "data": {
      "text/html": [
       "<div>\n",
       "<style scoped>\n",
       "    .dataframe tbody tr th:only-of-type {\n",
       "        vertical-align: middle;\n",
       "    }\n",
       "\n",
       "    .dataframe tbody tr th {\n",
       "        vertical-align: top;\n",
       "    }\n",
       "\n",
       "    .dataframe thead th {\n",
       "        text-align: right;\n",
       "    }\n",
       "</style>\n",
       "<table border=\"1\" class=\"dataframe\">\n",
       "  <thead>\n",
       "    <tr style=\"text-align: right;\">\n",
       "      <th></th>\n",
       "      <th>Price</th>\n",
       "      <th>RegistrationYear</th>\n",
       "      <th>Power</th>\n",
       "      <th>Kilometer</th>\n",
       "      <th>RegistrationMonth</th>\n",
       "      <th>PostalCode</th>\n",
       "      <th>VehicleType_convertible</th>\n",
       "      <th>VehicleType_coupe</th>\n",
       "      <th>VehicleType_other</th>\n",
       "      <th>VehicleType_sedan</th>\n",
       "      <th>...</th>\n",
       "      <th>Brand_skoda</th>\n",
       "      <th>Brand_smart</th>\n",
       "      <th>Brand_subaru</th>\n",
       "      <th>Brand_suzuki</th>\n",
       "      <th>Brand_toyota</th>\n",
       "      <th>Brand_trabant</th>\n",
       "      <th>Brand_volkswagen</th>\n",
       "      <th>Brand_volvo</th>\n",
       "      <th>NotRepaired_unknown</th>\n",
       "      <th>NotRepaired_yes</th>\n",
       "    </tr>\n",
       "  </thead>\n",
       "  <tbody>\n",
       "    <tr>\n",
       "      <th>0</th>\n",
       "      <td>9800</td>\n",
       "      <td>2004</td>\n",
       "      <td>163</td>\n",
       "      <td>125000</td>\n",
       "      <td>8</td>\n",
       "      <td>90480</td>\n",
       "      <td>0</td>\n",
       "      <td>0</td>\n",
       "      <td>0</td>\n",
       "      <td>0</td>\n",
       "      <td>...</td>\n",
       "      <td>0</td>\n",
       "      <td>0</td>\n",
       "      <td>0</td>\n",
       "      <td>0</td>\n",
       "      <td>0</td>\n",
       "      <td>0</td>\n",
       "      <td>0</td>\n",
       "      <td>0</td>\n",
       "      <td>1</td>\n",
       "      <td>0</td>\n",
       "    </tr>\n",
       "    <tr>\n",
       "      <th>1</th>\n",
       "      <td>1500</td>\n",
       "      <td>2001</td>\n",
       "      <td>75</td>\n",
       "      <td>150000</td>\n",
       "      <td>6</td>\n",
       "      <td>91074</td>\n",
       "      <td>0</td>\n",
       "      <td>0</td>\n",
       "      <td>0</td>\n",
       "      <td>0</td>\n",
       "      <td>...</td>\n",
       "      <td>0</td>\n",
       "      <td>0</td>\n",
       "      <td>0</td>\n",
       "      <td>0</td>\n",
       "      <td>0</td>\n",
       "      <td>0</td>\n",
       "      <td>1</td>\n",
       "      <td>0</td>\n",
       "      <td>0</td>\n",
       "      <td>0</td>\n",
       "    </tr>\n",
       "    <tr>\n",
       "      <th>2</th>\n",
       "      <td>3600</td>\n",
       "      <td>2008</td>\n",
       "      <td>69</td>\n",
       "      <td>90000</td>\n",
       "      <td>7</td>\n",
       "      <td>60437</td>\n",
       "      <td>0</td>\n",
       "      <td>0</td>\n",
       "      <td>0</td>\n",
       "      <td>0</td>\n",
       "      <td>...</td>\n",
       "      <td>1</td>\n",
       "      <td>0</td>\n",
       "      <td>0</td>\n",
       "      <td>0</td>\n",
       "      <td>0</td>\n",
       "      <td>0</td>\n",
       "      <td>0</td>\n",
       "      <td>0</td>\n",
       "      <td>0</td>\n",
       "      <td>0</td>\n",
       "    </tr>\n",
       "    <tr>\n",
       "      <th>3</th>\n",
       "      <td>650</td>\n",
       "      <td>1995</td>\n",
       "      <td>102</td>\n",
       "      <td>150000</td>\n",
       "      <td>10</td>\n",
       "      <td>33775</td>\n",
       "      <td>0</td>\n",
       "      <td>0</td>\n",
       "      <td>0</td>\n",
       "      <td>1</td>\n",
       "      <td>...</td>\n",
       "      <td>0</td>\n",
       "      <td>0</td>\n",
       "      <td>0</td>\n",
       "      <td>0</td>\n",
       "      <td>0</td>\n",
       "      <td>0</td>\n",
       "      <td>0</td>\n",
       "      <td>0</td>\n",
       "      <td>0</td>\n",
       "      <td>1</td>\n",
       "    </tr>\n",
       "    <tr>\n",
       "      <th>4</th>\n",
       "      <td>2200</td>\n",
       "      <td>2004</td>\n",
       "      <td>109</td>\n",
       "      <td>150000</td>\n",
       "      <td>8</td>\n",
       "      <td>67112</td>\n",
       "      <td>1</td>\n",
       "      <td>0</td>\n",
       "      <td>0</td>\n",
       "      <td>0</td>\n",
       "      <td>...</td>\n",
       "      <td>0</td>\n",
       "      <td>0</td>\n",
       "      <td>0</td>\n",
       "      <td>0</td>\n",
       "      <td>0</td>\n",
       "      <td>0</td>\n",
       "      <td>0</td>\n",
       "      <td>0</td>\n",
       "      <td>0</td>\n",
       "      <td>0</td>\n",
       "    </tr>\n",
       "    <tr>\n",
       "      <th>...</th>\n",
       "      <td>...</td>\n",
       "      <td>...</td>\n",
       "      <td>...</td>\n",
       "      <td>...</td>\n",
       "      <td>...</td>\n",
       "      <td>...</td>\n",
       "      <td>...</td>\n",
       "      <td>...</td>\n",
       "      <td>...</td>\n",
       "      <td>...</td>\n",
       "      <td>...</td>\n",
       "      <td>...</td>\n",
       "      <td>...</td>\n",
       "      <td>...</td>\n",
       "      <td>...</td>\n",
       "      <td>...</td>\n",
       "      <td>...</td>\n",
       "      <td>...</td>\n",
       "      <td>...</td>\n",
       "      <td>...</td>\n",
       "      <td>...</td>\n",
       "    </tr>\n",
       "    <tr>\n",
       "      <th>256044</th>\n",
       "      <td>3999</td>\n",
       "      <td>2005</td>\n",
       "      <td>3</td>\n",
       "      <td>150000</td>\n",
       "      <td>5</td>\n",
       "      <td>81825</td>\n",
       "      <td>0</td>\n",
       "      <td>0</td>\n",
       "      <td>0</td>\n",
       "      <td>0</td>\n",
       "      <td>...</td>\n",
       "      <td>0</td>\n",
       "      <td>0</td>\n",
       "      <td>0</td>\n",
       "      <td>0</td>\n",
       "      <td>0</td>\n",
       "      <td>0</td>\n",
       "      <td>0</td>\n",
       "      <td>0</td>\n",
       "      <td>0</td>\n",
       "      <td>0</td>\n",
       "    </tr>\n",
       "    <tr>\n",
       "      <th>256045</th>\n",
       "      <td>3200</td>\n",
       "      <td>2004</td>\n",
       "      <td>225</td>\n",
       "      <td>150000</td>\n",
       "      <td>5</td>\n",
       "      <td>96465</td>\n",
       "      <td>0</td>\n",
       "      <td>0</td>\n",
       "      <td>0</td>\n",
       "      <td>1</td>\n",
       "      <td>...</td>\n",
       "      <td>0</td>\n",
       "      <td>0</td>\n",
       "      <td>0</td>\n",
       "      <td>0</td>\n",
       "      <td>0</td>\n",
       "      <td>0</td>\n",
       "      <td>0</td>\n",
       "      <td>0</td>\n",
       "      <td>0</td>\n",
       "      <td>1</td>\n",
       "    </tr>\n",
       "    <tr>\n",
       "      <th>256046</th>\n",
       "      <td>1199</td>\n",
       "      <td>2000</td>\n",
       "      <td>101</td>\n",
       "      <td>125000</td>\n",
       "      <td>3</td>\n",
       "      <td>26135</td>\n",
       "      <td>1</td>\n",
       "      <td>0</td>\n",
       "      <td>0</td>\n",
       "      <td>0</td>\n",
       "      <td>...</td>\n",
       "      <td>0</td>\n",
       "      <td>1</td>\n",
       "      <td>0</td>\n",
       "      <td>0</td>\n",
       "      <td>0</td>\n",
       "      <td>0</td>\n",
       "      <td>0</td>\n",
       "      <td>0</td>\n",
       "      <td>0</td>\n",
       "      <td>0</td>\n",
       "    </tr>\n",
       "    <tr>\n",
       "      <th>256047</th>\n",
       "      <td>9200</td>\n",
       "      <td>1996</td>\n",
       "      <td>102</td>\n",
       "      <td>150000</td>\n",
       "      <td>3</td>\n",
       "      <td>87439</td>\n",
       "      <td>0</td>\n",
       "      <td>0</td>\n",
       "      <td>0</td>\n",
       "      <td>0</td>\n",
       "      <td>...</td>\n",
       "      <td>0</td>\n",
       "      <td>0</td>\n",
       "      <td>0</td>\n",
       "      <td>0</td>\n",
       "      <td>0</td>\n",
       "      <td>0</td>\n",
       "      <td>1</td>\n",
       "      <td>0</td>\n",
       "      <td>0</td>\n",
       "      <td>0</td>\n",
       "    </tr>\n",
       "    <tr>\n",
       "      <th>256048</th>\n",
       "      <td>3400</td>\n",
       "      <td>2002</td>\n",
       "      <td>100</td>\n",
       "      <td>150000</td>\n",
       "      <td>6</td>\n",
       "      <td>40764</td>\n",
       "      <td>0</td>\n",
       "      <td>0</td>\n",
       "      <td>0</td>\n",
       "      <td>0</td>\n",
       "      <td>...</td>\n",
       "      <td>0</td>\n",
       "      <td>0</td>\n",
       "      <td>0</td>\n",
       "      <td>0</td>\n",
       "      <td>0</td>\n",
       "      <td>0</td>\n",
       "      <td>1</td>\n",
       "      <td>0</td>\n",
       "      <td>1</td>\n",
       "      <td>0</td>\n",
       "    </tr>\n",
       "  </tbody>\n",
       "</table>\n",
       "<p>256049 rows × 305 columns</p>\n",
       "</div>"
      ],
      "text/plain": [
       "        Price  RegistrationYear  Power  Kilometer  RegistrationMonth  \\\n",
       "0        9800              2004    163     125000                  8   \n",
       "1        1500              2001     75     150000                  6   \n",
       "2        3600              2008     69      90000                  7   \n",
       "3         650              1995    102     150000                 10   \n",
       "4        2200              2004    109     150000                  8   \n",
       "...       ...               ...    ...        ...                ...   \n",
       "256044   3999              2005      3     150000                  5   \n",
       "256045   3200              2004    225     150000                  5   \n",
       "256046   1199              2000    101     125000                  3   \n",
       "256047   9200              1996    102     150000                  3   \n",
       "256048   3400              2002    100     150000                  6   \n",
       "\n",
       "        PostalCode  VehicleType_convertible  VehicleType_coupe  \\\n",
       "0            90480                        0                  0   \n",
       "1            91074                        0                  0   \n",
       "2            60437                        0                  0   \n",
       "3            33775                        0                  0   \n",
       "4            67112                        1                  0   \n",
       "...            ...                      ...                ...   \n",
       "256044       81825                        0                  0   \n",
       "256045       96465                        0                  0   \n",
       "256046       26135                        1                  0   \n",
       "256047       87439                        0                  0   \n",
       "256048       40764                        0                  0   \n",
       "\n",
       "        VehicleType_other  VehicleType_sedan  ...  Brand_skoda  Brand_smart  \\\n",
       "0                       0                  0  ...            0            0   \n",
       "1                       0                  0  ...            0            0   \n",
       "2                       0                  0  ...            1            0   \n",
       "3                       0                  1  ...            0            0   \n",
       "4                       0                  0  ...            0            0   \n",
       "...                   ...                ...  ...          ...          ...   \n",
       "256044                  0                  0  ...            0            0   \n",
       "256045                  0                  1  ...            0            0   \n",
       "256046                  0                  0  ...            0            1   \n",
       "256047                  0                  0  ...            0            0   \n",
       "256048                  0                  0  ...            0            0   \n",
       "\n",
       "        Brand_subaru  Brand_suzuki  Brand_toyota  Brand_trabant  \\\n",
       "0                  0             0             0              0   \n",
       "1                  0             0             0              0   \n",
       "2                  0             0             0              0   \n",
       "3                  0             0             0              0   \n",
       "4                  0             0             0              0   \n",
       "...              ...           ...           ...            ...   \n",
       "256044             0             0             0              0   \n",
       "256045             0             0             0              0   \n",
       "256046             0             0             0              0   \n",
       "256047             0             0             0              0   \n",
       "256048             0             0             0              0   \n",
       "\n",
       "        Brand_volkswagen  Brand_volvo  NotRepaired_unknown  NotRepaired_yes  \n",
       "0                      0            0                    1                0  \n",
       "1                      1            0                    0                0  \n",
       "2                      0            0                    0                0  \n",
       "3                      0            0                    0                1  \n",
       "4                      0            0                    0                0  \n",
       "...                  ...          ...                  ...              ...  \n",
       "256044                 0            0                    0                0  \n",
       "256045                 0            0                    0                1  \n",
       "256046                 0            0                    0                0  \n",
       "256047                 1            0                    0                0  \n",
       "256048                 1            0                    1                0  \n",
       "\n",
       "[256049 rows x 305 columns]"
      ]
     },
     "execution_count": 21,
     "metadata": {},
     "output_type": "execute_result"
    }
   ],
   "source": [
    "data_ohe"
   ]
  },
  {
   "cell_type": "code",
   "execution_count": 22,
   "metadata": {},
   "outputs": [
    {
     "data": {
      "text/html": [
       "<div>\n",
       "<style scoped>\n",
       "    .dataframe tbody tr th:only-of-type {\n",
       "        vertical-align: middle;\n",
       "    }\n",
       "\n",
       "    .dataframe tbody tr th {\n",
       "        vertical-align: top;\n",
       "    }\n",
       "\n",
       "    .dataframe thead th {\n",
       "        text-align: right;\n",
       "    }\n",
       "</style>\n",
       "<table border=\"1\" class=\"dataframe\">\n",
       "  <thead>\n",
       "    <tr style=\"text-align: right;\">\n",
       "      <th></th>\n",
       "      <th>Price</th>\n",
       "      <th>VehicleType</th>\n",
       "      <th>RegistrationYear</th>\n",
       "      <th>Gearbox</th>\n",
       "      <th>Power</th>\n",
       "      <th>Model</th>\n",
       "      <th>Kilometer</th>\n",
       "      <th>RegistrationMonth</th>\n",
       "      <th>FuelType</th>\n",
       "      <th>Brand</th>\n",
       "      <th>NotRepaired</th>\n",
       "      <th>PostalCode</th>\n",
       "    </tr>\n",
       "  </thead>\n",
       "  <tbody>\n",
       "    <tr>\n",
       "      <th>0</th>\n",
       "      <td>9800</td>\n",
       "      <td>suv</td>\n",
       "      <td>2004</td>\n",
       "      <td>auto</td>\n",
       "      <td>163</td>\n",
       "      <td>grand</td>\n",
       "      <td>125000</td>\n",
       "      <td>8</td>\n",
       "      <td>gasoline</td>\n",
       "      <td>jeep</td>\n",
       "      <td>unknown</td>\n",
       "      <td>90480</td>\n",
       "    </tr>\n",
       "    <tr>\n",
       "      <th>1</th>\n",
       "      <td>1500</td>\n",
       "      <td>small</td>\n",
       "      <td>2001</td>\n",
       "      <td>manual</td>\n",
       "      <td>75</td>\n",
       "      <td>golf</td>\n",
       "      <td>150000</td>\n",
       "      <td>6</td>\n",
       "      <td>petrol</td>\n",
       "      <td>volkswagen</td>\n",
       "      <td>no</td>\n",
       "      <td>91074</td>\n",
       "    </tr>\n",
       "    <tr>\n",
       "      <th>2</th>\n",
       "      <td>3600</td>\n",
       "      <td>small</td>\n",
       "      <td>2008</td>\n",
       "      <td>manual</td>\n",
       "      <td>69</td>\n",
       "      <td>fabia</td>\n",
       "      <td>90000</td>\n",
       "      <td>7</td>\n",
       "      <td>gasoline</td>\n",
       "      <td>skoda</td>\n",
       "      <td>no</td>\n",
       "      <td>60437</td>\n",
       "    </tr>\n",
       "    <tr>\n",
       "      <th>3</th>\n",
       "      <td>650</td>\n",
       "      <td>sedan</td>\n",
       "      <td>1995</td>\n",
       "      <td>manual</td>\n",
       "      <td>102</td>\n",
       "      <td>3er</td>\n",
       "      <td>150000</td>\n",
       "      <td>10</td>\n",
       "      <td>petrol</td>\n",
       "      <td>bmw</td>\n",
       "      <td>yes</td>\n",
       "      <td>33775</td>\n",
       "    </tr>\n",
       "    <tr>\n",
       "      <th>4</th>\n",
       "      <td>2200</td>\n",
       "      <td>convertible</td>\n",
       "      <td>2004</td>\n",
       "      <td>manual</td>\n",
       "      <td>109</td>\n",
       "      <td>2_reihe</td>\n",
       "      <td>150000</td>\n",
       "      <td>8</td>\n",
       "      <td>petrol</td>\n",
       "      <td>peugeot</td>\n",
       "      <td>no</td>\n",
       "      <td>67112</td>\n",
       "    </tr>\n",
       "    <tr>\n",
       "      <th>...</th>\n",
       "      <td>...</td>\n",
       "      <td>...</td>\n",
       "      <td>...</td>\n",
       "      <td>...</td>\n",
       "      <td>...</td>\n",
       "      <td>...</td>\n",
       "      <td>...</td>\n",
       "      <td>...</td>\n",
       "      <td>...</td>\n",
       "      <td>...</td>\n",
       "      <td>...</td>\n",
       "      <td>...</td>\n",
       "    </tr>\n",
       "    <tr>\n",
       "      <th>256044</th>\n",
       "      <td>3999</td>\n",
       "      <td>wagon</td>\n",
       "      <td>2005</td>\n",
       "      <td>manual</td>\n",
       "      <td>3</td>\n",
       "      <td>3er</td>\n",
       "      <td>150000</td>\n",
       "      <td>5</td>\n",
       "      <td>gasoline</td>\n",
       "      <td>bmw</td>\n",
       "      <td>no</td>\n",
       "      <td>81825</td>\n",
       "    </tr>\n",
       "    <tr>\n",
       "      <th>256045</th>\n",
       "      <td>3200</td>\n",
       "      <td>sedan</td>\n",
       "      <td>2004</td>\n",
       "      <td>manual</td>\n",
       "      <td>225</td>\n",
       "      <td>leon</td>\n",
       "      <td>150000</td>\n",
       "      <td>5</td>\n",
       "      <td>petrol</td>\n",
       "      <td>seat</td>\n",
       "      <td>yes</td>\n",
       "      <td>96465</td>\n",
       "    </tr>\n",
       "    <tr>\n",
       "      <th>256046</th>\n",
       "      <td>1199</td>\n",
       "      <td>convertible</td>\n",
       "      <td>2000</td>\n",
       "      <td>auto</td>\n",
       "      <td>101</td>\n",
       "      <td>fortwo</td>\n",
       "      <td>125000</td>\n",
       "      <td>3</td>\n",
       "      <td>petrol</td>\n",
       "      <td>smart</td>\n",
       "      <td>no</td>\n",
       "      <td>26135</td>\n",
       "    </tr>\n",
       "    <tr>\n",
       "      <th>256047</th>\n",
       "      <td>9200</td>\n",
       "      <td>bus</td>\n",
       "      <td>1996</td>\n",
       "      <td>manual</td>\n",
       "      <td>102</td>\n",
       "      <td>transporter</td>\n",
       "      <td>150000</td>\n",
       "      <td>3</td>\n",
       "      <td>gasoline</td>\n",
       "      <td>volkswagen</td>\n",
       "      <td>no</td>\n",
       "      <td>87439</td>\n",
       "    </tr>\n",
       "    <tr>\n",
       "      <th>256048</th>\n",
       "      <td>3400</td>\n",
       "      <td>wagon</td>\n",
       "      <td>2002</td>\n",
       "      <td>manual</td>\n",
       "      <td>100</td>\n",
       "      <td>golf</td>\n",
       "      <td>150000</td>\n",
       "      <td>6</td>\n",
       "      <td>gasoline</td>\n",
       "      <td>volkswagen</td>\n",
       "      <td>unknown</td>\n",
       "      <td>40764</td>\n",
       "    </tr>\n",
       "  </tbody>\n",
       "</table>\n",
       "<p>256049 rows × 12 columns</p>\n",
       "</div>"
      ],
      "text/plain": [
       "        Price  VehicleType  RegistrationYear Gearbox  Power        Model  \\\n",
       "0        9800          suv              2004    auto    163        grand   \n",
       "1        1500        small              2001  manual     75         golf   \n",
       "2        3600        small              2008  manual     69        fabia   \n",
       "3         650        sedan              1995  manual    102          3er   \n",
       "4        2200  convertible              2004  manual    109      2_reihe   \n",
       "...       ...          ...               ...     ...    ...          ...   \n",
       "256044   3999        wagon              2005  manual      3          3er   \n",
       "256045   3200        sedan              2004  manual    225         leon   \n",
       "256046   1199  convertible              2000    auto    101       fortwo   \n",
       "256047   9200          bus              1996  manual    102  transporter   \n",
       "256048   3400        wagon              2002  manual    100         golf   \n",
       "\n",
       "        Kilometer  RegistrationMonth  FuelType       Brand NotRepaired  \\\n",
       "0          125000                  8  gasoline        jeep     unknown   \n",
       "1          150000                  6    petrol  volkswagen          no   \n",
       "2           90000                  7  gasoline       skoda          no   \n",
       "3          150000                 10    petrol         bmw         yes   \n",
       "4          150000                  8    petrol     peugeot          no   \n",
       "...           ...                ...       ...         ...         ...   \n",
       "256044     150000                  5  gasoline         bmw          no   \n",
       "256045     150000                  5    petrol        seat         yes   \n",
       "256046     125000                  3    petrol       smart          no   \n",
       "256047     150000                  3  gasoline  volkswagen          no   \n",
       "256048     150000                  6  gasoline  volkswagen     unknown   \n",
       "\n",
       "        PostalCode  \n",
       "0            90480  \n",
       "1            91074  \n",
       "2            60437  \n",
       "3            33775  \n",
       "4            67112  \n",
       "...            ...  \n",
       "256044       81825  \n",
       "256045       96465  \n",
       "256046       26135  \n",
       "256047       87439  \n",
       "256048       40764  \n",
       "\n",
       "[256049 rows x 12 columns]"
      ]
     },
     "execution_count": 22,
     "metadata": {},
     "output_type": "execute_result"
    }
   ],
   "source": [
    "data_category"
   ]
  },
  {
   "cell_type": "markdown",
   "metadata": {},
   "source": [
    "###### Вывод"
   ]
  },
  {
   "cell_type": "markdown",
   "metadata": {},
   "source": [
    "Заполнили пропущенные значения, удалили ненужные столбцы. Также сохранили копию таблицы для модели CatBoostRegressor и кодировали категориальные признаки для остальных моделей обучения."
   ]
  },
  {
   "cell_type": "markdown",
   "metadata": {},
   "source": [
    "## Обучение моделей"
   ]
  },
  {
   "cell_type": "markdown",
   "metadata": {},
   "source": [
    "Выделим целевой признак Price и остальные признаки отдельно для data и data_category."
   ]
  },
  {
   "cell_type": "code",
   "execution_count": 23,
   "metadata": {},
   "outputs": [],
   "source": [
    "features = data.drop(['Price'], axis=1) #выделим признаки\n",
    "target = data['Price'] #выделим целевой признак Price\n",
    "\n",
    "features_cat = data_category.drop(['Price'], axis=1) #выделим признаки\n",
    "target_cat = data_category['Price'] #выделим целевой признак Price\n",
    "\n",
    "features_ohe = data_ohe.drop(['Price'], axis=1) #выделим признаки\n",
    "target_ohe = data_ohe['Price'] #выделим целевой признак Price"
   ]
  },
  {
   "cell_type": "markdown",
   "metadata": {},
   "source": [
    "Разделим данные на features_train и features_valid в соотношении 75 на 25, и также features_train_cat и features_valid_cat."
   ]
  },
  {
   "cell_type": "code",
   "execution_count": 24,
   "metadata": {},
   "outputs": [],
   "source": [
    "features_train, features_valid, target_train, target_valid = train_test_split(features, target, test_size=0.25, random_state=12345) #разделим данные на features_train и features_valid в соотношении 75 на 25"
   ]
  },
  {
   "cell_type": "code",
   "execution_count": 25,
   "metadata": {},
   "outputs": [],
   "source": [
    "features_train_cat, features_valid_cat, target_train_cat, target_valid_cat = train_test_split(features_cat, target_cat, test_size=0.25, random_state=12345) #разделим данные на features_train и features_valid в соотношении 75 на 25"
   ]
  },
  {
   "cell_type": "code",
   "execution_count": 26,
   "metadata": {},
   "outputs": [],
   "source": [
    "features_train_ohe, features_valid_ohe, target_train_ohe, target_valid_ohe = train_test_split(features_ohe, target_ohe, test_size=0.25, random_state=12345) #разделим данные на features_train и features_valid в соотношении 75 на 25"
   ]
  },
  {
   "cell_type": "markdown",
   "metadata": {},
   "source": [
    "Напишем функцию для расчета времени выполнения обучения модели."
   ]
  },
  {
   "cell_type": "code",
   "execution_count": 27,
   "metadata": {},
   "outputs": [],
   "source": [
    "def getTimeModel(grid, features_train, target_train):\n",
    "    start = time.time() #получим текущее время и запишем в переменную start\n",
    "    grid.fit(features_train, target_train) #выполним обучение модели\n",
    "    stop = time.time() #получим время после выполнения обучения и запишем в переменную stop\n",
    "    total_time = stop - start #из stop вычтем start\n",
    "    print('Время выполнения обучения модели', total_time) #выведем время выполнения обучения модели\n",
    "    print('Лучшее значение метрики rmse:', -grid.best_score_) #выведем наилучший показатель\n",
    "    print('Лучшие параметры:', grid.best_params_) #выведем наилучшие параметры\n",
    "    return total_time, -grid.best_score_, grid.best_params_ #вернем время, метрику и наилучшие параметры"
   ]
  },
  {
   "cell_type": "code",
   "execution_count": 28,
   "metadata": {},
   "outputs": [],
   "source": [
    "data_result = []\n",
    "rmse = 0\n",
    "best_params = {}"
   ]
  },
  {
   "cell_type": "markdown",
   "metadata": {},
   "source": [
    "Обучим различные модели."
   ]
  },
  {
   "cell_type": "markdown",
   "metadata": {},
   "source": [
    "###### Модель дерева решений"
   ]
  },
  {
   "cell_type": "code",
   "execution_count": 29,
   "metadata": {},
   "outputs": [
    {
     "name": "stdout",
     "output_type": "stream",
     "text": [
      "Время выполнения обучения модели 26.599849700927734\n",
      "Лучшее значение метрики rmse: 1888.55227001559\n",
      "Лучшие параметры: {'max_depth': 13}\n"
     ]
    }
   ],
   "source": [
    "parametres = {'max_depth': range(1, 20, 2)} #определим гиперпараметры\n",
    "\n",
    "model_dt = DecisionTreeRegressor(random_state=12345)\n",
    "search_cv = GridSearchCV(model_dt, parametres, scoring='neg_root_mean_squared_error', cv=5) #применим GridSearchCV для модели model_dt\n",
    "total_time, rmse, best_params = getTimeModel(search_cv, features_train, target_train) #применим функцию getTimeModel"
   ]
  },
  {
   "cell_type": "markdown",
   "metadata": {},
   "source": [
    "Добавим полученные результаты в таблицу."
   ]
  },
  {
   "cell_type": "code",
   "execution_count": 30,
   "metadata": {},
   "outputs": [],
   "source": [
    "data_result.append(['DecisionTreeRegressor', total_time, rmse, best_params]) #добавим total_time, rmse, best_params в data_result"
   ]
  },
  {
   "cell_type": "markdown",
   "metadata": {},
   "source": [
    "###### Модель линейной регрессии"
   ]
  },
  {
   "cell_type": "code",
   "execution_count": 31,
   "metadata": {},
   "outputs": [
    {
     "name": "stdout",
     "output_type": "stream",
     "text": [
      "[CV] START .....................................................................\n"
     ]
    },
    {
     "name": "stderr",
     "output_type": "stream",
     "text": [
      "[Parallel(n_jobs=-1)]: Using backend SequentialBackend with 1 concurrent workers.\n"
     ]
    },
    {
     "name": "stdout",
     "output_type": "stream",
     "text": [
      "[CV] END ............................ score: (test=-2577.378) total time=  45.2s\n",
      "[CV] START .....................................................................\n"
     ]
    },
    {
     "name": "stderr",
     "output_type": "stream",
     "text": [
      "[Parallel(n_jobs=-1)]: Done   1 out of   1 | elapsed:   45.2s remaining:    0.0s\n"
     ]
    },
    {
     "name": "stdout",
     "output_type": "stream",
     "text": [
      "[CV] END ............................ score: (test=-2574.125) total time=  44.0s\n",
      "[CV] START .....................................................................\n"
     ]
    },
    {
     "name": "stderr",
     "output_type": "stream",
     "text": [
      "[Parallel(n_jobs=-1)]: Done   2 out of   2 | elapsed:  1.5min remaining:    0.0s\n"
     ]
    },
    {
     "name": "stdout",
     "output_type": "stream",
     "text": [
      "[CV] END ............................ score: (test=-2593.540) total time=  26.2s\n",
      "[CV] START .....................................................................\n"
     ]
    },
    {
     "name": "stderr",
     "output_type": "stream",
     "text": [
      "[Parallel(n_jobs=-1)]: Done   3 out of   3 | elapsed:  1.9min remaining:    0.0s\n"
     ]
    },
    {
     "name": "stdout",
     "output_type": "stream",
     "text": [
      "[CV] END ............................ score: (test=-2572.316) total time=  27.0s\n",
      "[CV] START .....................................................................\n"
     ]
    },
    {
     "name": "stderr",
     "output_type": "stream",
     "text": [
      "[Parallel(n_jobs=-1)]: Done   4 out of   4 | elapsed:  2.4min remaining:    0.0s\n"
     ]
    },
    {
     "name": "stdout",
     "output_type": "stream",
     "text": [
      "[CV] END ............................ score: (test=-2595.760) total time=  45.1s\n",
      "Лучшее значение метрики rmse для модели линейной регрессии: 2582.6238107919644\n"
     ]
    },
    {
     "name": "stderr",
     "output_type": "stream",
     "text": [
      "[Parallel(n_jobs=-1)]: Done   5 out of   5 | elapsed:  3.1min remaining:    0.0s\n",
      "[Parallel(n_jobs=-1)]: Done   5 out of   5 | elapsed:  3.1min finished\n"
     ]
    }
   ],
   "source": [
    "start = time.time() #получим текущее время и запишем в переменную start\n",
    "\n",
    "model_lr = LinearRegression()\n",
    "cross_val = cross_val_score(model_lr, features_train_ohe, target_train_ohe, scoring='neg_root_mean_squared_error', n_jobs=-1, cv=5, verbose=10) #применим cross_val_score для модели model_lr\n",
    "\n",
    "stop = time.time() #получим время после выполнения обучения и запишем в переменную stop\n",
    "total_time = stop - start #из stop вычтем start\n",
    "print('Лучшее значение метрики rmse для модели линейной регрессии:', -cross_val.mean())"
   ]
  },
  {
   "cell_type": "markdown",
   "metadata": {},
   "source": [
    "Добавим полученные результаты в таблицу."
   ]
  },
  {
   "cell_type": "code",
   "execution_count": 32,
   "metadata": {},
   "outputs": [],
   "source": [
    "data_result.append(['LinearRegression', total_time, -cross_val.mean()]) #добавим total_time, -cross_val.mean() в data_result"
   ]
  },
  {
   "cell_type": "markdown",
   "metadata": {},
   "source": [
    "###### Модель случайного леса"
   ]
  },
  {
   "cell_type": "code",
   "execution_count": 33,
   "metadata": {},
   "outputs": [
    {
     "name": "stdout",
     "output_type": "stream",
     "text": [
      "Время выполнения обучения модели 37.16268444061279\n",
      "Лучшее значение метрики rmse: 1779.0016364628275\n",
      "Лучшие параметры: {'n_estimators': 10, 'max_depth': 11}\n"
     ]
    }
   ],
   "source": [
    "parametres = {'max_depth': range(1, 12, 2), #определим гиперпараметры\n",
    "              'n_estimators': range(10, 15, 5)}\n",
    "\n",
    "model_rf = RandomForestRegressor(random_state=12345)\n",
    "r_search_cv = RandomizedSearchCV(model_rf, parametres, scoring='neg_root_mean_squared_error', cv=3) #применим RandomizedSearchCV для модели model_rf\n",
    "total_time, rmse, best_params = getTimeModel(r_search_cv, features_train, target_train) #применим функцию getTimeModel"
   ]
  },
  {
   "cell_type": "markdown",
   "metadata": {},
   "source": [
    "Добавим полученные результаты в таблицу."
   ]
  },
  {
   "cell_type": "code",
   "execution_count": 34,
   "metadata": {},
   "outputs": [],
   "source": [
    "data_result.append(['RandomForestRegressor', total_time, rmse, best_params]) #добавим total_time, rmse, best_params в data_result"
   ]
  },
  {
   "cell_type": "markdown",
   "metadata": {},
   "source": [
    "###### Модель LGBMRegressor"
   ]
  },
  {
   "cell_type": "code",
   "execution_count": 35,
   "metadata": {},
   "outputs": [
    {
     "name": "stdout",
     "output_type": "stream",
     "text": [
      "Fitting 3 folds for each of 50 candidates, totalling 150 fits\n",
      "[CV 1/3; 1/50] START max_depth=1, n_estimators=10...............................\n",
      "[CV 1/3; 1/50] END .............max_depth=1, n_estimators=10; total time=   3.8s\n",
      "[CV 2/3; 1/50] START max_depth=1, n_estimators=10...............................\n",
      "[CV 2/3; 1/50] END .............max_depth=1, n_estimators=10; total time=   3.7s\n",
      "[CV 3/3; 1/50] START max_depth=1, n_estimators=10...............................\n",
      "[CV 3/3; 1/50] END .............max_depth=1, n_estimators=10; total time=   3.8s\n",
      "[CV 1/3; 2/50] START max_depth=1, n_estimators=12...............................\n",
      "[CV 1/3; 2/50] END .............max_depth=1, n_estimators=12; total time=   4.4s\n",
      "[CV 2/3; 2/50] START max_depth=1, n_estimators=12...............................\n",
      "[CV 2/3; 2/50] END .............max_depth=1, n_estimators=12; total time=   4.3s\n",
      "[CV 3/3; 2/50] START max_depth=1, n_estimators=12...............................\n",
      "[CV 3/3; 2/50] END .............max_depth=1, n_estimators=12; total time=   4.6s\n",
      "[CV 1/3; 3/50] START max_depth=1, n_estimators=14...............................\n",
      "[CV 1/3; 3/50] END .............max_depth=1, n_estimators=14; total time=   5.4s\n",
      "[CV 2/3; 3/50] START max_depth=1, n_estimators=14...............................\n",
      "[CV 2/3; 3/50] END .............max_depth=1, n_estimators=14; total time=   5.5s\n",
      "[CV 3/3; 3/50] START max_depth=1, n_estimators=14...............................\n",
      "[CV 3/3; 3/50] END .............max_depth=1, n_estimators=14; total time=   5.3s\n",
      "[CV 1/3; 4/50] START max_depth=1, n_estimators=16...............................\n",
      "[CV 1/3; 4/50] END .............max_depth=1, n_estimators=16; total time=   5.7s\n",
      "[CV 2/3; 4/50] START max_depth=1, n_estimators=16...............................\n",
      "[CV 2/3; 4/50] END .............max_depth=1, n_estimators=16; total time=   5.7s\n",
      "[CV 3/3; 4/50] START max_depth=1, n_estimators=16...............................\n",
      "[CV 3/3; 4/50] END .............max_depth=1, n_estimators=16; total time=   5.7s\n",
      "[CV 1/3; 5/50] START max_depth=1, n_estimators=18...............................\n",
      "[CV 1/3; 5/50] END .............max_depth=1, n_estimators=18; total time=   6.1s\n",
      "[CV 2/3; 5/50] START max_depth=1, n_estimators=18...............................\n",
      "[CV 2/3; 5/50] END .............max_depth=1, n_estimators=18; total time=   6.7s\n",
      "[CV 3/3; 5/50] START max_depth=1, n_estimators=18...............................\n",
      "[CV 3/3; 5/50] END .............max_depth=1, n_estimators=18; total time=   6.2s\n",
      "[CV 1/3; 6/50] START max_depth=3, n_estimators=10...............................\n",
      "[CV 1/3; 6/50] END .............max_depth=3, n_estimators=10; total time=  10.9s\n",
      "[CV 2/3; 6/50] START max_depth=3, n_estimators=10...............................\n",
      "[CV 2/3; 6/50] END .............max_depth=3, n_estimators=10; total time=   9.7s\n",
      "[CV 3/3; 6/50] START max_depth=3, n_estimators=10...............................\n",
      "[CV 3/3; 6/50] END .............max_depth=3, n_estimators=10; total time=  11.6s\n",
      "[CV 1/3; 7/50] START max_depth=3, n_estimators=12...............................\n",
      "[CV 1/3; 7/50] END .............max_depth=3, n_estimators=12; total time=  10.8s\n",
      "[CV 2/3; 7/50] START max_depth=3, n_estimators=12...............................\n",
      "[CV 2/3; 7/50] END .............max_depth=3, n_estimators=12; total time=  10.2s\n",
      "[CV 3/3; 7/50] START max_depth=3, n_estimators=12...............................\n",
      "[CV 3/3; 7/50] END .............max_depth=3, n_estimators=12; total time=  12.0s\n",
      "[CV 1/3; 8/50] START max_depth=3, n_estimators=14...............................\n",
      "[CV 1/3; 8/50] END .............max_depth=3, n_estimators=14; total time=  14.3s\n",
      "[CV 2/3; 8/50] START max_depth=3, n_estimators=14...............................\n",
      "[CV 2/3; 8/50] END .............max_depth=3, n_estimators=14; total time=  11.8s\n",
      "[CV 3/3; 8/50] START max_depth=3, n_estimators=14...............................\n",
      "[CV 3/3; 8/50] END .............max_depth=3, n_estimators=14; total time=  11.8s\n",
      "[CV 1/3; 9/50] START max_depth=3, n_estimators=16...............................\n",
      "[CV 1/3; 9/50] END .............max_depth=3, n_estimators=16; total time=  13.3s\n",
      "[CV 2/3; 9/50] START max_depth=3, n_estimators=16...............................\n",
      "[CV 2/3; 9/50] END .............max_depth=3, n_estimators=16; total time=  13.5s\n",
      "[CV 3/3; 9/50] START max_depth=3, n_estimators=16...............................\n",
      "[CV 3/3; 9/50] END .............max_depth=3, n_estimators=16; total time=  13.6s\n",
      "[CV 1/3; 10/50] START max_depth=3, n_estimators=18..............................\n",
      "[CV 1/3; 10/50] END ............max_depth=3, n_estimators=18; total time=  14.7s\n",
      "[CV 2/3; 10/50] START max_depth=3, n_estimators=18..............................\n",
      "[CV 2/3; 10/50] END ............max_depth=3, n_estimators=18; total time=  14.6s\n",
      "[CV 3/3; 10/50] START max_depth=3, n_estimators=18..............................\n",
      "[CV 3/3; 10/50] END ............max_depth=3, n_estimators=18; total time=  14.5s\n",
      "[CV 1/3; 11/50] START max_depth=5, n_estimators=10..............................\n",
      "[CV 1/3; 11/50] END ............max_depth=5, n_estimators=10; total time=  33.0s\n",
      "[CV 2/3; 11/50] START max_depth=5, n_estimators=10..............................\n",
      "[CV 2/3; 11/50] END ............max_depth=5, n_estimators=10; total time=  26.9s\n",
      "[CV 3/3; 11/50] START max_depth=5, n_estimators=10..............................\n",
      "[CV 3/3; 11/50] END ............max_depth=5, n_estimators=10; total time=  26.7s\n",
      "[CV 1/3; 12/50] START max_depth=5, n_estimators=12..............................\n",
      "[CV 1/3; 12/50] END ............max_depth=5, n_estimators=12; total time=  32.1s\n",
      "[CV 2/3; 12/50] START max_depth=5, n_estimators=12..............................\n",
      "[CV 2/3; 12/50] END ............max_depth=5, n_estimators=12; total time=  40.1s\n",
      "[CV 3/3; 12/50] START max_depth=5, n_estimators=12..............................\n",
      "[CV 3/3; 12/50] END ............max_depth=5, n_estimators=12; total time=  31.8s\n",
      "[CV 1/3; 13/50] START max_depth=5, n_estimators=14..............................\n",
      "[CV 1/3; 13/50] END ............max_depth=5, n_estimators=14; total time=  38.5s\n",
      "[CV 2/3; 13/50] START max_depth=5, n_estimators=14..............................\n",
      "[CV 2/3; 13/50] END ............max_depth=5, n_estimators=14; total time=  42.2s\n",
      "[CV 3/3; 13/50] START max_depth=5, n_estimators=14..............................\n",
      "[CV 3/3; 13/50] END ............max_depth=5, n_estimators=14; total time=  40.3s\n",
      "[CV 1/3; 14/50] START max_depth=5, n_estimators=16..............................\n",
      "[CV 1/3; 14/50] END ............max_depth=5, n_estimators=16; total time=  45.1s\n",
      "[CV 2/3; 14/50] START max_depth=5, n_estimators=16..............................\n",
      "[CV 2/3; 14/50] END ............max_depth=5, n_estimators=16; total time=  44.8s\n",
      "[CV 3/3; 14/50] START max_depth=5, n_estimators=16..............................\n",
      "[CV 3/3; 14/50] END ............max_depth=5, n_estimators=16; total time=  42.2s\n",
      "[CV 1/3; 15/50] START max_depth=5, n_estimators=18..............................\n",
      "[CV 1/3; 15/50] END ............max_depth=5, n_estimators=18; total time= 1.0min\n",
      "[CV 2/3; 15/50] START max_depth=5, n_estimators=18..............................\n",
      "[CV 2/3; 15/50] END ............max_depth=5, n_estimators=18; total time=  52.3s\n",
      "[CV 3/3; 15/50] START max_depth=5, n_estimators=18..............................\n",
      "[CV 3/3; 15/50] END ............max_depth=5, n_estimators=18; total time=  50.7s\n",
      "[CV 1/3; 16/50] START max_depth=7, n_estimators=10..............................\n",
      "[CV 1/3; 16/50] END ............max_depth=7, n_estimators=10; total time=  44.5s\n",
      "[CV 2/3; 16/50] START max_depth=7, n_estimators=10..............................\n",
      "[CV 2/3; 16/50] END ............max_depth=7, n_estimators=10; total time=  36.9s\n",
      "[CV 3/3; 16/50] START max_depth=7, n_estimators=10..............................\n",
      "[CV 3/3; 16/50] END ............max_depth=7, n_estimators=10; total time=  36.4s\n",
      "[CV 1/3; 17/50] START max_depth=7, n_estimators=12..............................\n",
      "[CV 1/3; 17/50] END ............max_depth=7, n_estimators=12; total time=  42.9s\n",
      "[CV 2/3; 17/50] START max_depth=7, n_estimators=12..............................\n",
      "[CV 2/3; 17/50] END ............max_depth=7, n_estimators=12; total time=  43.8s\n",
      "[CV 3/3; 17/50] START max_depth=7, n_estimators=12..............................\n",
      "[CV 3/3; 17/50] END ............max_depth=7, n_estimators=12; total time=  44.1s\n",
      "[CV 1/3; 18/50] START max_depth=7, n_estimators=14..............................\n",
      "[CV 1/3; 18/50] END ............max_depth=7, n_estimators=14; total time=  49.7s\n",
      "[CV 2/3; 18/50] START max_depth=7, n_estimators=14..............................\n",
      "[CV 2/3; 18/50] END ............max_depth=7, n_estimators=14; total time=  49.5s\n",
      "[CV 3/3; 18/50] START max_depth=7, n_estimators=14..............................\n",
      "[CV 3/3; 18/50] END ............max_depth=7, n_estimators=14; total time=  50.2s\n",
      "[CV 1/3; 19/50] START max_depth=7, n_estimators=16..............................\n",
      "[CV 1/3; 19/50] END ............max_depth=7, n_estimators=16; total time= 1.2min\n",
      "[CV 2/3; 19/50] START max_depth=7, n_estimators=16..............................\n",
      "[CV 2/3; 19/50] END ............max_depth=7, n_estimators=16; total time=  55.8s\n",
      "[CV 3/3; 19/50] START max_depth=7, n_estimators=16..............................\n",
      "[CV 3/3; 19/50] END ............max_depth=7, n_estimators=16; total time=  56.1s\n",
      "[CV 1/3; 20/50] START max_depth=7, n_estimators=18..............................\n",
      "[CV 1/3; 20/50] END ............max_depth=7, n_estimators=18; total time= 1.1min\n",
      "[CV 2/3; 20/50] START max_depth=7, n_estimators=18..............................\n",
      "[CV 2/3; 20/50] END ............max_depth=7, n_estimators=18; total time=  54.2s\n",
      "[CV 3/3; 20/50] START max_depth=7, n_estimators=18..............................\n",
      "[CV 3/3; 20/50] END ............max_depth=7, n_estimators=18; total time=  21.2s\n",
      "[CV 1/3; 21/50] START max_depth=9, n_estimators=10..............................\n",
      "[CV 1/3; 21/50] END ............max_depth=9, n_estimators=10; total time=  12.9s\n",
      "[CV 2/3; 21/50] START max_depth=9, n_estimators=10..............................\n",
      "[CV 2/3; 21/50] END ............max_depth=9, n_estimators=10; total time=  11.0s\n",
      "[CV 3/3; 21/50] START max_depth=9, n_estimators=10..............................\n",
      "[CV 3/3; 21/50] END ............max_depth=9, n_estimators=10; total time=  19.8s\n",
      "[CV 1/3; 22/50] START max_depth=9, n_estimators=12..............................\n",
      "[CV 1/3; 22/50] END ............max_depth=9, n_estimators=12; total time=  23.8s\n",
      "[CV 2/3; 22/50] START max_depth=9, n_estimators=12..............................\n",
      "[CV 2/3; 22/50] END ............max_depth=9, n_estimators=12; total time=  26.4s\n",
      "[CV 3/3; 22/50] START max_depth=9, n_estimators=12..............................\n",
      "[CV 3/3; 22/50] END ............max_depth=9, n_estimators=12; total time=  21.8s\n",
      "[CV 1/3; 23/50] START max_depth=9, n_estimators=14..............................\n",
      "[CV 1/3; 23/50] END ............max_depth=9, n_estimators=14; total time=  21.8s\n",
      "[CV 2/3; 23/50] START max_depth=9, n_estimators=14..............................\n",
      "[CV 2/3; 23/50] END ............max_depth=9, n_estimators=14; total time=  10.7s\n",
      "[CV 3/3; 23/50] START max_depth=9, n_estimators=14..............................\n",
      "[CV 3/3; 23/50] END ............max_depth=9, n_estimators=14; total time=  31.5s\n",
      "[CV 1/3; 24/50] START max_depth=9, n_estimators=16..............................\n",
      "[CV 1/3; 24/50] END ............max_depth=9, n_estimators=16; total time=  23.9s\n",
      "[CV 2/3; 24/50] START max_depth=9, n_estimators=16..............................\n",
      "[CV 2/3; 24/50] END ............max_depth=9, n_estimators=16; total time=  39.4s\n",
      "[CV 3/3; 24/50] START max_depth=9, n_estimators=16..............................\n",
      "[CV 3/3; 24/50] END ............max_depth=9, n_estimators=16; total time=  39.6s\n",
      "[CV 1/3; 25/50] START max_depth=9, n_estimators=18..............................\n",
      "[CV 1/3; 25/50] END ............max_depth=9, n_estimators=18; total time=  26.2s\n",
      "[CV 2/3; 25/50] START max_depth=9, n_estimators=18..............................\n",
      "[CV 2/3; 25/50] END ............max_depth=9, n_estimators=18; total time=  23.7s\n",
      "[CV 3/3; 25/50] START max_depth=9, n_estimators=18..............................\n",
      "[CV 3/3; 25/50] END ............max_depth=9, n_estimators=18; total time=  23.1s\n",
      "[CV 1/3; 26/50] START max_depth=11, n_estimators=10.............................\n",
      "[CV 1/3; 26/50] END ...........max_depth=11, n_estimators=10; total time=  16.2s\n",
      "[CV 2/3; 26/50] START max_depth=11, n_estimators=10.............................\n",
      "[CV 2/3; 26/50] END ...........max_depth=11, n_estimators=10; total time=  10.3s\n",
      "[CV 3/3; 26/50] START max_depth=11, n_estimators=10.............................\n",
      "[CV 3/3; 26/50] END ...........max_depth=11, n_estimators=10; total time=  17.9s\n",
      "[CV 1/3; 27/50] START max_depth=11, n_estimators=12.............................\n",
      "[CV 1/3; 27/50] END ...........max_depth=11, n_estimators=12; total time=  17.8s\n",
      "[CV 2/3; 27/50] START max_depth=11, n_estimators=12.............................\n",
      "[CV 2/3; 27/50] END ...........max_depth=11, n_estimators=12; total time=  21.0s\n",
      "[CV 3/3; 27/50] START max_depth=11, n_estimators=12.............................\n",
      "[CV 3/3; 27/50] END ...........max_depth=11, n_estimators=12; total time=  21.9s\n",
      "[CV 1/3; 28/50] START max_depth=11, n_estimators=14.............................\n",
      "[CV 1/3; 28/50] END ...........max_depth=11, n_estimators=14; total time=  17.3s\n",
      "[CV 2/3; 28/50] START max_depth=11, n_estimators=14.............................\n",
      "[CV 2/3; 28/50] END ...........max_depth=11, n_estimators=14; total time=  26.4s\n",
      "[CV 3/3; 28/50] START max_depth=11, n_estimators=14.............................\n",
      "[CV 3/3; 28/50] END ...........max_depth=11, n_estimators=14; total time=  16.4s\n",
      "[CV 1/3; 29/50] START max_depth=11, n_estimators=16.............................\n",
      "[CV 1/3; 29/50] END ...........max_depth=11, n_estimators=16; total time=  23.4s\n",
      "[CV 2/3; 29/50] START max_depth=11, n_estimators=16.............................\n",
      "[CV 2/3; 29/50] END ...........max_depth=11, n_estimators=16; total time=  29.2s\n",
      "[CV 3/3; 29/50] START max_depth=11, n_estimators=16.............................\n",
      "[CV 3/3; 29/50] END ...........max_depth=11, n_estimators=16; total time=  14.4s\n",
      "[CV 1/3; 30/50] START max_depth=11, n_estimators=18.............................\n",
      "[CV 1/3; 30/50] END ...........max_depth=11, n_estimators=18; total time=  24.7s\n",
      "[CV 2/3; 30/50] START max_depth=11, n_estimators=18.............................\n",
      "[CV 2/3; 30/50] END ...........max_depth=11, n_estimators=18; total time=  22.8s\n",
      "[CV 3/3; 30/50] START max_depth=11, n_estimators=18.............................\n",
      "[CV 3/3; 30/50] END ...........max_depth=11, n_estimators=18; total time=  44.6s\n",
      "[CV 1/3; 31/50] START max_depth=13, n_estimators=10.............................\n",
      "[CV 1/3; 31/50] END ...........max_depth=13, n_estimators=10; total time=  16.2s\n",
      "[CV 2/3; 31/50] START max_depth=13, n_estimators=10.............................\n",
      "[CV 2/3; 31/50] END ...........max_depth=13, n_estimators=10; total time=  13.7s\n",
      "[CV 3/3; 31/50] START max_depth=13, n_estimators=10.............................\n",
      "[CV 3/3; 31/50] END ...........max_depth=13, n_estimators=10; total time=  19.5s\n",
      "[CV 1/3; 32/50] START max_depth=13, n_estimators=12.............................\n",
      "[CV 1/3; 32/50] END ...........max_depth=13, n_estimators=12; total time=  20.7s\n",
      "[CV 2/3; 32/50] START max_depth=13, n_estimators=12.............................\n",
      "[CV 2/3; 32/50] END ...........max_depth=13, n_estimators=12; total time=  41.3s\n",
      "[CV 3/3; 32/50] START max_depth=13, n_estimators=12.............................\n",
      "[CV 3/3; 32/50] END ...........max_depth=13, n_estimators=12; total time=  47.9s\n",
      "[CV 1/3; 33/50] START max_depth=13, n_estimators=14.............................\n",
      "[CV 1/3; 33/50] END ...........max_depth=13, n_estimators=14; total time=  54.3s\n",
      "[CV 2/3; 33/50] START max_depth=13, n_estimators=14.............................\n",
      "[CV 2/3; 33/50] END ...........max_depth=13, n_estimators=14; total time=  54.3s\n",
      "[CV 3/3; 33/50] START max_depth=13, n_estimators=14.............................\n",
      "[CV 3/3; 33/50] END ...........max_depth=13, n_estimators=14; total time=  55.3s\n",
      "[CV 1/3; 34/50] START max_depth=13, n_estimators=16.............................\n",
      "[CV 1/3; 34/50] END ...........max_depth=13, n_estimators=16; total time= 1.0min\n",
      "[CV 2/3; 34/50] START max_depth=13, n_estimators=16.............................\n",
      "[CV 2/3; 34/50] END ...........max_depth=13, n_estimators=16; total time=  48.9s\n",
      "[CV 3/3; 34/50] START max_depth=13, n_estimators=16.............................\n",
      "[CV 3/3; 34/50] END ...........max_depth=13, n_estimators=16; total time=  16.7s\n",
      "[CV 1/3; 35/50] START max_depth=13, n_estimators=18.............................\n",
      "[CV 1/3; 35/50] END ...........max_depth=13, n_estimators=18; total time=   8.3s\n",
      "[CV 2/3; 35/50] START max_depth=13, n_estimators=18.............................\n",
      "[CV 2/3; 35/50] END ...........max_depth=13, n_estimators=18; total time=   8.5s\n",
      "[CV 3/3; 35/50] START max_depth=13, n_estimators=18.............................\n",
      "[CV 3/3; 35/50] END ...........max_depth=13, n_estimators=18; total time=   5.9s\n",
      "[CV 1/3; 36/50] START max_depth=15, n_estimators=10.............................\n",
      "[CV 1/3; 36/50] END ...........max_depth=15, n_estimators=10; total time=   2.9s\n",
      "[CV 2/3; 36/50] START max_depth=15, n_estimators=10.............................\n",
      "[CV 2/3; 36/50] END ...........max_depth=15, n_estimators=10; total time=   3.9s\n",
      "[CV 3/3; 36/50] START max_depth=15, n_estimators=10.............................\n",
      "[CV 3/3; 36/50] END ...........max_depth=15, n_estimators=10; total time=   3.2s\n",
      "[CV 1/3; 37/50] START max_depth=15, n_estimators=12.............................\n",
      "[CV 1/3; 37/50] END ...........max_depth=15, n_estimators=12; total time=   4.0s\n",
      "[CV 2/3; 37/50] START max_depth=15, n_estimators=12.............................\n",
      "[CV 2/3; 37/50] END ...........max_depth=15, n_estimators=12; total time=   4.5s\n",
      "[CV 3/3; 37/50] START max_depth=15, n_estimators=12.............................\n",
      "[CV 3/3; 37/50] END ...........max_depth=15, n_estimators=12; total time=   6.1s\n",
      "[CV 1/3; 38/50] START max_depth=15, n_estimators=14.............................\n",
      "[CV 1/3; 38/50] END ...........max_depth=15, n_estimators=14; total time=   8.2s\n",
      "[CV 2/3; 38/50] START max_depth=15, n_estimators=14.............................\n",
      "[CV 2/3; 38/50] END ...........max_depth=15, n_estimators=14; total time=   4.7s\n",
      "[CV 3/3; 38/50] START max_depth=15, n_estimators=14.............................\n",
      "[CV 3/3; 38/50] END ...........max_depth=15, n_estimators=14; total time=   4.0s\n",
      "[CV 1/3; 39/50] START max_depth=15, n_estimators=16.............................\n",
      "[CV 1/3; 39/50] END ...........max_depth=15, n_estimators=16; total time=   8.6s\n",
      "[CV 2/3; 39/50] START max_depth=15, n_estimators=16.............................\n",
      "[CV 2/3; 39/50] END ...........max_depth=15, n_estimators=16; total time=   5.1s\n",
      "[CV 3/3; 39/50] START max_depth=15, n_estimators=16.............................\n",
      "[CV 3/3; 39/50] END ...........max_depth=15, n_estimators=16; total time=   6.1s\n",
      "[CV 1/3; 40/50] START max_depth=15, n_estimators=18.............................\n",
      "[CV 1/3; 40/50] END ...........max_depth=15, n_estimators=18; total time=  13.5s\n",
      "[CV 2/3; 40/50] START max_depth=15, n_estimators=18.............................\n",
      "[CV 2/3; 40/50] END ...........max_depth=15, n_estimators=18; total time=  19.7s\n",
      "[CV 3/3; 40/50] START max_depth=15, n_estimators=18.............................\n",
      "[CV 3/3; 40/50] END ...........max_depth=15, n_estimators=18; total time=  20.9s\n",
      "[CV 1/3; 41/50] START max_depth=17, n_estimators=10.............................\n",
      "[CV 1/3; 41/50] END ...........max_depth=17, n_estimators=10; total time=  11.2s\n",
      "[CV 2/3; 41/50] START max_depth=17, n_estimators=10.............................\n",
      "[CV 2/3; 41/50] END ...........max_depth=17, n_estimators=10; total time=  16.5s\n",
      "[CV 3/3; 41/50] START max_depth=17, n_estimators=10.............................\n",
      "[CV 3/3; 41/50] END ...........max_depth=17, n_estimators=10; total time=  12.2s\n",
      "[CV 1/3; 42/50] START max_depth=17, n_estimators=12.............................\n",
      "[CV 1/3; 42/50] END ...........max_depth=17, n_estimators=12; total time=  16.4s\n",
      "[CV 2/3; 42/50] START max_depth=17, n_estimators=12.............................\n",
      "[CV 2/3; 42/50] END ...........max_depth=17, n_estimators=12; total time=  10.8s\n",
      "[CV 3/3; 42/50] START max_depth=17, n_estimators=12.............................\n",
      "[CV 3/3; 42/50] END ...........max_depth=17, n_estimators=12; total time=  17.8s\n",
      "[CV 1/3; 43/50] START max_depth=17, n_estimators=14.............................\n",
      "[CV 1/3; 43/50] END ...........max_depth=17, n_estimators=14; total time=  23.0s\n",
      "[CV 2/3; 43/50] START max_depth=17, n_estimators=14.............................\n",
      "[CV 2/3; 43/50] END ...........max_depth=17, n_estimators=14; total time=  13.2s\n",
      "[CV 3/3; 43/50] START max_depth=17, n_estimators=14.............................\n",
      "[CV 3/3; 43/50] END ...........max_depth=17, n_estimators=14; total time=  22.8s\n",
      "[CV 1/3; 44/50] START max_depth=17, n_estimators=16.............................\n",
      "[CV 1/3; 44/50] END ...........max_depth=17, n_estimators=16; total time=  20.1s\n",
      "[CV 2/3; 44/50] START max_depth=17, n_estimators=16.............................\n",
      "[CV 2/3; 44/50] END ...........max_depth=17, n_estimators=16; total time=  23.2s\n",
      "[CV 3/3; 44/50] START max_depth=17, n_estimators=16.............................\n",
      "[CV 3/3; 44/50] END ...........max_depth=17, n_estimators=16; total time=  28.6s\n",
      "[CV 1/3; 45/50] START max_depth=17, n_estimators=18.............................\n",
      "[CV 1/3; 45/50] END ...........max_depth=17, n_estimators=18; total time=  24.0s\n",
      "[CV 2/3; 45/50] START max_depth=17, n_estimators=18.............................\n",
      "[CV 2/3; 45/50] END ...........max_depth=17, n_estimators=18; total time=  30.4s\n",
      "[CV 3/3; 45/50] START max_depth=17, n_estimators=18.............................\n",
      "[CV 3/3; 45/50] END ...........max_depth=17, n_estimators=18; total time=  23.1s\n",
      "[CV 1/3; 46/50] START max_depth=19, n_estimators=10.............................\n",
      "[CV 1/3; 46/50] END ...........max_depth=19, n_estimators=10; total time=  20.0s\n",
      "[CV 2/3; 46/50] START max_depth=19, n_estimators=10.............................\n",
      "[CV 2/3; 46/50] END ...........max_depth=19, n_estimators=10; total time=   8.4s\n",
      "[CV 3/3; 46/50] START max_depth=19, n_estimators=10.............................\n",
      "[CV 3/3; 46/50] END ...........max_depth=19, n_estimators=10; total time=   8.2s\n",
      "[CV 1/3; 47/50] START max_depth=19, n_estimators=12.............................\n",
      "[CV 1/3; 47/50] END ...........max_depth=19, n_estimators=12; total time=   4.7s\n",
      "[CV 2/3; 47/50] START max_depth=19, n_estimators=12.............................\n",
      "[CV 2/3; 47/50] END ...........max_depth=19, n_estimators=12; total time=   5.7s\n",
      "[CV 3/3; 47/50] START max_depth=19, n_estimators=12.............................\n",
      "[CV 3/3; 47/50] END ...........max_depth=19, n_estimators=12; total time=   4.4s\n",
      "[CV 1/3; 48/50] START max_depth=19, n_estimators=14.............................\n",
      "[CV 1/3; 48/50] END ...........max_depth=19, n_estimators=14; total time=   4.9s\n",
      "[CV 2/3; 48/50] START max_depth=19, n_estimators=14.............................\n",
      "[CV 2/3; 48/50] END ...........max_depth=19, n_estimators=14; total time=   8.9s\n",
      "[CV 3/3; 48/50] START max_depth=19, n_estimators=14.............................\n",
      "[CV 3/3; 48/50] END ...........max_depth=19, n_estimators=14; total time=   5.2s\n",
      "[CV 1/3; 49/50] START max_depth=19, n_estimators=16.............................\n",
      "[CV 1/3; 49/50] END ...........max_depth=19, n_estimators=16; total time=   9.0s\n",
      "[CV 2/3; 49/50] START max_depth=19, n_estimators=16.............................\n",
      "[CV 2/3; 49/50] END ...........max_depth=19, n_estimators=16; total time=   5.8s\n",
      "[CV 3/3; 49/50] START max_depth=19, n_estimators=16.............................\n",
      "[CV 3/3; 49/50] END ...........max_depth=19, n_estimators=16; total time=   9.7s\n",
      "[CV 1/3; 50/50] START max_depth=19, n_estimators=18.............................\n",
      "[CV 1/3; 50/50] END ...........max_depth=19, n_estimators=18; total time=   7.4s\n",
      "[CV 2/3; 50/50] START max_depth=19, n_estimators=18.............................\n",
      "[CV 2/3; 50/50] END ...........max_depth=19, n_estimators=18; total time=   6.2s\n",
      "[CV 3/3; 50/50] START max_depth=19, n_estimators=18.............................\n",
      "[CV 3/3; 50/50] END ...........max_depth=19, n_estimators=18; total time=   8.1s\n",
      "Время выполнения обучения модели 3277.8332707881927\n",
      "Лучшее значение метрики rmse: 1747.3406725310706\n",
      "Лучшие параметры: {'max_depth': 9, 'n_estimators': 18}\n"
     ]
    }
   ],
   "source": [
    "parametres = {'max_depth': range(1, 20, 2), #определим гиперпараметры\n",
    "              'n_estimators': range(10, 20, 2)}\n",
    "\n",
    "model_lgbm = LGBMRegressor(random_state=12345, learning_rate=1, n_jobs=-1)\n",
    "grid_lgbm = GridSearchCV(model_lgbm, parametres, scoring='neg_root_mean_squared_error', cv=3, verbose=10) #применим GridSearchCV для модели model_lgbm\n",
    "total_time, rmse, best_params = getTimeModel(grid_lgbm, features_train, target_train) #применим функцию getTimeModel"
   ]
  },
  {
   "cell_type": "markdown",
   "metadata": {},
   "source": [
    "Добавим полученные результаты в таблицу."
   ]
  },
  {
   "cell_type": "code",
   "execution_count": 36,
   "metadata": {},
   "outputs": [],
   "source": [
    "data_result.append(['LGBMRegressor', total_time, rmse, best_params]) #добавим total_time, rmse, best_params в data_result"
   ]
  },
  {
   "cell_type": "markdown",
   "metadata": {},
   "source": [
    "###### Модель CatBoostRegressor"
   ]
  },
  {
   "cell_type": "code",
   "execution_count": 37,
   "metadata": {},
   "outputs": [
    {
     "name": "stdout",
     "output_type": "stream",
     "text": [
      "0:\tlearn: 3703.0912091\ttotal: 86.7ms\tremaining: 780ms\n",
      "1:\tlearn: 3271.8539995\ttotal: 105ms\tremaining: 419ms\n",
      "2:\tlearn: 3123.1217148\ttotal: 138ms\tremaining: 323ms\n",
      "3:\tlearn: 2979.6538839\ttotal: 165ms\tremaining: 248ms\n",
      "4:\tlearn: 2894.9073219\ttotal: 183ms\tremaining: 183ms\n",
      "5:\tlearn: 2842.6297500\ttotal: 203ms\tremaining: 135ms\n",
      "6:\tlearn: 2788.3074999\ttotal: 224ms\tremaining: 96ms\n",
      "7:\tlearn: 2716.7053027\ttotal: 242ms\tremaining: 60.4ms\n",
      "8:\tlearn: 2662.1374643\ttotal: 261ms\tremaining: 29ms\n",
      "9:\tlearn: 2626.5096612\ttotal: 279ms\tremaining: 0us\n",
      "0:\tlearn: 3694.5454547\ttotal: 28.6ms\tremaining: 257ms\n",
      "1:\tlearn: 3267.1738554\ttotal: 51.2ms\tremaining: 205ms\n",
      "2:\tlearn: 3115.0183404\ttotal: 78.7ms\tremaining: 184ms\n",
      "3:\tlearn: 2969.1563124\ttotal: 105ms\tremaining: 157ms\n",
      "4:\tlearn: 2885.2859959\ttotal: 123ms\tremaining: 123ms\n",
      "5:\tlearn: 2832.7734938\ttotal: 146ms\tremaining: 97.4ms\n",
      "6:\tlearn: 2778.8688286\ttotal: 164ms\tremaining: 70.4ms\n",
      "7:\tlearn: 2706.6809296\ttotal: 183ms\tremaining: 45.7ms\n",
      "8:\tlearn: 2645.7927003\ttotal: 202ms\tremaining: 22.4ms\n",
      "9:\tlearn: 2609.5502086\ttotal: 221ms\tremaining: 0us\n",
      "0:\tlearn: 3681.8400603\ttotal: 24.4ms\tremaining: 219ms\n",
      "1:\tlearn: 3258.9139563\ttotal: 41ms\tremaining: 164ms\n",
      "2:\tlearn: 3112.7535661\ttotal: 70.3ms\tremaining: 164ms\n",
      "3:\tlearn: 2973.1483870\ttotal: 93.3ms\tremaining: 140ms\n",
      "4:\tlearn: 2889.2769603\ttotal: 110ms\tremaining: 110ms\n",
      "5:\tlearn: 2836.4700690\ttotal: 129ms\tremaining: 85.7ms\n",
      "6:\tlearn: 2781.9693443\ttotal: 145ms\tremaining: 62ms\n",
      "7:\tlearn: 2711.8655517\ttotal: 165ms\tremaining: 41.3ms\n",
      "8:\tlearn: 2655.1347019\ttotal: 184ms\tremaining: 20.4ms\n",
      "9:\tlearn: 2620.2131339\ttotal: 201ms\tremaining: 0us\n",
      "0:\tlearn: 3703.0912091\ttotal: 23.4ms\tremaining: 257ms\n",
      "1:\tlearn: 3271.8539995\ttotal: 39.5ms\tremaining: 198ms\n",
      "2:\tlearn: 3123.1217148\ttotal: 66.6ms\tremaining: 200ms\n",
      "3:\tlearn: 2979.6538839\ttotal: 88.6ms\tremaining: 177ms\n",
      "4:\tlearn: 2894.9073219\ttotal: 105ms\tremaining: 147ms\n",
      "5:\tlearn: 2842.6297500\ttotal: 123ms\tremaining: 123ms\n",
      "6:\tlearn: 2788.3074999\ttotal: 139ms\tremaining: 99.4ms\n",
      "7:\tlearn: 2716.7053027\ttotal: 157ms\tremaining: 78.7ms\n",
      "8:\tlearn: 2662.1374643\ttotal: 177ms\tremaining: 58.9ms\n",
      "9:\tlearn: 2626.5096612\ttotal: 193ms\tremaining: 38.6ms\n",
      "10:\tlearn: 2580.4367221\ttotal: 211ms\tremaining: 19.2ms\n",
      "11:\tlearn: 2548.8971331\ttotal: 231ms\tremaining: 0us\n",
      "0:\tlearn: 3694.5454547\ttotal: 26.1ms\tremaining: 287ms\n",
      "1:\tlearn: 3267.1738554\ttotal: 42.4ms\tremaining: 212ms\n",
      "2:\tlearn: 3115.0183404\ttotal: 66.3ms\tremaining: 199ms\n",
      "3:\tlearn: 2969.1563124\ttotal: 88.7ms\tremaining: 177ms\n",
      "4:\tlearn: 2885.2859959\ttotal: 106ms\tremaining: 149ms\n",
      "5:\tlearn: 2832.7734938\ttotal: 129ms\tremaining: 129ms\n",
      "6:\tlearn: 2778.8688286\ttotal: 145ms\tremaining: 104ms\n",
      "7:\tlearn: 2706.6809296\ttotal: 161ms\tremaining: 80.5ms\n",
      "8:\tlearn: 2645.7927003\ttotal: 179ms\tremaining: 59.6ms\n",
      "9:\tlearn: 2609.5502086\ttotal: 195ms\tremaining: 39ms\n",
      "10:\tlearn: 2564.1370149\ttotal: 216ms\tremaining: 19.6ms\n",
      "11:\tlearn: 2531.5403552\ttotal: 235ms\tremaining: 0us\n",
      "0:\tlearn: 3681.8400603\ttotal: 25ms\tremaining: 275ms\n",
      "1:\tlearn: 3258.9139563\ttotal: 41.9ms\tremaining: 210ms\n",
      "2:\tlearn: 3112.7535661\ttotal: 71ms\tremaining: 213ms\n",
      "3:\tlearn: 2973.1483870\ttotal: 94.2ms\tremaining: 188ms\n",
      "4:\tlearn: 2889.2769603\ttotal: 111ms\tremaining: 156ms\n",
      "5:\tlearn: 2836.4700690\ttotal: 129ms\tremaining: 129ms\n",
      "6:\tlearn: 2781.9693443\ttotal: 146ms\tremaining: 104ms\n",
      "7:\tlearn: 2711.8655517\ttotal: 167ms\tremaining: 83.4ms\n",
      "8:\tlearn: 2655.1347019\ttotal: 185ms\tremaining: 61.6ms\n",
      "9:\tlearn: 2620.2131339\ttotal: 201ms\tremaining: 40.3ms\n",
      "10:\tlearn: 2576.6194118\ttotal: 221ms\tremaining: 20ms\n",
      "11:\tlearn: 2543.1514465\ttotal: 240ms\tremaining: 0us\n",
      "0:\tlearn: 3703.0912091\ttotal: 28.1ms\tremaining: 365ms\n",
      "1:\tlearn: 3271.8539995\ttotal: 44.5ms\tremaining: 267ms\n",
      "2:\tlearn: 3123.1217148\ttotal: 69.6ms\tremaining: 255ms\n",
      "3:\tlearn: 2979.6538839\ttotal: 92.8ms\tremaining: 232ms\n",
      "4:\tlearn: 2894.9073219\ttotal: 113ms\tremaining: 203ms\n",
      "5:\tlearn: 2842.6297500\ttotal: 131ms\tremaining: 175ms\n",
      "6:\tlearn: 2788.3074999\ttotal: 149ms\tremaining: 149ms\n",
      "7:\tlearn: 2716.7053027\ttotal: 165ms\tremaining: 124ms\n",
      "8:\tlearn: 2662.1374643\ttotal: 183ms\tremaining: 102ms\n",
      "9:\tlearn: 2626.5096612\ttotal: 200ms\tremaining: 80.1ms\n",
      "10:\tlearn: 2580.4367221\ttotal: 219ms\tremaining: 59.7ms\n",
      "11:\tlearn: 2548.8971331\ttotal: 237ms\tremaining: 39.5ms\n",
      "12:\tlearn: 2528.0005630\ttotal: 255ms\tremaining: 19.6ms\n",
      "13:\tlearn: 2501.2529248\ttotal: 271ms\tremaining: 0us\n",
      "0:\tlearn: 3694.5454547\ttotal: 24.6ms\tremaining: 320ms\n",
      "1:\tlearn: 3267.1738554\ttotal: 40.6ms\tremaining: 244ms\n",
      "2:\tlearn: 3115.0183404\ttotal: 64.7ms\tremaining: 237ms\n",
      "3:\tlearn: 2969.1563124\ttotal: 92.3ms\tremaining: 231ms\n",
      "4:\tlearn: 2885.2859959\ttotal: 110ms\tremaining: 198ms\n",
      "5:\tlearn: 2832.7734938\ttotal: 129ms\tremaining: 172ms\n",
      "6:\tlearn: 2778.8688286\ttotal: 146ms\tremaining: 146ms\n",
      "7:\tlearn: 2706.6809296\ttotal: 163ms\tremaining: 122ms\n",
      "8:\tlearn: 2645.7927003\ttotal: 185ms\tremaining: 103ms\n",
      "9:\tlearn: 2609.5502086\ttotal: 204ms\tremaining: 81.4ms\n",
      "10:\tlearn: 2564.1370149\ttotal: 226ms\tremaining: 61.6ms\n",
      "11:\tlearn: 2531.5403552\ttotal: 246ms\tremaining: 40.9ms\n",
      "12:\tlearn: 2505.0729577\ttotal: 263ms\tremaining: 20.2ms\n",
      "13:\tlearn: 2476.4268693\ttotal: 285ms\tremaining: 0us\n",
      "0:\tlearn: 3681.8400603\ttotal: 23.4ms\tremaining: 304ms\n",
      "1:\tlearn: 3258.9139563\ttotal: 38.7ms\tremaining: 232ms\n",
      "2:\tlearn: 3112.7535661\ttotal: 67.5ms\tremaining: 247ms\n",
      "3:\tlearn: 2973.1483870\ttotal: 90ms\tremaining: 225ms\n",
      "4:\tlearn: 2889.2769603\ttotal: 107ms\tremaining: 193ms\n",
      "5:\tlearn: 2836.4700690\ttotal: 125ms\tremaining: 167ms\n",
      "6:\tlearn: 2781.9693443\ttotal: 145ms\tremaining: 145ms\n",
      "7:\tlearn: 2711.8655517\ttotal: 167ms\tremaining: 125ms\n",
      "8:\tlearn: 2655.1347019\ttotal: 185ms\tremaining: 103ms\n",
      "9:\tlearn: 2620.2131339\ttotal: 201ms\tremaining: 80.5ms\n",
      "10:\tlearn: 2576.6194118\ttotal: 219ms\tremaining: 59.6ms\n",
      "11:\tlearn: 2543.1514465\ttotal: 238ms\tremaining: 39.6ms\n",
      "12:\tlearn: 2516.9626916\ttotal: 255ms\tremaining: 19.7ms\n",
      "13:\tlearn: 2486.6759998\ttotal: 272ms\tremaining: 0us\n",
      "0:\tlearn: 3703.0912091\ttotal: 28.5ms\tremaining: 427ms\n",
      "1:\tlearn: 3271.8539995\ttotal: 45.2ms\tremaining: 316ms\n",
      "2:\tlearn: 3123.1217148\ttotal: 70.6ms\tremaining: 306ms\n",
      "3:\tlearn: 2979.6538839\ttotal: 94ms\tremaining: 282ms\n",
      "4:\tlearn: 2894.9073219\ttotal: 114ms\tremaining: 251ms\n",
      "5:\tlearn: 2842.6297500\ttotal: 133ms\tremaining: 221ms\n",
      "6:\tlearn: 2788.3074999\ttotal: 149ms\tremaining: 192ms\n",
      "7:\tlearn: 2716.7053027\ttotal: 166ms\tremaining: 166ms\n",
      "8:\tlearn: 2662.1374643\ttotal: 184ms\tremaining: 143ms\n",
      "9:\tlearn: 2626.5096612\ttotal: 202ms\tremaining: 121ms\n",
      "10:\tlearn: 2580.4367221\ttotal: 219ms\tremaining: 99.4ms\n",
      "11:\tlearn: 2548.8971331\ttotal: 237ms\tremaining: 79.1ms\n",
      "12:\tlearn: 2528.0005630\ttotal: 255ms\tremaining: 58.9ms\n",
      "13:\tlearn: 2501.2529248\ttotal: 272ms\tremaining: 38.8ms\n",
      "14:\tlearn: 2472.2340982\ttotal: 290ms\tremaining: 19.3ms\n",
      "15:\tlearn: 2444.3537421\ttotal: 307ms\tremaining: 0us\n",
      "0:\tlearn: 3694.5454547\ttotal: 23.9ms\tremaining: 359ms\n",
      "1:\tlearn: 3267.1738554\ttotal: 39.9ms\tremaining: 279ms\n",
      "2:\tlearn: 3115.0183404\ttotal: 64.7ms\tremaining: 280ms\n",
      "3:\tlearn: 2969.1563124\ttotal: 87.8ms\tremaining: 263ms\n",
      "4:\tlearn: 2885.2859959\ttotal: 106ms\tremaining: 233ms\n",
      "5:\tlearn: 2832.7734938\ttotal: 123ms\tremaining: 205ms\n",
      "6:\tlearn: 2778.8688286\ttotal: 139ms\tremaining: 178ms\n",
      "7:\tlearn: 2706.6809296\ttotal: 156ms\tremaining: 156ms\n",
      "8:\tlearn: 2645.7927003\ttotal: 173ms\tremaining: 135ms\n",
      "9:\tlearn: 2609.5502086\ttotal: 193ms\tremaining: 116ms\n",
      "10:\tlearn: 2564.1370149\ttotal: 210ms\tremaining: 95.4ms\n",
      "11:\tlearn: 2531.5403552\ttotal: 228ms\tremaining: 76ms\n",
      "12:\tlearn: 2505.0729577\ttotal: 244ms\tremaining: 56.3ms\n",
      "13:\tlearn: 2476.4268693\ttotal: 260ms\tremaining: 37.1ms\n",
      "14:\tlearn: 2459.5988146\ttotal: 278ms\tremaining: 18.6ms\n",
      "15:\tlearn: 2439.0229771\ttotal: 295ms\tremaining: 0us\n",
      "0:\tlearn: 3681.8400603\ttotal: 23.2ms\tremaining: 349ms\n",
      "1:\tlearn: 3258.9139563\ttotal: 38.9ms\tremaining: 273ms\n",
      "2:\tlearn: 3112.7535661\ttotal: 63.3ms\tremaining: 274ms\n",
      "3:\tlearn: 2973.1483870\ttotal: 88.8ms\tremaining: 267ms\n",
      "4:\tlearn: 2889.2769603\ttotal: 105ms\tremaining: 231ms\n",
      "5:\tlearn: 2836.4700690\ttotal: 123ms\tremaining: 205ms\n",
      "6:\tlearn: 2781.9693443\ttotal: 139ms\tremaining: 179ms\n",
      "7:\tlearn: 2711.8655517\ttotal: 156ms\tremaining: 156ms\n",
      "8:\tlearn: 2655.1347019\ttotal: 175ms\tremaining: 136ms\n",
      "9:\tlearn: 2620.2131339\ttotal: 191ms\tremaining: 115ms\n",
      "10:\tlearn: 2576.6194118\ttotal: 210ms\tremaining: 95.4ms\n",
      "11:\tlearn: 2543.1514465\ttotal: 228ms\tremaining: 76.2ms\n",
      "12:\tlearn: 2516.9626916\ttotal: 244ms\tremaining: 56.4ms\n",
      "13:\tlearn: 2486.6759998\ttotal: 262ms\tremaining: 37.4ms\n",
      "14:\tlearn: 2453.5657592\ttotal: 285ms\tremaining: 19ms\n",
      "15:\tlearn: 2432.7357333\ttotal: 301ms\tremaining: 0us\n",
      "0:\tlearn: 3703.0912091\ttotal: 24.2ms\tremaining: 411ms\n",
      "1:\tlearn: 3271.8539995\ttotal: 39.9ms\tremaining: 319ms\n",
      "2:\tlearn: 3123.1217148\ttotal: 64.5ms\tremaining: 323ms\n",
      "3:\tlearn: 2979.6538839\ttotal: 88.2ms\tremaining: 309ms\n",
      "4:\tlearn: 2894.9073219\ttotal: 108ms\tremaining: 280ms\n",
      "5:\tlearn: 2842.6297500\ttotal: 126ms\tremaining: 253ms\n",
      "6:\tlearn: 2788.3074999\ttotal: 143ms\tremaining: 225ms\n",
      "7:\tlearn: 2716.7053027\ttotal: 160ms\tremaining: 200ms\n",
      "8:\tlearn: 2662.1374643\ttotal: 180ms\tremaining: 180ms\n",
      "9:\tlearn: 2626.5096612\ttotal: 200ms\tremaining: 160ms\n",
      "10:\tlearn: 2580.4367221\ttotal: 216ms\tremaining: 137ms\n",
      "11:\tlearn: 2548.8971331\ttotal: 234ms\tremaining: 117ms\n",
      "12:\tlearn: 2528.0005630\ttotal: 251ms\tremaining: 96.7ms\n",
      "13:\tlearn: 2501.2529248\ttotal: 267ms\tremaining: 76.2ms\n",
      "14:\tlearn: 2472.2340982\ttotal: 284ms\tremaining: 56.9ms\n",
      "15:\tlearn: 2444.3537421\ttotal: 301ms\tremaining: 37.6ms\n",
      "16:\tlearn: 2405.7876115\ttotal: 318ms\tremaining: 18.7ms\n",
      "17:\tlearn: 2384.3947927\ttotal: 333ms\tremaining: 0us\n",
      "0:\tlearn: 3694.5454547\ttotal: 25ms\tremaining: 425ms\n",
      "1:\tlearn: 3267.1738554\ttotal: 40.8ms\tremaining: 326ms\n",
      "2:\tlearn: 3115.0183404\ttotal: 64ms\tremaining: 320ms\n",
      "3:\tlearn: 2969.1563124\ttotal: 86ms\tremaining: 301ms\n",
      "4:\tlearn: 2885.2859959\ttotal: 103ms\tremaining: 268ms\n",
      "5:\tlearn: 2832.7734938\ttotal: 124ms\tremaining: 248ms\n",
      "6:\tlearn: 2778.8688286\ttotal: 140ms\tremaining: 220ms\n",
      "7:\tlearn: 2706.6809296\ttotal: 157ms\tremaining: 196ms\n",
      "8:\tlearn: 2645.7927003\ttotal: 175ms\tremaining: 175ms\n",
      "9:\tlearn: 2609.5502086\ttotal: 191ms\tremaining: 153ms\n",
      "10:\tlearn: 2564.1370149\ttotal: 210ms\tremaining: 134ms\n",
      "11:\tlearn: 2531.5403552\ttotal: 229ms\tremaining: 114ms\n",
      "12:\tlearn: 2505.0729577\ttotal: 245ms\tremaining: 94.4ms\n",
      "13:\tlearn: 2476.4268693\ttotal: 262ms\tremaining: 74.7ms\n",
      "14:\tlearn: 2459.5988146\ttotal: 278ms\tremaining: 55.5ms\n",
      "15:\tlearn: 2439.0229771\ttotal: 294ms\tremaining: 36.7ms\n",
      "16:\tlearn: 2417.3412869\ttotal: 311ms\tremaining: 18.3ms\n",
      "17:\tlearn: 2397.0552994\ttotal: 328ms\tremaining: 0us\n",
      "0:\tlearn: 3681.8400603\ttotal: 23.9ms\tremaining: 407ms\n",
      "1:\tlearn: 3258.9139563\ttotal: 40.9ms\tremaining: 327ms\n",
      "2:\tlearn: 3112.7535661\ttotal: 66.4ms\tremaining: 332ms\n",
      "3:\tlearn: 2973.1483870\ttotal: 89.1ms\tremaining: 312ms\n",
      "4:\tlearn: 2889.2769603\ttotal: 107ms\tremaining: 279ms\n",
      "5:\tlearn: 2836.4700690\ttotal: 125ms\tremaining: 251ms\n",
      "6:\tlearn: 2781.9693443\ttotal: 142ms\tremaining: 223ms\n",
      "7:\tlearn: 2711.8655517\ttotal: 159ms\tremaining: 199ms\n",
      "8:\tlearn: 2655.1347019\ttotal: 178ms\tremaining: 178ms\n",
      "9:\tlearn: 2620.2131339\ttotal: 195ms\tremaining: 156ms\n",
      "10:\tlearn: 2576.6194118\ttotal: 213ms\tremaining: 136ms\n",
      "11:\tlearn: 2543.1514465\ttotal: 232ms\tremaining: 116ms\n",
      "12:\tlearn: 2516.9626916\ttotal: 248ms\tremaining: 95.5ms\n",
      "13:\tlearn: 2486.6759998\ttotal: 265ms\tremaining: 75.8ms\n",
      "14:\tlearn: 2453.5657592\ttotal: 291ms\tremaining: 58.2ms\n",
      "15:\tlearn: 2432.7357333\ttotal: 308ms\tremaining: 38.5ms\n",
      "16:\tlearn: 2409.4193068\ttotal: 327ms\tremaining: 19.2ms\n",
      "17:\tlearn: 2384.7995387\ttotal: 343ms\tremaining: 0us\n",
      "0:\tlearn: 3021.5224633\ttotal: 35.5ms\tremaining: 319ms\n",
      "1:\tlearn: 2745.5538345\ttotal: 71.7ms\tremaining: 287ms\n",
      "2:\tlearn: 2562.4867840\ttotal: 102ms\tremaining: 237ms\n",
      "3:\tlearn: 2458.8630308\ttotal: 135ms\tremaining: 203ms\n",
      "4:\tlearn: 2366.2833167\ttotal: 167ms\tremaining: 167ms\n",
      "5:\tlearn: 2290.5424467\ttotal: 192ms\tremaining: 128ms\n",
      "6:\tlearn: 2219.4058925\ttotal: 218ms\tremaining: 93.6ms\n",
      "7:\tlearn: 2174.2241677\ttotal: 252ms\tremaining: 63ms\n",
      "8:\tlearn: 2144.9288026\ttotal: 278ms\tremaining: 30.9ms\n",
      "9:\tlearn: 2113.8638566\ttotal: 306ms\tremaining: 0us\n",
      "0:\tlearn: 3016.7383100\ttotal: 32.6ms\tremaining: 293ms\n",
      "1:\tlearn: 2738.8176615\ttotal: 68.1ms\tremaining: 272ms\n",
      "2:\tlearn: 2557.3114528\ttotal: 99.6ms\tremaining: 232ms\n",
      "3:\tlearn: 2457.1310404\ttotal: 130ms\tremaining: 195ms\n",
      "4:\tlearn: 2370.8833406\ttotal: 157ms\tremaining: 157ms\n",
      "5:\tlearn: 2264.2417608\ttotal: 187ms\tremaining: 124ms\n",
      "6:\tlearn: 2203.0517135\ttotal: 211ms\tremaining: 90.5ms\n",
      "7:\tlearn: 2136.6605259\ttotal: 237ms\tremaining: 59.3ms\n",
      "8:\tlearn: 2106.5836316\ttotal: 272ms\tremaining: 30.2ms\n",
      "9:\tlearn: 2065.4155125\ttotal: 305ms\tremaining: 0us\n",
      "0:\tlearn: 3013.7287030\ttotal: 34.5ms\tremaining: 311ms\n",
      "1:\tlearn: 2740.7741095\ttotal: 65.8ms\tremaining: 263ms\n",
      "2:\tlearn: 2563.5741035\ttotal: 97.1ms\tremaining: 226ms\n",
      "3:\tlearn: 2461.0395875\ttotal: 129ms\tremaining: 194ms\n",
      "4:\tlearn: 2368.8254967\ttotal: 155ms\tremaining: 155ms\n",
      "5:\tlearn: 2291.7780795\ttotal: 182ms\tremaining: 121ms\n",
      "6:\tlearn: 2226.5592376\ttotal: 215ms\tremaining: 92.2ms\n",
      "7:\tlearn: 2188.3604214\ttotal: 248ms\tremaining: 62.1ms\n",
      "8:\tlearn: 2146.9743772\ttotal: 275ms\tremaining: 30.5ms\n",
      "9:\tlearn: 2104.8106841\ttotal: 302ms\tremaining: 0us\n",
      "0:\tlearn: 3021.5224633\ttotal: 33.6ms\tremaining: 369ms\n",
      "1:\tlearn: 2745.5538345\ttotal: 70.1ms\tremaining: 351ms\n",
      "2:\tlearn: 2562.4867840\ttotal: 101ms\tremaining: 304ms\n",
      "3:\tlearn: 2458.8630308\ttotal: 132ms\tremaining: 264ms\n",
      "4:\tlearn: 2366.2833167\ttotal: 158ms\tremaining: 221ms\n",
      "5:\tlearn: 2290.5424467\ttotal: 183ms\tremaining: 183ms\n",
      "6:\tlearn: 2219.4058925\ttotal: 210ms\tremaining: 150ms\n",
      "7:\tlearn: 2174.2241677\ttotal: 236ms\tremaining: 118ms\n",
      "8:\tlearn: 2144.9288026\ttotal: 272ms\tremaining: 90.6ms\n",
      "9:\tlearn: 2113.8638566\ttotal: 305ms\tremaining: 61.1ms\n",
      "10:\tlearn: 2090.8162860\ttotal: 335ms\tremaining: 30.5ms\n",
      "11:\tlearn: 2069.3964236\ttotal: 367ms\tremaining: 0us\n",
      "0:\tlearn: 3016.7383100\ttotal: 54.2ms\tremaining: 597ms\n",
      "1:\tlearn: 2738.8176615\ttotal: 86.8ms\tremaining: 434ms\n",
      "2:\tlearn: 2557.3114528\ttotal: 116ms\tremaining: 348ms\n",
      "3:\tlearn: 2457.1310404\ttotal: 149ms\tremaining: 298ms\n",
      "4:\tlearn: 2370.8833406\ttotal: 176ms\tremaining: 246ms\n",
      "5:\tlearn: 2264.2417608\ttotal: 202ms\tremaining: 202ms\n",
      "6:\tlearn: 2203.0517135\ttotal: 226ms\tremaining: 162ms\n",
      "7:\tlearn: 2136.6605259\ttotal: 260ms\tremaining: 130ms\n",
      "8:\tlearn: 2106.5836316\ttotal: 286ms\tremaining: 95.4ms\n",
      "9:\tlearn: 2065.4155125\ttotal: 316ms\tremaining: 63.1ms\n",
      "10:\tlearn: 2047.1645336\ttotal: 346ms\tremaining: 31.5ms\n",
      "11:\tlearn: 2028.1621355\ttotal: 374ms\tremaining: 0us\n",
      "0:\tlearn: 3013.7287030\ttotal: 36.7ms\tremaining: 404ms\n",
      "1:\tlearn: 2740.7741095\ttotal: 67.9ms\tremaining: 339ms\n",
      "2:\tlearn: 2563.5741035\ttotal: 98.5ms\tremaining: 295ms\n",
      "3:\tlearn: 2461.0395875\ttotal: 137ms\tremaining: 273ms\n",
      "4:\tlearn: 2368.8254967\ttotal: 168ms\tremaining: 235ms\n",
      "5:\tlearn: 2291.7780795\ttotal: 193ms\tremaining: 193ms\n",
      "6:\tlearn: 2226.5592376\ttotal: 226ms\tremaining: 162ms\n",
      "7:\tlearn: 2188.3604214\ttotal: 254ms\tremaining: 127ms\n",
      "8:\tlearn: 2146.9743772\ttotal: 279ms\tremaining: 93ms\n",
      "9:\tlearn: 2104.8106841\ttotal: 307ms\tremaining: 61.3ms\n",
      "10:\tlearn: 2065.3136112\ttotal: 336ms\tremaining: 30.6ms\n",
      "11:\tlearn: 2045.5564704\ttotal: 362ms\tremaining: 0us\n",
      "0:\tlearn: 3021.5224633\ttotal: 34.3ms\tremaining: 445ms\n",
      "1:\tlearn: 2745.5538345\ttotal: 70.3ms\tremaining: 422ms\n",
      "2:\tlearn: 2562.4867840\ttotal: 100ms\tremaining: 368ms\n",
      "3:\tlearn: 2458.8630308\ttotal: 131ms\tremaining: 327ms\n",
      "4:\tlearn: 2366.2833167\ttotal: 162ms\tremaining: 291ms\n",
      "5:\tlearn: 2290.5424467\ttotal: 187ms\tremaining: 249ms\n",
      "6:\tlearn: 2219.4058925\ttotal: 212ms\tremaining: 212ms\n",
      "7:\tlearn: 2174.2241677\ttotal: 239ms\tremaining: 179ms\n",
      "8:\tlearn: 2144.9288026\ttotal: 270ms\tremaining: 150ms\n",
      "9:\tlearn: 2113.8638566\ttotal: 298ms\tremaining: 119ms\n",
      "10:\tlearn: 2090.8162860\ttotal: 324ms\tremaining: 88.4ms\n",
      "11:\tlearn: 2069.3964236\ttotal: 351ms\tremaining: 58.5ms\n",
      "12:\tlearn: 2039.1602772\ttotal: 378ms\tremaining: 29.1ms\n",
      "13:\tlearn: 2011.2944789\ttotal: 403ms\tremaining: 0us\n",
      "0:\tlearn: 3016.7383100\ttotal: 33.1ms\tremaining: 430ms\n",
      "1:\tlearn: 2738.8176615\ttotal: 66.2ms\tremaining: 397ms\n",
      "2:\tlearn: 2557.3114528\ttotal: 96.3ms\tremaining: 353ms\n",
      "3:\tlearn: 2457.1310404\ttotal: 129ms\tremaining: 322ms\n",
      "4:\tlearn: 2370.8833406\ttotal: 155ms\tremaining: 279ms\n",
      "5:\tlearn: 2264.2417608\ttotal: 181ms\tremaining: 242ms\n",
      "6:\tlearn: 2203.0517135\ttotal: 206ms\tremaining: 206ms\n",
      "7:\tlearn: 2136.6605259\ttotal: 233ms\tremaining: 175ms\n",
      "8:\tlearn: 2106.5836316\ttotal: 265ms\tremaining: 147ms\n",
      "9:\tlearn: 2065.4155125\ttotal: 295ms\tremaining: 118ms\n",
      "10:\tlearn: 2047.1645336\ttotal: 322ms\tremaining: 87.8ms\n",
      "11:\tlearn: 2028.1621355\ttotal: 353ms\tremaining: 58.9ms\n",
      "12:\tlearn: 2005.3401665\ttotal: 380ms\tremaining: 29.2ms\n",
      "13:\tlearn: 1981.6451156\ttotal: 406ms\tremaining: 0us\n",
      "0:\tlearn: 3013.7287030\ttotal: 39.9ms\tremaining: 518ms\n",
      "1:\tlearn: 2740.7741095\ttotal: 72ms\tremaining: 432ms\n",
      "2:\tlearn: 2563.5741035\ttotal: 102ms\tremaining: 375ms\n",
      "3:\tlearn: 2461.0395875\ttotal: 139ms\tremaining: 348ms\n",
      "4:\tlearn: 2368.8254967\ttotal: 164ms\tremaining: 295ms\n",
      "5:\tlearn: 2291.7780795\ttotal: 192ms\tremaining: 255ms\n",
      "6:\tlearn: 2226.5592376\ttotal: 219ms\tremaining: 219ms\n",
      "7:\tlearn: 2188.3604214\ttotal: 256ms\tremaining: 192ms\n",
      "8:\tlearn: 2146.9743772\ttotal: 282ms\tremaining: 156ms\n",
      "9:\tlearn: 2104.8106841\ttotal: 308ms\tremaining: 123ms\n",
      "10:\tlearn: 2065.3136112\ttotal: 336ms\tremaining: 91.6ms\n",
      "11:\tlearn: 2045.5564704\ttotal: 361ms\tremaining: 60.2ms\n",
      "12:\tlearn: 2032.4680994\ttotal: 386ms\tremaining: 29.7ms\n",
      "13:\tlearn: 2016.6316413\ttotal: 418ms\tremaining: 0us\n",
      "0:\tlearn: 3021.5224633\ttotal: 35.2ms\tremaining: 528ms\n",
      "1:\tlearn: 2745.5538345\ttotal: 70.4ms\tremaining: 493ms\n",
      "2:\tlearn: 2562.4867840\ttotal: 102ms\tremaining: 442ms\n",
      "3:\tlearn: 2458.8630308\ttotal: 133ms\tremaining: 400ms\n",
      "4:\tlearn: 2366.2833167\ttotal: 161ms\tremaining: 353ms\n",
      "5:\tlearn: 2290.5424467\ttotal: 187ms\tremaining: 311ms\n",
      "6:\tlearn: 2219.4058925\ttotal: 214ms\tremaining: 275ms\n",
      "7:\tlearn: 2174.2241677\ttotal: 242ms\tremaining: 242ms\n",
      "8:\tlearn: 2144.9288026\ttotal: 274ms\tremaining: 213ms\n",
      "9:\tlearn: 2113.8638566\ttotal: 306ms\tremaining: 184ms\n",
      "10:\tlearn: 2090.8162860\ttotal: 333ms\tremaining: 151ms\n",
      "11:\tlearn: 2069.3964236\ttotal: 368ms\tremaining: 123ms\n",
      "12:\tlearn: 2039.1602772\ttotal: 395ms\tremaining: 91.1ms\n",
      "13:\tlearn: 2011.2944789\ttotal: 424ms\tremaining: 60.6ms\n",
      "14:\tlearn: 1992.1562613\ttotal: 456ms\tremaining: 30.4ms\n",
      "15:\tlearn: 1980.9881144\ttotal: 485ms\tremaining: 0us\n",
      "0:\tlearn: 3016.7383100\ttotal: 32.7ms\tremaining: 490ms\n",
      "1:\tlearn: 2738.8176615\ttotal: 67.9ms\tremaining: 475ms\n",
      "2:\tlearn: 2557.3114528\ttotal: 98ms\tremaining: 425ms\n",
      "3:\tlearn: 2457.1310404\ttotal: 128ms\tremaining: 384ms\n",
      "4:\tlearn: 2370.8833406\ttotal: 159ms\tremaining: 349ms\n",
      "5:\tlearn: 2264.2417608\ttotal: 185ms\tremaining: 308ms\n",
      "6:\tlearn: 2203.0517135\ttotal: 213ms\tremaining: 273ms\n",
      "7:\tlearn: 2136.6605259\ttotal: 242ms\tremaining: 242ms\n",
      "8:\tlearn: 2106.5836316\ttotal: 268ms\tremaining: 209ms\n",
      "9:\tlearn: 2065.4155125\ttotal: 297ms\tremaining: 178ms\n",
      "10:\tlearn: 2047.1645336\ttotal: 322ms\tremaining: 146ms\n",
      "11:\tlearn: 2028.1621355\ttotal: 357ms\tremaining: 119ms\n",
      "12:\tlearn: 2005.3401665\ttotal: 383ms\tremaining: 88.3ms\n",
      "13:\tlearn: 1981.6451156\ttotal: 409ms\tremaining: 58.4ms\n",
      "14:\tlearn: 1971.5773353\ttotal: 439ms\tremaining: 29.3ms\n",
      "15:\tlearn: 1959.3008169\ttotal: 468ms\tremaining: 0us\n",
      "0:\tlearn: 3013.7287030\ttotal: 36ms\tremaining: 540ms\n",
      "1:\tlearn: 2740.7741095\ttotal: 68.7ms\tremaining: 481ms\n",
      "2:\tlearn: 2563.5741035\ttotal: 105ms\tremaining: 456ms\n",
      "3:\tlearn: 2461.0395875\ttotal: 137ms\tremaining: 412ms\n",
      "4:\tlearn: 2368.8254967\ttotal: 164ms\tremaining: 361ms\n",
      "5:\tlearn: 2291.7780795\ttotal: 196ms\tremaining: 327ms\n",
      "6:\tlearn: 2226.5592376\ttotal: 222ms\tremaining: 285ms\n",
      "7:\tlearn: 2188.3604214\ttotal: 253ms\tremaining: 253ms\n",
      "8:\tlearn: 2146.9743772\ttotal: 285ms\tremaining: 221ms\n",
      "9:\tlearn: 2104.8106841\ttotal: 310ms\tremaining: 186ms\n",
      "10:\tlearn: 2065.3136112\ttotal: 336ms\tremaining: 153ms\n",
      "11:\tlearn: 2045.5564704\ttotal: 361ms\tremaining: 120ms\n",
      "12:\tlearn: 2032.4680994\ttotal: 390ms\tremaining: 90.1ms\n",
      "13:\tlearn: 2016.6316413\ttotal: 415ms\tremaining: 59.2ms\n",
      "14:\tlearn: 1996.3187370\ttotal: 441ms\tremaining: 29.4ms\n",
      "15:\tlearn: 1980.1109352\ttotal: 468ms\tremaining: 0us\n",
      "0:\tlearn: 3021.5224633\ttotal: 47.5ms\tremaining: 808ms\n",
      "1:\tlearn: 2745.5538345\ttotal: 81.7ms\tremaining: 653ms\n",
      "2:\tlearn: 2562.4867840\ttotal: 115ms\tremaining: 574ms\n",
      "3:\tlearn: 2458.8630308\ttotal: 150ms\tremaining: 524ms\n",
      "4:\tlearn: 2366.2833167\ttotal: 178ms\tremaining: 463ms\n",
      "5:\tlearn: 2290.5424467\ttotal: 205ms\tremaining: 410ms\n",
      "6:\tlearn: 2219.4058925\ttotal: 236ms\tremaining: 371ms\n",
      "7:\tlearn: 2174.2241677\ttotal: 266ms\tremaining: 333ms\n",
      "8:\tlearn: 2144.9288026\ttotal: 294ms\tremaining: 294ms\n",
      "9:\tlearn: 2113.8638566\ttotal: 324ms\tremaining: 259ms\n",
      "10:\tlearn: 2090.8162860\ttotal: 349ms\tremaining: 222ms\n",
      "11:\tlearn: 2069.3964236\ttotal: 374ms\tremaining: 187ms\n",
      "12:\tlearn: 2039.1602772\ttotal: 398ms\tremaining: 153ms\n",
      "13:\tlearn: 2011.2944789\ttotal: 431ms\tremaining: 123ms\n",
      "14:\tlearn: 1992.1562613\ttotal: 457ms\tremaining: 91.3ms\n",
      "15:\tlearn: 1980.9881144\ttotal: 482ms\tremaining: 60.3ms\n",
      "16:\tlearn: 1966.9871093\ttotal: 509ms\tremaining: 29.9ms\n",
      "17:\tlearn: 1958.3751418\ttotal: 538ms\tremaining: 0us\n",
      "0:\tlearn: 3016.7383100\ttotal: 40.5ms\tremaining: 688ms\n",
      "1:\tlearn: 2738.8176615\ttotal: 85.1ms\tremaining: 681ms\n",
      "2:\tlearn: 2557.3114528\ttotal: 117ms\tremaining: 587ms\n",
      "3:\tlearn: 2457.1310404\ttotal: 150ms\tremaining: 524ms\n",
      "4:\tlearn: 2370.8833406\ttotal: 181ms\tremaining: 472ms\n",
      "5:\tlearn: 2264.2417608\ttotal: 207ms\tremaining: 415ms\n",
      "6:\tlearn: 2203.0517135\ttotal: 233ms\tremaining: 367ms\n",
      "7:\tlearn: 2136.6605259\ttotal: 263ms\tremaining: 329ms\n",
      "8:\tlearn: 2106.5836316\ttotal: 291ms\tremaining: 291ms\n",
      "9:\tlearn: 2065.4155125\ttotal: 322ms\tremaining: 258ms\n",
      "10:\tlearn: 2047.1645336\ttotal: 349ms\tremaining: 222ms\n",
      "11:\tlearn: 2028.1621355\ttotal: 377ms\tremaining: 189ms\n",
      "12:\tlearn: 2005.3401665\ttotal: 404ms\tremaining: 155ms\n",
      "13:\tlearn: 1981.6451156\ttotal: 429ms\tremaining: 123ms\n",
      "14:\tlearn: 1971.5773353\ttotal: 459ms\tremaining: 91.7ms\n",
      "15:\tlearn: 1959.3008169\ttotal: 484ms\tremaining: 60.5ms\n",
      "16:\tlearn: 1948.9370064\ttotal: 509ms\tremaining: 30ms\n",
      "17:\tlearn: 1941.9417915\ttotal: 535ms\tremaining: 0us\n",
      "0:\tlearn: 3013.7287030\ttotal: 38.7ms\tremaining: 658ms\n",
      "1:\tlearn: 2740.7741095\ttotal: 71.2ms\tremaining: 569ms\n",
      "2:\tlearn: 2563.5741035\ttotal: 103ms\tremaining: 515ms\n",
      "3:\tlearn: 2461.0395875\ttotal: 142ms\tremaining: 498ms\n",
      "4:\tlearn: 2368.8254967\ttotal: 167ms\tremaining: 435ms\n",
      "5:\tlearn: 2291.7780795\ttotal: 193ms\tremaining: 385ms\n",
      "6:\tlearn: 2226.5592376\ttotal: 222ms\tremaining: 349ms\n",
      "7:\tlearn: 2188.3604214\ttotal: 250ms\tremaining: 313ms\n",
      "8:\tlearn: 2146.9743772\ttotal: 276ms\tremaining: 276ms\n",
      "9:\tlearn: 2104.8106841\ttotal: 304ms\tremaining: 243ms\n",
      "10:\tlearn: 2065.3136112\ttotal: 338ms\tremaining: 215ms\n",
      "11:\tlearn: 2045.5564704\ttotal: 363ms\tremaining: 182ms\n",
      "12:\tlearn: 2032.4680994\ttotal: 390ms\tremaining: 150ms\n",
      "13:\tlearn: 2016.6316413\ttotal: 425ms\tremaining: 121ms\n",
      "14:\tlearn: 1996.3187370\ttotal: 451ms\tremaining: 90.3ms\n",
      "15:\tlearn: 1980.1109352\ttotal: 478ms\tremaining: 59.8ms\n",
      "16:\tlearn: 1966.7770006\ttotal: 508ms\tremaining: 29.9ms\n",
      "17:\tlearn: 1952.4004234\ttotal: 536ms\tremaining: 0us\n",
      "0:\tlearn: 2782.1972746\ttotal: 51ms\tremaining: 459ms\n",
      "1:\tlearn: 2459.1528594\ttotal: 100ms\tremaining: 401ms\n",
      "2:\tlearn: 2254.7261457\ttotal: 150ms\tremaining: 350ms\n",
      "3:\tlearn: 2156.0064372\ttotal: 185ms\tremaining: 277ms\n",
      "4:\tlearn: 2084.5502552\ttotal: 225ms\tremaining: 225ms\n",
      "5:\tlearn: 2017.5079236\ttotal: 263ms\tremaining: 175ms\n",
      "6:\tlearn: 1989.9867685\ttotal: 299ms\tremaining: 128ms\n",
      "7:\tlearn: 1953.5146576\ttotal: 341ms\tremaining: 85.3ms\n",
      "8:\tlearn: 1933.4510684\ttotal: 377ms\tremaining: 41.9ms\n",
      "9:\tlearn: 1898.6802446\ttotal: 421ms\tremaining: 0us\n",
      "0:\tlearn: 2779.4512299\ttotal: 52.1ms\tremaining: 469ms\n",
      "1:\tlearn: 2453.6182688\ttotal: 99.2ms\tremaining: 397ms\n",
      "2:\tlearn: 2250.7364409\ttotal: 149ms\tremaining: 349ms\n",
      "3:\tlearn: 2158.0522637\ttotal: 187ms\tremaining: 280ms\n",
      "4:\tlearn: 2084.7841277\ttotal: 222ms\tremaining: 222ms\n",
      "5:\tlearn: 2032.1121574\ttotal: 260ms\tremaining: 173ms\n",
      "6:\tlearn: 1971.2034263\ttotal: 296ms\tremaining: 127ms\n",
      "7:\tlearn: 1927.3780792\ttotal: 339ms\tremaining: 84.8ms\n",
      "8:\tlearn: 1906.1332615\ttotal: 374ms\tremaining: 41.5ms\n",
      "9:\tlearn: 1885.1427860\ttotal: 408ms\tremaining: 0us\n",
      "0:\tlearn: 2777.9563411\ttotal: 50.1ms\tremaining: 451ms\n",
      "1:\tlearn: 2406.3727344\ttotal: 95.3ms\tremaining: 381ms\n",
      "2:\tlearn: 2236.1015725\ttotal: 142ms\tremaining: 332ms\n",
      "3:\tlearn: 2147.6783520\ttotal: 179ms\tremaining: 269ms\n",
      "4:\tlearn: 2060.0020946\ttotal: 216ms\tremaining: 216ms\n",
      "5:\tlearn: 2028.9357689\ttotal: 256ms\tremaining: 171ms\n",
      "6:\tlearn: 1971.2319438\ttotal: 291ms\tremaining: 125ms\n",
      "7:\tlearn: 1939.5637555\ttotal: 328ms\tremaining: 82.1ms\n",
      "8:\tlearn: 1909.6032968\ttotal: 367ms\tremaining: 40.8ms\n",
      "9:\tlearn: 1887.5428525\ttotal: 403ms\tremaining: 0us\n",
      "0:\tlearn: 2782.1972746\ttotal: 47.9ms\tremaining: 527ms\n",
      "1:\tlearn: 2459.1528594\ttotal: 93.2ms\tremaining: 466ms\n",
      "2:\tlearn: 2254.7261457\ttotal: 145ms\tremaining: 434ms\n",
      "3:\tlearn: 2156.0064372\ttotal: 187ms\tremaining: 374ms\n",
      "4:\tlearn: 2084.5502552\ttotal: 229ms\tremaining: 321ms\n",
      "5:\tlearn: 2017.5079236\ttotal: 266ms\tremaining: 266ms\n",
      "6:\tlearn: 1989.9867685\ttotal: 301ms\tremaining: 215ms\n",
      "7:\tlearn: 1953.5146576\ttotal: 342ms\tremaining: 171ms\n",
      "8:\tlearn: 1933.4510684\ttotal: 375ms\tremaining: 125ms\n",
      "9:\tlearn: 1898.6802446\ttotal: 412ms\tremaining: 82.4ms\n",
      "10:\tlearn: 1877.4333746\ttotal: 448ms\tremaining: 40.7ms\n",
      "11:\tlearn: 1858.0139683\ttotal: 483ms\tremaining: 0us\n",
      "0:\tlearn: 2779.4512299\ttotal: 43.4ms\tremaining: 477ms\n",
      "1:\tlearn: 2453.6182688\ttotal: 90.4ms\tremaining: 452ms\n",
      "2:\tlearn: 2250.7364409\ttotal: 133ms\tremaining: 398ms\n",
      "3:\tlearn: 2158.0522637\ttotal: 169ms\tremaining: 337ms\n",
      "4:\tlearn: 2084.7841277\ttotal: 205ms\tremaining: 287ms\n",
      "5:\tlearn: 2032.1121574\ttotal: 249ms\tremaining: 249ms\n",
      "6:\tlearn: 1971.2034263\ttotal: 285ms\tremaining: 204ms\n",
      "7:\tlearn: 1927.3780792\ttotal: 323ms\tremaining: 161ms\n",
      "8:\tlearn: 1906.1332615\ttotal: 358ms\tremaining: 119ms\n",
      "9:\tlearn: 1885.1427860\ttotal: 400ms\tremaining: 80.1ms\n",
      "10:\tlearn: 1858.7432333\ttotal: 444ms\tremaining: 40.4ms\n",
      "11:\tlearn: 1840.1859769\ttotal: 479ms\tremaining: 0us\n",
      "0:\tlearn: 2777.9563411\ttotal: 60.1ms\tremaining: 661ms\n",
      "1:\tlearn: 2406.3727344\ttotal: 116ms\tremaining: 581ms\n",
      "2:\tlearn: 2236.1015725\ttotal: 171ms\tremaining: 512ms\n",
      "3:\tlearn: 2147.6783520\ttotal: 208ms\tremaining: 416ms\n",
      "4:\tlearn: 2060.0020946\ttotal: 245ms\tremaining: 342ms\n",
      "5:\tlearn: 2028.9357689\ttotal: 285ms\tremaining: 285ms\n",
      "6:\tlearn: 1971.2319438\ttotal: 320ms\tremaining: 229ms\n",
      "7:\tlearn: 1939.5637555\ttotal: 362ms\tremaining: 181ms\n",
      "8:\tlearn: 1909.6032968\ttotal: 397ms\tremaining: 132ms\n",
      "9:\tlearn: 1887.5428525\ttotal: 431ms\tremaining: 86.3ms\n",
      "10:\tlearn: 1866.5868438\ttotal: 473ms\tremaining: 43ms\n",
      "11:\tlearn: 1843.8905218\ttotal: 510ms\tremaining: 0us\n",
      "0:\tlearn: 2782.1972746\ttotal: 47.7ms\tremaining: 621ms\n",
      "1:\tlearn: 2459.1528594\ttotal: 112ms\tremaining: 669ms\n",
      "2:\tlearn: 2254.7261457\ttotal: 157ms\tremaining: 576ms\n",
      "3:\tlearn: 2156.0064372\ttotal: 202ms\tremaining: 504ms\n",
      "4:\tlearn: 2084.5502552\ttotal: 238ms\tremaining: 429ms\n",
      "5:\tlearn: 2017.5079236\ttotal: 289ms\tremaining: 385ms\n",
      "6:\tlearn: 1989.9867685\ttotal: 325ms\tremaining: 325ms\n",
      "7:\tlearn: 1953.5146576\ttotal: 365ms\tremaining: 274ms\n",
      "8:\tlearn: 1933.4510684\ttotal: 401ms\tremaining: 223ms\n",
      "9:\tlearn: 1898.6802446\ttotal: 438ms\tremaining: 175ms\n",
      "10:\tlearn: 1877.4333746\ttotal: 483ms\tremaining: 132ms\n",
      "11:\tlearn: 1858.0139683\ttotal: 518ms\tremaining: 86.4ms\n",
      "12:\tlearn: 1833.9980895\ttotal: 558ms\tremaining: 42.9ms\n",
      "13:\tlearn: 1820.7661934\ttotal: 594ms\tremaining: 0us\n",
      "0:\tlearn: 2779.4512299\ttotal: 42.7ms\tremaining: 555ms\n",
      "1:\tlearn: 2453.6182688\ttotal: 94.9ms\tremaining: 570ms\n",
      "2:\tlearn: 2250.7364409\ttotal: 137ms\tremaining: 502ms\n",
      "3:\tlearn: 2158.0522637\ttotal: 181ms\tremaining: 453ms\n",
      "4:\tlearn: 2084.7841277\ttotal: 217ms\tremaining: 391ms\n",
      "5:\tlearn: 2032.1121574\ttotal: 252ms\tremaining: 336ms\n",
      "6:\tlearn: 1971.2034263\ttotal: 293ms\tremaining: 293ms\n",
      "7:\tlearn: 1927.3780792\ttotal: 329ms\tremaining: 247ms\n",
      "8:\tlearn: 1906.1332615\ttotal: 364ms\tremaining: 202ms\n",
      "9:\tlearn: 1885.1427860\ttotal: 399ms\tremaining: 160ms\n",
      "10:\tlearn: 1858.7432333\ttotal: 436ms\tremaining: 119ms\n",
      "11:\tlearn: 1840.1859769\ttotal: 479ms\tremaining: 79.9ms\n",
      "12:\tlearn: 1827.7072836\ttotal: 514ms\tremaining: 39.5ms\n",
      "13:\tlearn: 1816.2773580\ttotal: 549ms\tremaining: 0us\n",
      "0:\tlearn: 2777.9563411\ttotal: 43.2ms\tremaining: 561ms\n",
      "1:\tlearn: 2406.3727344\ttotal: 99.5ms\tremaining: 597ms\n",
      "2:\tlearn: 2236.1015725\ttotal: 144ms\tremaining: 527ms\n",
      "3:\tlearn: 2147.6783520\ttotal: 193ms\tremaining: 483ms\n",
      "4:\tlearn: 2060.0020946\ttotal: 231ms\tremaining: 416ms\n",
      "5:\tlearn: 2028.9357689\ttotal: 274ms\tremaining: 365ms\n",
      "6:\tlearn: 1971.2319438\ttotal: 314ms\tremaining: 314ms\n",
      "7:\tlearn: 1939.5637555\ttotal: 350ms\tremaining: 263ms\n",
      "8:\tlearn: 1909.6032968\ttotal: 397ms\tremaining: 221ms\n",
      "9:\tlearn: 1887.5428525\ttotal: 433ms\tremaining: 173ms\n",
      "10:\tlearn: 1866.5868438\ttotal: 468ms\tremaining: 128ms\n",
      "11:\tlearn: 1843.8905218\ttotal: 506ms\tremaining: 84.3ms\n",
      "12:\tlearn: 1832.0637472\ttotal: 544ms\tremaining: 41.8ms\n",
      "13:\tlearn: 1821.0701256\ttotal: 589ms\tremaining: 0us\n",
      "0:\tlearn: 2782.1972746\ttotal: 44.7ms\tremaining: 671ms\n",
      "1:\tlearn: 2459.1528594\ttotal: 95.6ms\tremaining: 669ms\n",
      "2:\tlearn: 2254.7261457\ttotal: 139ms\tremaining: 603ms\n",
      "3:\tlearn: 2156.0064372\ttotal: 181ms\tremaining: 542ms\n",
      "4:\tlearn: 2084.5502552\ttotal: 217ms\tremaining: 477ms\n",
      "5:\tlearn: 2017.5079236\ttotal: 259ms\tremaining: 432ms\n",
      "6:\tlearn: 1989.9867685\ttotal: 297ms\tremaining: 382ms\n",
      "7:\tlearn: 1953.5146576\ttotal: 336ms\tremaining: 336ms\n",
      "8:\tlearn: 1933.4510684\ttotal: 379ms\tremaining: 295ms\n",
      "9:\tlearn: 1898.6802446\ttotal: 419ms\tremaining: 251ms\n",
      "10:\tlearn: 1877.4333746\ttotal: 466ms\tremaining: 212ms\n",
      "11:\tlearn: 1858.0139683\ttotal: 505ms\tremaining: 168ms\n",
      "12:\tlearn: 1833.9980895\ttotal: 545ms\tremaining: 126ms\n",
      "13:\tlearn: 1820.7661934\ttotal: 583ms\tremaining: 83.2ms\n",
      "14:\tlearn: 1809.5141697\ttotal: 620ms\tremaining: 41.3ms\n",
      "15:\tlearn: 1797.1898461\ttotal: 664ms\tremaining: 0us\n",
      "0:\tlearn: 2779.4512299\ttotal: 46.2ms\tremaining: 693ms\n",
      "1:\tlearn: 2453.6182688\ttotal: 101ms\tremaining: 704ms\n",
      "2:\tlearn: 2250.7364409\ttotal: 144ms\tremaining: 623ms\n",
      "3:\tlearn: 2158.0522637\ttotal: 189ms\tremaining: 567ms\n",
      "4:\tlearn: 2084.7841277\ttotal: 224ms\tremaining: 493ms\n",
      "5:\tlearn: 2032.1121574\ttotal: 263ms\tremaining: 439ms\n",
      "6:\tlearn: 1971.2034263\ttotal: 305ms\tremaining: 392ms\n",
      "7:\tlearn: 1927.3780792\ttotal: 344ms\tremaining: 344ms\n",
      "8:\tlearn: 1906.1332615\ttotal: 392ms\tremaining: 305ms\n",
      "9:\tlearn: 1885.1427860\ttotal: 433ms\tremaining: 260ms\n",
      "10:\tlearn: 1858.7432333\ttotal: 480ms\tremaining: 218ms\n",
      "11:\tlearn: 1840.1859769\ttotal: 522ms\tremaining: 174ms\n",
      "12:\tlearn: 1827.7072836\ttotal: 564ms\tremaining: 130ms\n",
      "13:\tlearn: 1816.2773580\ttotal: 604ms\tremaining: 86.3ms\n",
      "14:\tlearn: 1806.6810559\ttotal: 648ms\tremaining: 43.2ms\n",
      "15:\tlearn: 1788.7459287\ttotal: 686ms\tremaining: 0us\n",
      "0:\tlearn: 2777.9563411\ttotal: 53.5ms\tremaining: 803ms\n",
      "1:\tlearn: 2406.3727344\ttotal: 104ms\tremaining: 725ms\n",
      "2:\tlearn: 2236.1015725\ttotal: 156ms\tremaining: 678ms\n",
      "3:\tlearn: 2147.6783520\ttotal: 195ms\tremaining: 586ms\n",
      "4:\tlearn: 2060.0020946\ttotal: 235ms\tremaining: 516ms\n",
      "5:\tlearn: 2028.9357689\ttotal: 274ms\tremaining: 457ms\n",
      "6:\tlearn: 1971.2319438\ttotal: 313ms\tremaining: 403ms\n",
      "7:\tlearn: 1939.5637555\ttotal: 357ms\tremaining: 357ms\n",
      "8:\tlearn: 1909.6032968\ttotal: 396ms\tremaining: 308ms\n",
      "9:\tlearn: 1887.5428525\ttotal: 441ms\tremaining: 265ms\n",
      "10:\tlearn: 1866.5868438\ttotal: 479ms\tremaining: 218ms\n",
      "11:\tlearn: 1843.8905218\ttotal: 516ms\tremaining: 172ms\n",
      "12:\tlearn: 1832.0637472\ttotal: 558ms\tremaining: 129ms\n",
      "13:\tlearn: 1821.0701256\ttotal: 596ms\tremaining: 85.2ms\n",
      "14:\tlearn: 1808.9666011\ttotal: 643ms\tremaining: 42.9ms\n",
      "15:\tlearn: 1794.5038942\ttotal: 683ms\tremaining: 0us\n",
      "0:\tlearn: 2782.1972746\ttotal: 45.5ms\tremaining: 773ms\n",
      "1:\tlearn: 2459.1528594\ttotal: 104ms\tremaining: 831ms\n",
      "2:\tlearn: 2254.7261457\ttotal: 162ms\tremaining: 810ms\n",
      "3:\tlearn: 2156.0064372\ttotal: 209ms\tremaining: 730ms\n",
      "4:\tlearn: 2084.5502552\ttotal: 246ms\tremaining: 640ms\n",
      "5:\tlearn: 2017.5079236\ttotal: 291ms\tremaining: 581ms\n",
      "6:\tlearn: 1989.9867685\ttotal: 329ms\tremaining: 517ms\n",
      "7:\tlearn: 1953.5146576\ttotal: 370ms\tremaining: 462ms\n",
      "8:\tlearn: 1933.4510684\ttotal: 410ms\tremaining: 410ms\n",
      "9:\tlearn: 1898.6802446\ttotal: 448ms\tremaining: 358ms\n",
      "10:\tlearn: 1877.4333746\ttotal: 492ms\tremaining: 313ms\n",
      "11:\tlearn: 1858.0139683\ttotal: 538ms\tremaining: 269ms\n",
      "12:\tlearn: 1833.9980895\ttotal: 584ms\tremaining: 225ms\n",
      "13:\tlearn: 1820.7661934\ttotal: 623ms\tremaining: 178ms\n",
      "14:\tlearn: 1809.5141697\ttotal: 661ms\tremaining: 132ms\n",
      "15:\tlearn: 1797.1898461\ttotal: 703ms\tremaining: 87.9ms\n",
      "16:\tlearn: 1788.5004794\ttotal: 740ms\tremaining: 43.5ms\n",
      "17:\tlearn: 1777.7086720\ttotal: 786ms\tremaining: 0us\n",
      "0:\tlearn: 2779.4512299\ttotal: 48.1ms\tremaining: 817ms\n",
      "1:\tlearn: 2453.6182688\ttotal: 96ms\tremaining: 768ms\n",
      "2:\tlearn: 2250.7364409\ttotal: 145ms\tremaining: 727ms\n",
      "3:\tlearn: 2158.0522637\ttotal: 185ms\tremaining: 649ms\n",
      "4:\tlearn: 2084.7841277\ttotal: 222ms\tremaining: 576ms\n",
      "5:\tlearn: 2032.1121574\ttotal: 266ms\tremaining: 531ms\n",
      "6:\tlearn: 1971.2034263\ttotal: 303ms\tremaining: 476ms\n",
      "7:\tlearn: 1927.3780792\ttotal: 345ms\tremaining: 432ms\n",
      "8:\tlearn: 1906.1332615\ttotal: 383ms\tremaining: 383ms\n",
      "9:\tlearn: 1885.1427860\ttotal: 420ms\tremaining: 336ms\n",
      "10:\tlearn: 1858.7432333\ttotal: 466ms\tremaining: 296ms\n",
      "11:\tlearn: 1840.1859769\ttotal: 504ms\tremaining: 252ms\n",
      "12:\tlearn: 1827.7072836\ttotal: 551ms\tremaining: 212ms\n",
      "13:\tlearn: 1816.2773580\ttotal: 588ms\tremaining: 168ms\n",
      "14:\tlearn: 1806.6810559\ttotal: 626ms\tremaining: 125ms\n",
      "15:\tlearn: 1788.7459287\ttotal: 666ms\tremaining: 83.2ms\n",
      "16:\tlearn: 1778.0163162\ttotal: 703ms\tremaining: 41.4ms\n",
      "17:\tlearn: 1764.9829356\ttotal: 750ms\tremaining: 0us\n",
      "0:\tlearn: 2777.9563411\ttotal: 48.3ms\tremaining: 820ms\n",
      "1:\tlearn: 2406.3727344\ttotal: 93.8ms\tremaining: 750ms\n",
      "2:\tlearn: 2236.1015725\ttotal: 145ms\tremaining: 723ms\n",
      "3:\tlearn: 2147.6783520\ttotal: 182ms\tremaining: 638ms\n",
      "4:\tlearn: 2060.0020946\ttotal: 224ms\tremaining: 583ms\n",
      "5:\tlearn: 2028.9357689\ttotal: 263ms\tremaining: 526ms\n",
      "6:\tlearn: 1971.2319438\ttotal: 304ms\tremaining: 478ms\n",
      "7:\tlearn: 1939.5637555\ttotal: 347ms\tremaining: 434ms\n",
      "8:\tlearn: 1909.6032968\ttotal: 404ms\tremaining: 404ms\n",
      "9:\tlearn: 1887.5428525\ttotal: 451ms\tremaining: 361ms\n",
      "10:\tlearn: 1866.5868438\ttotal: 495ms\tremaining: 315ms\n",
      "11:\tlearn: 1843.8905218\ttotal: 544ms\tremaining: 272ms\n",
      "12:\tlearn: 1832.0637472\ttotal: 586ms\tremaining: 225ms\n",
      "13:\tlearn: 1821.0701256\ttotal: 636ms\tremaining: 182ms\n",
      "14:\tlearn: 1808.9666011\ttotal: 678ms\tremaining: 136ms\n",
      "15:\tlearn: 1794.5038942\ttotal: 721ms\tremaining: 90.2ms\n",
      "16:\tlearn: 1784.0490603\ttotal: 759ms\tremaining: 44.6ms\n",
      "17:\tlearn: 1776.1507205\ttotal: 795ms\tremaining: 0us\n",
      "0:\tlearn: 2534.6644163\ttotal: 62.6ms\tremaining: 563ms\n",
      "1:\tlearn: 2219.6461283\ttotal: 136ms\tremaining: 544ms\n",
      "2:\tlearn: 2111.3496781\ttotal: 189ms\tremaining: 440ms\n",
      "3:\tlearn: 2006.8323533\ttotal: 246ms\tremaining: 369ms\n",
      "4:\tlearn: 1941.3500166\ttotal: 306ms\tremaining: 306ms\n",
      "5:\tlearn: 1899.2450861\ttotal: 359ms\tremaining: 239ms\n",
      "6:\tlearn: 1849.0665720\ttotal: 415ms\tremaining: 178ms\n",
      "7:\tlearn: 1833.9136804\ttotal: 461ms\tremaining: 115ms\n",
      "8:\tlearn: 1810.4748368\ttotal: 516ms\tremaining: 57.3ms\n",
      "9:\tlearn: 1792.5016004\ttotal: 564ms\tremaining: 0us\n",
      "0:\tlearn: 2527.4011053\ttotal: 65.4ms\tremaining: 589ms\n",
      "1:\tlearn: 2203.4083781\ttotal: 136ms\tremaining: 544ms\n",
      "2:\tlearn: 2095.8643741\ttotal: 199ms\tremaining: 465ms\n",
      "3:\tlearn: 2010.8995870\ttotal: 257ms\tremaining: 385ms\n",
      "4:\tlearn: 1946.1056166\ttotal: 306ms\tremaining: 306ms\n",
      "5:\tlearn: 1890.9621284\ttotal: 363ms\tremaining: 242ms\n",
      "6:\tlearn: 1859.6330291\ttotal: 409ms\tremaining: 175ms\n",
      "7:\tlearn: 1831.5297719\ttotal: 462ms\tremaining: 116ms\n",
      "8:\tlearn: 1806.1019154\ttotal: 510ms\tremaining: 56.7ms\n",
      "9:\tlearn: 1783.3310096\ttotal: 564ms\tremaining: 0us\n",
      "0:\tlearn: 2533.1754331\ttotal: 62.7ms\tremaining: 564ms\n",
      "1:\tlearn: 2215.1232205\ttotal: 130ms\tremaining: 520ms\n",
      "2:\tlearn: 2104.3342201\ttotal: 187ms\tremaining: 436ms\n",
      "3:\tlearn: 1998.5483251\ttotal: 244ms\tremaining: 366ms\n",
      "4:\tlearn: 1938.2572596\ttotal: 299ms\tremaining: 299ms\n",
      "5:\tlearn: 1902.8116875\ttotal: 358ms\tremaining: 239ms\n",
      "6:\tlearn: 1860.4005460\ttotal: 421ms\tremaining: 181ms\n",
      "7:\tlearn: 1833.6589388\ttotal: 474ms\tremaining: 118ms\n",
      "8:\tlearn: 1815.3472369\ttotal: 534ms\tremaining: 59.3ms\n",
      "9:\tlearn: 1791.1298130\ttotal: 582ms\tremaining: 0us\n",
      "0:\tlearn: 2534.6644163\ttotal: 70.7ms\tremaining: 777ms\n",
      "1:\tlearn: 2219.6461283\ttotal: 146ms\tremaining: 729ms\n",
      "2:\tlearn: 2111.3496781\ttotal: 197ms\tremaining: 590ms\n",
      "3:\tlearn: 2006.8323533\ttotal: 254ms\tremaining: 507ms\n",
      "4:\tlearn: 1941.3500166\ttotal: 303ms\tremaining: 425ms\n",
      "5:\tlearn: 1899.2450861\ttotal: 358ms\tremaining: 358ms\n",
      "6:\tlearn: 1849.0665720\ttotal: 405ms\tremaining: 290ms\n",
      "7:\tlearn: 1833.9136804\ttotal: 454ms\tremaining: 227ms\n",
      "8:\tlearn: 1810.4748368\ttotal: 505ms\tremaining: 168ms\n",
      "9:\tlearn: 1792.5016004\ttotal: 556ms\tremaining: 111ms\n",
      "10:\tlearn: 1772.0794528\ttotal: 605ms\tremaining: 55ms\n",
      "11:\tlearn: 1754.5261766\ttotal: 653ms\tremaining: 0us\n",
      "0:\tlearn: 2527.4011053\ttotal: 65.2ms\tremaining: 717ms\n",
      "1:\tlearn: 2203.4083781\ttotal: 128ms\tremaining: 639ms\n",
      "2:\tlearn: 2095.8643741\ttotal: 183ms\tremaining: 548ms\n",
      "3:\tlearn: 2010.8995870\ttotal: 230ms\tremaining: 459ms\n",
      "4:\tlearn: 1946.1056166\ttotal: 284ms\tremaining: 398ms\n",
      "5:\tlearn: 1890.9621284\ttotal: 331ms\tremaining: 331ms\n",
      "6:\tlearn: 1859.6330291\ttotal: 383ms\tremaining: 274ms\n",
      "7:\tlearn: 1831.5297719\ttotal: 427ms\tremaining: 214ms\n",
      "8:\tlearn: 1806.1019154\ttotal: 482ms\tremaining: 161ms\n",
      "9:\tlearn: 1783.3310096\ttotal: 529ms\tremaining: 106ms\n",
      "10:\tlearn: 1764.5440316\ttotal: 584ms\tremaining: 53.1ms\n",
      "11:\tlearn: 1748.6632425\ttotal: 630ms\tremaining: 0us\n",
      "0:\tlearn: 2533.1754331\ttotal: 57.5ms\tremaining: 633ms\n",
      "1:\tlearn: 2215.1232205\ttotal: 123ms\tremaining: 617ms\n",
      "2:\tlearn: 2104.3342201\ttotal: 174ms\tremaining: 521ms\n",
      "3:\tlearn: 1998.5483251\ttotal: 234ms\tremaining: 468ms\n",
      "4:\tlearn: 1938.2572596\ttotal: 294ms\tremaining: 412ms\n",
      "5:\tlearn: 1902.8116875\ttotal: 346ms\tremaining: 346ms\n",
      "6:\tlearn: 1860.4005460\ttotal: 393ms\tremaining: 281ms\n",
      "7:\tlearn: 1833.6589388\ttotal: 446ms\tremaining: 223ms\n",
      "8:\tlearn: 1815.3472369\ttotal: 493ms\tremaining: 164ms\n",
      "9:\tlearn: 1791.1298130\ttotal: 553ms\tremaining: 111ms\n",
      "10:\tlearn: 1773.6693049\ttotal: 601ms\tremaining: 54.6ms\n",
      "11:\tlearn: 1760.6508972\ttotal: 650ms\tremaining: 0us\n",
      "0:\tlearn: 2534.6644163\ttotal: 54.2ms\tremaining: 705ms\n",
      "1:\tlearn: 2219.6461283\ttotal: 114ms\tremaining: 685ms\n",
      "2:\tlearn: 2111.3496781\ttotal: 171ms\tremaining: 627ms\n",
      "3:\tlearn: 2006.8323533\ttotal: 217ms\tremaining: 543ms\n",
      "4:\tlearn: 1941.3500166\ttotal: 270ms\tremaining: 486ms\n",
      "5:\tlearn: 1899.2450861\ttotal: 316ms\tremaining: 422ms\n",
      "6:\tlearn: 1849.0665720\ttotal: 372ms\tremaining: 372ms\n",
      "7:\tlearn: 1833.9136804\ttotal: 418ms\tremaining: 314ms\n",
      "8:\tlearn: 1810.4748368\ttotal: 471ms\tremaining: 261ms\n",
      "9:\tlearn: 1792.5016004\ttotal: 516ms\tremaining: 206ms\n",
      "10:\tlearn: 1772.0794528\ttotal: 571ms\tremaining: 156ms\n",
      "11:\tlearn: 1754.5261766\ttotal: 617ms\tremaining: 103ms\n",
      "12:\tlearn: 1741.2668721\ttotal: 670ms\tremaining: 51.5ms\n",
      "13:\tlearn: 1724.4330505\ttotal: 716ms\tremaining: 0us\n",
      "0:\tlearn: 2527.4011053\ttotal: 57.9ms\tremaining: 753ms\n",
      "1:\tlearn: 2203.4083781\ttotal: 123ms\tremaining: 739ms\n",
      "2:\tlearn: 2095.8643741\ttotal: 178ms\tremaining: 652ms\n",
      "3:\tlearn: 2010.8995870\ttotal: 227ms\tremaining: 568ms\n",
      "4:\tlearn: 1946.1056166\ttotal: 282ms\tremaining: 507ms\n",
      "5:\tlearn: 1890.9621284\ttotal: 329ms\tremaining: 439ms\n",
      "6:\tlearn: 1859.6330291\ttotal: 382ms\tremaining: 382ms\n",
      "7:\tlearn: 1831.5297719\ttotal: 428ms\tremaining: 321ms\n",
      "8:\tlearn: 1806.1019154\ttotal: 480ms\tremaining: 267ms\n",
      "9:\tlearn: 1783.3310096\ttotal: 529ms\tremaining: 211ms\n",
      "10:\tlearn: 1764.5440316\ttotal: 583ms\tremaining: 159ms\n",
      "11:\tlearn: 1748.6632425\ttotal: 629ms\tremaining: 105ms\n",
      "12:\tlearn: 1731.5749587\ttotal: 684ms\tremaining: 52.6ms\n",
      "13:\tlearn: 1720.8428795\ttotal: 731ms\tremaining: 0us\n",
      "0:\tlearn: 2533.1754331\ttotal: 62.7ms\tremaining: 815ms\n",
      "1:\tlearn: 2215.1232205\ttotal: 126ms\tremaining: 757ms\n",
      "2:\tlearn: 2104.3342201\ttotal: 183ms\tremaining: 670ms\n",
      "3:\tlearn: 1998.5483251\ttotal: 233ms\tremaining: 582ms\n",
      "4:\tlearn: 1938.2572596\ttotal: 289ms\tremaining: 520ms\n",
      "5:\tlearn: 1902.8116875\ttotal: 336ms\tremaining: 448ms\n",
      "6:\tlearn: 1860.4005460\ttotal: 393ms\tremaining: 393ms\n",
      "7:\tlearn: 1833.6589388\ttotal: 445ms\tremaining: 334ms\n",
      "8:\tlearn: 1815.3472369\ttotal: 494ms\tremaining: 274ms\n",
      "9:\tlearn: 1791.1298130\ttotal: 546ms\tremaining: 218ms\n",
      "10:\tlearn: 1773.6693049\ttotal: 595ms\tremaining: 162ms\n",
      "11:\tlearn: 1760.6508972\ttotal: 643ms\tremaining: 107ms\n",
      "12:\tlearn: 1751.2870722\ttotal: 691ms\tremaining: 53.2ms\n",
      "13:\tlearn: 1734.6308848\ttotal: 744ms\tremaining: 0us\n",
      "0:\tlearn: 2534.6644163\ttotal: 60.3ms\tremaining: 905ms\n",
      "1:\tlearn: 2219.6461283\ttotal: 127ms\tremaining: 886ms\n",
      "2:\tlearn: 2111.3496781\ttotal: 176ms\tremaining: 761ms\n",
      "3:\tlearn: 2006.8323533\ttotal: 230ms\tremaining: 691ms\n",
      "4:\tlearn: 1941.3500166\ttotal: 279ms\tremaining: 614ms\n",
      "5:\tlearn: 1899.2450861\ttotal: 334ms\tremaining: 556ms\n",
      "6:\tlearn: 1849.0665720\ttotal: 381ms\tremaining: 490ms\n",
      "7:\tlearn: 1833.9136804\ttotal: 436ms\tremaining: 436ms\n",
      "8:\tlearn: 1810.4748368\ttotal: 486ms\tremaining: 378ms\n",
      "9:\tlearn: 1792.5016004\ttotal: 551ms\tremaining: 331ms\n",
      "10:\tlearn: 1772.0794528\ttotal: 600ms\tremaining: 273ms\n",
      "11:\tlearn: 1754.5261766\ttotal: 644ms\tremaining: 215ms\n",
      "12:\tlearn: 1741.2668721\ttotal: 692ms\tremaining: 160ms\n",
      "13:\tlearn: 1724.4330505\ttotal: 737ms\tremaining: 105ms\n",
      "14:\tlearn: 1716.6848421\ttotal: 785ms\tremaining: 52.3ms\n",
      "15:\tlearn: 1703.0282489\ttotal: 835ms\tremaining: 0us\n",
      "0:\tlearn: 2527.4011053\ttotal: 62.8ms\tremaining: 942ms\n",
      "1:\tlearn: 2203.4083781\ttotal: 130ms\tremaining: 912ms\n",
      "2:\tlearn: 2095.8643741\ttotal: 185ms\tremaining: 802ms\n",
      "3:\tlearn: 2010.8995870\ttotal: 241ms\tremaining: 724ms\n",
      "4:\tlearn: 1946.1056166\ttotal: 289ms\tremaining: 636ms\n",
      "5:\tlearn: 1890.9621284\ttotal: 346ms\tremaining: 577ms\n",
      "6:\tlearn: 1859.6330291\ttotal: 393ms\tremaining: 505ms\n",
      "7:\tlearn: 1831.5297719\ttotal: 448ms\tremaining: 448ms\n",
      "8:\tlearn: 1806.1019154\ttotal: 495ms\tremaining: 385ms\n",
      "9:\tlearn: 1783.3310096\ttotal: 549ms\tremaining: 330ms\n",
      "10:\tlearn: 1764.5440316\ttotal: 598ms\tremaining: 272ms\n",
      "11:\tlearn: 1748.6632425\ttotal: 649ms\tremaining: 216ms\n",
      "12:\tlearn: 1731.5749587\ttotal: 698ms\tremaining: 161ms\n",
      "13:\tlearn: 1720.8428795\ttotal: 755ms\tremaining: 108ms\n",
      "14:\tlearn: 1710.9996916\ttotal: 809ms\tremaining: 53.9ms\n",
      "15:\tlearn: 1701.9540725\ttotal: 856ms\tremaining: 0us\n",
      "0:\tlearn: 2533.1754331\ttotal: 62.6ms\tremaining: 939ms\n",
      "1:\tlearn: 2215.1232205\ttotal: 143ms\tremaining: 1s\n",
      "2:\tlearn: 2104.3342201\ttotal: 213ms\tremaining: 922ms\n",
      "3:\tlearn: 1998.5483251\ttotal: 278ms\tremaining: 834ms\n",
      "4:\tlearn: 1938.2572596\ttotal: 348ms\tremaining: 765ms\n",
      "5:\tlearn: 1902.8116875\ttotal: 418ms\tremaining: 696ms\n",
      "6:\tlearn: 1860.4005460\ttotal: 472ms\tremaining: 607ms\n",
      "7:\tlearn: 1833.6589388\ttotal: 524ms\tremaining: 524ms\n",
      "8:\tlearn: 1815.3472369\ttotal: 575ms\tremaining: 447ms\n",
      "9:\tlearn: 1791.1298130\ttotal: 625ms\tremaining: 375ms\n",
      "10:\tlearn: 1773.6693049\ttotal: 671ms\tremaining: 305ms\n",
      "11:\tlearn: 1760.6508972\ttotal: 719ms\tremaining: 240ms\n",
      "12:\tlearn: 1751.2870722\ttotal: 767ms\tremaining: 177ms\n",
      "13:\tlearn: 1734.6308848\ttotal: 819ms\tremaining: 117ms\n",
      "14:\tlearn: 1724.0619403\ttotal: 866ms\tremaining: 57.7ms\n",
      "15:\tlearn: 1709.4765089\ttotal: 914ms\tremaining: 0us\n",
      "0:\tlearn: 2534.6644163\ttotal: 63.3ms\tremaining: 1.08s\n",
      "1:\tlearn: 2219.6461283\ttotal: 127ms\tremaining: 1.02s\n",
      "2:\tlearn: 2111.3496781\ttotal: 186ms\tremaining: 932ms\n",
      "3:\tlearn: 2006.8323533\ttotal: 234ms\tremaining: 819ms\n",
      "4:\tlearn: 1941.3500166\ttotal: 288ms\tremaining: 748ms\n",
      "5:\tlearn: 1899.2450861\ttotal: 338ms\tremaining: 676ms\n",
      "6:\tlearn: 1849.0665720\ttotal: 391ms\tremaining: 614ms\n",
      "7:\tlearn: 1833.9136804\ttotal: 442ms\tremaining: 552ms\n",
      "8:\tlearn: 1810.4748368\ttotal: 489ms\tremaining: 489ms\n",
      "9:\tlearn: 1792.5016004\ttotal: 537ms\tremaining: 429ms\n",
      "10:\tlearn: 1772.0794528\ttotal: 583ms\tremaining: 371ms\n",
      "11:\tlearn: 1754.5261766\ttotal: 629ms\tremaining: 314ms\n",
      "12:\tlearn: 1741.2668721\ttotal: 678ms\tremaining: 261ms\n",
      "13:\tlearn: 1724.4330505\ttotal: 726ms\tremaining: 207ms\n",
      "14:\tlearn: 1716.6848421\ttotal: 774ms\tremaining: 155ms\n",
      "15:\tlearn: 1703.0282489\ttotal: 821ms\tremaining: 103ms\n",
      "16:\tlearn: 1693.4881424\ttotal: 878ms\tremaining: 51.6ms\n",
      "17:\tlearn: 1682.0238859\ttotal: 925ms\tremaining: 0us\n",
      "0:\tlearn: 2527.4011053\ttotal: 65.4ms\tremaining: 1.11s\n",
      "1:\tlearn: 2203.4083781\ttotal: 133ms\tremaining: 1.07s\n",
      "2:\tlearn: 2095.8643741\ttotal: 183ms\tremaining: 917ms\n",
      "3:\tlearn: 2010.8995870\ttotal: 241ms\tremaining: 843ms\n",
      "4:\tlearn: 1946.1056166\ttotal: 288ms\tremaining: 749ms\n",
      "5:\tlearn: 1890.9621284\ttotal: 346ms\tremaining: 692ms\n",
      "6:\tlearn: 1859.6330291\ttotal: 392ms\tremaining: 616ms\n",
      "7:\tlearn: 1831.5297719\ttotal: 448ms\tremaining: 560ms\n",
      "8:\tlearn: 1806.1019154\ttotal: 496ms\tremaining: 496ms\n",
      "9:\tlearn: 1783.3310096\ttotal: 557ms\tremaining: 446ms\n",
      "10:\tlearn: 1764.5440316\ttotal: 622ms\tremaining: 396ms\n",
      "11:\tlearn: 1748.6632425\ttotal: 671ms\tremaining: 335ms\n",
      "12:\tlearn: 1731.5749587\ttotal: 722ms\tremaining: 278ms\n",
      "13:\tlearn: 1720.8428795\ttotal: 777ms\tremaining: 222ms\n",
      "14:\tlearn: 1710.9996916\ttotal: 830ms\tremaining: 166ms\n",
      "15:\tlearn: 1701.9540725\ttotal: 877ms\tremaining: 110ms\n",
      "16:\tlearn: 1688.8072853\ttotal: 931ms\tremaining: 54.8ms\n",
      "17:\tlearn: 1681.7277883\ttotal: 984ms\tremaining: 0us\n",
      "0:\tlearn: 2533.1754331\ttotal: 64.9ms\tremaining: 1.1s\n",
      "1:\tlearn: 2215.1232205\ttotal: 130ms\tremaining: 1.04s\n",
      "2:\tlearn: 2104.3342201\ttotal: 187ms\tremaining: 937ms\n",
      "3:\tlearn: 1998.5483251\ttotal: 242ms\tremaining: 848ms\n",
      "4:\tlearn: 1938.2572596\ttotal: 293ms\tremaining: 761ms\n",
      "5:\tlearn: 1902.8116875\ttotal: 350ms\tremaining: 700ms\n",
      "6:\tlearn: 1860.4005460\ttotal: 404ms\tremaining: 635ms\n",
      "7:\tlearn: 1833.6589388\ttotal: 459ms\tremaining: 574ms\n",
      "8:\tlearn: 1815.3472369\ttotal: 508ms\tremaining: 508ms\n",
      "9:\tlearn: 1791.1298130\ttotal: 570ms\tremaining: 456ms\n",
      "10:\tlearn: 1773.6693049\ttotal: 618ms\tremaining: 394ms\n",
      "11:\tlearn: 1760.6508972\ttotal: 672ms\tremaining: 336ms\n",
      "12:\tlearn: 1751.2870722\ttotal: 720ms\tremaining: 277ms\n",
      "13:\tlearn: 1734.6308848\ttotal: 772ms\tremaining: 221ms\n",
      "14:\tlearn: 1724.0619403\ttotal: 818ms\tremaining: 164ms\n",
      "15:\tlearn: 1709.4765089\ttotal: 867ms\tremaining: 108ms\n",
      "16:\tlearn: 1698.4528835\ttotal: 913ms\tremaining: 53.7ms\n",
      "17:\tlearn: 1691.6380423\ttotal: 965ms\tremaining: 0us\n",
      "0:\tlearn: 2429.3270159\ttotal: 75.3ms\tremaining: 677ms\n",
      "1:\tlearn: 2112.5191167\ttotal: 159ms\tremaining: 636ms\n",
      "2:\tlearn: 1988.4562640\ttotal: 230ms\tremaining: 537ms\n",
      "3:\tlearn: 1908.2226398\ttotal: 299ms\tremaining: 449ms\n",
      "4:\tlearn: 1845.4167361\ttotal: 363ms\tremaining: 363ms\n",
      "5:\tlearn: 1817.1987815\ttotal: 424ms\tremaining: 283ms\n",
      "6:\tlearn: 1783.3480407\ttotal: 503ms\tremaining: 216ms\n",
      "7:\tlearn: 1754.6985606\ttotal: 578ms\tremaining: 144ms\n",
      "8:\tlearn: 1729.7020968\ttotal: 655ms\tremaining: 72.8ms\n",
      "9:\tlearn: 1708.4904100\ttotal: 731ms\tremaining: 0us\n",
      "0:\tlearn: 2378.2375399\ttotal: 87ms\tremaining: 783ms\n",
      "1:\tlearn: 2071.0215649\ttotal: 176ms\tremaining: 703ms\n",
      "2:\tlearn: 1969.4688388\ttotal: 240ms\tremaining: 559ms\n",
      "3:\tlearn: 1880.7178161\ttotal: 309ms\tremaining: 464ms\n",
      "4:\tlearn: 1846.2265748\ttotal: 379ms\tremaining: 379ms\n",
      "5:\tlearn: 1797.5908307\ttotal: 442ms\tremaining: 295ms\n",
      "6:\tlearn: 1752.9135914\ttotal: 510ms\tremaining: 218ms\n",
      "7:\tlearn: 1721.0147274\ttotal: 581ms\tremaining: 145ms\n",
      "8:\tlearn: 1702.8656519\ttotal: 649ms\tremaining: 72.1ms\n",
      "9:\tlearn: 1685.9286579\ttotal: 722ms\tremaining: 0us\n",
      "0:\tlearn: 2431.6738619\ttotal: 73.9ms\tremaining: 665ms\n",
      "1:\tlearn: 2097.2712649\ttotal: 188ms\tremaining: 754ms\n",
      "2:\tlearn: 1973.2863097\ttotal: 270ms\tremaining: 629ms\n",
      "3:\tlearn: 1900.4262657\ttotal: 346ms\tremaining: 519ms\n",
      "4:\tlearn: 1840.1832513\ttotal: 428ms\tremaining: 428ms\n",
      "5:\tlearn: 1793.8047470\ttotal: 501ms\tremaining: 334ms\n",
      "6:\tlearn: 1775.2003201\ttotal: 567ms\tremaining: 243ms\n",
      "7:\tlearn: 1751.1023833\ttotal: 633ms\tremaining: 158ms\n",
      "8:\tlearn: 1728.0477027\ttotal: 708ms\tremaining: 78.7ms\n",
      "9:\tlearn: 1703.4527847\ttotal: 778ms\tremaining: 0us\n",
      "0:\tlearn: 2429.3270159\ttotal: 75.3ms\tremaining: 829ms\n",
      "1:\tlearn: 2112.5191167\ttotal: 163ms\tremaining: 813ms\n",
      "2:\tlearn: 1988.4562640\ttotal: 226ms\tremaining: 678ms\n",
      "3:\tlearn: 1908.2226398\ttotal: 297ms\tremaining: 594ms\n",
      "4:\tlearn: 1845.4167361\ttotal: 370ms\tremaining: 518ms\n",
      "5:\tlearn: 1817.1987815\ttotal: 432ms\tremaining: 432ms\n",
      "6:\tlearn: 1783.3480407\ttotal: 507ms\tremaining: 362ms\n",
      "7:\tlearn: 1754.6985606\ttotal: 579ms\tremaining: 289ms\n",
      "8:\tlearn: 1729.7020968\ttotal: 647ms\tremaining: 216ms\n",
      "9:\tlearn: 1708.4904100\ttotal: 715ms\tremaining: 143ms\n",
      "10:\tlearn: 1691.6036671\ttotal: 787ms\tremaining: 71.5ms\n",
      "11:\tlearn: 1673.3754532\ttotal: 857ms\tremaining: 0us\n",
      "0:\tlearn: 2378.2375399\ttotal: 79.2ms\tremaining: 871ms\n",
      "1:\tlearn: 2071.0215649\ttotal: 166ms\tremaining: 831ms\n",
      "2:\tlearn: 1969.4688388\ttotal: 237ms\tremaining: 711ms\n",
      "3:\tlearn: 1880.7178161\ttotal: 300ms\tremaining: 600ms\n",
      "4:\tlearn: 1846.2265748\ttotal: 368ms\tremaining: 515ms\n",
      "5:\tlearn: 1797.5908307\ttotal: 439ms\tremaining: 439ms\n",
      "6:\tlearn: 1752.9135914\ttotal: 512ms\tremaining: 366ms\n",
      "7:\tlearn: 1721.0147274\ttotal: 575ms\tremaining: 287ms\n",
      "8:\tlearn: 1702.8656519\ttotal: 644ms\tremaining: 215ms\n",
      "9:\tlearn: 1685.9286579\ttotal: 709ms\tremaining: 142ms\n",
      "10:\tlearn: 1670.3926705\ttotal: 772ms\tremaining: 70.1ms\n",
      "11:\tlearn: 1658.9316286\ttotal: 841ms\tremaining: 0us\n",
      "0:\tlearn: 2431.6738619\ttotal: 76.2ms\tremaining: 839ms\n",
      "1:\tlearn: 2097.2712649\ttotal: 160ms\tremaining: 801ms\n",
      "2:\tlearn: 1973.2863097\ttotal: 221ms\tremaining: 664ms\n",
      "3:\tlearn: 1900.4262657\ttotal: 293ms\tremaining: 586ms\n",
      "4:\tlearn: 1840.1832513\ttotal: 363ms\tremaining: 508ms\n",
      "5:\tlearn: 1793.8047470\ttotal: 426ms\tremaining: 426ms\n",
      "6:\tlearn: 1775.2003201\ttotal: 498ms\tremaining: 356ms\n",
      "7:\tlearn: 1751.1023833\ttotal: 566ms\tremaining: 283ms\n",
      "8:\tlearn: 1728.0477027\ttotal: 632ms\tremaining: 211ms\n",
      "9:\tlearn: 1703.4527847\ttotal: 702ms\tremaining: 140ms\n",
      "10:\tlearn: 1678.9485971\ttotal: 772ms\tremaining: 70.2ms\n",
      "11:\tlearn: 1660.6807649\ttotal: 836ms\tremaining: 0us\n",
      "0:\tlearn: 2429.3270159\ttotal: 84.2ms\tremaining: 1.09s\n",
      "1:\tlearn: 2112.5191167\ttotal: 174ms\tremaining: 1.04s\n",
      "2:\tlearn: 1988.4562640\ttotal: 237ms\tremaining: 871ms\n",
      "3:\tlearn: 1908.2226398\ttotal: 303ms\tremaining: 757ms\n",
      "4:\tlearn: 1845.4167361\ttotal: 377ms\tremaining: 678ms\n",
      "5:\tlearn: 1817.1987815\ttotal: 444ms\tremaining: 592ms\n",
      "6:\tlearn: 1783.3480407\ttotal: 509ms\tremaining: 509ms\n",
      "7:\tlearn: 1754.6985606\ttotal: 584ms\tremaining: 438ms\n",
      "8:\tlearn: 1729.7020968\ttotal: 652ms\tremaining: 362ms\n",
      "9:\tlearn: 1708.4904100\ttotal: 717ms\tremaining: 287ms\n",
      "10:\tlearn: 1691.6036671\ttotal: 786ms\tremaining: 214ms\n",
      "11:\tlearn: 1673.3754532\ttotal: 859ms\tremaining: 143ms\n",
      "12:\tlearn: 1660.4699159\ttotal: 923ms\tremaining: 71ms\n",
      "13:\tlearn: 1642.0722805\ttotal: 987ms\tremaining: 0us\n",
      "0:\tlearn: 2378.2375399\ttotal: 83.5ms\tremaining: 1.08s\n",
      "1:\tlearn: 2071.0215649\ttotal: 167ms\tremaining: 1s\n",
      "2:\tlearn: 1969.4688388\ttotal: 228ms\tremaining: 835ms\n",
      "3:\tlearn: 1880.7178161\ttotal: 291ms\tremaining: 728ms\n",
      "4:\tlearn: 1846.2265748\ttotal: 365ms\tremaining: 658ms\n",
      "5:\tlearn: 1797.5908307\ttotal: 437ms\tremaining: 582ms\n",
      "6:\tlearn: 1752.9135914\ttotal: 501ms\tremaining: 501ms\n",
      "7:\tlearn: 1721.0147274\ttotal: 572ms\tremaining: 429ms\n",
      "8:\tlearn: 1702.8656519\ttotal: 644ms\tremaining: 358ms\n",
      "9:\tlearn: 1685.9286579\ttotal: 717ms\tremaining: 287ms\n",
      "10:\tlearn: 1670.3926705\ttotal: 783ms\tremaining: 214ms\n",
      "11:\tlearn: 1658.9316286\ttotal: 855ms\tremaining: 142ms\n",
      "12:\tlearn: 1644.0817292\ttotal: 930ms\tremaining: 71.5ms\n",
      "13:\tlearn: 1635.9970067\ttotal: 1s\tremaining: 0us\n",
      "0:\tlearn: 2431.6738619\ttotal: 110ms\tremaining: 1.43s\n",
      "1:\tlearn: 2097.2712649\ttotal: 214ms\tremaining: 1.28s\n",
      "2:\tlearn: 1973.2863097\ttotal: 298ms\tremaining: 1.09s\n",
      "3:\tlearn: 1900.4262657\ttotal: 379ms\tremaining: 947ms\n",
      "4:\tlearn: 1840.1832513\ttotal: 444ms\tremaining: 799ms\n",
      "5:\tlearn: 1793.8047470\ttotal: 522ms\tremaining: 696ms\n",
      "6:\tlearn: 1775.2003201\ttotal: 591ms\tremaining: 591ms\n",
      "7:\tlearn: 1751.1023833\ttotal: 661ms\tremaining: 496ms\n",
      "8:\tlearn: 1728.0477027\ttotal: 727ms\tremaining: 404ms\n",
      "9:\tlearn: 1703.4527847\ttotal: 798ms\tremaining: 319ms\n",
      "10:\tlearn: 1678.9485971\ttotal: 862ms\tremaining: 235ms\n",
      "11:\tlearn: 1660.6807649\ttotal: 926ms\tremaining: 154ms\n",
      "12:\tlearn: 1652.0683119\ttotal: 996ms\tremaining: 76.6ms\n",
      "13:\tlearn: 1642.8191553\ttotal: 1.06s\tremaining: 0us\n",
      "0:\tlearn: 2429.3270159\ttotal: 80ms\tremaining: 1.2s\n",
      "1:\tlearn: 2112.5191167\ttotal: 170ms\tremaining: 1.19s\n",
      "2:\tlearn: 1988.4562640\ttotal: 241ms\tremaining: 1.04s\n",
      "3:\tlearn: 1908.2226398\ttotal: 305ms\tremaining: 914ms\n",
      "4:\tlearn: 1845.4167361\ttotal: 374ms\tremaining: 824ms\n",
      "5:\tlearn: 1817.1987815\ttotal: 442ms\tremaining: 737ms\n",
      "6:\tlearn: 1783.3480407\ttotal: 504ms\tremaining: 649ms\n",
      "7:\tlearn: 1754.6985606\ttotal: 571ms\tremaining: 571ms\n",
      "8:\tlearn: 1729.7020968\ttotal: 644ms\tremaining: 501ms\n",
      "9:\tlearn: 1708.4904100\ttotal: 713ms\tremaining: 428ms\n",
      "10:\tlearn: 1691.6036671\ttotal: 776ms\tremaining: 353ms\n",
      "11:\tlearn: 1673.3754532\ttotal: 848ms\tremaining: 283ms\n",
      "12:\tlearn: 1660.4699159\ttotal: 918ms\tremaining: 212ms\n",
      "13:\tlearn: 1642.0722805\ttotal: 980ms\tremaining: 140ms\n",
      "14:\tlearn: 1628.2523309\ttotal: 1.05s\tremaining: 70.2ms\n",
      "15:\tlearn: 1614.6028684\ttotal: 1.13s\tremaining: 0us\n",
      "0:\tlearn: 2378.2375399\ttotal: 81.3ms\tremaining: 1.22s\n",
      "1:\tlearn: 2071.0215649\ttotal: 163ms\tremaining: 1.14s\n",
      "2:\tlearn: 1969.4688388\ttotal: 235ms\tremaining: 1.02s\n",
      "3:\tlearn: 1880.7178161\ttotal: 309ms\tremaining: 926ms\n",
      "4:\tlearn: 1846.2265748\ttotal: 378ms\tremaining: 832ms\n",
      "5:\tlearn: 1797.5908307\ttotal: 446ms\tremaining: 744ms\n",
      "6:\tlearn: 1752.9135914\ttotal: 521ms\tremaining: 670ms\n",
      "7:\tlearn: 1721.0147274\ttotal: 592ms\tremaining: 592ms\n",
      "8:\tlearn: 1702.8656519\ttotal: 655ms\tremaining: 509ms\n",
      "9:\tlearn: 1685.9286579\ttotal: 730ms\tremaining: 438ms\n",
      "10:\tlearn: 1670.3926705\ttotal: 802ms\tremaining: 364ms\n",
      "11:\tlearn: 1658.9316286\ttotal: 871ms\tremaining: 290ms\n",
      "12:\tlearn: 1644.0817292\ttotal: 936ms\tremaining: 216ms\n",
      "13:\tlearn: 1635.9970067\ttotal: 1.01s\tremaining: 144ms\n",
      "14:\tlearn: 1626.5150894\ttotal: 1.08s\tremaining: 72ms\n",
      "15:\tlearn: 1617.3976296\ttotal: 1.15s\tremaining: 0us\n",
      "0:\tlearn: 2431.6738619\ttotal: 79.6ms\tremaining: 1.19s\n",
      "1:\tlearn: 2097.2712649\ttotal: 171ms\tremaining: 1.2s\n",
      "2:\tlearn: 1973.2863097\ttotal: 241ms\tremaining: 1.04s\n",
      "3:\tlearn: 1900.4262657\ttotal: 308ms\tremaining: 923ms\n",
      "4:\tlearn: 1840.1832513\ttotal: 378ms\tremaining: 831ms\n",
      "5:\tlearn: 1793.8047470\ttotal: 454ms\tremaining: 757ms\n",
      "6:\tlearn: 1775.2003201\ttotal: 524ms\tremaining: 674ms\n",
      "7:\tlearn: 1751.1023833\ttotal: 592ms\tremaining: 592ms\n",
      "8:\tlearn: 1728.0477027\ttotal: 679ms\tremaining: 528ms\n",
      "9:\tlearn: 1703.4527847\ttotal: 758ms\tremaining: 455ms\n",
      "10:\tlearn: 1678.9485971\ttotal: 828ms\tremaining: 376ms\n",
      "11:\tlearn: 1660.6807649\ttotal: 891ms\tremaining: 297ms\n",
      "12:\tlearn: 1652.0683119\ttotal: 964ms\tremaining: 223ms\n",
      "13:\tlearn: 1642.8191553\ttotal: 1.04s\tremaining: 148ms\n",
      "14:\tlearn: 1633.8165058\ttotal: 1.1s\tremaining: 73.5ms\n",
      "15:\tlearn: 1622.3597340\ttotal: 1.18s\tremaining: 0us\n",
      "0:\tlearn: 2429.3270159\ttotal: 80ms\tremaining: 1.36s\n",
      "1:\tlearn: 2112.5191167\ttotal: 167ms\tremaining: 1.33s\n",
      "2:\tlearn: 1988.4562640\ttotal: 233ms\tremaining: 1.16s\n",
      "3:\tlearn: 1908.2226398\ttotal: 311ms\tremaining: 1.09s\n",
      "4:\tlearn: 1845.4167361\ttotal: 395ms\tremaining: 1.03s\n",
      "5:\tlearn: 1817.1987815\ttotal: 471ms\tremaining: 941ms\n",
      "6:\tlearn: 1783.3480407\ttotal: 543ms\tremaining: 853ms\n",
      "7:\tlearn: 1754.6985606\ttotal: 622ms\tremaining: 778ms\n",
      "8:\tlearn: 1729.7020968\ttotal: 711ms\tremaining: 711ms\n",
      "9:\tlearn: 1708.4904100\ttotal: 785ms\tremaining: 628ms\n",
      "10:\tlearn: 1691.6036671\ttotal: 850ms\tremaining: 541ms\n",
      "11:\tlearn: 1673.3754532\ttotal: 916ms\tremaining: 458ms\n",
      "12:\tlearn: 1660.4699159\ttotal: 992ms\tremaining: 381ms\n",
      "13:\tlearn: 1642.0722805\ttotal: 1.06s\tremaining: 304ms\n",
      "14:\tlearn: 1628.2523309\ttotal: 1.13s\tremaining: 226ms\n",
      "15:\tlearn: 1614.6028684\ttotal: 1.2s\tremaining: 150ms\n",
      "16:\tlearn: 1605.9282354\ttotal: 1.28s\tremaining: 75.6ms\n",
      "17:\tlearn: 1600.7169737\ttotal: 1.38s\tremaining: 0us\n",
      "0:\tlearn: 2378.2375399\ttotal: 122ms\tremaining: 2.07s\n",
      "1:\tlearn: 2071.0215649\ttotal: 229ms\tremaining: 1.83s\n",
      "2:\tlearn: 1969.4688388\ttotal: 324ms\tremaining: 1.62s\n",
      "3:\tlearn: 1880.7178161\ttotal: 415ms\tremaining: 1.45s\n",
      "4:\tlearn: 1846.2265748\ttotal: 492ms\tremaining: 1.28s\n",
      "5:\tlearn: 1797.5908307\ttotal: 567ms\tremaining: 1.13s\n",
      "6:\tlearn: 1752.9135914\ttotal: 635ms\tremaining: 998ms\n",
      "7:\tlearn: 1721.0147274\ttotal: 705ms\tremaining: 881ms\n",
      "8:\tlearn: 1702.8656519\ttotal: 775ms\tremaining: 775ms\n",
      "9:\tlearn: 1685.9286579\ttotal: 842ms\tremaining: 674ms\n",
      "10:\tlearn: 1670.3926705\ttotal: 909ms\tremaining: 578ms\n",
      "11:\tlearn: 1658.9316286\ttotal: 981ms\tremaining: 490ms\n",
      "12:\tlearn: 1644.0817292\ttotal: 1.05s\tremaining: 405ms\n",
      "13:\tlearn: 1635.9970067\ttotal: 1.12s\tremaining: 320ms\n",
      "14:\tlearn: 1626.5150894\ttotal: 1.19s\tremaining: 239ms\n",
      "15:\tlearn: 1617.3976296\ttotal: 1.27s\tremaining: 158ms\n",
      "16:\tlearn: 1601.2371111\ttotal: 1.34s\tremaining: 78.9ms\n",
      "17:\tlearn: 1589.5864199\ttotal: 1.41s\tremaining: 0us\n",
      "0:\tlearn: 2431.6738619\ttotal: 79.9ms\tremaining: 1.36s\n",
      "1:\tlearn: 2097.2712649\ttotal: 172ms\tremaining: 1.37s\n",
      "2:\tlearn: 1973.2863097\ttotal: 244ms\tremaining: 1.22s\n",
      "3:\tlearn: 1900.4262657\ttotal: 324ms\tremaining: 1.14s\n",
      "4:\tlearn: 1840.1832513\ttotal: 391ms\tremaining: 1.01s\n",
      "5:\tlearn: 1793.8047470\ttotal: 464ms\tremaining: 928ms\n",
      "6:\tlearn: 1775.2003201\ttotal: 541ms\tremaining: 851ms\n",
      "7:\tlearn: 1751.1023833\ttotal: 612ms\tremaining: 765ms\n",
      "8:\tlearn: 1728.0477027\ttotal: 680ms\tremaining: 680ms\n",
      "9:\tlearn: 1703.4527847\ttotal: 753ms\tremaining: 603ms\n",
      "10:\tlearn: 1678.9485971\ttotal: 830ms\tremaining: 528ms\n",
      "11:\tlearn: 1660.6807649\ttotal: 895ms\tremaining: 447ms\n",
      "12:\tlearn: 1652.0683119\ttotal: 963ms\tremaining: 370ms\n",
      "13:\tlearn: 1642.8191553\ttotal: 1.04s\tremaining: 297ms\n",
      "14:\tlearn: 1633.8165058\ttotal: 1.11s\tremaining: 222ms\n",
      "15:\tlearn: 1622.3597340\ttotal: 1.18s\tremaining: 147ms\n",
      "16:\tlearn: 1613.0655475\ttotal: 1.25s\tremaining: 73.3ms\n",
      "17:\tlearn: 1601.2237843\ttotal: 1.32s\tremaining: 0us\n",
      "0:\tlearn: 2342.1037512\ttotal: 112ms\tremaining: 1.01s\n",
      "1:\tlearn: 2032.6133485\ttotal: 233ms\tremaining: 933ms\n",
      "2:\tlearn: 1888.9103617\ttotal: 344ms\tremaining: 803ms\n",
      "3:\tlearn: 1801.3571886\ttotal: 458ms\tremaining: 687ms\n",
      "4:\tlearn: 1752.3905759\ttotal: 556ms\tremaining: 556ms\n",
      "5:\tlearn: 1715.6434574\ttotal: 651ms\tremaining: 434ms\n",
      "6:\tlearn: 1678.4876308\ttotal: 753ms\tremaining: 323ms\n",
      "7:\tlearn: 1657.9350442\ttotal: 851ms\tremaining: 213ms\n",
      "8:\tlearn: 1631.8031544\ttotal: 953ms\tremaining: 106ms\n",
      "9:\tlearn: 1619.8177343\ttotal: 1.05s\tremaining: 0us\n",
      "0:\tlearn: 2316.2967488\ttotal: 110ms\tremaining: 991ms\n",
      "1:\tlearn: 2010.4172107\ttotal: 227ms\tremaining: 906ms\n",
      "2:\tlearn: 1880.5165570\ttotal: 326ms\tremaining: 761ms\n",
      "3:\tlearn: 1800.5400220\ttotal: 426ms\tremaining: 639ms\n",
      "4:\tlearn: 1772.8483642\ttotal: 527ms\tremaining: 527ms\n",
      "5:\tlearn: 1715.9668737\ttotal: 628ms\tremaining: 419ms\n",
      "6:\tlearn: 1669.7650670\ttotal: 725ms\tremaining: 311ms\n",
      "7:\tlearn: 1645.4569471\ttotal: 826ms\tremaining: 206ms\n",
      "8:\tlearn: 1628.5934864\ttotal: 925ms\tremaining: 103ms\n",
      "9:\tlearn: 1610.4451641\ttotal: 1.02s\tremaining: 0us\n",
      "0:\tlearn: 2342.9658434\ttotal: 106ms\tremaining: 956ms\n",
      "1:\tlearn: 2017.8996888\ttotal: 221ms\tremaining: 886ms\n",
      "2:\tlearn: 1901.2400437\ttotal: 320ms\tremaining: 746ms\n",
      "3:\tlearn: 1817.7461297\ttotal: 439ms\tremaining: 659ms\n",
      "4:\tlearn: 1770.0751804\ttotal: 557ms\tremaining: 557ms\n",
      "5:\tlearn: 1716.9378142\ttotal: 670ms\tremaining: 447ms\n",
      "6:\tlearn: 1691.0260312\ttotal: 795ms\tremaining: 341ms\n",
      "7:\tlearn: 1660.5954466\ttotal: 905ms\tremaining: 226ms\n",
      "8:\tlearn: 1631.7805538\ttotal: 1.02s\tremaining: 113ms\n",
      "9:\tlearn: 1616.1998404\ttotal: 1.14s\tremaining: 0us\n",
      "0:\tlearn: 2342.1037512\ttotal: 165ms\tremaining: 1.82s\n",
      "1:\tlearn: 2032.6133485\ttotal: 316ms\tremaining: 1.58s\n",
      "2:\tlearn: 1888.9103617\ttotal: 417ms\tremaining: 1.25s\n",
      "3:\tlearn: 1801.3571886\ttotal: 553ms\tremaining: 1.11s\n",
      "4:\tlearn: 1752.3905759\ttotal: 665ms\tremaining: 931ms\n",
      "5:\tlearn: 1715.6434574\ttotal: 765ms\tremaining: 765ms\n",
      "6:\tlearn: 1678.4876308\ttotal: 867ms\tremaining: 619ms\n",
      "7:\tlearn: 1657.9350442\ttotal: 970ms\tremaining: 485ms\n",
      "8:\tlearn: 1631.8031544\ttotal: 1.08s\tremaining: 362ms\n",
      "9:\tlearn: 1619.8177343\ttotal: 1.18s\tremaining: 236ms\n",
      "10:\tlearn: 1599.7118970\ttotal: 1.28s\tremaining: 116ms\n",
      "11:\tlearn: 1577.0181891\ttotal: 1.38s\tremaining: 0us\n",
      "0:\tlearn: 2316.2967488\ttotal: 109ms\tremaining: 1.2s\n",
      "1:\tlearn: 2010.4172107\ttotal: 218ms\tremaining: 1.09s\n",
      "2:\tlearn: 1880.5165570\ttotal: 335ms\tremaining: 1.01s\n",
      "3:\tlearn: 1800.5400220\ttotal: 442ms\tremaining: 884ms\n",
      "4:\tlearn: 1772.8483642\ttotal: 544ms\tremaining: 762ms\n",
      "5:\tlearn: 1715.9668737\ttotal: 646ms\tremaining: 646ms\n",
      "6:\tlearn: 1669.7650670\ttotal: 749ms\tremaining: 535ms\n",
      "7:\tlearn: 1645.4569471\ttotal: 851ms\tremaining: 425ms\n",
      "8:\tlearn: 1628.5934864\ttotal: 954ms\tremaining: 318ms\n",
      "9:\tlearn: 1610.4451641\ttotal: 1.05s\tremaining: 211ms\n",
      "10:\tlearn: 1590.8638638\ttotal: 1.16s\tremaining: 105ms\n",
      "11:\tlearn: 1575.4888765\ttotal: 1.26s\tremaining: 0us\n",
      "0:\tlearn: 2342.9658434\ttotal: 108ms\tremaining: 1.19s\n",
      "1:\tlearn: 2017.8996888\ttotal: 228ms\tremaining: 1.14s\n",
      "2:\tlearn: 1901.2400437\ttotal: 335ms\tremaining: 1s\n",
      "3:\tlearn: 1817.7461297\ttotal: 441ms\tremaining: 883ms\n",
      "4:\tlearn: 1770.0751804\ttotal: 547ms\tremaining: 766ms\n",
      "5:\tlearn: 1716.9378142\ttotal: 651ms\tremaining: 651ms\n",
      "6:\tlearn: 1691.0260312\ttotal: 755ms\tremaining: 540ms\n",
      "7:\tlearn: 1660.5954466\ttotal: 849ms\tremaining: 425ms\n",
      "8:\tlearn: 1631.7805538\ttotal: 948ms\tremaining: 316ms\n",
      "9:\tlearn: 1616.1998404\ttotal: 1.05s\tremaining: 209ms\n",
      "10:\tlearn: 1592.7129552\ttotal: 1.17s\tremaining: 106ms\n",
      "11:\tlearn: 1577.1313523\ttotal: 1.27s\tremaining: 0us\n",
      "0:\tlearn: 2342.1037512\ttotal: 109ms\tremaining: 1.42s\n",
      "1:\tlearn: 2032.6133485\ttotal: 236ms\tremaining: 1.42s\n",
      "2:\tlearn: 1888.9103617\ttotal: 336ms\tremaining: 1.23s\n",
      "3:\tlearn: 1801.3571886\ttotal: 441ms\tremaining: 1.1s\n",
      "4:\tlearn: 1752.3905759\ttotal: 542ms\tremaining: 976ms\n",
      "5:\tlearn: 1715.6434574\ttotal: 640ms\tremaining: 853ms\n",
      "6:\tlearn: 1678.4876308\ttotal: 737ms\tremaining: 737ms\n",
      "7:\tlearn: 1657.9350442\ttotal: 838ms\tremaining: 629ms\n",
      "8:\tlearn: 1631.8031544\ttotal: 937ms\tremaining: 520ms\n",
      "9:\tlearn: 1619.8177343\ttotal: 1.04s\tremaining: 415ms\n",
      "10:\tlearn: 1599.7118970\ttotal: 1.14s\tremaining: 310ms\n",
      "11:\tlearn: 1577.0181891\ttotal: 1.24s\tremaining: 206ms\n",
      "12:\tlearn: 1555.6965264\ttotal: 1.34s\tremaining: 103ms\n",
      "13:\tlearn: 1548.9794467\ttotal: 1.45s\tremaining: 0us\n",
      "0:\tlearn: 2316.2967488\ttotal: 111ms\tremaining: 1.44s\n",
      "1:\tlearn: 2010.4172107\ttotal: 224ms\tremaining: 1.34s\n",
      "2:\tlearn: 1880.5165570\ttotal: 318ms\tremaining: 1.17s\n",
      "3:\tlearn: 1800.5400220\ttotal: 419ms\tremaining: 1.05s\n",
      "4:\tlearn: 1772.8483642\ttotal: 563ms\tremaining: 1.01s\n",
      "5:\tlearn: 1715.9668737\ttotal: 694ms\tremaining: 926ms\n",
      "6:\tlearn: 1669.7650670\ttotal: 826ms\tremaining: 826ms\n",
      "7:\tlearn: 1645.4569471\ttotal: 927ms\tremaining: 695ms\n",
      "8:\tlearn: 1628.5934864\ttotal: 1.03s\tremaining: 571ms\n",
      "9:\tlearn: 1610.4451641\ttotal: 1.13s\tremaining: 452ms\n",
      "10:\tlearn: 1590.8638638\ttotal: 1.23s\tremaining: 336ms\n",
      "11:\tlearn: 1575.4888765\ttotal: 1.33s\tremaining: 222ms\n",
      "12:\tlearn: 1564.5588226\ttotal: 1.44s\tremaining: 111ms\n",
      "13:\tlearn: 1547.9686529\ttotal: 1.57s\tremaining: 0us\n",
      "0:\tlearn: 2342.9658434\ttotal: 108ms\tremaining: 1.4s\n",
      "1:\tlearn: 2017.8996888\ttotal: 224ms\tremaining: 1.34s\n",
      "2:\tlearn: 1901.2400437\ttotal: 322ms\tremaining: 1.18s\n",
      "3:\tlearn: 1817.7461297\ttotal: 426ms\tremaining: 1.06s\n",
      "4:\tlearn: 1770.0751804\ttotal: 531ms\tremaining: 955ms\n",
      "5:\tlearn: 1716.9378142\ttotal: 631ms\tremaining: 841ms\n",
      "6:\tlearn: 1691.0260312\ttotal: 729ms\tremaining: 729ms\n",
      "7:\tlearn: 1660.5954466\ttotal: 823ms\tremaining: 617ms\n",
      "8:\tlearn: 1631.7805538\ttotal: 924ms\tremaining: 513ms\n",
      "9:\tlearn: 1616.1998404\ttotal: 1.02s\tremaining: 410ms\n",
      "10:\tlearn: 1592.7129552\ttotal: 1.13s\tremaining: 307ms\n",
      "11:\tlearn: 1577.1313523\ttotal: 1.23s\tremaining: 204ms\n",
      "12:\tlearn: 1562.3822338\ttotal: 1.33s\tremaining: 102ms\n",
      "13:\tlearn: 1554.5139671\ttotal: 1.42s\tremaining: 0us\n",
      "0:\tlearn: 2342.1037512\ttotal: 103ms\tremaining: 1.55s\n",
      "1:\tlearn: 2032.6133485\ttotal: 216ms\tremaining: 1.51s\n",
      "2:\tlearn: 1888.9103617\ttotal: 312ms\tremaining: 1.35s\n",
      "3:\tlearn: 1801.3571886\ttotal: 410ms\tremaining: 1.23s\n",
      "4:\tlearn: 1752.3905759\ttotal: 511ms\tremaining: 1.12s\n",
      "5:\tlearn: 1715.6434574\ttotal: 604ms\tremaining: 1.01s\n",
      "6:\tlearn: 1678.4876308\ttotal: 702ms\tremaining: 902ms\n",
      "7:\tlearn: 1657.9350442\ttotal: 802ms\tremaining: 802ms\n",
      "8:\tlearn: 1631.8031544\ttotal: 901ms\tremaining: 701ms\n",
      "9:\tlearn: 1619.8177343\ttotal: 993ms\tremaining: 596ms\n",
      "10:\tlearn: 1599.7118970\ttotal: 1.09s\tremaining: 494ms\n",
      "11:\tlearn: 1577.0181891\ttotal: 1.19s\tremaining: 396ms\n",
      "12:\tlearn: 1555.6965264\ttotal: 1.28s\tremaining: 296ms\n",
      "13:\tlearn: 1548.9794467\ttotal: 1.4s\tremaining: 199ms\n",
      "14:\tlearn: 1536.2372562\ttotal: 1.49s\tremaining: 99.6ms\n",
      "15:\tlearn: 1523.3854250\ttotal: 1.6s\tremaining: 0us\n",
      "0:\tlearn: 2316.2967488\ttotal: 111ms\tremaining: 1.66s\n",
      "1:\tlearn: 2010.4172107\ttotal: 224ms\tremaining: 1.57s\n",
      "2:\tlearn: 1880.5165570\ttotal: 323ms\tremaining: 1.4s\n",
      "3:\tlearn: 1800.5400220\ttotal: 425ms\tremaining: 1.28s\n",
      "4:\tlearn: 1772.8483642\ttotal: 527ms\tremaining: 1.16s\n",
      "5:\tlearn: 1715.9668737\ttotal: 626ms\tremaining: 1.04s\n",
      "6:\tlearn: 1669.7650670\ttotal: 731ms\tremaining: 940ms\n",
      "7:\tlearn: 1645.4569471\ttotal: 839ms\tremaining: 839ms\n",
      "8:\tlearn: 1628.5934864\ttotal: 944ms\tremaining: 734ms\n",
      "9:\tlearn: 1610.4451641\ttotal: 1.04s\tremaining: 627ms\n",
      "10:\tlearn: 1590.8638638\ttotal: 1.15s\tremaining: 521ms\n",
      "11:\tlearn: 1575.4888765\ttotal: 1.25s\tremaining: 416ms\n",
      "12:\tlearn: 1564.5588226\ttotal: 1.36s\tremaining: 313ms\n",
      "13:\tlearn: 1547.9686529\ttotal: 1.46s\tremaining: 209ms\n",
      "14:\tlearn: 1534.8265348\ttotal: 1.56s\tremaining: 104ms\n",
      "15:\tlearn: 1520.9555987\ttotal: 1.66s\tremaining: 0us\n",
      "0:\tlearn: 2342.9658434\ttotal: 110ms\tremaining: 1.65s\n",
      "1:\tlearn: 2017.8996888\ttotal: 234ms\tremaining: 1.64s\n",
      "2:\tlearn: 1901.2400437\ttotal: 337ms\tremaining: 1.46s\n",
      "3:\tlearn: 1817.7461297\ttotal: 459ms\tremaining: 1.38s\n",
      "4:\tlearn: 1770.0751804\ttotal: 561ms\tremaining: 1.24s\n",
      "5:\tlearn: 1716.9378142\ttotal: 664ms\tremaining: 1.1s\n",
      "6:\tlearn: 1691.0260312\ttotal: 768ms\tremaining: 987ms\n",
      "7:\tlearn: 1660.5954466\ttotal: 871ms\tremaining: 871ms\n",
      "8:\tlearn: 1631.7805538\ttotal: 986ms\tremaining: 767ms\n",
      "9:\tlearn: 1616.1998404\ttotal: 1.09s\tremaining: 656ms\n",
      "10:\tlearn: 1592.7129552\ttotal: 1.2s\tremaining: 546ms\n",
      "11:\tlearn: 1577.1313523\ttotal: 1.31s\tremaining: 436ms\n",
      "12:\tlearn: 1562.3822338\ttotal: 1.42s\tremaining: 328ms\n",
      "13:\tlearn: 1554.5139671\ttotal: 1.54s\tremaining: 220ms\n",
      "14:\tlearn: 1538.2345987\ttotal: 1.69s\tremaining: 113ms\n",
      "15:\tlearn: 1523.4795229\ttotal: 1.8s\tremaining: 0us\n",
      "0:\tlearn: 2342.1037512\ttotal: 114ms\tremaining: 1.94s\n",
      "1:\tlearn: 2032.6133485\ttotal: 243ms\tremaining: 1.94s\n",
      "2:\tlearn: 1888.9103617\ttotal: 357ms\tremaining: 1.78s\n",
      "3:\tlearn: 1801.3571886\ttotal: 471ms\tremaining: 1.65s\n",
      "4:\tlearn: 1752.3905759\ttotal: 585ms\tremaining: 1.52s\n",
      "5:\tlearn: 1715.6434574\ttotal: 699ms\tremaining: 1.4s\n",
      "6:\tlearn: 1678.4876308\ttotal: 809ms\tremaining: 1.27s\n",
      "7:\tlearn: 1657.9350442\ttotal: 924ms\tremaining: 1.16s\n",
      "8:\tlearn: 1631.8031544\ttotal: 1.06s\tremaining: 1.06s\n",
      "9:\tlearn: 1619.8177343\ttotal: 1.16s\tremaining: 930ms\n",
      "10:\tlearn: 1599.7118970\ttotal: 1.26s\tremaining: 804ms\n",
      "11:\tlearn: 1577.0181891\ttotal: 1.37s\tremaining: 687ms\n",
      "12:\tlearn: 1555.6965264\ttotal: 1.48s\tremaining: 569ms\n",
      "13:\tlearn: 1548.9794467\ttotal: 1.59s\tremaining: 453ms\n",
      "14:\tlearn: 1536.2372562\ttotal: 1.69s\tremaining: 339ms\n",
      "15:\tlearn: 1523.3854250\ttotal: 1.8s\tremaining: 225ms\n",
      "16:\tlearn: 1511.5187173\ttotal: 1.91s\tremaining: 112ms\n",
      "17:\tlearn: 1496.9412341\ttotal: 2.02s\tremaining: 0us\n",
      "0:\tlearn: 2316.2967488\ttotal: 123ms\tremaining: 2.09s\n",
      "1:\tlearn: 2010.4172107\ttotal: 239ms\tremaining: 1.91s\n",
      "2:\tlearn: 1880.5165570\ttotal: 344ms\tremaining: 1.72s\n",
      "3:\tlearn: 1800.5400220\ttotal: 450ms\tremaining: 1.57s\n",
      "4:\tlearn: 1772.8483642\ttotal: 563ms\tremaining: 1.46s\n",
      "5:\tlearn: 1715.9668737\ttotal: 687ms\tremaining: 1.37s\n",
      "6:\tlearn: 1669.7650670\ttotal: 800ms\tremaining: 1.26s\n",
      "7:\tlearn: 1645.4569471\ttotal: 901ms\tremaining: 1.13s\n",
      "8:\tlearn: 1628.5934864\ttotal: 1s\tremaining: 1s\n",
      "9:\tlearn: 1610.4451641\ttotal: 1.1s\tremaining: 883ms\n",
      "10:\tlearn: 1590.8638638\ttotal: 1.2s\tremaining: 765ms\n",
      "11:\tlearn: 1575.4888765\ttotal: 1.3s\tremaining: 651ms\n",
      "12:\tlearn: 1564.5588226\ttotal: 1.41s\tremaining: 542ms\n",
      "13:\tlearn: 1547.9686529\ttotal: 1.52s\tremaining: 433ms\n",
      "14:\tlearn: 1534.8265348\ttotal: 1.63s\tremaining: 325ms\n",
      "15:\tlearn: 1520.9555987\ttotal: 1.73s\tremaining: 216ms\n",
      "16:\tlearn: 1512.2479389\ttotal: 1.84s\tremaining: 108ms\n",
      "17:\tlearn: 1504.9884135\ttotal: 1.94s\tremaining: 0us\n",
      "0:\tlearn: 2342.9658434\ttotal: 110ms\tremaining: 1.87s\n",
      "1:\tlearn: 2017.8996888\ttotal: 228ms\tremaining: 1.82s\n",
      "2:\tlearn: 1901.2400437\ttotal: 332ms\tremaining: 1.66s\n",
      "3:\tlearn: 1817.7461297\ttotal: 439ms\tremaining: 1.53s\n",
      "4:\tlearn: 1770.0751804\ttotal: 545ms\tremaining: 1.42s\n",
      "5:\tlearn: 1716.9378142\ttotal: 652ms\tremaining: 1.3s\n",
      "6:\tlearn: 1691.0260312\ttotal: 764ms\tremaining: 1.2s\n",
      "7:\tlearn: 1660.5954466\ttotal: 867ms\tremaining: 1.08s\n",
      "8:\tlearn: 1631.7805538\ttotal: 964ms\tremaining: 964ms\n",
      "9:\tlearn: 1616.1998404\ttotal: 1.05s\tremaining: 845ms\n",
      "10:\tlearn: 1592.7129552\ttotal: 1.15s\tremaining: 735ms\n",
      "11:\tlearn: 1577.1313523\ttotal: 1.25s\tremaining: 624ms\n",
      "12:\tlearn: 1562.3822338\ttotal: 1.35s\tremaining: 520ms\n",
      "13:\tlearn: 1554.5139671\ttotal: 1.45s\tremaining: 415ms\n",
      "14:\tlearn: 1538.2345987\ttotal: 1.56s\tremaining: 311ms\n",
      "15:\tlearn: 1523.4795229\ttotal: 1.66s\tremaining: 208ms\n",
      "16:\tlearn: 1508.2671099\ttotal: 1.78s\tremaining: 105ms\n",
      "17:\tlearn: 1491.7124746\ttotal: 1.89s\tremaining: 0us\n",
      "0:\tlearn: 2292.3961503\ttotal: 211ms\tremaining: 1.9s\n",
      "1:\tlearn: 1955.6663415\ttotal: 441ms\tremaining: 1.76s\n",
      "2:\tlearn: 1834.9558336\ttotal: 678ms\tremaining: 1.58s\n",
      "3:\tlearn: 1776.6848238\ttotal: 914ms\tremaining: 1.37s\n",
      "4:\tlearn: 1692.9013816\ttotal: 1.15s\tremaining: 1.15s\n",
      "5:\tlearn: 1654.7240354\ttotal: 1.35s\tremaining: 902ms\n",
      "6:\tlearn: 1617.6652478\ttotal: 1.56s\tremaining: 669ms\n",
      "7:\tlearn: 1582.6962652\ttotal: 1.76s\tremaining: 441ms\n",
      "8:\tlearn: 1561.6793514\ttotal: 1.98s\tremaining: 220ms\n",
      "9:\tlearn: 1543.8414219\ttotal: 2.19s\tremaining: 0us\n",
      "0:\tlearn: 2279.3284770\ttotal: 243ms\tremaining: 2.19s\n",
      "1:\tlearn: 1945.1746338\ttotal: 459ms\tremaining: 1.83s\n",
      "2:\tlearn: 1821.3745495\ttotal: 657ms\tremaining: 1.53s\n",
      "3:\tlearn: 1726.6975316\ttotal: 853ms\tremaining: 1.28s\n",
      "4:\tlearn: 1668.6984644\ttotal: 1.06s\tremaining: 1.06s\n",
      "5:\tlearn: 1623.8463276\ttotal: 1.25s\tremaining: 834ms\n",
      "6:\tlearn: 1603.7269122\ttotal: 1.45s\tremaining: 621ms\n",
      "7:\tlearn: 1567.4076988\ttotal: 1.64s\tremaining: 410ms\n",
      "8:\tlearn: 1538.5256273\ttotal: 1.83s\tremaining: 203ms\n",
      "9:\tlearn: 1514.7490989\ttotal: 2.04s\tremaining: 0us\n",
      "0:\tlearn: 2292.9748791\ttotal: 208ms\tremaining: 1.88s\n",
      "1:\tlearn: 1956.5229490\ttotal: 422ms\tremaining: 1.69s\n",
      "2:\tlearn: 1829.7548744\ttotal: 622ms\tremaining: 1.45s\n",
      "3:\tlearn: 1748.7876036\ttotal: 818ms\tremaining: 1.23s\n",
      "4:\tlearn: 1695.2714053\ttotal: 1.01s\tremaining: 1.01s\n",
      "5:\tlearn: 1655.8168779\ttotal: 1.21s\tremaining: 808ms\n",
      "6:\tlearn: 1626.1560165\ttotal: 1.4s\tremaining: 601ms\n",
      "7:\tlearn: 1592.4998044\ttotal: 1.6s\tremaining: 400ms\n",
      "8:\tlearn: 1557.4968665\ttotal: 1.79s\tremaining: 199ms\n",
      "9:\tlearn: 1541.0011980\ttotal: 1.98s\tremaining: 0us\n",
      "0:\tlearn: 2292.3961503\ttotal: 201ms\tremaining: 2.21s\n",
      "1:\tlearn: 1955.6663415\ttotal: 436ms\tremaining: 2.18s\n",
      "2:\tlearn: 1834.9558336\ttotal: 627ms\tremaining: 1.88s\n",
      "3:\tlearn: 1776.6848238\ttotal: 828ms\tremaining: 1.66s\n",
      "4:\tlearn: 1692.9013816\ttotal: 1.04s\tremaining: 1.46s\n",
      "5:\tlearn: 1654.7240354\ttotal: 1.24s\tremaining: 1.24s\n",
      "6:\tlearn: 1617.6652478\ttotal: 1.44s\tremaining: 1.02s\n",
      "7:\tlearn: 1582.6962652\ttotal: 1.63s\tremaining: 816ms\n",
      "8:\tlearn: 1561.6793514\ttotal: 1.86s\tremaining: 621ms\n",
      "9:\tlearn: 1543.8414219\ttotal: 2.11s\tremaining: 423ms\n",
      "10:\tlearn: 1511.9722806\ttotal: 2.35s\tremaining: 214ms\n",
      "11:\tlearn: 1496.7360656\ttotal: 2.57s\tremaining: 0us\n",
      "0:\tlearn: 2279.3284770\ttotal: 212ms\tremaining: 2.33s\n",
      "1:\tlearn: 1945.1746338\ttotal: 427ms\tremaining: 2.13s\n",
      "2:\tlearn: 1821.3745495\ttotal: 616ms\tremaining: 1.85s\n",
      "3:\tlearn: 1726.6975316\ttotal: 818ms\tremaining: 1.64s\n",
      "4:\tlearn: 1668.6984644\ttotal: 1.02s\tremaining: 1.42s\n",
      "5:\tlearn: 1623.8463276\ttotal: 1.21s\tremaining: 1.21s\n",
      "6:\tlearn: 1603.7269122\ttotal: 1.41s\tremaining: 1s\n",
      "7:\tlearn: 1567.4076988\ttotal: 1.6s\tremaining: 801ms\n",
      "8:\tlearn: 1538.5256273\ttotal: 1.79s\tremaining: 598ms\n",
      "9:\tlearn: 1514.7490989\ttotal: 1.99s\tremaining: 399ms\n",
      "10:\tlearn: 1479.8133733\ttotal: 2.21s\tremaining: 201ms\n",
      "11:\tlearn: 1466.9965435\ttotal: 2.4s\tremaining: 0us\n",
      "0:\tlearn: 2292.9748791\ttotal: 212ms\tremaining: 2.34s\n",
      "1:\tlearn: 1956.5229490\ttotal: 448ms\tremaining: 2.24s\n",
      "2:\tlearn: 1829.7548744\ttotal: 664ms\tremaining: 1.99s\n",
      "3:\tlearn: 1748.7876036\ttotal: 864ms\tremaining: 1.73s\n",
      "4:\tlearn: 1695.2714053\ttotal: 1.06s\tremaining: 1.48s\n",
      "5:\tlearn: 1655.8168779\ttotal: 1.25s\tremaining: 1.25s\n",
      "6:\tlearn: 1626.1560165\ttotal: 1.46s\tremaining: 1.04s\n",
      "7:\tlearn: 1592.4998044\ttotal: 1.67s\tremaining: 833ms\n",
      "8:\tlearn: 1557.4968665\ttotal: 1.88s\tremaining: 627ms\n",
      "9:\tlearn: 1541.0011980\ttotal: 2.09s\tremaining: 418ms\n",
      "10:\tlearn: 1524.4283301\ttotal: 2.29s\tremaining: 209ms\n",
      "11:\tlearn: 1506.6631295\ttotal: 2.5s\tremaining: 0us\n",
      "0:\tlearn: 2292.3961503\ttotal: 208ms\tremaining: 2.7s\n",
      "1:\tlearn: 1955.6663415\ttotal: 465ms\tremaining: 2.79s\n",
      "2:\tlearn: 1834.9558336\ttotal: 661ms\tremaining: 2.42s\n",
      "3:\tlearn: 1776.6848238\ttotal: 855ms\tremaining: 2.14s\n",
      "4:\tlearn: 1692.9013816\ttotal: 1.06s\tremaining: 1.91s\n",
      "5:\tlearn: 1654.7240354\ttotal: 1.28s\tremaining: 1.71s\n",
      "6:\tlearn: 1617.6652478\ttotal: 1.53s\tremaining: 1.53s\n",
      "7:\tlearn: 1582.6962652\ttotal: 1.77s\tremaining: 1.33s\n",
      "8:\tlearn: 1561.6793514\ttotal: 2s\tremaining: 1.11s\n",
      "9:\tlearn: 1543.8414219\ttotal: 2.2s\tremaining: 882ms\n",
      "10:\tlearn: 1511.9722806\ttotal: 2.42s\tremaining: 659ms\n",
      "11:\tlearn: 1496.7360656\ttotal: 2.64s\tremaining: 440ms\n",
      "12:\tlearn: 1477.2266909\ttotal: 2.84s\tremaining: 218ms\n",
      "13:\tlearn: 1461.4236244\ttotal: 3.06s\tremaining: 0us\n",
      "0:\tlearn: 2279.3284770\ttotal: 219ms\tremaining: 2.84s\n",
      "1:\tlearn: 1945.1746338\ttotal: 441ms\tremaining: 2.65s\n",
      "2:\tlearn: 1821.3745495\ttotal: 636ms\tremaining: 2.33s\n",
      "3:\tlearn: 1726.6975316\ttotal: 837ms\tremaining: 2.09s\n",
      "4:\tlearn: 1668.6984644\ttotal: 1.04s\tremaining: 1.88s\n",
      "5:\tlearn: 1623.8463276\ttotal: 1.25s\tremaining: 1.67s\n",
      "6:\tlearn: 1603.7269122\ttotal: 1.45s\tremaining: 1.45s\n",
      "7:\tlearn: 1567.4076988\ttotal: 1.66s\tremaining: 1.25s\n",
      "8:\tlearn: 1538.5256273\ttotal: 1.88s\tremaining: 1.05s\n",
      "9:\tlearn: 1514.7490989\ttotal: 2.12s\tremaining: 847ms\n",
      "10:\tlearn: 1479.8133733\ttotal: 2.34s\tremaining: 637ms\n",
      "11:\tlearn: 1466.9965435\ttotal: 2.54s\tremaining: 424ms\n",
      "12:\tlearn: 1452.6444550\ttotal: 2.77s\tremaining: 213ms\n",
      "13:\tlearn: 1425.5936825\ttotal: 3.01s\tremaining: 0us\n",
      "0:\tlearn: 2292.9748791\ttotal: 218ms\tremaining: 2.84s\n",
      "1:\tlearn: 1956.5229490\ttotal: 440ms\tremaining: 2.64s\n",
      "2:\tlearn: 1829.7548744\ttotal: 649ms\tremaining: 2.38s\n",
      "3:\tlearn: 1748.7876036\ttotal: 869ms\tremaining: 2.17s\n",
      "4:\tlearn: 1695.2714053\ttotal: 1.08s\tremaining: 1.95s\n",
      "5:\tlearn: 1655.8168779\ttotal: 1.3s\tremaining: 1.73s\n",
      "6:\tlearn: 1626.1560165\ttotal: 1.51s\tremaining: 1.51s\n",
      "7:\tlearn: 1592.4998044\ttotal: 1.73s\tremaining: 1.29s\n",
      "8:\tlearn: 1557.4968665\ttotal: 1.94s\tremaining: 1.08s\n",
      "9:\tlearn: 1541.0011980\ttotal: 2.18s\tremaining: 872ms\n",
      "10:\tlearn: 1524.4283301\ttotal: 2.39s\tremaining: 653ms\n",
      "11:\tlearn: 1506.6631295\ttotal: 2.61s\tremaining: 436ms\n",
      "12:\tlearn: 1495.6322639\ttotal: 2.83s\tremaining: 218ms\n",
      "13:\tlearn: 1471.1537608\ttotal: 3.08s\tremaining: 0us\n",
      "0:\tlearn: 2292.3961503\ttotal: 217ms\tremaining: 3.25s\n",
      "1:\tlearn: 1955.6663415\ttotal: 475ms\tremaining: 3.32s\n",
      "2:\tlearn: 1834.9558336\ttotal: 695ms\tremaining: 3.01s\n",
      "3:\tlearn: 1776.6848238\ttotal: 908ms\tremaining: 2.72s\n",
      "4:\tlearn: 1692.9013816\ttotal: 1.14s\tremaining: 2.51s\n",
      "5:\tlearn: 1654.7240354\ttotal: 1.34s\tremaining: 2.24s\n",
      "6:\tlearn: 1617.6652478\ttotal: 1.58s\tremaining: 2.04s\n",
      "7:\tlearn: 1582.6962652\ttotal: 1.8s\tremaining: 1.8s\n",
      "8:\tlearn: 1561.6793514\ttotal: 2.03s\tremaining: 1.58s\n",
      "9:\tlearn: 1543.8414219\ttotal: 2.24s\tremaining: 1.34s\n",
      "10:\tlearn: 1511.9722806\ttotal: 2.45s\tremaining: 1.11s\n",
      "11:\tlearn: 1496.7360656\ttotal: 2.66s\tremaining: 887ms\n",
      "12:\tlearn: 1477.2266909\ttotal: 2.87s\tremaining: 663ms\n",
      "13:\tlearn: 1461.4236244\ttotal: 3.08s\tremaining: 441ms\n",
      "14:\tlearn: 1448.4338747\ttotal: 3.3s\tremaining: 220ms\n",
      "15:\tlearn: 1426.3340538\ttotal: 3.54s\tremaining: 0us\n",
      "0:\tlearn: 2279.3284770\ttotal: 222ms\tremaining: 3.33s\n",
      "1:\tlearn: 1945.1746338\ttotal: 461ms\tremaining: 3.23s\n",
      "2:\tlearn: 1821.3745495\ttotal: 664ms\tremaining: 2.88s\n",
      "3:\tlearn: 1726.6975316\ttotal: 873ms\tremaining: 2.62s\n",
      "4:\tlearn: 1668.6984644\ttotal: 1.09s\tremaining: 2.41s\n",
      "5:\tlearn: 1623.8463276\ttotal: 1.31s\tremaining: 2.18s\n",
      "6:\tlearn: 1603.7269122\ttotal: 1.52s\tremaining: 1.95s\n",
      "7:\tlearn: 1567.4076988\ttotal: 1.73s\tremaining: 1.73s\n",
      "8:\tlearn: 1538.5256273\ttotal: 1.94s\tremaining: 1.51s\n",
      "9:\tlearn: 1514.7490989\ttotal: 2.15s\tremaining: 1.29s\n",
      "10:\tlearn: 1479.8133733\ttotal: 2.36s\tremaining: 1.07s\n",
      "11:\tlearn: 1466.9965435\ttotal: 2.57s\tremaining: 856ms\n",
      "12:\tlearn: 1452.6444550\ttotal: 2.78s\tremaining: 643ms\n",
      "13:\tlearn: 1425.5936825\ttotal: 3.02s\tremaining: 432ms\n",
      "14:\tlearn: 1407.9488530\ttotal: 3.23s\tremaining: 215ms\n",
      "15:\tlearn: 1396.8195211\ttotal: 3.44s\tremaining: 0us\n",
      "0:\tlearn: 2292.9748791\ttotal: 273ms\tremaining: 4.09s\n",
      "1:\tlearn: 1956.5229490\ttotal: 559ms\tremaining: 3.91s\n",
      "2:\tlearn: 1829.7548744\ttotal: 775ms\tremaining: 3.36s\n",
      "3:\tlearn: 1748.7876036\ttotal: 986ms\tremaining: 2.96s\n",
      "4:\tlearn: 1695.2714053\ttotal: 1.18s\tremaining: 2.6s\n",
      "5:\tlearn: 1655.8168779\ttotal: 1.38s\tremaining: 2.31s\n",
      "6:\tlearn: 1626.1560165\ttotal: 1.59s\tremaining: 2.04s\n",
      "7:\tlearn: 1592.4998044\ttotal: 1.79s\tremaining: 1.79s\n",
      "8:\tlearn: 1557.4968665\ttotal: 2.03s\tremaining: 1.58s\n",
      "9:\tlearn: 1541.0011980\ttotal: 2.25s\tremaining: 1.35s\n",
      "10:\tlearn: 1524.4283301\ttotal: 2.46s\tremaining: 1.12s\n",
      "11:\tlearn: 1506.6631295\ttotal: 2.68s\tremaining: 894ms\n",
      "12:\tlearn: 1495.6322639\ttotal: 2.88s\tremaining: 666ms\n",
      "13:\tlearn: 1471.1537608\ttotal: 3.1s\tremaining: 443ms\n",
      "14:\tlearn: 1457.7381116\ttotal: 3.32s\tremaining: 221ms\n",
      "15:\tlearn: 1447.3278758\ttotal: 3.53s\tremaining: 0us\n",
      "0:\tlearn: 2292.3961503\ttotal: 226ms\tremaining: 3.85s\n",
      "1:\tlearn: 1955.6663415\ttotal: 449ms\tremaining: 3.59s\n",
      "2:\tlearn: 1834.9558336\ttotal: 671ms\tremaining: 3.35s\n",
      "3:\tlearn: 1776.6848238\ttotal: 889ms\tremaining: 3.11s\n",
      "4:\tlearn: 1692.9013816\ttotal: 1.1s\tremaining: 2.87s\n",
      "5:\tlearn: 1654.7240354\ttotal: 1.3s\tremaining: 2.61s\n",
      "6:\tlearn: 1617.6652478\ttotal: 1.51s\tremaining: 2.38s\n",
      "7:\tlearn: 1582.6962652\ttotal: 1.72s\tremaining: 2.14s\n",
      "8:\tlearn: 1561.6793514\ttotal: 1.92s\tremaining: 1.92s\n",
      "9:\tlearn: 1543.8414219\ttotal: 2.15s\tremaining: 1.72s\n",
      "10:\tlearn: 1511.9722806\ttotal: 2.37s\tremaining: 1.51s\n",
      "11:\tlearn: 1496.7360656\ttotal: 2.58s\tremaining: 1.29s\n",
      "12:\tlearn: 1477.2266909\ttotal: 2.79s\tremaining: 1.07s\n",
      "13:\tlearn: 1461.4236244\ttotal: 3s\tremaining: 857ms\n",
      "14:\tlearn: 1448.4338747\ttotal: 3.22s\tremaining: 645ms\n",
      "15:\tlearn: 1426.3340538\ttotal: 3.44s\tremaining: 430ms\n",
      "16:\tlearn: 1416.7938069\ttotal: 3.66s\tremaining: 216ms\n",
      "17:\tlearn: 1395.9962919\ttotal: 3.88s\tremaining: 0us\n",
      "0:\tlearn: 2279.3284770\ttotal: 228ms\tremaining: 3.88s\n",
      "1:\tlearn: 1945.1746338\ttotal: 459ms\tremaining: 3.67s\n",
      "2:\tlearn: 1821.3745495\ttotal: 678ms\tremaining: 3.39s\n",
      "3:\tlearn: 1726.6975316\ttotal: 940ms\tremaining: 3.29s\n",
      "4:\tlearn: 1668.6984644\ttotal: 1.18s\tremaining: 3.08s\n",
      "5:\tlearn: 1623.8463276\ttotal: 1.4s\tremaining: 2.79s\n",
      "6:\tlearn: 1603.7269122\ttotal: 1.6s\tremaining: 2.51s\n",
      "7:\tlearn: 1567.4076988\ttotal: 1.81s\tremaining: 2.26s\n",
      "8:\tlearn: 1538.5256273\ttotal: 2.02s\tremaining: 2.02s\n",
      "9:\tlearn: 1514.7490989\ttotal: 2.23s\tremaining: 1.79s\n",
      "10:\tlearn: 1479.8133733\ttotal: 2.48s\tremaining: 1.58s\n",
      "11:\tlearn: 1466.9965435\ttotal: 2.69s\tremaining: 1.34s\n",
      "12:\tlearn: 1452.6444550\ttotal: 2.9s\tremaining: 1.11s\n",
      "13:\tlearn: 1425.5936825\ttotal: 3.13s\tremaining: 895ms\n",
      "14:\tlearn: 1407.9488530\ttotal: 3.34s\tremaining: 668ms\n",
      "15:\tlearn: 1396.8195211\ttotal: 3.54s\tremaining: 442ms\n",
      "16:\tlearn: 1387.1740782\ttotal: 3.74s\tremaining: 220ms\n",
      "17:\tlearn: 1377.5339333\ttotal: 3.96s\tremaining: 0us\n",
      "0:\tlearn: 2292.9748791\ttotal: 220ms\tremaining: 3.74s\n",
      "1:\tlearn: 1956.5229490\ttotal: 438ms\tremaining: 3.5s\n",
      "2:\tlearn: 1829.7548744\ttotal: 654ms\tremaining: 3.27s\n",
      "3:\tlearn: 1748.7876036\ttotal: 868ms\tremaining: 3.04s\n",
      "4:\tlearn: 1695.2714053\ttotal: 1.08s\tremaining: 2.81s\n",
      "5:\tlearn: 1655.8168779\ttotal: 1.3s\tremaining: 2.6s\n",
      "6:\tlearn: 1626.1560165\ttotal: 1.5s\tremaining: 2.35s\n",
      "7:\tlearn: 1592.4998044\ttotal: 1.69s\tremaining: 2.12s\n",
      "8:\tlearn: 1557.4968665\ttotal: 1.89s\tremaining: 1.89s\n",
      "9:\tlearn: 1541.0011980\ttotal: 2.09s\tremaining: 1.67s\n",
      "10:\tlearn: 1524.4283301\ttotal: 2.3s\tremaining: 1.46s\n",
      "11:\tlearn: 1506.6631295\ttotal: 2.51s\tremaining: 1.25s\n",
      "12:\tlearn: 1495.6322639\ttotal: 2.71s\tremaining: 1.04s\n",
      "13:\tlearn: 1471.1537608\ttotal: 2.93s\tremaining: 837ms\n",
      "14:\tlearn: 1457.7381116\ttotal: 3.14s\tremaining: 628ms\n",
      "15:\tlearn: 1447.3278758\ttotal: 3.35s\tremaining: 418ms\n",
      "16:\tlearn: 1428.1829720\ttotal: 3.55s\tremaining: 209ms\n",
      "17:\tlearn: 1414.9516824\ttotal: 3.76s\tremaining: 0us\n",
      "0:\tlearn: 2279.0245727\ttotal: 861ms\tremaining: 7.75s\n",
      "1:\tlearn: 1892.8301473\ttotal: 1.74s\tremaining: 6.94s\n",
      "2:\tlearn: 1755.7888805\ttotal: 2.51s\tremaining: 5.86s\n",
      "3:\tlearn: 1660.0718652\ttotal: 3.31s\tremaining: 4.96s\n",
      "4:\tlearn: 1594.6929069\ttotal: 4.15s\tremaining: 4.15s\n",
      "5:\tlearn: 1562.7094032\ttotal: 4.92s\tremaining: 3.28s\n",
      "6:\tlearn: 1504.8890836\ttotal: 5.72s\tremaining: 2.45s\n",
      "7:\tlearn: 1456.9263834\ttotal: 6.52s\tremaining: 1.63s\n",
      "8:\tlearn: 1431.2146833\ttotal: 7.32s\tremaining: 813ms\n",
      "9:\tlearn: 1406.1171570\ttotal: 8.1s\tremaining: 0us\n",
      "0:\tlearn: 2206.2551630\ttotal: 796ms\tremaining: 7.16s\n",
      "1:\tlearn: 1885.8876185\ttotal: 1.59s\tremaining: 6.36s\n",
      "2:\tlearn: 1760.6144873\ttotal: 2.44s\tremaining: 5.69s\n",
      "3:\tlearn: 1653.1764042\ttotal: 3.25s\tremaining: 4.87s\n",
      "4:\tlearn: 1605.0505574\ttotal: 4.03s\tremaining: 4.03s\n",
      "5:\tlearn: 1555.7664489\ttotal: 4.84s\tremaining: 3.23s\n",
      "6:\tlearn: 1527.7718074\ttotal: 5.64s\tremaining: 2.42s\n",
      "7:\tlearn: 1501.3418241\ttotal: 6.43s\tremaining: 1.61s\n",
      "8:\tlearn: 1460.4402406\ttotal: 7.23s\tremaining: 804ms\n",
      "9:\tlearn: 1435.5770795\ttotal: 8.02s\tremaining: 0us\n",
      "0:\tlearn: 2278.3258570\ttotal: 764ms\tremaining: 6.88s\n",
      "1:\tlearn: 1901.1838947\ttotal: 1.57s\tremaining: 6.27s\n",
      "2:\tlearn: 1768.8947762\ttotal: 2.36s\tremaining: 5.5s\n",
      "3:\tlearn: 1650.2982855\ttotal: 3.2s\tremaining: 4.8s\n",
      "4:\tlearn: 1591.2878280\ttotal: 3.99s\tremaining: 3.99s\n",
      "5:\tlearn: 1555.4229053\ttotal: 4.78s\tremaining: 3.19s\n",
      "6:\tlearn: 1519.1043344\ttotal: 5.56s\tremaining: 2.38s\n",
      "7:\tlearn: 1493.9688349\ttotal: 6.41s\tremaining: 1.6s\n",
      "8:\tlearn: 1466.5546677\ttotal: 7.24s\tremaining: 805ms\n",
      "9:\tlearn: 1437.8735384\ttotal: 8.09s\tremaining: 0us\n",
      "0:\tlearn: 2279.0245727\ttotal: 801ms\tremaining: 8.81s\n",
      "1:\tlearn: 1892.8301473\ttotal: 1.65s\tremaining: 8.25s\n",
      "2:\tlearn: 1755.7888805\ttotal: 2.46s\tremaining: 7.37s\n",
      "3:\tlearn: 1660.0718652\ttotal: 3.27s\tremaining: 6.54s\n",
      "4:\tlearn: 1594.6929069\ttotal: 4.14s\tremaining: 5.79s\n",
      "5:\tlearn: 1562.7094032\ttotal: 4.94s\tremaining: 4.94s\n",
      "6:\tlearn: 1504.8890836\ttotal: 5.74s\tremaining: 4.1s\n",
      "7:\tlearn: 1456.9263834\ttotal: 6.56s\tremaining: 3.28s\n",
      "8:\tlearn: 1431.2146833\ttotal: 7.38s\tremaining: 2.46s\n",
      "9:\tlearn: 1406.1171570\ttotal: 8.2s\tremaining: 1.64s\n",
      "10:\tlearn: 1378.1333639\ttotal: 9.01s\tremaining: 819ms\n",
      "11:\tlearn: 1351.8941903\ttotal: 9.82s\tremaining: 0us\n",
      "0:\tlearn: 2206.2551630\ttotal: 806ms\tremaining: 8.87s\n",
      "1:\tlearn: 1885.8876185\ttotal: 1.61s\tremaining: 8.08s\n",
      "2:\tlearn: 1760.6144873\ttotal: 2.42s\tremaining: 7.25s\n",
      "3:\tlearn: 1653.1764042\ttotal: 3.27s\tremaining: 6.53s\n",
      "4:\tlearn: 1605.0505574\ttotal: 4.07s\tremaining: 5.7s\n",
      "5:\tlearn: 1555.7664489\ttotal: 4.87s\tremaining: 4.87s\n",
      "6:\tlearn: 1527.7718074\ttotal: 5.67s\tremaining: 4.05s\n",
      "7:\tlearn: 1501.3418241\ttotal: 6.45s\tremaining: 3.22s\n",
      "8:\tlearn: 1460.4402406\ttotal: 7.28s\tremaining: 2.43s\n",
      "9:\tlearn: 1435.5770795\ttotal: 8.05s\tremaining: 1.61s\n",
      "10:\tlearn: 1404.7211385\ttotal: 8.84s\tremaining: 804ms\n",
      "11:\tlearn: 1381.1230392\ttotal: 9.65s\tremaining: 0us\n",
      "0:\tlearn: 2278.3258570\ttotal: 802ms\tremaining: 8.82s\n",
      "1:\tlearn: 1901.1838947\ttotal: 1.61s\tremaining: 8.05s\n",
      "2:\tlearn: 1768.8947762\ttotal: 2.43s\tremaining: 7.28s\n",
      "3:\tlearn: 1650.2982855\ttotal: 3.25s\tremaining: 6.49s\n",
      "4:\tlearn: 1591.2878280\ttotal: 4.04s\tremaining: 5.66s\n",
      "5:\tlearn: 1555.4229053\ttotal: 4.81s\tremaining: 4.81s\n",
      "6:\tlearn: 1519.1043344\ttotal: 5.58s\tremaining: 3.98s\n",
      "7:\tlearn: 1493.9688349\ttotal: 6.38s\tremaining: 3.19s\n",
      "8:\tlearn: 1466.5546677\ttotal: 7.21s\tremaining: 2.4s\n",
      "9:\tlearn: 1437.8735384\ttotal: 8.02s\tremaining: 1.6s\n",
      "10:\tlearn: 1403.6017995\ttotal: 8.81s\tremaining: 801ms\n",
      "11:\tlearn: 1380.1378301\ttotal: 9.6s\tremaining: 0us\n",
      "0:\tlearn: 2279.0245727\ttotal: 784ms\tremaining: 10.2s\n",
      "1:\tlearn: 1892.8301473\ttotal: 1.63s\tremaining: 9.78s\n",
      "2:\tlearn: 1755.7888805\ttotal: 2.44s\tremaining: 8.95s\n",
      "3:\tlearn: 1660.0718652\ttotal: 3.25s\tremaining: 8.12s\n",
      "4:\tlearn: 1594.6929069\ttotal: 4.03s\tremaining: 7.25s\n",
      "5:\tlearn: 1562.7094032\ttotal: 4.8s\tremaining: 6.4s\n",
      "6:\tlearn: 1504.8890836\ttotal: 5.62s\tremaining: 5.62s\n",
      "7:\tlearn: 1456.9263834\ttotal: 6.44s\tremaining: 4.83s\n",
      "8:\tlearn: 1431.2146833\ttotal: 7.29s\tremaining: 4.05s\n",
      "9:\tlearn: 1406.1171570\ttotal: 8.09s\tremaining: 3.24s\n",
      "10:\tlearn: 1378.1333639\ttotal: 8.89s\tremaining: 2.42s\n",
      "11:\tlearn: 1351.8941903\ttotal: 9.68s\tremaining: 1.61s\n",
      "12:\tlearn: 1311.8731195\ttotal: 10.5s\tremaining: 806ms\n",
      "13:\tlearn: 1299.3010820\ttotal: 11.3s\tremaining: 0us\n",
      "0:\tlearn: 2206.2551630\ttotal: 780ms\tremaining: 10.1s\n",
      "1:\tlearn: 1885.8876185\ttotal: 1.59s\tremaining: 9.53s\n",
      "2:\tlearn: 1760.6144873\ttotal: 2.37s\tremaining: 8.7s\n",
      "3:\tlearn: 1653.1764042\ttotal: 3.17s\tremaining: 7.92s\n",
      "4:\tlearn: 1605.0505574\ttotal: 3.96s\tremaining: 7.12s\n",
      "5:\tlearn: 1555.7664489\ttotal: 4.76s\tremaining: 6.35s\n",
      "6:\tlearn: 1527.7718074\ttotal: 5.55s\tremaining: 5.55s\n",
      "7:\tlearn: 1501.3418241\ttotal: 6.33s\tremaining: 4.75s\n",
      "8:\tlearn: 1460.4402406\ttotal: 7.14s\tremaining: 3.97s\n",
      "9:\tlearn: 1435.5770795\ttotal: 7.95s\tremaining: 3.18s\n",
      "10:\tlearn: 1404.7211385\ttotal: 8.76s\tremaining: 2.39s\n",
      "11:\tlearn: 1381.1230392\ttotal: 9.63s\tremaining: 1.6s\n",
      "12:\tlearn: 1341.1879014\ttotal: 10.4s\tremaining: 800ms\n",
      "13:\tlearn: 1314.1596861\ttotal: 11.2s\tremaining: 0us\n",
      "0:\tlearn: 2278.3258570\ttotal: 797ms\tremaining: 10.4s\n",
      "1:\tlearn: 1901.1838947\ttotal: 1.61s\tremaining: 9.65s\n",
      "2:\tlearn: 1768.8947762\ttotal: 2.4s\tremaining: 8.79s\n",
      "3:\tlearn: 1650.2982855\ttotal: 3.26s\tremaining: 8.15s\n",
      "4:\tlearn: 1591.2878280\ttotal: 4.07s\tremaining: 7.33s\n",
      "5:\tlearn: 1555.4229053\ttotal: 4.87s\tremaining: 6.49s\n",
      "6:\tlearn: 1519.1043344\ttotal: 5.67s\tremaining: 5.67s\n",
      "7:\tlearn: 1493.9688349\ttotal: 6.49s\tremaining: 4.87s\n",
      "8:\tlearn: 1466.5546677\ttotal: 7.34s\tremaining: 4.08s\n",
      "9:\tlearn: 1437.8735384\ttotal: 8.16s\tremaining: 3.26s\n",
      "10:\tlearn: 1403.6017995\ttotal: 8.98s\tremaining: 2.45s\n",
      "11:\tlearn: 1380.1378301\ttotal: 9.8s\tremaining: 1.63s\n",
      "12:\tlearn: 1353.8948545\ttotal: 10.6s\tremaining: 816ms\n",
      "13:\tlearn: 1336.1955690\ttotal: 11.4s\tremaining: 0us\n",
      "0:\tlearn: 2279.0245727\ttotal: 786ms\tremaining: 11.8s\n",
      "1:\tlearn: 1892.8301473\ttotal: 1.64s\tremaining: 11.5s\n",
      "2:\tlearn: 1755.7888805\ttotal: 2.44s\tremaining: 10.6s\n",
      "3:\tlearn: 1660.0718652\ttotal: 3.25s\tremaining: 9.74s\n",
      "4:\tlearn: 1594.6929069\ttotal: 4.05s\tremaining: 8.92s\n",
      "5:\tlearn: 1562.7094032\ttotal: 4.89s\tremaining: 8.14s\n",
      "6:\tlearn: 1504.8890836\ttotal: 5.73s\tremaining: 7.37s\n",
      "7:\tlearn: 1456.9263834\ttotal: 6.55s\tremaining: 6.55s\n",
      "8:\tlearn: 1431.2146833\ttotal: 7.37s\tremaining: 5.73s\n",
      "9:\tlearn: 1406.1171570\ttotal: 8.18s\tremaining: 4.91s\n",
      "10:\tlearn: 1378.1333639\ttotal: 8.95s\tremaining: 4.07s\n",
      "11:\tlearn: 1351.8941903\ttotal: 9.76s\tremaining: 3.25s\n",
      "12:\tlearn: 1311.8731195\ttotal: 10.6s\tremaining: 2.44s\n",
      "13:\tlearn: 1299.3010820\ttotal: 11.4s\tremaining: 1.63s\n",
      "14:\tlearn: 1266.2972964\ttotal: 12.2s\tremaining: 815ms\n",
      "15:\tlearn: 1239.8101128\ttotal: 13.1s\tremaining: 0us\n",
      "0:\tlearn: 2206.2551630\ttotal: 828ms\tremaining: 12.4s\n",
      "1:\tlearn: 1885.8876185\ttotal: 1.68s\tremaining: 11.8s\n",
      "2:\tlearn: 1760.6144873\ttotal: 2.48s\tremaining: 10.7s\n",
      "3:\tlearn: 1653.1764042\ttotal: 3.27s\tremaining: 9.82s\n",
      "4:\tlearn: 1605.0505574\ttotal: 4.09s\tremaining: 8.99s\n",
      "5:\tlearn: 1555.7664489\ttotal: 4.9s\tremaining: 8.17s\n",
      "6:\tlearn: 1527.7718074\ttotal: 5.76s\tremaining: 7.4s\n",
      "7:\tlearn: 1501.3418241\ttotal: 6.58s\tremaining: 6.58s\n",
      "8:\tlearn: 1460.4402406\ttotal: 7.41s\tremaining: 5.76s\n",
      "9:\tlearn: 1435.5770795\ttotal: 8.21s\tremaining: 4.93s\n",
      "10:\tlearn: 1404.7211385\ttotal: 9.02s\tremaining: 4.1s\n",
      "11:\tlearn: 1381.1230392\ttotal: 9.83s\tremaining: 3.28s\n",
      "12:\tlearn: 1341.1879014\ttotal: 10.6s\tremaining: 2.45s\n",
      "13:\tlearn: 1314.1596861\ttotal: 11.5s\tremaining: 1.64s\n",
      "14:\tlearn: 1292.3866798\ttotal: 12.3s\tremaining: 820ms\n",
      "15:\tlearn: 1276.8562619\ttotal: 13.1s\tremaining: 0us\n",
      "0:\tlearn: 2278.3258570\ttotal: 818ms\tremaining: 12.3s\n",
      "1:\tlearn: 1901.1838947\ttotal: 1.66s\tremaining: 11.6s\n",
      "2:\tlearn: 1768.8947762\ttotal: 2.46s\tremaining: 10.7s\n",
      "3:\tlearn: 1650.2982855\ttotal: 3.28s\tremaining: 9.84s\n",
      "4:\tlearn: 1591.2878280\ttotal: 4.11s\tremaining: 9.03s\n",
      "5:\tlearn: 1555.4229053\ttotal: 4.94s\tremaining: 8.23s\n",
      "6:\tlearn: 1519.1043344\ttotal: 5.76s\tremaining: 7.4s\n",
      "7:\tlearn: 1493.9688349\ttotal: 6.56s\tremaining: 6.56s\n",
      "8:\tlearn: 1466.5546677\ttotal: 7.47s\tremaining: 5.81s\n",
      "9:\tlearn: 1437.8735384\ttotal: 8.26s\tremaining: 4.96s\n",
      "10:\tlearn: 1403.6017995\ttotal: 9.06s\tremaining: 4.12s\n",
      "11:\tlearn: 1380.1378301\ttotal: 9.86s\tremaining: 3.29s\n",
      "12:\tlearn: 1353.8948545\ttotal: 10.7s\tremaining: 2.46s\n",
      "13:\tlearn: 1336.1955690\ttotal: 11.5s\tremaining: 1.64s\n",
      "14:\tlearn: 1316.5370805\ttotal: 12.3s\tremaining: 822ms\n",
      "15:\tlearn: 1292.2553531\ttotal: 13.1s\tremaining: 0us\n",
      "0:\tlearn: 2279.0245727\ttotal: 839ms\tremaining: 14.3s\n",
      "1:\tlearn: 1892.8301473\ttotal: 1.68s\tremaining: 13.5s\n",
      "2:\tlearn: 1755.7888805\ttotal: 2.53s\tremaining: 12.7s\n",
      "3:\tlearn: 1660.0718652\ttotal: 3.38s\tremaining: 11.8s\n",
      "4:\tlearn: 1594.6929069\ttotal: 4.19s\tremaining: 10.9s\n",
      "5:\tlearn: 1562.7094032\ttotal: 5s\tremaining: 10s\n",
      "6:\tlearn: 1504.8890836\ttotal: 5.81s\tremaining: 9.13s\n",
      "7:\tlearn: 1456.9263834\ttotal: 6.64s\tremaining: 8.3s\n",
      "8:\tlearn: 1431.2146833\ttotal: 7.48s\tremaining: 7.48s\n",
      "9:\tlearn: 1406.1171570\ttotal: 8.32s\tremaining: 6.66s\n",
      "10:\tlearn: 1378.1333639\ttotal: 9.16s\tremaining: 5.83s\n",
      "11:\tlearn: 1351.8941903\ttotal: 10s\tremaining: 5s\n",
      "12:\tlearn: 1311.8731195\ttotal: 10.9s\tremaining: 4.19s\n",
      "13:\tlearn: 1299.3010820\ttotal: 11.7s\tremaining: 3.35s\n",
      "14:\tlearn: 1266.2972964\ttotal: 12.6s\tremaining: 2.53s\n",
      "15:\tlearn: 1239.8101128\ttotal: 13.5s\tremaining: 1.68s\n",
      "16:\tlearn: 1224.5937093\ttotal: 14.3s\tremaining: 841ms\n",
      "17:\tlearn: 1208.8312937\ttotal: 15.1s\tremaining: 0us\n",
      "0:\tlearn: 2206.2551630\ttotal: 845ms\tremaining: 14.4s\n",
      "1:\tlearn: 1885.8876185\ttotal: 1.67s\tremaining: 13.4s\n",
      "2:\tlearn: 1760.6144873\ttotal: 2.49s\tremaining: 12.4s\n",
      "3:\tlearn: 1653.1764042\ttotal: 3.33s\tremaining: 11.7s\n",
      "4:\tlearn: 1605.0505574\ttotal: 4.16s\tremaining: 10.8s\n",
      "5:\tlearn: 1555.7664489\ttotal: 4.98s\tremaining: 9.97s\n",
      "6:\tlearn: 1527.7718074\ttotal: 5.85s\tremaining: 9.19s\n",
      "7:\tlearn: 1501.3418241\ttotal: 6.74s\tremaining: 8.42s\n",
      "8:\tlearn: 1460.4402406\ttotal: 7.57s\tremaining: 7.57s\n",
      "9:\tlearn: 1435.5770795\ttotal: 8.41s\tremaining: 6.72s\n",
      "10:\tlearn: 1404.7211385\ttotal: 9.27s\tremaining: 5.9s\n",
      "11:\tlearn: 1381.1230392\ttotal: 10.1s\tremaining: 5.06s\n",
      "12:\tlearn: 1341.1879014\ttotal: 11s\tremaining: 4.21s\n",
      "13:\tlearn: 1314.1596861\ttotal: 11.8s\tremaining: 3.37s\n",
      "14:\tlearn: 1292.3866798\ttotal: 12.6s\tremaining: 2.52s\n",
      "15:\tlearn: 1276.8562619\ttotal: 13.4s\tremaining: 1.68s\n",
      "16:\tlearn: 1258.1354586\ttotal: 14.3s\tremaining: 840ms\n",
      "17:\tlearn: 1235.2651239\ttotal: 15.1s\tremaining: 0us\n",
      "0:\tlearn: 2278.3258570\ttotal: 888ms\tremaining: 15.1s\n",
      "1:\tlearn: 1901.1838947\ttotal: 1.71s\tremaining: 13.7s\n",
      "2:\tlearn: 1768.8947762\ttotal: 2.53s\tremaining: 12.6s\n",
      "3:\tlearn: 1650.2982855\ttotal: 3.36s\tremaining: 11.8s\n",
      "4:\tlearn: 1591.2878280\ttotal: 4.17s\tremaining: 10.8s\n",
      "5:\tlearn: 1555.4229053\ttotal: 4.98s\tremaining: 9.97s\n",
      "6:\tlearn: 1519.1043344\ttotal: 5.79s\tremaining: 9.09s\n",
      "7:\tlearn: 1493.9688349\ttotal: 6.6s\tremaining: 8.25s\n",
      "8:\tlearn: 1466.5546677\ttotal: 7.43s\tremaining: 7.43s\n",
      "9:\tlearn: 1437.8735384\ttotal: 8.26s\tremaining: 6.61s\n",
      "10:\tlearn: 1403.6017995\ttotal: 9.07s\tremaining: 5.78s\n",
      "11:\tlearn: 1380.1378301\ttotal: 9.9s\tremaining: 4.95s\n",
      "12:\tlearn: 1353.8948545\ttotal: 10.8s\tremaining: 4.15s\n",
      "13:\tlearn: 1336.1955690\ttotal: 11.6s\tremaining: 3.31s\n",
      "14:\tlearn: 1316.5370805\ttotal: 12.4s\tremaining: 2.48s\n",
      "15:\tlearn: 1292.2553531\ttotal: 13.3s\tremaining: 1.66s\n",
      "16:\tlearn: 1277.5848119\ttotal: 14.1s\tremaining: 829ms\n",
      "17:\tlearn: 1261.9006872\ttotal: 14.9s\tremaining: 0us\n",
      "0:\tlearn: 2346.5413524\ttotal: 181ms\tremaining: 3.07s\n",
      "1:\tlearn: 2005.4854919\ttotal: 372ms\tremaining: 2.98s\n",
      "2:\tlearn: 1865.9377894\ttotal: 548ms\tremaining: 2.74s\n",
      "3:\tlearn: 1815.2027022\ttotal: 695ms\tremaining: 2.43s\n",
      "4:\tlearn: 1761.4332135\ttotal: 889ms\tremaining: 2.31s\n",
      "5:\tlearn: 1724.3658138\ttotal: 1.05s\tremaining: 2.11s\n",
      "6:\tlearn: 1696.2899456\ttotal: 1.2s\tremaining: 1.89s\n",
      "7:\tlearn: 1668.4453728\ttotal: 1.36s\tremaining: 1.7s\n",
      "8:\tlearn: 1638.2738807\ttotal: 1.5s\tremaining: 1.5s\n",
      "9:\tlearn: 1627.6541829\ttotal: 1.67s\tremaining: 1.33s\n",
      "10:\tlearn: 1607.2944005\ttotal: 1.82s\tremaining: 1.16s\n",
      "11:\tlearn: 1596.0929651\ttotal: 1.96s\tremaining: 981ms\n",
      "12:\tlearn: 1581.1541078\ttotal: 2.1s\tremaining: 809ms\n",
      "13:\tlearn: 1565.6522961\ttotal: 2.25s\tremaining: 643ms\n",
      "14:\tlearn: 1555.3584282\ttotal: 2.38s\tremaining: 477ms\n",
      "15:\tlearn: 1546.0717134\ttotal: 2.53s\tremaining: 316ms\n",
      "16:\tlearn: 1533.0237503\ttotal: 2.67s\tremaining: 157ms\n",
      "17:\tlearn: 1525.3994544\ttotal: 2.82s\tremaining: 0us\n",
      "Время выполнения обучения модели 397.15039467811584\n",
      "Лучшее значение метрики rmse: 1665.1243147117227\n",
      "Лучшие параметры: {'max_depth': 11, 'n_estimators': 18}\n"
     ]
    }
   ],
   "source": [
    "parametres = {'max_depth': range(1, 20, 2), #определим гиперпараметры\n",
    "              'n_estimators': range(10, 20, 2)}\n",
    "\n",
    "model_cbr = CatBoostRegressor(cat_features=categorical_features, random_state=12345, learning_rate=1)\n",
    "grid_cbr = GridSearchCV(model_cbr, parametres, scoring='neg_root_mean_squared_error', cv=3) #применим GridSearchCV для модели model_cbr\n",
    "total_time, rmse, best_params = getTimeModel(grid_cbr, features_train_cat, target_train_cat) #применим функцию getTimeModel"
   ]
  },
  {
   "cell_type": "markdown",
   "metadata": {},
   "source": [
    "Добавим полученные результаты в таблицу."
   ]
  },
  {
   "cell_type": "code",
   "execution_count": 38,
   "metadata": {},
   "outputs": [],
   "source": [
    "data_result.append(['CatBoostRegressor', total_time, rmse, best_params]) #добавим total_time, rmse, best_params в data_result"
   ]
  },
  {
   "cell_type": "markdown",
   "metadata": {},
   "source": [
    "## Анализ моделей"
   ]
  },
  {
   "cell_type": "markdown",
   "metadata": {},
   "source": [
    "Выведем таблицу с полученными результатами."
   ]
  },
  {
   "cell_type": "code",
   "execution_count": 39,
   "metadata": {},
   "outputs": [],
   "source": [
    "data_result = pd.DataFrame(data_result)"
   ]
  },
  {
   "cell_type": "code",
   "execution_count": 40,
   "metadata": {},
   "outputs": [],
   "source": [
    "data_result.columns =['Модель', 'Время обучения', 'RMSE', 'Гиперпараметры']"
   ]
  },
  {
   "cell_type": "code",
   "execution_count": 41,
   "metadata": {},
   "outputs": [
    {
     "data": {
      "text/html": [
       "<div>\n",
       "<style scoped>\n",
       "    .dataframe tbody tr th:only-of-type {\n",
       "        vertical-align: middle;\n",
       "    }\n",
       "\n",
       "    .dataframe tbody tr th {\n",
       "        vertical-align: top;\n",
       "    }\n",
       "\n",
       "    .dataframe thead th {\n",
       "        text-align: right;\n",
       "    }\n",
       "</style>\n",
       "<table border=\"1\" class=\"dataframe\">\n",
       "  <thead>\n",
       "    <tr style=\"text-align: right;\">\n",
       "      <th></th>\n",
       "      <th>Модель</th>\n",
       "      <th>Время обучения</th>\n",
       "      <th>RMSE</th>\n",
       "      <th>Гиперпараметры</th>\n",
       "    </tr>\n",
       "  </thead>\n",
       "  <tbody>\n",
       "    <tr>\n",
       "      <th>0</th>\n",
       "      <td>DecisionTreeRegressor</td>\n",
       "      <td>26.599850</td>\n",
       "      <td>1888.552270</td>\n",
       "      <td>{'max_depth': 13}</td>\n",
       "    </tr>\n",
       "    <tr>\n",
       "      <th>1</th>\n",
       "      <td>LinearRegression</td>\n",
       "      <td>187.769081</td>\n",
       "      <td>2582.623811</td>\n",
       "      <td>None</td>\n",
       "    </tr>\n",
       "    <tr>\n",
       "      <th>2</th>\n",
       "      <td>RandomForestRegressor</td>\n",
       "      <td>37.162684</td>\n",
       "      <td>1779.001636</td>\n",
       "      <td>{'n_estimators': 10, 'max_depth': 11}</td>\n",
       "    </tr>\n",
       "    <tr>\n",
       "      <th>3</th>\n",
       "      <td>LGBMRegressor</td>\n",
       "      <td>3277.833271</td>\n",
       "      <td>1747.340673</td>\n",
       "      <td>{'max_depth': 9, 'n_estimators': 18}</td>\n",
       "    </tr>\n",
       "    <tr>\n",
       "      <th>4</th>\n",
       "      <td>CatBoostRegressor</td>\n",
       "      <td>397.150395</td>\n",
       "      <td>1665.124315</td>\n",
       "      <td>{'max_depth': 11, 'n_estimators': 18}</td>\n",
       "    </tr>\n",
       "  </tbody>\n",
       "</table>\n",
       "</div>"
      ],
      "text/plain": [
       "                  Модель  Время обучения         RMSE  \\\n",
       "0  DecisionTreeRegressor       26.599850  1888.552270   \n",
       "1       LinearRegression      187.769081  2582.623811   \n",
       "2  RandomForestRegressor       37.162684  1779.001636   \n",
       "3          LGBMRegressor     3277.833271  1747.340673   \n",
       "4      CatBoostRegressor      397.150395  1665.124315   \n",
       "\n",
       "                          Гиперпараметры  \n",
       "0                      {'max_depth': 13}  \n",
       "1                                   None  \n",
       "2  {'n_estimators': 10, 'max_depth': 11}  \n",
       "3   {'max_depth': 9, 'n_estimators': 18}  \n",
       "4  {'max_depth': 11, 'n_estimators': 18}  "
      ]
     },
     "execution_count": 41,
     "metadata": {},
     "output_type": "execute_result"
    }
   ],
   "source": [
    "data_result"
   ]
  },
  {
   "cell_type": "markdown",
   "metadata": {},
   "source": [
    "###### Вывод"
   ]
  },
  {
   "cell_type": "markdown",
   "metadata": {},
   "source": [
    "Наилучшее значение метрики rmse показывает модель CatBoostRegressor при max_depth равном 11 и n_estimators равном 18, при времени выполнения - 397 секунд."
   ]
  },
  {
   "cell_type": "markdown",
   "metadata": {},
   "source": [
    "## Общий вывод"
   ]
  },
  {
   "cell_type": "markdown",
   "metadata": {},
   "source": [
    "Выполнены следующие этапы:\n",
    "\n",
    "    Загрузка и подготовка данных.\n",
    "    Обучение разных моделей. Для каждой подобраны различные гиперпараметры.\n",
    "    Проанализированы скорость работы и качество моделей.\n",
    "    \n",
    "Исходя из качества и скорости предсказания, времени обучения, наилучшей моделью является модель CatBoostRegressor."
   ]
  }
 ],
 "metadata": {
  "ExecuteTimeLog": [
   {
    "duration": 956,
    "start_time": "2022-05-23T16:19:47.547Z"
   },
   {
    "duration": 2841,
    "start_time": "2022-05-23T16:19:48.506Z"
   },
   {
    "duration": 477,
    "start_time": "2022-05-23T16:19:51.349Z"
   },
   {
    "duration": 216,
    "start_time": "2022-05-23T16:23:27.356Z"
   },
   {
    "duration": 26,
    "start_time": "2022-05-23T16:27:06.775Z"
   },
   {
    "duration": 858,
    "start_time": "2022-05-27T21:43:11.287Z"
   },
   {
    "duration": 1011,
    "start_time": "2022-05-27T21:43:12.746Z"
   },
   {
    "duration": 394,
    "start_time": "2022-05-27T21:43:13.829Z"
   },
   {
    "duration": 24,
    "start_time": "2022-05-27T21:43:15.954Z"
   },
   {
    "duration": 38,
    "start_time": "2022-05-27T21:43:18.647Z"
   },
   {
    "duration": 49,
    "start_time": "2022-05-27T21:49:07.562Z"
   },
   {
    "duration": 171,
    "start_time": "2022-05-27T21:49:08.475Z"
   },
   {
    "duration": 98,
    "start_time": "2022-05-27T21:49:10.874Z"
   },
   {
    "duration": 3,
    "start_time": "2022-05-27T21:50:31.232Z"
   },
   {
    "duration": 10,
    "start_time": "2022-05-27T21:50:37.202Z"
   },
   {
    "duration": 3,
    "start_time": "2022-05-27T21:50:55.932Z"
   },
   {
    "duration": 10,
    "start_time": "2022-05-27T21:51:01.564Z"
   },
   {
    "duration": 171,
    "start_time": "2022-05-27T21:56:32.264Z"
   },
   {
    "duration": 25,
    "start_time": "2022-05-27T21:59:06.212Z"
   },
   {
    "duration": 43,
    "start_time": "2022-05-27T21:59:08.223Z"
   },
   {
    "duration": 126,
    "start_time": "2022-05-27T21:59:08.911Z"
   },
   {
    "duration": 153,
    "start_time": "2022-05-27T21:59:09.891Z"
   },
   {
    "duration": 3,
    "start_time": "2022-05-27T22:00:15.291Z"
   },
   {
    "duration": 16,
    "start_time": "2022-05-27T22:00:26.338Z"
   },
   {
    "duration": 3,
    "start_time": "2022-05-27T22:00:45.351Z"
   },
   {
    "duration": 700,
    "start_time": "2022-05-27T22:00:45.831Z"
   },
   {
    "duration": 344,
    "start_time": "2022-05-27T22:00:46.533Z"
   },
   {
    "duration": 26,
    "start_time": "2022-05-27T22:00:47.531Z"
   },
   {
    "duration": 19,
    "start_time": "2022-05-27T22:00:49.152Z"
   },
   {
    "duration": 30,
    "start_time": "2022-05-27T22:00:53.451Z"
   },
   {
    "duration": 84,
    "start_time": "2022-05-27T22:00:54.071Z"
   },
   {
    "duration": 119,
    "start_time": "2022-05-27T22:00:54.911Z"
   },
   {
    "duration": 214,
    "start_time": "2022-05-27T22:08:14.104Z"
   },
   {
    "duration": 14,
    "start_time": "2022-05-27T22:08:26.051Z"
   },
   {
    "duration": 4,
    "start_time": "2022-05-27T22:09:12.171Z"
   },
   {
    "duration": 685,
    "start_time": "2022-05-27T22:09:12.711Z"
   },
   {
    "duration": 334,
    "start_time": "2022-05-27T22:09:13.398Z"
   },
   {
    "duration": 24,
    "start_time": "2022-05-27T22:09:14.572Z"
   },
   {
    "duration": 18,
    "start_time": "2022-05-27T22:09:15.611Z"
   },
   {
    "duration": 228,
    "start_time": "2022-05-27T22:09:18.172Z"
   },
   {
    "duration": 13,
    "start_time": "2022-05-27T22:09:53.492Z"
   },
   {
    "duration": 3,
    "start_time": "2022-05-27T22:09:58.412Z"
   },
   {
    "duration": 690,
    "start_time": "2022-05-27T22:09:58.931Z"
   },
   {
    "duration": 324,
    "start_time": "2022-05-27T22:09:59.622Z"
   },
   {
    "duration": 23,
    "start_time": "2022-05-27T22:10:00.091Z"
   },
   {
    "duration": 17,
    "start_time": "2022-05-27T22:10:01.612Z"
   },
   {
    "duration": 826,
    "start_time": "2022-05-27T22:10:05.512Z"
   },
   {
    "duration": 14,
    "start_time": "2022-05-27T22:10:11.812Z"
   },
   {
    "duration": 3,
    "start_time": "2022-05-27T22:10:50.992Z"
   },
   {
    "duration": 714,
    "start_time": "2022-05-27T22:10:51.532Z"
   },
   {
    "duration": 346,
    "start_time": "2022-05-27T22:10:52.248Z"
   },
   {
    "duration": 26,
    "start_time": "2022-05-27T22:10:52.772Z"
   },
   {
    "duration": 17,
    "start_time": "2022-05-27T22:10:54.631Z"
   },
   {
    "duration": 811,
    "start_time": "2022-05-27T22:10:56.191Z"
   },
   {
    "duration": 688,
    "start_time": "2022-05-27T22:11:37.549Z"
   },
   {
    "duration": 329,
    "start_time": "2022-05-27T22:11:38.532Z"
   },
   {
    "duration": 22,
    "start_time": "2022-05-27T22:11:39.152Z"
   },
   {
    "duration": 16,
    "start_time": "2022-05-27T22:11:40.473Z"
   },
   {
    "duration": 758,
    "start_time": "2022-05-27T22:11:42.091Z"
   },
   {
    "duration": 11,
    "start_time": "2022-05-27T22:11:56.392Z"
   },
   {
    "duration": 708,
    "start_time": "2022-05-27T22:13:55.251Z"
   },
   {
    "duration": 325,
    "start_time": "2022-05-27T22:13:55.961Z"
   },
   {
    "duration": 23,
    "start_time": "2022-05-27T22:13:57.224Z"
   },
   {
    "duration": 32,
    "start_time": "2022-05-27T22:14:00.112Z"
   },
   {
    "duration": 778,
    "start_time": "2022-05-27T22:14:58.872Z"
   },
   {
    "duration": 12,
    "start_time": "2022-05-27T22:15:41.151Z"
   },
   {
    "duration": 819,
    "start_time": "2022-05-27T22:16:11.992Z"
   },
   {
    "duration": 12,
    "start_time": "2022-05-27T22:16:32.272Z"
   },
   {
    "duration": 12,
    "start_time": "2022-05-27T22:16:50.112Z"
   },
   {
    "duration": 81,
    "start_time": "2022-05-27T22:17:24.231Z"
   },
   {
    "duration": 734,
    "start_time": "2022-05-27T22:17:30.829Z"
   },
   {
    "duration": 322,
    "start_time": "2022-05-27T22:17:31.565Z"
   },
   {
    "duration": 25,
    "start_time": "2022-05-27T22:17:32.172Z"
   },
   {
    "duration": 31,
    "start_time": "2022-05-27T22:17:32.692Z"
   },
   {
    "duration": 92,
    "start_time": "2022-05-27T22:17:34.691Z"
   },
   {
    "duration": 715,
    "start_time": "2022-05-27T22:17:53.152Z"
   },
   {
    "duration": 342,
    "start_time": "2022-05-27T22:17:53.911Z"
   },
   {
    "duration": 13,
    "start_time": "2022-05-27T22:18:08.224Z"
   },
   {
    "duration": 285,
    "start_time": "2022-05-27T22:18:22.428Z"
   },
   {
    "duration": 30,
    "start_time": "2022-05-27T22:19:08.951Z"
   },
   {
    "duration": 87,
    "start_time": "2022-05-27T22:20:01.372Z"
   },
   {
    "duration": 48,
    "start_time": "2022-05-27T22:20:12.771Z"
   },
   {
    "duration": 76,
    "start_time": "2022-05-27T22:20:22.095Z"
   },
   {
    "duration": 115,
    "start_time": "2022-05-27T22:20:23.532Z"
   },
   {
    "duration": 921,
    "start_time": "2022-05-27T22:20:42.772Z"
   },
   {
    "duration": 255,
    "start_time": "2022-05-27T22:20:52.472Z"
   },
   {
    "duration": 343,
    "start_time": "2022-05-27T22:20:55.292Z"
   },
   {
    "duration": 793,
    "start_time": "2022-05-27T22:21:34.666Z"
   },
   {
    "duration": 1092,
    "start_time": "2022-05-27T22:21:35.461Z"
   },
   {
    "duration": 407,
    "start_time": "2022-05-27T22:21:36.558Z"
   },
   {
    "duration": 65,
    "start_time": "2022-05-27T22:21:37.509Z"
   },
   {
    "duration": 864,
    "start_time": "2022-05-27T22:21:40.909Z"
   },
   {
    "duration": 211,
    "start_time": "2022-05-27T22:21:44.210Z"
   },
   {
    "duration": 355,
    "start_time": "2022-05-27T22:21:45.455Z"
   },
   {
    "duration": 22664,
    "start_time": "2022-05-27T22:21:47.070Z"
   },
   {
    "duration": 955,
    "start_time": "2022-06-05T17:47:09.201Z"
   },
   {
    "duration": 1343,
    "start_time": "2022-06-05T17:47:10.159Z"
   },
   {
    "duration": 540,
    "start_time": "2022-06-05T17:47:11.504Z"
   },
   {
    "duration": 86,
    "start_time": "2022-06-05T17:47:12.793Z"
   },
   {
    "duration": 410,
    "start_time": "2022-06-05T17:47:21.997Z"
   },
   {
    "duration": 109,
    "start_time": "2022-06-05T17:47:59.875Z"
   },
   {
    "duration": 397,
    "start_time": "2022-06-05T17:50:43.224Z"
   },
   {
    "duration": 95,
    "start_time": "2022-06-05T17:50:58.324Z"
   },
   {
    "duration": 38,
    "start_time": "2022-06-05T17:58:33.863Z"
   },
   {
    "duration": 99,
    "start_time": "2022-06-05T17:58:42.817Z"
   },
   {
    "duration": 71,
    "start_time": "2022-06-05T17:59:53.634Z"
   },
   {
    "duration": 87,
    "start_time": "2022-06-05T17:59:55.107Z"
   },
   {
    "duration": 106,
    "start_time": "2022-06-05T18:00:15.294Z"
   },
   {
    "duration": 80,
    "start_time": "2022-06-05T18:00:16.046Z"
   },
   {
    "duration": 102,
    "start_time": "2022-06-05T18:12:02.544Z"
   },
   {
    "duration": 77,
    "start_time": "2022-06-05T18:12:03.894Z"
   },
   {
    "duration": 947,
    "start_time": "2022-06-07T11:49:02.494Z"
   },
   {
    "duration": 1120,
    "start_time": "2022-06-07T11:49:04.114Z"
   },
   {
    "duration": 430,
    "start_time": "2022-06-07T11:49:05.245Z"
   },
   {
    "duration": 65,
    "start_time": "2022-06-07T11:49:08.414Z"
   },
   {
    "duration": 398,
    "start_time": "2022-06-07T11:49:10.032Z"
   },
   {
    "duration": 69,
    "start_time": "2022-06-07T11:49:13.326Z"
   },
   {
    "duration": 75,
    "start_time": "2022-06-07T11:49:21.230Z"
   },
   {
    "duration": 67,
    "start_time": "2022-06-07T11:49:21.876Z"
   },
   {
    "duration": 114,
    "start_time": "2022-06-07T11:49:24.562Z"
   },
   {
    "duration": 3037,
    "start_time": "2022-06-07T11:50:30.663Z"
   },
   {
    "duration": 255,
    "start_time": "2022-06-07T11:50:38.602Z"
   },
   {
    "duration": 29,
    "start_time": "2022-06-07T11:50:50.236Z"
   },
   {
    "duration": 31,
    "start_time": "2022-06-07T11:51:06.162Z"
   },
   {
    "duration": 1958,
    "start_time": "2022-06-07T11:51:15.178Z"
   },
   {
    "duration": 3,
    "start_time": "2022-06-07T11:51:27.147Z"
   },
   {
    "duration": 731,
    "start_time": "2022-06-07T11:51:27.619Z"
   },
   {
    "duration": 343,
    "start_time": "2022-06-07T11:51:28.352Z"
   },
   {
    "duration": 407,
    "start_time": "2022-06-07T11:51:34.003Z"
   },
   {
    "duration": 35,
    "start_time": "2022-06-07T11:51:42.198Z"
   },
   {
    "duration": 89,
    "start_time": "2022-06-07T11:51:45.308Z"
   },
   {
    "duration": 2424,
    "start_time": "2022-06-07T11:51:50.602Z"
   },
   {
    "duration": 64,
    "start_time": "2022-06-07T11:52:05.881Z"
   },
   {
    "duration": 1100,
    "start_time": "2022-06-09T06:58:23.730Z"
   },
   {
    "duration": 1247,
    "start_time": "2022-06-09T06:58:24.832Z"
   },
   {
    "duration": 437,
    "start_time": "2022-06-09T06:58:26.080Z"
   },
   {
    "duration": 57,
    "start_time": "2022-06-09T06:58:28.770Z"
   },
   {
    "duration": 367,
    "start_time": "2022-06-09T06:58:30.850Z"
   },
   {
    "duration": 66,
    "start_time": "2022-06-09T06:58:34.332Z"
   },
   {
    "duration": 84,
    "start_time": "2022-06-09T06:58:35.223Z"
   },
   {
    "duration": 2570,
    "start_time": "2022-06-09T06:58:38.800Z"
   },
   {
    "duration": 97,
    "start_time": "2022-06-09T07:04:52.039Z"
   },
   {
    "duration": 4,
    "start_time": "2022-06-09T07:05:35.156Z"
   },
   {
    "duration": 746,
    "start_time": "2022-06-09T07:05:38.855Z"
   },
   {
    "duration": 406,
    "start_time": "2022-06-09T07:05:39.603Z"
   },
   {
    "duration": 67,
    "start_time": "2022-06-09T07:05:41.742Z"
   },
   {
    "duration": 360,
    "start_time": "2022-06-09T07:05:42.239Z"
   },
   {
    "duration": 61,
    "start_time": "2022-06-09T07:05:42.775Z"
   },
   {
    "duration": 75,
    "start_time": "2022-06-09T07:05:44.822Z"
   },
   {
    "duration": 881,
    "start_time": "2022-06-09T07:05:47.009Z"
   },
   {
    "duration": 23,
    "start_time": "2022-06-09T07:05:56.839Z"
   },
   {
    "duration": 8,
    "start_time": "2022-06-09T07:06:42.540Z"
   },
   {
    "duration": 19,
    "start_time": "2022-06-09T07:06:52.130Z"
   },
   {
    "duration": 48,
    "start_time": "2022-06-09T07:06:53.409Z"
   },
   {
    "duration": 219,
    "start_time": "2022-06-09T07:06:55.013Z"
   },
   {
    "duration": 9,
    "start_time": "2022-06-09T07:18:38.194Z"
   },
   {
    "duration": 10,
    "start_time": "2022-06-09T07:18:46.941Z"
   },
   {
    "duration": 3,
    "start_time": "2022-06-09T07:21:51.123Z"
   },
   {
    "duration": 10,
    "start_time": "2022-06-09T07:24:22.528Z"
   },
   {
    "duration": 21,
    "start_time": "2022-06-09T07:24:28.763Z"
   },
   {
    "duration": 11,
    "start_time": "2022-06-09T07:24:32.571Z"
   },
   {
    "duration": 4,
    "start_time": "2022-06-09T07:25:13.510Z"
   },
   {
    "duration": 26111,
    "start_time": "2022-06-09T07:25:17.842Z"
   },
   {
    "duration": 25505,
    "start_time": "2022-06-09T07:25:53.405Z"
   },
   {
    "duration": 2882,
    "start_time": "2022-06-09T07:28:03.746Z"
   },
   {
    "duration": 2790,
    "start_time": "2022-06-09T07:28:12.172Z"
   },
   {
    "duration": 1328,
    "start_time": "2022-06-09T07:33:23.625Z"
   },
   {
    "duration": 1286,
    "start_time": "2022-06-09T07:33:37.742Z"
   },
   {
    "duration": 4501,
    "start_time": "2022-06-09T07:33:55.141Z"
   },
   {
    "duration": 751,
    "start_time": "2022-06-09T07:34:11.391Z"
   },
   {
    "duration": 3220,
    "start_time": "2022-06-09T07:34:16.912Z"
   },
   {
    "duration": 2030,
    "start_time": "2022-06-09T07:34:26.297Z"
   },
   {
    "duration": 2702,
    "start_time": "2022-06-09T07:34:32.527Z"
   },
   {
    "duration": 3205,
    "start_time": "2022-06-09T07:34:41.322Z"
   },
   {
    "duration": 1305,
    "start_time": "2022-06-09T07:34:52.031Z"
   },
   {
    "duration": 10,
    "start_time": "2022-06-09T07:34:58.752Z"
   },
   {
    "duration": 224,
    "start_time": "2022-06-09T07:40:14.203Z"
   },
   {
    "duration": 25,
    "start_time": "2022-06-09T07:42:29.678Z"
   },
   {
    "duration": 27208,
    "start_time": "2022-06-09T07:43:02.202Z"
   },
   {
    "duration": 11,
    "start_time": "2022-06-09T07:47:17.681Z"
   },
   {
    "duration": 1502,
    "start_time": "2022-06-09T07:52:37.402Z"
   },
   {
    "duration": 801,
    "start_time": "2022-06-09T07:52:38.906Z"
   },
   {
    "duration": 373,
    "start_time": "2022-06-09T07:52:39.709Z"
   },
   {
    "duration": 71,
    "start_time": "2022-06-09T07:52:40.084Z"
   },
   {
    "duration": 392,
    "start_time": "2022-06-09T07:52:40.157Z"
   },
   {
    "duration": 67,
    "start_time": "2022-06-09T07:52:40.550Z"
   },
   {
    "duration": 74,
    "start_time": "2022-06-09T07:52:40.619Z"
   },
   {
    "duration": 889,
    "start_time": "2022-06-09T07:52:40.694Z"
   },
   {
    "duration": 22,
    "start_time": "2022-06-09T07:52:41.585Z"
   },
   {
    "duration": 622,
    "start_time": "2022-06-09T07:52:41.609Z"
   },
   {
    "duration": 10,
    "start_time": "2022-06-09T07:52:42.232Z"
   },
   {
    "duration": 50,
    "start_time": "2022-06-09T07:52:42.243Z"
   },
   {
    "duration": 2,
    "start_time": "2022-06-09T07:52:42.295Z"
   },
   {
    "duration": 27204,
    "start_time": "2022-06-09T07:52:42.299Z"
   },
   {
    "duration": 1332,
    "start_time": "2022-06-09T07:53:09.504Z"
   },
   {
    "duration": 995,
    "start_time": "2022-06-09T07:53:57.237Z"
   },
   {
    "duration": 809,
    "start_time": "2022-06-09T07:53:58.234Z"
   },
   {
    "duration": 358,
    "start_time": "2022-06-09T07:53:59.045Z"
   },
   {
    "duration": 71,
    "start_time": "2022-06-09T07:53:59.404Z"
   },
   {
    "duration": 380,
    "start_time": "2022-06-09T07:53:59.478Z"
   },
   {
    "duration": 79,
    "start_time": "2022-06-09T07:53:59.859Z"
   },
   {
    "duration": 75,
    "start_time": "2022-06-09T07:53:59.940Z"
   },
   {
    "duration": 902,
    "start_time": "2022-06-09T07:54:00.028Z"
   },
   {
    "duration": 22,
    "start_time": "2022-06-09T07:54:00.931Z"
   },
   {
    "duration": 655,
    "start_time": "2022-06-09T07:54:00.955Z"
   },
   {
    "duration": 15,
    "start_time": "2022-06-09T07:54:01.612Z"
   },
   {
    "duration": 70,
    "start_time": "2022-06-09T07:54:01.629Z"
   },
   {
    "duration": 2,
    "start_time": "2022-06-09T07:54:01.701Z"
   },
   {
    "duration": 27963,
    "start_time": "2022-06-09T07:54:01.706Z"
   },
   {
    "duration": 1165,
    "start_time": "2022-06-09T07:54:29.671Z"
   },
   {
    "duration": 20400,
    "start_time": "2022-06-09T07:54:30.838Z"
   },
   {
    "duration": 1432,
    "start_time": "2022-06-09T07:55:04.096Z"
   },
   {
    "duration": 1114,
    "start_time": "2022-06-09T07:55:27.328Z"
   },
   {
    "duration": 906,
    "start_time": "2022-06-09T07:55:28.445Z"
   },
   {
    "duration": 366,
    "start_time": "2022-06-09T07:55:29.353Z"
   },
   {
    "duration": 66,
    "start_time": "2022-06-09T07:55:29.721Z"
   },
   {
    "duration": 385,
    "start_time": "2022-06-09T07:55:29.790Z"
   },
   {
    "duration": 90,
    "start_time": "2022-06-09T07:55:30.177Z"
   },
   {
    "duration": 82,
    "start_time": "2022-06-09T07:55:30.269Z"
   },
   {
    "duration": 1114,
    "start_time": "2022-06-09T07:55:30.353Z"
   },
   {
    "duration": 25,
    "start_time": "2022-06-09T07:55:31.469Z"
   },
   {
    "duration": 667,
    "start_time": "2022-06-09T07:55:31.496Z"
   },
   {
    "duration": 11,
    "start_time": "2022-06-09T07:55:32.165Z"
   },
   {
    "duration": 75,
    "start_time": "2022-06-09T07:55:32.178Z"
   },
   {
    "duration": 3,
    "start_time": "2022-06-09T07:55:32.255Z"
   },
   {
    "duration": 30641,
    "start_time": "2022-06-09T07:55:32.261Z"
   },
   {
    "duration": 1424,
    "start_time": "2022-06-09T07:56:02.904Z"
   },
   {
    "duration": 77489,
    "start_time": "2022-06-09T07:56:04.330Z"
   },
   {
    "duration": 26946,
    "start_time": "2022-06-09T07:59:28.960Z"
   },
   {
    "duration": 1335,
    "start_time": "2022-06-09T08:00:11.994Z"
   },
   {
    "duration": 92897,
    "start_time": "2022-06-09T08:00:20.690Z"
   },
   {
    "duration": 5,
    "start_time": "2022-06-09T08:05:04.060Z"
   },
   {
    "duration": 853,
    "start_time": "2022-06-09T08:05:04.911Z"
   },
   {
    "duration": 829,
    "start_time": "2022-06-09T08:05:14.873Z"
   },
   {
    "duration": 341,
    "start_time": "2022-06-09T08:05:15.704Z"
   },
   {
    "duration": 54,
    "start_time": "2022-06-09T08:05:18.967Z"
   },
   {
    "duration": 378,
    "start_time": "2022-06-09T08:05:20.370Z"
   },
   {
    "duration": 66,
    "start_time": "2022-06-09T08:05:21.800Z"
   },
   {
    "duration": 91,
    "start_time": "2022-06-09T08:05:22.270Z"
   },
   {
    "duration": 3,
    "start_time": "2022-06-09T08:05:24.323Z"
   },
   {
    "duration": 923,
    "start_time": "2022-06-09T08:05:25.039Z"
   },
   {
    "duration": 22,
    "start_time": "2022-06-09T08:05:25.964Z"
   },
   {
    "duration": 16,
    "start_time": "2022-06-09T08:06:00.160Z"
   },
   {
    "duration": 47,
    "start_time": "2022-06-09T08:06:00.707Z"
   },
   {
    "duration": 1014,
    "start_time": "2022-06-09T10:24:29.175Z"
   },
   {
    "duration": 847,
    "start_time": "2022-06-09T10:24:30.191Z"
   },
   {
    "duration": 381,
    "start_time": "2022-06-09T10:24:31.039Z"
   },
   {
    "duration": 73,
    "start_time": "2022-06-09T10:24:31.422Z"
   },
   {
    "duration": 447,
    "start_time": "2022-06-09T10:24:31.498Z"
   },
   {
    "duration": 89,
    "start_time": "2022-06-09T10:24:31.946Z"
   },
   {
    "duration": 104,
    "start_time": "2022-06-09T10:24:32.037Z"
   },
   {
    "duration": 6,
    "start_time": "2022-06-09T10:24:32.143Z"
   },
   {
    "duration": 888,
    "start_time": "2022-06-09T10:24:32.151Z"
   },
   {
    "duration": 22,
    "start_time": "2022-06-09T10:24:33.041Z"
   },
   {
    "duration": 17,
    "start_time": "2022-06-09T10:24:33.064Z"
   },
   {
    "duration": 78,
    "start_time": "2022-06-09T10:24:33.083Z"
   },
   {
    "duration": 26489,
    "start_time": "2022-06-09T10:24:33.163Z"
   },
   {
    "duration": 1280,
    "start_time": "2022-06-09T10:24:59.655Z"
   },
   {
    "duration": 52229,
    "start_time": "2022-06-09T10:25:00.937Z"
   },
   {
    "duration": 108,
    "start_time": "2022-06-09T10:25:53.167Z"
   },
   {
    "duration": 165,
    "start_time": "2022-06-09T11:20:42.123Z"
   },
   {
    "duration": 1085,
    "start_time": "2022-06-09T11:23:03.783Z"
   },
   {
    "duration": 861,
    "start_time": "2022-06-09T11:23:04.870Z"
   },
   {
    "duration": 377,
    "start_time": "2022-06-09T11:23:05.735Z"
   },
   {
    "duration": 83,
    "start_time": "2022-06-09T11:23:06.114Z"
   },
   {
    "duration": 509,
    "start_time": "2022-06-09T11:23:06.199Z"
   },
   {
    "duration": 82,
    "start_time": "2022-06-09T11:23:06.710Z"
   },
   {
    "duration": 81,
    "start_time": "2022-06-09T11:23:06.794Z"
   },
   {
    "duration": 20,
    "start_time": "2022-06-09T11:23:06.876Z"
   },
   {
    "duration": 963,
    "start_time": "2022-06-09T11:23:06.898Z"
   },
   {
    "duration": 21,
    "start_time": "2022-06-09T11:23:07.863Z"
   },
   {
    "duration": 16,
    "start_time": "2022-06-09T11:23:07.886Z"
   },
   {
    "duration": 74,
    "start_time": "2022-06-09T11:23:07.903Z"
   },
   {
    "duration": 28202,
    "start_time": "2022-06-09T11:23:07.979Z"
   },
   {
    "duration": 1147,
    "start_time": "2022-06-09T11:23:36.183Z"
   },
   {
    "duration": 46705,
    "start_time": "2022-06-09T11:23:37.332Z"
   },
   {
    "duration": 89687,
    "start_time": "2022-06-09T11:24:24.039Z"
   },
   {
    "duration": 22281,
    "start_time": "2022-06-09T11:26:30.282Z"
   },
   {
    "duration": 26009,
    "start_time": "2022-06-09T11:39:28.265Z"
   },
   {
    "duration": 1006,
    "start_time": "2022-06-09T11:39:59.723Z"
   },
   {
    "duration": 9735,
    "start_time": "2022-06-09T11:40:12.349Z"
   },
   {
    "duration": 63111,
    "start_time": "2022-06-09T11:40:40.528Z"
   },
   {
    "duration": 572,
    "start_time": "2022-06-09T11:43:20.757Z"
   },
   {
    "duration": 2039,
    "start_time": "2022-06-09T11:43:30.791Z"
   },
   {
    "duration": 938,
    "start_time": "2022-06-09T11:44:00.191Z"
   },
   {
    "duration": 52672,
    "start_time": "2022-06-09T11:44:28.007Z"
   },
   {
    "duration": 29347,
    "start_time": "2022-06-09T11:45:57.438Z"
   },
   {
    "duration": 48432,
    "start_time": "2022-06-09T11:46:53.519Z"
   },
   {
    "duration": 1169,
    "start_time": "2022-06-20T19:21:37.668Z"
   },
   {
    "duration": 1349,
    "start_time": "2022-06-20T19:21:38.839Z"
   },
   {
    "duration": 415,
    "start_time": "2022-06-20T19:21:40.189Z"
   },
   {
    "duration": 68,
    "start_time": "2022-06-20T19:21:40.606Z"
   },
   {
    "duration": 513,
    "start_time": "2022-06-20T19:21:40.677Z"
   },
   {
    "duration": 87,
    "start_time": "2022-06-20T19:21:41.193Z"
   },
   {
    "duration": 100,
    "start_time": "2022-06-20T19:21:41.282Z"
   },
   {
    "duration": 12,
    "start_time": "2022-06-20T19:21:41.383Z"
   },
   {
    "duration": 1131,
    "start_time": "2022-06-20T19:21:41.397Z"
   },
   {
    "duration": 32,
    "start_time": "2022-06-20T19:21:42.530Z"
   },
   {
    "duration": 34,
    "start_time": "2022-06-20T19:21:42.564Z"
   },
   {
    "duration": 61,
    "start_time": "2022-06-20T19:21:42.600Z"
   },
   {
    "duration": 33191,
    "start_time": "2022-06-20T19:21:42.663Z"
   },
   {
    "duration": 1542,
    "start_time": "2022-06-20T19:22:15.856Z"
   },
   {
    "duration": 332463,
    "start_time": "2022-06-20T19:22:17.401Z"
   },
   {
    "duration": 138540,
    "start_time": "2022-06-20T19:27:49.867Z"
   },
   {
    "duration": 164,
    "start_time": "2022-06-20T19:33:38.107Z"
   },
   {
    "duration": 65,
    "start_time": "2022-06-20T19:34:19.292Z"
   },
   {
    "duration": 21956,
    "start_time": "2022-06-20T19:34:24.783Z"
   },
   {
    "duration": 1514,
    "start_time": "2022-06-20T19:35:47.912Z"
   },
   {
    "duration": 898,
    "start_time": "2022-06-20T19:35:49.428Z"
   },
   {
    "duration": 441,
    "start_time": "2022-06-20T19:35:50.328Z"
   },
   {
    "duration": 68,
    "start_time": "2022-06-20T19:35:50.770Z"
   },
   {
    "duration": 393,
    "start_time": "2022-06-20T19:35:50.840Z"
   },
   {
    "duration": 72,
    "start_time": "2022-06-20T19:35:51.235Z"
   },
   {
    "duration": 71,
    "start_time": "2022-06-20T19:35:51.309Z"
   },
   {
    "duration": 3,
    "start_time": "2022-06-20T19:35:51.394Z"
   },
   {
    "duration": 932,
    "start_time": "2022-06-20T19:35:51.399Z"
   },
   {
    "duration": 23,
    "start_time": "2022-06-20T19:35:52.333Z"
   },
   {
    "duration": 17,
    "start_time": "2022-06-20T19:35:52.358Z"
   },
   {
    "duration": 59,
    "start_time": "2022-06-20T19:35:52.393Z"
   },
   {
    "duration": 28157,
    "start_time": "2022-06-20T19:35:52.454Z"
   },
   {
    "duration": 1280,
    "start_time": "2022-06-20T19:36:20.614Z"
   },
   {
    "duration": 1334,
    "start_time": "2022-06-20T19:38:04.382Z"
   },
   {
    "duration": 900,
    "start_time": "2022-06-20T19:38:05.719Z"
   },
   {
    "duration": 409,
    "start_time": "2022-06-20T19:38:06.620Z"
   },
   {
    "duration": 79,
    "start_time": "2022-06-20T19:38:07.032Z"
   },
   {
    "duration": 403,
    "start_time": "2022-06-20T19:38:07.114Z"
   },
   {
    "duration": 77,
    "start_time": "2022-06-20T19:38:07.519Z"
   },
   {
    "duration": 73,
    "start_time": "2022-06-20T19:38:07.598Z"
   },
   {
    "duration": 3,
    "start_time": "2022-06-20T19:38:07.672Z"
   },
   {
    "duration": 944,
    "start_time": "2022-06-20T19:38:07.676Z"
   },
   {
    "duration": 22,
    "start_time": "2022-06-20T19:38:08.622Z"
   },
   {
    "duration": 18,
    "start_time": "2022-06-20T19:38:08.646Z"
   },
   {
    "duration": 75,
    "start_time": "2022-06-20T19:38:08.666Z"
   },
   {
    "duration": 28055,
    "start_time": "2022-06-20T19:38:08.743Z"
   },
   {
    "duration": 1115,
    "start_time": "2022-06-20T19:38:36.800Z"
   },
   {
    "duration": 273991,
    "start_time": "2022-06-20T19:38:37.997Z"
   },
   {
    "duration": 78713,
    "start_time": "2022-06-20T19:43:11.990Z"
   },
   {
    "duration": 21608,
    "start_time": "2022-06-20T19:44:30.706Z"
   },
   {
    "duration": 5,
    "start_time": "2022-06-20T19:44:52.317Z"
   },
   {
    "duration": 937,
    "start_time": "2022-06-20T19:44:52.324Z"
   },
   {
    "duration": 424,
    "start_time": "2022-06-20T19:44:53.263Z"
   },
   {
    "duration": 88,
    "start_time": "2022-06-20T19:44:53.695Z"
   },
   {
    "duration": 369,
    "start_time": "2022-06-20T19:44:54.216Z"
   },
   {
    "duration": 73,
    "start_time": "2022-06-20T19:44:54.587Z"
   },
   {
    "duration": 89,
    "start_time": "2022-06-20T19:44:54.662Z"
   },
   {
    "duration": 3,
    "start_time": "2022-06-20T19:44:54.753Z"
   },
   {
    "duration": 965,
    "start_time": "2022-06-20T19:44:54.757Z"
   },
   {
    "duration": 39,
    "start_time": "2022-06-20T19:44:55.729Z"
   },
   {
    "duration": 33,
    "start_time": "2022-06-20T19:45:38.454Z"
   },
   {
    "duration": 50,
    "start_time": "2022-06-20T19:45:39.246Z"
   },
   {
    "duration": 62,
    "start_time": "2022-06-20T19:45:40.316Z"
   },
   {
    "duration": 30041,
    "start_time": "2022-06-20T19:45:42.920Z"
   },
   {
    "duration": 64,
    "start_time": "2022-06-20T19:48:27.042Z"
   },
   {
    "duration": 24140,
    "start_time": "2022-06-20T19:48:27.108Z"
   },
   {
    "duration": 178030,
    "start_time": "2022-06-20T19:49:10.912Z"
   },
   {
    "duration": 228852,
    "start_time": "2022-06-20T19:52:42.777Z"
   },
   {
    "duration": 176422,
    "start_time": "2022-06-20T19:57:18.952Z"
   },
   {
    "duration": 20792,
    "start_time": "2022-06-20T20:00:22.075Z"
   },
   {
    "duration": 363275,
    "start_time": "2022-06-20T20:01:28.837Z"
   },
   {
    "duration": 19670,
    "start_time": "2022-06-20T20:08:04.410Z"
   },
   {
    "duration": 6,
    "start_time": "2022-06-20T20:09:22.251Z"
   },
   {
    "duration": 814,
    "start_time": "2022-06-20T20:09:22.653Z"
   },
   {
    "duration": 408,
    "start_time": "2022-06-20T20:09:23.469Z"
   },
   {
    "duration": 52,
    "start_time": "2022-06-20T20:09:24.115Z"
   },
   {
    "duration": 397,
    "start_time": "2022-06-20T20:09:24.650Z"
   },
   {
    "duration": 78,
    "start_time": "2022-06-20T20:09:25.766Z"
   },
   {
    "duration": 69,
    "start_time": "2022-06-20T20:09:26.813Z"
   },
   {
    "duration": 2,
    "start_time": "2022-06-20T20:09:28.713Z"
   },
   {
    "duration": 1034,
    "start_time": "2022-06-20T20:09:31.258Z"
   },
   {
    "duration": 22,
    "start_time": "2022-06-20T20:09:35.010Z"
   },
   {
    "duration": 22,
    "start_time": "2022-06-20T20:09:44.808Z"
   },
   {
    "duration": 4,
    "start_time": "2022-06-20T20:10:18.748Z"
   },
   {
    "duration": 849,
    "start_time": "2022-06-20T20:10:19.260Z"
   },
   {
    "duration": 366,
    "start_time": "2022-06-20T20:10:20.111Z"
   },
   {
    "duration": 60,
    "start_time": "2022-06-20T20:10:21.196Z"
   },
   {
    "duration": 372,
    "start_time": "2022-06-20T20:10:23.511Z"
   },
   {
    "duration": 70,
    "start_time": "2022-06-20T20:10:24.718Z"
   },
   {
    "duration": 86,
    "start_time": "2022-06-20T20:10:26.587Z"
   },
   {
    "duration": 19,
    "start_time": "2022-06-20T20:10:31.371Z"
   },
   {
    "duration": 1018,
    "start_time": "2022-06-20T20:10:36.584Z"
   },
   {
    "duration": 30,
    "start_time": "2022-06-20T20:10:39.038Z"
   },
   {
    "duration": 24,
    "start_time": "2022-06-20T20:10:42.991Z"
   },
   {
    "duration": 5,
    "start_time": "2022-06-20T20:11:02.077Z"
   },
   {
    "duration": 834,
    "start_time": "2022-06-20T20:11:02.516Z"
   },
   {
    "duration": 408,
    "start_time": "2022-06-20T20:11:03.352Z"
   },
   {
    "duration": 65,
    "start_time": "2022-06-20T20:11:04.135Z"
   },
   {
    "duration": 414,
    "start_time": "2022-06-20T20:11:05.220Z"
   },
   {
    "duration": 82,
    "start_time": "2022-06-20T20:11:06.266Z"
   },
   {
    "duration": 85,
    "start_time": "2022-06-20T20:11:07.539Z"
   },
   {
    "duration": 20,
    "start_time": "2022-06-20T20:11:10.119Z"
   },
   {
    "duration": 1150,
    "start_time": "2022-06-20T20:11:18.137Z"
   },
   {
    "duration": 22,
    "start_time": "2022-06-20T20:11:20.720Z"
   },
   {
    "duration": 38,
    "start_time": "2022-06-20T20:11:22.785Z"
   },
   {
    "duration": 26,
    "start_time": "2022-06-20T20:11:43.978Z"
   },
   {
    "duration": 49,
    "start_time": "2022-06-20T20:11:48.277Z"
   },
   {
    "duration": 77,
    "start_time": "2022-06-20T20:11:49.786Z"
   },
   {
    "duration": 30863,
    "start_time": "2022-06-20T20:11:50.500Z"
   },
   {
    "duration": 19957,
    "start_time": "2022-06-20T20:12:21.365Z"
   },
   {
    "duration": 53,
    "start_time": "2022-06-20T20:18:31.440Z"
   },
   {
    "duration": 67,
    "start_time": "2022-06-20T20:19:12.193Z"
   },
   {
    "duration": 2759,
    "start_time": "2022-06-20T20:19:25.039Z"
   },
   {
    "duration": 1183,
    "start_time": "2022-06-20T20:19:38.616Z"
   },
   {
    "duration": 588,
    "start_time": "2022-06-20T20:19:46.022Z"
   },
   {
    "duration": 951,
    "start_time": "2022-06-20T20:19:50.854Z"
   },
   {
    "duration": 4849,
    "start_time": "2022-06-20T20:20:05.140Z"
   },
   {
    "duration": 1060,
    "start_time": "2022-06-20T20:20:14.543Z"
   },
   {
    "duration": 60,
    "start_time": "2022-06-20T20:20:39.882Z"
   },
   {
    "duration": 1339,
    "start_time": "2022-06-20T20:20:53.966Z"
   },
   {
    "duration": 1311,
    "start_time": "2022-06-20T20:21:39.585Z"
   },
   {
    "duration": 862,
    "start_time": "2022-06-20T20:21:56.461Z"
   },
   {
    "duration": 1357,
    "start_time": "2022-06-20T20:22:12.444Z"
   },
   {
    "duration": 58,
    "start_time": "2022-06-20T20:22:22.344Z"
   },
   {
    "duration": 14801,
    "start_time": "2022-06-20T20:25:26.112Z"
   },
   {
    "duration": 30149,
    "start_time": "2022-06-20T20:25:56.558Z"
   },
   {
    "duration": 30916,
    "start_time": "2022-06-20T20:26:45.991Z"
   },
   {
    "duration": 1379,
    "start_time": "2022-06-20T20:27:33.219Z"
   },
   {
    "duration": 66,
    "start_time": "2022-06-20T20:27:52.933Z"
   },
   {
    "duration": 1311,
    "start_time": "2022-06-20T20:28:00.097Z"
   },
   {
    "duration": 1209,
    "start_time": "2022-06-26T12:28:33.836Z"
   },
   {
    "duration": 1074,
    "start_time": "2022-06-26T12:28:35.048Z"
   },
   {
    "duration": 385,
    "start_time": "2022-06-26T12:28:36.127Z"
   },
   {
    "duration": 72,
    "start_time": "2022-06-26T12:28:36.514Z"
   },
   {
    "duration": 396,
    "start_time": "2022-06-26T12:28:36.588Z"
   },
   {
    "duration": 72,
    "start_time": "2022-06-26T12:28:36.986Z"
   },
   {
    "duration": 86,
    "start_time": "2022-06-26T12:28:37.060Z"
   },
   {
    "duration": 25,
    "start_time": "2022-06-26T12:28:37.163Z"
   },
   {
    "duration": 941,
    "start_time": "2022-06-26T12:28:37.190Z"
   },
   {
    "duration": 29,
    "start_time": "2022-06-26T12:28:38.133Z"
   },
   {
    "duration": 24,
    "start_time": "2022-06-26T12:28:38.164Z"
   },
   {
    "duration": 27,
    "start_time": "2022-06-26T12:28:38.190Z"
   },
   {
    "duration": 70,
    "start_time": "2022-06-26T12:28:38.220Z"
   },
   {
    "duration": 55,
    "start_time": "2022-06-26T12:28:38.292Z"
   },
   {
    "duration": 26589,
    "start_time": "2022-06-26T12:28:38.358Z"
   },
   {
    "duration": 1319,
    "start_time": "2022-06-26T12:29:04.948Z"
   },
   {
    "duration": 239810,
    "start_time": "2022-06-26T12:29:06.269Z"
   },
   {
    "duration": 3047585,
    "start_time": "2022-06-26T12:33:06.081Z"
   },
   {
    "duration": 24794,
    "start_time": "2022-06-26T13:23:53.668Z"
   },
   {
    "duration": 52,
    "start_time": "2022-06-26T13:24:18.464Z"
   },
   {
    "duration": 2582493,
    "start_time": "2022-06-26T13:32:53.074Z"
   },
   {
    "duration": 4,
    "start_time": "2022-06-26T14:33:41.823Z"
   },
   {
    "duration": 742,
    "start_time": "2022-06-26T14:33:42.681Z"
   },
   {
    "duration": 346,
    "start_time": "2022-06-26T14:33:43.858Z"
   },
   {
    "duration": 38,
    "start_time": "2022-06-26T14:33:54.870Z"
   },
   {
    "duration": 341,
    "start_time": "2022-06-26T14:33:57.804Z"
   },
   {
    "duration": 65,
    "start_time": "2022-06-26T14:34:05.564Z"
   },
   {
    "duration": 67,
    "start_time": "2022-06-26T14:34:06.427Z"
   },
   {
    "duration": 18,
    "start_time": "2022-06-26T14:34:10.039Z"
   },
   {
    "duration": 43,
    "start_time": "2022-06-26T14:35:26.613Z"
   },
   {
    "duration": 826,
    "start_time": "2022-06-26T14:35:33.111Z"
   },
   {
    "duration": 20,
    "start_time": "2022-06-26T14:35:34.659Z"
   },
   {
    "duration": 17,
    "start_time": "2022-06-26T14:35:37.905Z"
   },
   {
    "duration": 37,
    "start_time": "2022-06-26T14:35:43.241Z"
   },
   {
    "duration": 43,
    "start_time": "2022-06-26T14:35:44.124Z"
   },
   {
    "duration": 66,
    "start_time": "2022-06-26T14:35:44.932Z"
   },
   {
    "duration": 247947,
    "start_time": "2022-06-26T14:35:50.710Z"
   },
   {
    "duration": 109431,
    "start_time": "2022-06-26T14:41:10.830Z"
   },
   {
    "duration": 92700,
    "start_time": "2022-06-26T15:01:53.673Z"
   },
   {
    "duration": 27754,
    "start_time": "2022-06-26T15:03:37.099Z"
   },
   {
    "duration": 64585,
    "start_time": "2022-06-26T15:05:16.119Z"
   },
   {
    "duration": 40147,
    "start_time": "2022-06-26T15:07:35.808Z"
   },
   {
    "duration": 1317,
    "start_time": "2022-06-27T06:43:13.009Z"
   },
   {
    "duration": 1072,
    "start_time": "2022-06-27T06:43:14.328Z"
   },
   {
    "duration": 395,
    "start_time": "2022-06-27T06:43:15.402Z"
   },
   {
    "duration": 59,
    "start_time": "2022-06-27T06:43:15.799Z"
   },
   {
    "duration": 388,
    "start_time": "2022-06-27T06:43:15.860Z"
   },
   {
    "duration": 73,
    "start_time": "2022-06-27T06:43:16.250Z"
   },
   {
    "duration": 71,
    "start_time": "2022-06-27T06:43:16.325Z"
   },
   {
    "duration": 58,
    "start_time": "2022-06-27T06:43:16.397Z"
   },
   {
    "duration": 908,
    "start_time": "2022-06-27T06:43:16.456Z"
   },
   {
    "duration": 21,
    "start_time": "2022-06-27T06:43:17.366Z"
   },
   {
    "duration": 16,
    "start_time": "2022-06-27T06:43:17.389Z"
   },
   {
    "duration": 32,
    "start_time": "2022-06-27T06:43:17.424Z"
   },
   {
    "duration": 66,
    "start_time": "2022-06-27T06:43:17.457Z"
   },
   {
    "duration": 76,
    "start_time": "2022-06-27T06:43:17.526Z"
   },
   {
    "duration": 28428,
    "start_time": "2022-06-27T06:43:17.604Z"
   },
   {
    "duration": 518,
    "start_time": "2022-06-27T06:43:46.034Z"
   },
   {
    "duration": 40431,
    "start_time": "2022-06-27T06:43:46.554Z"
   },
   {
    "duration": 11305343,
    "start_time": "2022-06-27T06:44:26.987Z"
   },
   {
    "duration": 1328,
    "start_time": "2022-06-27T11:33:23.507Z"
   },
   {
    "duration": 829,
    "start_time": "2022-06-27T11:33:24.837Z"
   },
   {
    "duration": 380,
    "start_time": "2022-06-27T11:33:25.667Z"
   },
   {
    "duration": 48,
    "start_time": "2022-06-27T11:33:32.358Z"
   },
   {
    "duration": 386,
    "start_time": "2022-06-27T11:33:33.473Z"
   },
   {
    "duration": 72,
    "start_time": "2022-06-27T11:33:34.553Z"
   },
   {
    "duration": 94,
    "start_time": "2022-06-27T11:33:36.013Z"
   },
   {
    "duration": 31,
    "start_time": "2022-06-27T11:33:40.407Z"
   },
   {
    "duration": 903,
    "start_time": "2022-06-27T11:33:41.059Z"
   },
   {
    "duration": 23,
    "start_time": "2022-06-27T11:33:42.335Z"
   },
   {
    "duration": 19,
    "start_time": "2022-06-27T11:33:44.974Z"
   },
   {
    "duration": 32,
    "start_time": "2022-06-27T11:33:49.319Z"
   },
   {
    "duration": 54,
    "start_time": "2022-06-27T11:33:50.018Z"
   },
   {
    "duration": 81,
    "start_time": "2022-06-27T11:33:50.713Z"
   },
   {
    "duration": 1263,
    "start_time": "2022-06-27T11:33:54.168Z"
   },
   {
    "duration": 1334,
    "start_time": "2022-06-27T20:14:29.159Z"
   },
   {
    "duration": 1068,
    "start_time": "2022-06-27T20:14:30.495Z"
   },
   {
    "duration": 359,
    "start_time": "2022-06-27T20:14:31.565Z"
   },
   {
    "duration": 48,
    "start_time": "2022-06-27T20:14:31.926Z"
   },
   {
    "duration": 374,
    "start_time": "2022-06-27T20:14:31.976Z"
   },
   {
    "duration": 63,
    "start_time": "2022-06-27T20:14:32.351Z"
   },
   {
    "duration": 62,
    "start_time": "2022-06-27T20:14:32.415Z"
   },
   {
    "duration": 40,
    "start_time": "2022-06-27T20:14:32.479Z"
   },
   {
    "duration": 926,
    "start_time": "2022-06-27T20:14:32.521Z"
   },
   {
    "duration": 52,
    "start_time": "2022-06-27T20:14:33.449Z"
   },
   {
    "duration": 20,
    "start_time": "2022-06-27T20:14:33.503Z"
   },
   {
    "duration": 69,
    "start_time": "2022-06-27T20:14:33.524Z"
   },
   {
    "duration": 60,
    "start_time": "2022-06-27T20:14:33.595Z"
   },
   {
    "duration": 96,
    "start_time": "2022-06-27T20:14:33.658Z"
   },
   {
    "duration": 27969,
    "start_time": "2022-06-27T20:14:33.756Z"
   },
   {
    "duration": 1156,
    "start_time": "2022-06-27T20:15:01.727Z"
   },
   {
    "duration": 37337,
    "start_time": "2022-06-27T20:15:02.886Z"
   },
   {
    "duration": 1300,
    "start_time": "2022-06-28T06:57:26.936Z"
   },
   {
    "duration": 1087,
    "start_time": "2022-06-28T06:57:28.238Z"
   },
   {
    "duration": 396,
    "start_time": "2022-06-28T06:57:29.327Z"
   },
   {
    "duration": 53,
    "start_time": "2022-06-28T06:57:29.726Z"
   },
   {
    "duration": 413,
    "start_time": "2022-06-28T06:57:29.782Z"
   },
   {
    "duration": 78,
    "start_time": "2022-06-28T06:57:30.197Z"
   },
   {
    "duration": 81,
    "start_time": "2022-06-28T06:57:30.277Z"
   },
   {
    "duration": 55,
    "start_time": "2022-06-28T06:57:30.359Z"
   },
   {
    "duration": 981,
    "start_time": "2022-06-28T06:57:30.416Z"
   },
   {
    "duration": 28,
    "start_time": "2022-06-28T06:57:31.399Z"
   },
   {
    "duration": 29,
    "start_time": "2022-06-28T06:57:31.429Z"
   },
   {
    "duration": 50,
    "start_time": "2022-06-28T06:57:31.460Z"
   },
   {
    "duration": 73,
    "start_time": "2022-06-28T06:57:31.512Z"
   },
   {
    "duration": 87,
    "start_time": "2022-06-28T06:57:31.588Z"
   },
   {
    "duration": 28420,
    "start_time": "2022-06-28T06:57:31.677Z"
   },
   {
    "duration": 1230,
    "start_time": "2022-06-28T06:58:00.099Z"
   },
   {
    "duration": 40156,
    "start_time": "2022-06-28T06:58:01.332Z"
   },
   {
    "duration": 1273,
    "start_time": "2022-07-02T19:39:53.119Z"
   },
   {
    "duration": 1006,
    "start_time": "2022-07-02T19:39:54.394Z"
   },
   {
    "duration": 292,
    "start_time": "2022-07-02T19:39:55.401Z"
   },
   {
    "duration": 40,
    "start_time": "2022-07-02T19:39:55.695Z"
   },
   {
    "duration": 352,
    "start_time": "2022-07-02T19:39:55.737Z"
   },
   {
    "duration": 63,
    "start_time": "2022-07-02T19:39:56.091Z"
   },
   {
    "duration": 55,
    "start_time": "2022-07-02T19:39:56.156Z"
   },
   {
    "duration": 54,
    "start_time": "2022-07-02T19:39:56.212Z"
   },
   {
    "duration": 800,
    "start_time": "2022-07-02T19:39:56.267Z"
   },
   {
    "duration": 19,
    "start_time": "2022-07-02T19:39:57.069Z"
   },
   {
    "duration": 17,
    "start_time": "2022-07-02T19:39:57.090Z"
   },
   {
    "duration": 29,
    "start_time": "2022-07-02T19:39:57.109Z"
   },
   {
    "duration": 59,
    "start_time": "2022-07-02T19:39:57.139Z"
   },
   {
    "duration": 74,
    "start_time": "2022-07-02T19:39:57.200Z"
   },
   {
    "duration": 24300,
    "start_time": "2022-07-02T19:39:57.276Z"
   },
   {
    "duration": 1094,
    "start_time": "2022-07-02T19:40:21.577Z"
   },
   {
    "duration": 34584,
    "start_time": "2022-07-02T19:40:22.751Z"
   },
   {
    "duration": 6277820,
    "start_time": "2022-07-02T19:40:57.336Z"
   },
   {
    "duration": 1337,
    "start_time": "2022-07-11T08:58:57.540Z"
   },
   {
    "duration": 1142,
    "start_time": "2022-07-11T08:58:58.879Z"
   },
   {
    "duration": 372,
    "start_time": "2022-07-11T08:59:00.023Z"
   },
   {
    "duration": 51,
    "start_time": "2022-07-11T08:59:03.860Z"
   },
   {
    "duration": 401,
    "start_time": "2022-07-11T08:59:06.662Z"
   },
   {
    "duration": 76,
    "start_time": "2022-07-11T08:59:07.740Z"
   },
   {
    "duration": 70,
    "start_time": "2022-07-11T08:59:09.080Z"
   },
   {
    "duration": 46,
    "start_time": "2022-07-11T08:59:13.060Z"
   },
   {
    "duration": 890,
    "start_time": "2022-07-11T08:59:16.316Z"
   },
   {
    "duration": 21,
    "start_time": "2022-07-11T08:59:17.208Z"
   },
   {
    "duration": 17,
    "start_time": "2022-07-11T08:59:20.596Z"
   },
   {
    "duration": 36,
    "start_time": "2022-07-11T08:59:24.667Z"
   },
   {
    "duration": 52,
    "start_time": "2022-07-11T08:59:25.321Z"
   },
   {
    "duration": 75,
    "start_time": "2022-07-11T08:59:26.062Z"
   },
   {
    "duration": 18901218,
    "start_time": "2022-07-11T08:59:30.535Z"
   },
   {
    "duration": 1235,
    "start_time": "2022-07-18T08:44:50.692Z"
   },
   {
    "duration": 1136,
    "start_time": "2022-07-18T08:44:51.929Z"
   },
   {
    "duration": 387,
    "start_time": "2022-07-18T08:44:53.067Z"
   },
   {
    "duration": 43,
    "start_time": "2022-07-18T08:45:11.035Z"
   },
   {
    "duration": 385,
    "start_time": "2022-07-18T08:45:12.864Z"
   },
   {
    "duration": 76,
    "start_time": "2022-07-18T08:45:17.453Z"
   },
   {
    "duration": 73,
    "start_time": "2022-07-18T08:45:21.673Z"
   },
   {
    "duration": 45,
    "start_time": "2022-07-18T08:45:23.923Z"
   },
   {
    "duration": 859,
    "start_time": "2022-07-18T08:45:28.200Z"
   },
   {
    "duration": 22,
    "start_time": "2022-07-18T08:45:30.432Z"
   },
   {
    "duration": 16,
    "start_time": "2022-07-18T08:45:34.674Z"
   },
   {
    "duration": 32,
    "start_time": "2022-07-18T08:45:45.139Z"
   },
   {
    "duration": 52,
    "start_time": "2022-07-18T08:45:45.813Z"
   },
   {
    "duration": 84,
    "start_time": "2022-07-18T08:45:46.514Z"
   },
   {
    "duration": 3,
    "start_time": "2022-07-18T08:45:47.417Z"
   },
   {
    "duration": 145,
    "start_time": "2022-07-18T08:46:48.285Z"
   },
   {
    "duration": 128,
    "start_time": "2022-07-18T08:48:20.063Z"
   },
   {
    "duration": 5,
    "start_time": "2022-07-18T08:48:25.944Z"
   },
   {
    "duration": 3,
    "start_time": "2022-07-18T08:48:33.073Z"
   },
   {
    "duration": 88,
    "start_time": "2022-07-18T08:48:35.011Z"
   },
   {
    "duration": 2,
    "start_time": "2022-07-18T08:49:19.183Z"
   },
   {
    "duration": 26651,
    "start_time": "2022-07-18T08:49:20.113Z"
   },
   {
    "duration": 4,
    "start_time": "2022-07-18T08:51:28.423Z"
   },
   {
    "duration": 4,
    "start_time": "2022-07-18T08:52:04.553Z"
   },
   {
    "duration": 25,
    "start_time": "2022-07-18T08:52:05.924Z"
   },
   {
    "duration": 3,
    "start_time": "2022-07-18T08:52:31.514Z"
   },
   {
    "duration": 27210,
    "start_time": "2022-07-18T08:52:32.344Z"
   },
   {
    "duration": 27113,
    "start_time": "2022-07-18T08:53:19.674Z"
   },
   {
    "duration": 27842,
    "start_time": "2022-07-18T08:55:55.070Z"
   },
   {
    "duration": 5,
    "start_time": "2022-07-18T09:10:42.484Z"
   },
   {
    "duration": 838,
    "start_time": "2022-07-18T09:10:44.089Z"
   },
   {
    "duration": 382,
    "start_time": "2022-07-18T09:10:45.074Z"
   },
   {
    "duration": 47,
    "start_time": "2022-07-18T09:11:12.256Z"
   },
   {
    "duration": 423,
    "start_time": "2022-07-18T09:11:13.431Z"
   },
   {
    "duration": 78,
    "start_time": "2022-07-18T09:11:21.956Z"
   },
   {
    "duration": 94,
    "start_time": "2022-07-18T09:11:24.309Z"
   },
   {
    "duration": 42,
    "start_time": "2022-07-18T09:11:27.720Z"
   },
   {
    "duration": 999,
    "start_time": "2022-07-18T09:11:36.030Z"
   },
   {
    "duration": 21,
    "start_time": "2022-07-18T09:11:37.097Z"
   },
   {
    "duration": 18,
    "start_time": "2022-07-18T09:11:45.510Z"
   },
   {
    "duration": 31,
    "start_time": "2022-07-18T09:11:56.291Z"
   },
   {
    "duration": 48,
    "start_time": "2022-07-18T09:11:57.584Z"
   },
   {
    "duration": 78,
    "start_time": "2022-07-18T09:11:58.753Z"
   },
   {
    "duration": 3,
    "start_time": "2022-07-18T09:12:00.053Z"
   },
   {
    "duration": 30701,
    "start_time": "2022-07-18T09:12:02.422Z"
   },
   {
    "duration": 3,
    "start_time": "2022-07-18T09:12:56.358Z"
   },
   {
    "duration": 30155,
    "start_time": "2022-07-18T09:12:57.689Z"
   },
   {
    "duration": 1082,
    "start_time": "2022-07-18T09:13:45.489Z"
   },
   {
    "duration": 1206,
    "start_time": "2022-07-18T09:15:40.966Z"
   },
   {
    "duration": 40158,
    "start_time": "2022-07-18T09:16:03.707Z"
   },
   {
    "duration": 91257,
    "start_time": "2022-07-18T09:18:38.915Z"
   },
   {
    "duration": 412346,
    "start_time": "2022-07-18T09:20:54.323Z"
   },
   {
    "duration": 1335,
    "start_time": "2022-07-18T09:39:05.249Z"
   },
   {
    "duration": 800,
    "start_time": "2022-07-18T09:39:06.586Z"
   },
   {
    "duration": 351,
    "start_time": "2022-07-18T09:39:07.388Z"
   },
   {
    "duration": 63,
    "start_time": "2022-07-18T09:39:07.741Z"
   },
   {
    "duration": 403,
    "start_time": "2022-07-18T09:39:07.806Z"
   },
   {
    "duration": 77,
    "start_time": "2022-07-18T09:39:08.211Z"
   },
   {
    "duration": 68,
    "start_time": "2022-07-18T09:39:08.289Z"
   },
   {
    "duration": 44,
    "start_time": "2022-07-18T09:39:08.363Z"
   },
   {
    "duration": 962,
    "start_time": "2022-07-18T09:39:08.409Z"
   },
   {
    "duration": 25,
    "start_time": "2022-07-18T09:39:09.374Z"
   },
   {
    "duration": 22,
    "start_time": "2022-07-18T09:39:09.401Z"
   },
   {
    "duration": 55,
    "start_time": "2022-07-18T09:39:09.425Z"
   },
   {
    "duration": 55,
    "start_time": "2022-07-18T09:39:09.482Z"
   },
   {
    "duration": 94,
    "start_time": "2022-07-18T09:39:09.541Z"
   },
   {
    "duration": 4,
    "start_time": "2022-07-18T09:39:09.637Z"
   },
   {
    "duration": 6,
    "start_time": "2022-07-18T09:39:09.642Z"
   },
   {
    "duration": 27036,
    "start_time": "2022-07-18T09:39:09.650Z"
   },
   {
    "duration": 0,
    "start_time": "2022-07-18T09:39:36.687Z"
   },
   {
    "duration": 0,
    "start_time": "2022-07-18T09:39:36.688Z"
   },
   {
    "duration": 0,
    "start_time": "2022-07-18T09:39:36.689Z"
   },
   {
    "duration": 0,
    "start_time": "2022-07-18T09:39:36.690Z"
   },
   {
    "duration": 0,
    "start_time": "2022-07-18T09:39:36.691Z"
   },
   {
    "duration": 4,
    "start_time": "2022-07-18T09:40:41.431Z"
   },
   {
    "duration": 3,
    "start_time": "2022-07-18T09:40:42.636Z"
   },
   {
    "duration": 26859,
    "start_time": "2022-07-18T09:40:43.693Z"
   },
   {
    "duration": 1230,
    "start_time": "2022-07-18T09:41:18.236Z"
   },
   {
    "duration": 37755,
    "start_time": "2022-07-18T09:41:19.806Z"
   },
   {
    "duration": 444008,
    "start_time": "2022-07-18T09:41:57.563Z"
   },
   {
    "duration": 451072,
    "start_time": "2022-07-18T09:49:21.573Z"
   },
   {
    "duration": 5,
    "start_time": "2022-07-18T09:56:52.647Z"
   },
   {
    "duration": 9,
    "start_time": "2022-07-18T09:57:17.491Z"
   },
   {
    "duration": 6,
    "start_time": "2022-07-18T09:57:24.387Z"
   },
   {
    "duration": 82,
    "start_time": "2022-07-18T10:30:18.327Z"
   },
   {
    "duration": 103,
    "start_time": "2022-07-18T11:09:49.451Z"
   },
   {
    "duration": 2,
    "start_time": "2022-07-18T11:10:15.216Z"
   },
   {
    "duration": 1656,
    "start_time": "2022-07-18T11:12:11.954Z"
   },
   {
    "duration": 1023,
    "start_time": "2022-07-18T11:12:13.612Z"
   },
   {
    "duration": 503,
    "start_time": "2022-07-18T11:12:14.636Z"
   },
   {
    "duration": 75,
    "start_time": "2022-07-18T11:12:15.141Z"
   },
   {
    "duration": 516,
    "start_time": "2022-07-18T11:12:15.220Z"
   },
   {
    "duration": 102,
    "start_time": "2022-07-18T11:12:15.737Z"
   },
   {
    "duration": 105,
    "start_time": "2022-07-18T11:12:15.841Z"
   },
   {
    "duration": 51,
    "start_time": "2022-07-18T11:12:15.947Z"
   },
   {
    "duration": 1273,
    "start_time": "2022-07-18T11:12:16.001Z"
   },
   {
    "duration": 38,
    "start_time": "2022-07-18T11:12:17.277Z"
   },
   {
    "duration": 22,
    "start_time": "2022-07-18T11:12:17.320Z"
   },
   {
    "duration": 57,
    "start_time": "2022-07-18T11:12:17.344Z"
   },
   {
    "duration": 76,
    "start_time": "2022-07-18T11:12:17.408Z"
   },
   {
    "duration": 107,
    "start_time": "2022-07-18T11:12:17.488Z"
   },
   {
    "duration": 5,
    "start_time": "2022-07-18T11:12:17.597Z"
   },
   {
    "duration": 23,
    "start_time": "2022-07-18T11:12:17.603Z"
   },
   {
    "duration": 34932,
    "start_time": "2022-07-18T11:12:17.628Z"
   },
   {
    "duration": 10,
    "start_time": "2022-07-18T11:12:52.562Z"
   },
   {
    "duration": 1297,
    "start_time": "2022-07-18T11:12:52.583Z"
   },
   {
    "duration": 7,
    "start_time": "2022-07-18T11:12:53.895Z"
   },
   {
    "duration": 48671,
    "start_time": "2022-07-18T11:12:53.907Z"
   },
   {
    "duration": 5,
    "start_time": "2022-07-18T11:13:42.581Z"
   },
   {
    "duration": 1839,
    "start_time": "2022-07-18T11:22:43.848Z"
   },
   {
    "duration": 1027,
    "start_time": "2022-07-18T11:22:45.690Z"
   },
   {
    "duration": 507,
    "start_time": "2022-07-18T11:22:46.720Z"
   },
   {
    "duration": 63,
    "start_time": "2022-07-18T11:22:47.228Z"
   },
   {
    "duration": 531,
    "start_time": "2022-07-18T11:22:47.296Z"
   },
   {
    "duration": 102,
    "start_time": "2022-07-18T11:22:47.829Z"
   },
   {
    "duration": 104,
    "start_time": "2022-07-18T11:22:47.933Z"
   },
   {
    "duration": 16,
    "start_time": "2022-07-18T11:22:48.039Z"
   },
   {
    "duration": 1230,
    "start_time": "2022-07-18T11:22:48.057Z"
   },
   {
    "duration": 29,
    "start_time": "2022-07-18T11:22:49.289Z"
   },
   {
    "duration": 18,
    "start_time": "2022-07-18T11:22:49.322Z"
   },
   {
    "duration": 62,
    "start_time": "2022-07-18T11:22:49.341Z"
   },
   {
    "duration": 59,
    "start_time": "2022-07-18T11:22:49.410Z"
   },
   {
    "duration": 106,
    "start_time": "2022-07-18T11:22:49.473Z"
   },
   {
    "duration": 12,
    "start_time": "2022-07-18T11:22:49.583Z"
   },
   {
    "duration": 22,
    "start_time": "2022-07-18T11:22:49.600Z"
   },
   {
    "duration": 34301,
    "start_time": "2022-07-18T11:22:49.624Z"
   },
   {
    "duration": 3,
    "start_time": "2022-07-18T11:23:23.927Z"
   },
   {
    "duration": 1445,
    "start_time": "2022-07-18T11:23:23.932Z"
   },
   {
    "duration": 18,
    "start_time": "2022-07-18T11:23:25.402Z"
   },
   {
    "duration": 47521,
    "start_time": "2022-07-18T11:23:25.421Z"
   },
   {
    "duration": 4,
    "start_time": "2022-07-18T11:24:12.944Z"
   },
   {
    "duration": 2782733,
    "start_time": "2022-07-18T11:24:12.949Z"
   },
   {
    "duration": 426262,
    "start_time": "2022-07-18T12:10:35.688Z"
   },
   {
    "duration": 2,
    "start_time": "2022-07-18T12:17:41.952Z"
   },
   {
    "duration": 20,
    "start_time": "2022-07-18T12:17:41.956Z"
   },
   {
    "duration": 1551,
    "start_time": "2022-07-19T17:27:52.904Z"
   },
   {
    "duration": 4161,
    "start_time": "2022-07-19T17:27:57.268Z"
   },
   {
    "duration": 512,
    "start_time": "2022-07-19T17:28:01.432Z"
   },
   {
    "duration": 47,
    "start_time": "2022-07-19T17:28:08.289Z"
   },
   {
    "duration": 503,
    "start_time": "2022-07-19T17:28:12.627Z"
   },
   {
    "duration": 80,
    "start_time": "2022-07-19T17:28:16.990Z"
   },
   {
    "duration": 106,
    "start_time": "2022-07-19T17:28:18.108Z"
   },
   {
    "duration": 8,
    "start_time": "2022-07-19T17:28:21.580Z"
   },
   {
    "duration": 195,
    "start_time": "2022-07-19T17:28:36.876Z"
   },
   {
    "duration": 24,
    "start_time": "2022-07-19T17:28:49.270Z"
   },
   {
    "duration": 28,
    "start_time": "2022-07-19T17:28:59.380Z"
   },
   {
    "duration": 8958,
    "start_time": "2022-07-19T17:30:21.488Z"
   },
   {
    "duration": 564,
    "start_time": "2022-07-19T17:30:43.667Z"
   },
   {
    "duration": 250,
    "start_time": "2022-07-19T17:30:56.021Z"
   },
   {
    "duration": 1007,
    "start_time": "2022-07-19T17:31:27.309Z"
   },
   {
    "duration": 26,
    "start_time": "2022-07-19T17:34:32.168Z"
   },
   {
    "duration": 1077,
    "start_time": "2022-07-19T17:34:33.920Z"
   },
   {
    "duration": 36,
    "start_time": "2022-07-19T17:34:35.178Z"
   },
   {
    "duration": 32,
    "start_time": "2022-07-19T17:34:36.200Z"
   },
   {
    "duration": 35,
    "start_time": "2022-07-19T17:34:41.247Z"
   },
   {
    "duration": 69,
    "start_time": "2022-07-19T17:34:43.182Z"
   },
   {
    "duration": 100,
    "start_time": "2022-07-19T17:34:44.264Z"
   },
   {
    "duration": 5,
    "start_time": "2022-07-19T17:34:46.866Z"
   },
   {
    "duration": 3,
    "start_time": "2022-07-19T17:34:47.670Z"
   },
   {
    "duration": 523,
    "start_time": "2022-07-19T17:34:56.478Z"
   },
   {
    "duration": 1586,
    "start_time": "2022-07-19T17:35:12.578Z"
   },
   {
    "duration": 127,
    "start_time": "2022-07-19T17:36:48.331Z"
   },
   {
    "duration": 4,
    "start_time": "2022-07-19T17:43:03.774Z"
   },
   {
    "duration": 34,
    "start_time": "2022-07-19T17:43:15.523Z"
   },
   {
    "duration": 4,
    "start_time": "2022-07-19T17:43:42.613Z"
   },
   {
    "duration": 13,
    "start_time": "2022-07-19T17:43:44.405Z"
   },
   {
    "duration": 9,
    "start_time": "2022-07-19T17:44:30.668Z"
   },
   {
    "duration": 1600,
    "start_time": "2022-07-19T17:44:32.322Z"
   },
   {
    "duration": 4,
    "start_time": "2022-07-19T17:44:43.264Z"
   },
   {
    "duration": 12,
    "start_time": "2022-07-19T17:44:44.671Z"
   },
   {
    "duration": 4,
    "start_time": "2022-07-19T17:45:56.176Z"
   },
   {
    "duration": 12,
    "start_time": "2022-07-19T17:45:56.902Z"
   },
   {
    "duration": 4,
    "start_time": "2022-07-19T17:46:18.310Z"
   },
   {
    "duration": 28,
    "start_time": "2022-07-19T17:46:18.766Z"
   },
   {
    "duration": 4,
    "start_time": "2022-07-19T17:47:18.967Z"
   },
   {
    "duration": 398,
    "start_time": "2022-07-19T17:47:20.602Z"
   },
   {
    "duration": 4,
    "start_time": "2022-07-19T17:47:40.492Z"
   },
   {
    "duration": 400,
    "start_time": "2022-07-19T17:47:42.571Z"
   },
   {
    "duration": 6,
    "start_time": "2022-07-19T17:48:04.732Z"
   },
   {
    "duration": 5603,
    "start_time": "2022-07-19T17:48:05.371Z"
   },
   {
    "duration": 4,
    "start_time": "2022-07-19T17:48:29.399Z"
   },
   {
    "duration": 5301,
    "start_time": "2022-07-19T17:48:30.082Z"
   },
   {
    "duration": 5,
    "start_time": "2022-07-19T17:48:55.301Z"
   },
   {
    "duration": 4470,
    "start_time": "2022-07-19T17:48:57.019Z"
   },
   {
    "duration": 5,
    "start_time": "2022-07-19T17:49:02.383Z"
   },
   {
    "duration": 3193,
    "start_time": "2022-07-19T17:49:02.971Z"
   },
   {
    "duration": 4,
    "start_time": "2022-07-19T17:49:15.771Z"
   },
   {
    "duration": 2847,
    "start_time": "2022-07-19T17:49:17.290Z"
   },
   {
    "duration": 7,
    "start_time": "2022-07-19T17:49:25.065Z"
   },
   {
    "duration": 3115,
    "start_time": "2022-07-19T17:49:25.778Z"
   },
   {
    "duration": 4,
    "start_time": "2022-07-19T17:49:44.622Z"
   },
   {
    "duration": 3004,
    "start_time": "2022-07-19T17:49:45.174Z"
   },
   {
    "duration": 8,
    "start_time": "2022-08-01T10:33:38.414Z"
   },
   {
    "duration": 62,
    "start_time": "2022-08-01T10:33:45.643Z"
   },
   {
    "duration": 2052,
    "start_time": "2022-08-01T10:33:54.239Z"
   },
   {
    "duration": 1482,
    "start_time": "2022-08-01T10:33:56.722Z"
   },
   {
    "duration": 433,
    "start_time": "2022-08-01T10:33:58.215Z"
   },
   {
    "duration": 43,
    "start_time": "2022-08-01T10:34:03.905Z"
   },
   {
    "duration": 444,
    "start_time": "2022-08-01T10:34:05.206Z"
   },
   {
    "duration": 81,
    "start_time": "2022-08-01T10:34:08.406Z"
   },
   {
    "duration": 84,
    "start_time": "2022-08-01T10:34:09.001Z"
   },
   {
    "duration": 3,
    "start_time": "2022-08-01T10:34:12.028Z"
   },
   {
    "duration": 7276,
    "start_time": "2022-08-01T10:34:13.131Z"
   },
   {
    "duration": 7,
    "start_time": "2022-08-01T11:32:48.587Z"
   },
   {
    "duration": 7249,
    "start_time": "2022-08-01T11:32:49.811Z"
   },
   {
    "duration": 8,
    "start_time": "2022-08-01T11:32:57.065Z"
   },
   {
    "duration": 120,
    "start_time": "2022-08-01T11:33:01.419Z"
   },
   {
    "duration": 4,
    "start_time": "2022-08-01T11:33:17.745Z"
   },
   {
    "duration": 815,
    "start_time": "2022-08-01T11:33:18.405Z"
   },
   {
    "duration": 6,
    "start_time": "2022-08-01T11:37:05.007Z"
   },
   {
    "duration": 1157,
    "start_time": "2022-08-01T11:37:08.088Z"
   },
   {
    "duration": 144,
    "start_time": "2022-08-01T11:38:06.520Z"
   },
   {
    "duration": 1248,
    "start_time": "2022-08-01T11:38:08.408Z"
   },
   {
    "duration": 1638,
    "start_time": "2022-08-01T11:38:54.486Z"
   },
   {
    "duration": 32,
    "start_time": "2022-08-01T11:42:05.715Z"
   },
   {
    "duration": 53,
    "start_time": "2022-08-01T11:42:58.994Z"
   },
   {
    "duration": 60,
    "start_time": "2022-08-01T11:46:58.534Z"
   },
   {
    "duration": 49,
    "start_time": "2022-08-01T11:47:49.784Z"
   },
   {
    "duration": 34,
    "start_time": "2022-08-01T11:48:09.705Z"
   },
   {
    "duration": 1730,
    "start_time": "2022-08-01T11:48:19.705Z"
   },
   {
    "duration": 55,
    "start_time": "2022-08-01T11:49:49.546Z"
   },
   {
    "duration": 1579,
    "start_time": "2022-08-01T11:49:50.840Z"
   },
   {
    "duration": 115,
    "start_time": "2022-08-01T11:50:22.532Z"
   },
   {
    "duration": 4,
    "start_time": "2022-08-01T11:50:32.718Z"
   },
   {
    "duration": 1142,
    "start_time": "2022-08-01T11:50:34.486Z"
   },
   {
    "duration": 578,
    "start_time": "2022-08-01T11:50:35.630Z"
   },
   {
    "duration": 80,
    "start_time": "2022-08-01T11:50:38.437Z"
   },
   {
    "duration": 531,
    "start_time": "2022-08-01T11:50:39.583Z"
   },
   {
    "duration": 135,
    "start_time": "2022-08-01T11:50:42.588Z"
   },
   {
    "duration": 160,
    "start_time": "2022-08-01T11:50:42.963Z"
   },
   {
    "duration": 6,
    "start_time": "2022-08-01T11:50:44.846Z"
   },
   {
    "duration": 1402,
    "start_time": "2022-08-01T11:50:47.357Z"
   },
   {
    "duration": 111,
    "start_time": "2022-08-01T11:50:50.741Z"
   },
   {
    "duration": 53,
    "start_time": "2022-08-01T11:51:44.945Z"
   },
   {
    "duration": 1500,
    "start_time": "2022-08-01T11:51:49.867Z"
   },
   {
    "duration": 115,
    "start_time": "2022-08-01T11:51:59.486Z"
   },
   {
    "duration": 1475,
    "start_time": "2022-08-01T11:54:50.992Z"
   },
   {
    "duration": 247,
    "start_time": "2022-08-01T11:56:09.979Z"
   },
   {
    "duration": 40,
    "start_time": "2022-08-01T11:57:10.457Z"
   },
   {
    "duration": 21,
    "start_time": "2022-08-01T11:57:42.385Z"
   },
   {
    "duration": 136,
    "start_time": "2022-08-01T11:59:56.291Z"
   },
   {
    "duration": 131,
    "start_time": "2022-08-01T12:00:07.304Z"
   },
   {
    "duration": 100,
    "start_time": "2022-08-01T12:00:39.219Z"
   },
   {
    "duration": 125,
    "start_time": "2022-08-01T12:52:07.926Z"
   },
   {
    "duration": 31,
    "start_time": "2022-08-01T12:53:44.391Z"
   },
   {
    "duration": 9,
    "start_time": "2022-08-01T12:53:55.716Z"
   },
   {
    "duration": 1077,
    "start_time": "2022-08-01T12:53:58.348Z"
   },
   {
    "duration": 571,
    "start_time": "2022-08-01T12:53:59.431Z"
   },
   {
    "duration": 42,
    "start_time": "2022-08-01T12:54:03.541Z"
   },
   {
    "duration": 552,
    "start_time": "2022-08-01T12:54:05.533Z"
   },
   {
    "duration": 100,
    "start_time": "2022-08-01T12:54:07.924Z"
   },
   {
    "duration": 135,
    "start_time": "2022-08-01T12:54:08.393Z"
   },
   {
    "duration": 9,
    "start_time": "2022-08-01T12:54:12.544Z"
   },
   {
    "duration": 1477,
    "start_time": "2022-08-01T12:54:13.741Z"
   },
   {
    "duration": 1907,
    "start_time": "2022-08-01T12:54:19.911Z"
   },
   {
    "duration": 47,
    "start_time": "2022-08-01T12:54:28.841Z"
   },
   {
    "duration": 138,
    "start_time": "2022-08-01T12:54:30.715Z"
   },
   {
    "duration": 244,
    "start_time": "2022-08-01T12:54:34.192Z"
   },
   {
    "duration": 52,
    "start_time": "2022-08-01T12:54:36.430Z"
   },
   {
    "duration": 1950,
    "start_time": "2022-08-01T12:54:50.141Z"
   },
   {
    "duration": 126,
    "start_time": "2022-08-01T12:54:58.501Z"
   },
   {
    "duration": 234,
    "start_time": "2022-08-01T12:56:44.083Z"
   },
   {
    "duration": 124,
    "start_time": "2022-08-01T12:56:47.845Z"
   },
   {
    "duration": 223,
    "start_time": "2022-08-01T12:57:31.840Z"
   },
   {
    "duration": 281,
    "start_time": "2022-08-01T12:58:35.759Z"
   },
   {
    "duration": 67,
    "start_time": "2022-08-01T13:00:33.795Z"
   },
   {
    "duration": 6,
    "start_time": "2022-08-01T13:01:07.149Z"
   },
   {
    "duration": 1059,
    "start_time": "2022-08-01T13:01:09.053Z"
   },
   {
    "duration": 687,
    "start_time": "2022-08-01T13:01:10.114Z"
   },
   {
    "duration": 132,
    "start_time": "2022-08-01T13:01:19.849Z"
   },
   {
    "duration": 47,
    "start_time": "2022-08-01T13:02:04.721Z"
   },
   {
    "duration": 626,
    "start_time": "2022-08-01T13:02:06.277Z"
   },
   {
    "duration": 120,
    "start_time": "2022-08-01T13:02:10.318Z"
   },
   {
    "duration": 154,
    "start_time": "2022-08-01T13:02:11.312Z"
   },
   {
    "duration": 20,
    "start_time": "2022-08-01T13:02:13.823Z"
   },
   {
    "duration": 48,
    "start_time": "2022-08-01T13:02:18.093Z"
   },
   {
    "duration": 132,
    "start_time": "2022-08-01T13:02:19.858Z"
   },
   {
    "duration": 210,
    "start_time": "2022-08-01T13:02:22.832Z"
   },
   {
    "duration": 141,
    "start_time": "2022-08-01T13:02:25.885Z"
   },
   {
    "duration": 224,
    "start_time": "2022-08-01T13:02:29.423Z"
   },
   {
    "duration": 73,
    "start_time": "2022-08-01T13:04:03.303Z"
   },
   {
    "duration": 185,
    "start_time": "2022-08-01T13:13:33.052Z"
   },
   {
    "duration": 102,
    "start_time": "2022-08-01T13:13:34.727Z"
   },
   {
    "duration": 147,
    "start_time": "2022-08-01T13:13:37.499Z"
   },
   {
    "duration": 300,
    "start_time": "2022-08-01T13:13:39.080Z"
   },
   {
    "duration": 76,
    "start_time": "2022-08-01T13:13:40.661Z"
   },
   {
    "duration": 226,
    "start_time": "2022-08-01T13:13:53.050Z"
   },
   {
    "duration": 15,
    "start_time": "2022-08-01T13:14:26.989Z"
   },
   {
    "duration": 498,
    "start_time": "2022-08-01T13:14:28.526Z"
   },
   {
    "duration": 993,
    "start_time": "2022-08-01T13:14:36.833Z"
   },
   {
    "duration": 37,
    "start_time": "2022-08-01T13:14:38.695Z"
   },
   {
    "duration": 36,
    "start_time": "2022-08-01T13:14:42.722Z"
   },
   {
    "duration": 30,
    "start_time": "2022-08-01T13:14:47.695Z"
   },
   {
    "duration": 186,
    "start_time": "2022-08-01T13:14:51.458Z"
   },
   {
    "duration": 53,
    "start_time": "2022-08-01T13:14:53.345Z"
   },
   {
    "duration": 68,
    "start_time": "2022-08-01T13:14:54.996Z"
   },
   {
    "duration": 296,
    "start_time": "2022-08-01T13:14:56.426Z"
   },
   {
    "duration": 4,
    "start_time": "2022-08-01T13:15:02.925Z"
   },
   {
    "duration": 3,
    "start_time": "2022-08-01T13:15:03.806Z"
   },
   {
    "duration": 28578,
    "start_time": "2022-08-01T13:15:07.254Z"
   },
   {
    "duration": 4,
    "start_time": "2022-08-01T13:15:46.554Z"
   },
   {
    "duration": 260635,
    "start_time": "2022-08-01T13:15:49.553Z"
   },
   {
    "duration": 134,
    "start_time": "2022-08-01T13:20:10.260Z"
   },
   {
    "duration": 8,
    "start_time": "2022-08-01T13:20:31.888Z"
   },
   {
    "duration": 38790,
    "start_time": "2022-08-01T13:21:40.857Z"
   },
   {
    "duration": 4,
    "start_time": "2022-08-01T13:22:19.649Z"
   },
   {
    "duration": 1682,
    "start_time": "2022-08-01T15:10:24.040Z"
   },
   {
    "duration": 971,
    "start_time": "2022-08-01T15:10:27.141Z"
   },
   {
    "duration": 531,
    "start_time": "2022-08-01T15:10:28.114Z"
   },
   {
    "duration": 50,
    "start_time": "2022-08-01T15:10:31.003Z"
   },
   {
    "duration": 452,
    "start_time": "2022-08-01T15:10:32.694Z"
   },
   {
    "duration": 96,
    "start_time": "2022-08-01T15:10:33.642Z"
   },
   {
    "duration": 87,
    "start_time": "2022-08-01T15:10:34.592Z"
   },
   {
    "duration": 50,
    "start_time": "2022-08-01T15:10:40.979Z"
   },
   {
    "duration": 96,
    "start_time": "2022-08-01T15:10:43.145Z"
   },
   {
    "duration": 191,
    "start_time": "2022-08-01T15:10:46.274Z"
   },
   {
    "duration": 228,
    "start_time": "2022-08-01T15:10:47.142Z"
   },
   {
    "duration": 10,
    "start_time": "2022-08-01T15:10:48.642Z"
   },
   {
    "duration": 457,
    "start_time": "2022-08-01T15:10:49.502Z"
   },
   {
    "duration": 1034,
    "start_time": "2022-08-01T15:10:50.898Z"
   },
   {
    "duration": 181,
    "start_time": "2022-08-01T15:10:54.494Z"
   },
   {
    "duration": 57,
    "start_time": "2022-08-01T15:10:55.725Z"
   },
   {
    "duration": 101,
    "start_time": "2022-08-01T15:10:56.135Z"
   },
   {
    "duration": 261,
    "start_time": "2022-08-01T15:10:56.747Z"
   },
   {
    "duration": 20,
    "start_time": "2022-08-01T15:10:58.751Z"
   },
   {
    "duration": 3,
    "start_time": "2022-08-01T15:10:59.188Z"
   },
   {
    "duration": 27169,
    "start_time": "2022-08-01T15:11:00.634Z"
   },
   {
    "duration": 3,
    "start_time": "2022-08-01T15:11:27.805Z"
   },
   {
    "duration": 35,
    "start_time": "2022-08-01T15:11:27.810Z"
   },
   {
    "duration": 134,
    "start_time": "2022-08-01T15:11:27.847Z"
   },
   {
    "duration": 0,
    "start_time": "2022-08-01T15:11:27.983Z"
   },
   {
    "duration": 6,
    "start_time": "2022-08-01T15:11:52.787Z"
   },
   {
    "duration": 5,
    "start_time": "2022-08-01T15:11:53.890Z"
   },
   {
    "duration": 16,
    "start_time": "2022-08-01T15:11:56.258Z"
   },
   {
    "duration": 319938,
    "start_time": "2022-08-01T15:12:25.341Z"
   },
   {
    "duration": 87,
    "start_time": "2022-08-01T15:17:45.281Z"
   },
   {
    "duration": 125,
    "start_time": "2022-08-01T15:17:45.371Z"
   },
   {
    "duration": 0,
    "start_time": "2022-08-01T15:17:45.498Z"
   },
   {
    "duration": 0,
    "start_time": "2022-08-01T15:17:45.499Z"
   },
   {
    "duration": 1625,
    "start_time": "2022-08-01T15:58:15.722Z"
   },
   {
    "duration": 937,
    "start_time": "2022-08-01T15:58:17.350Z"
   },
   {
    "duration": 462,
    "start_time": "2022-08-01T15:58:18.294Z"
   },
   {
    "duration": 55,
    "start_time": "2022-08-01T15:58:18.762Z"
   },
   {
    "duration": 468,
    "start_time": "2022-08-01T15:58:18.819Z"
   },
   {
    "duration": 76,
    "start_time": "2022-08-01T15:58:19.288Z"
   },
   {
    "duration": 107,
    "start_time": "2022-08-01T15:58:19.366Z"
   },
   {
    "duration": 27,
    "start_time": "2022-08-01T15:58:19.474Z"
   },
   {
    "duration": 1205,
    "start_time": "2022-08-01T15:58:19.503Z"
   },
   {
    "duration": 1411,
    "start_time": "2022-08-01T15:58:20.711Z"
   },
   {
    "duration": 55,
    "start_time": "2022-08-01T15:58:22.124Z"
   },
   {
    "duration": 111,
    "start_time": "2022-08-01T15:58:22.186Z"
   },
   {
    "duration": 170,
    "start_time": "2022-08-01T15:58:22.299Z"
   },
   {
    "duration": 84,
    "start_time": "2022-08-01T15:58:22.471Z"
   },
   {
    "duration": 179,
    "start_time": "2022-08-01T15:58:22.557Z"
   },
   {
    "duration": 195,
    "start_time": "2022-08-01T15:58:22.738Z"
   },
   {
    "duration": 10,
    "start_time": "2022-08-01T15:58:22.936Z"
   },
   {
    "duration": 529,
    "start_time": "2022-08-01T15:58:22.948Z"
   },
   {
    "duration": 941,
    "start_time": "2022-08-01T15:58:23.479Z"
   },
   {
    "duration": 44,
    "start_time": "2022-08-01T15:58:24.422Z"
   },
   {
    "duration": 43,
    "start_time": "2022-08-01T15:58:24.470Z"
   },
   {
    "duration": 19,
    "start_time": "2022-08-01T15:58:24.515Z"
   },
   {
    "duration": 253,
    "start_time": "2022-08-01T15:58:24.536Z"
   },
   {
    "duration": 68,
    "start_time": "2022-08-01T15:58:24.797Z"
   },
   {
    "duration": 95,
    "start_time": "2022-08-01T15:58:24.868Z"
   },
   {
    "duration": 264,
    "start_time": "2022-08-01T15:58:24.965Z"
   },
   {
    "duration": 7,
    "start_time": "2022-08-01T15:58:25.231Z"
   },
   {
    "duration": 9,
    "start_time": "2022-08-01T15:58:25.241Z"
   },
   {
    "duration": 26671,
    "start_time": "2022-08-01T15:58:25.252Z"
   },
   {
    "duration": 3,
    "start_time": "2022-08-01T15:58:51.925Z"
   },
   {
    "duration": 187784,
    "start_time": "2022-08-01T15:58:51.929Z"
   },
   {
    "duration": 45,
    "start_time": "2022-08-01T16:01:59.719Z"
   },
   {
    "duration": 37255,
    "start_time": "2022-08-01T16:01:59.771Z"
   },
   {
    "duration": 2,
    "start_time": "2022-08-01T16:02:37.028Z"
   },
   {
    "duration": 3277850,
    "start_time": "2022-08-01T16:02:37.032Z"
   },
   {
    "duration": 87,
    "start_time": "2022-08-01T16:57:14.883Z"
   },
   {
    "duration": 397163,
    "start_time": "2022-08-01T16:57:14.974Z"
   },
   {
    "duration": 3,
    "start_time": "2022-08-01T17:03:52.139Z"
   },
   {
    "duration": 7,
    "start_time": "2022-08-01T17:03:52.143Z"
   },
   {
    "duration": 5,
    "start_time": "2022-08-01T17:03:52.152Z"
   },
   {
    "duration": 39,
    "start_time": "2022-08-01T17:03:52.158Z"
   }
  ],
  "kernelspec": {
   "display_name": "Python 3 (ipykernel)",
   "language": "python",
   "name": "python3"
  },
  "language_info": {
   "codemirror_mode": {
    "name": "ipython",
    "version": 3
   },
   "file_extension": ".py",
   "mimetype": "text/x-python",
   "name": "python",
   "nbconvert_exporter": "python",
   "pygments_lexer": "ipython3",
   "version": "3.9.5"
  },
  "toc": {
   "base_numbering": 1,
   "nav_menu": {},
   "number_sections": true,
   "sideBar": true,
   "skip_h1_title": true,
   "title_cell": "Содержание",
   "title_sidebar": "Contents",
   "toc_cell": true,
   "toc_position": {
    "height": "calc(100% - 180px)",
    "left": "10px",
    "top": "150px",
    "width": "165px"
   },
   "toc_section_display": true,
   "toc_window_display": true
  }
 },
 "nbformat": 4,
 "nbformat_minor": 2
}
