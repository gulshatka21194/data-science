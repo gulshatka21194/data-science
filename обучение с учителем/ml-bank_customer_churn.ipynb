{
 "cells": [
  {
   "cell_type": "markdown",
   "metadata": {
    "toc": true
   },
   "source": [
    "<h1>Содержание<span class=\"tocSkip\"></span></h1>\n",
    "<div class=\"toc\"><ul class=\"toc-item\"><li><span><a href=\"#Подготовка-данных\" data-toc-modified-id=\"Подготовка-данных-1\"><span class=\"toc-item-num\">1&nbsp;&nbsp;</span>Подготовка данных</a></span><ul class=\"toc-item\"><li><span><a href=\"#Изучение-данных\" data-toc-modified-id=\"Изучение-данных-1.1\"><span class=\"toc-item-num\">1.1&nbsp;&nbsp;</span>Изучение данных</a></span></li><li><span><a href=\"#Вывод\" data-toc-modified-id=\"Вывод-1.2\"><span class=\"toc-item-num\">1.2&nbsp;&nbsp;</span>Вывод</a></span></li><li><span><a href=\"#Предобработка-данных\" data-toc-modified-id=\"Предобработка-данных-1.3\"><span class=\"toc-item-num\">1.3&nbsp;&nbsp;</span>Предобработка данных</a></span></li><li><span><a href=\"#Подготовка-признаков\" data-toc-modified-id=\"Подготовка-признаков-1.4\"><span class=\"toc-item-num\">1.4&nbsp;&nbsp;</span>Подготовка признаков</a></span></li><li><span><a href=\"#Вывод\" data-toc-modified-id=\"Вывод-1.5\"><span class=\"toc-item-num\">1.5&nbsp;&nbsp;</span>Вывод</a></span></li></ul></li><li><span><a href=\"#Исследование-задачи\" data-toc-modified-id=\"Исследование-задачи-2\"><span class=\"toc-item-num\">2&nbsp;&nbsp;</span>Исследование задачи</a></span><ul class=\"toc-item\"><li><span><a href=\"#Вывод\" data-toc-modified-id=\"Вывод-2.1\"><span class=\"toc-item-num\">2.1&nbsp;&nbsp;</span>Вывод</a></span></li></ul></li><li><span><a href=\"#Борьба-с-дисбалансом\" data-toc-modified-id=\"Борьба-с-дисбалансом-3\"><span class=\"toc-item-num\">3&nbsp;&nbsp;</span>Борьба с дисбалансом</a></span><ul class=\"toc-item\"><li><span><a href=\"#Взвешивание-классов\" data-toc-modified-id=\"Взвешивание-классов-3.1\"><span class=\"toc-item-num\">3.1&nbsp;&nbsp;</span>Взвешивание классов</a></span></li><li><span><a href=\"#Увеличение-выборки\" data-toc-modified-id=\"Увеличение-выборки-3.2\"><span class=\"toc-item-num\">3.2&nbsp;&nbsp;</span>Увеличение выборки</a></span></li><li><span><a href=\"#Уменьшение-выборки\" data-toc-modified-id=\"Уменьшение-выборки-3.3\"><span class=\"toc-item-num\">3.3&nbsp;&nbsp;</span>Уменьшение выборки</a></span></li><li><span><a href=\"#Изменение-порога\" data-toc-modified-id=\"Изменение-порога-3.4\"><span class=\"toc-item-num\">3.4&nbsp;&nbsp;</span>Изменение порога</a></span></li><li><span><a href=\"#Вывод\" data-toc-modified-id=\"Вывод-3.5\"><span class=\"toc-item-num\">3.5&nbsp;&nbsp;</span>Вывод</a></span></li></ul></li><li><span><a href=\"#Тестирование-модели\" data-toc-modified-id=\"Тестирование-модели-4\"><span class=\"toc-item-num\">4&nbsp;&nbsp;</span>Тестирование модели</a></span><ul class=\"toc-item\"><li><span><a href=\"#Вывод\" data-toc-modified-id=\"Вывод-4.1\"><span class=\"toc-item-num\">4.1&nbsp;&nbsp;</span>Вывод</a></span></li></ul></li><li><span><a href=\"#Общий-вывод\" data-toc-modified-id=\"Общий-вывод-5\"><span class=\"toc-item-num\">5&nbsp;&nbsp;</span>Общий вывод</a></span></li><li><span><a href=\"#Чек-лист-готовности-проекта\" data-toc-modified-id=\"Чек-лист-готовности-проекта-6\"><span class=\"toc-item-num\">6&nbsp;&nbsp;</span>Чек-лист готовности проекта</a></span></li></ul></div>"
   ]
  },
  {
   "cell_type": "markdown",
   "metadata": {},
   "source": [
    "# Отток клиентов банка"
   ]
  },
  {
   "cell_type": "markdown",
   "metadata": {},
   "source": [
    "## Подготовка данных"
   ]
  },
  {
   "cell_type": "markdown",
   "metadata": {},
   "source": [
    "### Изучение данных"
   ]
  },
  {
   "cell_type": "code",
   "execution_count": 1,
   "metadata": {},
   "outputs": [],
   "source": [
    "import pandas as pd, numpy as np #импортируем библиотеки pandas\n",
    "import matplotlib.pyplot as plt #импортируем библиотеку plt\n",
    "from sklearn.model_selection import train_test_split #импортируем библиотеку train_test_split\n",
    "from sklearn.tree import DecisionTreeClassifier #импортируем библиотеку DecisionTreeClassifier\n",
    "from sklearn.ensemble import RandomForestClassifier #импортируем библиотеку RandomForestClassifier\n",
    "from sklearn.linear_model import LogisticRegression #импортируем библиотеку LogisticRegression\n",
    "from sklearn.metrics import accuracy_score  #импортируем библиотеку accuracy_score\n",
    "from sklearn.dummy import DummyClassifier #импортируем библиотеку DummyClassifier\n",
    "from sklearn.preprocessing import StandardScaler #импортируем библиотеку StandardScaler\n",
    "from sklearn.metrics import confusion_matrix #импортируем функцию confusion_matrix\n",
    "from sklearn.metrics import f1_score #импортируем функцию f1_score\n",
    "from sklearn.metrics import roc_auc_score #импортируем функцию roc_auc_score\n",
    "from sklearn.metrics import roc_curve #импортируем функцию roc_curve\n",
    "from sklearn.utils import shuffle #импортируем функцию shuffle\n",
    "import warnings #импортируем библиотеку warnings\n",
    "warnings.filterwarnings('ignore')"
   ]
  },
  {
   "cell_type": "code",
   "execution_count": 2,
   "metadata": {},
   "outputs": [
    {
     "data": {
      "text/html": [
       "<div>\n",
       "<style scoped>\n",
       "    .dataframe tbody tr th:only-of-type {\n",
       "        vertical-align: middle;\n",
       "    }\n",
       "\n",
       "    .dataframe tbody tr th {\n",
       "        vertical-align: top;\n",
       "    }\n",
       "\n",
       "    .dataframe thead th {\n",
       "        text-align: right;\n",
       "    }\n",
       "</style>\n",
       "<table border=\"1\" class=\"dataframe\">\n",
       "  <thead>\n",
       "    <tr style=\"text-align: right;\">\n",
       "      <th></th>\n",
       "      <th>RowNumber</th>\n",
       "      <th>CustomerId</th>\n",
       "      <th>Surname</th>\n",
       "      <th>CreditScore</th>\n",
       "      <th>Geography</th>\n",
       "      <th>Gender</th>\n",
       "      <th>Age</th>\n",
       "      <th>Tenure</th>\n",
       "      <th>Balance</th>\n",
       "      <th>NumOfProducts</th>\n",
       "      <th>HasCrCard</th>\n",
       "      <th>IsActiveMember</th>\n",
       "      <th>EstimatedSalary</th>\n",
       "      <th>Exited</th>\n",
       "    </tr>\n",
       "  </thead>\n",
       "  <tbody>\n",
       "    <tr>\n",
       "      <th>0</th>\n",
       "      <td>1</td>\n",
       "      <td>15634602</td>\n",
       "      <td>Hargrave</td>\n",
       "      <td>619</td>\n",
       "      <td>France</td>\n",
       "      <td>Female</td>\n",
       "      <td>42</td>\n",
       "      <td>2.0</td>\n",
       "      <td>0.00</td>\n",
       "      <td>1</td>\n",
       "      <td>1</td>\n",
       "      <td>1</td>\n",
       "      <td>101348.88</td>\n",
       "      <td>1</td>\n",
       "    </tr>\n",
       "    <tr>\n",
       "      <th>1</th>\n",
       "      <td>2</td>\n",
       "      <td>15647311</td>\n",
       "      <td>Hill</td>\n",
       "      <td>608</td>\n",
       "      <td>Spain</td>\n",
       "      <td>Female</td>\n",
       "      <td>41</td>\n",
       "      <td>1.0</td>\n",
       "      <td>83807.86</td>\n",
       "      <td>1</td>\n",
       "      <td>0</td>\n",
       "      <td>1</td>\n",
       "      <td>112542.58</td>\n",
       "      <td>0</td>\n",
       "    </tr>\n",
       "    <tr>\n",
       "      <th>2</th>\n",
       "      <td>3</td>\n",
       "      <td>15619304</td>\n",
       "      <td>Onio</td>\n",
       "      <td>502</td>\n",
       "      <td>France</td>\n",
       "      <td>Female</td>\n",
       "      <td>42</td>\n",
       "      <td>8.0</td>\n",
       "      <td>159660.80</td>\n",
       "      <td>3</td>\n",
       "      <td>1</td>\n",
       "      <td>0</td>\n",
       "      <td>113931.57</td>\n",
       "      <td>1</td>\n",
       "    </tr>\n",
       "    <tr>\n",
       "      <th>3</th>\n",
       "      <td>4</td>\n",
       "      <td>15701354</td>\n",
       "      <td>Boni</td>\n",
       "      <td>699</td>\n",
       "      <td>France</td>\n",
       "      <td>Female</td>\n",
       "      <td>39</td>\n",
       "      <td>1.0</td>\n",
       "      <td>0.00</td>\n",
       "      <td>2</td>\n",
       "      <td>0</td>\n",
       "      <td>0</td>\n",
       "      <td>93826.63</td>\n",
       "      <td>0</td>\n",
       "    </tr>\n",
       "    <tr>\n",
       "      <th>4</th>\n",
       "      <td>5</td>\n",
       "      <td>15737888</td>\n",
       "      <td>Mitchell</td>\n",
       "      <td>850</td>\n",
       "      <td>Spain</td>\n",
       "      <td>Female</td>\n",
       "      <td>43</td>\n",
       "      <td>2.0</td>\n",
       "      <td>125510.82</td>\n",
       "      <td>1</td>\n",
       "      <td>1</td>\n",
       "      <td>1</td>\n",
       "      <td>79084.10</td>\n",
       "      <td>0</td>\n",
       "    </tr>\n",
       "    <tr>\n",
       "      <th>5</th>\n",
       "      <td>6</td>\n",
       "      <td>15574012</td>\n",
       "      <td>Chu</td>\n",
       "      <td>645</td>\n",
       "      <td>Spain</td>\n",
       "      <td>Male</td>\n",
       "      <td>44</td>\n",
       "      <td>8.0</td>\n",
       "      <td>113755.78</td>\n",
       "      <td>2</td>\n",
       "      <td>1</td>\n",
       "      <td>0</td>\n",
       "      <td>149756.71</td>\n",
       "      <td>1</td>\n",
       "    </tr>\n",
       "    <tr>\n",
       "      <th>6</th>\n",
       "      <td>7</td>\n",
       "      <td>15592531</td>\n",
       "      <td>Bartlett</td>\n",
       "      <td>822</td>\n",
       "      <td>France</td>\n",
       "      <td>Male</td>\n",
       "      <td>50</td>\n",
       "      <td>7.0</td>\n",
       "      <td>0.00</td>\n",
       "      <td>2</td>\n",
       "      <td>1</td>\n",
       "      <td>1</td>\n",
       "      <td>10062.80</td>\n",
       "      <td>0</td>\n",
       "    </tr>\n",
       "    <tr>\n",
       "      <th>7</th>\n",
       "      <td>8</td>\n",
       "      <td>15656148</td>\n",
       "      <td>Obinna</td>\n",
       "      <td>376</td>\n",
       "      <td>Germany</td>\n",
       "      <td>Female</td>\n",
       "      <td>29</td>\n",
       "      <td>4.0</td>\n",
       "      <td>115046.74</td>\n",
       "      <td>4</td>\n",
       "      <td>1</td>\n",
       "      <td>0</td>\n",
       "      <td>119346.88</td>\n",
       "      <td>1</td>\n",
       "    </tr>\n",
       "    <tr>\n",
       "      <th>8</th>\n",
       "      <td>9</td>\n",
       "      <td>15792365</td>\n",
       "      <td>He</td>\n",
       "      <td>501</td>\n",
       "      <td>France</td>\n",
       "      <td>Male</td>\n",
       "      <td>44</td>\n",
       "      <td>4.0</td>\n",
       "      <td>142051.07</td>\n",
       "      <td>2</td>\n",
       "      <td>0</td>\n",
       "      <td>1</td>\n",
       "      <td>74940.50</td>\n",
       "      <td>0</td>\n",
       "    </tr>\n",
       "    <tr>\n",
       "      <th>9</th>\n",
       "      <td>10</td>\n",
       "      <td>15592389</td>\n",
       "      <td>H?</td>\n",
       "      <td>684</td>\n",
       "      <td>France</td>\n",
       "      <td>Male</td>\n",
       "      <td>27</td>\n",
       "      <td>2.0</td>\n",
       "      <td>134603.88</td>\n",
       "      <td>1</td>\n",
       "      <td>1</td>\n",
       "      <td>1</td>\n",
       "      <td>71725.73</td>\n",
       "      <td>0</td>\n",
       "    </tr>\n",
       "  </tbody>\n",
       "</table>\n",
       "</div>"
      ],
      "text/plain": [
       "   RowNumber  CustomerId   Surname  CreditScore Geography  Gender  Age  \\\n",
       "0          1    15634602  Hargrave          619    France  Female   42   \n",
       "1          2    15647311      Hill          608     Spain  Female   41   \n",
       "2          3    15619304      Onio          502    France  Female   42   \n",
       "3          4    15701354      Boni          699    France  Female   39   \n",
       "4          5    15737888  Mitchell          850     Spain  Female   43   \n",
       "5          6    15574012       Chu          645     Spain    Male   44   \n",
       "6          7    15592531  Bartlett          822    France    Male   50   \n",
       "7          8    15656148    Obinna          376   Germany  Female   29   \n",
       "8          9    15792365        He          501    France    Male   44   \n",
       "9         10    15592389        H?          684    France    Male   27   \n",
       "\n",
       "   Tenure    Balance  NumOfProducts  HasCrCard  IsActiveMember  \\\n",
       "0     2.0       0.00              1          1               1   \n",
       "1     1.0   83807.86              1          0               1   \n",
       "2     8.0  159660.80              3          1               0   \n",
       "3     1.0       0.00              2          0               0   \n",
       "4     2.0  125510.82              1          1               1   \n",
       "5     8.0  113755.78              2          1               0   \n",
       "6     7.0       0.00              2          1               1   \n",
       "7     4.0  115046.74              4          1               0   \n",
       "8     4.0  142051.07              2          0               1   \n",
       "9     2.0  134603.88              1          1               1   \n",
       "\n",
       "   EstimatedSalary  Exited  \n",
       "0        101348.88       1  \n",
       "1        112542.58       0  \n",
       "2        113931.57       1  \n",
       "3         93826.63       0  \n",
       "4         79084.10       0  \n",
       "5        149756.71       1  \n",
       "6         10062.80       0  \n",
       "7        119346.88       1  \n",
       "8         74940.50       0  \n",
       "9         71725.73       0  "
      ]
     },
     "execution_count": 2,
     "metadata": {},
     "output_type": "execute_result"
    }
   ],
   "source": [
    "data = pd.read_csv('/datasets/Churn.csv') #считаем файл с данными и сохраним в data\n",
    "data.head(10) #получим первые 10 строк таблицы data"
   ]
  },
  {
   "cell_type": "code",
   "execution_count": 3,
   "metadata": {},
   "outputs": [
    {
     "name": "stdout",
     "output_type": "stream",
     "text": [
      "<class 'pandas.core.frame.DataFrame'>\n",
      "RangeIndex: 10000 entries, 0 to 9999\n",
      "Data columns (total 14 columns):\n",
      " #   Column           Non-Null Count  Dtype  \n",
      "---  ------           --------------  -----  \n",
      " 0   RowNumber        10000 non-null  int64  \n",
      " 1   CustomerId       10000 non-null  int64  \n",
      " 2   Surname          10000 non-null  object \n",
      " 3   CreditScore      10000 non-null  int64  \n",
      " 4   Geography        10000 non-null  object \n",
      " 5   Gender           10000 non-null  object \n",
      " 6   Age              10000 non-null  int64  \n",
      " 7   Tenure           9091 non-null   float64\n",
      " 8   Balance          10000 non-null  float64\n",
      " 9   NumOfProducts    10000 non-null  int64  \n",
      " 10  HasCrCard        10000 non-null  int64  \n",
      " 11  IsActiveMember   10000 non-null  int64  \n",
      " 12  EstimatedSalary  10000 non-null  float64\n",
      " 13  Exited           10000 non-null  int64  \n",
      "dtypes: float64(3), int64(8), object(3)\n",
      "memory usage: 1.1+ MB\n"
     ]
    },
    {
     "data": {
      "text/html": [
       "<div>\n",
       "<style scoped>\n",
       "    .dataframe tbody tr th:only-of-type {\n",
       "        vertical-align: middle;\n",
       "    }\n",
       "\n",
       "    .dataframe tbody tr th {\n",
       "        vertical-align: top;\n",
       "    }\n",
       "\n",
       "    .dataframe thead th {\n",
       "        text-align: right;\n",
       "    }\n",
       "</style>\n",
       "<table border=\"1\" class=\"dataframe\">\n",
       "  <thead>\n",
       "    <tr style=\"text-align: right;\">\n",
       "      <th></th>\n",
       "      <th>RowNumber</th>\n",
       "      <th>CustomerId</th>\n",
       "      <th>CreditScore</th>\n",
       "      <th>Age</th>\n",
       "      <th>Tenure</th>\n",
       "      <th>Balance</th>\n",
       "      <th>NumOfProducts</th>\n",
       "      <th>HasCrCard</th>\n",
       "      <th>IsActiveMember</th>\n",
       "      <th>EstimatedSalary</th>\n",
       "      <th>Exited</th>\n",
       "    </tr>\n",
       "  </thead>\n",
       "  <tbody>\n",
       "    <tr>\n",
       "      <th>count</th>\n",
       "      <td>10000.00000</td>\n",
       "      <td>1.000000e+04</td>\n",
       "      <td>10000.000000</td>\n",
       "      <td>10000.000000</td>\n",
       "      <td>9091.000000</td>\n",
       "      <td>10000.000000</td>\n",
       "      <td>10000.000000</td>\n",
       "      <td>10000.00000</td>\n",
       "      <td>10000.000000</td>\n",
       "      <td>10000.000000</td>\n",
       "      <td>10000.000000</td>\n",
       "    </tr>\n",
       "    <tr>\n",
       "      <th>mean</th>\n",
       "      <td>5000.50000</td>\n",
       "      <td>1.569094e+07</td>\n",
       "      <td>650.528800</td>\n",
       "      <td>38.921800</td>\n",
       "      <td>4.997690</td>\n",
       "      <td>76485.889288</td>\n",
       "      <td>1.530200</td>\n",
       "      <td>0.70550</td>\n",
       "      <td>0.515100</td>\n",
       "      <td>100090.239881</td>\n",
       "      <td>0.203700</td>\n",
       "    </tr>\n",
       "    <tr>\n",
       "      <th>std</th>\n",
       "      <td>2886.89568</td>\n",
       "      <td>7.193619e+04</td>\n",
       "      <td>96.653299</td>\n",
       "      <td>10.487806</td>\n",
       "      <td>2.894723</td>\n",
       "      <td>62397.405202</td>\n",
       "      <td>0.581654</td>\n",
       "      <td>0.45584</td>\n",
       "      <td>0.499797</td>\n",
       "      <td>57510.492818</td>\n",
       "      <td>0.402769</td>\n",
       "    </tr>\n",
       "    <tr>\n",
       "      <th>min</th>\n",
       "      <td>1.00000</td>\n",
       "      <td>1.556570e+07</td>\n",
       "      <td>350.000000</td>\n",
       "      <td>18.000000</td>\n",
       "      <td>0.000000</td>\n",
       "      <td>0.000000</td>\n",
       "      <td>1.000000</td>\n",
       "      <td>0.00000</td>\n",
       "      <td>0.000000</td>\n",
       "      <td>11.580000</td>\n",
       "      <td>0.000000</td>\n",
       "    </tr>\n",
       "    <tr>\n",
       "      <th>25%</th>\n",
       "      <td>2500.75000</td>\n",
       "      <td>1.562853e+07</td>\n",
       "      <td>584.000000</td>\n",
       "      <td>32.000000</td>\n",
       "      <td>2.000000</td>\n",
       "      <td>0.000000</td>\n",
       "      <td>1.000000</td>\n",
       "      <td>0.00000</td>\n",
       "      <td>0.000000</td>\n",
       "      <td>51002.110000</td>\n",
       "      <td>0.000000</td>\n",
       "    </tr>\n",
       "    <tr>\n",
       "      <th>50%</th>\n",
       "      <td>5000.50000</td>\n",
       "      <td>1.569074e+07</td>\n",
       "      <td>652.000000</td>\n",
       "      <td>37.000000</td>\n",
       "      <td>5.000000</td>\n",
       "      <td>97198.540000</td>\n",
       "      <td>1.000000</td>\n",
       "      <td>1.00000</td>\n",
       "      <td>1.000000</td>\n",
       "      <td>100193.915000</td>\n",
       "      <td>0.000000</td>\n",
       "    </tr>\n",
       "    <tr>\n",
       "      <th>75%</th>\n",
       "      <td>7500.25000</td>\n",
       "      <td>1.575323e+07</td>\n",
       "      <td>718.000000</td>\n",
       "      <td>44.000000</td>\n",
       "      <td>7.000000</td>\n",
       "      <td>127644.240000</td>\n",
       "      <td>2.000000</td>\n",
       "      <td>1.00000</td>\n",
       "      <td>1.000000</td>\n",
       "      <td>149388.247500</td>\n",
       "      <td>0.000000</td>\n",
       "    </tr>\n",
       "    <tr>\n",
       "      <th>max</th>\n",
       "      <td>10000.00000</td>\n",
       "      <td>1.581569e+07</td>\n",
       "      <td>850.000000</td>\n",
       "      <td>92.000000</td>\n",
       "      <td>10.000000</td>\n",
       "      <td>250898.090000</td>\n",
       "      <td>4.000000</td>\n",
       "      <td>1.00000</td>\n",
       "      <td>1.000000</td>\n",
       "      <td>199992.480000</td>\n",
       "      <td>1.000000</td>\n",
       "    </tr>\n",
       "  </tbody>\n",
       "</table>\n",
       "</div>"
      ],
      "text/plain": [
       "         RowNumber    CustomerId   CreditScore           Age       Tenure  \\\n",
       "count  10000.00000  1.000000e+04  10000.000000  10000.000000  9091.000000   \n",
       "mean    5000.50000  1.569094e+07    650.528800     38.921800     4.997690   \n",
       "std     2886.89568  7.193619e+04     96.653299     10.487806     2.894723   \n",
       "min        1.00000  1.556570e+07    350.000000     18.000000     0.000000   \n",
       "25%     2500.75000  1.562853e+07    584.000000     32.000000     2.000000   \n",
       "50%     5000.50000  1.569074e+07    652.000000     37.000000     5.000000   \n",
       "75%     7500.25000  1.575323e+07    718.000000     44.000000     7.000000   \n",
       "max    10000.00000  1.581569e+07    850.000000     92.000000    10.000000   \n",
       "\n",
       "             Balance  NumOfProducts    HasCrCard  IsActiveMember  \\\n",
       "count   10000.000000   10000.000000  10000.00000    10000.000000   \n",
       "mean    76485.889288       1.530200      0.70550        0.515100   \n",
       "std     62397.405202       0.581654      0.45584        0.499797   \n",
       "min         0.000000       1.000000      0.00000        0.000000   \n",
       "25%         0.000000       1.000000      0.00000        0.000000   \n",
       "50%     97198.540000       1.000000      1.00000        1.000000   \n",
       "75%    127644.240000       2.000000      1.00000        1.000000   \n",
       "max    250898.090000       4.000000      1.00000        1.000000   \n",
       "\n",
       "       EstimatedSalary        Exited  \n",
       "count     10000.000000  10000.000000  \n",
       "mean     100090.239881      0.203700  \n",
       "std       57510.492818      0.402769  \n",
       "min          11.580000      0.000000  \n",
       "25%       51002.110000      0.000000  \n",
       "50%      100193.915000      0.000000  \n",
       "75%      149388.247500      0.000000  \n",
       "max      199992.480000      1.000000  "
      ]
     },
     "execution_count": 3,
     "metadata": {},
     "output_type": "execute_result"
    }
   ],
   "source": [
    "data.info() #получим общую информацию о данных в таблице data\n",
    "data.describe() #получим также разброс значений, максимум, минимум, среднее и медиану"
   ]
  },
  {
   "cell_type": "code",
   "execution_count": 4,
   "metadata": {},
   "outputs": [
    {
     "data": {
      "text/plain": [
       "RowNumber          0.0000\n",
       "CustomerId         0.0000\n",
       "Surname            0.0000\n",
       "CreditScore        0.0000\n",
       "Geography          0.0000\n",
       "Gender             0.0000\n",
       "Age                0.0000\n",
       "Tenure             0.0909\n",
       "Balance            0.0000\n",
       "NumOfProducts      0.0000\n",
       "HasCrCard          0.0000\n",
       "IsActiveMember     0.0000\n",
       "EstimatedSalary    0.0000\n",
       "Exited             0.0000\n",
       "dtype: float64"
      ]
     },
     "execution_count": 4,
     "metadata": {},
     "output_type": "execute_result"
    }
   ],
   "source": [
    "data.isna().mean() #получим долю пропущенных значений среди всех данных"
   ]
  },
  {
   "cell_type": "code",
   "execution_count": 5,
   "metadata": {},
   "outputs": [
    {
     "data": {
      "text/plain": [
       "0"
      ]
     },
     "execution_count": 5,
     "metadata": {},
     "output_type": "execute_result"
    }
   ],
   "source": [
    "data.duplicated().sum() #получим количество дубликатов"
   ]
  },
  {
   "cell_type": "markdown",
   "metadata": {},
   "source": [
    "### Вывод"
   ]
  },
  {
   "cell_type": "markdown",
   "metadata": {},
   "source": [
    "В таблице 14 столбцов. Типы данных в столбцах — object, int64, float64.\n",
    "\n",
    "В названии колонок присутствует нарушение стиля.\n",
    "\n",
    "Количество значений в столбцах различается. Значит, в данных есть пропущенные значения. Конкретно в столбце - Tenure. Дубликатов нет. \n",
    "\n",
    "Обнаружены неинформативные столбцы RowNumber, CustomerId, Surname.\n",
    "\n",
    "Чтобы двигаться дальше, нужно устранить эти проблемы."
   ]
  },
  {
   "cell_type": "markdown",
   "metadata": {},
   "source": [
    "### Предобработка данных"
   ]
  },
  {
   "cell_type": "markdown",
   "metadata": {},
   "source": [
    "Столбцы RowNumber, CustomerId, Surname для дальнейшего анализа и обучения модели не понадобятся, их можно удалить."
   ]
  },
  {
   "cell_type": "code",
   "execution_count": 6,
   "metadata": {},
   "outputs": [],
   "source": [
    "data = data.drop(columns=['RowNumber', 'CustomerId', 'Surname'], axis=1) #удалим столбцы 'RowNumber', 'CustomerId', 'Surname'"
   ]
  },
  {
   "cell_type": "markdown",
   "metadata": {},
   "source": [
    "Проверим данные на зависимость, чтобы в случае высокой связи исключить какой-либо признак."
   ]
  },
  {
   "cell_type": "code",
   "execution_count": 7,
   "metadata": {},
   "outputs": [
    {
     "data": {
      "text/html": [
       "<div>\n",
       "<style scoped>\n",
       "    .dataframe tbody tr th:only-of-type {\n",
       "        vertical-align: middle;\n",
       "    }\n",
       "\n",
       "    .dataframe tbody tr th {\n",
       "        vertical-align: top;\n",
       "    }\n",
       "\n",
       "    .dataframe thead th {\n",
       "        text-align: right;\n",
       "    }\n",
       "</style>\n",
       "<table border=\"1\" class=\"dataframe\">\n",
       "  <thead>\n",
       "    <tr style=\"text-align: right;\">\n",
       "      <th></th>\n",
       "      <th>CreditScore</th>\n",
       "      <th>Age</th>\n",
       "      <th>Tenure</th>\n",
       "      <th>Balance</th>\n",
       "      <th>NumOfProducts</th>\n",
       "      <th>HasCrCard</th>\n",
       "      <th>IsActiveMember</th>\n",
       "      <th>EstimatedSalary</th>\n",
       "      <th>Exited</th>\n",
       "    </tr>\n",
       "  </thead>\n",
       "  <tbody>\n",
       "    <tr>\n",
       "      <th>CreditScore</th>\n",
       "      <td>1.000000</td>\n",
       "      <td>-0.003965</td>\n",
       "      <td>-0.000062</td>\n",
       "      <td>0.006268</td>\n",
       "      <td>0.012238</td>\n",
       "      <td>-0.005458</td>\n",
       "      <td>0.025651</td>\n",
       "      <td>-0.001384</td>\n",
       "      <td>-0.027094</td>\n",
       "    </tr>\n",
       "    <tr>\n",
       "      <th>Age</th>\n",
       "      <td>-0.003965</td>\n",
       "      <td>1.000000</td>\n",
       "      <td>-0.013134</td>\n",
       "      <td>0.028308</td>\n",
       "      <td>-0.030680</td>\n",
       "      <td>-0.011721</td>\n",
       "      <td>0.085472</td>\n",
       "      <td>-0.007201</td>\n",
       "      <td>0.285323</td>\n",
       "    </tr>\n",
       "    <tr>\n",
       "      <th>Tenure</th>\n",
       "      <td>-0.000062</td>\n",
       "      <td>-0.013134</td>\n",
       "      <td>1.000000</td>\n",
       "      <td>-0.007911</td>\n",
       "      <td>0.011979</td>\n",
       "      <td>0.027232</td>\n",
       "      <td>-0.032178</td>\n",
       "      <td>0.010520</td>\n",
       "      <td>-0.016761</td>\n",
       "    </tr>\n",
       "    <tr>\n",
       "      <th>Balance</th>\n",
       "      <td>0.006268</td>\n",
       "      <td>0.028308</td>\n",
       "      <td>-0.007911</td>\n",
       "      <td>1.000000</td>\n",
       "      <td>-0.304180</td>\n",
       "      <td>-0.014858</td>\n",
       "      <td>-0.010084</td>\n",
       "      <td>0.012797</td>\n",
       "      <td>0.118533</td>\n",
       "    </tr>\n",
       "    <tr>\n",
       "      <th>NumOfProducts</th>\n",
       "      <td>0.012238</td>\n",
       "      <td>-0.030680</td>\n",
       "      <td>0.011979</td>\n",
       "      <td>-0.304180</td>\n",
       "      <td>1.000000</td>\n",
       "      <td>0.003183</td>\n",
       "      <td>0.009612</td>\n",
       "      <td>0.014204</td>\n",
       "      <td>-0.047820</td>\n",
       "    </tr>\n",
       "    <tr>\n",
       "      <th>HasCrCard</th>\n",
       "      <td>-0.005458</td>\n",
       "      <td>-0.011721</td>\n",
       "      <td>0.027232</td>\n",
       "      <td>-0.014858</td>\n",
       "      <td>0.003183</td>\n",
       "      <td>1.000000</td>\n",
       "      <td>-0.011866</td>\n",
       "      <td>-0.009933</td>\n",
       "      <td>-0.007138</td>\n",
       "    </tr>\n",
       "    <tr>\n",
       "      <th>IsActiveMember</th>\n",
       "      <td>0.025651</td>\n",
       "      <td>0.085472</td>\n",
       "      <td>-0.032178</td>\n",
       "      <td>-0.010084</td>\n",
       "      <td>0.009612</td>\n",
       "      <td>-0.011866</td>\n",
       "      <td>1.000000</td>\n",
       "      <td>-0.011421</td>\n",
       "      <td>-0.156128</td>\n",
       "    </tr>\n",
       "    <tr>\n",
       "      <th>EstimatedSalary</th>\n",
       "      <td>-0.001384</td>\n",
       "      <td>-0.007201</td>\n",
       "      <td>0.010520</td>\n",
       "      <td>0.012797</td>\n",
       "      <td>0.014204</td>\n",
       "      <td>-0.009933</td>\n",
       "      <td>-0.011421</td>\n",
       "      <td>1.000000</td>\n",
       "      <td>0.012097</td>\n",
       "    </tr>\n",
       "    <tr>\n",
       "      <th>Exited</th>\n",
       "      <td>-0.027094</td>\n",
       "      <td>0.285323</td>\n",
       "      <td>-0.016761</td>\n",
       "      <td>0.118533</td>\n",
       "      <td>-0.047820</td>\n",
       "      <td>-0.007138</td>\n",
       "      <td>-0.156128</td>\n",
       "      <td>0.012097</td>\n",
       "      <td>1.000000</td>\n",
       "    </tr>\n",
       "  </tbody>\n",
       "</table>\n",
       "</div>"
      ],
      "text/plain": [
       "                 CreditScore       Age    Tenure   Balance  NumOfProducts  \\\n",
       "CreditScore         1.000000 -0.003965 -0.000062  0.006268       0.012238   \n",
       "Age                -0.003965  1.000000 -0.013134  0.028308      -0.030680   \n",
       "Tenure             -0.000062 -0.013134  1.000000 -0.007911       0.011979   \n",
       "Balance             0.006268  0.028308 -0.007911  1.000000      -0.304180   \n",
       "NumOfProducts       0.012238 -0.030680  0.011979 -0.304180       1.000000   \n",
       "HasCrCard          -0.005458 -0.011721  0.027232 -0.014858       0.003183   \n",
       "IsActiveMember      0.025651  0.085472 -0.032178 -0.010084       0.009612   \n",
       "EstimatedSalary    -0.001384 -0.007201  0.010520  0.012797       0.014204   \n",
       "Exited             -0.027094  0.285323 -0.016761  0.118533      -0.047820   \n",
       "\n",
       "                 HasCrCard  IsActiveMember  EstimatedSalary    Exited  \n",
       "CreditScore      -0.005458        0.025651        -0.001384 -0.027094  \n",
       "Age              -0.011721        0.085472        -0.007201  0.285323  \n",
       "Tenure            0.027232       -0.032178         0.010520 -0.016761  \n",
       "Balance          -0.014858       -0.010084         0.012797  0.118533  \n",
       "NumOfProducts     0.003183        0.009612         0.014204 -0.047820  \n",
       "HasCrCard         1.000000       -0.011866        -0.009933 -0.007138  \n",
       "IsActiveMember   -0.011866        1.000000        -0.011421 -0.156128  \n",
       "EstimatedSalary  -0.009933       -0.011421         1.000000  0.012097  \n",
       "Exited           -0.007138       -0.156128         0.012097  1.000000  "
      ]
     },
     "execution_count": 7,
     "metadata": {},
     "output_type": "execute_result"
    }
   ],
   "source": [
    "data.corr() #посчитаем корреляцию "
   ]
  },
  {
   "cell_type": "markdown",
   "metadata": {},
   "source": [
    "Корреляция минимальная, исключать признаки не нужно."
   ]
  },
  {
   "cell_type": "markdown",
   "metadata": {},
   "source": [
    "Также приведем наименования столбцов к змеиному регистру для удобства работы и восприятия."
   ]
  },
  {
   "cell_type": "code",
   "execution_count": 8,
   "metadata": {},
   "outputs": [],
   "source": [
    " #заменим наименования столбцов\n",
    "data = data.rename(columns = {\"CreditScore\" : \"credit_score\",\n",
    "                              \"NumOfProducts\" : \"num_of_products\",\n",
    "                              \"HasCrCard\" : \"has_cr_card\",\n",
    "                              \"IsActiveMember\" : \"is_active_member\",\n",
    "                              \"EstimatedSalary\" : \"estimated_salary\"})"
   ]
  },
  {
   "cell_type": "code",
   "execution_count": 9,
   "metadata": {},
   "outputs": [],
   "source": [
    "data.columns = data.columns.str.lower() #приведем наименования столбцов к нижнему регистру "
   ]
  },
  {
   "cell_type": "markdown",
   "metadata": {},
   "source": [
    "В столбце tenure есть пропуски, их надо обработать. Происхождение пропусков нам неизвестно, поэтому посмотрим на распределение данных, среднее и медиану."
   ]
  },
  {
   "cell_type": "code",
   "execution_count": 10,
   "metadata": {},
   "outputs": [
    {
     "data": {
      "image/png": "[encoded data removed]",
      "text/plain": [
       "<Figure size 432x288 with 1 Axes>"
      ]
     },
     "metadata": {
      "needs_background": "light"
     },
     "output_type": "display_data"
    }
   ],
   "source": [
    "data['tenure'].hist(bins=11) #построим гистограмму для data['tenure'] с количеством корзин 11\n",
    "plt.show()"
   ]
  },
  {
   "cell_type": "code",
   "execution_count": 11,
   "metadata": {},
   "outputs": [
    {
     "data": {
      "text/plain": [
       "1.0     952\n",
       "2.0     950\n",
       "8.0     933\n",
       "3.0     928\n",
       "5.0     927\n",
       "7.0     925\n",
       "4.0     885\n",
       "9.0     882\n",
       "6.0     881\n",
       "10.0    446\n",
       "0.0     382\n",
       "Name: tenure, dtype: int64"
      ]
     },
     "metadata": {},
     "output_type": "display_data"
    },
    {
     "data": {
      "text/plain": [
       "count    9091.000000\n",
       "mean        4.997690\n",
       "std         2.894723\n",
       "min         0.000000\n",
       "25%         2.000000\n",
       "50%         5.000000\n",
       "75%         7.000000\n",
       "max        10.000000\n",
       "Name: tenure, dtype: float64"
      ]
     },
     "execution_count": 11,
     "metadata": {},
     "output_type": "execute_result"
    }
   ],
   "source": [
    "display(data['tenure'].value_counts()) #выведем количество значений столбца 'tenure'\n",
    "data['tenure'].describe() #получим разброс значений, максимум, минимум, среднее и медиану"
   ]
  },
  {
   "cell_type": "markdown",
   "metadata": {},
   "source": [
    "Среднее и медиана практически одного значения. Но заполнив пропуски медианой или средним, можно получить пиковое значение, а это в свою очередь нарушит распределение.\n",
    "\n",
    "Целесообразней заполнить пропуски рандомными значениями."
   ]
  },
  {
   "cell_type": "code",
   "execution_count": 12,
   "metadata": {},
   "outputs": [],
   "source": [
    "np.random.seed(42) #инициализируем последовательность\n",
    "data.loc[data['tenure'].isna(), 'tenure'] = np.random.randint(0, 10 , size=data['tenure'].isna().sum()) #генерируем случайные числа в столбце 'tenure' для пропущенных значений"
   ]
  },
  {
   "cell_type": "markdown",
   "metadata": {},
   "source": [
    " Проверим типы столбцов."
   ]
  },
  {
   "cell_type": "code",
   "execution_count": 13,
   "metadata": {},
   "outputs": [
    {
     "data": {
      "text/plain": [
       "credit_score          int64\n",
       "geography            object\n",
       "gender               object\n",
       "age                   int64\n",
       "tenure              float64\n",
       "balance             float64\n",
       "num_of_products       int64\n",
       "has_cr_card           int64\n",
       "is_active_member      int64\n",
       "estimated_salary    float64\n",
       "exited                int64\n",
       "dtype: object"
      ]
     },
     "execution_count": 13,
     "metadata": {},
     "output_type": "execute_result"
    }
   ],
   "source": [
    "data.dtypes #получим типы данных"
   ]
  },
  {
   "cell_type": "markdown",
   "metadata": {},
   "source": [
    "Изменим тип float64 на int64 для уменьшения потребления памяти."
   ]
  },
  {
   "cell_type": "code",
   "execution_count": 14,
   "metadata": {},
   "outputs": [
    {
     "data": {
      "text/plain": [
       "credit_score         int64\n",
       "geography           object\n",
       "gender              object\n",
       "age                  int64\n",
       "tenure               int64\n",
       "balance              int64\n",
       "num_of_products      int64\n",
       "has_cr_card          int64\n",
       "is_active_member     int64\n",
       "estimated_salary     int64\n",
       "exited               int64\n",
       "dtype: object"
      ]
     },
     "execution_count": 14,
     "metadata": {},
     "output_type": "execute_result"
    }
   ],
   "source": [
    "data = data.astype({'tenure':int, 'balance':int, 'estimated_salary':int}) #изменим типы столбцов на int\n",
    "data.dtypes #получим типы данных"
   ]
  },
  {
   "cell_type": "markdown",
   "metadata": {},
   "source": [
    "### Подготовка признаков"
   ]
  },
  {
   "cell_type": "markdown",
   "metadata": {},
   "source": [
    "У нас есть категориальные признаки. Необходимо преобразовать их в численные, применением метода OHE, учитывая ловушку фиктивных признаков."
   ]
  },
  {
   "cell_type": "code",
   "execution_count": 15,
   "metadata": {},
   "outputs": [
    {
     "data": {
      "text/html": [
       "<div>\n",
       "<style scoped>\n",
       "    .dataframe tbody tr th:only-of-type {\n",
       "        vertical-align: middle;\n",
       "    }\n",
       "\n",
       "    .dataframe tbody tr th {\n",
       "        vertical-align: top;\n",
       "    }\n",
       "\n",
       "    .dataframe thead th {\n",
       "        text-align: right;\n",
       "    }\n",
       "</style>\n",
       "<table border=\"1\" class=\"dataframe\">\n",
       "  <thead>\n",
       "    <tr style=\"text-align: right;\">\n",
       "      <th></th>\n",
       "      <th>credit_score</th>\n",
       "      <th>age</th>\n",
       "      <th>tenure</th>\n",
       "      <th>balance</th>\n",
       "      <th>num_of_products</th>\n",
       "      <th>has_cr_card</th>\n",
       "      <th>is_active_member</th>\n",
       "      <th>estimated_salary</th>\n",
       "      <th>exited</th>\n",
       "      <th>geography_Germany</th>\n",
       "      <th>geography_Spain</th>\n",
       "      <th>gender_Male</th>\n",
       "    </tr>\n",
       "  </thead>\n",
       "  <tbody>\n",
       "    <tr>\n",
       "      <th>0</th>\n",
       "      <td>619</td>\n",
       "      <td>42</td>\n",
       "      <td>2</td>\n",
       "      <td>0</td>\n",
       "      <td>1</td>\n",
       "      <td>1</td>\n",
       "      <td>1</td>\n",
       "      <td>101348</td>\n",
       "      <td>1</td>\n",
       "      <td>0</td>\n",
       "      <td>0</td>\n",
       "      <td>0</td>\n",
       "    </tr>\n",
       "    <tr>\n",
       "      <th>1</th>\n",
       "      <td>608</td>\n",
       "      <td>41</td>\n",
       "      <td>1</td>\n",
       "      <td>83807</td>\n",
       "      <td>1</td>\n",
       "      <td>0</td>\n",
       "      <td>1</td>\n",
       "      <td>112542</td>\n",
       "      <td>0</td>\n",
       "      <td>0</td>\n",
       "      <td>1</td>\n",
       "      <td>0</td>\n",
       "    </tr>\n",
       "    <tr>\n",
       "      <th>2</th>\n",
       "      <td>502</td>\n",
       "      <td>42</td>\n",
       "      <td>8</td>\n",
       "      <td>159660</td>\n",
       "      <td>3</td>\n",
       "      <td>1</td>\n",
       "      <td>0</td>\n",
       "      <td>113931</td>\n",
       "      <td>1</td>\n",
       "      <td>0</td>\n",
       "      <td>0</td>\n",
       "      <td>0</td>\n",
       "    </tr>\n",
       "    <tr>\n",
       "      <th>3</th>\n",
       "      <td>699</td>\n",
       "      <td>39</td>\n",
       "      <td>1</td>\n",
       "      <td>0</td>\n",
       "      <td>2</td>\n",
       "      <td>0</td>\n",
       "      <td>0</td>\n",
       "      <td>93826</td>\n",
       "      <td>0</td>\n",
       "      <td>0</td>\n",
       "      <td>0</td>\n",
       "      <td>0</td>\n",
       "    </tr>\n",
       "    <tr>\n",
       "      <th>4</th>\n",
       "      <td>850</td>\n",
       "      <td>43</td>\n",
       "      <td>2</td>\n",
       "      <td>125510</td>\n",
       "      <td>1</td>\n",
       "      <td>1</td>\n",
       "      <td>1</td>\n",
       "      <td>79084</td>\n",
       "      <td>0</td>\n",
       "      <td>0</td>\n",
       "      <td>1</td>\n",
       "      <td>0</td>\n",
       "    </tr>\n",
       "    <tr>\n",
       "      <th>...</th>\n",
       "      <td>...</td>\n",
       "      <td>...</td>\n",
       "      <td>...</td>\n",
       "      <td>...</td>\n",
       "      <td>...</td>\n",
       "      <td>...</td>\n",
       "      <td>...</td>\n",
       "      <td>...</td>\n",
       "      <td>...</td>\n",
       "      <td>...</td>\n",
       "      <td>...</td>\n",
       "      <td>...</td>\n",
       "    </tr>\n",
       "    <tr>\n",
       "      <th>9995</th>\n",
       "      <td>771</td>\n",
       "      <td>39</td>\n",
       "      <td>5</td>\n",
       "      <td>0</td>\n",
       "      <td>2</td>\n",
       "      <td>1</td>\n",
       "      <td>0</td>\n",
       "      <td>96270</td>\n",
       "      <td>0</td>\n",
       "      <td>0</td>\n",
       "      <td>0</td>\n",
       "      <td>1</td>\n",
       "    </tr>\n",
       "    <tr>\n",
       "      <th>9996</th>\n",
       "      <td>516</td>\n",
       "      <td>35</td>\n",
       "      <td>10</td>\n",
       "      <td>57369</td>\n",
       "      <td>1</td>\n",
       "      <td>1</td>\n",
       "      <td>1</td>\n",
       "      <td>101699</td>\n",
       "      <td>0</td>\n",
       "      <td>0</td>\n",
       "      <td>0</td>\n",
       "      <td>1</td>\n",
       "    </tr>\n",
       "    <tr>\n",
       "      <th>9997</th>\n",
       "      <td>709</td>\n",
       "      <td>36</td>\n",
       "      <td>7</td>\n",
       "      <td>0</td>\n",
       "      <td>1</td>\n",
       "      <td>0</td>\n",
       "      <td>1</td>\n",
       "      <td>42085</td>\n",
       "      <td>1</td>\n",
       "      <td>0</td>\n",
       "      <td>0</td>\n",
       "      <td>0</td>\n",
       "    </tr>\n",
       "    <tr>\n",
       "      <th>9998</th>\n",
       "      <td>772</td>\n",
       "      <td>42</td>\n",
       "      <td>3</td>\n",
       "      <td>75075</td>\n",
       "      <td>2</td>\n",
       "      <td>1</td>\n",
       "      <td>0</td>\n",
       "      <td>92888</td>\n",
       "      <td>1</td>\n",
       "      <td>1</td>\n",
       "      <td>0</td>\n",
       "      <td>1</td>\n",
       "    </tr>\n",
       "    <tr>\n",
       "      <th>9999</th>\n",
       "      <td>792</td>\n",
       "      <td>28</td>\n",
       "      <td>2</td>\n",
       "      <td>130142</td>\n",
       "      <td>1</td>\n",
       "      <td>1</td>\n",
       "      <td>0</td>\n",
       "      <td>38190</td>\n",
       "      <td>0</td>\n",
       "      <td>0</td>\n",
       "      <td>0</td>\n",
       "      <td>0</td>\n",
       "    </tr>\n",
       "  </tbody>\n",
       "</table>\n",
       "<p>10000 rows × 12 columns</p>\n",
       "</div>"
      ],
      "text/plain": [
       "      credit_score  age  tenure  balance  num_of_products  has_cr_card  \\\n",
       "0              619   42       2        0                1            1   \n",
       "1              608   41       1    83807                1            0   \n",
       "2              502   42       8   159660                3            1   \n",
       "3              699   39       1        0                2            0   \n",
       "4              850   43       2   125510                1            1   \n",
       "...            ...  ...     ...      ...              ...          ...   \n",
       "9995           771   39       5        0                2            1   \n",
       "9996           516   35      10    57369                1            1   \n",
       "9997           709   36       7        0                1            0   \n",
       "9998           772   42       3    75075                2            1   \n",
       "9999           792   28       2   130142                1            1   \n",
       "\n",
       "      is_active_member  estimated_salary  exited  geography_Germany  \\\n",
       "0                    1            101348       1                  0   \n",
       "1                    1            112542       0                  0   \n",
       "2                    0            113931       1                  0   \n",
       "3                    0             93826       0                  0   \n",
       "4                    1             79084       0                  0   \n",
       "...                ...               ...     ...                ...   \n",
       "9995                 0             96270       0                  0   \n",
       "9996                 1            101699       0                  0   \n",
       "9997                 1             42085       1                  0   \n",
       "9998                 0             92888       1                  1   \n",
       "9999                 0             38190       0                  0   \n",
       "\n",
       "      geography_Spain  gender_Male  \n",
       "0                   0            0  \n",
       "1                   1            0  \n",
       "2                   0            0  \n",
       "3                   0            0  \n",
       "4                   1            0  \n",
       "...               ...          ...  \n",
       "9995                0            1  \n",
       "9996                0            1  \n",
       "9997                0            0  \n",
       "9998                0            1  \n",
       "9999                0            0  \n",
       "\n",
       "[10000 rows x 12 columns]"
      ]
     },
     "execution_count": 15,
     "metadata": {},
     "output_type": "execute_result"
    }
   ],
   "source": [
    "data_ohe = pd.get_dummies(data, drop_first=True, columns=['geography', 'gender']) #преобразуем категориальные признаки в столбцах 'geography', 'gender' в численные\n",
    "data_ohe"
   ]
  },
  {
   "cell_type": "markdown",
   "metadata": {},
   "source": [
    "Создадим переменные с целевым и остальными признаками."
   ]
  },
  {
   "cell_type": "code",
   "execution_count": 16,
   "metadata": {},
   "outputs": [],
   "source": [
    "features = data_ohe.drop(['exited'], axis=1) #выделим признаки\n",
    "target = data_ohe['exited'] #выделим целевой признак exited"
   ]
  },
  {
   "cell_type": "markdown",
   "metadata": {},
   "source": [
    "Разделим датафрейм на обучающую, валидационную и тестовую выборки в соотношении 60:20:20%. Сначала делим на обучающую и тестовую, затем обучающую - на валидационную и обучающую. "
   ]
  },
  {
   "cell_type": "code",
   "execution_count": 17,
   "metadata": {},
   "outputs": [],
   "source": [
    "features_train, features_test, target_train, target_test = train_test_split(features, target, test_size=0.2, random_state=12345)"
   ]
  },
  {
   "cell_type": "code",
   "execution_count": 18,
   "metadata": {},
   "outputs": [],
   "source": [
    "features_train, features_valid, target_train, target_valid = train_test_split(features_train, target_train, test_size=0.25, random_state=12345)"
   ]
  },
  {
   "cell_type": "markdown",
   "metadata": {},
   "source": [
    "Сравним размеры получившихся выборок."
   ]
  },
  {
   "cell_type": "code",
   "execution_count": 19,
   "metadata": {},
   "outputs": [
    {
     "name": "stdout",
     "output_type": "stream",
     "text": [
      "(10000, 11) (10000,)\n",
      "(6000, 11) (6000,)\n",
      "(2000, 11) (2000,)\n",
      "(2000, 11) (2000,)\n"
     ]
    }
   ],
   "source": [
    "print(features.shape, target.shape)\n",
    "print(features_train.shape, target_train.shape)\n",
    "print(features_valid.shape, target_valid.shape)\n",
    "print(features_test.shape, target_test.shape)"
   ]
  },
  {
   "cell_type": "markdown",
   "metadata": {},
   "source": [
    "Также проведем масштабирование признаков, так как наблюдается явная разница в значениях столбцов."
   ]
  },
  {
   "cell_type": "code",
   "execution_count": 20,
   "metadata": {},
   "outputs": [],
   "source": [
    "#список всех численных признаков\n",
    "numeric = ['credit_score', 'age', 'tenure', 'balance', 'num_of_products', 'has_cr_card',\n",
    "           'is_active_member', 'estimated_salary']\n",
    "\n",
    "scaler = StandardScaler()\n",
    "scaler.fit(features_train[numeric])\n",
    "\n",
    "#gреобразуем обучающую, валидационную и тестовую выборки функцией transform()\n",
    "features_train[numeric] = scaler.transform(features_train[numeric])\n",
    "features_valid[numeric] = scaler.transform(features_valid[numeric])\n",
    "features_test[numeric] = scaler.transform(features_test[numeric])"
   ]
  },
  {
   "cell_type": "markdown",
   "metadata": {},
   "source": [
    "### Вывод"
   ]
  },
  {
   "cell_type": "markdown",
   "metadata": {},
   "source": [
    "Изучив данные, провели предобработку, которая включала в себя:\n",
    "\n",
    "    исключение ненужных столбцов,\n",
    "    исследование зависимостей,\n",
    "    замену пропусков,\n",
    "    приведение наименования столбцов к змеиному регистру,\n",
    "    замену типов,\n",
    "    проверку на дубликаты.\n",
    "\n",
    "Далее подготовили признаки. А именно:\n",
    "\n",
    "    преобразовали категориальные признаки в численные техникой OHE, учитывая ловушку фиктивных признаков,\n",
    "    определили целевой и остальные признаки,\n",
    "    разделили данные на обучающую, валидационную и тестовую выборки в соотношении 60:20:20\n",
    "    масштабировали признаки."
   ]
  },
  {
   "cell_type": "markdown",
   "metadata": {},
   "source": [
    "## Исследование задачи"
   ]
  },
  {
   "cell_type": "markdown",
   "metadata": {},
   "source": [
    "Сперва проверим баланс отрицательного и положительного классов."
   ]
  },
  {
   "cell_type": "code",
   "execution_count": 21,
   "metadata": {},
   "outputs": [
    {
     "data": {
      "text/plain": [
       "(7963, 11)"
      ]
     },
     "metadata": {},
     "output_type": "display_data"
    },
    {
     "data": {
      "text/plain": [
       "(2037, 11)"
      ]
     },
     "metadata": {},
     "output_type": "display_data"
    }
   ],
   "source": [
    "display(features[target == 0].shape, features[target == 1].shape)"
   ]
  },
  {
   "cell_type": "code",
   "execution_count": 22,
   "metadata": {},
   "outputs": [],
   "source": [
    "#функция для построения столбчатого графика\n",
    "def func_for_bar(stat_one, stat_two, label_one, label_two):\n",
    "    ax = stat_one.plot.bar(\n",
    "        y='count',\n",
    "        color='red',\n",
    "        alpha=0.7,\n",
    "        grid=True,\n",
    "        label=label_one,\n",
    "        figsize=(12,6)\n",
    "    )\n",
    "    stat_two.plot.bar(\n",
    "        y='count',\n",
    "        color='blue',\n",
    "        alpha=0.7,\n",
    "        label=label_two,\n",
    "        ax=ax,\n",
    "        grid=True\n",
    "    )\n",
    "    "
   ]
  },
  {
   "cell_type": "code",
   "execution_count": 23,
   "metadata": {},
   "outputs": [
    {
     "data": {
      "image/png": "[encoded data removed]",
      "text/plain": [
       "<Figure size 864x432 with 1 Axes>"
      ]
     },
     "metadata": {
      "needs_background": "light"
     },
     "output_type": "display_data"
    }
   ],
   "source": [
    "func_for_bar(features[target == 0].count(), features[target == 1].count(), 'Количество отрицательных классов', 'Количество положительных классов')"
   ]
  },
  {
   "cell_type": "markdown",
   "metadata": {},
   "source": [
    "Видим явный дисбаланс классов.\n",
    "\n",
    "Построим матрицу ошибок и найдем метрику f1 для моделей решающего дерева, случайного леса и логистической регрессии при несбалансированных данных."
   ]
  },
  {
   "cell_type": "markdown",
   "metadata": {},
   "source": [
    "Напишем функции для расчета метрик f1, auc-roc и построения ROC-кривой."
   ]
  },
  {
   "cell_type": "code",
   "execution_count": 25,
   "metadata": {},
   "outputs": [],
   "source": [
    "#функция для обучения модели и расчета метрики f1\n",
    "def get_f1_score(model, target, features, target_tr, features_tr, flag_conf_matrix):\n",
    "    model = model\n",
    "    model.fit(features_tr, target_tr) #обучим модель\n",
    "    predicted = model.predict(features) #получим предсказания модели\n",
    "    conf_matrix = confusion_matrix(target, predicted) #получим матрицу ошибок\n",
    "    f1 = f1_score(target, predicted) #получим метрику f1\n",
    "    if flag_conf_matrix:\n",
    "        return f1, conf_matrix\n",
    "    else:\n",
    "        return f1"
   ]
  },
  {
   "cell_type": "code",
   "execution_count": 26,
   "metadata": {},
   "outputs": [],
   "source": [
    "#функция для построения ROC-кривой и расчета метрики auc-roc\n",
    "def roc(model, features, target, features_tr, target_tr):\n",
    "    model.fit(features_tr, target_tr) #обучим модель\n",
    "    probabilities = model.predict_proba(features) #получим вероятности классов\n",
    "    probabilities_one = probabilities[:, 1] #получим значения вероятностей класса 1\n",
    "    auc_roc = roc_auc_score(target, probabilities_one) #получим метрику auc-roc\n",
    "    fpr, tpr, thresholds = roc_curve(target, probabilities_one) #переберем разные пороги и получим три списка: значения FPR, значения TPR и рассмотренные порог\n",
    "\n",
    "    plt.figure()\n",
    "    plt.plot(fpr, tpr)\n",
    "    plt.xlabel('False Positive Rate', fontsize=14)\n",
    "    plt.ylabel('True Positive Rate', fontsize=14)\n",
    "    plt.ylim([0.0, 1.0])\n",
    "    plt.xlim([0.0, 1.0])\n",
    "    plt.title('ROC-кривая', fontsize=20);\n",
    "    return {auc_roc, 'AUC-ROC'}"
   ]
  },
  {
   "cell_type": "markdown",
   "metadata": {},
   "source": [
    "###### Модель решающего дерева"
   ]
  },
  {
   "cell_type": "code",
   "execution_count": 27,
   "metadata": {},
   "outputs": [
    {
     "name": "stdout",
     "output_type": "stream",
     "text": [
      "F1 наилучшей модели решающего дерева на валидационной выборке: 0.5488958990536277 \n",
      " Наилучшая глубина дерева: 7\n"
     ]
    },
    {
     "data": {
      "text/plain": [
       "'Матрица ошибок:'"
      ]
     },
     "metadata": {},
     "output_type": "display_data"
    },
    {
     "data": {
      "text/plain": [
       "array([[1480,  129],\n",
       "       [ 212,  179]])"
      ]
     },
     "metadata": {},
     "output_type": "display_data"
    }
   ],
   "source": [
    "best_model = None\n",
    "best_result = 0\n",
    "best_depth = 0\n",
    "for depth in range(1, 12):\n",
    "    model = DecisionTreeClassifier(random_state=12345, max_depth=depth) #обучим модель с заданной глубиной дерева\n",
    "    result, conf_matrix = get_f1_score(model, target_valid, features_valid, target_train, features_train, True) #посчитаем качество модели на валидационной выборке\n",
    "    if result > best_result:\n",
    "        best_model = model #сохраним наилучшую модель\n",
    "        best_result = result #сохраним наилучшее значение метрики f1_score на валидационных данных\n",
    "        best_depth = depth #сохраним наилучшее значение глубины дерева\n",
    "        \n",
    "print(\"F1 наилучшей модели решающего дерева на валидационной выборке:\", best_result, \"\\n\",\n",
    "      \"Наилучшая глубина дерева:\", best_depth)\n",
    "display(\"Матрица ошибок:\", conf_matrix)"
   ]
  },
  {
   "cell_type": "code",
   "execution_count": 28,
   "metadata": {},
   "outputs": [
    {
     "data": {
      "text/plain": [
       "{0.824566576434665, 'AUC-ROC'}"
      ]
     },
     "execution_count": 28,
     "metadata": {},
     "output_type": "execute_result"
    },
    {
     "data": {
      "image/png": "[encoded data removed]",
      "text/plain": [
       "<Figure size 432x288 with 1 Axes>"
      ]
     },
     "metadata": {
      "needs_background": "light"
     },
     "output_type": "display_data"
    }
   ],
   "source": [
    "roc(best_model, features_valid, target_valid, features_train, target_train) #построим ROC-кривую и рассчитаем auc-roc"
   ]
  },
  {
   "cell_type": "markdown",
   "metadata": {},
   "source": [
    "###### Модель случайного леса"
   ]
  },
  {
   "cell_type": "code",
   "execution_count": 29,
   "metadata": {},
   "outputs": [
    {
     "name": "stdout",
     "output_type": "stream",
     "text": [
      "F1 наилучшей модели случайного леса на валидационной выборке: 0.5745682888540031 \n",
      " Наилучшее количество деревьев: 91\n"
     ]
    },
    {
     "data": {
      "text/plain": [
       "'Матрица ошибок:'"
      ]
     },
     "metadata": {},
     "output_type": "display_data"
    },
    {
     "data": {
      "text/plain": [
       "array([[1547,   62],\n",
       "       [ 213,  178]])"
      ]
     },
     "metadata": {},
     "output_type": "display_data"
    }
   ],
   "source": [
    "best_model = None\n",
    "best_result = 0\n",
    "best_est = 0\n",
    "\n",
    "for est in range(1, 100):\n",
    "    model = RandomForestClassifier(random_state=12345, n_estimators=est) #обучим модель с заданным количеством деревьев\n",
    "    result, conf_matrix = get_f1_score(model, target_valid, features_valid, target_train, features_train, True) #посчитаем качество модели на валидационной выборке\n",
    "    if result > best_result:\n",
    "        best_model = model #сохраним наилучшую модель\n",
    "        best_result = result #сохраним наилучшее значение метрики f1 на валидационных данных\n",
    "        best_est = est #сохраним наилучшее количество деревьев\n",
    "        \n",
    "print(\"F1 наилучшей модели случайного леса на валидационной выборке:\", best_result, \"\\n\",\n",
    "      \"Наилучшее количество деревьев:\", best_est)\n",
    "display(\"Матрица ошибок:\", conf_matrix)"
   ]
  },
  {
   "cell_type": "code",
   "execution_count": 30,
   "metadata": {},
   "outputs": [
    {
     "data": {
      "text/plain": [
       "{0.8491716193597714, 'AUC-ROC'}"
      ]
     },
     "execution_count": 30,
     "metadata": {},
     "output_type": "execute_result"
    },
    {
     "data": {
      "image/png": "[encoded data removed]",
      "text/plain": [
       "<Figure size 432x288 with 1 Axes>"
      ]
     },
     "metadata": {
      "needs_background": "light"
     },
     "output_type": "display_data"
    }
   ],
   "source": [
    "roc(best_model, features_valid, target_valid, features_train, target_train) #построим ROC-кривую и рассчитаем auc-roc"
   ]
  },
  {
   "cell_type": "markdown",
   "metadata": {},
   "source": [
    "###### Модель логистической регрессии"
   ]
  },
  {
   "cell_type": "code",
   "execution_count": 31,
   "metadata": {},
   "outputs": [
    {
     "name": "stdout",
     "output_type": "stream",
     "text": [
      "F1 модели логистической регрессии на валидационной выборке: 0.3007518796992481\n"
     ]
    },
    {
     "data": {
      "text/plain": [
       "'Матрица ошибок:'"
      ]
     },
     "metadata": {},
     "output_type": "display_data"
    },
    {
     "data": {
      "text/plain": [
       "array([[1548,   61],\n",
       "       [ 311,   80]])"
      ]
     },
     "metadata": {},
     "output_type": "display_data"
    }
   ],
   "source": [
    "model = LogisticRegression(random_state=12345, solver='liblinear', max_iter=1000) #обучим модель с заданным количеством итераций, стратегии\n",
    "result, conf_matrix = get_f1_score(model, target_valid, features_valid, target_train, features_train, True) #посчитаем качество модели на валидационной выборке\n",
    "\n",
    "print(\"F1 модели логистической регрессии на валидационной выборке:\", result)\n",
    "display(\"Матрица ошибок:\", conf_matrix)"
   ]
  },
  {
   "cell_type": "code",
   "execution_count": 32,
   "metadata": {},
   "outputs": [
    {
     "data": {
      "text/plain": [
       "{0.7703025977597243, 'AUC-ROC'}"
      ]
     },
     "execution_count": 32,
     "metadata": {},
     "output_type": "execute_result"
    },
    {
     "data": {
      "image/png": "[encoded data removed]",
      "text/plain": [
       "<Figure size 432x288 with 1 Axes>"
      ]
     },
     "metadata": {
      "needs_background": "light"
     },
     "output_type": "display_data"
    }
   ],
   "source": [
    "roc(model, features_valid, target_valid, features_train, target_train) #построим ROC-кривую и рассчитаем auc-roc"
   ]
  },
  {
   "cell_type": "markdown",
   "metadata": {},
   "source": [
    "### Вывод"
   ]
  },
  {
   "cell_type": "markdown",
   "metadata": {},
   "source": [
    "После преобработки и подготовки признаков на несбалансированных данных получили достаточно большой процент FP и FT в предсказаниях всех моделей, что говорит о дисбалансе классов.\n",
    "\n",
    "Модель решающего дерева:\n",
    "F1 = 0.55\n",
    "AUC-ROC = 0.82.\n",
    "ROC-кривая выше линии случайной модели. Модель отличается от случайной на 82%.\n",
    "\n",
    "Модель случайного леса:\n",
    "F1 = 0.57\n",
    "AUC-ROC = 0.85.\n",
    "ROC-кривая выше линии случайной модели. Модель отличается от случайной на 85%.\n",
    "\n",
    "Модель логистической регрессии:\n",
    "F1 = 0.30\n",
    "AUC-ROC = 0.77.\n",
    "ROC-кривая выше линии случайной модели. Модель отличается от случайной на 77%.\n",
    "\n",
    "Метрика F1 самой высокой оказалась у модели случайного леса 0.57 при количестве деревьев 91."
   ]
  },
  {
   "cell_type": "markdown",
   "metadata": {},
   "source": [
    "## Борьба с дисбалансом"
   ]
  },
  {
   "cell_type": "markdown",
   "metadata": {},
   "source": [
    "### Взвешивание классов"
   ]
  },
  {
   "cell_type": "markdown",
   "metadata": {},
   "source": [
    "Посмотрим соотношение классов в обучающей выборке."
   ]
  },
  {
   "cell_type": "code",
   "execution_count": 33,
   "metadata": {},
   "outputs": [
    {
     "name": "stdout",
     "output_type": "stream",
     "text": [
      "(4781, 11) (1219, 11)\n"
     ]
    }
   ],
   "source": [
    "print(features_train[target_train == 0].shape, features_train[target_train == 1].shape)"
   ]
  },
  {
   "cell_type": "code",
   "execution_count": 34,
   "metadata": {},
   "outputs": [
    {
     "data": {
      "image/png": "[encoded data removed]",
      "text/plain": [
       "<Figure size 864x432 with 1 Axes>"
      ]
     },
     "metadata": {
      "needs_background": "light"
     },
     "output_type": "display_data"
    }
   ],
   "source": [
    "func_for_bar(features_train[target_train == 0].count(), features_train[target_train == 1].count(), 'Количество отрицательных классов', 'Количество положительных классов')"
   ]
  },
  {
   "cell_type": "markdown",
   "metadata": {},
   "source": [
    "Применим class_weight в моделях логистической регрессии, решающего дерева и случайного леса."
   ]
  },
  {
   "cell_type": "markdown",
   "metadata": {},
   "source": [
    "###### Модель решающего дерева"
   ]
  },
  {
   "cell_type": "code",
   "execution_count": 35,
   "metadata": {},
   "outputs": [
    {
     "name": "stdout",
     "output_type": "stream",
     "text": [
      "F1 наилучшей модели решающего дерева на валидационной выборке: 0.5587044534412956 \n",
      " Наилучшая глубина дерева: 6\n"
     ]
    }
   ],
   "source": [
    "best_model = None\n",
    "best_result = 0\n",
    "best_depth = 0\n",
    "\n",
    "for depth in range(1, 12):\n",
    "    model = DecisionTreeClassifier(random_state=12345, max_depth=depth, class_weight='balanced') #обучим модель с заданной глубиной дерева\n",
    "    result = get_f1_score(model, target_valid, features_valid, target_train, features_train, False) #посчитаем качество модели на валидационной выборке\n",
    "    if result > best_result:\n",
    "        best_model = model #сохраним наилучшую модель\n",
    "        best_result = result #сохраним наилучшее значение метрики f1 на валидационных данных\n",
    "        best_depth = depth #сохраним наилучшее значение глубины дерева\n",
    "        \n",
    "print(\"F1 наилучшей модели решающего дерева на валидационной выборке:\", best_result, \"\\n\",\n",
    "      \"Наилучшая глубина дерева:\", best_depth)"
   ]
  },
  {
   "cell_type": "code",
   "execution_count": 36,
   "metadata": {},
   "outputs": [
    {
     "data": {
      "text/plain": [
       "{0.8090671240258203, 'AUC-ROC'}"
      ]
     },
     "execution_count": 36,
     "metadata": {},
     "output_type": "execute_result"
    },
    {
     "data": {
      "image/png": "[encoded data removed]",
      "text/plain": [
       "<Figure size 432x288 with 1 Axes>"
      ]
     },
     "metadata": {
      "needs_background": "light"
     },
     "output_type": "display_data"
    }
   ],
   "source": [
    "roc(best_model, features_valid, target_valid, features_train, target_train) #построим ROC-кривую и рассчитаем auc-roc"
   ]
  },
  {
   "cell_type": "markdown",
   "metadata": {},
   "source": [
    "###### Модель случайного леса"
   ]
  },
  {
   "cell_type": "code",
   "execution_count": 37,
   "metadata": {},
   "outputs": [
    {
     "name": "stdout",
     "output_type": "stream",
     "text": [
      "F1 наилучшей модели случайного леса на валидационной выборке: 0.5645161290322581 \n",
      " Наилучшее количество деревьев 97\n"
     ]
    }
   ],
   "source": [
    "best_model = None\n",
    "best_result = 0\n",
    "best_est = 0\n",
    "\n",
    "for est in range(1, 100):\n",
    "    model = RandomForestClassifier(class_weight='balanced', random_state=12345, n_estimators=est) #обучим модель с заданным количеством деревьев\n",
    "    result = get_f1_score(model, target_valid, features_valid, target_train, features_train, False) #посчитаем качество модели на валидационной выборке\n",
    "    if result > best_result:\n",
    "        best_model = model #сохраним наилучшую модель\n",
    "        best_result = result #сохраним наилучшее значение метрики f1 на валидационных данных\n",
    "        best_est = est #сохраним наилучшее количество деревьев\n",
    "        \n",
    "print(\"F1 наилучшей модели случайного леса на валидационной выборке:\", best_result, \"\\n\",\n",
    "      \"Наилучшее количество деревьев\", best_est)"
   ]
  },
  {
   "cell_type": "code",
   "execution_count": 38,
   "metadata": {},
   "outputs": [
    {
     "data": {
      "text/plain": [
       "{0.845631748524524, 'AUC-ROC'}"
      ]
     },
     "execution_count": 38,
     "metadata": {},
     "output_type": "execute_result"
    },
    {
     "data": {
      "image/png": "[encoded data removed]",
      "text/plain": [
       "<Figure size 432x288 with 1 Axes>"
      ]
     },
     "metadata": {
      "needs_background": "light"
     },
     "output_type": "display_data"
    }
   ],
   "source": [
    "roc(best_model, features_valid, target_valid, features_train, target_train) #построим ROC-кривую и рассчитаем auc-roc"
   ]
  },
  {
   "cell_type": "markdown",
   "metadata": {},
   "source": [
    "###### Модель логистической регрессии"
   ]
  },
  {
   "cell_type": "code",
   "execution_count": 39,
   "metadata": {},
   "outputs": [
    {
     "name": "stdout",
     "output_type": "stream",
     "text": [
      "F1 модели логической регрессии на валидационной выборке: 0.4763603925066905\n"
     ]
    }
   ],
   "source": [
    "model = LogisticRegression(random_state=12345, solver='liblinear', max_iter=1000, class_weight='balanced') #обучим модель с заданным количеством итераций, стратегии\n",
    "result = get_f1_score(model, target_valid, features_valid, target_train, features_train, False) #посчитаем качество модели на валидационной выборке\n",
    "         \n",
    "print(\"F1 модели логической регрессии на валидационной выборке:\", result)"
   ]
  },
  {
   "cell_type": "code",
   "execution_count": 40,
   "metadata": {},
   "outputs": [
    {
     "data": {
      "text/plain": [
       "{0.7726312510033871, 'AUC-ROC'}"
      ]
     },
     "execution_count": 40,
     "metadata": {},
     "output_type": "execute_result"
    },
    {
     "data": {
      "image/png": "[encoded data removed]",
      "text/plain": [
       "<Figure size 432x288 with 1 Axes>"
      ]
     },
     "metadata": {
      "needs_background": "light"
     },
     "output_type": "display_data"
    }
   ],
   "source": [
    "roc(model, features_valid, target_valid, features_train, target_train) #построим ROC-кривую и рассчитаем auc-roc"
   ]
  },
  {
   "cell_type": "markdown",
   "metadata": {},
   "source": [
    "###### Вывод"
   ]
  },
  {
   "cell_type": "markdown",
   "metadata": {},
   "source": [
    "Модель решающего дерева: F1 = 0.56 AUC-ROC = 0.81. ROC-кривая выше линии случайной модели. Модель отличается от случайной на 81%.\n",
    "\n",
    "Модель случайного леса: F1 = 0.56 AUC-ROC = 0.85. ROC-кривая выше линии случайной модели. Модель отличается от случайной на 85%.\n",
    "\n",
    "Модель логистической регрессии: F1 = 0.48 AUC-ROC = 0.77. ROC-кривая выше линии случайной модели. Модель отличается от случайной на 77%.\n",
    "\n",
    "Метрика F1 самой высокой оказалась у модели случайного леса 0.56 при количестве деревьев 97.\n",
    "\n",
    "Лучшее значение F1 при сбалансированных классах показывает модель случайного леса."
   ]
  },
  {
   "cell_type": "markdown",
   "metadata": {},
   "source": [
    "### Увеличение выборки"
   ]
  },
  {
   "cell_type": "markdown",
   "metadata": {},
   "source": [
    "Cоотношение классов примерно 1к4, поэтому repeat можно взять за 4."
   ]
  },
  {
   "cell_type": "code",
   "execution_count": 41,
   "metadata": {},
   "outputs": [],
   "source": [
    "#функция для увеличения выборки\n",
    "def upsample(features, target, repeat):\n",
    "    #разделии обучающую выборку на отрицательные и положительные объекты\n",
    "    features_zeros = features[target == 0]\n",
    "    features_ones = features[target == 1]\n",
    "    target_zeros = target[target == 0]\n",
    "    target_ones = target[target == 1]\n",
    "    \n",
    "    #скопируем несколько раз положительные объекты\n",
    "    features_upsampled = pd.concat([features_zeros] + [features_ones] * repeat)\n",
    "    target_upsampled = pd.concat([target_zeros] + [target_ones] * repeat)\n",
    "    \n",
    "    #с учётом полученных данных создадим новую обучающую выборку и перемешаем данные\n",
    "    features_upsampled, target_upsampled = shuffle(\n",
    "        features_upsampled, target_upsampled, random_state=12345)\n",
    "    \n",
    "    return features_upsampled, target_upsampled"
   ]
  },
  {
   "cell_type": "code",
   "execution_count": 42,
   "metadata": {},
   "outputs": [],
   "source": [
    "features_upsampled, target_upsampled = upsample(features_train, target_train, 4)"
   ]
  },
  {
   "cell_type": "markdown",
   "metadata": {},
   "source": [
    "Обучим на новых данных модели."
   ]
  },
  {
   "cell_type": "markdown",
   "metadata": {},
   "source": [
    "###### Модель решающего дерева"
   ]
  },
  {
   "cell_type": "code",
   "execution_count": 43,
   "metadata": {},
   "outputs": [
    {
     "name": "stdout",
     "output_type": "stream",
     "text": [
      "F1 наилучшей модели решающего дерева на валидационной выборке: 0.5587044534412956 \n",
      " Наилучшая глубина дерева 6\n"
     ]
    }
   ],
   "source": [
    "best_model = None\n",
    "best_result = 0\n",
    "best_depth = 0\n",
    "\n",
    "for depth in range(1, 12):\n",
    "    model = DecisionTreeClassifier(random_state=12345, max_depth=depth) #обучим модель с заданной глубиной дерева\n",
    "    result = get_f1_score(model, target_valid, features_valid, target_upsampled, features_upsampled, False) #посчитаем качество модели на валидационной выборке\n",
    "    if result > best_result:\n",
    "        best_model = model #сохраним наилучшую модель\n",
    "        best_result = result #сохраним наилучшее значение метрики f1 на валидационных данных\n",
    "        best_depth = depth #сохраним наилучшее значение глубины дерева\n",
    "        \n",
    "print(\"F1 наилучшей модели решающего дерева на валидационной выборке:\", best_result, \"\\n\",\n",
    "      \"Наилучшая глубина дерева\", best_depth)"
   ]
  },
  {
   "cell_type": "code",
   "execution_count": 44,
   "metadata": {},
   "outputs": [
    {
     "data": {
      "text/plain": [
       "{0.809054407830633, 'AUC-ROC'}"
      ]
     },
     "execution_count": 44,
     "metadata": {},
     "output_type": "execute_result"
    },
    {
     "data": {
      "image/png": "[encoded data removed]",
      "text/plain": [
       "<Figure size 432x288 with 1 Axes>"
      ]
     },
     "metadata": {
      "needs_background": "light"
     },
     "output_type": "display_data"
    }
   ],
   "source": [
    "roc(best_model, features_valid, target_valid, features_upsampled, target_upsampled) #построим ROC-кривую и рассчитаем auc-roc"
   ]
  },
  {
   "cell_type": "markdown",
   "metadata": {},
   "source": [
    "###### Модель случайного леса"
   ]
  },
  {
   "cell_type": "code",
   "execution_count": 45,
   "metadata": {},
   "outputs": [
    {
     "name": "stdout",
     "output_type": "stream",
     "text": [
      "F1 наилучшей модели случайного леса на валидационной выборке: 0.6020293122886132 \n",
      " Наилучшее количество деревьев 46\n"
     ]
    }
   ],
   "source": [
    "best_model = None\n",
    "best_result = 0\n",
    "best_est = 0\n",
    "\n",
    "for est in range(1, 100):\n",
    "    model = RandomForestClassifier(random_state=12345, n_estimators=est, max_depth=10) #обучим модель с заданным количеством деревьев\n",
    "    result = get_f1_score(model, target_valid, features_valid, target_upsampled, features_upsampled, False) #посчитаем качество модели на валидационной выборке\n",
    "    if result > best_result:\n",
    "        best_model = model #сохраним наилучшую модель\n",
    "        best_result = result #сохраним наилучшее значение метрики f1 на валидационных данных\n",
    "        best_est = est #сохраним наилучшее количество деревьев\n",
    "        \n",
    "print(\"F1 наилучшей модели случайного леса на валидационной выборке:\", best_result, \"\\n\", \n",
    "      \"Наилучшее количество деревьев\", best_est)"
   ]
  },
  {
   "cell_type": "code",
   "execution_count": 46,
   "metadata": {},
   "outputs": [
    {
     "data": {
      "text/plain": [
       "{0.8512252848825104, 'AUC-ROC'}"
      ]
     },
     "execution_count": 46,
     "metadata": {},
     "output_type": "execute_result"
    },
    {
     "data": {
      "image/png": "[encoded data removed]",
      "text/plain": [
       "<Figure size 432x288 with 1 Axes>"
      ]
     },
     "metadata": {
      "needs_background": "light"
     },
     "output_type": "display_data"
    }
   ],
   "source": [
    "roc(best_model, features_valid, target_valid, features_upsampled, target_upsampled) #построим ROC-кривую и рассчитаем auc-roc"
   ]
  },
  {
   "cell_type": "markdown",
   "metadata": {},
   "source": [
    "###### Модель логистической регрессии"
   ]
  },
  {
   "cell_type": "code",
   "execution_count": 47,
   "metadata": {},
   "outputs": [
    {
     "name": "stdout",
     "output_type": "stream",
     "text": [
      "F1 модели логической регрессии на валидационной выборке: 0.47493403693931396\n"
     ]
    }
   ],
   "source": [
    "model = LogisticRegression(random_state=12345, solver='liblinear', max_iter=1000) #обучим модель с заданным количеством итераций, стратегии\n",
    "result = get_f1_score(model, target_valid, features_valid, target_upsampled, features_upsampled, False) #посчитаем качество модели на валидационной выборке\n",
    "    \n",
    "print(\"F1 модели логической регрессии на валидационной выборке:\", result)"
   ]
  },
  {
   "cell_type": "code",
   "execution_count": 48,
   "metadata": {},
   "outputs": [
    {
     "data": {
      "text/plain": [
       "{0.7726566833937617, 'AUC-ROC'}"
      ]
     },
     "execution_count": 48,
     "metadata": {},
     "output_type": "execute_result"
    },
    {
     "data": {
      "image/png": "[encoded data removed]",
      "text/plain": [
       "<Figure size 432x288 with 1 Axes>"
      ]
     },
     "metadata": {
      "needs_background": "light"
     },
     "output_type": "display_data"
    }
   ],
   "source": [
    "roc(model, features_valid, target_valid, features_upsampled, target_upsampled) #построим ROC-кривую и рассчитаем auc-roc"
   ]
  },
  {
   "cell_type": "markdown",
   "metadata": {},
   "source": [
    "###### Вывод"
   ]
  },
  {
   "cell_type": "markdown",
   "metadata": {},
   "source": [
    "Модель решающего дерева: F1 = 0.56 AUC-ROC = 0.81. ROC-кривая выше линии случайной модели. Модель отличается от случайной на 81%.\n",
    "\n",
    "Модель случайного леса: F1 = 0.60 AUC-ROC = 0.85. ROC-кривая выше линии случайной модели. Модель отличается от случайной на 85%.\n",
    "\n",
    "Модель логистической регрессии: F1 = 0.47 AUC-ROC = 0.77. ROC-кривая выше линии случайной модели. Модель отличается от случайной на 77%.\n",
    "\n",
    "Метрика F1 самой высокой оказалась у модели случайного леса 0.60 при количестве деревьев 46.\n",
    "\n",
    "При увеличении выборки метрики логистической регрессии и решающего дерева почти остались такими же, а метрика модели случайного леса улучшила значение - 0.60 при количестве деревьев 71."
   ]
  },
  {
   "cell_type": "markdown",
   "metadata": {},
   "source": [
    "### Уменьшение выборки"
   ]
  },
  {
   "cell_type": "markdown",
   "metadata": {},
   "source": [
    "Cоотношение классов примерно 1к4, поэтому fraction можно взять за 0.4."
   ]
  },
  {
   "cell_type": "code",
   "execution_count": 49,
   "metadata": {},
   "outputs": [],
   "source": [
    "#функция для уменьшения выборки\n",
    "def downsample(features, target, fraction):\n",
    "    #разделии обучающую выборку на отрицательные и положительные объекты\n",
    "    features_zeros = features[target == 0]\n",
    "    features_ones = features[target == 1]\n",
    "    target_zeros = target[target == 0]\n",
    "    target_ones = target[target == 1]\n",
    "    \n",
    "    #случайным образом отбросим часть из отрицательных объектов\n",
    "    features_downsampled = pd.concat([features_zeros.sample(frac=fraction, random_state=12345)]  + [features_ones])\n",
    "    target_downsampled = pd.concat([target_zeros.sample(frac=fraction, random_state=12345)] + [target_ones])\n",
    "    \n",
    "    #с учётом полученных данных создадим новую обучающую выборку и перемешаем данные\n",
    "    features_downsampled, target_downsampled = shuffle(features_downsampled, \n",
    "                                                       target_downsampled, random_state=12345)\n",
    "\n",
    "    return features_downsampled, target_downsampled"
   ]
  },
  {
   "cell_type": "code",
   "execution_count": 50,
   "metadata": {},
   "outputs": [],
   "source": [
    "features_downsampled, target_downsampled = downsample(features_train, target_train, 0.4)"
   ]
  },
  {
   "cell_type": "markdown",
   "metadata": {},
   "source": [
    "###### Модель решающего дерева"
   ]
  },
  {
   "cell_type": "code",
   "execution_count": 51,
   "metadata": {},
   "outputs": [
    {
     "name": "stdout",
     "output_type": "stream",
     "text": [
      "F1 наилучшей модели решающего дерева на валидационной выборке: 0.5693069306930693 \n",
      " Наилучшая глубина дерева 5\n"
     ]
    }
   ],
   "source": [
    "best_model = None\n",
    "best_result = 0\n",
    "best_depth = 0\n",
    "\n",
    "for depth in range(1, 12):\n",
    "    model = DecisionTreeClassifier(random_state=12345, max_depth=depth) #обучим модель с заданной глубиной дерева\n",
    "    result = get_f1_score(model, target_valid, features_valid, target_downsampled, features_downsampled, False) #посчитаем качество модели на валидационной выборке\n",
    "    if result > best_result:\n",
    "        best_model = model #сохраним наилучшую модель\n",
    "        best_result = result #сохраним наилучшее значение метрики f1 на валидационных данных\n",
    "        best_depth = depth #сохраним наилучшее значение глубины дерева\n",
    "        \n",
    "print(\"F1 наилучшей модели решающего дерева на валидационной выборке:\", best_result, \"\\n\",\n",
    "      \"Наилучшая глубина дерева\", best_depth)"
   ]
  },
  {
   "cell_type": "code",
   "execution_count": 52,
   "metadata": {},
   "outputs": [
    {
     "data": {
      "text/plain": [
       "{0.829409062514405, 'AUC-ROC'}"
      ]
     },
     "execution_count": 52,
     "metadata": {},
     "output_type": "execute_result"
    },
    {
     "data": {
      "image/png": "[encoded data removed]",
      "text/plain": [
       "<Figure size 432x288 with 1 Axes>"
      ]
     },
     "metadata": {
      "needs_background": "light"
     },
     "output_type": "display_data"
    }
   ],
   "source": [
    "roc(best_model, features_valid, target_valid, features_downsampled, target_downsampled) #построим ROC-кривую и рассчитаем auc-roc"
   ]
  },
  {
   "cell_type": "markdown",
   "metadata": {},
   "source": [
    "###### Модель случайного леса"
   ]
  },
  {
   "cell_type": "code",
   "execution_count": 53,
   "metadata": {},
   "outputs": [
    {
     "name": "stdout",
     "output_type": "stream",
     "text": [
      "F1 наилучшей модели случайного леса на валидационной выборке: 0.5862484921592281 \n",
      " Наилучшее количество деревьев 92\n"
     ]
    }
   ],
   "source": [
    "best_model = None\n",
    "best_result = 0\n",
    "best_est = 0\n",
    "\n",
    "for est in range(1, 100):\n",
    "    model = RandomForestClassifier(random_state=12345, n_estimators=est, max_depth=10) #обучим модель с заданным количеством деревьев\n",
    "    result = get_f1_score(model, target_valid, features_valid, target_downsampled, features_downsampled, False) #посчитаем качество модели на валидационной выборке\n",
    "    if result > best_result:\n",
    "        best_model = model #сохраним наилучшую модель\n",
    "        best_result = result #сохраним наилучшее значение метрики f1 на валидационных данных\n",
    "        best_est = est #сохраним наилучшее количество деревьев\n",
    "        \n",
    "print(\"F1 наилучшей модели случайного леса на валидационной выборке:\", best_result, \"\\n\",\n",
    "      \"Наилучшее количество деревьев\", best_est)"
   ]
  },
  {
   "cell_type": "code",
   "execution_count": 54,
   "metadata": {},
   "outputs": [
    {
     "data": {
      "text/plain": [
       "{0.8455920104145638, 'AUC-ROC'}"
      ]
     },
     "execution_count": 54,
     "metadata": {},
     "output_type": "execute_result"
    },
    {
     "data": {
      "image/png": "[encoded data removed]",
      "text/plain": [
       "<Figure size 432x288 with 1 Axes>"
      ]
     },
     "metadata": {
      "needs_background": "light"
     },
     "output_type": "display_data"
    }
   ],
   "source": [
    "roc(best_model, features_valid, target_valid, features_downsampled, target_downsampled) #построим ROC-кривую и рассчитаем auc-roc"
   ]
  },
  {
   "cell_type": "markdown",
   "metadata": {},
   "source": [
    "###### Модель логистической регрессии"
   ]
  },
  {
   "cell_type": "code",
   "execution_count": 55,
   "metadata": {},
   "outputs": [
    {
     "name": "stdout",
     "output_type": "stream",
     "text": [
      "F1 модели логической регрессии на валидационной выборке: 0.48331415420023016\n"
     ]
    }
   ],
   "source": [
    "model = LogisticRegression(random_state=12345, solver='liblinear', max_iter=1000) #обучим модель с заданным количеством итераций, стратегии\n",
    "result = get_f1_score(model, target_valid, features_valid, target_downsampled, features_downsampled, False) #посчитаем качество модели на валидационной выборке\n",
    "    \n",
    "print(\"F1 модели логической регрессии на валидационной выборке:\", result)"
   ]
  },
  {
   "cell_type": "code",
   "execution_count": 56,
   "metadata": {},
   "outputs": [
    {
     "data": {
      "text/plain": [
       "{0.772869679663148, 'AUC-ROC'}"
      ]
     },
     "execution_count": 56,
     "metadata": {},
     "output_type": "execute_result"
    },
    {
     "data": {
      "image/png": "[encoded data removed]",
      "text/plain": [
       "<Figure size 432x288 with 1 Axes>"
      ]
     },
     "metadata": {
      "needs_background": "light"
     },
     "output_type": "display_data"
    }
   ],
   "source": [
    "roc(model, features_valid, target_valid, features_downsampled, target_downsampled) #построим ROC-кривую и рассчитаем auc-roc"
   ]
  },
  {
   "cell_type": "markdown",
   "metadata": {},
   "source": [
    "###### Вывод"
   ]
  },
  {
   "cell_type": "markdown",
   "metadata": {},
   "source": [
    "Модель решающего дерева: F1 = 0.57 AUC-ROC = 0.83. ROC-кривая выше линии случайной модели. Модель отличается от случайной на 83%.\n",
    "\n",
    "Модель случайного леса: F1 = 0.59 AUC-ROC = 0.85. ROC-кривая выше линии случайной модели. Модель отличается от случайной на 85%.\n",
    "\n",
    "Модель логистической регрессии: F1 = 0.48 AUC-ROC = 0.77. ROC-кривая выше линии случайной модели. Модель отличается от случайной на 77%.\n",
    "\n",
    "Метрика F1 самой высокой оказалась у модели случайного леса 0.59 при количестве деревьев 92.\n",
    "\n",
    "При уменьшении выборки результаты хуже, чем при увеличении."
   ]
  },
  {
   "cell_type": "markdown",
   "metadata": {},
   "source": [
    "### Изменение порога"
   ]
  },
  {
   "cell_type": "markdown",
   "metadata": {},
   "source": [
    "Изменим значение порога и посмотрим, какими станут метрики.\n",
    "\n",
    "Сперва напишем функцию для расчета метрик при изменении порога до 0.6 с шагом 0.03."
   ]
  },
  {
   "cell_type": "code",
   "execution_count": 57,
   "metadata": {},
   "outputs": [],
   "source": [
    "#функция для расчета метрик при изменении порога\n",
    "def threshold(model, target, features, features_tr, target_tr):\n",
    "    model.fit(features_tr, target_tr) #обучим модель\n",
    "    predicted = model.predict(features) #получим предсказания модели\n",
    "    probabilities = model.predict_proba(features) #получим вероятности классов\n",
    "    probabilities_one = probabilities[:, 1] #получим значения вероятностей класса 1\n",
    "    auc_roc = roc_auc_score(target, probabilities_one) #получим метрику auc-roc\n",
    "    \n",
    "    print(\"AUC-ROC = {:.3f}\".format(auc_roc))\n",
    "    \n",
    "    for threshold in np.arange(0, 0.6, 0.03):\n",
    "        predicted =  probabilities_one > threshold \n",
    "        f_1 = f1_score(target, predicted)\n",
    "\n",
    "        print(\"Порог = {:.2f} | F1 = {:.3f}\".format(threshold, f_1))"
   ]
  },
  {
   "cell_type": "markdown",
   "metadata": {},
   "source": [
    "###### Модель решающего дерева"
   ]
  },
  {
   "cell_type": "code",
   "execution_count": 58,
   "metadata": {},
   "outputs": [
    {
     "name": "stdout",
     "output_type": "stream",
     "text": [
      "AUC-ROC = 0.824\n",
      "Порог = 0.00 | F1 = 0.325\n",
      "Порог = 0.03 | F1 = 0.359\n",
      "Порог = 0.06 | F1 = 0.406\n",
      "Порог = 0.09 | F1 = 0.533\n",
      "Порог = 0.12 | F1 = 0.551\n",
      "Порог = 0.15 | F1 = 0.559\n",
      "Порог = 0.18 | F1 = 0.555\n",
      "Порог = 0.21 | F1 = 0.555\n",
      "Порог = 0.24 | F1 = 0.547\n",
      "Порог = 0.27 | F1 = 0.553\n",
      "Порог = 0.30 | F1 = 0.546\n",
      "Порог = 0.33 | F1 = 0.549\n",
      "Порог = 0.36 | F1 = 0.552\n",
      "Порог = 0.39 | F1 = 0.552\n",
      "Порог = 0.42 | F1 = 0.550\n",
      "Порог = 0.45 | F1 = 0.550\n",
      "Порог = 0.48 | F1 = 0.510\n",
      "Порог = 0.51 | F1 = 0.508\n",
      "Порог = 0.54 | F1 = 0.508\n",
      "Порог = 0.57 | F1 = 0.508\n"
     ]
    }
   ],
   "source": [
    "model_dtc = DecisionTreeClassifier(max_depth=6, random_state=12345) #обучим модель с заданным глубиной дерева\n",
    "threshold(model_dtc, target_valid, features_valid, features_train, target_train) #получим auc-roc и f1 при изменении порога"
   ]
  },
  {
   "cell_type": "markdown",
   "metadata": {},
   "source": [
    "Изобразим на графике, как выглядят значения метрик при изменении порога для модели решающего дерева."
   ]
  },
  {
   "cell_type": "code",
   "execution_count": 59,
   "metadata": {},
   "outputs": [
    {
     "data": {
      "text/plain": [
       "{0.8241016405481316, 'AUC-ROC'}"
      ]
     },
     "execution_count": 59,
     "metadata": {},
     "output_type": "execute_result"
    },
    {
     "data": {
      "image/png": "[encoded data removed]",
      "text/plain": [
       "<Figure size 432x288 with 1 Axes>"
      ]
     },
     "metadata": {
      "needs_background": "light"
     },
     "output_type": "display_data"
    }
   ],
   "source": [
    "roc(model_dtc, features_valid, target_valid, features_train, target_train) #построим ROC-кривую и рассчитаем auc-roc"
   ]
  },
  {
   "cell_type": "markdown",
   "metadata": {},
   "source": [
    "###### Модель случайного леса"
   ]
  },
  {
   "cell_type": "code",
   "execution_count": 60,
   "metadata": {},
   "outputs": [
    {
     "name": "stdout",
     "output_type": "stream",
     "text": [
      "AUC-ROC = 0.851\n",
      "Порог = 0.00 | F1 = 0.327\n",
      "Порог = 0.03 | F1 = 0.352\n",
      "Порог = 0.06 | F1 = 0.407\n",
      "Порог = 0.09 | F1 = 0.459\n",
      "Порог = 0.12 | F1 = 0.488\n",
      "Порог = 0.15 | F1 = 0.527\n",
      "Порог = 0.18 | F1 = 0.546\n",
      "Порог = 0.21 | F1 = 0.563\n",
      "Порог = 0.24 | F1 = 0.578\n",
      "Порог = 0.27 | F1 = 0.584\n",
      "Порог = 0.30 | F1 = 0.598\n",
      "Порог = 0.33 | F1 = 0.616\n",
      "Порог = 0.36 | F1 = 0.609\n",
      "Порог = 0.39 | F1 = 0.594\n",
      "Порог = 0.42 | F1 = 0.592\n",
      "Порог = 0.45 | F1 = 0.572\n",
      "Порог = 0.48 | F1 = 0.565\n",
      "Порог = 0.51 | F1 = 0.557\n",
      "Порог = 0.54 | F1 = 0.538\n",
      "Порог = 0.57 | F1 = 0.514\n"
     ]
    }
   ],
   "source": [
    "model_rfc = RandomForestClassifier(n_estimators=71, max_depth=10, random_state=12345) #обучим модель с заданным количеством деревьев, глубиной дерева\n",
    "threshold(model_rfc, target_valid, features_valid, features_train, target_train) #получим auc-roc и f1 при изменении порога"
   ]
  },
  {
   "cell_type": "markdown",
   "metadata": {},
   "source": [
    "Изобразим на графике, как выглядят значения метрик при изменении порога для модели случайного леса."
   ]
  },
  {
   "cell_type": "code",
   "execution_count": 61,
   "metadata": {},
   "outputs": [
    {
     "data": {
      "text/plain": [
       "{0.8510838172110522, 'AUC-ROC'}"
      ]
     },
     "execution_count": 61,
     "metadata": {},
     "output_type": "execute_result"
    },
    {
     "data": {
      "image/png": "[encoded data removed]",
      "text/plain": [
       "<Figure size 432x288 with 1 Axes>"
      ]
     },
     "metadata": {
      "needs_background": "light"
     },
     "output_type": "display_data"
    }
   ],
   "source": [
    "roc(model_rfc, features_valid, target_valid, features_train, target_train) #построим ROC-кривую и рассчитаем auc-roc"
   ]
  },
  {
   "cell_type": "markdown",
   "metadata": {},
   "source": [
    "###### Модель логистической регрессии"
   ]
  },
  {
   "cell_type": "code",
   "execution_count": 62,
   "metadata": {},
   "outputs": [
    {
     "name": "stdout",
     "output_type": "stream",
     "text": [
      "AUC-ROC = 0.770\n",
      "Порог = 0.00 | F1 = 0.327\n",
      "Порог = 0.03 | F1 = 0.332\n",
      "Порог = 0.06 | F1 = 0.367\n",
      "Порог = 0.09 | F1 = 0.401\n",
      "Порог = 0.12 | F1 = 0.427\n",
      "Порог = 0.15 | F1 = 0.454\n",
      "Порог = 0.18 | F1 = 0.463\n",
      "Порог = 0.21 | F1 = 0.478\n",
      "Порог = 0.24 | F1 = 0.480\n",
      "Порог = 0.27 | F1 = 0.479\n",
      "Порог = 0.30 | F1 = 0.486\n",
      "Порог = 0.33 | F1 = 0.490\n",
      "Порог = 0.36 | F1 = 0.473\n",
      "Порог = 0.39 | F1 = 0.451\n",
      "Порог = 0.42 | F1 = 0.424\n",
      "Порог = 0.45 | F1 = 0.362\n",
      "Порог = 0.48 | F1 = 0.327\n",
      "Порог = 0.51 | F1 = 0.293\n",
      "Порог = 0.54 | F1 = 0.257\n",
      "Порог = 0.57 | F1 = 0.225\n"
     ]
    }
   ],
   "source": [
    "model_lr = LogisticRegression(random_state=12345, solver='liblinear') #обучим модель с заданным количеством итераций, стратегии        \n",
    "threshold(model_lr, target_valid, features_valid, features_train, target_train) #получим auc-roc и f1 при изменении порога"
   ]
  },
  {
   "cell_type": "markdown",
   "metadata": {},
   "source": [
    "Изобразим на графике, как выглядят значения метрик при изменении порога для модели логистической регрессии."
   ]
  },
  {
   "cell_type": "code",
   "execution_count": 63,
   "metadata": {},
   "outputs": [
    {
     "data": {
      "text/plain": [
       "{0.7703025977597243, 'AUC-ROC'}"
      ]
     },
     "execution_count": 63,
     "metadata": {},
     "output_type": "execute_result"
    },
    {
     "data": {
      "image/png": "[encoded data removed]",
      "text/plain": [
       "<Figure size 432x288 with 1 Axes>"
      ]
     },
     "metadata": {
      "needs_background": "light"
     },
     "output_type": "display_data"
    }
   ],
   "source": [
    "roc(model_lr, features_valid, target_valid, features_train, target_train) #построим ROC-кривую и рассчитаем auc-roc"
   ]
  },
  {
   "cell_type": "markdown",
   "metadata": {},
   "source": [
    "###### Вывод"
   ]
  },
  {
   "cell_type": "markdown",
   "metadata": {},
   "source": [
    "Модель решающего дерева: F1 = 0.56 при пороге 0.15(дальше обучать модель нет смысла, т.к. значение метрики снижается), AUC-ROC = 0.82. ROC-кривая выше линии случайной модели. Модель отличается от случайной на 82%.\n",
    "\n",
    "Модель случайного леса: F1 = 0.62 при пороге 0.33 (дальше обучать модель нет смысла, т.к. значение метрики снижается), AUC-ROC = 0.85. ROC-кривая выше линии случайной модели. Модель отличается от случайной на 85%.\n",
    "\n",
    "Модель логистической регрессии: F1 = 0.49 при пороге 0.33(дальше обучать модель нет смысла, т.к. значение метрики снижается), AUC-ROC = 0.77. ROC-кривая выше линии случайной модели. Модель отличается от случайной на 77%.\n",
    "\n",
    "Метрика F1 самой высокой оказалась у модели случайного леса 0.62 при пороге 0.33."
   ]
  },
  {
   "cell_type": "markdown",
   "metadata": {},
   "source": [
    "### Вывод"
   ]
  },
  {
   "cell_type": "markdown",
   "metadata": {},
   "source": [
    "Метрики AUC_ROC у всех моделей больше чем у случайной модели(0.5). Также по графикам видим, что график выше графика случайной модели. Это говорит о большем значении TPR и лучшем качестве модели.\n",
    "\n",
    "Но наилучшее значение все так же показывает модель случайного леса при применении всех техник для борьбы с дисбалансом.\n",
    "\n",
    "Таким образом, наилучший результат по итогам всех тестов из трех моделей показала модель случайного леса при применении метода увеличения выборки с гиперпараметрами n_estimators=71, max_depth=10."
   ]
  },
  {
   "cell_type": "markdown",
   "metadata": {},
   "source": [
    "## Тестирование модели"
   ]
  },
  {
   "cell_type": "markdown",
   "metadata": {},
   "source": [
    "Проверим модель на тестовой выборке."
   ]
  },
  {
   "cell_type": "code",
   "execution_count": 64,
   "metadata": {},
   "outputs": [
    {
     "name": "stdout",
     "output_type": "stream",
     "text": [
      "F1 лучшей модели: 0.6510138740661686\n"
     ]
    }
   ],
   "source": [
    "best_model = RandomForestClassifier(n_estimators=71, max_depth=10, random_state=12345) #обучим модель с заданным количеством деревьев, глубиной дерева\n",
    "print('F1 лучшей модели:', get_f1_score(best_model, target_test, features_test, target_upsampled, features_upsampled, False))"
   ]
  },
  {
   "cell_type": "markdown",
   "metadata": {},
   "source": [
    "Изобразим на ROC-кривую и посчитаем значение метрики AUC-ROC для модели случайного леса с увеличенной выборкой."
   ]
  },
  {
   "cell_type": "code",
   "execution_count": 65,
   "metadata": {},
   "outputs": [
    {
     "data": {
      "text/plain": [
       "{0.8641447970807138, 'AUC-ROC'}"
      ]
     },
     "execution_count": 65,
     "metadata": {},
     "output_type": "execute_result"
    },
    {
     "data": {
      "image/png": "[encoded data removed]",
      "text/plain": [
       "<Figure size 432x288 with 1 Axes>"
      ]
     },
     "metadata": {
      "needs_background": "light"
     },
     "output_type": "display_data"
    }
   ],
   "source": [
    "roc(best_model, features_test, target_test, features_upsampled, target_upsampled) #построим ROC-кривую и рассчитаем auc-roc"
   ]
  },
  {
   "cell_type": "markdown",
   "metadata": {},
   "source": [
    "### Вывод"
   ]
  },
  {
   "cell_type": "markdown",
   "metadata": {},
   "source": [
    "Результаты модели случайного леса на теcтовой выборке с увеличенной выборкой:\n",
    "\n",
    "Метрика AUC_ROC = 0.86 больше чем у случайной модели(0.5). Также по графику видим, что кривая выше линии случайной модели. Это говорит о большем значении TPR и лучшем качестве модели. F1 = 0.65. Удалось достичь меры не менее 0.59."
   ]
  },
  {
   "cell_type": "markdown",
   "metadata": {},
   "source": [
    "## Общий вывод"
   ]
  },
  {
   "cell_type": "markdown",
   "metadata": {},
   "source": [
    "Исходя из результатов, пришли к выводу, что наилучшей моделью является модель случайного леса при увеличении выборки. F1 = 0.60 на валидационных данных F1 = 0.65 на тестовой выборке при количестве деревьев 71 и глубине дерева 10. AUC-ROC = 0.86.\n"
   ]
  },
  {
   "cell_type": "markdown",
   "metadata": {},
   "source": [
    "## Чек-лист готовности проекта"
   ]
  },
  {
   "cell_type": "markdown",
   "metadata": {},
   "source": [
    "Поставьте 'x' в выполненных пунктах. Далее нажмите Shift+Enter."
   ]
  },
  {
   "cell_type": "markdown",
   "metadata": {},
   "source": [
    "- [x]  Jupyter Notebook открыт\n",
    "- [x]  Весь код выполняется без ошибок\n",
    "- [x]  Ячейки с кодом расположены в порядке исполнения\n",
    "- [x]  Выполнен шаг 1: данные подготовлены\n",
    "- [x]  Выполнен шаг 2: задача исследована\n",
    "    - [x]  Исследован баланс классов\n",
    "    - [x]  Изучены модели без учёта дисбаланса\n",
    "    - [x]  Написаны выводы по результатам исследования\n",
    "- [x]  Выполнен шаг 3: учтён дисбаланс\n",
    "    - [x]  Применено несколько способов борьбы с дисбалансом\n",
    "    - [x]  Написаны выводы по результатам исследования\n",
    "- [x]  Выполнен шаг 4: проведено тестирование\n",
    "- [x]  Удалось достичь *F1*-меры не менее 0.59\n",
    "- [x]  Исследована метрика *AUC-ROC*"
   ]
  }
 ],
 "metadata": {
  "ExecuteTimeLog": [
   {
    "duration": 1187,
    "start_time": "2022-04-13T14:01:56.440Z"
   },
   {
    "duration": 44,
    "start_time": "2022-04-13T14:03:16.945Z"
   },
   {
    "duration": 9,
    "start_time": "2022-04-13T14:03:30.751Z"
   },
   {
    "duration": 1643,
    "start_time": "2022-04-14T11:37:44.040Z"
   },
   {
    "duration": 70,
    "start_time": "2022-04-14T11:37:45.686Z"
   },
   {
    "duration": 33,
    "start_time": "2022-04-14T11:37:45.759Z"
   },
   {
    "duration": 15,
    "start_time": "2022-04-14T11:38:03.840Z"
   },
   {
    "duration": 8,
    "start_time": "2022-04-14T11:39:40.599Z"
   },
   {
    "duration": 14,
    "start_time": "2022-04-14T12:59:54.642Z"
   },
   {
    "duration": 6,
    "start_time": "2022-04-14T12:59:57.872Z"
   },
   {
    "duration": 10,
    "start_time": "2022-04-14T13:01:12.523Z"
   },
   {
    "duration": 11,
    "start_time": "2022-04-14T13:40:23.063Z"
   },
   {
    "duration": 9,
    "start_time": "2022-04-14T13:41:33.067Z"
   },
   {
    "duration": 46,
    "start_time": "2022-04-14T13:41:55.248Z"
   },
   {
    "duration": 72,
    "start_time": "2022-04-14T13:41:57.892Z"
   },
   {
    "duration": 11,
    "start_time": "2022-04-14T13:41:59.657Z"
   },
   {
    "duration": 10,
    "start_time": "2022-04-14T13:42:01.576Z"
   },
   {
    "duration": 10,
    "start_time": "2022-04-14T13:42:03.432Z"
   },
   {
    "duration": 11,
    "start_time": "2022-04-14T13:49:57.207Z"
   },
   {
    "duration": 11,
    "start_time": "2022-04-14T13:50:35.341Z"
   },
   {
    "duration": 12,
    "start_time": "2022-04-14T13:50:36.948Z"
   },
   {
    "duration": 13,
    "start_time": "2022-04-14T13:51:56.503Z"
   },
   {
    "duration": 12,
    "start_time": "2022-04-14T13:51:57.686Z"
   },
   {
    "duration": 11,
    "start_time": "2022-04-14T13:52:05.562Z"
   },
   {
    "duration": 10,
    "start_time": "2022-04-14T13:53:30.687Z"
   },
   {
    "duration": 10,
    "start_time": "2022-04-14T13:53:31.567Z"
   },
   {
    "duration": 10,
    "start_time": "2022-04-14T13:56:43.446Z"
   },
   {
    "duration": 52,
    "start_time": "2022-04-14T13:57:03.637Z"
   },
   {
    "duration": 69,
    "start_time": "2022-04-14T13:57:05.022Z"
   },
   {
    "duration": 11,
    "start_time": "2022-04-14T13:57:06.462Z"
   },
   {
    "duration": 9,
    "start_time": "2022-04-14T13:57:07.821Z"
   },
   {
    "duration": 7,
    "start_time": "2022-04-14T13:57:09.221Z"
   },
   {
    "duration": 6,
    "start_time": "2022-04-14T13:57:10.281Z"
   },
   {
    "duration": 4,
    "start_time": "2022-04-14T14:21:10.075Z"
   },
   {
    "duration": 1208,
    "start_time": "2022-04-15T06:40:22.463Z"
   },
   {
    "duration": 49,
    "start_time": "2022-04-15T06:40:23.673Z"
   },
   {
    "duration": 8,
    "start_time": "2022-04-15T06:40:25.938Z"
   },
   {
    "duration": 3,
    "start_time": "2022-04-15T06:40:27.679Z"
   },
   {
    "duration": 14,
    "start_time": "2022-04-15T06:42:12.188Z"
   },
   {
    "duration": 39,
    "start_time": "2022-04-15T06:47:20.393Z"
   },
   {
    "duration": 47,
    "start_time": "2022-04-15T06:47:21.298Z"
   },
   {
    "duration": 9,
    "start_time": "2022-04-15T06:47:22.238Z"
   },
   {
    "duration": 4,
    "start_time": "2022-04-15T06:47:23.928Z"
   },
   {
    "duration": 14,
    "start_time": "2022-04-15T06:47:25.258Z"
   },
   {
    "duration": 35,
    "start_time": "2022-04-15T06:48:30.097Z"
   },
   {
    "duration": 48,
    "start_time": "2022-04-15T06:48:30.877Z"
   },
   {
    "duration": 8,
    "start_time": "2022-04-15T06:48:32.207Z"
   },
   {
    "duration": 4,
    "start_time": "2022-04-15T06:48:34.122Z"
   },
   {
    "duration": 13,
    "start_time": "2022-04-15T06:48:35.143Z"
   },
   {
    "duration": 3,
    "start_time": "2022-04-15T06:50:48.298Z"
   },
   {
    "duration": 13,
    "start_time": "2022-04-15T06:50:49.393Z"
   },
   {
    "duration": 28,
    "start_time": "2022-04-15T06:51:06.620Z"
   },
   {
    "duration": 100,
    "start_time": "2022-04-15T07:18:35.707Z"
   },
   {
    "duration": 4,
    "start_time": "2022-04-15T07:18:59.112Z"
   },
   {
    "duration": 15,
    "start_time": "2022-04-15T07:19:02.730Z"
   },
   {
    "duration": 8,
    "start_time": "2022-04-15T07:19:08.187Z"
   },
   {
    "duration": 28,
    "start_time": "2022-04-15T07:19:22.132Z"
   },
   {
    "duration": 10,
    "start_time": "2022-04-15T07:19:34.820Z"
   },
   {
    "duration": 8,
    "start_time": "2022-04-15T07:19:49.592Z"
   },
   {
    "duration": 7,
    "start_time": "2022-04-15T07:19:51.071Z"
   },
   {
    "duration": 4,
    "start_time": "2022-04-15T07:19:52.046Z"
   },
   {
    "duration": 1996,
    "start_time": "2022-04-15T07:19:58.533Z"
   },
   {
    "duration": 6,
    "start_time": "2022-04-15T07:20:05.421Z"
   },
   {
    "duration": 20,
    "start_time": "2022-04-15T07:20:22.403Z"
   },
   {
    "duration": 10,
    "start_time": "2022-04-15T07:20:23.486Z"
   },
   {
    "duration": 12,
    "start_time": "2022-04-15T07:20:24.569Z"
   },
   {
    "duration": 20,
    "start_time": "2022-04-15T08:49:16.486Z"
   },
   {
    "duration": 20,
    "start_time": "2022-04-15T08:50:43.677Z"
   },
   {
    "duration": 36,
    "start_time": "2022-04-15T08:51:26.406Z"
   },
   {
    "duration": 47,
    "start_time": "2022-04-15T08:51:27.227Z"
   },
   {
    "duration": 8,
    "start_time": "2022-04-15T08:51:27.946Z"
   },
   {
    "duration": 4,
    "start_time": "2022-04-15T08:51:29.971Z"
   },
   {
    "duration": 4,
    "start_time": "2022-04-15T08:51:30.406Z"
   },
   {
    "duration": 14,
    "start_time": "2022-04-15T08:51:30.874Z"
   },
   {
    "duration": 5,
    "start_time": "2022-04-15T08:51:32.546Z"
   },
   {
    "duration": 11,
    "start_time": "2022-04-15T08:51:34.371Z"
   },
   {
    "duration": 9,
    "start_time": "2022-04-15T08:51:39.827Z"
   },
   {
    "duration": 6,
    "start_time": "2022-04-15T08:51:40.507Z"
   },
   {
    "duration": 3,
    "start_time": "2022-04-15T08:51:41.229Z"
   },
   {
    "duration": 5,
    "start_time": "2022-04-15T08:51:42.446Z"
   },
   {
    "duration": 18,
    "start_time": "2022-04-15T08:51:55.197Z"
   },
   {
    "duration": 10,
    "start_time": "2022-04-15T08:51:56.217Z"
   },
   {
    "duration": 11,
    "start_time": "2022-04-15T08:51:56.891Z"
   },
   {
    "duration": 18,
    "start_time": "2022-04-15T08:52:00.326Z"
   },
   {
    "duration": 40,
    "start_time": "2022-04-15T08:52:07.958Z"
   },
   {
    "duration": 37,
    "start_time": "2022-04-15T08:52:25.981Z"
   },
   {
    "duration": 47,
    "start_time": "2022-04-15T08:52:26.424Z"
   },
   {
    "duration": 8,
    "start_time": "2022-04-15T08:52:26.886Z"
   },
   {
    "duration": 4,
    "start_time": "2022-04-15T08:52:28.087Z"
   },
   {
    "duration": 3,
    "start_time": "2022-04-15T08:52:28.657Z"
   },
   {
    "duration": 14,
    "start_time": "2022-04-15T08:52:29.106Z"
   },
   {
    "duration": 5,
    "start_time": "2022-04-15T08:53:21.187Z"
   },
   {
    "duration": 14,
    "start_time": "2022-04-15T08:55:17.477Z"
   },
   {
    "duration": 8,
    "start_time": "2022-04-15T08:55:18.446Z"
   },
   {
    "duration": 6,
    "start_time": "2022-04-15T08:55:19.015Z"
   },
   {
    "duration": 4,
    "start_time": "2022-04-15T08:55:19.847Z"
   },
   {
    "duration": 5,
    "start_time": "2022-04-15T08:55:23.848Z"
   },
   {
    "duration": 1181,
    "start_time": "2022-04-15T09:46:05.709Z"
   },
   {
    "duration": 49,
    "start_time": "2022-04-15T09:46:06.892Z"
   },
   {
    "duration": 9,
    "start_time": "2022-04-15T09:46:06.943Z"
   },
   {
    "duration": 21,
    "start_time": "2022-04-15T09:46:06.954Z"
   },
   {
    "duration": 4,
    "start_time": "2022-04-15T09:46:06.978Z"
   },
   {
    "duration": 18,
    "start_time": "2022-04-15T09:46:06.983Z"
   },
   {
    "duration": 14,
    "start_time": "2022-04-15T09:46:07.003Z"
   },
   {
    "duration": 12,
    "start_time": "2022-04-15T09:46:07.018Z"
   },
   {
    "duration": 8,
    "start_time": "2022-04-15T09:46:07.032Z"
   },
   {
    "duration": 31,
    "start_time": "2022-04-15T09:46:07.042Z"
   },
   {
    "duration": 4,
    "start_time": "2022-04-15T09:46:07.075Z"
   },
   {
    "duration": 12,
    "start_time": "2022-04-15T09:46:07.080Z"
   },
   {
    "duration": 20,
    "start_time": "2022-04-15T09:46:07.093Z"
   },
   {
    "duration": 9,
    "start_time": "2022-04-15T09:46:07.116Z"
   },
   {
    "duration": 11,
    "start_time": "2022-04-15T09:46:07.127Z"
   },
   {
    "duration": 46,
    "start_time": "2022-04-15T09:46:07.139Z"
   },
   {
    "duration": 36,
    "start_time": "2022-04-15T09:46:07.186Z"
   },
   {
    "duration": 1916,
    "start_time": "2022-04-15T10:01:27.766Z"
   },
   {
    "duration": 5,
    "start_time": "2022-04-15T10:01:39.040Z"
   },
   {
    "duration": 691,
    "start_time": "2022-04-15T11:09:27.989Z"
   },
   {
    "duration": 36,
    "start_time": "2022-04-15T11:09:32.827Z"
   },
   {
    "duration": 675,
    "start_time": "2022-04-15T11:09:35.150Z"
   },
   {
    "duration": 120,
    "start_time": "2022-04-15T11:10:04.362Z"
   },
   {
    "duration": 16,
    "start_time": "2022-04-15T11:11:56.910Z"
   },
   {
    "duration": 15,
    "start_time": "2022-04-15T11:12:29.931Z"
   },
   {
    "duration": 1228,
    "start_time": "2022-04-15T11:13:21.359Z"
   },
   {
    "duration": 52,
    "start_time": "2022-04-15T11:13:22.590Z"
   },
   {
    "duration": 9,
    "start_time": "2022-04-15T11:13:22.643Z"
   },
   {
    "duration": 5,
    "start_time": "2022-04-15T11:13:22.673Z"
   },
   {
    "duration": 7,
    "start_time": "2022-04-15T11:13:22.681Z"
   },
   {
    "duration": 19,
    "start_time": "2022-04-15T11:13:22.690Z"
   },
   {
    "duration": 7,
    "start_time": "2022-04-15T11:13:22.711Z"
   },
   {
    "duration": 19,
    "start_time": "2022-04-15T11:13:22.720Z"
   },
   {
    "duration": 8,
    "start_time": "2022-04-15T11:13:22.741Z"
   },
   {
    "duration": 26,
    "start_time": "2022-04-15T11:13:22.751Z"
   },
   {
    "duration": 5,
    "start_time": "2022-04-15T11:13:22.779Z"
   },
   {
    "duration": 6,
    "start_time": "2022-04-15T11:13:22.786Z"
   },
   {
    "duration": 23,
    "start_time": "2022-04-15T11:13:22.794Z"
   },
   {
    "duration": 11,
    "start_time": "2022-04-15T11:13:22.820Z"
   },
   {
    "duration": 12,
    "start_time": "2022-04-15T11:13:22.833Z"
   },
   {
    "duration": 47,
    "start_time": "2022-04-15T11:13:22.846Z"
   },
   {
    "duration": 40,
    "start_time": "2022-04-15T11:13:22.895Z"
   },
   {
    "duration": 778,
    "start_time": "2022-04-15T11:13:22.937Z"
   },
   {
    "duration": 165,
    "start_time": "2022-04-15T11:13:23.717Z"
   },
   {
    "duration": 230,
    "start_time": "2022-04-15T11:13:23.976Z"
   },
   {
    "duration": 60,
    "start_time": "2022-04-15T11:14:46.796Z"
   },
   {
    "duration": 22,
    "start_time": "2022-04-15T11:34:06.437Z"
   },
   {
    "duration": 41,
    "start_time": "2022-04-15T11:35:35.017Z"
   },
   {
    "duration": 1148,
    "start_time": "2022-04-15T11:35:39.720Z"
   },
   {
    "duration": 46,
    "start_time": "2022-04-15T11:35:40.870Z"
   },
   {
    "duration": 8,
    "start_time": "2022-04-15T11:35:40.917Z"
   },
   {
    "duration": 4,
    "start_time": "2022-04-15T11:35:40.926Z"
   },
   {
    "duration": 5,
    "start_time": "2022-04-15T11:35:40.932Z"
   },
   {
    "duration": 18,
    "start_time": "2022-04-15T11:35:40.938Z"
   },
   {
    "duration": 4,
    "start_time": "2022-04-15T11:35:40.974Z"
   },
   {
    "duration": 17,
    "start_time": "2022-04-15T11:35:40.980Z"
   },
   {
    "duration": 8,
    "start_time": "2022-04-15T11:35:40.999Z"
   },
   {
    "duration": 5,
    "start_time": "2022-04-15T11:35:41.010Z"
   },
   {
    "duration": 8,
    "start_time": "2022-04-15T11:35:41.016Z"
   },
   {
    "duration": 8,
    "start_time": "2022-04-15T11:35:41.026Z"
   },
   {
    "duration": 38,
    "start_time": "2022-04-15T11:35:41.036Z"
   },
   {
    "duration": 10,
    "start_time": "2022-04-15T11:35:41.076Z"
   },
   {
    "duration": 11,
    "start_time": "2022-04-15T11:35:41.087Z"
   },
   {
    "duration": 23,
    "start_time": "2022-04-15T11:35:41.099Z"
   },
   {
    "duration": 133,
    "start_time": "2022-04-15T11:35:41.123Z"
   },
   {
    "duration": 0,
    "start_time": "2022-04-15T11:35:41.258Z"
   },
   {
    "duration": 0,
    "start_time": "2022-04-15T11:35:41.259Z"
   },
   {
    "duration": 0,
    "start_time": "2022-04-15T11:35:41.261Z"
   },
   {
    "duration": 217,
    "start_time": "2022-04-15T11:36:10.590Z"
   },
   {
    "duration": 212,
    "start_time": "2022-04-15T11:49:22.700Z"
   },
   {
    "duration": 9,
    "start_time": "2022-04-15T11:49:28.840Z"
   },
   {
    "duration": 215,
    "start_time": "2022-04-15T11:49:40.620Z"
   },
   {
    "duration": 3,
    "start_time": "2022-04-15T11:49:41.980Z"
   },
   {
    "duration": 214,
    "start_time": "2022-04-15T11:50:17.914Z"
   },
   {
    "duration": 4,
    "start_time": "2022-04-15T11:50:18.844Z"
   },
   {
    "duration": 222,
    "start_time": "2022-04-15T11:50:33.874Z"
   },
   {
    "duration": 4,
    "start_time": "2022-04-15T11:50:34.756Z"
   },
   {
    "duration": 209,
    "start_time": "2022-04-15T11:51:07.980Z"
   },
   {
    "duration": 5,
    "start_time": "2022-04-15T11:51:08.895Z"
   },
   {
    "duration": 311,
    "start_time": "2022-04-15T11:51:32.069Z"
   },
   {
    "duration": 4,
    "start_time": "2022-04-15T11:51:33.440Z"
   },
   {
    "duration": 209,
    "start_time": "2022-04-15T11:51:41.740Z"
   },
   {
    "duration": 4,
    "start_time": "2022-04-15T11:51:43.010Z"
   },
   {
    "duration": 74,
    "start_time": "2022-04-15T11:51:50.804Z"
   },
   {
    "duration": 4,
    "start_time": "2022-04-15T11:51:52.192Z"
   },
   {
    "duration": 4,
    "start_time": "2022-04-15T11:53:36.540Z"
   },
   {
    "duration": 71,
    "start_time": "2022-04-15T11:53:43.925Z"
   },
   {
    "duration": 4,
    "start_time": "2022-04-15T11:53:45.040Z"
   },
   {
    "duration": 3,
    "start_time": "2022-04-15T11:53:52.455Z"
   },
   {
    "duration": 3,
    "start_time": "2022-04-15T11:53:53.104Z"
   },
   {
    "duration": 73,
    "start_time": "2022-04-15T11:53:55.569Z"
   },
   {
    "duration": 4,
    "start_time": "2022-04-15T11:53:57.014Z"
   },
   {
    "duration": 1134,
    "start_time": "2022-04-15T11:54:33.129Z"
   },
   {
    "duration": 47,
    "start_time": "2022-04-15T11:54:34.265Z"
   },
   {
    "duration": 8,
    "start_time": "2022-04-15T11:54:34.313Z"
   },
   {
    "duration": 4,
    "start_time": "2022-04-15T11:54:34.323Z"
   },
   {
    "duration": 5,
    "start_time": "2022-04-15T11:54:34.328Z"
   },
   {
    "duration": 16,
    "start_time": "2022-04-15T11:54:34.334Z"
   },
   {
    "duration": 21,
    "start_time": "2022-04-15T11:54:34.352Z"
   },
   {
    "duration": 19,
    "start_time": "2022-04-15T11:54:34.375Z"
   },
   {
    "duration": 8,
    "start_time": "2022-04-15T11:54:34.396Z"
   },
   {
    "duration": 5,
    "start_time": "2022-04-15T11:54:34.406Z"
   },
   {
    "duration": 3,
    "start_time": "2022-04-15T11:54:34.413Z"
   },
   {
    "duration": 7,
    "start_time": "2022-04-15T11:54:34.418Z"
   },
   {
    "duration": 20,
    "start_time": "2022-04-15T11:54:34.426Z"
   },
   {
    "duration": 31,
    "start_time": "2022-04-15T11:54:34.447Z"
   },
   {
    "duration": 10,
    "start_time": "2022-04-15T11:54:34.480Z"
   },
   {
    "duration": 29,
    "start_time": "2022-04-15T11:54:34.492Z"
   },
   {
    "duration": 21,
    "start_time": "2022-04-15T11:54:34.522Z"
   },
   {
    "duration": 7,
    "start_time": "2022-04-15T11:54:34.545Z"
   },
   {
    "duration": 83,
    "start_time": "2022-04-15T11:54:34.553Z"
   },
   {
    "duration": 99,
    "start_time": "2022-04-15T11:54:34.638Z"
   },
   {
    "duration": 0,
    "start_time": "2022-04-15T11:54:34.738Z"
   },
   {
    "duration": 0,
    "start_time": "2022-04-15T11:54:34.739Z"
   },
   {
    "duration": 0,
    "start_time": "2022-04-15T11:54:34.740Z"
   },
   {
    "duration": 4,
    "start_time": "2022-04-15T11:54:47.614Z"
   },
   {
    "duration": 1215,
    "start_time": "2022-04-15T11:54:52.737Z"
   },
   {
    "duration": 48,
    "start_time": "2022-04-15T11:54:53.954Z"
   },
   {
    "duration": 8,
    "start_time": "2022-04-15T11:54:54.004Z"
   },
   {
    "duration": 5,
    "start_time": "2022-04-15T11:54:54.014Z"
   },
   {
    "duration": 5,
    "start_time": "2022-04-15T11:54:54.021Z"
   },
   {
    "duration": 19,
    "start_time": "2022-04-15T11:54:54.027Z"
   },
   {
    "duration": 25,
    "start_time": "2022-04-15T11:54:54.048Z"
   },
   {
    "duration": 13,
    "start_time": "2022-04-15T11:54:54.075Z"
   },
   {
    "duration": 9,
    "start_time": "2022-04-15T11:54:54.090Z"
   },
   {
    "duration": 5,
    "start_time": "2022-04-15T11:54:54.102Z"
   },
   {
    "duration": 6,
    "start_time": "2022-04-15T11:54:54.108Z"
   },
   {
    "duration": 7,
    "start_time": "2022-04-15T11:54:54.116Z"
   },
   {
    "duration": 20,
    "start_time": "2022-04-15T11:54:54.125Z"
   },
   {
    "duration": 38,
    "start_time": "2022-04-15T11:54:54.146Z"
   },
   {
    "duration": 12,
    "start_time": "2022-04-15T11:54:54.186Z"
   },
   {
    "duration": 20,
    "start_time": "2022-04-15T11:54:54.200Z"
   },
   {
    "duration": 7,
    "start_time": "2022-04-15T11:54:54.221Z"
   },
   {
    "duration": 6,
    "start_time": "2022-04-15T11:54:54.229Z"
   },
   {
    "duration": 106,
    "start_time": "2022-04-15T11:54:54.237Z"
   },
   {
    "duration": 100,
    "start_time": "2022-04-15T11:54:54.345Z"
   },
   {
    "duration": 0,
    "start_time": "2022-04-15T11:54:54.446Z"
   },
   {
    "duration": 0,
    "start_time": "2022-04-15T11:54:54.447Z"
   },
   {
    "duration": 0,
    "start_time": "2022-04-15T11:54:54.448Z"
   },
   {
    "duration": 1403,
    "start_time": "2022-04-15T11:55:25.662Z"
   },
   {
    "duration": 46,
    "start_time": "2022-04-15T11:55:27.067Z"
   },
   {
    "duration": 7,
    "start_time": "2022-04-15T11:55:27.115Z"
   },
   {
    "duration": 12,
    "start_time": "2022-04-15T11:55:27.124Z"
   },
   {
    "duration": 4,
    "start_time": "2022-04-15T11:55:27.138Z"
   },
   {
    "duration": 15,
    "start_time": "2022-04-15T11:55:27.143Z"
   },
   {
    "duration": 7,
    "start_time": "2022-04-15T11:55:27.160Z"
   },
   {
    "duration": 13,
    "start_time": "2022-04-15T11:55:27.168Z"
   },
   {
    "duration": 7,
    "start_time": "2022-04-15T11:55:27.182Z"
   },
   {
    "duration": 4,
    "start_time": "2022-04-15T11:55:27.192Z"
   },
   {
    "duration": 4,
    "start_time": "2022-04-15T11:55:27.197Z"
   },
   {
    "duration": 8,
    "start_time": "2022-04-15T11:55:27.203Z"
   },
   {
    "duration": 22,
    "start_time": "2022-04-15T11:55:27.213Z"
   },
   {
    "duration": 9,
    "start_time": "2022-04-15T11:55:27.236Z"
   },
   {
    "duration": 28,
    "start_time": "2022-04-15T11:55:27.247Z"
   },
   {
    "duration": 19,
    "start_time": "2022-04-15T11:55:27.277Z"
   },
   {
    "duration": 6,
    "start_time": "2022-04-15T11:55:27.297Z"
   },
   {
    "duration": 5,
    "start_time": "2022-04-15T11:55:27.304Z"
   },
   {
    "duration": 225,
    "start_time": "2022-04-15T11:55:27.310Z"
   },
   {
    "duration": 1,
    "start_time": "2022-04-15T11:55:27.536Z"
   },
   {
    "duration": 0,
    "start_time": "2022-04-15T11:55:27.538Z"
   },
   {
    "duration": 0,
    "start_time": "2022-04-15T11:55:27.539Z"
   },
   {
    "duration": 0,
    "start_time": "2022-04-15T11:55:27.540Z"
   },
   {
    "duration": 1191,
    "start_time": "2022-04-15T11:55:48.253Z"
   },
   {
    "duration": 46,
    "start_time": "2022-04-15T11:55:49.446Z"
   },
   {
    "duration": 8,
    "start_time": "2022-04-15T11:55:49.493Z"
   },
   {
    "duration": 8,
    "start_time": "2022-04-15T11:55:49.502Z"
   },
   {
    "duration": 7,
    "start_time": "2022-04-15T11:55:49.512Z"
   },
   {
    "duration": 19,
    "start_time": "2022-04-15T11:55:49.521Z"
   },
   {
    "duration": 9,
    "start_time": "2022-04-15T11:55:49.541Z"
   },
   {
    "duration": 22,
    "start_time": "2022-04-15T11:55:49.551Z"
   },
   {
    "duration": 8,
    "start_time": "2022-04-15T11:55:49.575Z"
   },
   {
    "duration": 5,
    "start_time": "2022-04-15T11:55:49.584Z"
   },
   {
    "duration": 6,
    "start_time": "2022-04-15T11:55:49.590Z"
   },
   {
    "duration": 6,
    "start_time": "2022-04-15T11:55:49.598Z"
   },
   {
    "duration": 20,
    "start_time": "2022-04-15T11:55:49.606Z"
   },
   {
    "duration": 9,
    "start_time": "2022-04-15T11:55:49.629Z"
   },
   {
    "duration": 41,
    "start_time": "2022-04-15T11:55:49.639Z"
   },
   {
    "duration": 18,
    "start_time": "2022-04-15T11:55:49.681Z"
   },
   {
    "duration": 6,
    "start_time": "2022-04-15T11:55:49.701Z"
   },
   {
    "duration": 6,
    "start_time": "2022-04-15T11:55:49.709Z"
   },
   {
    "duration": 182,
    "start_time": "2022-04-15T11:55:49.716Z"
   },
   {
    "duration": 0,
    "start_time": "2022-04-15T11:55:49.899Z"
   },
   {
    "duration": 0,
    "start_time": "2022-04-15T11:55:49.900Z"
   },
   {
    "duration": 0,
    "start_time": "2022-04-15T11:55:49.901Z"
   },
   {
    "duration": 0,
    "start_time": "2022-04-15T11:55:49.902Z"
   },
   {
    "duration": 1179,
    "start_time": "2022-04-15T11:56:45.892Z"
   },
   {
    "duration": 48,
    "start_time": "2022-04-15T11:56:47.073Z"
   },
   {
    "duration": 8,
    "start_time": "2022-04-15T11:56:47.123Z"
   },
   {
    "duration": 8,
    "start_time": "2022-04-15T11:56:47.134Z"
   },
   {
    "duration": 5,
    "start_time": "2022-04-15T11:56:47.144Z"
   },
   {
    "duration": 31,
    "start_time": "2022-04-15T11:56:47.151Z"
   },
   {
    "duration": 10,
    "start_time": "2022-04-15T11:56:47.184Z"
   },
   {
    "duration": 17,
    "start_time": "2022-04-15T11:56:47.196Z"
   },
   {
    "duration": 12,
    "start_time": "2022-04-15T11:56:47.214Z"
   },
   {
    "duration": 6,
    "start_time": "2022-04-15T11:56:47.229Z"
   },
   {
    "duration": 5,
    "start_time": "2022-04-15T11:56:47.237Z"
   },
   {
    "duration": 36,
    "start_time": "2022-04-15T11:56:47.243Z"
   },
   {
    "duration": 21,
    "start_time": "2022-04-15T11:56:47.281Z"
   },
   {
    "duration": 12,
    "start_time": "2022-04-15T11:56:47.304Z"
   },
   {
    "duration": 12,
    "start_time": "2022-04-15T11:56:47.318Z"
   },
   {
    "duration": 51,
    "start_time": "2022-04-15T11:56:47.332Z"
   },
   {
    "duration": 4,
    "start_time": "2022-04-15T11:56:47.385Z"
   },
   {
    "duration": 7,
    "start_time": "2022-04-15T11:56:47.390Z"
   },
   {
    "duration": 194,
    "start_time": "2022-04-15T11:56:47.398Z"
   },
   {
    "duration": 0,
    "start_time": "2022-04-15T11:56:47.595Z"
   },
   {
    "duration": 0,
    "start_time": "2022-04-15T11:56:47.596Z"
   },
   {
    "duration": 0,
    "start_time": "2022-04-15T11:56:47.598Z"
   },
   {
    "duration": 0,
    "start_time": "2022-04-15T11:56:47.599Z"
   },
   {
    "duration": 1147,
    "start_time": "2022-04-15T11:57:03.724Z"
   },
   {
    "duration": 47,
    "start_time": "2022-04-15T11:57:04.873Z"
   },
   {
    "duration": 8,
    "start_time": "2022-04-15T11:57:04.921Z"
   },
   {
    "duration": 6,
    "start_time": "2022-04-15T11:57:04.931Z"
   },
   {
    "duration": 4,
    "start_time": "2022-04-15T11:57:04.939Z"
   },
   {
    "duration": 33,
    "start_time": "2022-04-15T11:57:04.944Z"
   },
   {
    "duration": 7,
    "start_time": "2022-04-15T11:57:04.978Z"
   },
   {
    "duration": 14,
    "start_time": "2022-04-15T11:57:04.986Z"
   },
   {
    "duration": 8,
    "start_time": "2022-04-15T11:57:05.002Z"
   },
   {
    "duration": 7,
    "start_time": "2022-04-15T11:57:05.013Z"
   },
   {
    "duration": 8,
    "start_time": "2022-04-15T11:57:05.021Z"
   },
   {
    "duration": 12,
    "start_time": "2022-04-15T11:57:05.031Z"
   },
   {
    "duration": 45,
    "start_time": "2022-04-15T11:57:05.045Z"
   },
   {
    "duration": 10,
    "start_time": "2022-04-15T11:57:05.092Z"
   },
   {
    "duration": 12,
    "start_time": "2022-04-15T11:57:05.103Z"
   },
   {
    "duration": 19,
    "start_time": "2022-04-15T11:57:05.116Z"
   },
   {
    "duration": 6,
    "start_time": "2022-04-15T11:57:05.136Z"
   },
   {
    "duration": 6,
    "start_time": "2022-04-15T11:57:05.143Z"
   },
   {
    "duration": 184,
    "start_time": "2022-04-15T11:57:05.174Z"
   },
   {
    "duration": 0,
    "start_time": "2022-04-15T11:57:05.360Z"
   },
   {
    "duration": 0,
    "start_time": "2022-04-15T11:57:05.361Z"
   },
   {
    "duration": 0,
    "start_time": "2022-04-15T11:57:05.362Z"
   },
   {
    "duration": 0,
    "start_time": "2022-04-15T11:57:05.362Z"
   },
   {
    "duration": 1219,
    "start_time": "2022-04-15T11:57:28.658Z"
   },
   {
    "duration": 47,
    "start_time": "2022-04-15T11:57:29.879Z"
   },
   {
    "duration": 8,
    "start_time": "2022-04-15T11:57:29.928Z"
   },
   {
    "duration": 5,
    "start_time": "2022-04-15T11:57:29.937Z"
   },
   {
    "duration": 5,
    "start_time": "2022-04-15T11:57:29.944Z"
   },
   {
    "duration": 30,
    "start_time": "2022-04-15T11:57:29.951Z"
   },
   {
    "duration": 7,
    "start_time": "2022-04-15T11:57:29.983Z"
   },
   {
    "duration": 12,
    "start_time": "2022-04-15T11:57:29.991Z"
   },
   {
    "duration": 9,
    "start_time": "2022-04-15T11:57:30.005Z"
   },
   {
    "duration": 7,
    "start_time": "2022-04-15T11:57:30.016Z"
   },
   {
    "duration": 15,
    "start_time": "2022-04-15T11:57:30.025Z"
   },
   {
    "duration": 32,
    "start_time": "2022-04-15T11:57:30.042Z"
   },
   {
    "duration": 25,
    "start_time": "2022-04-15T11:57:30.076Z"
   },
   {
    "duration": 10,
    "start_time": "2022-04-15T11:57:30.104Z"
   },
   {
    "duration": 27,
    "start_time": "2022-04-15T11:57:30.116Z"
   },
   {
    "duration": 26,
    "start_time": "2022-04-15T11:57:30.144Z"
   },
   {
    "duration": 15,
    "start_time": "2022-04-15T11:57:30.171Z"
   },
   {
    "duration": 15,
    "start_time": "2022-04-15T11:57:30.188Z"
   },
   {
    "duration": 80,
    "start_time": "2022-04-15T11:57:30.205Z"
   },
   {
    "duration": 4,
    "start_time": "2022-04-15T11:57:30.287Z"
   },
   {
    "duration": 668,
    "start_time": "2022-04-15T11:57:30.293Z"
   },
   {
    "duration": 211,
    "start_time": "2022-04-15T11:57:30.963Z"
   },
   {
    "duration": 160,
    "start_time": "2022-04-15T11:57:31.177Z"
   },
   {
    "duration": 4,
    "start_time": "2022-04-15T11:59:10.799Z"
   },
   {
    "duration": 3,
    "start_time": "2022-04-15T11:59:20.133Z"
   },
   {
    "duration": 3,
    "start_time": "2022-04-15T11:59:31.318Z"
   },
   {
    "duration": 4,
    "start_time": "2022-04-15T11:59:32.537Z"
   },
   {
    "duration": 79,
    "start_time": "2022-04-15T11:59:41.393Z"
   },
   {
    "duration": 3,
    "start_time": "2022-04-15T11:59:44.084Z"
   },
   {
    "duration": 8,
    "start_time": "2022-04-15T11:59:57.078Z"
   },
   {
    "duration": 962,
    "start_time": "2022-04-15T12:01:06.739Z"
   },
   {
    "duration": 9,
    "start_time": "2022-04-15T12:01:12.882Z"
   },
   {
    "duration": 134,
    "start_time": "2022-04-15T12:02:22.944Z"
   },
   {
    "duration": 9,
    "start_time": "2022-04-15T12:02:24.112Z"
   },
   {
    "duration": 4,
    "start_time": "2022-04-15T12:02:52.004Z"
   },
   {
    "duration": 3,
    "start_time": "2022-04-15T12:02:52.978Z"
   },
   {
    "duration": 83,
    "start_time": "2022-04-15T12:02:54.102Z"
   },
   {
    "duration": 8,
    "start_time": "2022-04-15T12:02:55.143Z"
   },
   {
    "duration": 951,
    "start_time": "2022-04-15T12:02:56.908Z"
   },
   {
    "duration": 9,
    "start_time": "2022-04-15T12:02:58.343Z"
   },
   {
    "duration": 223,
    "start_time": "2022-04-15T12:03:02.653Z"
   },
   {
    "duration": 9,
    "start_time": "2022-04-15T12:03:03.967Z"
   },
   {
    "duration": 1155,
    "start_time": "2022-04-15T12:04:44.114Z"
   },
   {
    "duration": 52,
    "start_time": "2022-04-15T12:04:45.271Z"
   },
   {
    "duration": 8,
    "start_time": "2022-04-15T12:04:45.325Z"
   },
   {
    "duration": 5,
    "start_time": "2022-04-15T12:04:45.335Z"
   },
   {
    "duration": 3,
    "start_time": "2022-04-15T12:04:45.343Z"
   },
   {
    "duration": 37,
    "start_time": "2022-04-15T12:04:45.348Z"
   },
   {
    "duration": 6,
    "start_time": "2022-04-15T12:04:45.387Z"
   },
   {
    "duration": 13,
    "start_time": "2022-04-15T12:04:45.395Z"
   },
   {
    "duration": 9,
    "start_time": "2022-04-15T12:04:45.410Z"
   },
   {
    "duration": 7,
    "start_time": "2022-04-15T12:04:45.421Z"
   },
   {
    "duration": 4,
    "start_time": "2022-04-15T12:04:45.429Z"
   },
   {
    "duration": 39,
    "start_time": "2022-04-15T12:04:45.435Z"
   },
   {
    "duration": 21,
    "start_time": "2022-04-15T12:04:45.476Z"
   },
   {
    "duration": 11,
    "start_time": "2022-04-15T12:04:45.500Z"
   },
   {
    "duration": 12,
    "start_time": "2022-04-15T12:04:45.513Z"
   },
   {
    "duration": 55,
    "start_time": "2022-04-15T12:04:45.527Z"
   },
   {
    "duration": 5,
    "start_time": "2022-04-15T12:04:45.584Z"
   },
   {
    "duration": 7,
    "start_time": "2022-04-15T12:04:45.591Z"
   },
   {
    "duration": 129,
    "start_time": "2022-04-15T12:04:45.600Z"
   },
   {
    "duration": 0,
    "start_time": "2022-04-15T12:04:45.731Z"
   },
   {
    "duration": 0,
    "start_time": "2022-04-15T12:04:45.732Z"
   },
   {
    "duration": 0,
    "start_time": "2022-04-15T12:04:45.733Z"
   },
   {
    "duration": 0,
    "start_time": "2022-04-15T12:04:45.735Z"
   },
   {
    "duration": 0,
    "start_time": "2022-04-15T12:04:45.737Z"
   },
   {
    "duration": 0,
    "start_time": "2022-04-15T12:04:45.738Z"
   },
   {
    "duration": 0,
    "start_time": "2022-04-15T12:04:45.740Z"
   },
   {
    "duration": 0,
    "start_time": "2022-04-15T12:04:45.741Z"
   },
   {
    "duration": 1181,
    "start_time": "2022-04-15T12:05:40.088Z"
   },
   {
    "duration": 50,
    "start_time": "2022-04-15T12:05:41.271Z"
   },
   {
    "duration": 8,
    "start_time": "2022-04-15T12:05:41.323Z"
   },
   {
    "duration": 17,
    "start_time": "2022-04-15T12:05:41.333Z"
   },
   {
    "duration": 9,
    "start_time": "2022-04-15T12:05:41.353Z"
   },
   {
    "duration": 32,
    "start_time": "2022-04-15T12:05:41.364Z"
   },
   {
    "duration": 10,
    "start_time": "2022-04-15T12:05:41.398Z"
   },
   {
    "duration": 27,
    "start_time": "2022-04-15T12:05:41.410Z"
   },
   {
    "duration": 14,
    "start_time": "2022-04-15T12:05:41.439Z"
   },
   {
    "duration": 20,
    "start_time": "2022-04-15T12:05:41.455Z"
   },
   {
    "duration": 13,
    "start_time": "2022-04-15T12:05:41.477Z"
   },
   {
    "duration": 24,
    "start_time": "2022-04-15T12:05:41.492Z"
   },
   {
    "duration": 24,
    "start_time": "2022-04-15T12:05:41.518Z"
   },
   {
    "duration": 10,
    "start_time": "2022-04-15T12:05:41.546Z"
   },
   {
    "duration": 31,
    "start_time": "2022-04-15T12:05:41.557Z"
   },
   {
    "duration": 28,
    "start_time": "2022-04-15T12:05:41.590Z"
   },
   {
    "duration": 4,
    "start_time": "2022-04-15T12:05:41.620Z"
   },
   {
    "duration": 33,
    "start_time": "2022-04-15T12:05:41.626Z"
   },
   {
    "duration": 132,
    "start_time": "2022-04-15T12:05:41.661Z"
   },
   {
    "duration": 0,
    "start_time": "2022-04-15T12:05:41.794Z"
   },
   {
    "duration": 0,
    "start_time": "2022-04-15T12:05:41.795Z"
   },
   {
    "duration": 0,
    "start_time": "2022-04-15T12:05:41.797Z"
   },
   {
    "duration": 0,
    "start_time": "2022-04-15T12:05:41.799Z"
   },
   {
    "duration": 0,
    "start_time": "2022-04-15T12:05:41.800Z"
   },
   {
    "duration": 0,
    "start_time": "2022-04-15T12:05:41.802Z"
   },
   {
    "duration": 0,
    "start_time": "2022-04-15T12:05:41.804Z"
   },
   {
    "duration": 0,
    "start_time": "2022-04-15T12:05:41.805Z"
   },
   {
    "duration": 4,
    "start_time": "2022-04-15T12:06:00.470Z"
   },
   {
    "duration": 3,
    "start_time": "2022-04-15T12:06:01.394Z"
   },
   {
    "duration": 82,
    "start_time": "2022-04-15T12:06:02.738Z"
   },
   {
    "duration": 9,
    "start_time": "2022-04-15T12:06:04.260Z"
   },
   {
    "duration": 1000,
    "start_time": "2022-04-15T12:06:09.205Z"
   },
   {
    "duration": 8,
    "start_time": "2022-04-15T12:06:10.208Z"
   },
   {
    "duration": 255,
    "start_time": "2022-04-15T12:06:15.319Z"
   },
   {
    "duration": 8,
    "start_time": "2022-04-15T12:06:17.664Z"
   },
   {
    "duration": 68,
    "start_time": "2022-04-15T12:07:29.838Z"
   },
   {
    "duration": 76,
    "start_time": "2022-04-15T12:08:04.039Z"
   },
   {
    "duration": 79,
    "start_time": "2022-04-15T12:08:05.938Z"
   },
   {
    "duration": 892,
    "start_time": "2022-04-15T12:09:08.254Z"
   },
   {
    "duration": 918,
    "start_time": "2022-04-15T12:09:14.784Z"
   },
   {
    "duration": 214,
    "start_time": "2022-04-15T12:10:31.864Z"
   },
   {
    "duration": 85,
    "start_time": "2022-04-15T12:12:09.209Z"
   },
   {
    "duration": 1005,
    "start_time": "2022-04-15T12:12:37.689Z"
   },
   {
    "duration": 291,
    "start_time": "2022-04-15T12:12:49.188Z"
   },
   {
    "duration": 2024,
    "start_time": "2022-04-15T15:40:51.470Z"
   },
   {
    "duration": 210,
    "start_time": "2022-04-15T15:40:53.497Z"
   },
   {
    "duration": 16,
    "start_time": "2022-04-15T15:40:53.709Z"
   },
   {
    "duration": 7,
    "start_time": "2022-04-15T15:40:53.729Z"
   },
   {
    "duration": 5,
    "start_time": "2022-04-15T15:40:53.794Z"
   },
   {
    "duration": 33,
    "start_time": "2022-04-15T15:40:53.802Z"
   },
   {
    "duration": 60,
    "start_time": "2022-04-15T15:40:53.838Z"
   },
   {
    "duration": 33,
    "start_time": "2022-04-15T15:40:53.901Z"
   },
   {
    "duration": 60,
    "start_time": "2022-04-15T15:40:53.938Z"
   },
   {
    "duration": 14,
    "start_time": "2022-04-15T15:40:54.004Z"
   },
   {
    "duration": 5,
    "start_time": "2022-04-15T15:40:54.020Z"
   },
   {
    "duration": 6,
    "start_time": "2022-04-15T15:40:54.028Z"
   },
   {
    "duration": 71,
    "start_time": "2022-04-15T15:40:54.036Z"
   },
   {
    "duration": 18,
    "start_time": "2022-04-15T15:40:54.109Z"
   },
   {
    "duration": 69,
    "start_time": "2022-04-15T15:40:54.130Z"
   },
   {
    "duration": 28,
    "start_time": "2022-04-15T15:40:54.201Z"
   },
   {
    "duration": 291,
    "start_time": "2022-04-15T15:40:54.231Z"
   },
   {
    "duration": 2205,
    "start_time": "2022-04-15T15:40:54.524Z"
   },
   {
    "duration": 665,
    "start_time": "2022-04-15T15:40:56.731Z"
   },
   {
    "duration": 153,
    "start_time": "2022-04-15T15:40:57.399Z"
   },
   {
    "duration": 131,
    "start_time": "2022-04-15T15:41:32.847Z"
   },
   {
    "duration": 1392,
    "start_time": "2022-04-15T15:42:24.510Z"
   },
   {
    "duration": 259,
    "start_time": "2022-04-15T15:43:04.741Z"
   },
   {
    "duration": 145,
    "start_time": "2022-04-15T15:43:47.258Z"
   },
   {
    "duration": 118,
    "start_time": "2022-04-15T15:44:11.185Z"
   },
   {
    "duration": 124,
    "start_time": "2022-04-15T15:46:10.282Z"
   },
   {
    "duration": 68,
    "start_time": "2022-04-15T15:46:33.013Z"
   },
   {
    "duration": 96,
    "start_time": "2022-04-15T15:46:37.576Z"
   },
   {
    "duration": 115,
    "start_time": "2022-04-15T15:46:40.945Z"
   },
   {
    "duration": 174,
    "start_time": "2022-04-15T15:46:43.859Z"
   },
   {
    "duration": 219,
    "start_time": "2022-04-15T15:46:47.575Z"
   },
   {
    "duration": 258,
    "start_time": "2022-04-15T15:46:51.283Z"
   },
   {
    "duration": 285,
    "start_time": "2022-04-15T15:46:55.982Z"
   },
   {
    "duration": 351,
    "start_time": "2022-04-15T15:46:59.742Z"
   },
   {
    "duration": 334,
    "start_time": "2022-04-15T15:47:16.829Z"
   },
   {
    "duration": 129,
    "start_time": "2022-04-15T15:47:24.313Z"
   },
   {
    "duration": 142,
    "start_time": "2022-04-15T15:50:26.530Z"
   },
   {
    "duration": 365,
    "start_time": "2022-04-15T15:50:46.191Z"
   },
   {
    "duration": 14,
    "start_time": "2022-04-15T15:50:50.623Z"
   },
   {
    "duration": 2182,
    "start_time": "2022-04-15T15:56:00.186Z"
   },
   {
    "duration": 13097,
    "start_time": "2022-04-15T15:56:30.819Z"
   },
   {
    "duration": 18535,
    "start_time": "2022-04-15T15:56:55.041Z"
   },
   {
    "duration": 33371,
    "start_time": "2022-04-15T15:57:22.272Z"
   },
   {
    "duration": 1483,
    "start_time": "2022-04-15T15:58:05.121Z"
   },
   {
    "duration": 317,
    "start_time": "2022-04-15T15:58:23.739Z"
   },
   {
    "duration": 52364,
    "start_time": "2022-04-15T16:06:20.483Z"
   },
   {
    "duration": 49505,
    "start_time": "2022-04-15T16:07:12.849Z"
   },
   {
    "duration": 50642,
    "start_time": "2022-04-15T16:08:16.602Z"
   },
   {
    "duration": 1940,
    "start_time": "2022-04-15T16:19:12.780Z"
   },
   {
    "duration": 2085,
    "start_time": "2022-04-15T16:19:50.387Z"
   },
   {
    "duration": 18,
    "start_time": "2022-04-15T16:20:14.806Z"
   },
   {
    "duration": 22,
    "start_time": "2022-04-15T16:20:24.853Z"
   },
   {
    "duration": 27,
    "start_time": "2022-04-15T16:20:35.147Z"
   },
   {
    "duration": 4077,
    "start_time": "2022-04-15T16:21:15.206Z"
   },
   {
    "duration": 7,
    "start_time": "2022-04-15T16:21:38.921Z"
   },
   {
    "duration": 54,
    "start_time": "2022-04-15T16:22:10.137Z"
   },
   {
    "duration": 67,
    "start_time": "2022-04-15T16:22:10.718Z"
   },
   {
    "duration": 11,
    "start_time": "2022-04-15T16:22:11.935Z"
   },
   {
    "duration": 6,
    "start_time": "2022-04-15T16:22:13.121Z"
   },
   {
    "duration": 4,
    "start_time": "2022-04-15T16:22:13.680Z"
   },
   {
    "duration": 20,
    "start_time": "2022-04-15T16:22:14.220Z"
   },
   {
    "duration": 5,
    "start_time": "2022-04-15T16:22:16.037Z"
   },
   {
    "duration": 272,
    "start_time": "2022-04-15T16:22:17.930Z"
   },
   {
    "duration": 23,
    "start_time": "2022-04-15T16:22:19.854Z"
   },
   {
    "duration": 297,
    "start_time": "2022-04-15T16:22:33.843Z"
   },
   {
    "duration": 1116,
    "start_time": "2022-04-15T22:39:08.149Z"
   },
   {
    "duration": 42,
    "start_time": "2022-04-15T22:39:09.381Z"
   },
   {
    "duration": 9,
    "start_time": "2022-04-15T22:39:10.513Z"
   },
   {
    "duration": 5,
    "start_time": "2022-04-15T22:39:11.550Z"
   },
   {
    "duration": 3,
    "start_time": "2022-04-15T22:39:12.413Z"
   },
   {
    "duration": 13,
    "start_time": "2022-04-15T22:39:12.932Z"
   },
   {
    "duration": 5,
    "start_time": "2022-04-15T22:39:14.282Z"
   },
   {
    "duration": 205,
    "start_time": "2022-04-15T22:39:16.783Z"
   },
   {
    "duration": 22,
    "start_time": "2022-04-15T22:39:24.151Z"
   },
   {
    "duration": 7,
    "start_time": "2022-04-15T22:39:27.310Z"
   },
   {
    "duration": 6,
    "start_time": "2022-04-15T22:39:28.445Z"
   },
   {
    "duration": 4,
    "start_time": "2022-04-15T22:39:29.099Z"
   },
   {
    "duration": 5,
    "start_time": "2022-04-15T22:39:31.133Z"
   },
   {
    "duration": 17,
    "start_time": "2022-04-15T22:39:33.181Z"
   },
   {
    "duration": 9,
    "start_time": "2022-04-15T22:39:33.996Z"
   },
   {
    "duration": 12,
    "start_time": "2022-04-15T22:39:34.562Z"
   },
   {
    "duration": 17,
    "start_time": "2022-04-15T22:39:36.714Z"
   },
   {
    "duration": 1402,
    "start_time": "2022-04-15T22:39:43.016Z"
   },
   {
    "duration": 33441,
    "start_time": "2022-04-15T22:39:47.772Z"
   },
   {
    "duration": 136,
    "start_time": "2022-04-15T22:40:21.215Z"
   },
   {
    "duration": 1411,
    "start_time": "2022-04-15T22:40:58.280Z"
   },
   {
    "duration": 33493,
    "start_time": "2022-04-15T22:41:07.907Z"
   },
   {
    "duration": 55,
    "start_time": "2022-04-15T22:41:41.402Z"
   },
   {
    "duration": 32781,
    "start_time": "2022-04-15T22:41:56.721Z"
   },
   {
    "duration": 52,
    "start_time": "2022-04-15T22:42:29.504Z"
   },
   {
    "duration": 1325,
    "start_time": "2022-04-15T22:42:37.348Z"
   },
   {
    "duration": 32492,
    "start_time": "2022-04-15T22:42:58.032Z"
   },
   {
    "duration": 1337,
    "start_time": "2022-04-15T22:43:30.526Z"
   },
   {
    "duration": 32568,
    "start_time": "2022-04-15T22:43:31.865Z"
   },
   {
    "duration": 1412,
    "start_time": "2022-04-15T22:44:04.435Z"
   },
   {
    "duration": 1412,
    "start_time": "2022-04-15T22:44:05.849Z"
   },
   {
    "duration": 99,
    "start_time": "2022-04-15T22:49:43.619Z"
   },
   {
    "duration": 33,
    "start_time": "2022-04-15T22:50:01.613Z"
   },
   {
    "duration": 42,
    "start_time": "2022-04-15T22:50:02.606Z"
   },
   {
    "duration": 8,
    "start_time": "2022-04-15T22:50:03.021Z"
   },
   {
    "duration": 4,
    "start_time": "2022-04-15T22:50:03.413Z"
   },
   {
    "duration": 3,
    "start_time": "2022-04-15T22:50:03.880Z"
   },
   {
    "duration": 13,
    "start_time": "2022-04-15T22:50:04.775Z"
   },
   {
    "duration": 4,
    "start_time": "2022-04-15T22:50:05.311Z"
   },
   {
    "duration": 30,
    "start_time": "2022-04-15T22:50:05.770Z"
   },
   {
    "duration": 7,
    "start_time": "2022-04-15T22:50:06.182Z"
   },
   {
    "duration": 31,
    "start_time": "2022-04-15T22:50:23.051Z"
   },
   {
    "duration": 41,
    "start_time": "2022-04-15T22:50:23.577Z"
   },
   {
    "duration": 7,
    "start_time": "2022-04-15T22:50:24.389Z"
   },
   {
    "duration": 4,
    "start_time": "2022-04-15T22:50:25.553Z"
   },
   {
    "duration": 3,
    "start_time": "2022-04-15T22:50:26.489Z"
   },
   {
    "duration": 13,
    "start_time": "2022-04-15T22:50:26.995Z"
   },
   {
    "duration": 5,
    "start_time": "2022-04-15T22:50:28.382Z"
   },
   {
    "duration": 25,
    "start_time": "2022-04-15T22:50:29.723Z"
   },
   {
    "duration": 8,
    "start_time": "2022-04-15T22:50:31.432Z"
   },
   {
    "duration": 7,
    "start_time": "2022-04-15T22:50:32.352Z"
   },
   {
    "duration": 4,
    "start_time": "2022-04-15T22:50:32.944Z"
   },
   {
    "duration": 5,
    "start_time": "2022-04-15T22:50:35.054Z"
   },
   {
    "duration": 17,
    "start_time": "2022-04-15T22:50:36.179Z"
   },
   {
    "duration": 12,
    "start_time": "2022-04-15T22:50:36.658Z"
   },
   {
    "duration": 10,
    "start_time": "2022-04-15T22:50:37.126Z"
   },
   {
    "duration": 17,
    "start_time": "2022-04-15T22:50:39.571Z"
   },
   {
    "duration": 1597,
    "start_time": "2022-04-15T22:50:42.265Z"
   },
   {
    "duration": 33290,
    "start_time": "2022-04-15T22:50:49.158Z"
   },
   {
    "duration": 196,
    "start_time": "2022-04-15T22:51:22.450Z"
   },
   {
    "duration": 1378,
    "start_time": "2022-04-15T22:51:38.641Z"
   },
   {
    "duration": 32358,
    "start_time": "2022-04-15T22:51:43.995Z"
   },
   {
    "duration": 96,
    "start_time": "2022-04-15T22:52:49.954Z"
   },
   {
    "duration": 32073,
    "start_time": "2022-04-15T22:53:17.707Z"
   },
   {
    "duration": 70,
    "start_time": "2022-04-15T22:54:19.278Z"
   },
   {
    "duration": 40,
    "start_time": "2022-04-15T22:54:42.554Z"
   },
   {
    "duration": 29,
    "start_time": "2022-04-15T22:54:50.138Z"
   },
   {
    "duration": 91,
    "start_time": "2022-04-15T22:57:41.363Z"
   },
   {
    "duration": 85,
    "start_time": "2022-04-15T22:58:09.964Z"
   },
   {
    "duration": 130,
    "start_time": "2022-04-15T22:58:39.146Z"
   },
   {
    "duration": 643,
    "start_time": "2022-04-15T22:58:58.876Z"
   },
   {
    "duration": 32191,
    "start_time": "2022-04-15T22:59:49.332Z"
   },
   {
    "duration": 40,
    "start_time": "2022-04-15T23:00:21.525Z"
   },
   {
    "duration": 42,
    "start_time": "2022-04-15T23:00:21.566Z"
   },
   {
    "duration": 7,
    "start_time": "2022-04-15T23:00:21.610Z"
   },
   {
    "duration": 4,
    "start_time": "2022-04-15T23:00:21.619Z"
   },
   {
    "duration": 24,
    "start_time": "2022-04-15T23:00:21.624Z"
   },
   {
    "duration": 14,
    "start_time": "2022-04-15T23:00:21.649Z"
   },
   {
    "duration": 5,
    "start_time": "2022-04-15T23:00:21.665Z"
   },
   {
    "duration": 22,
    "start_time": "2022-04-15T23:00:40.873Z"
   },
   {
    "duration": 8,
    "start_time": "2022-04-15T23:00:43.103Z"
   },
   {
    "duration": 5,
    "start_time": "2022-04-15T23:00:44.530Z"
   },
   {
    "duration": 4,
    "start_time": "2022-04-15T23:00:44.537Z"
   },
   {
    "duration": 5,
    "start_time": "2022-04-15T23:00:45.735Z"
   },
   {
    "duration": 16,
    "start_time": "2022-04-15T23:00:46.761Z"
   },
   {
    "duration": 10,
    "start_time": "2022-04-15T23:00:47.975Z"
   },
   {
    "duration": 9,
    "start_time": "2022-04-15T23:00:48.471Z"
   },
   {
    "duration": 17,
    "start_time": "2022-04-15T23:00:50.492Z"
   },
   {
    "duration": 1391,
    "start_time": "2022-04-15T23:00:53.432Z"
   },
   {
    "duration": 32536,
    "start_time": "2022-04-15T23:00:58.441Z"
   },
   {
    "duration": 89,
    "start_time": "2022-04-15T23:01:37.864Z"
   },
   {
    "duration": 1388,
    "start_time": "2022-04-15T23:01:41.210Z"
   },
   {
    "duration": 32795,
    "start_time": "2022-04-15T23:01:52.679Z"
   },
   {
    "duration": 27,
    "start_time": "2022-04-15T23:02:41.825Z"
   },
   {
    "duration": 1455,
    "start_time": "2022-04-15T23:03:16.257Z"
   },
   {
    "duration": 32503,
    "start_time": "2022-04-15T23:03:19.467Z"
   },
   {
    "duration": 179,
    "start_time": "2022-04-15T23:03:51.972Z"
   },
   {
    "duration": 1391,
    "start_time": "2022-04-15T23:03:58.143Z"
   },
   {
    "duration": 32126,
    "start_time": "2022-04-15T23:04:02.154Z"
   },
   {
    "duration": 26,
    "start_time": "2022-04-15T23:04:38.524Z"
   },
   {
    "duration": 29,
    "start_time": "2022-04-15T23:04:42.164Z"
   },
   {
    "duration": 17,
    "start_time": "2022-04-15T23:05:31.698Z"
   },
   {
    "duration": 15,
    "start_time": "2022-04-15T23:05:54.475Z"
   },
   {
    "duration": 27,
    "start_time": "2022-04-15T23:06:10.419Z"
   },
   {
    "duration": 14,
    "start_time": "2022-04-15T23:06:12.307Z"
   },
   {
    "duration": 1561,
    "start_time": "2022-04-15T23:06:53.764Z"
   },
   {
    "duration": 41231,
    "start_time": "2022-04-15T23:07:13.557Z"
   },
   {
    "duration": 1140,
    "start_time": "2022-04-15T23:08:31.609Z"
   },
   {
    "duration": 42,
    "start_time": "2022-04-15T23:08:32.751Z"
   },
   {
    "duration": 7,
    "start_time": "2022-04-15T23:08:32.794Z"
   },
   {
    "duration": 4,
    "start_time": "2022-04-15T23:08:32.803Z"
   },
   {
    "duration": 6,
    "start_time": "2022-04-15T23:08:32.808Z"
   },
   {
    "duration": 33,
    "start_time": "2022-04-15T23:08:32.816Z"
   },
   {
    "duration": 4,
    "start_time": "2022-04-15T23:08:32.850Z"
   },
   {
    "duration": 24,
    "start_time": "2022-04-15T23:08:32.855Z"
   },
   {
    "duration": 7,
    "start_time": "2022-04-15T23:08:32.881Z"
   },
   {
    "duration": 5,
    "start_time": "2022-04-15T23:08:32.890Z"
   },
   {
    "duration": 4,
    "start_time": "2022-04-15T23:08:32.897Z"
   },
   {
    "duration": 5,
    "start_time": "2022-04-15T23:08:32.902Z"
   },
   {
    "duration": 49,
    "start_time": "2022-04-15T23:08:32.909Z"
   },
   {
    "duration": 9,
    "start_time": "2022-04-15T23:08:32.959Z"
   },
   {
    "duration": 9,
    "start_time": "2022-04-15T23:08:32.970Z"
   },
   {
    "duration": 17,
    "start_time": "2022-04-15T23:08:32.980Z"
   },
   {
    "duration": 1396,
    "start_time": "2022-04-15T23:08:32.998Z"
   },
   {
    "duration": 33013,
    "start_time": "2022-04-15T23:08:34.395Z"
   },
   {
    "duration": 142,
    "start_time": "2022-04-15T23:09:07.409Z"
   },
   {
    "duration": 1495,
    "start_time": "2022-04-15T23:09:07.554Z"
   },
   {
    "duration": 32022,
    "start_time": "2022-04-15T23:09:09.050Z"
   },
   {
    "duration": 79,
    "start_time": "2022-04-15T23:09:41.073Z"
   },
   {
    "duration": 116,
    "start_time": "2022-04-15T23:09:41.154Z"
   },
   {
    "duration": 1727,
    "start_time": "2022-04-15T23:09:41.272Z"
   },
   {
    "duration": 41797,
    "start_time": "2022-04-15T23:09:43.000Z"
   },
   {
    "duration": 39061,
    "start_time": "2022-04-15T23:11:24.146Z"
   },
   {
    "duration": 35,
    "start_time": "2022-04-15T23:17:44.128Z"
   },
   {
    "duration": 43,
    "start_time": "2022-04-15T23:17:46.196Z"
   },
   {
    "duration": 8,
    "start_time": "2022-04-15T23:17:48.435Z"
   },
   {
    "duration": 4,
    "start_time": "2022-04-15T23:17:49.952Z"
   },
   {
    "duration": 3,
    "start_time": "2022-04-15T23:17:59.924Z"
   },
   {
    "duration": 3,
    "start_time": "2022-04-15T23:18:01.092Z"
   },
   {
    "duration": 11,
    "start_time": "2022-04-15T23:18:02.233Z"
   },
   {
    "duration": 33,
    "start_time": "2022-04-15T23:18:27.069Z"
   },
   {
    "duration": 42,
    "start_time": "2022-04-15T23:18:27.592Z"
   },
   {
    "duration": 7,
    "start_time": "2022-04-15T23:18:28.486Z"
   },
   {
    "duration": 4,
    "start_time": "2022-04-15T23:18:29.390Z"
   },
   {
    "duration": 4,
    "start_time": "2022-04-15T23:18:30.314Z"
   },
   {
    "duration": 3,
    "start_time": "2022-04-15T23:18:30.872Z"
   },
   {
    "duration": 11,
    "start_time": "2022-04-15T23:18:31.402Z"
   },
   {
    "duration": 94,
    "start_time": "2022-04-15T23:18:33.531Z"
   },
   {
    "duration": 5,
    "start_time": "2022-04-15T23:18:53.406Z"
   },
   {
    "duration": 22,
    "start_time": "2022-04-15T23:18:59.265Z"
   },
   {
    "duration": 34,
    "start_time": "2022-04-15T23:23:43.835Z"
   },
   {
    "duration": 41,
    "start_time": "2022-04-15T23:23:44.373Z"
   },
   {
    "duration": 7,
    "start_time": "2022-04-15T23:23:45.722Z"
   },
   {
    "duration": 4,
    "start_time": "2022-04-15T23:23:46.307Z"
   },
   {
    "duration": 4,
    "start_time": "2022-04-15T23:23:47.433Z"
   },
   {
    "duration": 2,
    "start_time": "2022-04-15T23:23:47.898Z"
   },
   {
    "duration": 11,
    "start_time": "2022-04-15T23:23:48.641Z"
   },
   {
    "duration": 4,
    "start_time": "2022-04-15T23:23:50.753Z"
   },
   {
    "duration": 21,
    "start_time": "2022-04-15T23:23:54.500Z"
   },
   {
    "duration": 15,
    "start_time": "2022-04-15T23:23:58.513Z"
   },
   {
    "duration": 8,
    "start_time": "2022-04-15T23:24:05.351Z"
   },
   {
    "duration": 6,
    "start_time": "2022-04-15T23:24:06.436Z"
   },
   {
    "duration": 4,
    "start_time": "2022-04-15T23:24:07.250Z"
   },
   {
    "duration": 4,
    "start_time": "2022-04-15T23:24:09.130Z"
   },
   {
    "duration": 17,
    "start_time": "2022-04-15T23:24:12.127Z"
   },
   {
    "duration": 10,
    "start_time": "2022-04-15T23:24:13.356Z"
   },
   {
    "duration": 10,
    "start_time": "2022-04-15T23:24:13.807Z"
   },
   {
    "duration": 17,
    "start_time": "2022-04-15T23:24:15.608Z"
   },
   {
    "duration": 1388,
    "start_time": "2022-04-15T23:24:18.277Z"
   },
   {
    "duration": 32438,
    "start_time": "2022-04-15T23:24:26.149Z"
   },
   {
    "duration": 161,
    "start_time": "2022-04-15T23:24:58.589Z"
   },
   {
    "duration": 1395,
    "start_time": "2022-04-15T23:25:20.873Z"
   },
   {
    "duration": 31948,
    "start_time": "2022-04-15T23:25:25.767Z"
   },
   {
    "duration": 111,
    "start_time": "2022-04-15T23:26:17.491Z"
   },
   {
    "duration": 30,
    "start_time": "2022-04-15T23:26:45.503Z"
   },
   {
    "duration": 29,
    "start_time": "2022-04-15T23:26:59.759Z"
   },
   {
    "duration": 30,
    "start_time": "2022-04-15T23:27:06.882Z"
   },
   {
    "duration": 35,
    "start_time": "2022-04-15T23:27:12.227Z"
   },
   {
    "duration": 32,
    "start_time": "2022-04-15T23:27:15.792Z"
   },
   {
    "duration": 30,
    "start_time": "2022-04-15T23:27:19.415Z"
   },
   {
    "duration": 29,
    "start_time": "2022-04-15T23:27:24.027Z"
   },
   {
    "duration": 31,
    "start_time": "2022-04-15T23:27:27.142Z"
   },
   {
    "duration": 30,
    "start_time": "2022-04-15T23:27:34.751Z"
   },
   {
    "duration": 643,
    "start_time": "2022-04-15T23:28:06.536Z"
   },
   {
    "duration": 601,
    "start_time": "2022-04-15T23:28:25.085Z"
   },
   {
    "duration": 642,
    "start_time": "2022-04-15T23:28:31.617Z"
   },
   {
    "duration": 591,
    "start_time": "2022-04-15T23:28:37.207Z"
   },
   {
    "duration": 600,
    "start_time": "2022-04-15T23:28:41.650Z"
   },
   {
    "duration": 583,
    "start_time": "2022-04-15T23:28:45.650Z"
   },
   {
    "duration": 596,
    "start_time": "2022-04-15T23:28:49.554Z"
   },
   {
    "duration": 105,
    "start_time": "2022-04-15T23:29:01.546Z"
   },
   {
    "duration": 28,
    "start_time": "2022-04-15T23:29:06.065Z"
   },
   {
    "duration": 1581,
    "start_time": "2022-04-15T23:29:20.011Z"
   },
   {
    "duration": 34,
    "start_time": "2022-04-15T23:29:51.747Z"
   },
   {
    "duration": 31,
    "start_time": "2022-04-15T23:29:55.318Z"
   },
   {
    "duration": 29,
    "start_time": "2022-04-15T23:29:59.459Z"
   },
   {
    "duration": 28,
    "start_time": "2022-04-15T23:30:05.536Z"
   },
   {
    "duration": 29,
    "start_time": "2022-04-15T23:30:08.992Z"
   },
   {
    "duration": 729,
    "start_time": "2022-04-15T23:30:38.919Z"
   },
   {
    "duration": 714,
    "start_time": "2022-04-15T23:30:45.537Z"
   },
   {
    "duration": 413,
    "start_time": "2022-04-15T23:30:50.580Z"
   },
   {
    "duration": 409,
    "start_time": "2022-04-15T23:30:54.450Z"
   },
   {
    "duration": 732,
    "start_time": "2022-04-15T23:31:01.109Z"
   },
   {
    "duration": 730,
    "start_time": "2022-04-15T23:31:11.030Z"
   },
   {
    "duration": 739,
    "start_time": "2022-04-15T23:31:15.000Z"
   },
   {
    "duration": 722,
    "start_time": "2022-04-15T23:31:39.343Z"
   },
   {
    "duration": 748,
    "start_time": "2022-04-15T23:31:44.386Z"
   },
   {
    "duration": 704,
    "start_time": "2022-04-15T23:31:48.820Z"
   },
   {
    "duration": 679,
    "start_time": "2022-04-15T23:31:53.211Z"
   },
   {
    "duration": 655,
    "start_time": "2022-04-15T23:31:58.812Z"
   },
   {
    "duration": 638,
    "start_time": "2022-04-15T23:32:02.528Z"
   },
   {
    "duration": 582,
    "start_time": "2022-04-15T23:32:08.301Z"
   },
   {
    "duration": 553,
    "start_time": "2022-04-15T23:32:12.294Z"
   },
   {
    "duration": 509,
    "start_time": "2022-04-15T23:32:15.983Z"
   },
   {
    "duration": 454,
    "start_time": "2022-04-15T23:32:19.997Z"
   },
   {
    "duration": 615,
    "start_time": "2022-04-15T23:32:23.460Z"
   },
   {
    "duration": 23201,
    "start_time": "2022-04-15T23:33:26.055Z"
   },
   {
    "duration": 26827,
    "start_time": "2022-04-15T23:33:58.321Z"
   },
   {
    "duration": 32999,
    "start_time": "2022-04-15T23:34:34.567Z"
   },
   {
    "duration": 35,
    "start_time": "2022-04-15T23:47:30.576Z"
   },
   {
    "duration": 42,
    "start_time": "2022-04-15T23:47:31.590Z"
   },
   {
    "duration": 14,
    "start_time": "2022-04-15T23:47:33.009Z"
   },
   {
    "duration": 35,
    "start_time": "2022-04-15T23:47:53.262Z"
   },
   {
    "duration": 42,
    "start_time": "2022-04-15T23:47:53.911Z"
   },
   {
    "duration": 8,
    "start_time": "2022-04-15T23:47:54.375Z"
   },
   {
    "duration": 4,
    "start_time": "2022-04-15T23:47:54.753Z"
   },
   {
    "duration": 5,
    "start_time": "2022-04-15T23:47:55.135Z"
   },
   {
    "duration": 3,
    "start_time": "2022-04-15T23:47:55.529Z"
   },
   {
    "duration": 12,
    "start_time": "2022-04-15T23:47:56.039Z"
   },
   {
    "duration": 5,
    "start_time": "2022-04-15T23:47:57.166Z"
   },
   {
    "duration": 10,
    "start_time": "2022-04-15T23:47:58.666Z"
   },
   {
    "duration": 9,
    "start_time": "2022-04-15T23:48:19.700Z"
   },
   {
    "duration": 17,
    "start_time": "2022-04-15T23:48:22.738Z"
   },
   {
    "duration": 8,
    "start_time": "2022-04-15T23:48:26.763Z"
   },
   {
    "duration": 6,
    "start_time": "2022-04-15T23:48:27.404Z"
   },
   {
    "duration": 4,
    "start_time": "2022-04-15T23:48:28.092Z"
   },
   {
    "duration": 4,
    "start_time": "2022-04-15T23:48:29.794Z"
   },
   {
    "duration": 16,
    "start_time": "2022-04-15T23:48:32.054Z"
   },
   {
    "duration": 10,
    "start_time": "2022-04-15T23:48:32.895Z"
   },
   {
    "duration": 10,
    "start_time": "2022-04-15T23:48:33.362Z"
   },
   {
    "duration": 17,
    "start_time": "2022-04-15T23:48:35.598Z"
   },
   {
    "duration": 1414,
    "start_time": "2022-04-15T23:48:38.472Z"
   },
   {
    "duration": 34233,
    "start_time": "2022-04-15T23:48:45.182Z"
   },
   {
    "duration": 121,
    "start_time": "2022-04-15T23:49:26.732Z"
   },
   {
    "duration": 33,
    "start_time": "2022-04-15T23:49:35.931Z"
   },
   {
    "duration": 30,
    "start_time": "2022-04-15T23:49:40.086Z"
   },
   {
    "duration": 33,
    "start_time": "2022-04-15T23:49:43.332Z"
   },
   {
    "duration": 32,
    "start_time": "2022-04-15T23:49:45.924Z"
   },
   {
    "duration": 308,
    "start_time": "2022-04-15T23:50:06.454Z"
   },
   {
    "duration": 322,
    "start_time": "2022-04-15T23:50:12.187Z"
   },
   {
    "duration": 1358,
    "start_time": "2022-04-15T23:51:30.795Z"
   },
   {
    "duration": 28913,
    "start_time": "2022-04-15T23:52:32.558Z"
   },
   {
    "duration": 83,
    "start_time": "2022-04-15T23:53:01.473Z"
   },
   {
    "duration": 32408,
    "start_time": "2022-04-15T23:53:13.924Z"
   },
   {
    "duration": 32,
    "start_time": "2022-04-15T23:54:05.855Z"
   },
   {
    "duration": 33590,
    "start_time": "2022-04-15T23:54:51.388Z"
   },
   {
    "duration": 1541,
    "start_time": "2022-04-15T23:55:46.142Z"
   },
   {
    "duration": 948,
    "start_time": "2022-04-15T23:59:32.622Z"
   },
   {
    "duration": 834,
    "start_time": "2022-04-15T23:59:44.584Z"
   },
   {
    "duration": 1020,
    "start_time": "2022-04-15T23:59:48.646Z"
   },
   {
    "duration": 1111,
    "start_time": "2022-04-15T23:59:53.327Z"
   },
   {
    "duration": 1164,
    "start_time": "2022-04-15T23:59:57.914Z"
   },
   {
    "duration": 1359,
    "start_time": "2022-04-16T00:00:07.016Z"
   },
   {
    "duration": 12,
    "start_time": "2022-04-16T00:07:29.411Z"
   },
   {
    "duration": 5,
    "start_time": "2022-04-16T00:09:42.840Z"
   },
   {
    "duration": 12,
    "start_time": "2022-04-16T00:10:01.528Z"
   },
   {
    "duration": 4,
    "start_time": "2022-04-16T00:14:09.200Z"
   },
   {
    "duration": 33,
    "start_time": "2022-04-16T00:15:01.364Z"
   },
   {
    "duration": 55,
    "start_time": "2022-04-16T00:15:03.225Z"
   },
   {
    "duration": 6,
    "start_time": "2022-04-16T00:16:26.248Z"
   },
   {
    "duration": 1888,
    "start_time": "2022-04-16T00:17:39.900Z"
   },
   {
    "duration": 11,
    "start_time": "2022-04-16T00:17:49.728Z"
   },
   {
    "duration": 4,
    "start_time": "2022-04-16T00:17:55.733Z"
   },
   {
    "duration": 31,
    "start_time": "2022-04-16T00:17:56.183Z"
   },
   {
    "duration": 41,
    "start_time": "2022-04-16T00:17:56.581Z"
   },
   {
    "duration": 8,
    "start_time": "2022-04-16T00:17:56.997Z"
   },
   {
    "duration": 4,
    "start_time": "2022-04-16T00:17:59.859Z"
   },
   {
    "duration": 3,
    "start_time": "2022-04-16T00:18:00.624Z"
   },
   {
    "duration": 2,
    "start_time": "2022-04-16T00:18:01.090Z"
   },
   {
    "duration": 12,
    "start_time": "2022-04-16T00:18:01.657Z"
   },
   {
    "duration": 4,
    "start_time": "2022-04-16T00:18:03.010Z"
   },
   {
    "duration": 618,
    "start_time": "2022-04-16T00:18:04.064Z"
   },
   {
    "duration": 52,
    "start_time": "2022-04-16T00:18:28.791Z"
   },
   {
    "duration": 35,
    "start_time": "2022-04-16T00:18:29.469Z"
   },
   {
    "duration": 44,
    "start_time": "2022-04-16T00:18:29.866Z"
   },
   {
    "duration": 9,
    "start_time": "2022-04-16T00:18:30.243Z"
   },
   {
    "duration": 9,
    "start_time": "2022-04-16T00:18:30.946Z"
   },
   {
    "duration": 4,
    "start_time": "2022-04-16T00:18:31.332Z"
   },
   {
    "duration": 3,
    "start_time": "2022-04-16T00:18:31.720Z"
   },
   {
    "duration": 11,
    "start_time": "2022-04-16T00:18:32.157Z"
   },
   {
    "duration": 5,
    "start_time": "2022-04-16T00:18:33.068Z"
   },
   {
    "duration": 125,
    "start_time": "2022-04-16T00:18:33.485Z"
   },
   {
    "duration": 112,
    "start_time": "2022-04-16T00:18:38.809Z"
   },
   {
    "duration": 126,
    "start_time": "2022-04-16T00:18:42.532Z"
   },
   {
    "duration": 137,
    "start_time": "2022-04-16T00:18:49.143Z"
   },
   {
    "duration": 118,
    "start_time": "2022-04-16T00:18:55.465Z"
   },
   {
    "duration": 117,
    "start_time": "2022-04-16T00:18:59.059Z"
   },
   {
    "duration": 203,
    "start_time": "2022-04-16T00:19:03.172Z"
   },
   {
    "duration": 116,
    "start_time": "2022-04-16T00:19:06.639Z"
   },
   {
    "duration": 114,
    "start_time": "2022-04-16T00:19:27.161Z"
   },
   {
    "duration": 120,
    "start_time": "2022-04-16T00:19:46.834Z"
   },
   {
    "duration": 120,
    "start_time": "2022-04-16T00:22:09.595Z"
   },
   {
    "duration": 159,
    "start_time": "2022-04-16T00:22:26.733Z"
   },
   {
    "duration": 105,
    "start_time": "2022-04-16T00:22:50.277Z"
   },
   {
    "duration": 10,
    "start_time": "2022-04-16T00:22:51.230Z"
   },
   {
    "duration": 5,
    "start_time": "2022-04-16T00:24:59.139Z"
   },
   {
    "duration": 10,
    "start_time": "2022-04-16T00:25:10.502Z"
   },
   {
    "duration": 112,
    "start_time": "2022-04-16T00:25:59.180Z"
   },
   {
    "duration": 10,
    "start_time": "2022-04-16T00:26:24.095Z"
   },
   {
    "duration": 15,
    "start_time": "2022-04-16T00:29:58.493Z"
   },
   {
    "duration": 1491,
    "start_time": "2022-04-16T00:30:06.181Z"
   },
   {
    "duration": 37,
    "start_time": "2022-04-16T00:30:07.675Z"
   },
   {
    "duration": 52,
    "start_time": "2022-04-16T00:30:07.713Z"
   },
   {
    "duration": 7,
    "start_time": "2022-04-16T00:30:07.767Z"
   },
   {
    "duration": 5,
    "start_time": "2022-04-16T00:30:07.776Z"
   },
   {
    "duration": 16,
    "start_time": "2022-04-16T00:30:07.782Z"
   },
   {
    "duration": 4,
    "start_time": "2022-04-16T00:30:07.799Z"
   },
   {
    "duration": 4,
    "start_time": "2022-04-16T00:30:07.804Z"
   },
   {
    "duration": 149,
    "start_time": "2022-04-16T00:30:07.810Z"
   },
   {
    "duration": 12,
    "start_time": "2022-04-16T00:30:07.962Z"
   },
   {
    "duration": 5,
    "start_time": "2022-04-16T00:30:07.976Z"
   },
   {
    "duration": 6,
    "start_time": "2022-04-16T00:30:07.983Z"
   },
   {
    "duration": 10,
    "start_time": "2022-04-16T00:30:07.991Z"
   },
   {
    "duration": 10,
    "start_time": "2022-04-16T00:30:08.002Z"
   },
   {
    "duration": 60,
    "start_time": "2022-04-16T00:30:08.013Z"
   },
   {
    "duration": 7,
    "start_time": "2022-04-16T00:30:08.074Z"
   },
   {
    "duration": 6,
    "start_time": "2022-04-16T00:30:08.082Z"
   },
   {
    "duration": 4,
    "start_time": "2022-04-16T00:30:08.089Z"
   },
   {
    "duration": 6,
    "start_time": "2022-04-16T00:30:08.094Z"
   },
   {
    "duration": 17,
    "start_time": "2022-04-16T00:30:08.101Z"
   },
   {
    "duration": 43,
    "start_time": "2022-04-16T00:30:08.120Z"
   },
   {
    "duration": 11,
    "start_time": "2022-04-16T00:30:08.164Z"
   },
   {
    "duration": 18,
    "start_time": "2022-04-16T00:30:08.176Z"
   },
   {
    "duration": 1542,
    "start_time": "2022-04-16T00:30:08.195Z"
   },
   {
    "duration": 35290,
    "start_time": "2022-04-16T00:30:09.739Z"
   },
   {
    "duration": 125,
    "start_time": "2022-04-16T00:30:45.030Z"
   },
   {
    "duration": 1474,
    "start_time": "2022-04-16T00:30:45.157Z"
   },
   {
    "duration": 33535,
    "start_time": "2022-04-16T00:30:46.634Z"
   },
   {
    "duration": 87,
    "start_time": "2022-04-16T00:31:20.171Z"
   },
   {
    "duration": 185,
    "start_time": "2022-04-16T00:31:20.262Z"
   },
   {
    "duration": 1666,
    "start_time": "2022-04-16T00:31:20.449Z"
   },
   {
    "duration": 34581,
    "start_time": "2022-04-16T00:31:22.117Z"
   },
   {
    "duration": 13,
    "start_time": "2022-04-16T00:31:56.700Z"
   },
   {
    "duration": 113,
    "start_time": "2022-04-16T00:31:56.715Z"
   },
   {
    "duration": 16,
    "start_time": "2022-04-16T00:38:51.463Z"
   },
   {
    "duration": 4,
    "start_time": "2022-04-16T00:43:26.708Z"
   },
   {
    "duration": 5,
    "start_time": "2022-04-16T00:43:27.731Z"
   },
   {
    "duration": 8,
    "start_time": "2022-04-16T00:43:28.625Z"
   },
   {
    "duration": 8,
    "start_time": "2022-04-16T00:43:30.137Z"
   },
   {
    "duration": 15,
    "start_time": "2022-04-16T00:43:31.900Z"
   },
   {
    "duration": 10,
    "start_time": "2022-04-16T00:43:33.749Z"
   },
   {
    "duration": 6,
    "start_time": "2022-04-16T00:43:34.825Z"
   },
   {
    "duration": 8,
    "start_time": "2022-04-16T00:43:35.495Z"
   },
   {
    "duration": 6,
    "start_time": "2022-04-16T00:43:37.047Z"
   },
   {
    "duration": 28,
    "start_time": "2022-04-16T00:43:38.198Z"
   },
   {
    "duration": 6,
    "start_time": "2022-04-16T00:43:40.529Z"
   },
   {
    "duration": 1408,
    "start_time": "2022-04-16T00:47:45.229Z"
   },
   {
    "duration": 35740,
    "start_time": "2022-04-16T00:48:05.890Z"
   },
   {
    "duration": 1672,
    "start_time": "2022-04-16T00:48:53.236Z"
   },
   {
    "duration": 37,
    "start_time": "2022-04-16T00:49:42.479Z"
   },
   {
    "duration": 33837,
    "start_time": "2022-04-16T00:50:11.210Z"
   },
   {
    "duration": 198,
    "start_time": "2022-04-16T00:50:45.050Z"
   },
   {
    "duration": 222,
    "start_time": "2022-04-16T00:50:49.559Z"
   },
   {
    "duration": 188,
    "start_time": "2022-04-16T00:55:44.962Z"
   },
   {
    "duration": 5,
    "start_time": "2022-04-16T00:56:22.432Z"
   },
   {
    "duration": 34185,
    "start_time": "2022-04-16T01:01:55.720Z"
   },
   {
    "duration": 1893,
    "start_time": "2022-04-16T01:02:29.907Z"
   },
   {
    "duration": 254,
    "start_time": "2022-04-16T01:02:54.433Z"
   },
   {
    "duration": 33025,
    "start_time": "2022-04-16T01:04:12.261Z"
   },
   {
    "duration": 205,
    "start_time": "2022-04-16T01:05:16.265Z"
   },
   {
    "duration": 33189,
    "start_time": "2022-04-16T01:05:23.032Z"
   },
   {
    "duration": 126,
    "start_time": "2022-04-16T01:05:56.223Z"
   },
   {
    "duration": 1368,
    "start_time": "2022-04-16T01:06:23.591Z"
   },
   {
    "duration": 38,
    "start_time": "2022-04-16T01:06:24.961Z"
   },
   {
    "duration": 58,
    "start_time": "2022-04-16T01:06:25.001Z"
   },
   {
    "duration": 8,
    "start_time": "2022-04-16T01:06:25.062Z"
   },
   {
    "duration": 3,
    "start_time": "2022-04-16T01:06:25.072Z"
   },
   {
    "duration": 15,
    "start_time": "2022-04-16T01:06:25.077Z"
   },
   {
    "duration": 3,
    "start_time": "2022-04-16T01:06:25.093Z"
   },
   {
    "duration": 12,
    "start_time": "2022-04-16T01:06:25.097Z"
   },
   {
    "duration": 139,
    "start_time": "2022-04-16T01:06:25.110Z"
   },
   {
    "duration": 15,
    "start_time": "2022-04-16T01:06:25.253Z"
   },
   {
    "duration": 4,
    "start_time": "2022-04-16T01:06:25.270Z"
   },
   {
    "duration": 6,
    "start_time": "2022-04-16T01:06:25.275Z"
   },
   {
    "duration": 9,
    "start_time": "2022-04-16T01:06:25.282Z"
   },
   {
    "duration": 8,
    "start_time": "2022-04-16T01:06:25.293Z"
   },
   {
    "duration": 49,
    "start_time": "2022-04-16T01:06:25.302Z"
   },
   {
    "duration": 5,
    "start_time": "2022-04-16T01:06:25.352Z"
   },
   {
    "duration": 6,
    "start_time": "2022-04-16T01:06:25.358Z"
   },
   {
    "duration": 7,
    "start_time": "2022-04-16T01:06:25.366Z"
   },
   {
    "duration": 4,
    "start_time": "2022-04-16T01:06:25.375Z"
   },
   {
    "duration": 31,
    "start_time": "2022-04-16T01:06:25.380Z"
   },
   {
    "duration": 39,
    "start_time": "2022-04-16T01:06:25.412Z"
   },
   {
    "duration": 213,
    "start_time": "2022-04-16T01:06:25.453Z"
   },
   {
    "duration": 31970,
    "start_time": "2022-04-16T01:06:25.667Z"
   },
   {
    "duration": 30,
    "start_time": "2022-04-16T01:06:57.638Z"
   },
   {
    "duration": 99,
    "start_time": "2022-04-16T01:06:57.748Z"
   },
   {
    "duration": 262,
    "start_time": "2022-04-16T01:06:57.849Z"
   },
   {
    "duration": 31484,
    "start_time": "2022-04-16T01:06:58.113Z"
   },
   {
    "duration": 150,
    "start_time": "2022-04-16T01:07:29.600Z"
   },
   {
    "duration": 100,
    "start_time": "2022-04-16T01:07:29.752Z"
   },
   {
    "duration": 1863,
    "start_time": "2022-04-16T01:07:29.860Z"
   },
   {
    "duration": 37445,
    "start_time": "2022-04-16T01:07:31.724Z"
   },
   {
    "duration": 12,
    "start_time": "2022-04-16T01:08:09.171Z"
   },
   {
    "duration": 0,
    "start_time": "2022-04-16T01:08:09.321Z"
   },
   {
    "duration": 202,
    "start_time": "2022-04-16T01:08:19.893Z"
   },
   {
    "duration": 200,
    "start_time": "2022-04-16T01:08:48.425Z"
   },
   {
    "duration": 228,
    "start_time": "2022-04-16T01:09:14.959Z"
   },
   {
    "duration": 30874,
    "start_time": "2022-04-16T01:11:26.432Z"
   },
   {
    "duration": 211,
    "start_time": "2022-04-16T01:11:57.307Z"
   },
   {
    "duration": 113,
    "start_time": "2022-04-16T01:12:52.585Z"
   },
   {
    "duration": 9,
    "start_time": "2022-04-16T01:13:26.272Z"
   },
   {
    "duration": 26,
    "start_time": "2022-04-16T01:14:18.504Z"
   },
   {
    "duration": 34111,
    "start_time": "2022-04-16T01:14:22.367Z"
   },
   {
    "duration": 33117,
    "start_time": "2022-04-16T01:15:25.865Z"
   },
   {
    "duration": 67,
    "start_time": "2022-04-16T01:15:58.984Z"
   },
   {
    "duration": 313,
    "start_time": "2022-04-16T01:15:59.054Z"
   },
   {
    "duration": 2,
    "start_time": "2022-04-16T01:17:09.185Z"
   },
   {
    "duration": 13,
    "start_time": "2022-04-16T01:19:06.748Z"
   },
   {
    "duration": 11,
    "start_time": "2022-04-16T01:19:28.776Z"
   },
   {
    "duration": 17252,
    "start_time": "2022-04-16T01:20:07.328Z"
   },
   {
    "duration": 16768,
    "start_time": "2022-04-16T01:20:51.436Z"
   },
   {
    "duration": 138,
    "start_time": "2022-04-16T01:21:37.439Z"
   },
   {
    "duration": 15,
    "start_time": "2022-04-16T01:21:56.232Z"
   },
   {
    "duration": 228,
    "start_time": "2022-04-16T01:22:34.160Z"
   },
   {
    "duration": 112,
    "start_time": "2022-04-16T01:22:58.649Z"
   },
   {
    "duration": 26531,
    "start_time": "2022-04-16T01:26:08.372Z"
   },
   {
    "duration": 29390,
    "start_time": "2022-04-16T01:26:43.927Z"
   },
   {
    "duration": 30875,
    "start_time": "2022-04-16T01:27:22.103Z"
   },
   {
    "duration": 32780,
    "start_time": "2022-04-16T01:28:00.526Z"
   },
   {
    "duration": 34223,
    "start_time": "2022-04-16T01:28:41.695Z"
   },
   {
    "duration": 3,
    "start_time": "2022-04-16T01:30:30.688Z"
   },
   {
    "duration": 499,
    "start_time": "2022-04-16T01:30:32.679Z"
   },
   {
    "duration": 545,
    "start_time": "2022-04-16T01:31:06.761Z"
   },
   {
    "duration": 478,
    "start_time": "2022-04-16T01:31:23.116Z"
   },
   {
    "duration": 1383,
    "start_time": "2022-04-16T01:34:18.861Z"
   },
   {
    "duration": 48,
    "start_time": "2022-04-16T01:34:20.246Z"
   },
   {
    "duration": 43,
    "start_time": "2022-04-16T01:34:20.296Z"
   },
   {
    "duration": 19,
    "start_time": "2022-04-16T01:34:20.341Z"
   },
   {
    "duration": 6,
    "start_time": "2022-04-16T01:34:20.361Z"
   },
   {
    "duration": 16,
    "start_time": "2022-04-16T01:34:20.368Z"
   },
   {
    "duration": 3,
    "start_time": "2022-04-16T01:34:20.386Z"
   },
   {
    "duration": 6,
    "start_time": "2022-04-16T01:34:20.390Z"
   },
   {
    "duration": 125,
    "start_time": "2022-04-16T01:34:20.398Z"
   },
   {
    "duration": 11,
    "start_time": "2022-04-16T01:34:20.525Z"
   },
   {
    "duration": 5,
    "start_time": "2022-04-16T01:34:20.556Z"
   },
   {
    "duration": 7,
    "start_time": "2022-04-16T01:34:20.563Z"
   },
   {
    "duration": 9,
    "start_time": "2022-04-16T01:34:20.572Z"
   },
   {
    "duration": 8,
    "start_time": "2022-04-16T01:34:20.583Z"
   },
   {
    "duration": 17,
    "start_time": "2022-04-16T01:34:20.593Z"
   },
   {
    "duration": 4,
    "start_time": "2022-04-16T01:34:20.612Z"
   },
   {
    "duration": 37,
    "start_time": "2022-04-16T01:34:20.618Z"
   },
   {
    "duration": 14,
    "start_time": "2022-04-16T01:34:20.657Z"
   },
   {
    "duration": 5,
    "start_time": "2022-04-16T01:34:20.672Z"
   },
   {
    "duration": 28,
    "start_time": "2022-04-16T01:34:20.678Z"
   },
   {
    "duration": 5,
    "start_time": "2022-04-16T01:34:20.708Z"
   },
   {
    "duration": 219,
    "start_time": "2022-04-16T01:34:20.714Z"
   },
   {
    "duration": 31769,
    "start_time": "2022-04-16T01:34:20.935Z"
   },
   {
    "duration": 59,
    "start_time": "2022-04-16T01:34:52.706Z"
   },
   {
    "duration": 93,
    "start_time": "2022-04-16T01:34:52.767Z"
   },
   {
    "duration": 212,
    "start_time": "2022-04-16T01:34:52.862Z"
   },
   {
    "duration": 31297,
    "start_time": "2022-04-16T01:34:53.076Z"
   },
   {
    "duration": 82,
    "start_time": "2022-04-16T01:35:24.376Z"
   },
   {
    "duration": 93,
    "start_time": "2022-04-16T01:35:24.462Z"
   },
   {
    "duration": 250,
    "start_time": "2022-04-16T01:35:24.562Z"
   },
   {
    "duration": 32914,
    "start_time": "2022-04-16T01:35:24.814Z"
   },
   {
    "duration": 42,
    "start_time": "2022-04-16T01:35:57.729Z"
   },
   {
    "duration": 91,
    "start_time": "2022-04-16T01:35:57.773Z"
   },
   {
    "duration": 212,
    "start_time": "2022-04-16T01:35:57.867Z"
   },
   {
    "duration": 16982,
    "start_time": "2022-04-16T01:35:58.081Z"
   },
   {
    "duration": 15,
    "start_time": "2022-04-16T01:36:15.064Z"
   },
   {
    "duration": 395,
    "start_time": "2022-04-16T01:36:15.081Z"
   },
   {
    "duration": 250,
    "start_time": "2022-04-16T01:36:15.478Z"
   },
   {
    "duration": 543,
    "start_time": "2022-04-16T01:36:15.730Z"
   },
   {
    "duration": 546,
    "start_time": "2022-04-16T01:36:16.275Z"
   },
   {
    "duration": 79,
    "start_time": "2022-04-16T01:36:16.823Z"
   },
   {
    "duration": 127,
    "start_time": "2022-04-16T01:36:16.903Z"
   },
   {
    "duration": 3,
    "start_time": "2022-04-16T01:36:17.032Z"
   },
   {
    "duration": 477,
    "start_time": "2022-04-16T01:36:17.036Z"
   },
   {
    "duration": 547,
    "start_time": "2022-04-16T01:36:17.515Z"
   },
   {
    "duration": 572,
    "start_time": "2022-04-16T01:36:18.064Z"
   },
   {
    "duration": 548,
    "start_time": "2022-04-16T01:37:03.349Z"
   },
   {
    "duration": 553,
    "start_time": "2022-04-16T01:37:11.718Z"
   },
   {
    "duration": 66,
    "start_time": "2022-04-16T01:37:34.461Z"
   },
   {
    "duration": 1595,
    "start_time": "2022-04-16T09:30:21.069Z"
   },
   {
    "duration": 37,
    "start_time": "2022-04-16T09:30:22.666Z"
   },
   {
    "duration": 45,
    "start_time": "2022-04-16T09:30:22.705Z"
   },
   {
    "duration": 7,
    "start_time": "2022-04-16T09:30:22.753Z"
   },
   {
    "duration": 4,
    "start_time": "2022-04-16T09:30:23.484Z"
   },
   {
    "duration": 15,
    "start_time": "2022-04-16T09:30:24.316Z"
   },
   {
    "duration": 4,
    "start_time": "2022-04-16T09:30:25.554Z"
   },
   {
    "duration": 3,
    "start_time": "2022-04-16T09:30:25.989Z"
   },
   {
    "duration": 110,
    "start_time": "2022-04-16T09:30:26.852Z"
   },
   {
    "duration": 11,
    "start_time": "2022-04-16T09:30:27.288Z"
   },
   {
    "duration": 5,
    "start_time": "2022-04-16T09:30:28.160Z"
   },
   {
    "duration": 6,
    "start_time": "2022-04-16T09:30:32.627Z"
   },
   {
    "duration": 9,
    "start_time": "2022-04-16T09:30:33.463Z"
   },
   {
    "duration": 9,
    "start_time": "2022-04-16T09:30:34.371Z"
   },
   {
    "duration": 18,
    "start_time": "2022-04-16T09:30:36.734Z"
   },
   {
    "duration": 4,
    "start_time": "2022-04-16T09:30:37.638Z"
   },
   {
    "duration": 6,
    "start_time": "2022-04-16T09:30:38.653Z"
   },
   {
    "duration": 6,
    "start_time": "2022-04-16T09:30:39.179Z"
   },
   {
    "duration": 4,
    "start_time": "2022-04-16T09:30:40.175Z"
   },
   {
    "duration": 30,
    "start_time": "2022-04-16T09:30:41.816Z"
   },
   {
    "duration": 9,
    "start_time": "2022-04-16T09:30:45.279Z"
   },
   {
    "duration": 170,
    "start_time": "2022-04-16T09:30:47.991Z"
   },
   {
    "duration": 5,
    "start_time": "2022-04-16T09:30:52.062Z"
   },
   {
    "duration": 116,
    "start_time": "2022-04-16T09:30:54.444Z"
   },
   {
    "duration": 3,
    "start_time": "2022-04-16T09:33:54.580Z"
   },
   {
    "duration": 3,
    "start_time": "2022-04-16T09:37:03.974Z"
   },
   {
    "duration": 206,
    "start_time": "2022-04-16T09:37:05.316Z"
   },
   {
    "duration": 3,
    "start_time": "2022-04-16T09:38:08.749Z"
   },
   {
    "duration": 10,
    "start_time": "2022-04-16T09:38:10.404Z"
   },
   {
    "duration": 192,
    "start_time": "2022-04-16T09:38:20.156Z"
   },
   {
    "duration": 286,
    "start_time": "2022-04-16T09:38:43.469Z"
   },
   {
    "duration": 32138,
    "start_time": "2022-04-16T09:39:12.459Z"
   },
   {
    "duration": 118,
    "start_time": "2022-04-16T09:40:03.244Z"
   },
   {
    "duration": 212,
    "start_time": "2022-04-16T09:40:32.794Z"
   },
   {
    "duration": 31438,
    "start_time": "2022-04-16T09:40:49.285Z"
   },
   {
    "duration": 31,
    "start_time": "2022-04-16T09:41:20.724Z"
   },
   {
    "duration": 21,
    "start_time": "2022-04-16T09:41:26.847Z"
   },
   {
    "duration": 10,
    "start_time": "2022-04-16T09:41:41.032Z"
   },
   {
    "duration": 237,
    "start_time": "2022-04-16T09:42:09.949Z"
   },
   {
    "duration": 33136,
    "start_time": "2022-04-16T09:42:22.587Z"
   },
   {
    "duration": 131,
    "start_time": "2022-04-16T09:42:55.725Z"
   },
   {
    "duration": 10,
    "start_time": "2022-04-16T09:43:01.856Z"
   },
   {
    "duration": 131,
    "start_time": "2022-04-16T09:43:17.708Z"
   },
   {
    "duration": 17176,
    "start_time": "2022-04-16T09:43:29.041Z"
   },
   {
    "duration": 38,
    "start_time": "2022-04-16T09:43:46.219Z"
   },
   {
    "duration": 188,
    "start_time": "2022-04-16T09:44:07.497Z"
   },
   {
    "duration": 277,
    "start_time": "2022-04-16T09:44:13.161Z"
   },
   {
    "duration": 541,
    "start_time": "2022-04-16T09:44:19.062Z"
   },
   {
    "duration": 580,
    "start_time": "2022-04-16T09:44:25.780Z"
   },
   {
    "duration": 4,
    "start_time": "2022-04-16T09:45:12.379Z"
   },
   {
    "duration": 204,
    "start_time": "2022-04-16T09:45:28.486Z"
   },
   {
    "duration": 5,
    "start_time": "2022-04-16T09:45:47.086Z"
   },
   {
    "duration": 263,
    "start_time": "2022-04-16T09:45:51.307Z"
   },
   {
    "duration": 71,
    "start_time": "2022-04-16T09:46:30.975Z"
   },
   {
    "duration": 115,
    "start_time": "2022-04-16T09:46:32.090Z"
   },
   {
    "duration": 727,
    "start_time": "2022-04-16T09:46:37.966Z"
   },
   {
    "duration": 578,
    "start_time": "2022-04-16T09:46:41.634Z"
   },
   {
    "duration": 471,
    "start_time": "2022-04-16T09:48:18.066Z"
   },
   {
    "duration": 540,
    "start_time": "2022-04-16T09:48:26.567Z"
   },
   {
    "duration": 568,
    "start_time": "2022-04-16T09:48:28.388Z"
   },
   {
    "duration": 3,
    "start_time": "2022-04-16T09:49:37.880Z"
   },
   {
    "duration": 125,
    "start_time": "2022-04-16T10:03:39.949Z"
   },
   {
    "duration": 1877,
    "start_time": "2022-04-16T10:04:28.964Z"
   },
   {
    "duration": 51,
    "start_time": "2022-04-16T10:04:30.843Z"
   },
   {
    "duration": 48,
    "start_time": "2022-04-16T10:04:30.896Z"
   },
   {
    "duration": 8,
    "start_time": "2022-04-16T10:04:30.954Z"
   },
   {
    "duration": 15,
    "start_time": "2022-04-16T10:04:30.964Z"
   },
   {
    "duration": 25,
    "start_time": "2022-04-16T10:04:30.981Z"
   },
   {
    "duration": 4,
    "start_time": "2022-04-16T10:04:31.008Z"
   },
   {
    "duration": 17,
    "start_time": "2022-04-16T10:04:31.014Z"
   },
   {
    "duration": 135,
    "start_time": "2022-04-16T10:04:31.033Z"
   },
   {
    "duration": 10,
    "start_time": "2022-04-16T10:04:31.171Z"
   },
   {
    "duration": 22,
    "start_time": "2022-04-16T10:04:31.183Z"
   },
   {
    "duration": 106,
    "start_time": "2022-04-16T10:04:31.206Z"
   },
   {
    "duration": 44,
    "start_time": "2022-04-16T10:04:31.314Z"
   },
   {
    "duration": 14,
    "start_time": "2022-04-16T10:04:31.359Z"
   },
   {
    "duration": 16,
    "start_time": "2022-04-16T10:04:31.375Z"
   },
   {
    "duration": 5,
    "start_time": "2022-04-16T10:04:31.392Z"
   },
   {
    "duration": 22,
    "start_time": "2022-04-16T10:04:31.398Z"
   },
   {
    "duration": 13,
    "start_time": "2022-04-16T10:04:31.422Z"
   },
   {
    "duration": 19,
    "start_time": "2022-04-16T10:04:31.437Z"
   },
   {
    "duration": 32,
    "start_time": "2022-04-16T10:04:31.458Z"
   },
   {
    "duration": 7,
    "start_time": "2022-04-16T10:04:31.491Z"
   },
   {
    "duration": 18,
    "start_time": "2022-04-16T10:04:31.499Z"
   },
   {
    "duration": 208,
    "start_time": "2022-04-16T10:04:31.518Z"
   },
   {
    "duration": 36504,
    "start_time": "2022-04-16T10:04:31.728Z"
   },
   {
    "duration": 123,
    "start_time": "2022-04-16T10:05:08.234Z"
   },
   {
    "duration": 96,
    "start_time": "2022-04-16T10:05:08.359Z"
   },
   {
    "duration": 225,
    "start_time": "2022-04-16T10:05:08.457Z"
   },
   {
    "duration": 31793,
    "start_time": "2022-04-16T10:05:08.686Z"
   },
   {
    "duration": 83,
    "start_time": "2022-04-16T10:05:40.481Z"
   },
   {
    "duration": 9,
    "start_time": "2022-04-16T10:05:40.655Z"
   },
   {
    "duration": 288,
    "start_time": "2022-04-16T10:05:40.666Z"
   },
   {
    "duration": 32927,
    "start_time": "2022-04-16T10:05:40.956Z"
   },
   {
    "duration": 73,
    "start_time": "2022-04-16T10:06:13.885Z"
   },
   {
    "duration": 103,
    "start_time": "2022-04-16T10:06:13.959Z"
   },
   {
    "duration": 145,
    "start_time": "2022-04-16T10:06:14.063Z"
   },
   {
    "duration": 16997,
    "start_time": "2022-04-16T10:06:14.210Z"
   },
   {
    "duration": 50,
    "start_time": "2022-04-16T10:06:31.208Z"
   },
   {
    "duration": 104,
    "start_time": "2022-04-16T10:06:31.261Z"
   },
   {
    "duration": 20,
    "start_time": "2022-04-16T10:06:31.367Z"
   },
   {
    "duration": 75,
    "start_time": "2022-04-16T10:06:31.388Z"
   },
   {
    "duration": 120,
    "start_time": "2022-04-16T10:06:31.465Z"
   },
   {
    "duration": 551,
    "start_time": "2022-04-16T10:06:31.587Z"
   },
   {
    "duration": 561,
    "start_time": "2022-04-16T10:06:32.140Z"
   },
   {
    "duration": 275,
    "start_time": "2022-04-16T10:06:32.703Z"
   },
   {
    "duration": 256,
    "start_time": "2022-04-16T10:06:32.980Z"
   },
   {
    "duration": 482,
    "start_time": "2022-04-16T10:06:33.238Z"
   },
   {
    "duration": 558,
    "start_time": "2022-04-16T10:06:33.722Z"
   },
   {
    "duration": 576,
    "start_time": "2022-04-16T10:06:34.282Z"
   },
   {
    "duration": 4,
    "start_time": "2022-04-16T10:11:03.863Z"
   },
   {
    "duration": 14,
    "start_time": "2022-04-16T10:11:45.956Z"
   },
   {
    "duration": 8,
    "start_time": "2022-04-16T10:12:16.471Z"
   },
   {
    "duration": 6,
    "start_time": "2022-04-16T10:12:46.426Z"
   },
   {
    "duration": 14,
    "start_time": "2022-04-16T10:13:08.537Z"
   },
   {
    "duration": 4,
    "start_time": "2022-04-16T10:13:11.217Z"
   },
   {
    "duration": 8,
    "start_time": "2022-04-16T10:13:11.794Z"
   },
   {
    "duration": 139,
    "start_time": "2022-04-16T10:16:40.198Z"
   },
   {
    "duration": 4,
    "start_time": "2022-04-16T10:16:46.833Z"
   },
   {
    "duration": 9,
    "start_time": "2022-04-16T10:16:47.769Z"
   },
   {
    "duration": 4,
    "start_time": "2022-04-16T10:17:41.398Z"
   },
   {
    "duration": 9,
    "start_time": "2022-04-16T10:17:45.459Z"
   },
   {
    "duration": 131,
    "start_time": "2022-04-16T10:17:48.741Z"
   },
   {
    "duration": 15806,
    "start_time": "2022-04-16T10:17:52.057Z"
   },
   {
    "duration": 20,
    "start_time": "2022-04-16T10:18:13.774Z"
   },
   {
    "duration": 5,
    "start_time": "2022-04-16T10:18:25.793Z"
   },
   {
    "duration": 4,
    "start_time": "2022-04-16T10:18:26.308Z"
   },
   {
    "duration": 77,
    "start_time": "2022-04-16T10:18:28.582Z"
   },
   {
    "duration": 133,
    "start_time": "2022-04-16T10:18:30.733Z"
   },
   {
    "duration": 560,
    "start_time": "2022-04-16T10:18:31.546Z"
   },
   {
    "duration": 570,
    "start_time": "2022-04-16T10:18:33.827Z"
   },
   {
    "duration": 216,
    "start_time": "2022-04-16T10:18:35.375Z"
   },
   {
    "duration": 292,
    "start_time": "2022-04-16T10:18:38.711Z"
   },
   {
    "duration": 471,
    "start_time": "2022-04-16T10:18:41.960Z"
   },
   {
    "duration": 530,
    "start_time": "2022-04-16T10:18:45.170Z"
   },
   {
    "duration": 555,
    "start_time": "2022-04-16T10:18:46.710Z"
   },
   {
    "duration": 1666,
    "start_time": "2022-04-16T10:18:51.871Z"
   },
   {
    "duration": 37,
    "start_time": "2022-04-16T10:18:53.539Z"
   },
   {
    "duration": 67,
    "start_time": "2022-04-16T10:18:53.578Z"
   },
   {
    "duration": 8,
    "start_time": "2022-04-16T10:18:53.654Z"
   },
   {
    "duration": 9,
    "start_time": "2022-04-16T10:18:53.663Z"
   },
   {
    "duration": 18,
    "start_time": "2022-04-16T10:18:53.673Z"
   },
   {
    "duration": 4,
    "start_time": "2022-04-16T10:18:53.693Z"
   },
   {
    "duration": 7,
    "start_time": "2022-04-16T10:18:53.699Z"
   },
   {
    "duration": 142,
    "start_time": "2022-04-16T10:18:53.708Z"
   },
   {
    "duration": 10,
    "start_time": "2022-04-16T10:18:53.854Z"
   },
   {
    "duration": 5,
    "start_time": "2022-04-16T10:18:53.865Z"
   },
   {
    "duration": 7,
    "start_time": "2022-04-16T10:18:53.871Z"
   },
   {
    "duration": 10,
    "start_time": "2022-04-16T10:18:53.880Z"
   },
   {
    "duration": 7,
    "start_time": "2022-04-16T10:18:53.892Z"
   },
   {
    "duration": 15,
    "start_time": "2022-04-16T10:18:53.900Z"
   },
   {
    "duration": 4,
    "start_time": "2022-04-16T10:18:53.917Z"
   },
   {
    "duration": 5,
    "start_time": "2022-04-16T10:18:53.955Z"
   },
   {
    "duration": 27,
    "start_time": "2022-04-16T10:18:53.962Z"
   },
   {
    "duration": 14,
    "start_time": "2022-04-16T10:18:53.991Z"
   },
   {
    "duration": 30,
    "start_time": "2022-04-16T10:18:54.007Z"
   },
   {
    "duration": 6,
    "start_time": "2022-04-16T10:18:54.038Z"
   },
   {
    "duration": 9,
    "start_time": "2022-04-16T10:18:54.046Z"
   },
   {
    "duration": 205,
    "start_time": "2022-04-16T10:18:54.057Z"
   },
   {
    "duration": 31900,
    "start_time": "2022-04-16T10:18:54.263Z"
   },
   {
    "duration": 98,
    "start_time": "2022-04-16T10:19:26.164Z"
   },
   {
    "duration": 96,
    "start_time": "2022-04-16T10:19:26.263Z"
   },
   {
    "duration": 233,
    "start_time": "2022-04-16T10:19:26.361Z"
   },
   {
    "duration": 31822,
    "start_time": "2022-04-16T10:19:26.598Z"
   },
   {
    "duration": 38,
    "start_time": "2022-04-16T10:19:58.421Z"
   },
   {
    "duration": 97,
    "start_time": "2022-04-16T10:19:58.561Z"
   },
   {
    "duration": 10,
    "start_time": "2022-04-16T10:19:58.660Z"
   },
   {
    "duration": 230,
    "start_time": "2022-04-16T10:19:58.672Z"
   },
   {
    "duration": 33502,
    "start_time": "2022-04-16T10:19:58.904Z"
   },
   {
    "duration": 59,
    "start_time": "2022-04-16T10:20:32.408Z"
   },
   {
    "duration": 5,
    "start_time": "2022-04-16T10:20:32.555Z"
   },
   {
    "duration": 13,
    "start_time": "2022-04-16T10:20:32.562Z"
   },
   {
    "duration": 204,
    "start_time": "2022-04-16T10:20:32.577Z"
   },
   {
    "duration": 16118,
    "start_time": "2022-04-16T10:20:32.783Z"
   },
   {
    "duration": 54,
    "start_time": "2022-04-16T10:20:48.902Z"
   },
   {
    "duration": 97,
    "start_time": "2022-04-16T10:20:48.959Z"
   },
   {
    "duration": 16,
    "start_time": "2022-04-16T10:20:49.058Z"
   },
   {
    "duration": 74,
    "start_time": "2022-04-16T10:20:49.076Z"
   },
   {
    "duration": 121,
    "start_time": "2022-04-16T10:20:49.154Z"
   },
   {
    "duration": 547,
    "start_time": "2022-04-16T10:20:49.278Z"
   },
   {
    "duration": 581,
    "start_time": "2022-04-16T10:20:49.827Z"
   },
   {
    "duration": 283,
    "start_time": "2022-04-16T10:20:50.411Z"
   },
   {
    "duration": 240,
    "start_time": "2022-04-16T10:20:50.696Z"
   },
   {
    "duration": 492,
    "start_time": "2022-04-16T10:20:50.937Z"
   },
   {
    "duration": 560,
    "start_time": "2022-04-16T10:20:51.430Z"
   },
   {
    "duration": 603,
    "start_time": "2022-04-16T10:20:51.992Z"
   },
   {
    "duration": 8,
    "start_time": "2022-04-16T10:20:52.598Z"
   },
   {
    "duration": 2318,
    "start_time": "2022-04-16T16:40:55.271Z"
   },
   {
    "duration": 55,
    "start_time": "2022-04-16T16:40:57.591Z"
   },
   {
    "duration": 85,
    "start_time": "2022-04-16T16:40:57.648Z"
   },
   {
    "duration": 11,
    "start_time": "2022-04-16T16:40:57.736Z"
   },
   {
    "duration": 12,
    "start_time": "2022-04-16T16:40:57.749Z"
   },
   {
    "duration": 28,
    "start_time": "2022-04-16T16:40:57.763Z"
   },
   {
    "duration": 5,
    "start_time": "2022-04-16T16:40:57.793Z"
   },
   {
    "duration": 5,
    "start_time": "2022-04-16T16:40:57.824Z"
   },
   {
    "duration": 216,
    "start_time": "2022-04-16T16:40:57.831Z"
   },
   {
    "duration": 17,
    "start_time": "2022-04-16T16:40:58.050Z"
   },
   {
    "duration": 7,
    "start_time": "2022-04-16T16:40:58.069Z"
   },
   {
    "duration": 7,
    "start_time": "2022-04-16T16:40:58.078Z"
   },
   {
    "duration": 42,
    "start_time": "2022-04-16T16:40:58.088Z"
   },
   {
    "duration": 15,
    "start_time": "2022-04-16T16:40:58.132Z"
   },
   {
    "duration": 30,
    "start_time": "2022-04-16T16:40:58.149Z"
   },
   {
    "duration": 47,
    "start_time": "2022-04-16T16:40:58.181Z"
   },
   {
    "duration": 11,
    "start_time": "2022-04-16T16:40:58.231Z"
   },
   {
    "duration": 10,
    "start_time": "2022-04-16T16:40:58.244Z"
   },
   {
    "duration": 8,
    "start_time": "2022-04-16T16:40:58.256Z"
   },
   {
    "duration": 88,
    "start_time": "2022-04-16T16:40:58.266Z"
   },
   {
    "duration": 9,
    "start_time": "2022-04-16T16:40:58.356Z"
   },
   {
    "duration": 5,
    "start_time": "2022-04-16T16:40:58.368Z"
   },
   {
    "duration": 350,
    "start_time": "2022-04-16T16:40:58.375Z"
   },
   {
    "duration": 59599,
    "start_time": "2022-04-16T16:40:58.728Z"
   },
   {
    "duration": 104,
    "start_time": "2022-04-16T16:41:58.329Z"
   },
   {
    "duration": 8,
    "start_time": "2022-04-16T16:41:58.525Z"
   },
   {
    "duration": 346,
    "start_time": "2022-04-16T16:41:58.535Z"
   },
   {
    "duration": 51329,
    "start_time": "2022-04-16T16:41:58.886Z"
   },
   {
    "duration": 41,
    "start_time": "2022-04-16T16:42:50.217Z"
   },
   {
    "duration": 103,
    "start_time": "2022-04-16T16:42:50.326Z"
   },
   {
    "duration": 10,
    "start_time": "2022-04-16T16:42:50.431Z"
   },
   {
    "duration": 46,
    "start_time": "2022-04-16T16:42:50.443Z"
   },
   {
    "duration": 396,
    "start_time": "2022-04-16T16:42:50.492Z"
   },
   {
    "duration": 56266,
    "start_time": "2022-04-16T16:42:50.890Z"
   },
   {
    "duration": 166,
    "start_time": "2022-04-16T16:43:47.159Z"
   },
   {
    "duration": 6,
    "start_time": "2022-04-16T16:43:47.327Z"
   },
   {
    "duration": 16,
    "start_time": "2022-04-16T16:43:47.336Z"
   },
   {
    "duration": 231,
    "start_time": "2022-04-16T16:43:47.355Z"
   },
   {
    "duration": 25168,
    "start_time": "2022-04-16T16:43:47.588Z"
   },
   {
    "duration": 68,
    "start_time": "2022-04-16T16:44:12.758Z"
   },
   {
    "duration": 97,
    "start_time": "2022-04-16T16:44:12.829Z"
   },
   {
    "duration": 8,
    "start_time": "2022-04-16T16:44:12.929Z"
   },
   {
    "duration": 137,
    "start_time": "2022-04-16T16:44:12.940Z"
   },
   {
    "duration": 225,
    "start_time": "2022-04-16T16:44:13.080Z"
   },
   {
    "duration": 884,
    "start_time": "2022-04-16T16:44:13.307Z"
   },
   {
    "duration": 946,
    "start_time": "2022-04-16T16:44:14.193Z"
   },
   {
    "duration": 286,
    "start_time": "2022-04-16T16:44:15.142Z"
   },
   {
    "duration": 351,
    "start_time": "2022-04-16T16:44:15.431Z"
   },
   {
    "duration": 818,
    "start_time": "2022-04-16T16:44:15.784Z"
   },
   {
    "duration": 926,
    "start_time": "2022-04-16T16:44:16.604Z"
   },
   {
    "duration": 951,
    "start_time": "2022-04-16T16:44:17.532Z"
   },
   {
    "duration": 2085,
    "start_time": "2022-04-16T19:57:50.600Z"
   },
   {
    "duration": 58,
    "start_time": "2022-04-16T19:57:52.688Z"
   },
   {
    "duration": 93,
    "start_time": "2022-04-16T19:57:52.748Z"
   },
   {
    "duration": 11,
    "start_time": "2022-04-16T19:57:52.844Z"
   },
   {
    "duration": 27,
    "start_time": "2022-04-16T19:57:52.857Z"
   },
   {
    "duration": 27,
    "start_time": "2022-04-16T19:57:52.887Z"
   },
   {
    "duration": 5,
    "start_time": "2022-04-16T19:57:52.916Z"
   },
   {
    "duration": 17,
    "start_time": "2022-04-16T19:57:52.923Z"
   },
   {
    "duration": 325,
    "start_time": "2022-04-16T19:57:52.942Z"
   },
   {
    "duration": 21,
    "start_time": "2022-04-16T19:57:53.272Z"
   },
   {
    "duration": 17,
    "start_time": "2022-04-16T19:57:53.295Z"
   },
   {
    "duration": 11,
    "start_time": "2022-04-16T19:57:53.314Z"
   },
   {
    "duration": 18,
    "start_time": "2022-04-16T19:57:53.327Z"
   },
   {
    "duration": 48,
    "start_time": "2022-04-16T19:57:53.347Z"
   },
   {
    "duration": 28,
    "start_time": "2022-04-16T19:57:53.398Z"
   },
   {
    "duration": 10,
    "start_time": "2022-04-16T19:57:53.428Z"
   },
   {
    "duration": 45,
    "start_time": "2022-04-16T19:57:53.440Z"
   },
   {
    "duration": 9,
    "start_time": "2022-04-16T19:57:53.487Z"
   },
   {
    "duration": 7,
    "start_time": "2022-04-16T19:57:53.498Z"
   },
   {
    "duration": 90,
    "start_time": "2022-04-16T19:57:53.507Z"
   },
   {
    "duration": 9,
    "start_time": "2022-04-16T19:57:53.599Z"
   },
   {
    "duration": 5,
    "start_time": "2022-04-16T19:57:53.611Z"
   },
   {
    "duration": 362,
    "start_time": "2022-04-16T19:57:53.619Z"
   },
   {
    "duration": 71106,
    "start_time": "2022-04-16T19:57:53.984Z"
   },
   {
    "duration": 206,
    "start_time": "2022-04-16T19:59:05.093Z"
   },
   {
    "duration": 80,
    "start_time": "2022-04-16T19:59:05.302Z"
   },
   {
    "duration": 498,
    "start_time": "2022-04-16T19:59:05.384Z"
   },
   {
    "duration": 59798,
    "start_time": "2022-04-16T19:59:05.889Z"
   },
   {
    "duration": 94,
    "start_time": "2022-04-16T20:00:05.690Z"
   },
   {
    "duration": 99,
    "start_time": "2022-04-16T20:00:05.788Z"
   },
   {
    "duration": 8,
    "start_time": "2022-04-16T20:00:05.889Z"
   },
   {
    "duration": 15,
    "start_time": "2022-04-16T20:00:05.898Z"
   },
   {
    "duration": 417,
    "start_time": "2022-04-16T20:00:05.915Z"
   },
   {
    "duration": 59989,
    "start_time": "2022-04-16T20:00:06.334Z"
   },
   {
    "duration": 174,
    "start_time": "2022-04-16T20:01:06.325Z"
   },
   {
    "duration": 7,
    "start_time": "2022-04-16T20:01:06.581Z"
   },
   {
    "duration": 17,
    "start_time": "2022-04-16T20:01:06.590Z"
   },
   {
    "duration": 248,
    "start_time": "2022-04-16T20:01:06.609Z"
   },
   {
    "duration": 35677,
    "start_time": "2022-04-16T20:01:06.860Z"
   },
   {
    "duration": 245,
    "start_time": "2022-04-16T20:01:42.540Z"
   },
   {
    "duration": 6,
    "start_time": "2022-04-16T20:01:42.788Z"
   },
   {
    "duration": 16,
    "start_time": "2022-04-16T20:01:42.797Z"
   },
   {
    "duration": 177,
    "start_time": "2022-04-16T20:01:42.818Z"
   },
   {
    "duration": 232,
    "start_time": "2022-04-16T20:01:42.998Z"
   },
   {
    "duration": 903,
    "start_time": "2022-04-16T20:01:43.233Z"
   },
   {
    "duration": 960,
    "start_time": "2022-04-16T20:01:44.139Z"
   },
   {
    "duration": 362,
    "start_time": "2022-04-16T20:01:45.102Z"
   },
   {
    "duration": 362,
    "start_time": "2022-04-16T20:01:45.482Z"
   },
   {
    "duration": 789,
    "start_time": "2022-04-16T20:01:45.847Z"
   },
   {
    "duration": 882,
    "start_time": "2022-04-16T20:01:46.638Z"
   },
   {
    "duration": 1006,
    "start_time": "2022-04-16T20:01:47.523Z"
   },
   {
    "duration": 14,
    "start_time": "2022-04-16T20:01:48.532Z"
   },
   {
    "duration": 1399,
    "start_time": "2022-04-16T20:05:53.582Z"
   },
   {
    "duration": 180,
    "start_time": "2022-04-16T20:06:05.895Z"
   },
   {
    "duration": 1414,
    "start_time": "2022-04-16T20:06:13.914Z"
   },
   {
    "duration": 1279,
    "start_time": "2022-04-16T20:06:36.378Z"
   },
   {
    "duration": 15,
    "start_time": "2022-04-16T20:06:52.660Z"
   },
   {
    "duration": 29,
    "start_time": "2022-04-16T20:08:56.296Z"
   },
   {
    "duration": 12,
    "start_time": "2022-04-16T20:09:20.249Z"
   },
   {
    "duration": 12,
    "start_time": "2022-04-16T20:10:09.665Z"
   },
   {
    "duration": 8,
    "start_time": "2022-04-16T20:10:15.908Z"
   },
   {
    "duration": 12,
    "start_time": "2022-04-16T20:10:20.313Z"
   },
   {
    "duration": 19,
    "start_time": "2022-04-16T20:10:32.590Z"
   },
   {
    "duration": 13,
    "start_time": "2022-04-16T20:10:50.943Z"
   },
   {
    "duration": 12,
    "start_time": "2022-04-16T20:11:43.386Z"
   },
   {
    "duration": 12,
    "start_time": "2022-04-16T20:11:48.491Z"
   },
   {
    "duration": 11,
    "start_time": "2022-04-16T20:12:05.682Z"
   },
   {
    "duration": 6,
    "start_time": "2022-04-16T20:13:14.100Z"
   },
   {
    "duration": 10,
    "start_time": "2022-04-16T20:13:39.124Z"
   },
   {
    "duration": 21,
    "start_time": "2022-04-16T20:14:13.587Z"
   },
   {
    "duration": 19,
    "start_time": "2022-04-16T20:14:33.636Z"
   },
   {
    "duration": 9,
    "start_time": "2022-04-16T20:14:41.099Z"
   },
   {
    "duration": 133,
    "start_time": "2022-04-16T20:17:42.465Z"
   },
   {
    "duration": 112,
    "start_time": "2022-04-16T20:17:46.639Z"
   },
   {
    "duration": 132,
    "start_time": "2022-04-16T20:18:02.124Z"
   },
   {
    "duration": 115,
    "start_time": "2022-04-16T20:18:08.166Z"
   },
   {
    "duration": 153,
    "start_time": "2022-04-16T20:18:12.718Z"
   },
   {
    "duration": 313,
    "start_time": "2022-04-16T20:22:50.084Z"
   },
   {
    "duration": 313,
    "start_time": "2022-04-16T20:23:00.426Z"
   },
   {
    "duration": 12,
    "start_time": "2022-04-16T20:23:39.391Z"
   },
   {
    "duration": 7,
    "start_time": "2022-04-16T20:23:46.749Z"
   },
   {
    "duration": 220,
    "start_time": "2022-04-16T20:23:50.528Z"
   },
   {
    "duration": 10,
    "start_time": "2022-04-16T20:24:31.931Z"
   },
   {
    "duration": 293,
    "start_time": "2022-04-16T20:24:35.038Z"
   },
   {
    "duration": 7,
    "start_time": "2022-04-16T20:24:53.281Z"
   },
   {
    "duration": 342,
    "start_time": "2022-04-16T20:24:55.860Z"
   },
   {
    "duration": 51244,
    "start_time": "2022-04-16T20:25:56.020Z"
   },
   {
    "duration": 51373,
    "start_time": "2022-04-16T20:30:01.574Z"
   },
   {
    "duration": 132,
    "start_time": "2022-04-16T20:30:52.950Z"
   },
   {
    "duration": 1237,
    "start_time": "2022-04-16T20:30:53.087Z"
   },
   {
    "duration": 1120,
    "start_time": "2022-04-16T20:30:54.327Z"
   },
   {
    "duration": 51929,
    "start_time": "2022-04-16T20:31:08.883Z"
   },
   {
    "duration": 1144,
    "start_time": "2022-04-16T20:32:00.814Z"
   },
   {
    "duration": 126,
    "start_time": "2022-04-16T20:32:01.961Z"
   },
   {
    "duration": 1220,
    "start_time": "2022-04-16T20:32:02.091Z"
   },
   {
    "duration": 350,
    "start_time": "2022-04-16T20:32:03.314Z"
   },
   {
    "duration": 236,
    "start_time": "2022-04-16T20:32:03.667Z"
   },
   {
    "duration": 320,
    "start_time": "2022-04-16T20:32:37.667Z"
   },
   {
    "duration": 51214,
    "start_time": "2022-04-16T20:33:22.085Z"
   },
   {
    "duration": 82,
    "start_time": "2022-04-16T20:34:13.302Z"
   },
   {
    "duration": 57,
    "start_time": "2022-04-16T20:34:48.730Z"
   },
   {
    "duration": 131,
    "start_time": "2022-04-16T20:35:13.200Z"
   },
   {
    "duration": 50981,
    "start_time": "2022-04-16T20:35:30.661Z"
   },
   {
    "duration": 1174,
    "start_time": "2022-04-16T20:36:21.646Z"
   },
   {
    "duration": 65,
    "start_time": "2022-04-16T20:36:22.822Z"
   },
   {
    "duration": 1213,
    "start_time": "2022-04-16T20:36:22.981Z"
   },
   {
    "duration": 395,
    "start_time": "2022-04-16T20:36:24.197Z"
   },
   {
    "duration": 230,
    "start_time": "2022-04-16T20:36:24.595Z"
   },
   {
    "duration": 56449,
    "start_time": "2022-04-16T20:37:03.264Z"
   },
   {
    "duration": 986,
    "start_time": "2022-04-16T20:37:59.716Z"
   },
   {
    "duration": 82,
    "start_time": "2022-04-16T20:38:00.704Z"
   },
   {
    "duration": 1079,
    "start_time": "2022-04-16T20:38:00.790Z"
   },
   {
    "duration": 217,
    "start_time": "2022-04-16T20:38:01.872Z"
   },
   {
    "duration": 221,
    "start_time": "2022-04-16T20:38:02.091Z"
   },
   {
    "duration": 26068,
    "start_time": "2022-04-16T20:38:11.581Z"
   },
   {
    "duration": 678,
    "start_time": "2022-04-16T20:38:37.652Z"
   },
   {
    "duration": 155,
    "start_time": "2022-04-16T20:38:38.332Z"
   },
   {
    "duration": 995,
    "start_time": "2022-04-16T20:38:38.490Z"
   },
   {
    "duration": 6,
    "start_time": "2022-04-16T20:38:40.059Z"
   },
   {
    "duration": 159,
    "start_time": "2022-04-16T20:38:42.799Z"
   },
   {
    "duration": 1189,
    "start_time": "2022-04-16T20:40:51.332Z"
   },
   {
    "duration": 6,
    "start_time": "2022-04-16T20:42:22.055Z"
   },
   {
    "duration": 1223,
    "start_time": "2022-04-16T20:42:31.393Z"
   },
   {
    "duration": 1184,
    "start_time": "2022-04-16T20:42:49.574Z"
   },
   {
    "duration": 111,
    "start_time": "2022-04-16T20:48:37.566Z"
   },
   {
    "duration": 192,
    "start_time": "2022-04-16T21:03:52.558Z"
   },
   {
    "duration": 2088,
    "start_time": "2022-04-16T21:04:52.037Z"
   },
   {
    "duration": 56,
    "start_time": "2022-04-16T21:04:54.127Z"
   },
   {
    "duration": 71,
    "start_time": "2022-04-16T21:04:54.185Z"
   },
   {
    "duration": 11,
    "start_time": "2022-04-16T21:04:54.282Z"
   },
   {
    "duration": 19,
    "start_time": "2022-04-16T21:04:54.295Z"
   },
   {
    "duration": 7,
    "start_time": "2022-04-16T21:04:54.316Z"
   },
   {
    "duration": 69,
    "start_time": "2022-04-16T21:04:54.325Z"
   },
   {
    "duration": 6,
    "start_time": "2022-04-16T21:04:54.396Z"
   },
   {
    "duration": 6,
    "start_time": "2022-04-16T21:04:54.404Z"
   },
   {
    "duration": 224,
    "start_time": "2022-04-16T21:04:54.413Z"
   },
   {
    "duration": 15,
    "start_time": "2022-04-16T21:04:54.639Z"
   },
   {
    "duration": 39,
    "start_time": "2022-04-16T21:04:54.657Z"
   },
   {
    "duration": 7,
    "start_time": "2022-04-16T21:04:54.699Z"
   },
   {
    "duration": 15,
    "start_time": "2022-04-16T21:04:54.708Z"
   },
   {
    "duration": 58,
    "start_time": "2022-04-16T21:04:54.725Z"
   },
   {
    "duration": 7,
    "start_time": "2022-04-16T21:04:54.785Z"
   },
   {
    "duration": 9,
    "start_time": "2022-04-16T21:04:54.794Z"
   },
   {
    "duration": 11,
    "start_time": "2022-04-16T21:04:54.805Z"
   },
   {
    "duration": 7,
    "start_time": "2022-04-16T21:04:54.818Z"
   },
   {
    "duration": 88,
    "start_time": "2022-04-16T21:04:54.827Z"
   },
   {
    "duration": 10,
    "start_time": "2022-04-16T21:04:54.918Z"
   },
   {
    "duration": 9,
    "start_time": "2022-04-16T21:04:54.930Z"
   },
   {
    "duration": 5,
    "start_time": "2022-04-16T21:04:54.941Z"
   },
   {
    "duration": 7,
    "start_time": "2022-04-16T21:04:54.982Z"
   },
   {
    "duration": 339,
    "start_time": "2022-04-16T21:04:54.991Z"
   },
   {
    "duration": 242,
    "start_time": "2022-04-16T21:04:55.332Z"
   },
   {
    "duration": 71688,
    "start_time": "2022-04-16T21:04:55.577Z"
   },
   {
    "duration": 1212,
    "start_time": "2022-04-16T21:06:07.272Z"
   },
   {
    "duration": 199,
    "start_time": "2022-04-16T21:06:08.487Z"
   },
   {
    "duration": 1323,
    "start_time": "2022-04-16T21:06:08.689Z"
   },
   {
    "duration": 11,
    "start_time": "2022-04-16T21:06:10.015Z"
   },
   {
    "duration": 354,
    "start_time": "2022-04-16T21:06:10.029Z"
   },
   {
    "duration": 231,
    "start_time": "2022-04-16T21:06:10.386Z"
   },
   {
    "duration": 62443,
    "start_time": "2022-04-16T21:06:10.620Z"
   },
   {
    "duration": 1783,
    "start_time": "2022-04-16T21:07:13.066Z"
   },
   {
    "duration": 231,
    "start_time": "2022-04-16T21:07:14.852Z"
   },
   {
    "duration": 1198,
    "start_time": "2022-04-16T21:07:15.086Z"
   },
   {
    "duration": 6,
    "start_time": "2022-04-16T21:07:16.286Z"
   },
   {
    "duration": 15,
    "start_time": "2022-04-16T21:07:16.295Z"
   },
   {
    "duration": 415,
    "start_time": "2022-04-16T21:07:16.312Z"
   },
   {
    "duration": 233,
    "start_time": "2022-04-16T21:07:16.730Z"
   },
   {
    "duration": 58484,
    "start_time": "2022-04-16T21:07:16.966Z"
   },
   {
    "duration": 977,
    "start_time": "2022-04-16T21:08:15.453Z"
   },
   {
    "duration": 152,
    "start_time": "2022-04-16T21:08:16.433Z"
   },
   {
    "duration": 1094,
    "start_time": "2022-04-16T21:08:16.588Z"
   },
   {
    "duration": 8,
    "start_time": "2022-04-16T21:08:17.685Z"
   },
   {
    "duration": 18,
    "start_time": "2022-04-16T21:08:17.695Z"
   },
   {
    "duration": 239,
    "start_time": "2022-04-16T21:08:17.716Z"
   },
   {
    "duration": 216,
    "start_time": "2022-04-16T21:08:17.957Z"
   },
   {
    "duration": 25197,
    "start_time": "2022-04-16T21:08:18.175Z"
   },
   {
    "duration": 659,
    "start_time": "2022-04-16T21:08:43.381Z"
   },
   {
    "duration": 142,
    "start_time": "2022-04-16T21:08:44.042Z"
   },
   {
    "duration": 752,
    "start_time": "2022-04-16T21:08:44.189Z"
   },
   {
    "duration": 6,
    "start_time": "2022-04-16T21:08:44.944Z"
   },
   {
    "duration": 137,
    "start_time": "2022-04-16T21:08:44.952Z"
   },
   {
    "duration": 216,
    "start_time": "2022-04-16T21:08:45.092Z"
   },
   {
    "duration": 709,
    "start_time": "2022-04-16T21:08:45.311Z"
   },
   {
    "duration": 230,
    "start_time": "2022-04-16T21:08:46.022Z"
   },
   {
    "duration": 279,
    "start_time": "2022-04-16T21:08:46.255Z"
   },
   {
    "duration": 248,
    "start_time": "2022-04-16T21:08:46.537Z"
   },
   {
    "duration": 797,
    "start_time": "2022-04-16T21:08:46.788Z"
   },
   {
    "duration": 984,
    "start_time": "2022-04-16T21:08:47.588Z"
   },
   {
    "duration": 913,
    "start_time": "2022-04-16T21:08:48.582Z"
   },
   {
    "duration": 0,
    "start_time": "2022-04-16T21:08:49.498Z"
   },
   {
    "duration": 4309,
    "start_time": "2022-04-16T21:09:49.457Z"
   },
   {
    "duration": 55,
    "start_time": "2022-04-16T21:09:53.770Z"
   },
   {
    "duration": 112,
    "start_time": "2022-04-16T21:09:53.828Z"
   },
   {
    "duration": 39,
    "start_time": "2022-04-16T21:09:53.944Z"
   },
   {
    "duration": 19,
    "start_time": "2022-04-16T21:09:53.987Z"
   },
   {
    "duration": 7,
    "start_time": "2022-04-16T21:09:54.009Z"
   },
   {
    "duration": 75,
    "start_time": "2022-04-16T21:09:54.019Z"
   },
   {
    "duration": 6,
    "start_time": "2022-04-16T21:09:54.097Z"
   },
   {
    "duration": 13,
    "start_time": "2022-04-16T21:09:54.106Z"
   },
   {
    "duration": 264,
    "start_time": "2022-04-16T21:09:54.123Z"
   },
   {
    "duration": 19,
    "start_time": "2022-04-16T21:09:54.390Z"
   },
   {
    "duration": 72,
    "start_time": "2022-04-16T21:09:54.411Z"
   },
   {
    "duration": 26,
    "start_time": "2022-04-16T21:09:54.486Z"
   },
   {
    "duration": 68,
    "start_time": "2022-04-16T21:09:54.515Z"
   },
   {
    "duration": 40,
    "start_time": "2022-04-16T21:09:54.586Z"
   },
   {
    "duration": 8,
    "start_time": "2022-04-16T21:09:54.629Z"
   },
   {
    "duration": 43,
    "start_time": "2022-04-16T21:09:54.639Z"
   },
   {
    "duration": 10,
    "start_time": "2022-04-16T21:09:54.684Z"
   },
   {
    "duration": 12,
    "start_time": "2022-04-16T21:09:54.696Z"
   },
   {
    "duration": 88,
    "start_time": "2022-04-16T21:09:54.711Z"
   },
   {
    "duration": 13,
    "start_time": "2022-04-16T21:09:54.801Z"
   },
   {
    "duration": 26,
    "start_time": "2022-04-16T21:09:54.816Z"
   },
   {
    "duration": 13,
    "start_time": "2022-04-16T21:09:54.844Z"
   },
   {
    "duration": 27,
    "start_time": "2022-04-16T21:09:54.859Z"
   },
   {
    "duration": 463,
    "start_time": "2022-04-16T21:09:54.889Z"
   },
   {
    "duration": 262,
    "start_time": "2022-04-16T21:09:55.355Z"
   },
   {
    "duration": 51291,
    "start_time": "2022-04-16T21:09:55.619Z"
   },
   {
    "duration": 1135,
    "start_time": "2022-04-16T21:10:46.916Z"
   },
   {
    "duration": 229,
    "start_time": "2022-04-16T21:10:48.054Z"
   },
   {
    "duration": 455,
    "start_time": "2022-04-16T21:10:48.285Z"
   },
   {
    "duration": 8,
    "start_time": "2022-04-16T21:10:48.743Z"
   },
   {
    "duration": 490,
    "start_time": "2022-04-16T21:10:48.754Z"
   },
   {
    "duration": 309,
    "start_time": "2022-04-16T21:10:49.246Z"
   },
   {
    "duration": 70239,
    "start_time": "2022-04-16T21:10:49.558Z"
   },
   {
    "duration": 1648,
    "start_time": "2022-04-16T21:11:59.799Z"
   },
   {
    "duration": 142,
    "start_time": "2022-04-16T21:12:01.450Z"
   },
   {
    "duration": 470,
    "start_time": "2022-04-16T21:12:01.595Z"
   },
   {
    "duration": 14,
    "start_time": "2022-04-16T21:12:02.067Z"
   },
   {
    "duration": 13,
    "start_time": "2022-04-16T21:12:02.083Z"
   },
   {
    "duration": 407,
    "start_time": "2022-04-16T21:12:02.098Z"
   },
   {
    "duration": 239,
    "start_time": "2022-04-16T21:12:02.507Z"
   },
   {
    "duration": 55181,
    "start_time": "2022-04-16T21:12:02.749Z"
   },
   {
    "duration": 975,
    "start_time": "2022-04-16T21:12:57.932Z"
   },
   {
    "duration": 78,
    "start_time": "2022-04-16T21:12:58.909Z"
   },
   {
    "duration": 467,
    "start_time": "2022-04-16T21:12:58.991Z"
   },
   {
    "duration": 5,
    "start_time": "2022-04-16T21:12:59.461Z"
   },
   {
    "duration": 23,
    "start_time": "2022-04-16T21:12:59.468Z"
   },
   {
    "duration": 223,
    "start_time": "2022-04-16T21:12:59.493Z"
   },
   {
    "duration": 226,
    "start_time": "2022-04-16T21:12:59.719Z"
   },
   {
    "duration": 25030,
    "start_time": "2022-04-16T21:12:59.948Z"
   },
   {
    "duration": 681,
    "start_time": "2022-04-16T21:13:24.982Z"
   },
   {
    "duration": 121,
    "start_time": "2022-04-16T21:13:25.665Z"
   },
   {
    "duration": 479,
    "start_time": "2022-04-16T21:13:25.791Z"
   },
   {
    "duration": 10,
    "start_time": "2022-04-16T21:13:26.272Z"
   },
   {
    "duration": 136,
    "start_time": "2022-04-16T21:13:26.284Z"
   },
   {
    "duration": 241,
    "start_time": "2022-04-16T21:13:26.423Z"
   },
   {
    "duration": 723,
    "start_time": "2022-04-16T21:13:26.666Z"
   },
   {
    "duration": 797,
    "start_time": "2022-04-16T21:13:27.391Z"
   },
   {
    "duration": 253,
    "start_time": "2022-04-16T21:13:28.190Z"
   },
   {
    "duration": 416,
    "start_time": "2022-04-16T21:13:28.445Z"
   },
   {
    "duration": 801,
    "start_time": "2022-04-16T21:13:28.864Z"
   },
   {
    "duration": 1000,
    "start_time": "2022-04-16T21:13:29.667Z"
   },
   {
    "duration": 936,
    "start_time": "2022-04-16T21:13:30.669Z"
   },
   {
    "duration": 104,
    "start_time": "2022-04-16T21:16:43.324Z"
   },
   {
    "duration": 972,
    "start_time": "2022-04-16T21:16:48.649Z"
   },
   {
    "duration": 103,
    "start_time": "2022-04-16T21:19:48.740Z"
   },
   {
    "duration": 5,
    "start_time": "2022-04-16T21:20:57.942Z"
   },
   {
    "duration": 101,
    "start_time": "2022-04-16T21:20:58.524Z"
   },
   {
    "duration": 326,
    "start_time": "2022-04-16T21:21:02.296Z"
   },
   {
    "duration": 723,
    "start_time": "2022-04-16T21:21:03.878Z"
   },
   {
    "duration": 5,
    "start_time": "2022-04-16T21:22:24.930Z"
   },
   {
    "duration": 12,
    "start_time": "2022-04-16T21:22:26.269Z"
   },
   {
    "duration": 420,
    "start_time": "2022-04-16T21:22:30.275Z"
   },
   {
    "duration": 224,
    "start_time": "2022-04-16T21:22:36.464Z"
   },
   {
    "duration": 61693,
    "start_time": "2022-04-16T21:22:40.880Z"
   },
   {
    "duration": 756,
    "start_time": "2022-04-16T21:23:42.575Z"
   },
   {
    "duration": 11,
    "start_time": "2022-04-16T21:23:43.334Z"
   },
   {
    "duration": 1391,
    "start_time": "2022-04-16T21:24:51.774Z"
   },
   {
    "duration": 142,
    "start_time": "2022-04-16T21:26:06.732Z"
   },
   {
    "duration": 11,
    "start_time": "2022-04-16T21:26:09.921Z"
   },
   {
    "duration": 193,
    "start_time": "2022-04-16T21:26:36.998Z"
   },
   {
    "duration": 230,
    "start_time": "2022-04-16T21:27:07.509Z"
   },
   {
    "duration": 366,
    "start_time": "2022-04-16T21:27:15.095Z"
   },
   {
    "duration": 307,
    "start_time": "2022-04-16T21:27:22.853Z"
   },
   {
    "duration": 210,
    "start_time": "2022-04-16T21:27:31.221Z"
   },
   {
    "duration": 298,
    "start_time": "2022-04-16T21:28:57.851Z"
   },
   {
    "duration": 16,
    "start_time": "2022-04-16T21:29:25.617Z"
   },
   {
    "duration": 15,
    "start_time": "2022-04-16T21:29:34.785Z"
   },
   {
    "duration": 311,
    "start_time": "2022-04-16T21:29:41.889Z"
   },
   {
    "duration": 4,
    "start_time": "2022-04-16T21:30:02.837Z"
   },
   {
    "duration": 264,
    "start_time": "2022-04-16T21:30:05.094Z"
   },
   {
    "duration": 258,
    "start_time": "2022-04-16T21:30:09.151Z"
   },
   {
    "duration": 338,
    "start_time": "2022-04-16T21:31:39.597Z"
   },
   {
    "duration": 6,
    "start_time": "2022-04-16T21:34:12.862Z"
   },
   {
    "duration": 307,
    "start_time": "2022-04-16T21:34:13.895Z"
   },
   {
    "duration": 308,
    "start_time": "2022-04-16T21:35:12.973Z"
   },
   {
    "duration": 6,
    "start_time": "2022-04-16T21:36:22.072Z"
   },
   {
    "duration": 404,
    "start_time": "2022-04-16T21:36:23.125Z"
   },
   {
    "duration": 1894,
    "start_time": "2022-04-16T21:37:02.262Z"
   },
   {
    "duration": 32,
    "start_time": "2022-04-16T21:37:24.174Z"
   },
   {
    "duration": 1868,
    "start_time": "2022-04-16T21:37:53.977Z"
   },
   {
    "duration": 1702,
    "start_time": "2022-04-16T21:38:01.119Z"
   },
   {
    "duration": 27,
    "start_time": "2022-04-16T21:39:52.702Z"
   },
   {
    "duration": 5,
    "start_time": "2022-04-16T21:39:54.213Z"
   },
   {
    "duration": 27,
    "start_time": "2022-04-16T21:39:55.036Z"
   },
   {
    "duration": 5,
    "start_time": "2022-04-16T21:40:12.434Z"
   },
   {
    "duration": 1812,
    "start_time": "2022-04-16T21:40:13.309Z"
   },
   {
    "duration": 5,
    "start_time": "2022-04-16T21:40:30.037Z"
   },
   {
    "duration": 7,
    "start_time": "2022-04-16T21:43:27.041Z"
   },
   {
    "duration": 48,
    "start_time": "2022-04-16T21:43:28.332Z"
   },
   {
    "duration": 73,
    "start_time": "2022-04-16T21:43:29.595Z"
   },
   {
    "duration": 13,
    "start_time": "2022-04-16T21:43:30.678Z"
   },
   {
    "duration": 16,
    "start_time": "2022-04-16T21:43:32.218Z"
   },
   {
    "duration": 6,
    "start_time": "2022-04-16T21:43:35.510Z"
   },
   {
    "duration": 23,
    "start_time": "2022-04-16T21:43:36.690Z"
   },
   {
    "duration": 7,
    "start_time": "2022-04-16T21:43:38.756Z"
   },
   {
    "duration": 5,
    "start_time": "2022-04-16T21:43:39.545Z"
   },
   {
    "duration": 188,
    "start_time": "2022-04-16T21:43:40.840Z"
   },
   {
    "duration": 16,
    "start_time": "2022-04-16T21:43:42.644Z"
   },
   {
    "duration": 7,
    "start_time": "2022-04-16T21:43:46.074Z"
   },
   {
    "duration": 8,
    "start_time": "2022-04-16T21:43:48.384Z"
   },
   {
    "duration": 17,
    "start_time": "2022-04-16T21:43:50.524Z"
   },
   {
    "duration": 31,
    "start_time": "2022-04-16T21:43:53.938Z"
   },
   {
    "duration": 7,
    "start_time": "2022-04-16T21:43:55.674Z"
   },
   {
    "duration": 9,
    "start_time": "2022-04-16T21:43:57.320Z"
   },
   {
    "duration": 10,
    "start_time": "2022-04-16T21:43:58.508Z"
   },
   {
    "duration": 6,
    "start_time": "2022-04-16T21:43:59.943Z"
   },
   {
    "duration": 48,
    "start_time": "2022-04-16T21:44:02.073Z"
   },
   {
    "duration": 10,
    "start_time": "2022-04-16T21:44:04.716Z"
   },
   {
    "duration": 6,
    "start_time": "2022-04-16T21:44:07.750Z"
   },
   {
    "duration": 18,
    "start_time": "2022-04-16T21:44:10.128Z"
   },
   {
    "duration": 1730,
    "start_time": "2022-04-16T21:44:20.364Z"
   },
   {
    "duration": 5,
    "start_time": "2022-04-16T21:44:31.815Z"
   },
   {
    "duration": 24,
    "start_time": "2022-04-16T21:44:33.104Z"
   },
   {
    "duration": 24,
    "start_time": "2022-04-16T21:44:44.871Z"
   },
   {
    "duration": 5,
    "start_time": "2022-04-16T21:46:02.395Z"
   },
   {
    "duration": 1676,
    "start_time": "2022-04-16T21:46:03.511Z"
   },
   {
    "duration": 320,
    "start_time": "2022-04-16T21:46:52.883Z"
   },
   {
    "duration": 5,
    "start_time": "2022-04-16T21:46:55.189Z"
   },
   {
    "duration": 308,
    "start_time": "2022-04-16T21:46:56.014Z"
   },
   {
    "duration": 5,
    "start_time": "2022-04-16T21:47:19.087Z"
   },
   {
    "duration": 355,
    "start_time": "2022-04-16T21:47:19.962Z"
   },
   {
    "duration": 1715,
    "start_time": "2022-04-17T08:23:58.995Z"
   },
   {
    "duration": 45,
    "start_time": "2022-04-17T08:24:00.713Z"
   },
   {
    "duration": 56,
    "start_time": "2022-04-17T08:24:00.759Z"
   },
   {
    "duration": 8,
    "start_time": "2022-04-17T08:24:00.817Z"
   },
   {
    "duration": 21,
    "start_time": "2022-04-17T08:24:00.827Z"
   },
   {
    "duration": 11,
    "start_time": "2022-04-17T08:24:00.850Z"
   },
   {
    "duration": 28,
    "start_time": "2022-04-17T08:24:00.862Z"
   },
   {
    "duration": 4,
    "start_time": "2022-04-17T08:24:00.893Z"
   },
   {
    "duration": 43,
    "start_time": "2022-04-17T08:24:00.898Z"
   },
   {
    "duration": 142,
    "start_time": "2022-04-17T08:24:00.944Z"
   },
   {
    "duration": 12,
    "start_time": "2022-04-17T08:24:01.092Z"
   },
   {
    "duration": 29,
    "start_time": "2022-04-17T08:24:01.106Z"
   },
   {
    "duration": 42,
    "start_time": "2022-04-17T08:24:01.136Z"
   },
   {
    "duration": 31,
    "start_time": "2022-04-17T08:24:01.180Z"
   },
   {
    "duration": 34,
    "start_time": "2022-04-17T08:24:01.213Z"
   },
   {
    "duration": 24,
    "start_time": "2022-04-17T08:24:01.248Z"
   },
   {
    "duration": 24,
    "start_time": "2022-04-17T08:24:01.273Z"
   },
   {
    "duration": 42,
    "start_time": "2022-04-17T08:24:01.299Z"
   },
   {
    "duration": 17,
    "start_time": "2022-04-17T08:24:01.343Z"
   },
   {
    "duration": 42,
    "start_time": "2022-04-17T08:24:01.361Z"
   },
   {
    "duration": 8,
    "start_time": "2022-04-17T08:24:01.405Z"
   },
   {
    "duration": 28,
    "start_time": "2022-04-17T08:24:01.414Z"
   },
   {
    "duration": 64985,
    "start_time": "2022-04-17T08:24:01.444Z"
   },
   {
    "duration": 4,
    "start_time": "2022-04-17T08:25:06.431Z"
   },
   {
    "duration": 5,
    "start_time": "2022-04-17T08:25:06.436Z"
   },
   {
    "duration": 214,
    "start_time": "2022-04-17T08:25:06.443Z"
   },
   {
    "duration": 142,
    "start_time": "2022-04-17T08:25:06.658Z"
   },
   {
    "duration": 35129,
    "start_time": "2022-04-17T08:25:06.804Z"
   },
   {
    "duration": 761,
    "start_time": "2022-04-17T08:25:41.934Z"
   },
   {
    "duration": 103,
    "start_time": "2022-04-17T08:25:42.697Z"
   },
   {
    "duration": 392,
    "start_time": "2022-04-17T08:25:42.803Z"
   },
   {
    "duration": 6,
    "start_time": "2022-04-17T08:25:43.197Z"
   },
   {
    "duration": 96737,
    "start_time": "2022-04-17T08:25:43.205Z"
   },
   {
    "duration": 237,
    "start_time": "2022-04-17T08:27:19.944Z"
   },
   {
    "duration": 134,
    "start_time": "2022-04-17T08:27:20.183Z"
   },
   {
    "duration": 35126,
    "start_time": "2022-04-17T08:27:20.318Z"
   },
   {
    "duration": 801,
    "start_time": "2022-04-17T08:27:55.446Z"
   },
   {
    "duration": 51,
    "start_time": "2022-04-17T08:27:56.249Z"
   },
   {
    "duration": 391,
    "start_time": "2022-04-17T08:27:56.303Z"
   },
   {
    "duration": 4,
    "start_time": "2022-04-17T08:27:56.696Z"
   },
   {
    "duration": 12,
    "start_time": "2022-04-17T08:27:56.701Z"
   },
   {
    "duration": 262,
    "start_time": "2022-04-17T08:27:56.714Z"
   },
   {
    "duration": 140,
    "start_time": "2022-04-17T08:27:56.978Z"
   },
   {
    "duration": 39190,
    "start_time": "2022-04-17T08:27:57.120Z"
   },
   {
    "duration": 1247,
    "start_time": "2022-04-17T08:28:36.311Z"
   },
   {
    "duration": 36,
    "start_time": "2022-04-17T08:28:37.560Z"
   },
   {
    "duration": 474,
    "start_time": "2022-04-17T08:28:37.598Z"
   },
   {
    "duration": 4,
    "start_time": "2022-04-17T08:28:38.073Z"
   },
   {
    "duration": 42,
    "start_time": "2022-04-17T08:28:38.079Z"
   },
   {
    "duration": 153,
    "start_time": "2022-04-17T08:28:38.123Z"
   },
   {
    "duration": 125,
    "start_time": "2022-04-17T08:28:38.278Z"
   },
   {
    "duration": 18721,
    "start_time": "2022-04-17T08:28:38.405Z"
   },
   {
    "duration": 464,
    "start_time": "2022-04-17T08:28:57.128Z"
   },
   {
    "duration": 20,
    "start_time": "2022-04-17T08:28:57.594Z"
   },
   {
    "duration": 399,
    "start_time": "2022-04-17T08:28:57.693Z"
   },
   {
    "duration": 4,
    "start_time": "2022-04-17T08:28:58.094Z"
   },
   {
    "duration": 78,
    "start_time": "2022-04-17T08:28:58.100Z"
   },
   {
    "duration": 131,
    "start_time": "2022-04-17T08:28:58.179Z"
   },
   {
    "duration": 487,
    "start_time": "2022-04-17T08:28:58.312Z"
   },
   {
    "duration": 501,
    "start_time": "2022-04-17T08:28:58.800Z"
   },
   {
    "duration": 229,
    "start_time": "2022-04-17T08:28:59.303Z"
   },
   {
    "duration": 259,
    "start_time": "2022-04-17T08:28:59.533Z"
   },
   {
    "duration": 560,
    "start_time": "2022-04-17T08:28:59.794Z"
   },
   {
    "duration": 630,
    "start_time": "2022-04-17T08:29:00.355Z"
   },
   {
    "duration": 680,
    "start_time": "2022-04-17T08:29:00.992Z"
   },
   {
    "duration": 90612,
    "start_time": "2022-04-17T08:29:04.769Z"
   },
   {
    "duration": 173,
    "start_time": "2022-04-17T08:39:28.156Z"
   },
   {
    "duration": 4,
    "start_time": "2022-04-17T08:39:42.398Z"
   },
   {
    "duration": 123,
    "start_time": "2022-04-17T08:39:45.193Z"
   },
   {
    "duration": 5,
    "start_time": "2022-04-17T08:40:32.637Z"
   },
   {
    "duration": 57,
    "start_time": "2022-04-17T08:40:33.684Z"
   },
   {
    "duration": 5,
    "start_time": "2022-04-17T08:40:49.175Z"
   },
   {
    "duration": 326,
    "start_time": "2022-04-17T08:42:02.494Z"
   },
   {
    "duration": 521,
    "start_time": "2022-04-17T08:42:05.462Z"
   },
   {
    "duration": 179,
    "start_time": "2022-04-17T08:42:07.741Z"
   },
   {
    "duration": 132,
    "start_time": "2022-04-17T08:42:19.091Z"
   },
   {
    "duration": 483,
    "start_time": "2022-04-17T08:42:21.984Z"
   },
   {
    "duration": 510,
    "start_time": "2022-04-17T08:42:25.887Z"
   },
   {
    "duration": 240,
    "start_time": "2022-04-17T08:42:28.869Z"
   },
   {
    "duration": 264,
    "start_time": "2022-04-17T08:42:32.233Z"
   },
   {
    "duration": 3,
    "start_time": "2022-04-17T08:43:01.003Z"
   },
   {
    "duration": 617,
    "start_time": "2022-04-17T08:49:00.691Z"
   },
   {
    "duration": 697,
    "start_time": "2022-04-17T08:49:18.186Z"
   },
   {
    "duration": 25231,
    "start_time": "2022-04-17T08:51:08.836Z"
   },
   {
    "duration": 29,
    "start_time": "2022-04-17T08:51:34.070Z"
   },
   {
    "duration": 19,
    "start_time": "2022-04-17T08:51:49.382Z"
   },
   {
    "duration": 7,
    "start_time": "2022-04-17T08:52:20.105Z"
   },
   {
    "duration": 29885,
    "start_time": "2022-04-17T08:52:35.247Z"
   },
   {
    "duration": 210,
    "start_time": "2022-04-17T08:53:34.045Z"
   },
   {
    "duration": 8,
    "start_time": "2022-04-17T08:54:10.209Z"
   },
   {
    "duration": 192,
    "start_time": "2022-04-17T08:54:29.961Z"
   },
   {
    "duration": 191,
    "start_time": "2022-04-17T08:56:37.873Z"
   },
   {
    "duration": 140,
    "start_time": "2022-04-17T09:05:29.538Z"
   },
   {
    "duration": 254,
    "start_time": "2022-04-17T09:26:03.194Z"
   },
   {
    "duration": 1622,
    "start_time": "2022-04-17T09:47:58.206Z"
   },
   {
    "duration": 45,
    "start_time": "2022-04-17T09:47:59.830Z"
   },
   {
    "duration": 51,
    "start_time": "2022-04-17T09:47:59.877Z"
   },
   {
    "duration": 8,
    "start_time": "2022-04-17T09:47:59.930Z"
   },
   {
    "duration": 13,
    "start_time": "2022-04-17T09:47:59.939Z"
   },
   {
    "duration": 4,
    "start_time": "2022-04-17T09:47:59.953Z"
   },
   {
    "duration": 40,
    "start_time": "2022-04-17T09:47:59.959Z"
   },
   {
    "duration": 7,
    "start_time": "2022-04-17T09:48:00.002Z"
   },
   {
    "duration": 17,
    "start_time": "2022-04-17T09:48:00.011Z"
   },
   {
    "duration": 139,
    "start_time": "2022-04-17T09:48:00.031Z"
   },
   {
    "duration": 21,
    "start_time": "2022-04-17T09:48:00.172Z"
   },
   {
    "duration": 6,
    "start_time": "2022-04-17T09:48:00.199Z"
   },
   {
    "duration": 13,
    "start_time": "2022-04-17T09:48:00.207Z"
   },
   {
    "duration": 11,
    "start_time": "2022-04-17T09:48:00.222Z"
   },
   {
    "duration": 20,
    "start_time": "2022-04-17T09:48:00.234Z"
   },
   {
    "duration": 4,
    "start_time": "2022-04-17T09:48:00.256Z"
   },
   {
    "duration": 16,
    "start_time": "2022-04-17T09:48:00.261Z"
   },
   {
    "duration": 6,
    "start_time": "2022-04-17T09:48:00.295Z"
   },
   {
    "duration": 13,
    "start_time": "2022-04-17T09:48:00.303Z"
   },
   {
    "duration": 45,
    "start_time": "2022-04-17T09:48:00.317Z"
   },
   {
    "duration": 9,
    "start_time": "2022-04-17T09:48:00.364Z"
   },
   {
    "duration": 24,
    "start_time": "2022-04-17T09:48:00.374Z"
   },
   {
    "duration": 230,
    "start_time": "2022-04-17T09:48:00.400Z"
   },
   {
    "duration": 5,
    "start_time": "2022-04-17T09:48:00.632Z"
   },
   {
    "duration": 11,
    "start_time": "2022-04-17T09:48:00.639Z"
   },
   {
    "duration": 334,
    "start_time": "2022-04-17T09:48:00.652Z"
   },
   {
    "duration": 216,
    "start_time": "2022-04-17T09:48:00.987Z"
   },
   {
    "duration": 38793,
    "start_time": "2022-04-17T09:48:01.209Z"
   },
   {
    "duration": 845,
    "start_time": "2022-04-17T09:48:40.007Z"
   },
   {
    "duration": 46,
    "start_time": "2022-04-17T09:48:40.853Z"
   },
   {
    "duration": 486,
    "start_time": "2022-04-17T09:48:40.901Z"
   },
   {
    "duration": 8,
    "start_time": "2022-04-17T09:48:41.392Z"
   },
   {
    "duration": 230,
    "start_time": "2022-04-17T09:48:41.402Z"
   },
   {
    "duration": 287,
    "start_time": "2022-04-17T09:48:41.633Z"
   },
   {
    "duration": 204,
    "start_time": "2022-04-17T09:48:41.923Z"
   },
   {
    "duration": 37476,
    "start_time": "2022-04-17T09:48:42.129Z"
   },
   {
    "duration": 861,
    "start_time": "2022-04-17T09:49:19.608Z"
   },
   {
    "duration": 44,
    "start_time": "2022-04-17T09:49:20.472Z"
   },
   {
    "duration": 380,
    "start_time": "2022-04-17T09:49:20.593Z"
   },
   {
    "duration": 4,
    "start_time": "2022-04-17T09:49:20.975Z"
   },
   {
    "duration": 22,
    "start_time": "2022-04-17T09:49:20.981Z"
   },
   {
    "duration": 373,
    "start_time": "2022-04-17T09:49:21.009Z"
   },
   {
    "duration": 160,
    "start_time": "2022-04-17T09:49:21.384Z"
   },
   {
    "duration": 43360,
    "start_time": "2022-04-17T09:49:21.546Z"
   },
   {
    "duration": 517,
    "start_time": "2022-04-17T09:50:04.909Z"
   },
   {
    "duration": 74,
    "start_time": "2022-04-17T09:50:05.428Z"
   },
   {
    "duration": 422,
    "start_time": "2022-04-17T09:50:05.507Z"
   },
   {
    "duration": 5,
    "start_time": "2022-04-17T09:50:05.931Z"
   },
   {
    "duration": 48,
    "start_time": "2022-04-17T09:50:05.938Z"
   },
   {
    "duration": 159,
    "start_time": "2022-04-17T09:50:05.988Z"
   },
   {
    "duration": 181,
    "start_time": "2022-04-17T09:50:06.149Z"
   },
   {
    "duration": 20870,
    "start_time": "2022-04-17T09:50:06.331Z"
   },
   {
    "duration": 512,
    "start_time": "2022-04-17T09:50:27.204Z"
   },
   {
    "duration": 90,
    "start_time": "2022-04-17T09:50:27.718Z"
   },
   {
    "duration": 390,
    "start_time": "2022-04-17T09:50:27.811Z"
   },
   {
    "duration": 7,
    "start_time": "2022-04-17T09:50:28.204Z"
   },
   {
    "duration": 104,
    "start_time": "2022-04-17T09:50:28.217Z"
   },
   {
    "duration": 150,
    "start_time": "2022-04-17T09:50:28.323Z"
   },
   {
    "duration": 554,
    "start_time": "2022-04-17T09:50:28.475Z"
   },
   {
    "duration": 696,
    "start_time": "2022-04-17T09:50:29.031Z"
   },
   {
    "duration": 191,
    "start_time": "2022-04-17T09:50:29.729Z"
   },
   {
    "duration": 385,
    "start_time": "2022-04-17T09:50:29.922Z"
   },
   {
    "duration": 698,
    "start_time": "2022-04-17T09:50:30.310Z"
   },
   {
    "duration": 757,
    "start_time": "2022-04-17T09:50:31.011Z"
   },
   {
    "duration": 44,
    "start_time": "2022-04-17T12:23:06.653Z"
   },
   {
    "duration": 5,
    "start_time": "2022-04-17T12:23:24.411Z"
   },
   {
    "duration": 1545,
    "start_time": "2022-04-17T12:23:36.356Z"
   },
   {
    "duration": 41,
    "start_time": "2022-04-17T12:23:37.903Z"
   },
   {
    "duration": 43,
    "start_time": "2022-04-17T12:23:37.946Z"
   },
   {
    "duration": 7,
    "start_time": "2022-04-17T12:23:37.991Z"
   },
   {
    "duration": 11,
    "start_time": "2022-04-17T12:23:38.000Z"
   },
   {
    "duration": 3,
    "start_time": "2022-04-17T12:23:38.013Z"
   },
   {
    "duration": 35,
    "start_time": "2022-04-17T12:23:38.018Z"
   },
   {
    "duration": 3,
    "start_time": "2022-04-17T12:23:38.055Z"
   },
   {
    "duration": 5,
    "start_time": "2022-04-17T12:23:38.060Z"
   },
   {
    "duration": 128,
    "start_time": "2022-04-17T12:23:38.067Z"
   },
   {
    "duration": 11,
    "start_time": "2022-04-17T12:23:38.197Z"
   },
   {
    "duration": 4,
    "start_time": "2022-04-17T12:23:38.209Z"
   },
   {
    "duration": 6,
    "start_time": "2022-04-17T12:23:38.215Z"
   },
   {
    "duration": 35,
    "start_time": "2022-04-17T12:23:38.222Z"
   },
   {
    "duration": 16,
    "start_time": "2022-04-17T12:23:38.259Z"
   },
   {
    "duration": 4,
    "start_time": "2022-04-17T12:23:38.276Z"
   },
   {
    "duration": 7,
    "start_time": "2022-04-17T12:23:38.281Z"
   },
   {
    "duration": 4,
    "start_time": "2022-04-17T12:23:38.290Z"
   },
   {
    "duration": 4,
    "start_time": "2022-04-17T12:23:38.296Z"
   },
   {
    "duration": 53,
    "start_time": "2022-04-17T12:23:38.301Z"
   },
   {
    "duration": 7,
    "start_time": "2022-04-17T12:23:38.356Z"
   },
   {
    "duration": 3,
    "start_time": "2022-04-17T12:23:38.365Z"
   },
   {
    "duration": 195,
    "start_time": "2022-04-17T12:23:38.370Z"
   },
   {
    "duration": 111,
    "start_time": "2022-04-17T12:23:38.567Z"
   },
   {
    "duration": 3,
    "start_time": "2022-04-17T12:23:38.680Z"
   },
   {
    "duration": 6,
    "start_time": "2022-04-17T12:23:38.685Z"
   },
   {
    "duration": 211,
    "start_time": "2022-04-17T12:23:38.692Z"
   },
   {
    "duration": 133,
    "start_time": "2022-04-17T12:23:38.906Z"
   },
   {
    "duration": 32422,
    "start_time": "2022-04-17T12:23:39.041Z"
   },
   {
    "duration": 669,
    "start_time": "2022-04-17T12:24:11.464Z"
   },
   {
    "duration": 32,
    "start_time": "2022-04-17T12:24:12.135Z"
   },
   {
    "duration": 380,
    "start_time": "2022-04-17T12:24:12.249Z"
   },
   {
    "duration": 18,
    "start_time": "2022-04-17T12:24:12.630Z"
   },
   {
    "duration": 180,
    "start_time": "2022-04-17T12:24:12.650Z"
   },
   {
    "duration": 209,
    "start_time": "2022-04-17T12:24:12.832Z"
   },
   {
    "duration": 128,
    "start_time": "2022-04-17T12:24:13.046Z"
   },
   {
    "duration": 30526,
    "start_time": "2022-04-17T12:24:13.175Z"
   },
   {
    "duration": 706,
    "start_time": "2022-04-17T12:24:43.703Z"
   },
   {
    "duration": 43,
    "start_time": "2022-04-17T12:24:44.410Z"
   },
   {
    "duration": 379,
    "start_time": "2022-04-17T12:24:44.455Z"
   },
   {
    "duration": 13,
    "start_time": "2022-04-17T12:24:44.835Z"
   },
   {
    "duration": 11,
    "start_time": "2022-04-17T12:24:44.850Z"
   },
   {
    "duration": 269,
    "start_time": "2022-04-17T12:24:44.862Z"
   },
   {
    "duration": 127,
    "start_time": "2022-04-17T12:24:45.133Z"
   },
   {
    "duration": 35694,
    "start_time": "2022-04-17T12:24:45.262Z"
   },
   {
    "duration": 437,
    "start_time": "2022-04-17T12:25:20.958Z"
   },
   {
    "duration": 59,
    "start_time": "2022-04-17T12:25:21.397Z"
   },
   {
    "duration": 375,
    "start_time": "2022-04-17T12:25:21.457Z"
   },
   {
    "duration": 4,
    "start_time": "2022-04-17T12:25:21.847Z"
   },
   {
    "duration": 15,
    "start_time": "2022-04-17T12:25:21.852Z"
   },
   {
    "duration": 134,
    "start_time": "2022-04-17T12:25:21.869Z"
   },
   {
    "duration": 121,
    "start_time": "2022-04-17T12:25:22.005Z"
   },
   {
    "duration": 16762,
    "start_time": "2022-04-17T12:25:22.127Z"
   },
   {
    "duration": 427,
    "start_time": "2022-04-17T12:25:38.890Z"
   },
   {
    "duration": 39,
    "start_time": "2022-04-17T12:25:39.319Z"
   },
   {
    "duration": 389,
    "start_time": "2022-04-17T12:25:39.360Z"
   },
   {
    "duration": 4,
    "start_time": "2022-04-17T12:25:39.751Z"
   },
   {
    "duration": 55,
    "start_time": "2022-04-17T12:25:39.757Z"
   },
   {
    "duration": 136,
    "start_time": "2022-04-17T12:25:39.813Z"
   },
   {
    "duration": 429,
    "start_time": "2022-04-17T12:25:39.951Z"
   },
   {
    "duration": 575,
    "start_time": "2022-04-17T12:25:40.381Z"
   },
   {
    "duration": 213,
    "start_time": "2022-04-17T12:25:40.958Z"
   },
   {
    "duration": 300,
    "start_time": "2022-04-17T12:25:41.173Z"
   },
   {
    "duration": 520,
    "start_time": "2022-04-17T12:25:41.475Z"
   },
   {
    "duration": 606,
    "start_time": "2022-04-17T12:25:41.997Z"
   }
  ],
  "kernelspec": {
   "display_name": "Python 3 (ipykernel)",
   "language": "python",
   "name": "python3"
  },
  "language_info": {
   "codemirror_mode": {
    "name": "ipython",
    "version": 3
   },
   "file_extension": ".py",
   "mimetype": "text/x-python",
   "name": "python",
   "nbconvert_exporter": "python",
   "pygments_lexer": "ipython3",
   "version": "3.9.5"
  },
  "toc": {
   "base_numbering": 1,
   "nav_menu": {},
   "number_sections": true,
   "sideBar": true,
   "skip_h1_title": true,
   "title_cell": "Содержание",
   "title_sidebar": "Contents",
   "toc_cell": true,
   "toc_position": {
    "height": "calc(100% - 180px)",
    "left": "10px",
    "top": "150px",
    "width": "411.140625px"
   },
   "toc_section_display": true,
   "toc_window_display": true
  }
 },
 "nbformat": 4,
 "nbformat_minor": 2
}
