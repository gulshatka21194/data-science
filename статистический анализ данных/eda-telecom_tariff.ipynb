{
 "cells": [
  {
   "cell_type": "markdown",
   "metadata": {
    "toc": true
   },
   "source": [
    "<h1>Содержание<span class=\"tocSkip\"></span></h1>\n",
    "<div class=\"toc\"><ul class=\"toc-item\"><li><span><a href=\"#Изучение-данных-из-файла\" data-toc-modified-id=\"Изучение-данных-из-файла-1\"><span class=\"toc-item-num\">1&nbsp;&nbsp;</span>Изучение данных из файла</a></span><ul class=\"toc-item\"><li><span><a href=\"#Вывод\" data-toc-modified-id=\"Вывод-1.1\"><span class=\"toc-item-num\">1.1&nbsp;&nbsp;</span>Вывод</a></span></li></ul></li><li><span><a href=\"#Подготовка-данных\" data-toc-modified-id=\"Подготовка-данных-2\"><span class=\"toc-item-num\">2&nbsp;&nbsp;</span>Подготовка данных</a></span><ul class=\"toc-item\"><li><span><a href=\"#Объединение-данных\" data-toc-modified-id=\"Объединение-данных-2.1\"><span class=\"toc-item-num\">2.1&nbsp;&nbsp;</span>Объединение данных</a></span></li><li><span><a href=\"#Изменение-типов-данных\" data-toc-modified-id=\"Изменение-типов-данных-2.2\"><span class=\"toc-item-num\">2.2&nbsp;&nbsp;</span>Изменение типов данных</a></span></li><li><span><a href=\"#Вывод\" data-toc-modified-id=\"Вывод-2.3\"><span class=\"toc-item-num\">2.3&nbsp;&nbsp;</span>Вывод</a></span></li></ul></li><li><span><a href=\"#Анализ-и-описание-данных\" data-toc-modified-id=\"Анализ-и-описание-данных-3\"><span class=\"toc-item-num\">3&nbsp;&nbsp;</span>Анализ и описание данных</a></span><ul class=\"toc-item\"><li><span><a href=\"#Вывод\" data-toc-modified-id=\"Вывод-3.1\"><span class=\"toc-item-num\">3.1&nbsp;&nbsp;</span>Вывод</a></span></li></ul></li><li><span><a href=\"#Проверка-гипотез-и-пояснения\" data-toc-modified-id=\"Проверка-гипотез-и-пояснения-4\"><span class=\"toc-item-num\">4&nbsp;&nbsp;</span>Проверка гипотез и пояснения</a></span><ul class=\"toc-item\"><li><span><a href=\"#Проверка-гипотезы-'Средняя-выручка-пользователей-тарифов-«Ультра»-и-«Смарт»-различаются'\" data-toc-modified-id=\"Проверка-гипотезы-'Средняя-выручка-пользователей-тарифов-«Ультра»-и-«Смарт»-различаются'-4.1\"><span class=\"toc-item-num\">4.1&nbsp;&nbsp;</span>Проверка гипотезы 'Средняя выручка пользователей тарифов «Ультра» и «Смарт» различаются'</a></span></li><li><span><a href=\"#Вывод\" data-toc-modified-id=\"Вывод-4.2\"><span class=\"toc-item-num\">4.2&nbsp;&nbsp;</span>Вывод</a></span></li><li><span><a href=\"#Проверка-гипотезы-'Средняя-выручка-пользователей-из-Москвы-отличается-от-выручки-пользователей-из-других-регионов'\" data-toc-modified-id=\"Проверка-гипотезы-'Средняя-выручка-пользователей-из-Москвы-отличается-от-выручки-пользователей-из-других-регионов'-4.3\"><span class=\"toc-item-num\">4.3&nbsp;&nbsp;</span>Проверка гипотезы 'Средняя выручка пользователей из Москвы отличается от выручки пользователей из других регионов'</a></span></li><li><span><a href=\"#Вывод\" data-toc-modified-id=\"Вывод-4.4\"><span class=\"toc-item-num\">4.4&nbsp;&nbsp;</span>Вывод</a></span></li></ul></li><li><span><a href=\"#Общий-вывод\" data-toc-modified-id=\"Общий-вывод-5\"><span class=\"toc-item-num\">5&nbsp;&nbsp;</span>Общий вывод</a></span></li><li><span><a href=\"#Чек-лист-готовности-проекта\" data-toc-modified-id=\"Чек-лист-готовности-проекта-6\"><span class=\"toc-item-num\">6&nbsp;&nbsp;</span>Чек-лист готовности проекта</a></span></li></ul></div>"
   ]
  },
  {
   "cell_type": "markdown",
   "metadata": {},
   "source": [
    "# Определение перспективного тарифа для телеком-компании"
   ]
  },
  {
   "cell_type": "markdown",
   "metadata": {},
   "source": [
    "## Изучение данных из файла"
   ]
  },
  {
   "cell_type": "code",
   "execution_count": 1,
   "metadata": {},
   "outputs": [],
   "source": [
    "import pandas as pd, numpy as np #импортируем библиотеки pandas\n",
    "from scipy import stats as st\n",
    "\n",
    "pd.set_option('precision', 3) #установим количество выводимых цифр для вещественных чисел\n",
    "\n",
    "df_calls = pd.read_csv('/datasets/calls.csv')\n",
    "df_internet = pd.read_csv('/datasets/internet.csv')\n",
    "df_messages = pd.read_csv('/datasets/messages.csv')\n",
    "df_tariffs = pd.read_csv('/datasets/tariffs.csv')\n",
    "df_users = pd.read_csv('/datasets/users.csv')"
   ]
  },
  {
   "cell_type": "code",
   "execution_count": 2,
   "metadata": {},
   "outputs": [
    {
     "name": "stdout",
     "output_type": "stream",
     "text": [
      "<class 'pandas.core.frame.DataFrame'>\n",
      "RangeIndex: 202607 entries, 0 to 202606\n",
      "Data columns (total 4 columns):\n",
      " #   Column     Non-Null Count   Dtype  \n",
      "---  ------     --------------   -----  \n",
      " 0   id         202607 non-null  object \n",
      " 1   call_date  202607 non-null  object \n",
      " 2   duration   202607 non-null  float64\n",
      " 3   user_id    202607 non-null  int64  \n",
      "dtypes: float64(1), int64(1), object(2)\n",
      "memory usage: 6.2+ MB\n",
      "         duration     user_id\n",
      "count  202607.000  202607.000\n",
      "mean        6.756    1253.941\n",
      "std         5.843     144.723\n",
      "min         0.000    1000.000\n",
      "25%         1.300    1126.000\n",
      "50%         6.000    1260.000\n",
      "75%        10.700    1379.000\n",
      "max        38.000    1499.000\n",
      "Duplicates: 0\n"
     ]
    },
    {
     "data": {
      "text/html": [
       "<div>\n",
       "<style scoped>\n",
       "    .dataframe tbody tr th:only-of-type {\n",
       "        vertical-align: middle;\n",
       "    }\n",
       "\n",
       "    .dataframe tbody tr th {\n",
       "        vertical-align: top;\n",
       "    }\n",
       "\n",
       "    .dataframe thead th {\n",
       "        text-align: right;\n",
       "    }\n",
       "</style>\n",
       "<table border=\"1\" class=\"dataframe\">\n",
       "  <thead>\n",
       "    <tr style=\"text-align: right;\">\n",
       "      <th></th>\n",
       "      <th>id</th>\n",
       "      <th>call_date</th>\n",
       "      <th>duration</th>\n",
       "      <th>user_id</th>\n",
       "    </tr>\n",
       "  </thead>\n",
       "  <tbody>\n",
       "    <tr>\n",
       "      <th>0</th>\n",
       "      <td>1000_0</td>\n",
       "      <td>2018-07-25</td>\n",
       "      <td>0.00</td>\n",
       "      <td>1000</td>\n",
       "    </tr>\n",
       "    <tr>\n",
       "      <th>1</th>\n",
       "      <td>1000_1</td>\n",
       "      <td>2018-08-17</td>\n",
       "      <td>0.00</td>\n",
       "      <td>1000</td>\n",
       "    </tr>\n",
       "    <tr>\n",
       "      <th>2</th>\n",
       "      <td>1000_2</td>\n",
       "      <td>2018-06-11</td>\n",
       "      <td>2.85</td>\n",
       "      <td>1000</td>\n",
       "    </tr>\n",
       "    <tr>\n",
       "      <th>3</th>\n",
       "      <td>1000_3</td>\n",
       "      <td>2018-09-21</td>\n",
       "      <td>13.80</td>\n",
       "      <td>1000</td>\n",
       "    </tr>\n",
       "    <tr>\n",
       "      <th>4</th>\n",
       "      <td>1000_4</td>\n",
       "      <td>2018-12-15</td>\n",
       "      <td>5.18</td>\n",
       "      <td>1000</td>\n",
       "    </tr>\n",
       "  </tbody>\n",
       "</table>\n",
       "</div>"
      ],
      "text/plain": [
       "       id   call_date  duration  user_id\n",
       "0  1000_0  2018-07-25      0.00     1000\n",
       "1  1000_1  2018-08-17      0.00     1000\n",
       "2  1000_2  2018-06-11      2.85     1000\n",
       "3  1000_3  2018-09-21     13.80     1000\n",
       "4  1000_4  2018-12-15      5.18     1000"
      ]
     },
     "metadata": {},
     "output_type": "display_data"
    },
    {
     "name": "stdout",
     "output_type": "stream",
     "text": [
      "<class 'pandas.core.frame.DataFrame'>\n",
      "RangeIndex: 149396 entries, 0 to 149395\n",
      "Data columns (total 5 columns):\n",
      " #   Column        Non-Null Count   Dtype  \n",
      "---  ------        --------------   -----  \n",
      " 0   Unnamed: 0    149396 non-null  int64  \n",
      " 1   id            149396 non-null  object \n",
      " 2   mb_used       149396 non-null  float64\n",
      " 3   session_date  149396 non-null  object \n",
      " 4   user_id       149396 non-null  int64  \n",
      "dtypes: float64(1), int64(2), object(2)\n",
      "memory usage: 5.7+ MB\n",
      "       Unnamed: 0     mb_used     user_id\n",
      "count  149396.000  149396.000  149396.000\n",
      "mean    74697.500     370.192    1252.100\n",
      "std     43127.055     278.301     144.051\n",
      "min         0.000       0.000    1000.000\n",
      "25%     37348.750     138.188    1130.000\n",
      "50%     74697.500     348.015    1251.000\n",
      "75%    112046.250     559.553    1380.000\n",
      "max    149395.000    1724.830    1499.000\n",
      "Duplicates: 0\n"
     ]
    },
    {
     "data": {
      "text/html": [
       "<div>\n",
       "<style scoped>\n",
       "    .dataframe tbody tr th:only-of-type {\n",
       "        vertical-align: middle;\n",
       "    }\n",
       "\n",
       "    .dataframe tbody tr th {\n",
       "        vertical-align: top;\n",
       "    }\n",
       "\n",
       "    .dataframe thead th {\n",
       "        text-align: right;\n",
       "    }\n",
       "</style>\n",
       "<table border=\"1\" class=\"dataframe\">\n",
       "  <thead>\n",
       "    <tr style=\"text-align: right;\">\n",
       "      <th></th>\n",
       "      <th>Unnamed: 0</th>\n",
       "      <th>id</th>\n",
       "      <th>mb_used</th>\n",
       "      <th>session_date</th>\n",
       "      <th>user_id</th>\n",
       "    </tr>\n",
       "  </thead>\n",
       "  <tbody>\n",
       "    <tr>\n",
       "      <th>0</th>\n",
       "      <td>0</td>\n",
       "      <td>1000_0</td>\n",
       "      <td>112.95</td>\n",
       "      <td>2018-11-25</td>\n",
       "      <td>1000</td>\n",
       "    </tr>\n",
       "    <tr>\n",
       "      <th>1</th>\n",
       "      <td>1</td>\n",
       "      <td>1000_1</td>\n",
       "      <td>1052.81</td>\n",
       "      <td>2018-09-07</td>\n",
       "      <td>1000</td>\n",
       "    </tr>\n",
       "    <tr>\n",
       "      <th>2</th>\n",
       "      <td>2</td>\n",
       "      <td>1000_2</td>\n",
       "      <td>1197.26</td>\n",
       "      <td>2018-06-25</td>\n",
       "      <td>1000</td>\n",
       "    </tr>\n",
       "    <tr>\n",
       "      <th>3</th>\n",
       "      <td>3</td>\n",
       "      <td>1000_3</td>\n",
       "      <td>550.27</td>\n",
       "      <td>2018-08-22</td>\n",
       "      <td>1000</td>\n",
       "    </tr>\n",
       "    <tr>\n",
       "      <th>4</th>\n",
       "      <td>4</td>\n",
       "      <td>1000_4</td>\n",
       "      <td>302.56</td>\n",
       "      <td>2018-09-24</td>\n",
       "      <td>1000</td>\n",
       "    </tr>\n",
       "  </tbody>\n",
       "</table>\n",
       "</div>"
      ],
      "text/plain": [
       "   Unnamed: 0      id  mb_used session_date  user_id\n",
       "0           0  1000_0   112.95   2018-11-25     1000\n",
       "1           1  1000_1  1052.81   2018-09-07     1000\n",
       "2           2  1000_2  1197.26   2018-06-25     1000\n",
       "3           3  1000_3   550.27   2018-08-22     1000\n",
       "4           4  1000_4   302.56   2018-09-24     1000"
      ]
     },
     "metadata": {},
     "output_type": "display_data"
    },
    {
     "name": "stdout",
     "output_type": "stream",
     "text": [
      "<class 'pandas.core.frame.DataFrame'>\n",
      "RangeIndex: 123036 entries, 0 to 123035\n",
      "Data columns (total 3 columns):\n",
      " #   Column        Non-Null Count   Dtype \n",
      "---  ------        --------------   ----- \n",
      " 0   id            123036 non-null  object\n",
      " 1   message_date  123036 non-null  object\n",
      " 2   user_id       123036 non-null  int64 \n",
      "dtypes: int64(1), object(2)\n",
      "memory usage: 2.8+ MB\n",
      "          user_id\n",
      "count  123036.000\n",
      "mean     1256.989\n",
      "std       143.524\n",
      "min      1000.000\n",
      "25%      1134.000\n",
      "50%      1271.000\n",
      "75%      1381.000\n",
      "max      1499.000\n",
      "Duplicates: 0\n"
     ]
    },
    {
     "data": {
      "text/html": [
       "<div>\n",
       "<style scoped>\n",
       "    .dataframe tbody tr th:only-of-type {\n",
       "        vertical-align: middle;\n",
       "    }\n",
       "\n",
       "    .dataframe tbody tr th {\n",
       "        vertical-align: top;\n",
       "    }\n",
       "\n",
       "    .dataframe thead th {\n",
       "        text-align: right;\n",
       "    }\n",
       "</style>\n",
       "<table border=\"1\" class=\"dataframe\">\n",
       "  <thead>\n",
       "    <tr style=\"text-align: right;\">\n",
       "      <th></th>\n",
       "      <th>id</th>\n",
       "      <th>message_date</th>\n",
       "      <th>user_id</th>\n",
       "    </tr>\n",
       "  </thead>\n",
       "  <tbody>\n",
       "    <tr>\n",
       "      <th>0</th>\n",
       "      <td>1000_0</td>\n",
       "      <td>2018-06-27</td>\n",
       "      <td>1000</td>\n",
       "    </tr>\n",
       "    <tr>\n",
       "      <th>1</th>\n",
       "      <td>1000_1</td>\n",
       "      <td>2018-10-08</td>\n",
       "      <td>1000</td>\n",
       "    </tr>\n",
       "    <tr>\n",
       "      <th>2</th>\n",
       "      <td>1000_2</td>\n",
       "      <td>2018-08-04</td>\n",
       "      <td>1000</td>\n",
       "    </tr>\n",
       "    <tr>\n",
       "      <th>3</th>\n",
       "      <td>1000_3</td>\n",
       "      <td>2018-06-16</td>\n",
       "      <td>1000</td>\n",
       "    </tr>\n",
       "    <tr>\n",
       "      <th>4</th>\n",
       "      <td>1000_4</td>\n",
       "      <td>2018-12-05</td>\n",
       "      <td>1000</td>\n",
       "    </tr>\n",
       "  </tbody>\n",
       "</table>\n",
       "</div>"
      ],
      "text/plain": [
       "       id message_date  user_id\n",
       "0  1000_0   2018-06-27     1000\n",
       "1  1000_1   2018-10-08     1000\n",
       "2  1000_2   2018-08-04     1000\n",
       "3  1000_3   2018-06-16     1000\n",
       "4  1000_4   2018-12-05     1000"
      ]
     },
     "metadata": {},
     "output_type": "display_data"
    },
    {
     "name": "stdout",
     "output_type": "stream",
     "text": [
      "<class 'pandas.core.frame.DataFrame'>\n",
      "RangeIndex: 2 entries, 0 to 1\n",
      "Data columns (total 8 columns):\n",
      " #   Column                 Non-Null Count  Dtype \n",
      "---  ------                 --------------  ----- \n",
      " 0   messages_included      2 non-null      int64 \n",
      " 1   mb_per_month_included  2 non-null      int64 \n",
      " 2   minutes_included       2 non-null      int64 \n",
      " 3   rub_monthly_fee        2 non-null      int64 \n",
      " 4   rub_per_gb             2 non-null      int64 \n",
      " 5   rub_per_message        2 non-null      int64 \n",
      " 6   rub_per_minute         2 non-null      int64 \n",
      " 7   tariff_name            2 non-null      object\n",
      "dtypes: int64(7), object(1)\n",
      "memory usage: 256.0+ bytes\n",
      "       messages_included  mb_per_month_included  minutes_included  \\\n",
      "count              2.000                   2.00             2.000   \n",
      "mean             525.000               23040.00          1750.000   \n",
      "std              671.751               10861.16          1767.767   \n",
      "min               50.000               15360.00           500.000   \n",
      "25%              287.500               19200.00          1125.000   \n",
      "50%              525.000               23040.00          1750.000   \n",
      "75%              762.500               26880.00          2375.000   \n",
      "max             1000.000               30720.00          3000.000   \n",
      "\n",
      "       rub_monthly_fee  rub_per_gb  rub_per_message  rub_per_minute  \n",
      "count            2.000       2.000            2.000           2.000  \n",
      "mean          1250.000     175.000            2.000           2.000  \n",
      "std            989.949      35.355            1.414           1.414  \n",
      "min            550.000     150.000            1.000           1.000  \n",
      "25%            900.000     162.500            1.500           1.500  \n",
      "50%           1250.000     175.000            2.000           2.000  \n",
      "75%           1600.000     187.500            2.500           2.500  \n",
      "max           1950.000     200.000            3.000           3.000  \n",
      "Duplicates: 0\n"
     ]
    },
    {
     "data": {
      "text/html": [
       "<div>\n",
       "<style scoped>\n",
       "    .dataframe tbody tr th:only-of-type {\n",
       "        vertical-align: middle;\n",
       "    }\n",
       "\n",
       "    .dataframe tbody tr th {\n",
       "        vertical-align: top;\n",
       "    }\n",
       "\n",
       "    .dataframe thead th {\n",
       "        text-align: right;\n",
       "    }\n",
       "</style>\n",
       "<table border=\"1\" class=\"dataframe\">\n",
       "  <thead>\n",
       "    <tr style=\"text-align: right;\">\n",
       "      <th></th>\n",
       "      <th>messages_included</th>\n",
       "      <th>mb_per_month_included</th>\n",
       "      <th>minutes_included</th>\n",
       "      <th>rub_monthly_fee</th>\n",
       "      <th>rub_per_gb</th>\n",
       "      <th>rub_per_message</th>\n",
       "      <th>rub_per_minute</th>\n",
       "      <th>tariff_name</th>\n",
       "    </tr>\n",
       "  </thead>\n",
       "  <tbody>\n",
       "    <tr>\n",
       "      <th>0</th>\n",
       "      <td>50</td>\n",
       "      <td>15360</td>\n",
       "      <td>500</td>\n",
       "      <td>550</td>\n",
       "      <td>200</td>\n",
       "      <td>3</td>\n",
       "      <td>3</td>\n",
       "      <td>smart</td>\n",
       "    </tr>\n",
       "    <tr>\n",
       "      <th>1</th>\n",
       "      <td>1000</td>\n",
       "      <td>30720</td>\n",
       "      <td>3000</td>\n",
       "      <td>1950</td>\n",
       "      <td>150</td>\n",
       "      <td>1</td>\n",
       "      <td>1</td>\n",
       "      <td>ultra</td>\n",
       "    </tr>\n",
       "  </tbody>\n",
       "</table>\n",
       "</div>"
      ],
      "text/plain": [
       "   messages_included  mb_per_month_included  minutes_included  \\\n",
       "0                 50                  15360               500   \n",
       "1               1000                  30720              3000   \n",
       "\n",
       "   rub_monthly_fee  rub_per_gb  rub_per_message  rub_per_minute tariff_name  \n",
       "0              550         200                3               3       smart  \n",
       "1             1950         150                1               1       ultra  "
      ]
     },
     "metadata": {},
     "output_type": "display_data"
    },
    {
     "name": "stdout",
     "output_type": "stream",
     "text": [
      "<class 'pandas.core.frame.DataFrame'>\n",
      "RangeIndex: 500 entries, 0 to 499\n",
      "Data columns (total 8 columns):\n",
      " #   Column      Non-Null Count  Dtype \n",
      "---  ------      --------------  ----- \n",
      " 0   user_id     500 non-null    int64 \n",
      " 1   age         500 non-null    int64 \n",
      " 2   churn_date  38 non-null     object\n",
      " 3   city        500 non-null    object\n",
      " 4   first_name  500 non-null    object\n",
      " 5   last_name   500 non-null    object\n",
      " 6   reg_date    500 non-null    object\n",
      " 7   tariff      500 non-null    object\n",
      "dtypes: int64(2), object(6)\n",
      "memory usage: 31.4+ KB\n",
      "        user_id      age\n",
      "count   500.000  500.000\n",
      "mean   1249.500   46.588\n",
      "std     144.482   16.668\n",
      "min    1000.000   18.000\n",
      "25%    1124.750   32.000\n",
      "50%    1249.500   46.000\n",
      "75%    1374.250   62.000\n",
      "max    1499.000   75.000\n",
      "Duplicates: 0\n"
     ]
    },
    {
     "data": {
      "text/html": [
       "<div>\n",
       "<style scoped>\n",
       "    .dataframe tbody tr th:only-of-type {\n",
       "        vertical-align: middle;\n",
       "    }\n",
       "\n",
       "    .dataframe tbody tr th {\n",
       "        vertical-align: top;\n",
       "    }\n",
       "\n",
       "    .dataframe thead th {\n",
       "        text-align: right;\n",
       "    }\n",
       "</style>\n",
       "<table border=\"1\" class=\"dataframe\">\n",
       "  <thead>\n",
       "    <tr style=\"text-align: right;\">\n",
       "      <th></th>\n",
       "      <th>user_id</th>\n",
       "      <th>age</th>\n",
       "      <th>churn_date</th>\n",
       "      <th>city</th>\n",
       "      <th>first_name</th>\n",
       "      <th>last_name</th>\n",
       "      <th>reg_date</th>\n",
       "      <th>tariff</th>\n",
       "    </tr>\n",
       "  </thead>\n",
       "  <tbody>\n",
       "    <tr>\n",
       "      <th>0</th>\n",
       "      <td>1000</td>\n",
       "      <td>52</td>\n",
       "      <td>NaN</td>\n",
       "      <td>Краснодар</td>\n",
       "      <td>Рафаил</td>\n",
       "      <td>Верещагин</td>\n",
       "      <td>2018-05-25</td>\n",
       "      <td>ultra</td>\n",
       "    </tr>\n",
       "    <tr>\n",
       "      <th>1</th>\n",
       "      <td>1001</td>\n",
       "      <td>41</td>\n",
       "      <td>NaN</td>\n",
       "      <td>Москва</td>\n",
       "      <td>Иван</td>\n",
       "      <td>Ежов</td>\n",
       "      <td>2018-11-01</td>\n",
       "      <td>smart</td>\n",
       "    </tr>\n",
       "    <tr>\n",
       "      <th>2</th>\n",
       "      <td>1002</td>\n",
       "      <td>59</td>\n",
       "      <td>NaN</td>\n",
       "      <td>Стерлитамак</td>\n",
       "      <td>Евгений</td>\n",
       "      <td>Абрамович</td>\n",
       "      <td>2018-06-17</td>\n",
       "      <td>smart</td>\n",
       "    </tr>\n",
       "    <tr>\n",
       "      <th>3</th>\n",
       "      <td>1003</td>\n",
       "      <td>23</td>\n",
       "      <td>NaN</td>\n",
       "      <td>Москва</td>\n",
       "      <td>Белла</td>\n",
       "      <td>Белякова</td>\n",
       "      <td>2018-08-17</td>\n",
       "      <td>ultra</td>\n",
       "    </tr>\n",
       "    <tr>\n",
       "      <th>4</th>\n",
       "      <td>1004</td>\n",
       "      <td>68</td>\n",
       "      <td>NaN</td>\n",
       "      <td>Новокузнецк</td>\n",
       "      <td>Татьяна</td>\n",
       "      <td>Авдеенко</td>\n",
       "      <td>2018-05-14</td>\n",
       "      <td>ultra</td>\n",
       "    </tr>\n",
       "  </tbody>\n",
       "</table>\n",
       "</div>"
      ],
      "text/plain": [
       "   user_id  age churn_date         city first_name  last_name    reg_date  \\\n",
       "0     1000   52        NaN    Краснодар     Рафаил  Верещагин  2018-05-25   \n",
       "1     1001   41        NaN       Москва       Иван       Ежов  2018-11-01   \n",
       "2     1002   59        NaN  Стерлитамак    Евгений  Абрамович  2018-06-17   \n",
       "3     1003   23        NaN       Москва      Белла   Белякова  2018-08-17   \n",
       "4     1004   68        NaN  Новокузнецк    Татьяна   Авдеенко  2018-05-14   \n",
       "\n",
       "  tariff  \n",
       "0  ultra  \n",
       "1  smart  \n",
       "2  smart  \n",
       "3  ultra  \n",
       "4  ultra  "
      ]
     },
     "metadata": {},
     "output_type": "display_data"
    }
   ],
   "source": [
    "#объединим в список все таблицы\n",
    "df = [df_calls, df_internet, df_messages, df_tariffs, df_users]\n",
    "\n",
    "#в цмкле получим необходимую информацию по каждой таблице\n",
    "for i in range(len(df)):\n",
    "    df[i].info() #получим общую информацию о данных\n",
    "    print(df[i].describe()) #получим также разброс значений, максимум, минимум, среднее и медиану\n",
    "    print(\"Duplicates:\", df[i].duplicated().sum()) #посчитаем количество дубликатов\n",
    "    display(df[i].head()) #получим первые 10 строк таблицы"
   ]
  },
  {
   "cell_type": "markdown",
   "metadata": {},
   "source": [
    "### Вывод"
   ]
  },
  {
   "cell_type": "markdown",
   "metadata": {},
   "source": [
    "Согласно документации к данным:\n",
    "    \n",
    "Таблица users (информация о пользователях):\n",
    "\n",
    "    user_id — уникальный идентификатор пользователя\n",
    "    first_name — имя пользователя\n",
    "    last_name — фамилия пользователя\n",
    "    age — возраст пользователя (годы)\n",
    "    reg_date — дата подключения тарифа (день, месяц, год)\n",
    "    churn_date — дата прекращения пользования тарифом (если значение пропущено, то тариф ещё действовал на момент выгрузки данных)\n",
    "    city — город проживания пользователя\n",
    "    tariff — название тарифного плана\n",
    "\n",
    "Таблица calls (информация о звонках):\n",
    "\n",
    "    id — уникальный номер звонка\n",
    "    call_date — дата звонка\n",
    "    duration — длительность звонка в минутах\n",
    "    user_id — идентификатор пользователя, сделавшего звонок\n",
    "\n",
    "Таблица messages (информация о сообщениях):\n",
    "\n",
    "    id — уникальный номер сообщения\n",
    "    message_date — дата сообщения\n",
    "    user_id — идентификатор пользователя, отправившего сообщение\n",
    "\n",
    "Таблица internet (информация об интернет-сессиях):\n",
    "\n",
    "    id — уникальный номер сессии\n",
    "    mb_used — объём потраченного за сессию интернет-трафика (в мегабайтах)\n",
    "    session_date — дата интернет-сессии\n",
    "    user_id — идентификатор пользователя\n",
    "\n",
    "Таблица tariffs (информация о тарифах):\n",
    "\n",
    "    tariff_name — название тарифа\n",
    "    rub_monthly_fee — ежемесячная абонентская плата в рублях\n",
    "    minutes_included — количество минут разговора в месяц, включённых в абонентскую плату\n",
    "    messages_included — количество сообщений в месяц, включённых в абонентскую плату\n",
    "    mb_per_month_included — объём интернет-трафика, включённого в абонентскую плату (в мегабайтах)\n",
    "    rub_per_minute — стоимость минуты разговора сверх тарифного пакета (например, если в тарифе 100 минут разговора в месяц, то со 101 минуты будет взиматься плата)\n",
    "    rub_per_message — стоимость отправки сообщения сверх тарифного пакета\n",
    "    rub_per_gb — стоимость дополнительного гигабайта интернет-трафика сверх тарифного пакета (1 гигабайт = 1024 мегабайта)\n",
    "\n",
    "Типы данных в столбцах — object, int64, float64.\n",
    "    \n",
    "В столбцах с датами тип данных указан object.\n",
    "\n",
    "Количество значений в столбцах различается. Значит, в данных есть пропущенные значения.\n",
    "\n",
    "Дублирующихся значений нет.\n",
    "\n",
    "Чтобы двигаться дальше, нужно устранить эти проблемы."
   ]
  },
  {
   "cell_type": "markdown",
   "metadata": {},
   "source": [
    "## Подготовка данных"
   ]
  },
  {
   "cell_type": "markdown",
   "metadata": {},
   "source": [
    "### Объединение данных"
   ]
  },
  {
   "cell_type": "markdown",
   "metadata": {},
   "source": [
    "Необходимо объединить данные для удобства выполнения дальнейшей обработки и расчетов.\n",
    "Для этого сперва заменим в столбцах call_date, session_date, message_date тип oblect на datetime64 в таблицах df_calls, df_internet, df_messages."
   ]
  },
  {
   "cell_type": "code",
   "execution_count": 3,
   "metadata": {},
   "outputs": [],
   "source": [
    "df_calls['call_date'] = pd.to_datetime(df_calls['call_date'], format='%Y-%m-%d') #заменим тип object на datetime64"
   ]
  },
  {
   "cell_type": "code",
   "execution_count": 4,
   "metadata": {},
   "outputs": [],
   "source": [
    "df_internet['session_date'] = pd.to_datetime(df_internet['session_date'], format='%Y-%m-%d') #заменим тип object на datetime64"
   ]
  },
  {
   "cell_type": "code",
   "execution_count": 5,
   "metadata": {},
   "outputs": [],
   "source": [
    "df_messages['message_date'] = pd.to_datetime(df_messages['message_date'], format='%Y-%m-%d') #заменим тип object на datetime64"
   ]
  },
  {
   "cell_type": "markdown",
   "metadata": {},
   "source": [
    "Затем в этих же таблицах выделим столбец month с помощью метода dt.month."
   ]
  },
  {
   "cell_type": "code",
   "execution_count": 6,
   "metadata": {},
   "outputs": [],
   "source": [
    "df_calls['month'] = df_calls['call_date'].dt.month"
   ]
  },
  {
   "cell_type": "code",
   "execution_count": 7,
   "metadata": {},
   "outputs": [],
   "source": [
    "df_internet['month'] = df_internet['session_date'].dt.month"
   ]
  },
  {
   "cell_type": "code",
   "execution_count": 8,
   "metadata": {},
   "outputs": [],
   "source": [
    "df_messages['month'] = df_messages['message_date'].dt.month"
   ]
  },
  {
   "cell_type": "markdown",
   "metadata": {},
   "source": [
    "Так как «Мегалайн» всегда округляет секунды до минут, т.е каждый звонок округляется отдельно: даже если он длился всего 1 секунду, будет засчитан как 1 минута, сперва округлим данные.\n",
    "\n",
    "Затем сгруппируем таблицу df_calls по id пользователя и месяцу, найдем количество и продолжительность совершенных звонков."
   ]
  },
  {
   "cell_type": "code",
   "execution_count": 9,
   "metadata": {},
   "outputs": [],
   "source": [
    "df_calls['duration'] = np.ceil(df_calls['duration']).astype('Int64')"
   ]
  },
  {
   "cell_type": "code",
   "execution_count": 10,
   "metadata": {},
   "outputs": [
    {
     "data": {
      "text/html": [
       "<div>\n",
       "<style scoped>\n",
       "    .dataframe tbody tr th:only-of-type {\n",
       "        vertical-align: middle;\n",
       "    }\n",
       "\n",
       "    .dataframe tbody tr th {\n",
       "        vertical-align: top;\n",
       "    }\n",
       "\n",
       "    .dataframe thead th {\n",
       "        text-align: right;\n",
       "    }\n",
       "</style>\n",
       "<table border=\"1\" class=\"dataframe\">\n",
       "  <thead>\n",
       "    <tr style=\"text-align: right;\">\n",
       "      <th></th>\n",
       "      <th>user_id</th>\n",
       "      <th>month</th>\n",
       "      <th>calls_count</th>\n",
       "      <th>calls_duration</th>\n",
       "    </tr>\n",
       "  </thead>\n",
       "  <tbody>\n",
       "    <tr>\n",
       "      <th>0</th>\n",
       "      <td>1000</td>\n",
       "      <td>5</td>\n",
       "      <td>22</td>\n",
       "      <td>159</td>\n",
       "    </tr>\n",
       "    <tr>\n",
       "      <th>1</th>\n",
       "      <td>1000</td>\n",
       "      <td>6</td>\n",
       "      <td>43</td>\n",
       "      <td>172</td>\n",
       "    </tr>\n",
       "    <tr>\n",
       "      <th>2</th>\n",
       "      <td>1000</td>\n",
       "      <td>7</td>\n",
       "      <td>47</td>\n",
       "      <td>340</td>\n",
       "    </tr>\n",
       "    <tr>\n",
       "      <th>3</th>\n",
       "      <td>1000</td>\n",
       "      <td>8</td>\n",
       "      <td>52</td>\n",
       "      <td>408</td>\n",
       "    </tr>\n",
       "    <tr>\n",
       "      <th>4</th>\n",
       "      <td>1000</td>\n",
       "      <td>9</td>\n",
       "      <td>58</td>\n",
       "      <td>466</td>\n",
       "    </tr>\n",
       "    <tr>\n",
       "      <th>...</th>\n",
       "      <td>...</td>\n",
       "      <td>...</td>\n",
       "      <td>...</td>\n",
       "      <td>...</td>\n",
       "    </tr>\n",
       "    <tr>\n",
       "      <th>3169</th>\n",
       "      <td>1498</td>\n",
       "      <td>10</td>\n",
       "      <td>41</td>\n",
       "      <td>247</td>\n",
       "    </tr>\n",
       "    <tr>\n",
       "      <th>3170</th>\n",
       "      <td>1499</td>\n",
       "      <td>9</td>\n",
       "      <td>9</td>\n",
       "      <td>70</td>\n",
       "    </tr>\n",
       "    <tr>\n",
       "      <th>3171</th>\n",
       "      <td>1499</td>\n",
       "      <td>10</td>\n",
       "      <td>68</td>\n",
       "      <td>449</td>\n",
       "    </tr>\n",
       "    <tr>\n",
       "      <th>3172</th>\n",
       "      <td>1499</td>\n",
       "      <td>11</td>\n",
       "      <td>74</td>\n",
       "      <td>612</td>\n",
       "    </tr>\n",
       "    <tr>\n",
       "      <th>3173</th>\n",
       "      <td>1499</td>\n",
       "      <td>12</td>\n",
       "      <td>69</td>\n",
       "      <td>492</td>\n",
       "    </tr>\n",
       "  </tbody>\n",
       "</table>\n",
       "<p>3174 rows × 4 columns</p>\n",
       "</div>"
      ],
      "text/plain": [
       "      user_id  month calls_count calls_duration\n",
       "0        1000      5          22            159\n",
       "1        1000      6          43            172\n",
       "2        1000      7          47            340\n",
       "3        1000      8          52            408\n",
       "4        1000      9          58            466\n",
       "...       ...    ...         ...            ...\n",
       "3169     1498     10          41            247\n",
       "3170     1499      9           9             70\n",
       "3171     1499     10          68            449\n",
       "3172     1499     11          74            612\n",
       "3173     1499     12          69            492\n",
       "\n",
       "[3174 rows x 4 columns]"
      ]
     },
     "execution_count": 10,
     "metadata": {},
     "output_type": "execute_result"
    }
   ],
   "source": [
    "calls_pivot = df_calls.pivot_table(index=['user_id', 'month'], values='duration', aggfunc={'sum', 'count'}).reset_index()\n",
    "calls_pivot.columns = ['user_id', 'month', 'calls_count', 'calls_duration']\n",
    "calls_pivot"
   ]
  },
  {
   "cell_type": "markdown",
   "metadata": {},
   "source": [
    "Сгруппируем таблицу df_internet также по id пользователя и месяцу, найдем количество использованного трафика."
   ]
  },
  {
   "cell_type": "code",
   "execution_count": 11,
   "metadata": {},
   "outputs": [
    {
     "data": {
      "text/html": [
       "<div>\n",
       "<style scoped>\n",
       "    .dataframe tbody tr th:only-of-type {\n",
       "        vertical-align: middle;\n",
       "    }\n",
       "\n",
       "    .dataframe tbody tr th {\n",
       "        vertical-align: top;\n",
       "    }\n",
       "\n",
       "    .dataframe thead th {\n",
       "        text-align: right;\n",
       "    }\n",
       "</style>\n",
       "<table border=\"1\" class=\"dataframe\">\n",
       "  <thead>\n",
       "    <tr style=\"text-align: right;\">\n",
       "      <th></th>\n",
       "      <th>user_id</th>\n",
       "      <th>month</th>\n",
       "      <th>mb_used</th>\n",
       "    </tr>\n",
       "  </thead>\n",
       "  <tbody>\n",
       "    <tr>\n",
       "      <th>0</th>\n",
       "      <td>1000</td>\n",
       "      <td>5</td>\n",
       "      <td>2253.49</td>\n",
       "    </tr>\n",
       "    <tr>\n",
       "      <th>1</th>\n",
       "      <td>1000</td>\n",
       "      <td>6</td>\n",
       "      <td>23233.77</td>\n",
       "    </tr>\n",
       "    <tr>\n",
       "      <th>2</th>\n",
       "      <td>1000</td>\n",
       "      <td>7</td>\n",
       "      <td>14003.64</td>\n",
       "    </tr>\n",
       "    <tr>\n",
       "      <th>3</th>\n",
       "      <td>1000</td>\n",
       "      <td>8</td>\n",
       "      <td>14055.93</td>\n",
       "    </tr>\n",
       "    <tr>\n",
       "      <th>4</th>\n",
       "      <td>1000</td>\n",
       "      <td>9</td>\n",
       "      <td>14568.91</td>\n",
       "    </tr>\n",
       "    <tr>\n",
       "      <th>...</th>\n",
       "      <td>...</td>\n",
       "      <td>...</td>\n",
       "      <td>...</td>\n",
       "    </tr>\n",
       "    <tr>\n",
       "      <th>3198</th>\n",
       "      <td>1498</td>\n",
       "      <td>10</td>\n",
       "      <td>20579.36</td>\n",
       "    </tr>\n",
       "    <tr>\n",
       "      <th>3199</th>\n",
       "      <td>1499</td>\n",
       "      <td>9</td>\n",
       "      <td>1845.75</td>\n",
       "    </tr>\n",
       "    <tr>\n",
       "      <th>3200</th>\n",
       "      <td>1499</td>\n",
       "      <td>10</td>\n",
       "      <td>17788.51</td>\n",
       "    </tr>\n",
       "    <tr>\n",
       "      <th>3201</th>\n",
       "      <td>1499</td>\n",
       "      <td>11</td>\n",
       "      <td>17963.31</td>\n",
       "    </tr>\n",
       "    <tr>\n",
       "      <th>3202</th>\n",
       "      <td>1499</td>\n",
       "      <td>12</td>\n",
       "      <td>13055.58</td>\n",
       "    </tr>\n",
       "  </tbody>\n",
       "</table>\n",
       "<p>3203 rows × 3 columns</p>\n",
       "</div>"
      ],
      "text/plain": [
       "      user_id  month   mb_used\n",
       "0        1000      5   2253.49\n",
       "1        1000      6  23233.77\n",
       "2        1000      7  14003.64\n",
       "3        1000      8  14055.93\n",
       "4        1000      9  14568.91\n",
       "...       ...    ...       ...\n",
       "3198     1498     10  20579.36\n",
       "3199     1499      9   1845.75\n",
       "3200     1499     10  17788.51\n",
       "3201     1499     11  17963.31\n",
       "3202     1499     12  13055.58\n",
       "\n",
       "[3203 rows x 3 columns]"
      ]
     },
     "execution_count": 11,
     "metadata": {},
     "output_type": "execute_result"
    }
   ],
   "source": [
    "internet_pivot = df_internet.pivot_table(index=['user_id', 'month'], values='mb_used', aggfunc='sum').reset_index()\n",
    "internet_pivot"
   ]
  },
  {
   "cell_type": "markdown",
   "metadata": {},
   "source": [
    "Сгруппируем таблицу df_messages также по id пользователя и месяцу, найдем количество отправленных сообщений."
   ]
  },
  {
   "cell_type": "code",
   "execution_count": 12,
   "metadata": {},
   "outputs": [
    {
     "data": {
      "text/html": [
       "<div>\n",
       "<style scoped>\n",
       "    .dataframe tbody tr th:only-of-type {\n",
       "        vertical-align: middle;\n",
       "    }\n",
       "\n",
       "    .dataframe tbody tr th {\n",
       "        vertical-align: top;\n",
       "    }\n",
       "\n",
       "    .dataframe thead th {\n",
       "        text-align: right;\n",
       "    }\n",
       "</style>\n",
       "<table border=\"1\" class=\"dataframe\">\n",
       "  <thead>\n",
       "    <tr style=\"text-align: right;\">\n",
       "      <th></th>\n",
       "      <th>user_id</th>\n",
       "      <th>month</th>\n",
       "      <th>messages_count</th>\n",
       "    </tr>\n",
       "  </thead>\n",
       "  <tbody>\n",
       "    <tr>\n",
       "      <th>0</th>\n",
       "      <td>1000</td>\n",
       "      <td>5</td>\n",
       "      <td>22</td>\n",
       "    </tr>\n",
       "    <tr>\n",
       "      <th>1</th>\n",
       "      <td>1000</td>\n",
       "      <td>6</td>\n",
       "      <td>60</td>\n",
       "    </tr>\n",
       "    <tr>\n",
       "      <th>2</th>\n",
       "      <td>1000</td>\n",
       "      <td>7</td>\n",
       "      <td>75</td>\n",
       "    </tr>\n",
       "    <tr>\n",
       "      <th>3</th>\n",
       "      <td>1000</td>\n",
       "      <td>8</td>\n",
       "      <td>81</td>\n",
       "    </tr>\n",
       "    <tr>\n",
       "      <th>4</th>\n",
       "      <td>1000</td>\n",
       "      <td>9</td>\n",
       "      <td>57</td>\n",
       "    </tr>\n",
       "    <tr>\n",
       "      <th>...</th>\n",
       "      <td>...</td>\n",
       "      <td>...</td>\n",
       "      <td>...</td>\n",
       "    </tr>\n",
       "    <tr>\n",
       "      <th>2712</th>\n",
       "      <td>1498</td>\n",
       "      <td>10</td>\n",
       "      <td>42</td>\n",
       "    </tr>\n",
       "    <tr>\n",
       "      <th>2713</th>\n",
       "      <td>1499</td>\n",
       "      <td>9</td>\n",
       "      <td>11</td>\n",
       "    </tr>\n",
       "    <tr>\n",
       "      <th>2714</th>\n",
       "      <td>1499</td>\n",
       "      <td>10</td>\n",
       "      <td>48</td>\n",
       "    </tr>\n",
       "    <tr>\n",
       "      <th>2715</th>\n",
       "      <td>1499</td>\n",
       "      <td>11</td>\n",
       "      <td>59</td>\n",
       "    </tr>\n",
       "    <tr>\n",
       "      <th>2716</th>\n",
       "      <td>1499</td>\n",
       "      <td>12</td>\n",
       "      <td>66</td>\n",
       "    </tr>\n",
       "  </tbody>\n",
       "</table>\n",
       "<p>2717 rows × 3 columns</p>\n",
       "</div>"
      ],
      "text/plain": [
       "      user_id  month  messages_count\n",
       "0        1000      5              22\n",
       "1        1000      6              60\n",
       "2        1000      7              75\n",
       "3        1000      8              81\n",
       "4        1000      9              57\n",
       "...       ...    ...             ...\n",
       "2712     1498     10              42\n",
       "2713     1499      9              11\n",
       "2714     1499     10              48\n",
       "2715     1499     11              59\n",
       "2716     1499     12              66\n",
       "\n",
       "[2717 rows x 3 columns]"
      ]
     },
     "execution_count": 12,
     "metadata": {},
     "output_type": "execute_result"
    }
   ],
   "source": [
    "messages_pivot = df_messages.pivot_table(index=['user_id', 'month'], values='id', aggfunc='count').reset_index()\n",
    "messages_pivot.columns = ['user_id', 'month', 'messages_count']\n",
    "messages_pivot"
   ]
  },
  {
   "cell_type": "markdown",
   "metadata": {},
   "source": [
    "Изменим в таблице df_tariffs название столбца tariff_name на tariff."
   ]
  },
  {
   "cell_type": "code",
   "execution_count": 13,
   "metadata": {},
   "outputs": [],
   "source": [
    "df_tariffs = df_tariffs.rename(columns = {\"tariff_name\": \"tariff\"})"
   ]
  },
  {
   "cell_type": "markdown",
   "metadata": {},
   "source": [
    "Теперь объединим последовательно все таблицы с помощью метода merge."
   ]
  },
  {
   "cell_type": "code",
   "execution_count": 22,
   "metadata": {},
   "outputs": [
    {
     "name": "stdout",
     "output_type": "stream",
     "text": [
      "(2717, 3)\n",
      "(3213, 5)\n",
      "(3214, 6)\n",
      "(3216, 13)\n",
      "(3216, 20)\n"
     ]
    }
   ],
   "source": [
    "print(messages_pivot.shape)\n",
    "data = messages_pivot.merge(calls_pivot, on=['user_id', 'month'], how='outer')\n",
    "print(data.shape)\n",
    "data = data.merge(internet_pivot, on=['user_id', 'month'], how='outer')\n",
    "print(data.shape)\n",
    "data = data.merge(df_users, on='user_id', how='outer')\n",
    "print(data.shape)\n",
    "data = data.merge(df_tariffs, on='tariff', how='left')\n",
    "print(data.shape)"
   ]
  },
  {
   "cell_type": "code",
   "execution_count": 23,
   "metadata": {},
   "outputs": [
    {
     "data": {
      "text/html": [
       "<div>\n",
       "<style scoped>\n",
       "    .dataframe tbody tr th:only-of-type {\n",
       "        vertical-align: middle;\n",
       "    }\n",
       "\n",
       "    .dataframe tbody tr th {\n",
       "        vertical-align: top;\n",
       "    }\n",
       "\n",
       "    .dataframe thead th {\n",
       "        text-align: right;\n",
       "    }\n",
       "</style>\n",
       "<table border=\"1\" class=\"dataframe\">\n",
       "  <thead>\n",
       "    <tr style=\"text-align: right;\">\n",
       "      <th></th>\n",
       "      <th>user_id</th>\n",
       "      <th>month</th>\n",
       "      <th>messages_count</th>\n",
       "      <th>calls_count</th>\n",
       "      <th>calls_duration</th>\n",
       "      <th>mb_used</th>\n",
       "      <th>age</th>\n",
       "      <th>churn_date</th>\n",
       "      <th>city</th>\n",
       "      <th>first_name</th>\n",
       "      <th>last_name</th>\n",
       "      <th>reg_date</th>\n",
       "      <th>tariff</th>\n",
       "      <th>messages_included</th>\n",
       "      <th>mb_per_month_included</th>\n",
       "      <th>minutes_included</th>\n",
       "      <th>rub_monthly_fee</th>\n",
       "      <th>rub_per_gb</th>\n",
       "      <th>rub_per_message</th>\n",
       "      <th>rub_per_minute</th>\n",
       "    </tr>\n",
       "  </thead>\n",
       "  <tbody>\n",
       "    <tr>\n",
       "      <th>0</th>\n",
       "      <td>1000</td>\n",
       "      <td>5.0</td>\n",
       "      <td>22.0</td>\n",
       "      <td>22</td>\n",
       "      <td>159</td>\n",
       "      <td>2253.49</td>\n",
       "      <td>52</td>\n",
       "      <td>NaN</td>\n",
       "      <td>Краснодар</td>\n",
       "      <td>Рафаил</td>\n",
       "      <td>Верещагин</td>\n",
       "      <td>2018-05-25</td>\n",
       "      <td>ultra</td>\n",
       "      <td>1000</td>\n",
       "      <td>30720</td>\n",
       "      <td>3000</td>\n",
       "      <td>1950</td>\n",
       "      <td>150</td>\n",
       "      <td>1</td>\n",
       "      <td>1</td>\n",
       "    </tr>\n",
       "    <tr>\n",
       "      <th>1</th>\n",
       "      <td>1000</td>\n",
       "      <td>6.0</td>\n",
       "      <td>60.0</td>\n",
       "      <td>43</td>\n",
       "      <td>172</td>\n",
       "      <td>23233.77</td>\n",
       "      <td>52</td>\n",
       "      <td>NaN</td>\n",
       "      <td>Краснодар</td>\n",
       "      <td>Рафаил</td>\n",
       "      <td>Верещагин</td>\n",
       "      <td>2018-05-25</td>\n",
       "      <td>ultra</td>\n",
       "      <td>1000</td>\n",
       "      <td>30720</td>\n",
       "      <td>3000</td>\n",
       "      <td>1950</td>\n",
       "      <td>150</td>\n",
       "      <td>1</td>\n",
       "      <td>1</td>\n",
       "    </tr>\n",
       "    <tr>\n",
       "      <th>2</th>\n",
       "      <td>1000</td>\n",
       "      <td>7.0</td>\n",
       "      <td>75.0</td>\n",
       "      <td>47</td>\n",
       "      <td>340</td>\n",
       "      <td>14003.64</td>\n",
       "      <td>52</td>\n",
       "      <td>NaN</td>\n",
       "      <td>Краснодар</td>\n",
       "      <td>Рафаил</td>\n",
       "      <td>Верещагин</td>\n",
       "      <td>2018-05-25</td>\n",
       "      <td>ultra</td>\n",
       "      <td>1000</td>\n",
       "      <td>30720</td>\n",
       "      <td>3000</td>\n",
       "      <td>1950</td>\n",
       "      <td>150</td>\n",
       "      <td>1</td>\n",
       "      <td>1</td>\n",
       "    </tr>\n",
       "    <tr>\n",
       "      <th>3</th>\n",
       "      <td>1000</td>\n",
       "      <td>8.0</td>\n",
       "      <td>81.0</td>\n",
       "      <td>52</td>\n",
       "      <td>408</td>\n",
       "      <td>14055.93</td>\n",
       "      <td>52</td>\n",
       "      <td>NaN</td>\n",
       "      <td>Краснодар</td>\n",
       "      <td>Рафаил</td>\n",
       "      <td>Верещагин</td>\n",
       "      <td>2018-05-25</td>\n",
       "      <td>ultra</td>\n",
       "      <td>1000</td>\n",
       "      <td>30720</td>\n",
       "      <td>3000</td>\n",
       "      <td>1950</td>\n",
       "      <td>150</td>\n",
       "      <td>1</td>\n",
       "      <td>1</td>\n",
       "    </tr>\n",
       "    <tr>\n",
       "      <th>4</th>\n",
       "      <td>1000</td>\n",
       "      <td>9.0</td>\n",
       "      <td>57.0</td>\n",
       "      <td>58</td>\n",
       "      <td>466</td>\n",
       "      <td>14568.91</td>\n",
       "      <td>52</td>\n",
       "      <td>NaN</td>\n",
       "      <td>Краснодар</td>\n",
       "      <td>Рафаил</td>\n",
       "      <td>Верещагин</td>\n",
       "      <td>2018-05-25</td>\n",
       "      <td>ultra</td>\n",
       "      <td>1000</td>\n",
       "      <td>30720</td>\n",
       "      <td>3000</td>\n",
       "      <td>1950</td>\n",
       "      <td>150</td>\n",
       "      <td>1</td>\n",
       "      <td>1</td>\n",
       "    </tr>\n",
       "    <tr>\n",
       "      <th>...</th>\n",
       "      <td>...</td>\n",
       "      <td>...</td>\n",
       "      <td>...</td>\n",
       "      <td>...</td>\n",
       "      <td>...</td>\n",
       "      <td>...</td>\n",
       "      <td>...</td>\n",
       "      <td>...</td>\n",
       "      <td>...</td>\n",
       "      <td>...</td>\n",
       "      <td>...</td>\n",
       "      <td>...</td>\n",
       "      <td>...</td>\n",
       "      <td>...</td>\n",
       "      <td>...</td>\n",
       "      <td>...</td>\n",
       "      <td>...</td>\n",
       "      <td>...</td>\n",
       "      <td>...</td>\n",
       "      <td>...</td>\n",
       "    </tr>\n",
       "    <tr>\n",
       "      <th>3211</th>\n",
       "      <td>1494</td>\n",
       "      <td>10.0</td>\n",
       "      <td>NaN</td>\n",
       "      <td>52</td>\n",
       "      <td>354</td>\n",
       "      <td>17767.24</td>\n",
       "      <td>62</td>\n",
       "      <td>NaN</td>\n",
       "      <td>Омск</td>\n",
       "      <td>Ренат</td>\n",
       "      <td>Андропов</td>\n",
       "      <td>2018-08-17</td>\n",
       "      <td>smart</td>\n",
       "      <td>50</td>\n",
       "      <td>15360</td>\n",
       "      <td>500</td>\n",
       "      <td>550</td>\n",
       "      <td>200</td>\n",
       "      <td>3</td>\n",
       "      <td>3</td>\n",
       "    </tr>\n",
       "    <tr>\n",
       "      <th>3212</th>\n",
       "      <td>1494</td>\n",
       "      <td>11.0</td>\n",
       "      <td>NaN</td>\n",
       "      <td>63</td>\n",
       "      <td>411</td>\n",
       "      <td>18052.45</td>\n",
       "      <td>62</td>\n",
       "      <td>NaN</td>\n",
       "      <td>Омск</td>\n",
       "      <td>Ренат</td>\n",
       "      <td>Андропов</td>\n",
       "      <td>2018-08-17</td>\n",
       "      <td>smart</td>\n",
       "      <td>50</td>\n",
       "      <td>15360</td>\n",
       "      <td>500</td>\n",
       "      <td>550</td>\n",
       "      <td>200</td>\n",
       "      <td>3</td>\n",
       "      <td>3</td>\n",
       "    </tr>\n",
       "    <tr>\n",
       "      <th>3213</th>\n",
       "      <td>1494</td>\n",
       "      <td>12.0</td>\n",
       "      <td>NaN</td>\n",
       "      <td>62</td>\n",
       "      <td>418</td>\n",
       "      <td>17621.21</td>\n",
       "      <td>62</td>\n",
       "      <td>NaN</td>\n",
       "      <td>Омск</td>\n",
       "      <td>Ренат</td>\n",
       "      <td>Андропов</td>\n",
       "      <td>2018-08-17</td>\n",
       "      <td>smart</td>\n",
       "      <td>50</td>\n",
       "      <td>15360</td>\n",
       "      <td>500</td>\n",
       "      <td>550</td>\n",
       "      <td>200</td>\n",
       "      <td>3</td>\n",
       "      <td>3</td>\n",
       "    </tr>\n",
       "    <tr>\n",
       "      <th>3214</th>\n",
       "      <td>1128</td>\n",
       "      <td>NaN</td>\n",
       "      <td>NaN</td>\n",
       "      <td>NaN</td>\n",
       "      <td>NaN</td>\n",
       "      <td>NaN</td>\n",
       "      <td>51</td>\n",
       "      <td>2018-12-23</td>\n",
       "      <td>Волжский</td>\n",
       "      <td>Ксения</td>\n",
       "      <td>Агаева</td>\n",
       "      <td>2018-12-15</td>\n",
       "      <td>ultra</td>\n",
       "      <td>1000</td>\n",
       "      <td>30720</td>\n",
       "      <td>3000</td>\n",
       "      <td>1950</td>\n",
       "      <td>150</td>\n",
       "      <td>1</td>\n",
       "      <td>1</td>\n",
       "    </tr>\n",
       "    <tr>\n",
       "      <th>3215</th>\n",
       "      <td>1371</td>\n",
       "      <td>NaN</td>\n",
       "      <td>NaN</td>\n",
       "      <td>NaN</td>\n",
       "      <td>NaN</td>\n",
       "      <td>NaN</td>\n",
       "      <td>50</td>\n",
       "      <td>2018-12-30</td>\n",
       "      <td>Омск</td>\n",
       "      <td>Ириней</td>\n",
       "      <td>Трофимов</td>\n",
       "      <td>2018-12-25</td>\n",
       "      <td>smart</td>\n",
       "      <td>50</td>\n",
       "      <td>15360</td>\n",
       "      <td>500</td>\n",
       "      <td>550</td>\n",
       "      <td>200</td>\n",
       "      <td>3</td>\n",
       "      <td>3</td>\n",
       "    </tr>\n",
       "  </tbody>\n",
       "</table>\n",
       "<p>3216 rows × 20 columns</p>\n",
       "</div>"
      ],
      "text/plain": [
       "      user_id  month  messages_count calls_count calls_duration   mb_used  \\\n",
       "0        1000    5.0            22.0          22            159   2253.49   \n",
       "1        1000    6.0            60.0          43            172  23233.77   \n",
       "2        1000    7.0            75.0          47            340  14003.64   \n",
       "3        1000    8.0            81.0          52            408  14055.93   \n",
       "4        1000    9.0            57.0          58            466  14568.91   \n",
       "...       ...    ...             ...         ...            ...       ...   \n",
       "3211     1494   10.0             NaN          52            354  17767.24   \n",
       "3212     1494   11.0             NaN          63            411  18052.45   \n",
       "3213     1494   12.0             NaN          62            418  17621.21   \n",
       "3214     1128    NaN             NaN         NaN            NaN       NaN   \n",
       "3215     1371    NaN             NaN         NaN            NaN       NaN   \n",
       "\n",
       "      age  churn_date       city first_name  last_name    reg_date tariff  \\\n",
       "0      52         NaN  Краснодар     Рафаил  Верещагин  2018-05-25  ultra   \n",
       "1      52         NaN  Краснодар     Рафаил  Верещагин  2018-05-25  ultra   \n",
       "2      52         NaN  Краснодар     Рафаил  Верещагин  2018-05-25  ultra   \n",
       "3      52         NaN  Краснодар     Рафаил  Верещагин  2018-05-25  ultra   \n",
       "4      52         NaN  Краснодар     Рафаил  Верещагин  2018-05-25  ultra   \n",
       "...   ...         ...        ...        ...        ...         ...    ...   \n",
       "3211   62         NaN       Омск      Ренат   Андропов  2018-08-17  smart   \n",
       "3212   62         NaN       Омск      Ренат   Андропов  2018-08-17  smart   \n",
       "3213   62         NaN       Омск      Ренат   Андропов  2018-08-17  smart   \n",
       "3214   51  2018-12-23   Волжский     Ксения     Агаева  2018-12-15  ultra   \n",
       "3215   50  2018-12-30       Омск     Ириней   Трофимов  2018-12-25  smart   \n",
       "\n",
       "      messages_included  mb_per_month_included  minutes_included  \\\n",
       "0                  1000                  30720              3000   \n",
       "1                  1000                  30720              3000   \n",
       "2                  1000                  30720              3000   \n",
       "3                  1000                  30720              3000   \n",
       "4                  1000                  30720              3000   \n",
       "...                 ...                    ...               ...   \n",
       "3211                 50                  15360               500   \n",
       "3212                 50                  15360               500   \n",
       "3213                 50                  15360               500   \n",
       "3214               1000                  30720              3000   \n",
       "3215                 50                  15360               500   \n",
       "\n",
       "      rub_monthly_fee  rub_per_gb  rub_per_message  rub_per_minute  \n",
       "0                1950         150                1               1  \n",
       "1                1950         150                1               1  \n",
       "2                1950         150                1               1  \n",
       "3                1950         150                1               1  \n",
       "4                1950         150                1               1  \n",
       "...               ...         ...              ...             ...  \n",
       "3211              550         200                3               3  \n",
       "3212              550         200                3               3  \n",
       "3213              550         200                3               3  \n",
       "3214             1950         150                1               1  \n",
       "3215              550         200                3               3  \n",
       "\n",
       "[3216 rows x 20 columns]"
      ]
     },
     "execution_count": 23,
     "metadata": {},
     "output_type": "execute_result"
    }
   ],
   "source": [
    "data"
   ]
  },
  {
   "cell_type": "markdown",
   "metadata": {},
   "source": [
    "### Изменение типов данных"
   ]
  },
  {
   "cell_type": "code",
   "execution_count": 24,
   "metadata": {},
   "outputs": [
    {
     "name": "stdout",
     "output_type": "stream",
     "text": [
      "<class 'pandas.core.frame.DataFrame'>\n",
      "Int64Index: 3216 entries, 0 to 3215\n",
      "Data columns (total 20 columns):\n",
      " #   Column                 Non-Null Count  Dtype  \n",
      "---  ------                 --------------  -----  \n",
      " 0   user_id                3216 non-null   int64  \n",
      " 1   month                  3214 non-null   float64\n",
      " 2   messages_count         2717 non-null   float64\n",
      " 3   calls_count            3174 non-null   object \n",
      " 4   calls_duration         3174 non-null   object \n",
      " 5   mb_used                3203 non-null   float64\n",
      " 6   age                    3216 non-null   int64  \n",
      " 7   churn_date             189 non-null    object \n",
      " 8   city                   3216 non-null   object \n",
      " 9   first_name             3216 non-null   object \n",
      " 10  last_name              3216 non-null   object \n",
      " 11  reg_date               3216 non-null   object \n",
      " 12  tariff                 3216 non-null   object \n",
      " 13  messages_included      3216 non-null   int64  \n",
      " 14  mb_per_month_included  3216 non-null   int64  \n",
      " 15  minutes_included       3216 non-null   int64  \n",
      " 16  rub_monthly_fee        3216 non-null   int64  \n",
      " 17  rub_per_gb             3216 non-null   int64  \n",
      " 18  rub_per_message        3216 non-null   int64  \n",
      " 19  rub_per_minute         3216 non-null   int64  \n",
      "dtypes: float64(3), int64(9), object(8)\n",
      "memory usage: 527.6+ KB\n"
     ]
    }
   ],
   "source": [
    "data.info()"
   ]
  },
  {
   "cell_type": "markdown",
   "metadata": {},
   "source": [
    "В столбцах reg_date, churn_date тип object заменим на datetime64."
   ]
  },
  {
   "cell_type": "code",
   "execution_count": 25,
   "metadata": {},
   "outputs": [],
   "source": [
    "data['reg_date'] = pd.to_datetime(data['reg_date'], format='%Y-%m-%d') #заменим тип object на datetime64"
   ]
  },
  {
   "cell_type": "code",
   "execution_count": 26,
   "metadata": {},
   "outputs": [],
   "source": [
    "data['churn_date'] = pd.to_datetime(data['churn_date'], format='%Y-%m-%d') #заменим тип object на datetime64"
   ]
  },
  {
   "cell_type": "markdown",
   "metadata": {},
   "source": [
    "В столбцах calls_duration, messages_count, month, calls_count заменим тип float64 на int64."
   ]
  },
  {
   "cell_type": "code",
   "execution_count": 27,
   "metadata": {},
   "outputs": [],
   "source": [
    "data['messages_count'] = data['messages_count'].astype('Int64')"
   ]
  },
  {
   "cell_type": "code",
   "execution_count": 28,
   "metadata": {},
   "outputs": [],
   "source": [
    "data['month'] = data['month'].astype('Int64')"
   ]
  },
  {
   "cell_type": "code",
   "execution_count": 29,
   "metadata": {},
   "outputs": [],
   "source": [
    "data['calls_count'] = data['calls_count'].astype('Int64')"
   ]
  },
  {
   "cell_type": "code",
   "execution_count": 30,
   "metadata": {},
   "outputs": [],
   "source": [
    "data['calls_duration'] = data['calls_duration'].astype('Int64')"
   ]
  },
  {
   "cell_type": "markdown",
   "metadata": {},
   "source": [
    "В столбцах mb_per_month_included, mb_used превратим мб в гб, разделив значение на 1024. Также заменим тип float64 на int64."
   ]
  },
  {
   "cell_type": "code",
   "execution_count": 31,
   "metadata": {},
   "outputs": [],
   "source": [
    "data['mb_per_month_included'] = (data['mb_per_month_included'] / 1024).astype('Int64')"
   ]
  },
  {
   "cell_type": "code",
   "execution_count": 32,
   "metadata": {},
   "outputs": [],
   "source": [
    "data['mb_used'] = np.ceil(data['mb_used'] / 1024).astype('Int64')"
   ]
  },
  {
   "cell_type": "markdown",
   "metadata": {},
   "source": [
    "Переименуем столбцы mb_per_month_included, mb_used соответственно в gb_per_month_included и gb_used."
   ]
  },
  {
   "cell_type": "code",
   "execution_count": 33,
   "metadata": {},
   "outputs": [],
   "source": [
    "data = data.rename(columns = {\"mb_per_month_included\": \"gb_per_month_included\", \"mb_used\": \"gb_used\"})"
   ]
  },
  {
   "cell_type": "code",
   "execution_count": 34,
   "metadata": {},
   "outputs": [
    {
     "data": {
      "text/html": [
       "<div>\n",
       "<style scoped>\n",
       "    .dataframe tbody tr th:only-of-type {\n",
       "        vertical-align: middle;\n",
       "    }\n",
       "\n",
       "    .dataframe tbody tr th {\n",
       "        vertical-align: top;\n",
       "    }\n",
       "\n",
       "    .dataframe thead th {\n",
       "        text-align: right;\n",
       "    }\n",
       "</style>\n",
       "<table border=\"1\" class=\"dataframe\">\n",
       "  <thead>\n",
       "    <tr style=\"text-align: right;\">\n",
       "      <th></th>\n",
       "      <th>user_id</th>\n",
       "      <th>month</th>\n",
       "      <th>messages_count</th>\n",
       "      <th>calls_count</th>\n",
       "      <th>calls_duration</th>\n",
       "      <th>gb_used</th>\n",
       "      <th>age</th>\n",
       "      <th>churn_date</th>\n",
       "      <th>city</th>\n",
       "      <th>first_name</th>\n",
       "      <th>last_name</th>\n",
       "      <th>reg_date</th>\n",
       "      <th>tariff</th>\n",
       "      <th>messages_included</th>\n",
       "      <th>gb_per_month_included</th>\n",
       "      <th>minutes_included</th>\n",
       "      <th>rub_monthly_fee</th>\n",
       "      <th>rub_per_gb</th>\n",
       "      <th>rub_per_message</th>\n",
       "      <th>rub_per_minute</th>\n",
       "    </tr>\n",
       "  </thead>\n",
       "  <tbody>\n",
       "    <tr>\n",
       "      <th>0</th>\n",
       "      <td>1000</td>\n",
       "      <td>5</td>\n",
       "      <td>22</td>\n",
       "      <td>22</td>\n",
       "      <td>159</td>\n",
       "      <td>3</td>\n",
       "      <td>52</td>\n",
       "      <td>NaT</td>\n",
       "      <td>Краснодар</td>\n",
       "      <td>Рафаил</td>\n",
       "      <td>Верещагин</td>\n",
       "      <td>2018-05-25</td>\n",
       "      <td>ultra</td>\n",
       "      <td>1000</td>\n",
       "      <td>30</td>\n",
       "      <td>3000</td>\n",
       "      <td>1950</td>\n",
       "      <td>150</td>\n",
       "      <td>1</td>\n",
       "      <td>1</td>\n",
       "    </tr>\n",
       "    <tr>\n",
       "      <th>1</th>\n",
       "      <td>1000</td>\n",
       "      <td>6</td>\n",
       "      <td>60</td>\n",
       "      <td>43</td>\n",
       "      <td>172</td>\n",
       "      <td>23</td>\n",
       "      <td>52</td>\n",
       "      <td>NaT</td>\n",
       "      <td>Краснодар</td>\n",
       "      <td>Рафаил</td>\n",
       "      <td>Верещагин</td>\n",
       "      <td>2018-05-25</td>\n",
       "      <td>ultra</td>\n",
       "      <td>1000</td>\n",
       "      <td>30</td>\n",
       "      <td>3000</td>\n",
       "      <td>1950</td>\n",
       "      <td>150</td>\n",
       "      <td>1</td>\n",
       "      <td>1</td>\n",
       "    </tr>\n",
       "    <tr>\n",
       "      <th>2</th>\n",
       "      <td>1000</td>\n",
       "      <td>7</td>\n",
       "      <td>75</td>\n",
       "      <td>47</td>\n",
       "      <td>340</td>\n",
       "      <td>14</td>\n",
       "      <td>52</td>\n",
       "      <td>NaT</td>\n",
       "      <td>Краснодар</td>\n",
       "      <td>Рафаил</td>\n",
       "      <td>Верещагин</td>\n",
       "      <td>2018-05-25</td>\n",
       "      <td>ultra</td>\n",
       "      <td>1000</td>\n",
       "      <td>30</td>\n",
       "      <td>3000</td>\n",
       "      <td>1950</td>\n",
       "      <td>150</td>\n",
       "      <td>1</td>\n",
       "      <td>1</td>\n",
       "    </tr>\n",
       "    <tr>\n",
       "      <th>3</th>\n",
       "      <td>1000</td>\n",
       "      <td>8</td>\n",
       "      <td>81</td>\n",
       "      <td>52</td>\n",
       "      <td>408</td>\n",
       "      <td>14</td>\n",
       "      <td>52</td>\n",
       "      <td>NaT</td>\n",
       "      <td>Краснодар</td>\n",
       "      <td>Рафаил</td>\n",
       "      <td>Верещагин</td>\n",
       "      <td>2018-05-25</td>\n",
       "      <td>ultra</td>\n",
       "      <td>1000</td>\n",
       "      <td>30</td>\n",
       "      <td>3000</td>\n",
       "      <td>1950</td>\n",
       "      <td>150</td>\n",
       "      <td>1</td>\n",
       "      <td>1</td>\n",
       "    </tr>\n",
       "    <tr>\n",
       "      <th>4</th>\n",
       "      <td>1000</td>\n",
       "      <td>9</td>\n",
       "      <td>57</td>\n",
       "      <td>58</td>\n",
       "      <td>466</td>\n",
       "      <td>15</td>\n",
       "      <td>52</td>\n",
       "      <td>NaT</td>\n",
       "      <td>Краснодар</td>\n",
       "      <td>Рафаил</td>\n",
       "      <td>Верещагин</td>\n",
       "      <td>2018-05-25</td>\n",
       "      <td>ultra</td>\n",
       "      <td>1000</td>\n",
       "      <td>30</td>\n",
       "      <td>3000</td>\n",
       "      <td>1950</td>\n",
       "      <td>150</td>\n",
       "      <td>1</td>\n",
       "      <td>1</td>\n",
       "    </tr>\n",
       "    <tr>\n",
       "      <th>...</th>\n",
       "      <td>...</td>\n",
       "      <td>...</td>\n",
       "      <td>...</td>\n",
       "      <td>...</td>\n",
       "      <td>...</td>\n",
       "      <td>...</td>\n",
       "      <td>...</td>\n",
       "      <td>...</td>\n",
       "      <td>...</td>\n",
       "      <td>...</td>\n",
       "      <td>...</td>\n",
       "      <td>...</td>\n",
       "      <td>...</td>\n",
       "      <td>...</td>\n",
       "      <td>...</td>\n",
       "      <td>...</td>\n",
       "      <td>...</td>\n",
       "      <td>...</td>\n",
       "      <td>...</td>\n",
       "      <td>...</td>\n",
       "    </tr>\n",
       "    <tr>\n",
       "      <th>3211</th>\n",
       "      <td>1494</td>\n",
       "      <td>10</td>\n",
       "      <td>&lt;NA&gt;</td>\n",
       "      <td>52</td>\n",
       "      <td>354</td>\n",
       "      <td>18</td>\n",
       "      <td>62</td>\n",
       "      <td>NaT</td>\n",
       "      <td>Омск</td>\n",
       "      <td>Ренат</td>\n",
       "      <td>Андропов</td>\n",
       "      <td>2018-08-17</td>\n",
       "      <td>smart</td>\n",
       "      <td>50</td>\n",
       "      <td>15</td>\n",
       "      <td>500</td>\n",
       "      <td>550</td>\n",
       "      <td>200</td>\n",
       "      <td>3</td>\n",
       "      <td>3</td>\n",
       "    </tr>\n",
       "    <tr>\n",
       "      <th>3212</th>\n",
       "      <td>1494</td>\n",
       "      <td>11</td>\n",
       "      <td>&lt;NA&gt;</td>\n",
       "      <td>63</td>\n",
       "      <td>411</td>\n",
       "      <td>18</td>\n",
       "      <td>62</td>\n",
       "      <td>NaT</td>\n",
       "      <td>Омск</td>\n",
       "      <td>Ренат</td>\n",
       "      <td>Андропов</td>\n",
       "      <td>2018-08-17</td>\n",
       "      <td>smart</td>\n",
       "      <td>50</td>\n",
       "      <td>15</td>\n",
       "      <td>500</td>\n",
       "      <td>550</td>\n",
       "      <td>200</td>\n",
       "      <td>3</td>\n",
       "      <td>3</td>\n",
       "    </tr>\n",
       "    <tr>\n",
       "      <th>3213</th>\n",
       "      <td>1494</td>\n",
       "      <td>12</td>\n",
       "      <td>&lt;NA&gt;</td>\n",
       "      <td>62</td>\n",
       "      <td>418</td>\n",
       "      <td>18</td>\n",
       "      <td>62</td>\n",
       "      <td>NaT</td>\n",
       "      <td>Омск</td>\n",
       "      <td>Ренат</td>\n",
       "      <td>Андропов</td>\n",
       "      <td>2018-08-17</td>\n",
       "      <td>smart</td>\n",
       "      <td>50</td>\n",
       "      <td>15</td>\n",
       "      <td>500</td>\n",
       "      <td>550</td>\n",
       "      <td>200</td>\n",
       "      <td>3</td>\n",
       "      <td>3</td>\n",
       "    </tr>\n",
       "    <tr>\n",
       "      <th>3214</th>\n",
       "      <td>1128</td>\n",
       "      <td>&lt;NA&gt;</td>\n",
       "      <td>&lt;NA&gt;</td>\n",
       "      <td>&lt;NA&gt;</td>\n",
       "      <td>&lt;NA&gt;</td>\n",
       "      <td>&lt;NA&gt;</td>\n",
       "      <td>51</td>\n",
       "      <td>2018-12-23</td>\n",
       "      <td>Волжский</td>\n",
       "      <td>Ксения</td>\n",
       "      <td>Агаева</td>\n",
       "      <td>2018-12-15</td>\n",
       "      <td>ultra</td>\n",
       "      <td>1000</td>\n",
       "      <td>30</td>\n",
       "      <td>3000</td>\n",
       "      <td>1950</td>\n",
       "      <td>150</td>\n",
       "      <td>1</td>\n",
       "      <td>1</td>\n",
       "    </tr>\n",
       "    <tr>\n",
       "      <th>3215</th>\n",
       "      <td>1371</td>\n",
       "      <td>&lt;NA&gt;</td>\n",
       "      <td>&lt;NA&gt;</td>\n",
       "      <td>&lt;NA&gt;</td>\n",
       "      <td>&lt;NA&gt;</td>\n",
       "      <td>&lt;NA&gt;</td>\n",
       "      <td>50</td>\n",
       "      <td>2018-12-30</td>\n",
       "      <td>Омск</td>\n",
       "      <td>Ириней</td>\n",
       "      <td>Трофимов</td>\n",
       "      <td>2018-12-25</td>\n",
       "      <td>smart</td>\n",
       "      <td>50</td>\n",
       "      <td>15</td>\n",
       "      <td>500</td>\n",
       "      <td>550</td>\n",
       "      <td>200</td>\n",
       "      <td>3</td>\n",
       "      <td>3</td>\n",
       "    </tr>\n",
       "  </tbody>\n",
       "</table>\n",
       "<p>3216 rows × 20 columns</p>\n",
       "</div>"
      ],
      "text/plain": [
       "      user_id  month  messages_count  calls_count  calls_duration  gb_used  \\\n",
       "0        1000      5              22           22             159        3   \n",
       "1        1000      6              60           43             172       23   \n",
       "2        1000      7              75           47             340       14   \n",
       "3        1000      8              81           52             408       14   \n",
       "4        1000      9              57           58             466       15   \n",
       "...       ...    ...             ...          ...             ...      ...   \n",
       "3211     1494     10            <NA>           52             354       18   \n",
       "3212     1494     11            <NA>           63             411       18   \n",
       "3213     1494     12            <NA>           62             418       18   \n",
       "3214     1128   <NA>            <NA>         <NA>            <NA>     <NA>   \n",
       "3215     1371   <NA>            <NA>         <NA>            <NA>     <NA>   \n",
       "\n",
       "      age churn_date       city first_name  last_name   reg_date tariff  \\\n",
       "0      52        NaT  Краснодар     Рафаил  Верещагин 2018-05-25  ultra   \n",
       "1      52        NaT  Краснодар     Рафаил  Верещагин 2018-05-25  ultra   \n",
       "2      52        NaT  Краснодар     Рафаил  Верещагин 2018-05-25  ultra   \n",
       "3      52        NaT  Краснодар     Рафаил  Верещагин 2018-05-25  ultra   \n",
       "4      52        NaT  Краснодар     Рафаил  Верещагин 2018-05-25  ultra   \n",
       "...   ...        ...        ...        ...        ...        ...    ...   \n",
       "3211   62        NaT       Омск      Ренат   Андропов 2018-08-17  smart   \n",
       "3212   62        NaT       Омск      Ренат   Андропов 2018-08-17  smart   \n",
       "3213   62        NaT       Омск      Ренат   Андропов 2018-08-17  smart   \n",
       "3214   51 2018-12-23   Волжский     Ксения     Агаева 2018-12-15  ultra   \n",
       "3215   50 2018-12-30       Омск     Ириней   Трофимов 2018-12-25  smart   \n",
       "\n",
       "      messages_included  gb_per_month_included  minutes_included  \\\n",
       "0                  1000                     30              3000   \n",
       "1                  1000                     30              3000   \n",
       "2                  1000                     30              3000   \n",
       "3                  1000                     30              3000   \n",
       "4                  1000                     30              3000   \n",
       "...                 ...                    ...               ...   \n",
       "3211                 50                     15               500   \n",
       "3212                 50                     15               500   \n",
       "3213                 50                     15               500   \n",
       "3214               1000                     30              3000   \n",
       "3215                 50                     15               500   \n",
       "\n",
       "      rub_monthly_fee  rub_per_gb  rub_per_message  rub_per_minute  \n",
       "0                1950         150                1               1  \n",
       "1                1950         150                1               1  \n",
       "2                1950         150                1               1  \n",
       "3                1950         150                1               1  \n",
       "4                1950         150                1               1  \n",
       "...               ...         ...              ...             ...  \n",
       "3211              550         200                3               3  \n",
       "3212              550         200                3               3  \n",
       "3213              550         200                3               3  \n",
       "3214             1950         150                1               1  \n",
       "3215              550         200                3               3  \n",
       "\n",
       "[3216 rows x 20 columns]"
      ]
     },
     "execution_count": 34,
     "metadata": {},
     "output_type": "execute_result"
    }
   ],
   "source": [
    "data"
   ]
  },
  {
   "cell_type": "markdown",
   "metadata": {},
   "source": [
    "Напишем функцию для расчета помесячной выручки с каждого пользователя."
   ]
  },
  {
   "cell_type": "code",
   "execution_count": 35,
   "metadata": {},
   "outputs": [],
   "source": [
    "def calc_price(used_count, included_count, rub_per):\n",
    "    price = 0\n",
    "    if pd.isna(used_count):\n",
    "        price = 0\n",
    "    elif used_count > included_count:\n",
    "        price = (used_count - included_count) * rub_per\n",
    "    return price\n",
    "\n",
    "\n",
    "def get_revenue(row):\n",
    "    calls_price = calc_price(row['calls_duration'], row['minutes_included'], row['rub_per_minute'])\n",
    "    messages_price = calc_price(row['messages_count'], row['messages_included'], row['rub_per_message'])\n",
    "    gb_price = calc_price(row['gb_used'], row['gb_per_month_included'], row['rub_per_gb'])\n",
    "    return row['rub_monthly_fee'] + calls_price + messages_price + gb_price\n",
    "\n",
    "data['revenue'] = data.apply(get_revenue, axis=1)"
   ]
  },
  {
   "cell_type": "code",
   "execution_count": 36,
   "metadata": {},
   "outputs": [
    {
     "data": {
      "text/html": [
       "<div>\n",
       "<style scoped>\n",
       "    .dataframe tbody tr th:only-of-type {\n",
       "        vertical-align: middle;\n",
       "    }\n",
       "\n",
       "    .dataframe tbody tr th {\n",
       "        vertical-align: top;\n",
       "    }\n",
       "\n",
       "    .dataframe thead th {\n",
       "        text-align: right;\n",
       "    }\n",
       "</style>\n",
       "<table border=\"1\" class=\"dataframe\">\n",
       "  <thead>\n",
       "    <tr style=\"text-align: right;\">\n",
       "      <th></th>\n",
       "      <th>user_id</th>\n",
       "      <th>month</th>\n",
       "      <th>messages_count</th>\n",
       "      <th>calls_count</th>\n",
       "      <th>calls_duration</th>\n",
       "      <th>gb_used</th>\n",
       "      <th>age</th>\n",
       "      <th>churn_date</th>\n",
       "      <th>city</th>\n",
       "      <th>first_name</th>\n",
       "      <th>...</th>\n",
       "      <th>reg_date</th>\n",
       "      <th>tariff</th>\n",
       "      <th>messages_included</th>\n",
       "      <th>gb_per_month_included</th>\n",
       "      <th>minutes_included</th>\n",
       "      <th>rub_monthly_fee</th>\n",
       "      <th>rub_per_gb</th>\n",
       "      <th>rub_per_message</th>\n",
       "      <th>rub_per_minute</th>\n",
       "      <th>revenue</th>\n",
       "    </tr>\n",
       "  </thead>\n",
       "  <tbody>\n",
       "    <tr>\n",
       "      <th>0</th>\n",
       "      <td>1000</td>\n",
       "      <td>5</td>\n",
       "      <td>22</td>\n",
       "      <td>22</td>\n",
       "      <td>159</td>\n",
       "      <td>3</td>\n",
       "      <td>52</td>\n",
       "      <td>NaT</td>\n",
       "      <td>Краснодар</td>\n",
       "      <td>Рафаил</td>\n",
       "      <td>...</td>\n",
       "      <td>2018-05-25</td>\n",
       "      <td>ultra</td>\n",
       "      <td>1000</td>\n",
       "      <td>30</td>\n",
       "      <td>3000</td>\n",
       "      <td>1950</td>\n",
       "      <td>150</td>\n",
       "      <td>1</td>\n",
       "      <td>1</td>\n",
       "      <td>1950</td>\n",
       "    </tr>\n",
       "    <tr>\n",
       "      <th>1</th>\n",
       "      <td>1000</td>\n",
       "      <td>6</td>\n",
       "      <td>60</td>\n",
       "      <td>43</td>\n",
       "      <td>172</td>\n",
       "      <td>23</td>\n",
       "      <td>52</td>\n",
       "      <td>NaT</td>\n",
       "      <td>Краснодар</td>\n",
       "      <td>Рафаил</td>\n",
       "      <td>...</td>\n",
       "      <td>2018-05-25</td>\n",
       "      <td>ultra</td>\n",
       "      <td>1000</td>\n",
       "      <td>30</td>\n",
       "      <td>3000</td>\n",
       "      <td>1950</td>\n",
       "      <td>150</td>\n",
       "      <td>1</td>\n",
       "      <td>1</td>\n",
       "      <td>1950</td>\n",
       "    </tr>\n",
       "    <tr>\n",
       "      <th>2</th>\n",
       "      <td>1000</td>\n",
       "      <td>7</td>\n",
       "      <td>75</td>\n",
       "      <td>47</td>\n",
       "      <td>340</td>\n",
       "      <td>14</td>\n",
       "      <td>52</td>\n",
       "      <td>NaT</td>\n",
       "      <td>Краснодар</td>\n",
       "      <td>Рафаил</td>\n",
       "      <td>...</td>\n",
       "      <td>2018-05-25</td>\n",
       "      <td>ultra</td>\n",
       "      <td>1000</td>\n",
       "      <td>30</td>\n",
       "      <td>3000</td>\n",
       "      <td>1950</td>\n",
       "      <td>150</td>\n",
       "      <td>1</td>\n",
       "      <td>1</td>\n",
       "      <td>1950</td>\n",
       "    </tr>\n",
       "    <tr>\n",
       "      <th>3</th>\n",
       "      <td>1000</td>\n",
       "      <td>8</td>\n",
       "      <td>81</td>\n",
       "      <td>52</td>\n",
       "      <td>408</td>\n",
       "      <td>14</td>\n",
       "      <td>52</td>\n",
       "      <td>NaT</td>\n",
       "      <td>Краснодар</td>\n",
       "      <td>Рафаил</td>\n",
       "      <td>...</td>\n",
       "      <td>2018-05-25</td>\n",
       "      <td>ultra</td>\n",
       "      <td>1000</td>\n",
       "      <td>30</td>\n",
       "      <td>3000</td>\n",
       "      <td>1950</td>\n",
       "      <td>150</td>\n",
       "      <td>1</td>\n",
       "      <td>1</td>\n",
       "      <td>1950</td>\n",
       "    </tr>\n",
       "    <tr>\n",
       "      <th>4</th>\n",
       "      <td>1000</td>\n",
       "      <td>9</td>\n",
       "      <td>57</td>\n",
       "      <td>58</td>\n",
       "      <td>466</td>\n",
       "      <td>15</td>\n",
       "      <td>52</td>\n",
       "      <td>NaT</td>\n",
       "      <td>Краснодар</td>\n",
       "      <td>Рафаил</td>\n",
       "      <td>...</td>\n",
       "      <td>2018-05-25</td>\n",
       "      <td>ultra</td>\n",
       "      <td>1000</td>\n",
       "      <td>30</td>\n",
       "      <td>3000</td>\n",
       "      <td>1950</td>\n",
       "      <td>150</td>\n",
       "      <td>1</td>\n",
       "      <td>1</td>\n",
       "      <td>1950</td>\n",
       "    </tr>\n",
       "    <tr>\n",
       "      <th>...</th>\n",
       "      <td>...</td>\n",
       "      <td>...</td>\n",
       "      <td>...</td>\n",
       "      <td>...</td>\n",
       "      <td>...</td>\n",
       "      <td>...</td>\n",
       "      <td>...</td>\n",
       "      <td>...</td>\n",
       "      <td>...</td>\n",
       "      <td>...</td>\n",
       "      <td>...</td>\n",
       "      <td>...</td>\n",
       "      <td>...</td>\n",
       "      <td>...</td>\n",
       "      <td>...</td>\n",
       "      <td>...</td>\n",
       "      <td>...</td>\n",
       "      <td>...</td>\n",
       "      <td>...</td>\n",
       "      <td>...</td>\n",
       "      <td>...</td>\n",
       "    </tr>\n",
       "    <tr>\n",
       "      <th>3211</th>\n",
       "      <td>1494</td>\n",
       "      <td>10</td>\n",
       "      <td>&lt;NA&gt;</td>\n",
       "      <td>52</td>\n",
       "      <td>354</td>\n",
       "      <td>18</td>\n",
       "      <td>62</td>\n",
       "      <td>NaT</td>\n",
       "      <td>Омск</td>\n",
       "      <td>Ренат</td>\n",
       "      <td>...</td>\n",
       "      <td>2018-08-17</td>\n",
       "      <td>smart</td>\n",
       "      <td>50</td>\n",
       "      <td>15</td>\n",
       "      <td>500</td>\n",
       "      <td>550</td>\n",
       "      <td>200</td>\n",
       "      <td>3</td>\n",
       "      <td>3</td>\n",
       "      <td>1150</td>\n",
       "    </tr>\n",
       "    <tr>\n",
       "      <th>3212</th>\n",
       "      <td>1494</td>\n",
       "      <td>11</td>\n",
       "      <td>&lt;NA&gt;</td>\n",
       "      <td>63</td>\n",
       "      <td>411</td>\n",
       "      <td>18</td>\n",
       "      <td>62</td>\n",
       "      <td>NaT</td>\n",
       "      <td>Омск</td>\n",
       "      <td>Ренат</td>\n",
       "      <td>...</td>\n",
       "      <td>2018-08-17</td>\n",
       "      <td>smart</td>\n",
       "      <td>50</td>\n",
       "      <td>15</td>\n",
       "      <td>500</td>\n",
       "      <td>550</td>\n",
       "      <td>200</td>\n",
       "      <td>3</td>\n",
       "      <td>3</td>\n",
       "      <td>1150</td>\n",
       "    </tr>\n",
       "    <tr>\n",
       "      <th>3213</th>\n",
       "      <td>1494</td>\n",
       "      <td>12</td>\n",
       "      <td>&lt;NA&gt;</td>\n",
       "      <td>62</td>\n",
       "      <td>418</td>\n",
       "      <td>18</td>\n",
       "      <td>62</td>\n",
       "      <td>NaT</td>\n",
       "      <td>Омск</td>\n",
       "      <td>Ренат</td>\n",
       "      <td>...</td>\n",
       "      <td>2018-08-17</td>\n",
       "      <td>smart</td>\n",
       "      <td>50</td>\n",
       "      <td>15</td>\n",
       "      <td>500</td>\n",
       "      <td>550</td>\n",
       "      <td>200</td>\n",
       "      <td>3</td>\n",
       "      <td>3</td>\n",
       "      <td>1150</td>\n",
       "    </tr>\n",
       "    <tr>\n",
       "      <th>3214</th>\n",
       "      <td>1128</td>\n",
       "      <td>&lt;NA&gt;</td>\n",
       "      <td>&lt;NA&gt;</td>\n",
       "      <td>&lt;NA&gt;</td>\n",
       "      <td>&lt;NA&gt;</td>\n",
       "      <td>&lt;NA&gt;</td>\n",
       "      <td>51</td>\n",
       "      <td>2018-12-23</td>\n",
       "      <td>Волжский</td>\n",
       "      <td>Ксения</td>\n",
       "      <td>...</td>\n",
       "      <td>2018-12-15</td>\n",
       "      <td>ultra</td>\n",
       "      <td>1000</td>\n",
       "      <td>30</td>\n",
       "      <td>3000</td>\n",
       "      <td>1950</td>\n",
       "      <td>150</td>\n",
       "      <td>1</td>\n",
       "      <td>1</td>\n",
       "      <td>1950</td>\n",
       "    </tr>\n",
       "    <tr>\n",
       "      <th>3215</th>\n",
       "      <td>1371</td>\n",
       "      <td>&lt;NA&gt;</td>\n",
       "      <td>&lt;NA&gt;</td>\n",
       "      <td>&lt;NA&gt;</td>\n",
       "      <td>&lt;NA&gt;</td>\n",
       "      <td>&lt;NA&gt;</td>\n",
       "      <td>50</td>\n",
       "      <td>2018-12-30</td>\n",
       "      <td>Омск</td>\n",
       "      <td>Ириней</td>\n",
       "      <td>...</td>\n",
       "      <td>2018-12-25</td>\n",
       "      <td>smart</td>\n",
       "      <td>50</td>\n",
       "      <td>15</td>\n",
       "      <td>500</td>\n",
       "      <td>550</td>\n",
       "      <td>200</td>\n",
       "      <td>3</td>\n",
       "      <td>3</td>\n",
       "      <td>550</td>\n",
       "    </tr>\n",
       "  </tbody>\n",
       "</table>\n",
       "<p>3216 rows × 21 columns</p>\n",
       "</div>"
      ],
      "text/plain": [
       "      user_id  month  messages_count  calls_count  calls_duration  gb_used  \\\n",
       "0        1000      5              22           22             159        3   \n",
       "1        1000      6              60           43             172       23   \n",
       "2        1000      7              75           47             340       14   \n",
       "3        1000      8              81           52             408       14   \n",
       "4        1000      9              57           58             466       15   \n",
       "...       ...    ...             ...          ...             ...      ...   \n",
       "3211     1494     10            <NA>           52             354       18   \n",
       "3212     1494     11            <NA>           63             411       18   \n",
       "3213     1494     12            <NA>           62             418       18   \n",
       "3214     1128   <NA>            <NA>         <NA>            <NA>     <NA>   \n",
       "3215     1371   <NA>            <NA>         <NA>            <NA>     <NA>   \n",
       "\n",
       "      age churn_date       city first_name  ...   reg_date tariff  \\\n",
       "0      52        NaT  Краснодар     Рафаил  ... 2018-05-25  ultra   \n",
       "1      52        NaT  Краснодар     Рафаил  ... 2018-05-25  ultra   \n",
       "2      52        NaT  Краснодар     Рафаил  ... 2018-05-25  ultra   \n",
       "3      52        NaT  Краснодар     Рафаил  ... 2018-05-25  ultra   \n",
       "4      52        NaT  Краснодар     Рафаил  ... 2018-05-25  ultra   \n",
       "...   ...        ...        ...        ...  ...        ...    ...   \n",
       "3211   62        NaT       Омск      Ренат  ... 2018-08-17  smart   \n",
       "3212   62        NaT       Омск      Ренат  ... 2018-08-17  smart   \n",
       "3213   62        NaT       Омск      Ренат  ... 2018-08-17  smart   \n",
       "3214   51 2018-12-23   Волжский     Ксения  ... 2018-12-15  ultra   \n",
       "3215   50 2018-12-30       Омск     Ириней  ... 2018-12-25  smart   \n",
       "\n",
       "     messages_included  gb_per_month_included  minutes_included  \\\n",
       "0                 1000                     30              3000   \n",
       "1                 1000                     30              3000   \n",
       "2                 1000                     30              3000   \n",
       "3                 1000                     30              3000   \n",
       "4                 1000                     30              3000   \n",
       "...                ...                    ...               ...   \n",
       "3211                50                     15               500   \n",
       "3212                50                     15               500   \n",
       "3213                50                     15               500   \n",
       "3214              1000                     30              3000   \n",
       "3215                50                     15               500   \n",
       "\n",
       "      rub_monthly_fee  rub_per_gb  rub_per_message  rub_per_minute  revenue  \n",
       "0                1950         150                1               1     1950  \n",
       "1                1950         150                1               1     1950  \n",
       "2                1950         150                1               1     1950  \n",
       "3                1950         150                1               1     1950  \n",
       "4                1950         150                1               1     1950  \n",
       "...               ...         ...              ...             ...      ...  \n",
       "3211              550         200                3               3     1150  \n",
       "3212              550         200                3               3     1150  \n",
       "3213              550         200                3               3     1150  \n",
       "3214             1950         150                1               1     1950  \n",
       "3215              550         200                3               3      550  \n",
       "\n",
       "[3216 rows x 21 columns]"
      ]
     },
     "execution_count": 36,
     "metadata": {},
     "output_type": "execute_result"
    }
   ],
   "source": [
    "data"
   ]
  },
  {
   "cell_type": "markdown",
   "metadata": {},
   "source": [
    "### Вывод"
   ]
  },
  {
   "cell_type": "markdown",
   "metadata": {},
   "source": [
    "Посчитали и добавили в таблицу: количество сделанных звонков и израсходованных минут разговора по месяцам, количество отправленных сообщений по месяцам, объем израсходованного интернет-трафика по месяцам. После этого объединили таблицы в одну для удобства.\n",
    "\n",
    "Также привели столбцы churn_date, reg_date к типу datetime64. Заменили вещественный тип на целочисленный в столбцах messages_count, month, calls_count, mb_per_month_included для уменьшения потребления памяти, также в столбцах calls_duration, mb_used предварительно округлив в большую сторону в связи с тем, что «Мегалайн» всегда округляет секунды до минут, а мегабайты — до гигабайт.\n",
    "\n",
    "Затем посчитали помесячную выручку с каждого пользователя.\n",
    "\n",
    "Пропуски в столбцах churn_date, month, calls_count, calls_duration, gb_used, messages_count оставим как есть. Так как пропуски в столбцах с звонками с нулевой продолжительностью, с количеством звонков, говорят о том, что звонки не были совершены. И пропуски в столбцах с трафиком, месяцем и количеством сообщений, говорят о том, что они не были использованы клиентом. Также если значение в столбце churn_date пропущено, то тариф ещё действовал на момент выгрузки данных."
   ]
  },
  {
   "cell_type": "markdown",
   "metadata": {},
   "source": [
    "## Анализ и описание данных"
   ]
  },
  {
   "cell_type": "markdown",
   "metadata": {},
   "source": [
    "Опишем поведение клиентов оператора, исходя из выборки.\n",
    "\n",
    "Для этого сперва напишем функцию для построения гистограмм."
   ]
  },
  {
   "cell_type": "code",
   "execution_count": 37,
   "metadata": {},
   "outputs": [],
   "source": [
    "def plot_hist(column, title, xlabel, ylabel):\n",
    "    ax = (data.query('tariff == \"ultra\"')\n",
    "        .plot(\n",
    "            kind='hist',\n",
    "            y=column,\n",
    "            bins=100,\n",
    "            histtype='step',\n",
    "            linewidth=3,\n",
    "            legend=True,\n",
    "            label='ultra'\n",
    "            )\n",
    "        )\n",
    "\n",
    "    (data.query('tariff == \"smart\"')\n",
    "    .plot(\n",
    "        kind='hist',\n",
    "        y=column,\n",
    "        bins=100,\n",
    "        ax=ax,\n",
    "        alpha=0.5,\n",
    "        legend=True,\n",
    "        label='smart',\n",
    "        title=title\n",
    "        ).set(xlabel=xlabel, ylabel=ylabel)\n",
    "    )"
   ]
  },
  {
   "cell_type": "markdown",
   "metadata": {},
   "source": [
    "Используя функцию построим гистограмму продолжительности разговоров в месяц по каждому тарифу."
   ]
  },
  {
   "cell_type": "code",
   "execution_count": 38,
   "metadata": {
    "scrolled": true
   },
   "outputs": [
    {
     "data": {
      "image/png": "[encoded data removed]",
      "text/plain": [
       "<Figure size 432x288 with 1 Axes>"
      ]
     },
     "metadata": {
      "needs_background": "light"
     },
     "output_type": "display_data"
    }
   ],
   "source": [
    "plot_hist('calls_duration', 'Минуты разговоров в месяц', 'количество минут', 'количество пользователей')"
   ]
  },
  {
   "cell_type": "markdown",
   "metadata": {},
   "source": [
    "Также найдем среднее количество минут разговоров в месяц, стандартное отклонение и дисперсию."
   ]
  },
  {
   "cell_type": "code",
   "execution_count": 39,
   "metadata": {},
   "outputs": [
    {
     "data": {
      "text/html": [
       "<div>\n",
       "<style scoped>\n",
       "    .dataframe tbody tr th:only-of-type {\n",
       "        vertical-align: middle;\n",
       "    }\n",
       "\n",
       "    .dataframe tbody tr th {\n",
       "        vertical-align: top;\n",
       "    }\n",
       "\n",
       "    .dataframe thead th {\n",
       "        text-align: right;\n",
       "    }\n",
       "</style>\n",
       "<table border=\"1\" class=\"dataframe\">\n",
       "  <thead>\n",
       "    <tr style=\"text-align: right;\">\n",
       "      <th></th>\n",
       "      <th>tariff</th>\n",
       "      <th>mean</th>\n",
       "      <th>std</th>\n",
       "      <th>var</th>\n",
       "    </tr>\n",
       "  </thead>\n",
       "  <tbody>\n",
       "    <tr>\n",
       "      <th>0</th>\n",
       "      <td>smart</td>\n",
       "      <td>419.063</td>\n",
       "      <td>189.326</td>\n",
       "      <td>35844.19</td>\n",
       "    </tr>\n",
       "    <tr>\n",
       "      <th>1</th>\n",
       "      <td>ultra</td>\n",
       "      <td>545.451</td>\n",
       "      <td>306.926</td>\n",
       "      <td>94203.418</td>\n",
       "    </tr>\n",
       "  </tbody>\n",
       "</table>\n",
       "</div>"
      ],
      "text/plain": [
       "  tariff     mean      std        var\n",
       "0  smart  419.063  189.326   35844.19\n",
       "1  ultra  545.451  306.926  94203.418"
      ]
     },
     "execution_count": 39,
     "metadata": {},
     "output_type": "execute_result"
    }
   ],
   "source": [
    "data.pivot_table(index='tariff', values='calls_duration', aggfunc={'mean', 'var', 'std'}).reset_index()"
   ]
  },
  {
   "cell_type": "markdown",
   "metadata": {},
   "source": [
    "Используя функцию построим гистограмму израсходованного интернет-трафика в месяц по каждому тарифу."
   ]
  },
  {
   "cell_type": "code",
   "execution_count": 40,
   "metadata": {},
   "outputs": [
    {
     "data": {
      "image/png": "[encoded data removed]",
      "text/plain": [
       "<Figure size 432x288 with 1 Axes>"
      ]
     },
     "metadata": {
      "needs_background": "light"
     },
     "output_type": "display_data"
    }
   ],
   "source": [
    "plot_hist('gb_used', 'Интернет-трафик в месяц', 'объем интернет-трафика', 'количество пользователей')"
   ]
  },
  {
   "cell_type": "markdown",
   "metadata": {},
   "source": [
    "Также найдем средний объем интернет-трафика в месяц, стандартное отклонение и дисперсию."
   ]
  },
  {
   "cell_type": "code",
   "execution_count": 41,
   "metadata": {},
   "outputs": [
    {
     "data": {
      "text/html": [
       "<div>\n",
       "<style scoped>\n",
       "    .dataframe tbody tr th:only-of-type {\n",
       "        vertical-align: middle;\n",
       "    }\n",
       "\n",
       "    .dataframe tbody tr th {\n",
       "        vertical-align: top;\n",
       "    }\n",
       "\n",
       "    .dataframe thead th {\n",
       "        text-align: right;\n",
       "    }\n",
       "</style>\n",
       "<table border=\"1\" class=\"dataframe\">\n",
       "  <thead>\n",
       "    <tr style=\"text-align: right;\">\n",
       "      <th></th>\n",
       "      <th>tariff</th>\n",
       "      <th>mean</th>\n",
       "      <th>std</th>\n",
       "      <th>var</th>\n",
       "    </tr>\n",
       "  </thead>\n",
       "  <tbody>\n",
       "    <tr>\n",
       "      <th>0</th>\n",
       "      <td>smart</td>\n",
       "      <td>16.336</td>\n",
       "      <td>5.738</td>\n",
       "      <td>32.924</td>\n",
       "    </tr>\n",
       "    <tr>\n",
       "      <th>1</th>\n",
       "      <td>ultra</td>\n",
       "      <td>19.694</td>\n",
       "      <td>9.703</td>\n",
       "      <td>94.147</td>\n",
       "    </tr>\n",
       "  </tbody>\n",
       "</table>\n",
       "</div>"
      ],
      "text/plain": [
       "  tariff    mean    std     var\n",
       "0  smart  16.336  5.738  32.924\n",
       "1  ultra  19.694  9.703  94.147"
      ]
     },
     "execution_count": 41,
     "metadata": {},
     "output_type": "execute_result"
    }
   ],
   "source": [
    "data.pivot_table(index='tariff', values='gb_used', aggfunc={'mean', 'var', 'std'}).reset_index()"
   ]
  },
  {
   "cell_type": "markdown",
   "metadata": {},
   "source": [
    "Используя функцию построим гистограмму отправленного количества сообщений в месяц по каждому тарифу."
   ]
  },
  {
   "cell_type": "code",
   "execution_count": 42,
   "metadata": {},
   "outputs": [
    {
     "data": {
      "image/png": "[encoded data removed]",
      "text/plain": [
       "<Figure size 432x288 with 1 Axes>"
      ]
     },
     "metadata": {
      "needs_background": "light"
     },
     "output_type": "display_data"
    }
   ],
   "source": [
    "plot_hist('messages_count', 'Количество сообщений в месяц', 'количество сообщений', 'количество пользователей')"
   ]
  },
  {
   "cell_type": "markdown",
   "metadata": {},
   "source": [
    "Также найдем среднее количество отправленных сообщений в месяц, стандартное отклонение и дисперсию."
   ]
  },
  {
   "cell_type": "code",
   "execution_count": 43,
   "metadata": {},
   "outputs": [
    {
     "data": {
      "text/html": [
       "<div>\n",
       "<style scoped>\n",
       "    .dataframe tbody tr th:only-of-type {\n",
       "        vertical-align: middle;\n",
       "    }\n",
       "\n",
       "    .dataframe tbody tr th {\n",
       "        vertical-align: top;\n",
       "    }\n",
       "\n",
       "    .dataframe thead th {\n",
       "        text-align: right;\n",
       "    }\n",
       "</style>\n",
       "<table border=\"1\" class=\"dataframe\">\n",
       "  <thead>\n",
       "    <tr style=\"text-align: right;\">\n",
       "      <th></th>\n",
       "      <th>tariff</th>\n",
       "      <th>mean</th>\n",
       "      <th>std</th>\n",
       "      <th>var</th>\n",
       "    </tr>\n",
       "  </thead>\n",
       "  <tbody>\n",
       "    <tr>\n",
       "      <th>0</th>\n",
       "      <td>smart</td>\n",
       "      <td>38.716</td>\n",
       "      <td>26.788</td>\n",
       "      <td>717.594</td>\n",
       "    </tr>\n",
       "    <tr>\n",
       "      <th>1</th>\n",
       "      <td>ultra</td>\n",
       "      <td>61.161</td>\n",
       "      <td>45.931</td>\n",
       "      <td>2109.659</td>\n",
       "    </tr>\n",
       "  </tbody>\n",
       "</table>\n",
       "</div>"
      ],
      "text/plain": [
       "  tariff    mean     std       var\n",
       "0  smart  38.716  26.788   717.594\n",
       "1  ultra  61.161  45.931  2109.659"
      ]
     },
     "execution_count": 43,
     "metadata": {},
     "output_type": "execute_result"
    }
   ],
   "source": [
    "data.pivot_table(index='tariff', values='messages_count', aggfunc={'mean', 'var', 'std'}).reset_index()"
   ]
  },
  {
   "cell_type": "markdown",
   "metadata": {},
   "source": [
    "### Вывод"
   ]
  },
  {
   "cell_type": "markdown",
   "metadata": {},
   "source": [
    "Итак, определили, что в среднем в месяц пользователям тарифа Смарт требуется 419 минут разговора, 16 Гб объем интернет-трафика и 39 сообщений. А пользователям тарифа Ультра требуется 545 минут разговора, 20 Гб объем интернет-трафика и 61 сообщений.\n",
    "\n",
    "Стандартное отклонение у тарифа Смарт намного меньше, чем у тарифа Ультра, дисперсии не равны. Это говорит о том, что данные сосредоточены вокруг среднего значения (Смарт), а большое значение этих величин – о том, что данные разбросаны в широком диапазоне значений (Ультра). Также об этом утверждают гистограммы, на них мы видим сильную скошенность вправо у тарифа Ультра."
   ]
  },
  {
   "cell_type": "markdown",
   "metadata": {},
   "source": [
    "## Проверка гипотез и пояснения"
   ]
  },
  {
   "cell_type": "markdown",
   "metadata": {},
   "source": [
    "### Проверка гипотезы 'Средняя выручка пользователей тарифов «Ультра» и «Смарт» различаются'"
   ]
  },
  {
   "cell_type": "markdown",
   "metadata": {},
   "source": [
    "Сгруппируем таблицу по выручке и найдем среднюю выручку, дисперсию и количество."
   ]
  },
  {
   "cell_type": "code",
   "execution_count": 44,
   "metadata": {},
   "outputs": [
    {
     "data": {
      "text/html": [
       "<div>\n",
       "<style scoped>\n",
       "    .dataframe tbody tr th:only-of-type {\n",
       "        vertical-align: middle;\n",
       "    }\n",
       "\n",
       "    .dataframe tbody tr th {\n",
       "        vertical-align: top;\n",
       "    }\n",
       "\n",
       "    .dataframe thead th {\n",
       "        text-align: right;\n",
       "    }\n",
       "</style>\n",
       "<table border=\"1\" class=\"dataframe\">\n",
       "  <thead>\n",
       "    <tr style=\"text-align: right;\">\n",
       "      <th></th>\n",
       "      <th>tariff</th>\n",
       "      <th>count</th>\n",
       "      <th>mean</th>\n",
       "      <th>var</th>\n",
       "    </tr>\n",
       "  </thead>\n",
       "  <tbody>\n",
       "    <tr>\n",
       "      <th>0</th>\n",
       "      <td>smart</td>\n",
       "      <td>2230.0</td>\n",
       "      <td>1289.642</td>\n",
       "      <td>669730.764</td>\n",
       "    </tr>\n",
       "    <tr>\n",
       "      <th>1</th>\n",
       "      <td>ultra</td>\n",
       "      <td>986.0</td>\n",
       "      <td>2070.030</td>\n",
       "      <td>141387.715</td>\n",
       "    </tr>\n",
       "  </tbody>\n",
       "</table>\n",
       "</div>"
      ],
      "text/plain": [
       "  tariff   count      mean         var\n",
       "0  smart  2230.0  1289.642  669730.764\n",
       "1  ultra   986.0  2070.030  141387.715"
      ]
     },
     "execution_count": 44,
     "metadata": {},
     "output_type": "execute_result"
    }
   ],
   "source": [
    "data.pivot_table(index='tariff', values='revenue', aggfunc={'mean', 'var', 'count'}).reset_index()"
   ]
  },
  {
   "cell_type": "markdown",
   "metadata": {},
   "source": [
    "Сформулируем нулевую гипотезу:\n",
    "    \n",
    "    H0 - Средняя выручка пользователей тарифов «Ультра» и «Смарт» равны\n",
    "\n",
    "Тогда в качестве альтернативной возьмем следующую двустороннюю гипотезу:\n",
    "    \n",
    "    H1 - Средняя выручка пользователей тарифов «Ультра» и «Смарт» различаются"
   ]
  },
  {
   "cell_type": "markdown",
   "metadata": {},
   "source": [
    "Для проверки гипотезы используем метод ttest_ind. Так как дисперсии не равны и размер выборок отличается, параметр equal_var выставим False."
   ]
  },
  {
   "cell_type": "code",
   "execution_count": 45,
   "metadata": {},
   "outputs": [
    {
     "name": "stdout",
     "output_type": "stream",
     "text": [
      "p-значение: 1.927011394420941e-250\n",
      "Отвергаем нулевую гипотезу\n"
     ]
    }
   ],
   "source": [
    "smart_filtered = data.query('tariff == \"smart\"')['revenue']\n",
    "ultra_filtered = data.query('tariff == \"ultra\"')['revenue']\n",
    "\n",
    "alpha = .05 # критический уровень статистической значимости\n",
    "\n",
    "results = st.ttest_ind(smart_filtered, ultra_filtered, equal_var=False)\n",
    "\n",
    "print('p-значение:', results.pvalue)\n",
    "\n",
    "if results.pvalue < alpha:\n",
    "    print(\"Отвергаем нулевую гипотезу\")\n",
    "else:\n",
    "    print(\"Не получилось отвергнуть нулевую гипотезу\") "
   ]
  },
  {
   "cell_type": "markdown",
   "metadata": {},
   "source": [
    "### Вывод"
   ]
  },
  {
   "cell_type": "markdown",
   "metadata": {},
   "source": [
    "При выбранном уровне значимости в 5% получили бесконечно малое значение p-value. Таким образом, нулевая гипотеза о равенстве средних отвергается: средние выручки пользователей тарифов «Ультра» и «Смарт» различаются."
   ]
  },
  {
   "cell_type": "markdown",
   "metadata": {},
   "source": [
    "### Проверка гипотезы 'Средняя выручка пользователей из Москвы отличается от выручки пользователей из других регионов'"
   ]
  },
  {
   "cell_type": "markdown",
   "metadata": {},
   "source": [
    "Сформулируем нулевую гипотезу:\n",
    "\n",
    "H0 - Средняя выручка пользователей из Москвы равна выручке пользователей из других регионов\n",
    "\n",
    "Тогда в качестве альтернативной возьмем следующую двустороннюю гипотезу:\n",
    "\n",
    "H1 - Средняя выручка пользователей из Москвы отличается от выручки пользователей из других регионов"
   ]
  },
  {
   "cell_type": "markdown",
   "metadata": {},
   "source": [
    "Сделаем срез таблицы по выручке с условием city == \"Москва\", найдем дисперсию и количество."
   ]
  },
  {
   "cell_type": "code",
   "execution_count": 46,
   "metadata": {},
   "outputs": [
    {
     "data": {
      "text/plain": [
       "565636.467011886"
      ]
     },
     "execution_count": 46,
     "metadata": {},
     "output_type": "execute_result"
    }
   ],
   "source": [
    "data.query('city == \"Москва\"')['revenue'].var()"
   ]
  },
  {
   "cell_type": "code",
   "execution_count": 47,
   "metadata": {},
   "outputs": [
    {
     "data": {
      "text/plain": [
       "611"
      ]
     },
     "execution_count": 47,
     "metadata": {},
     "output_type": "execute_result"
    }
   ],
   "source": [
    "data.query('city == \"Москва\"')['revenue'].count()"
   ]
  },
  {
   "cell_type": "markdown",
   "metadata": {},
   "source": [
    "Сделаем также срез таблицы по выручке с условием city != \"Москва\", найдем дисперсию и количество."
   ]
  },
  {
   "cell_type": "code",
   "execution_count": 48,
   "metadata": {},
   "outputs": [
    {
     "data": {
      "text/plain": [
       "654069.5749627769"
      ]
     },
     "execution_count": 48,
     "metadata": {},
     "output_type": "execute_result"
    }
   ],
   "source": [
    "data.query('city != \"Москва\"')['revenue'].var()"
   ]
  },
  {
   "cell_type": "code",
   "execution_count": 49,
   "metadata": {},
   "outputs": [
    {
     "data": {
      "text/plain": [
       "2605"
      ]
     },
     "execution_count": 49,
     "metadata": {},
     "output_type": "execute_result"
    }
   ],
   "source": [
    "data.query('city != \"Москва\"')['revenue'].count()"
   ]
  },
  {
   "cell_type": "markdown",
   "metadata": {},
   "source": [
    "Для проверки гипотезы используем метод ttest_ind. Так как дисперсии не равны и размеры выборок отличаюся, параметр equal_var выставим False."
   ]
  },
  {
   "cell_type": "code",
   "execution_count": 50,
   "metadata": {},
   "outputs": [
    {
     "name": "stdout",
     "output_type": "stream",
     "text": [
      "Средняя выручка пользователей из Москвы: 1546.7135842880523\n",
      "Средняя выручка пользователей из регионов: 1524.7251439539348\n",
      "p-значение: 0.5216952110000279\n",
      "Не получилось отвергнуть нулевую гипотезу\n"
     ]
    }
   ],
   "source": [
    "filtered_msk = data.query('city == \"Москва\"')['revenue']\n",
    "filtered_not_msk = data.query('city != \"Москва\"')['revenue']\n",
    "\n",
    "print('Средняя выручка пользователей из Москвы:', filtered_msk.mean())\n",
    "print('Средняя выручка пользователей из регионов:', filtered_not_msk.mean())\n",
    "\n",
    "alpha = .05 # критический уровень статистической значимости\n",
    "\n",
    "results = st.ttest_ind(filtered_msk, filtered_not_msk, equal_var=False)\n",
    "\n",
    "print('p-значение:', results.pvalue)\n",
    "\n",
    "if results.pvalue < alpha:\n",
    "    print(\"Отвергаем нулевую гипотезу\")\n",
    "else:\n",
    "    print(\"Не получилось отвергнуть нулевую гипотезу\") "
   ]
  },
  {
   "cell_type": "markdown",
   "metadata": {},
   "source": [
    "### Вывод"
   ]
  },
  {
   "cell_type": "markdown",
   "metadata": {},
   "source": [
    "При выбранном уровне значимости в 5% получили значение p-value 0.38. Таким образом, нулевая гипотеза о равенстве средних не отвергается: средняя выручка пользователей из Москвы не отличается от выручки пользователей из других регионов."
   ]
  },
  {
   "cell_type": "markdown",
   "metadata": {},
   "source": [
    "## Общий вывод"
   ]
  },
  {
   "cell_type": "markdown",
   "metadata": {},
   "source": [
    "Основная выручка по тарифу Ультра идет в виде ежемесячного платежа по тарифному плану. Так как в среднем количество минут разговора, объем израсходованного трафика и количество отправленных сообщений не выходят за рамки тарифного плана. И в среднем выходит примерно 2100 рублей. \n",
    "\n",
    "По тарифу Смарт выручка в среднем превышает абонентскую плату на 750 рублей и составляет примерно 1300 рублей.\n",
    "\n",
    "Таким образом, средняя выручка по тарифу Смарт уступает выручке по тарифу Ультра примерно на 800 рублей. Но этот тариф востребованней среди пользователей (разница в количестве примерно 1300).\n",
    "\n",
    "Исходя из результатов, тариф Смарт приносит больше выручки и является наиболее выгодным."
   ]
  },
  {
   "cell_type": "markdown",
   "metadata": {},
   "source": [
    "## Чек-лист готовности проекта\n",
    "\n",
    "Поставьте 'x' в выполненных пунктах. Далее нажмите Shift+Enter."
   ]
  },
  {
   "cell_type": "markdown",
   "metadata": {},
   "source": [
    "- [x]  открыт файл\n",
    "- [x]  файлы изучены (выведены первые строки, метод info())\n",
    "- [x]  определены ошибки в данных\n",
    "- [x]  исправлены ошибки\n",
    "- [x]  есть пояснение, какие ошибки обнаружены\n",
    "- [x]  изменены типы данных\n",
    "- [x]  есть пояснение, в каких столбцах изменены типы и почему\n",
    "- [x]  посчитано и добавлено в таблицу: количество сделанных звонков и израсходованных минут разговора по месяцам\n",
    "- [x]  посчитано и добавлено в таблицу: количество отправленных сообщений по месяцам\n",
    "- [x]  посчитано и добавлено в таблицу: объем израсходованного интернет-трафика по месяцам\n",
    "- [x]  посчитано и добавлено в таблицу: помесячная выручка с каждого пользователя (вычтите бесплатный лимит из суммарного количества звонков, сообщений и интернет-трафика; остаток умножьте на значение из тарифного плана; прибавьте абонентскую плату, соответствующую тарифному плану)\n",
    "- [x]  выполнено задание: \"Опишите поведение клиентов оператора, исходя из выборки. Сколько минут разговора, сколько сообщений и какой объём интернет-трафика требуется пользователям каждого тарифа в месяц? Посчитайте среднее количество, дисперсию и стандартное отклонение. Постройте гистограммы. Опишите распределения\"\n",
    "- [x]  проверена гипотеза: \"Средняя выручка пользователей тарифов «Ультра» и «Смарт» различаются\"\n",
    "- [x]  проверена гипотеза: \"Средняя выручка пользователей из Москвы отличается от выручки пользователей из других регионов\"\n",
    "- [x]  есть пояснение формулировки нулевой и альтернативной гипотезы, выбора критерия для проверки гипотез и почему\n",
    "- [x]  в каждом этапе есть выводы\n",
    "- [x]  есть общий вывод"
   ]
  }
 ],
 "metadata": {
  "ExecuteTimeLog": [
   {
    "duration": 104,
    "start_time": "2022-02-14T19:20:40.156Z"
   },
   {
    "duration": 85,
    "start_time": "2022-02-14T19:45:30.218Z"
   },
   {
    "duration": 1027,
    "start_time": "2022-02-14T19:50:33.987Z"
   },
   {
    "duration": 392,
    "start_time": "2022-02-14T19:50:45.567Z"
   },
   {
    "duration": 412,
    "start_time": "2022-02-14T19:51:51.689Z"
   },
   {
    "duration": 12,
    "start_time": "2022-02-14T19:52:07.879Z"
   },
   {
    "duration": 15,
    "start_time": "2022-02-14T19:52:10.601Z"
   },
   {
    "duration": 10,
    "start_time": "2022-02-14T19:52:14.871Z"
   },
   {
    "duration": 9,
    "start_time": "2022-02-14T19:52:18.623Z"
   },
   {
    "duration": 13,
    "start_time": "2022-02-14T19:52:24.752Z"
   },
   {
    "duration": 392,
    "start_time": "2022-02-14T19:53:03.019Z"
   },
   {
    "duration": 26,
    "start_time": "2022-02-14T19:53:29.308Z"
   },
   {
    "duration": 77,
    "start_time": "2022-02-14T19:53:56.421Z"
   },
   {
    "duration": 62,
    "start_time": "2022-02-14T19:54:53.566Z"
   },
   {
    "duration": 47,
    "start_time": "2022-02-14T19:54:58.437Z"
   },
   {
    "duration": 45,
    "start_time": "2022-02-14T19:55:31.800Z"
   },
   {
    "duration": 27,
    "start_time": "2022-02-14T19:56:26.200Z"
   },
   {
    "duration": 18,
    "start_time": "2022-02-14T19:56:32.711Z"
   },
   {
    "duration": 25,
    "start_time": "2022-02-14T19:56:44.228Z"
   },
   {
    "duration": 14,
    "start_time": "2022-02-14T19:57:04.629Z"
   },
   {
    "duration": 18,
    "start_time": "2022-02-14T19:57:27.858Z"
   },
   {
    "duration": 30,
    "start_time": "2022-02-14T19:58:53.177Z"
   },
   {
    "duration": 37,
    "start_time": "2022-02-14T19:59:17.608Z"
   },
   {
    "duration": 29,
    "start_time": "2022-02-14T19:59:28.703Z"
   },
   {
    "duration": 31,
    "start_time": "2022-02-14T20:00:27.853Z"
   },
   {
    "duration": 421,
    "start_time": "2022-02-14T20:14:12.506Z"
   },
   {
    "duration": 398,
    "start_time": "2022-02-14T20:15:48.254Z"
   },
   {
    "duration": 301,
    "start_time": "2022-02-14T20:15:50.036Z"
   },
   {
    "duration": 80,
    "start_time": "2022-02-14T20:16:00.171Z"
   },
   {
    "duration": 247,
    "start_time": "2022-02-14T20:16:08.994Z"
   },
   {
    "duration": 193,
    "start_time": "2022-02-14T20:19:08.067Z"
   },
   {
    "duration": 439,
    "start_time": "2022-02-14T20:21:56.475Z"
   },
   {
    "duration": 391,
    "start_time": "2022-02-14T20:22:28.427Z"
   },
   {
    "duration": 1295,
    "start_time": "2022-02-15T05:33:41.943Z"
   },
   {
    "duration": 566,
    "start_time": "2022-02-15T05:33:43.241Z"
   },
   {
    "duration": 1038,
    "start_time": "2022-02-16T09:24:10.836Z"
   },
   {
    "duration": 474,
    "start_time": "2022-02-16T09:24:11.914Z"
   },
   {
    "duration": 330,
    "start_time": "2022-02-16T09:26:28.133Z"
   },
   {
    "duration": 299,
    "start_time": "2022-02-16T09:26:46.680Z"
   },
   {
    "duration": 296,
    "start_time": "2022-02-16T09:26:50.853Z"
   },
   {
    "duration": 9,
    "start_time": "2022-02-16T09:27:13.033Z"
   },
   {
    "duration": 417,
    "start_time": "2022-02-16T09:27:29.189Z"
   },
   {
    "duration": 334,
    "start_time": "2022-02-16T09:27:30.005Z"
   },
   {
    "duration": 9,
    "start_time": "2022-02-16T09:27:45.542Z"
   },
   {
    "duration": 980,
    "start_time": "2022-02-26T15:07:05.113Z"
   },
   {
    "duration": 100,
    "start_time": "2022-02-26T15:17:40.335Z"
   },
   {
    "duration": 333,
    "start_time": "2022-02-26T15:24:00.699Z"
   },
   {
    "duration": 23,
    "start_time": "2022-02-26T15:25:09.388Z"
   },
   {
    "duration": 28,
    "start_time": "2022-02-26T15:25:11.146Z"
   },
   {
    "duration": 33,
    "start_time": "2022-02-26T15:25:44.192Z"
   },
   {
    "duration": 319,
    "start_time": "2022-02-26T15:33:54.713Z"
   },
   {
    "duration": 35,
    "start_time": "2022-02-26T15:34:32.183Z"
   },
   {
    "duration": 43,
    "start_time": "2022-02-26T15:34:34.234Z"
   },
   {
    "duration": 28,
    "start_time": "2022-02-26T15:40:37.315Z"
   },
   {
    "duration": 27,
    "start_time": "2022-02-26T15:40:43.246Z"
   },
   {
    "duration": 26,
    "start_time": "2022-02-26T15:41:57.739Z"
   },
   {
    "duration": 265,
    "start_time": "2022-02-26T15:43:49.449Z"
   },
   {
    "duration": 276,
    "start_time": "2022-02-26T15:44:27.439Z"
   },
   {
    "duration": 13,
    "start_time": "2022-02-26T15:44:39.905Z"
   },
   {
    "duration": 16,
    "start_time": "2022-02-26T15:45:22.663Z"
   },
   {
    "duration": 22,
    "start_time": "2022-02-26T15:49:13.433Z"
   },
   {
    "duration": 272,
    "start_time": "2022-02-26T15:50:12.191Z"
   },
   {
    "duration": 7,
    "start_time": "2022-02-26T15:55:23.379Z"
   },
   {
    "duration": 285,
    "start_time": "2022-02-26T15:55:29.200Z"
   },
   {
    "duration": 3,
    "start_time": "2022-02-26T15:56:21.330Z"
   },
   {
    "duration": 318,
    "start_time": "2022-02-26T15:56:23.361Z"
   },
   {
    "duration": 33,
    "start_time": "2022-02-26T15:56:41.552Z"
   },
   {
    "duration": 403,
    "start_time": "2022-02-26T15:57:09.435Z"
   },
   {
    "duration": 55,
    "start_time": "2022-02-26T15:57:13.689Z"
   },
   {
    "duration": 44,
    "start_time": "2022-02-26T15:57:15.069Z"
   },
   {
    "duration": 31,
    "start_time": "2022-02-26T15:57:16.382Z"
   },
   {
    "duration": 26,
    "start_time": "2022-02-26T15:57:20.364Z"
   },
   {
    "duration": 26,
    "start_time": "2022-02-26T15:57:22.672Z"
   },
   {
    "duration": 18,
    "start_time": "2022-02-26T15:57:28.642Z"
   },
   {
    "duration": 4,
    "start_time": "2022-02-26T15:57:31.847Z"
   },
   {
    "duration": 19,
    "start_time": "2022-02-26T15:57:34.169Z"
   },
   {
    "duration": 20,
    "start_time": "2022-02-26T15:57:51.950Z"
   },
   {
    "duration": 875,
    "start_time": "2022-02-26T15:58:56.960Z"
   },
   {
    "duration": 68,
    "start_time": "2022-02-26T15:58:57.837Z"
   },
   {
    "duration": 43,
    "start_time": "2022-02-26T15:58:57.907Z"
   },
   {
    "duration": 31,
    "start_time": "2022-02-26T15:58:57.952Z"
   },
   {
    "duration": 44,
    "start_time": "2022-02-26T15:58:57.985Z"
   },
   {
    "duration": 25,
    "start_time": "2022-02-26T15:58:58.030Z"
   },
   {
    "duration": 16,
    "start_time": "2022-02-26T15:58:58.057Z"
   },
   {
    "duration": 3,
    "start_time": "2022-02-26T15:58:58.075Z"
   },
   {
    "duration": 357,
    "start_time": "2022-02-26T15:58:58.079Z"
   },
   {
    "duration": 137,
    "start_time": "2022-02-26T15:58:58.300Z"
   },
   {
    "duration": 27,
    "start_time": "2022-02-26T15:59:23.830Z"
   },
   {
    "duration": 921,
    "start_time": "2022-02-26T16:11:10.235Z"
   },
   {
    "duration": 59,
    "start_time": "2022-02-26T16:11:11.158Z"
   },
   {
    "duration": 43,
    "start_time": "2022-02-26T16:11:11.219Z"
   },
   {
    "duration": 45,
    "start_time": "2022-02-26T16:11:11.264Z"
   },
   {
    "duration": 29,
    "start_time": "2022-02-26T16:11:11.311Z"
   },
   {
    "duration": 27,
    "start_time": "2022-02-26T16:11:11.341Z"
   },
   {
    "duration": 36,
    "start_time": "2022-02-26T16:11:11.370Z"
   },
   {
    "duration": 3,
    "start_time": "2022-02-26T16:11:11.407Z"
   },
   {
    "duration": 29,
    "start_time": "2022-02-26T16:11:11.413Z"
   },
   {
    "duration": 20,
    "start_time": "2022-02-26T16:11:11.443Z"
   },
   {
    "duration": 32,
    "start_time": "2022-02-26T16:12:32.498Z"
   },
   {
    "duration": 944,
    "start_time": "2022-02-26T16:12:54.901Z"
   },
   {
    "duration": 62,
    "start_time": "2022-02-26T16:12:55.847Z"
   },
   {
    "duration": 43,
    "start_time": "2022-02-26T16:12:55.910Z"
   },
   {
    "duration": 51,
    "start_time": "2022-02-26T16:12:55.955Z"
   },
   {
    "duration": 28,
    "start_time": "2022-02-26T16:12:56.008Z"
   },
   {
    "duration": 27,
    "start_time": "2022-02-26T16:12:56.037Z"
   },
   {
    "duration": 19,
    "start_time": "2022-02-26T16:12:56.066Z"
   },
   {
    "duration": 3,
    "start_time": "2022-02-26T16:12:56.106Z"
   },
   {
    "duration": 30,
    "start_time": "2022-02-26T16:12:56.110Z"
   },
   {
    "duration": 19,
    "start_time": "2022-02-26T16:12:56.141Z"
   },
   {
    "duration": 304,
    "start_time": "2022-02-27T09:31:52.034Z"
   },
   {
    "duration": 1144,
    "start_time": "2022-02-27T09:31:58.288Z"
   },
   {
    "duration": 75,
    "start_time": "2022-02-27T09:31:59.433Z"
   },
   {
    "duration": 49,
    "start_time": "2022-02-27T09:31:59.510Z"
   },
   {
    "duration": 53,
    "start_time": "2022-02-27T09:31:59.561Z"
   },
   {
    "duration": 32,
    "start_time": "2022-02-27T09:31:59.616Z"
   },
   {
    "duration": 54,
    "start_time": "2022-02-27T09:31:59.650Z"
   },
   {
    "duration": 22,
    "start_time": "2022-02-27T09:31:59.706Z"
   },
   {
    "duration": 4,
    "start_time": "2022-02-27T09:31:59.731Z"
   },
   {
    "duration": 56,
    "start_time": "2022-02-27T09:31:59.737Z"
   },
   {
    "duration": 25,
    "start_time": "2022-02-27T09:31:59.795Z"
   },
   {
    "duration": 9,
    "start_time": "2022-02-27T09:33:23.637Z"
   },
   {
    "duration": 409,
    "start_time": "2022-02-27T09:44:21.094Z"
   },
   {
    "duration": 137,
    "start_time": "2022-02-27T09:46:20.354Z"
   },
   {
    "duration": 169,
    "start_time": "2022-02-27T09:46:55.849Z"
   },
   {
    "duration": 419,
    "start_time": "2022-02-27T09:51:32.717Z"
   },
   {
    "duration": 218,
    "start_time": "2022-02-27T09:51:33.640Z"
   },
   {
    "duration": 11,
    "start_time": "2022-02-27T09:52:11.432Z"
   },
   {
    "duration": 175,
    "start_time": "2022-02-27T09:52:31.231Z"
   },
   {
    "duration": 349,
    "start_time": "2022-02-27T09:53:25.559Z"
   },
   {
    "duration": 18,
    "start_time": "2022-02-27T09:55:37.281Z"
   },
   {
    "duration": 973,
    "start_time": "2022-02-27T20:14:48.385Z"
   },
   {
    "duration": 184,
    "start_time": "2022-02-27T20:14:49.360Z"
   },
   {
    "duration": 365,
    "start_time": "2022-02-27T20:14:49.547Z"
   },
   {
    "duration": 3,
    "start_time": "2022-02-27T20:14:49.912Z"
   },
   {
    "duration": 3,
    "start_time": "2022-02-27T20:14:49.914Z"
   },
   {
    "duration": -21,
    "start_time": "2022-02-27T20:14:49.939Z"
   },
   {
    "duration": -23,
    "start_time": "2022-02-27T20:14:49.942Z"
   },
   {
    "duration": -23,
    "start_time": "2022-02-27T20:14:49.944Z"
   },
   {
    "duration": -24,
    "start_time": "2022-02-27T20:14:49.946Z"
   },
   {
    "duration": -23,
    "start_time": "2022-02-27T20:14:49.947Z"
   },
   {
    "duration": -24,
    "start_time": "2022-02-27T20:14:49.949Z"
   },
   {
    "duration": -24,
    "start_time": "2022-02-27T20:14:49.950Z"
   },
   {
    "duration": 214,
    "start_time": "2022-02-27T20:15:19.378Z"
   },
   {
    "duration": 56,
    "start_time": "2022-02-27T20:15:28.583Z"
   },
   {
    "duration": 185,
    "start_time": "2022-02-27T20:15:32.282Z"
   },
   {
    "duration": 201,
    "start_time": "2022-02-27T20:16:50.956Z"
   },
   {
    "duration": 404,
    "start_time": "2022-02-27T20:17:17.716Z"
   },
   {
    "duration": 189,
    "start_time": "2022-02-27T20:17:18.716Z"
   },
   {
    "duration": 85,
    "start_time": "2022-02-27T20:17:20.775Z"
   },
   {
    "duration": 51,
    "start_time": "2022-02-27T20:17:28.811Z"
   },
   {
    "duration": 60,
    "start_time": "2022-02-27T20:17:30.782Z"
   },
   {
    "duration": 37,
    "start_time": "2022-02-27T20:17:37.093Z"
   },
   {
    "duration": 33,
    "start_time": "2022-02-27T20:18:11.637Z"
   },
   {
    "duration": 28,
    "start_time": "2022-02-27T20:18:15.053Z"
   },
   {
    "duration": 4,
    "start_time": "2022-02-27T20:18:19.009Z"
   },
   {
    "duration": 32,
    "start_time": "2022-02-27T20:18:20.683Z"
   },
   {
    "duration": 19,
    "start_time": "2022-02-27T20:18:54.304Z"
   },
   {
    "duration": 17,
    "start_time": "2022-02-27T20:37:43.829Z"
   },
   {
    "duration": 19,
    "start_time": "2022-02-27T20:38:35.527Z"
   },
   {
    "duration": 1164,
    "start_time": "2022-02-27T20:40:41.929Z"
   },
   {
    "duration": 180,
    "start_time": "2022-02-27T20:40:43.095Z"
   },
   {
    "duration": 98,
    "start_time": "2022-02-27T20:40:43.277Z"
   },
   {
    "duration": 50,
    "start_time": "2022-02-27T20:40:43.377Z"
   },
   {
    "duration": 72,
    "start_time": "2022-02-27T20:40:43.428Z"
   },
   {
    "duration": 63,
    "start_time": "2022-02-27T20:40:43.502Z"
   },
   {
    "duration": 33,
    "start_time": "2022-02-27T20:40:43.567Z"
   },
   {
    "duration": 46,
    "start_time": "2022-02-27T20:40:43.603Z"
   },
   {
    "duration": 8,
    "start_time": "2022-02-27T20:40:43.651Z"
   },
   {
    "duration": 38,
    "start_time": "2022-02-27T20:40:43.660Z"
   },
   {
    "duration": 20,
    "start_time": "2022-02-27T20:40:43.700Z"
   },
   {
    "duration": 28,
    "start_time": "2022-02-27T20:40:43.746Z"
   },
   {
    "duration": 967,
    "start_time": "2022-02-27T20:45:39.708Z"
   },
   {
    "duration": 182,
    "start_time": "2022-02-27T20:45:40.677Z"
   },
   {
    "duration": 87,
    "start_time": "2022-02-27T20:45:40.861Z"
   },
   {
    "duration": 51,
    "start_time": "2022-02-27T20:45:40.950Z"
   },
   {
    "duration": 62,
    "start_time": "2022-02-27T20:45:41.002Z"
   },
   {
    "duration": 40,
    "start_time": "2022-02-27T20:45:41.066Z"
   },
   {
    "duration": 62,
    "start_time": "2022-02-27T20:45:41.108Z"
   },
   {
    "duration": 23,
    "start_time": "2022-02-27T20:45:41.171Z"
   },
   {
    "duration": 3,
    "start_time": "2022-02-27T20:45:41.197Z"
   },
   {
    "duration": 64,
    "start_time": "2022-02-27T20:45:41.202Z"
   },
   {
    "duration": 20,
    "start_time": "2022-02-27T20:45:41.267Z"
   },
   {
    "duration": 25,
    "start_time": "2022-02-27T20:45:41.289Z"
   },
   {
    "duration": 990,
    "start_time": "2022-02-27T20:51:25.413Z"
   },
   {
    "duration": 177,
    "start_time": "2022-02-27T20:51:26.405Z"
   },
   {
    "duration": 94,
    "start_time": "2022-02-27T20:51:26.584Z"
   },
   {
    "duration": 48,
    "start_time": "2022-02-27T20:51:26.680Z"
   },
   {
    "duration": 52,
    "start_time": "2022-02-27T20:51:26.730Z"
   },
   {
    "duration": 58,
    "start_time": "2022-02-27T20:51:26.784Z"
   },
   {
    "duration": 36,
    "start_time": "2022-02-27T20:51:26.844Z"
   },
   {
    "duration": 251,
    "start_time": "2022-02-27T20:51:26.883Z"
   },
   {
    "duration": -11,
    "start_time": "2022-02-27T20:51:27.148Z"
   },
   {
    "duration": -12,
    "start_time": "2022-02-27T20:51:27.150Z"
   },
   {
    "duration": -11,
    "start_time": "2022-02-27T20:51:27.151Z"
   },
   {
    "duration": -12,
    "start_time": "2022-02-27T20:51:27.153Z"
   },
   {
    "duration": 43,
    "start_time": "2022-02-27T20:53:38.351Z"
   },
   {
    "duration": 4,
    "start_time": "2022-02-27T20:54:01.788Z"
   },
   {
    "duration": 34,
    "start_time": "2022-02-27T20:54:04.130Z"
   },
   {
    "duration": 20,
    "start_time": "2022-02-27T20:54:13.685Z"
   },
   {
    "duration": 960,
    "start_time": "2022-02-27T20:56:02.107Z"
   },
   {
    "duration": 187,
    "start_time": "2022-02-27T20:56:03.069Z"
   },
   {
    "duration": 87,
    "start_time": "2022-02-27T20:56:03.258Z"
   },
   {
    "duration": 49,
    "start_time": "2022-02-27T20:56:03.348Z"
   },
   {
    "duration": 63,
    "start_time": "2022-02-27T20:56:03.399Z"
   },
   {
    "duration": 41,
    "start_time": "2022-02-27T20:56:03.464Z"
   },
   {
    "duration": 52,
    "start_time": "2022-02-27T20:56:03.507Z"
   },
   {
    "duration": 3,
    "start_time": "2022-02-27T20:56:03.562Z"
   },
   {
    "duration": 45,
    "start_time": "2022-02-27T20:56:03.567Z"
   },
   {
    "duration": 48,
    "start_time": "2022-02-27T20:56:03.614Z"
   },
   {
    "duration": 18,
    "start_time": "2022-02-27T20:56:03.664Z"
   },
   {
    "duration": 26,
    "start_time": "2022-02-27T20:56:03.684Z"
   },
   {
    "duration": 912,
    "start_time": "2022-02-27T20:56:51.199Z"
   },
   {
    "duration": 175,
    "start_time": "2022-02-27T20:56:52.113Z"
   },
   {
    "duration": 93,
    "start_time": "2022-02-27T20:56:52.290Z"
   },
   {
    "duration": 53,
    "start_time": "2022-02-27T20:56:52.385Z"
   },
   {
    "duration": 46,
    "start_time": "2022-02-27T20:56:52.440Z"
   },
   {
    "duration": 58,
    "start_time": "2022-02-27T20:56:52.487Z"
   },
   {
    "duration": 37,
    "start_time": "2022-02-27T20:56:52.547Z"
   },
   {
    "duration": 3,
    "start_time": "2022-02-27T20:56:52.586Z"
   },
   {
    "duration": 67,
    "start_time": "2022-02-27T20:56:52.591Z"
   },
   {
    "duration": 4992,
    "start_time": "2022-02-27T20:56:52.660Z"
   },
   {
    "duration": -39,
    "start_time": "2022-02-27T20:56:57.693Z"
   },
   {
    "duration": -40,
    "start_time": "2022-02-27T20:56:57.695Z"
   },
   {
    "duration": 39,
    "start_time": "2022-02-27T20:57:14.361Z"
   },
   {
    "duration": 27,
    "start_time": "2022-02-27T20:57:39.443Z"
   },
   {
    "duration": 25,
    "start_time": "2022-02-27T20:58:09.543Z"
   },
   {
    "duration": 20,
    "start_time": "2022-02-27T20:58:29.125Z"
   },
   {
    "duration": 30,
    "start_time": "2022-02-27T20:58:40.715Z"
   },
   {
    "duration": 984,
    "start_time": "2022-02-27T21:01:12.274Z"
   },
   {
    "duration": 186,
    "start_time": "2022-02-27T21:01:13.260Z"
   },
   {
    "duration": 104,
    "start_time": "2022-02-27T21:01:13.449Z"
   },
   {
    "duration": 55,
    "start_time": "2022-02-27T21:01:13.555Z"
   },
   {
    "duration": 56,
    "start_time": "2022-02-27T21:01:13.612Z"
   },
   {
    "duration": 40,
    "start_time": "2022-02-27T21:01:13.671Z"
   },
   {
    "duration": 255,
    "start_time": "2022-02-27T21:01:13.712Z"
   },
   {
    "duration": 58,
    "start_time": "2022-02-27T21:01:13.911Z"
   },
   {
    "duration": 58,
    "start_time": "2022-02-27T21:01:13.913Z"
   },
   {
    "duration": 57,
    "start_time": "2022-02-27T21:01:13.915Z"
   },
   {
    "duration": 57,
    "start_time": "2022-02-27T21:01:13.916Z"
   },
   {
    "duration": 56,
    "start_time": "2022-02-27T21:01:13.918Z"
   },
   {
    "duration": 37,
    "start_time": "2022-02-27T21:01:30.487Z"
   },
   {
    "duration": 5,
    "start_time": "2022-02-27T21:01:35.950Z"
   },
   {
    "duration": 48,
    "start_time": "2022-02-27T21:01:46.306Z"
   },
   {
    "duration": 240,
    "start_time": "2022-02-27T21:03:03.554Z"
   },
   {
    "duration": 33,
    "start_time": "2022-02-27T21:03:22.226Z"
   },
   {
    "duration": 29,
    "start_time": "2022-02-27T21:04:34.799Z"
   },
   {
    "duration": 964,
    "start_time": "2022-02-27T21:04:42.229Z"
   },
   {
    "duration": 197,
    "start_time": "2022-02-27T21:04:43.195Z"
   },
   {
    "duration": 94,
    "start_time": "2022-02-27T21:04:43.394Z"
   },
   {
    "duration": 63,
    "start_time": "2022-02-27T21:04:43.490Z"
   },
   {
    "duration": 44,
    "start_time": "2022-02-27T21:04:43.555Z"
   },
   {
    "duration": 58,
    "start_time": "2022-02-27T21:04:43.601Z"
   },
   {
    "duration": 33,
    "start_time": "2022-02-27T21:04:43.660Z"
   },
   {
    "duration": 4,
    "start_time": "2022-02-27T21:04:43.695Z"
   },
   {
    "duration": 76,
    "start_time": "2022-02-27T21:04:43.700Z"
   },
   {
    "duration": 29,
    "start_time": "2022-02-27T21:04:43.778Z"
   },
   {
    "duration": 52,
    "start_time": "2022-02-27T21:04:43.809Z"
   },
   {
    "duration": 26,
    "start_time": "2022-02-27T21:04:43.862Z"
   },
   {
    "duration": 32,
    "start_time": "2022-02-27T21:05:06.817Z"
   },
   {
    "duration": 27,
    "start_time": "2022-02-27T21:05:25.078Z"
   },
   {
    "duration": 34,
    "start_time": "2022-02-27T21:06:43.728Z"
   },
   {
    "duration": 377,
    "start_time": "2022-02-27T21:07:05.578Z"
   },
   {
    "duration": 956,
    "start_time": "2022-02-27T21:07:11.394Z"
   },
   {
    "duration": 422,
    "start_time": "2022-02-27T21:07:12.353Z"
   },
   {
    "duration": 122,
    "start_time": "2022-02-27T21:07:12.777Z"
   },
   {
    "duration": 59,
    "start_time": "2022-02-27T21:07:12.901Z"
   },
   {
    "duration": 43,
    "start_time": "2022-02-27T21:07:12.962Z"
   },
   {
    "duration": 66,
    "start_time": "2022-02-27T21:07:13.006Z"
   },
   {
    "duration": 31,
    "start_time": "2022-02-27T21:07:13.073Z"
   },
   {
    "duration": 3,
    "start_time": "2022-02-27T21:07:13.106Z"
   },
   {
    "duration": 57,
    "start_time": "2022-02-27T21:07:13.111Z"
   },
   {
    "duration": 43,
    "start_time": "2022-02-27T21:07:13.170Z"
   },
   {
    "duration": 52,
    "start_time": "2022-02-27T21:07:13.214Z"
   },
   {
    "duration": 25,
    "start_time": "2022-02-27T21:07:13.268Z"
   },
   {
    "duration": 966,
    "start_time": "2022-02-27T21:08:21.538Z"
   },
   {
    "duration": 173,
    "start_time": "2022-02-27T21:08:22.505Z"
   },
   {
    "duration": 101,
    "start_time": "2022-02-27T21:08:22.679Z"
   },
   {
    "duration": 63,
    "start_time": "2022-02-27T21:08:22.782Z"
   },
   {
    "duration": 44,
    "start_time": "2022-02-27T21:08:22.847Z"
   },
   {
    "duration": 57,
    "start_time": "2022-02-27T21:08:22.893Z"
   },
   {
    "duration": 42,
    "start_time": "2022-02-27T21:08:22.952Z"
   },
   {
    "duration": 3,
    "start_time": "2022-02-27T21:08:22.996Z"
   },
   {
    "duration": 63,
    "start_time": "2022-02-27T21:08:23.001Z"
   },
   {
    "duration": 34,
    "start_time": "2022-02-27T21:08:23.066Z"
   },
   {
    "duration": 55,
    "start_time": "2022-02-27T21:08:23.102Z"
   },
   {
    "duration": 25,
    "start_time": "2022-02-27T21:08:23.159Z"
   },
   {
    "duration": 26,
    "start_time": "2022-02-27T21:09:47.197Z"
   },
   {
    "duration": 25,
    "start_time": "2022-02-27T21:09:58.377Z"
   },
   {
    "duration": 21,
    "start_time": "2022-02-27T21:12:03.092Z"
   },
   {
    "duration": 37,
    "start_time": "2022-02-27T21:13:06.094Z"
   },
   {
    "duration": 486,
    "start_time": "2022-02-27T21:32:24.857Z"
   },
   {
    "duration": 210,
    "start_time": "2022-02-27T21:32:43.218Z"
   },
   {
    "duration": 39,
    "start_time": "2022-02-27T21:32:51.624Z"
   },
   {
    "duration": 1009,
    "start_time": "2022-02-27T21:36:16.053Z"
   },
   {
    "duration": 191,
    "start_time": "2022-02-27T21:36:17.063Z"
   },
   {
    "duration": 92,
    "start_time": "2022-02-27T21:36:17.256Z"
   },
   {
    "duration": 52,
    "start_time": "2022-02-27T21:36:17.350Z"
   },
   {
    "duration": 65,
    "start_time": "2022-02-27T21:36:17.404Z"
   },
   {
    "duration": 44,
    "start_time": "2022-02-27T21:36:17.471Z"
   },
   {
    "duration": 51,
    "start_time": "2022-02-27T21:36:17.517Z"
   },
   {
    "duration": 4,
    "start_time": "2022-02-27T21:36:17.570Z"
   },
   {
    "duration": 45,
    "start_time": "2022-02-27T21:36:17.577Z"
   },
   {
    "duration": 35,
    "start_time": "2022-02-27T21:36:17.624Z"
   },
   {
    "duration": 29,
    "start_time": "2022-02-27T21:36:17.661Z"
   },
   {
    "duration": 19,
    "start_time": "2022-02-27T21:36:17.692Z"
   },
   {
    "duration": 236,
    "start_time": "2022-02-27T21:36:17.713Z"
   },
   {
    "duration": 34,
    "start_time": "2022-02-27T21:36:17.950Z"
   },
   {
    "duration": 32,
    "start_time": "2022-02-27T21:36:17.986Z"
   },
   {
    "duration": 66,
    "start_time": "2022-02-27T21:36:59.722Z"
   },
   {
    "duration": 990,
    "start_time": "2022-02-27T21:37:22.056Z"
   },
   {
    "duration": 193,
    "start_time": "2022-02-27T21:37:23.049Z"
   },
   {
    "duration": 79,
    "start_time": "2022-02-27T21:37:23.248Z"
   },
   {
    "duration": 57,
    "start_time": "2022-02-27T21:37:23.329Z"
   },
   {
    "duration": 61,
    "start_time": "2022-02-27T21:37:23.387Z"
   },
   {
    "duration": 46,
    "start_time": "2022-02-27T21:37:23.450Z"
   },
   {
    "duration": 60,
    "start_time": "2022-02-27T21:37:23.497Z"
   },
   {
    "duration": 3,
    "start_time": "2022-02-27T21:37:23.559Z"
   },
   {
    "duration": 47,
    "start_time": "2022-02-27T21:37:23.565Z"
   },
   {
    "duration": 10,
    "start_time": "2022-02-27T21:37:23.614Z"
   },
   {
    "duration": 38,
    "start_time": "2022-02-27T21:37:23.626Z"
   },
   {
    "duration": 76,
    "start_time": "2022-02-27T21:37:23.665Z"
   },
   {
    "duration": 222,
    "start_time": "2022-02-27T21:37:23.743Z"
   },
   {
    "duration": 31,
    "start_time": "2022-02-27T21:37:23.967Z"
   },
   {
    "duration": 54,
    "start_time": "2022-02-27T21:37:24.000Z"
   },
   {
    "duration": 999,
    "start_time": "2022-02-27T21:38:33.437Z"
   },
   {
    "duration": 204,
    "start_time": "2022-02-27T21:38:34.438Z"
   },
   {
    "duration": 79,
    "start_time": "2022-02-27T21:38:34.644Z"
   },
   {
    "duration": 58,
    "start_time": "2022-02-27T21:38:34.725Z"
   },
   {
    "duration": 57,
    "start_time": "2022-02-27T21:38:34.785Z"
   },
   {
    "duration": 46,
    "start_time": "2022-02-27T21:38:34.844Z"
   },
   {
    "duration": 46,
    "start_time": "2022-02-27T21:38:34.892Z"
   },
   {
    "duration": 13,
    "start_time": "2022-02-27T21:38:34.939Z"
   },
   {
    "duration": 44,
    "start_time": "2022-02-27T21:38:34.955Z"
   },
   {
    "duration": 10,
    "start_time": "2022-02-27T21:38:35.001Z"
   },
   {
    "duration": 42,
    "start_time": "2022-02-27T21:38:35.013Z"
   },
   {
    "duration": 33,
    "start_time": "2022-02-27T21:38:35.057Z"
   },
   {
    "duration": 227,
    "start_time": "2022-02-27T21:38:35.093Z"
   },
   {
    "duration": 38,
    "start_time": "2022-02-27T21:38:35.322Z"
   },
   {
    "duration": 30,
    "start_time": "2022-02-27T21:38:35.362Z"
   },
   {
    "duration": 9,
    "start_time": "2022-02-27T21:39:10.816Z"
   },
   {
    "duration": 1012,
    "start_time": "2022-02-27T21:40:05.851Z"
   },
   {
    "duration": 195,
    "start_time": "2022-02-27T21:40:06.865Z"
   },
   {
    "duration": 96,
    "start_time": "2022-02-27T21:40:07.062Z"
   },
   {
    "duration": 50,
    "start_time": "2022-02-27T21:40:07.160Z"
   },
   {
    "duration": 66,
    "start_time": "2022-02-27T21:40:07.212Z"
   },
   {
    "duration": 61,
    "start_time": "2022-02-27T21:40:07.280Z"
   },
   {
    "duration": 36,
    "start_time": "2022-02-27T21:40:07.342Z"
   },
   {
    "duration": 3,
    "start_time": "2022-02-27T21:40:07.380Z"
   },
   {
    "duration": 59,
    "start_time": "2022-02-27T21:40:07.386Z"
   },
   {
    "duration": 33,
    "start_time": "2022-02-27T21:40:07.447Z"
   },
   {
    "duration": 25,
    "start_time": "2022-02-27T21:40:07.481Z"
   },
   {
    "duration": 44,
    "start_time": "2022-02-27T21:40:07.508Z"
   },
   {
    "duration": 212,
    "start_time": "2022-02-27T21:40:07.554Z"
   },
   {
    "duration": 33,
    "start_time": "2022-02-27T21:40:07.767Z"
   },
   {
    "duration": 9,
    "start_time": "2022-02-27T21:40:07.801Z"
   },
   {
    "duration": 1002,
    "start_time": "2022-02-27T21:41:01.499Z"
   },
   {
    "duration": 185,
    "start_time": "2022-02-27T21:41:02.503Z"
   },
   {
    "duration": 100,
    "start_time": "2022-02-27T21:41:02.690Z"
   },
   {
    "duration": 62,
    "start_time": "2022-02-27T21:41:02.792Z"
   },
   {
    "duration": 49,
    "start_time": "2022-02-27T21:41:02.856Z"
   },
   {
    "duration": 54,
    "start_time": "2022-02-27T21:41:02.907Z"
   },
   {
    "duration": 35,
    "start_time": "2022-02-27T21:41:02.963Z"
   },
   {
    "duration": 4,
    "start_time": "2022-02-27T21:41:03.000Z"
   },
   {
    "duration": 63,
    "start_time": "2022-02-27T21:41:03.006Z"
   },
   {
    "duration": 15,
    "start_time": "2022-02-27T21:41:03.071Z"
   },
   {
    "duration": 30,
    "start_time": "2022-02-27T21:41:03.088Z"
   },
   {
    "duration": 43,
    "start_time": "2022-02-27T21:41:03.120Z"
   },
   {
    "duration": 212,
    "start_time": "2022-02-27T21:41:03.165Z"
   },
   {
    "duration": 31,
    "start_time": "2022-02-27T21:41:03.378Z"
   },
   {
    "duration": 8,
    "start_time": "2022-02-27T21:41:03.410Z"
   },
   {
    "duration": 350,
    "start_time": "2022-02-28T20:26:52.591Z"
   },
   {
    "duration": 1328,
    "start_time": "2022-02-28T20:26:58.253Z"
   },
   {
    "duration": 261,
    "start_time": "2022-02-28T20:26:59.584Z"
   },
   {
    "duration": 125,
    "start_time": "2022-02-28T20:26:59.848Z"
   },
   {
    "duration": 72,
    "start_time": "2022-02-28T20:26:59.976Z"
   },
   {
    "duration": 78,
    "start_time": "2022-02-28T20:27:00.051Z"
   },
   {
    "duration": 72,
    "start_time": "2022-02-28T20:27:00.131Z"
   },
   {
    "duration": 47,
    "start_time": "2022-02-28T20:27:00.206Z"
   },
   {
    "duration": 18,
    "start_time": "2022-02-28T20:27:00.257Z"
   },
   {
    "duration": 81,
    "start_time": "2022-02-28T20:27:00.278Z"
   },
   {
    "duration": 33,
    "start_time": "2022-02-28T20:27:00.361Z"
   },
   {
    "duration": 47,
    "start_time": "2022-02-28T20:27:00.396Z"
   },
   {
    "duration": 53,
    "start_time": "2022-02-28T20:27:00.447Z"
   },
   {
    "duration": 370,
    "start_time": "2022-02-28T20:27:00.503Z"
   },
   {
    "duration": 54,
    "start_time": "2022-02-28T20:27:00.876Z"
   },
   {
    "duration": 13,
    "start_time": "2022-02-28T20:27:00.933Z"
   },
   {
    "duration": 49,
    "start_time": "2022-02-28T20:27:00.973Z"
   },
   {
    "duration": 16,
    "start_time": "2022-02-28T20:27:19.558Z"
   },
   {
    "duration": 33,
    "start_time": "2022-02-28T20:27:44.797Z"
   },
   {
    "duration": 16,
    "start_time": "2022-02-28T20:27:45.975Z"
   },
   {
    "duration": 23,
    "start_time": "2022-02-28T20:28:22.291Z"
   },
   {
    "duration": 11,
    "start_time": "2022-02-28T20:28:24.379Z"
   },
   {
    "duration": 28,
    "start_time": "2022-02-28T20:29:13.737Z"
   },
   {
    "duration": 11,
    "start_time": "2022-02-28T20:29:15.432Z"
   },
   {
    "duration": 3001,
    "start_time": "2022-02-28T20:30:37.556Z"
   },
   {
    "duration": 310,
    "start_time": "2022-02-28T20:31:18.229Z"
   },
   {
    "duration": 338,
    "start_time": "2022-02-28T20:33:49.328Z"
   },
   {
    "duration": 73,
    "start_time": "2022-02-28T20:38:22.297Z"
   },
   {
    "duration": 610,
    "start_time": "2022-02-28T20:38:31.028Z"
   },
   {
    "duration": 546,
    "start_time": "2022-02-28T20:38:39.424Z"
   },
   {
    "duration": 128,
    "start_time": "2022-02-28T20:40:27.218Z"
   },
   {
    "duration": 131,
    "start_time": "2022-02-28T20:40:31.170Z"
   },
   {
    "duration": 107,
    "start_time": "2022-02-28T20:41:00.798Z"
   },
   {
    "duration": 394,
    "start_time": "2022-02-28T20:41:13.228Z"
   },
   {
    "duration": 5,
    "start_time": "2022-02-28T20:43:06.806Z"
   },
   {
    "duration": 455,
    "start_time": "2022-02-28T20:44:23.714Z"
   },
   {
    "duration": 375,
    "start_time": "2022-02-28T20:45:47.373Z"
   },
   {
    "duration": 357,
    "start_time": "2022-02-28T20:46:24.894Z"
   },
   {
    "duration": 51,
    "start_time": "2022-02-28T20:49:25.191Z"
   },
   {
    "duration": 59,
    "start_time": "2022-02-28T20:49:37.549Z"
   },
   {
    "duration": 35,
    "start_time": "2022-02-28T20:49:52.360Z"
   },
   {
    "duration": 32,
    "start_time": "2022-02-28T20:51:47.608Z"
   },
   {
    "duration": 33,
    "start_time": "2022-02-28T20:52:20.419Z"
   },
   {
    "duration": 1190,
    "start_time": "2022-03-22T09:48:07.668Z"
   },
   {
    "duration": 213,
    "start_time": "2022-03-22T09:48:08.861Z"
   },
   {
    "duration": 76,
    "start_time": "2022-03-22T09:48:09.076Z"
   },
   {
    "duration": 52,
    "start_time": "2022-03-22T09:48:09.164Z"
   },
   {
    "duration": 54,
    "start_time": "2022-03-22T09:48:09.217Z"
   },
   {
    "duration": 34,
    "start_time": "2022-03-22T09:48:09.273Z"
   },
   {
    "duration": 33,
    "start_time": "2022-03-22T09:48:09.308Z"
   },
   {
    "duration": 4,
    "start_time": "2022-03-22T09:48:09.362Z"
   },
   {
    "duration": 46,
    "start_time": "2022-03-22T09:48:09.368Z"
   },
   {
    "duration": 13,
    "start_time": "2022-03-22T09:48:09.417Z"
   },
   {
    "duration": 43,
    "start_time": "2022-03-22T09:48:09.431Z"
   },
   {
    "duration": 23,
    "start_time": "2022-03-22T09:48:09.476Z"
   },
   {
    "duration": 124,
    "start_time": "2022-03-22T09:48:09.501Z"
   },
   {
    "duration": 38,
    "start_time": "2022-03-22T09:48:09.627Z"
   },
   {
    "duration": 13,
    "start_time": "2022-03-22T09:48:09.666Z"
   },
   {
    "duration": 5,
    "start_time": "2022-03-22T09:48:09.680Z"
   },
   {
    "duration": 783,
    "start_time": "2022-03-22T09:48:09.686Z"
   },
   {
    "duration": 157,
    "start_time": "2022-03-22T09:48:10.471Z"
   },
   {
    "duration": 161,
    "start_time": "2022-03-22T09:48:10.629Z"
   },
   {
    "duration": 21,
    "start_time": "2022-03-22T09:48:10.791Z"
   },
   {
    "duration": 19,
    "start_time": "2022-03-22T09:48:10.814Z"
   },
   {
    "duration": 39,
    "start_time": "2022-03-22T09:48:10.834Z"
   },
   {
    "duration": 111,
    "start_time": "2022-03-22T09:48:10.875Z"
   },
   {
    "duration": 14,
    "start_time": "2022-03-22T09:49:13.483Z"
   },
   {
    "duration": 18,
    "start_time": "2022-03-22T09:50:26.296Z"
   },
   {
    "duration": 1177,
    "start_time": "2022-03-22T09:51:56.483Z"
   },
   {
    "duration": 208,
    "start_time": "2022-03-22T09:51:57.661Z"
   },
   {
    "duration": 72,
    "start_time": "2022-03-22T09:51:57.871Z"
   },
   {
    "duration": 62,
    "start_time": "2022-03-22T09:51:57.946Z"
   },
   {
    "duration": 56,
    "start_time": "2022-03-22T09:51:58.009Z"
   },
   {
    "duration": 33,
    "start_time": "2022-03-22T09:51:58.066Z"
   },
   {
    "duration": 32,
    "start_time": "2022-03-22T09:51:58.101Z"
   },
   {
    "duration": 4,
    "start_time": "2022-03-22T09:51:58.134Z"
   },
   {
    "duration": 37,
    "start_time": "2022-03-22T09:51:58.163Z"
   },
   {
    "duration": 10,
    "start_time": "2022-03-22T09:51:58.203Z"
   },
   {
    "duration": 24,
    "start_time": "2022-03-22T09:51:58.215Z"
   },
   {
    "duration": 41,
    "start_time": "2022-03-22T09:51:58.241Z"
   },
   {
    "duration": 1154,
    "start_time": "2022-03-22T09:51:58.284Z"
   },
   {
    "duration": 0,
    "start_time": "2022-03-22T09:51:59.440Z"
   },
   {
    "duration": 0,
    "start_time": "2022-03-22T09:51:59.441Z"
   },
   {
    "duration": 0,
    "start_time": "2022-03-22T09:51:59.442Z"
   },
   {
    "duration": 0,
    "start_time": "2022-03-22T09:51:59.443Z"
   },
   {
    "duration": 0,
    "start_time": "2022-03-22T09:51:59.444Z"
   },
   {
    "duration": 0,
    "start_time": "2022-03-22T09:51:59.445Z"
   },
   {
    "duration": 0,
    "start_time": "2022-03-22T09:51:59.446Z"
   },
   {
    "duration": 0,
    "start_time": "2022-03-22T09:51:59.447Z"
   },
   {
    "duration": 0,
    "start_time": "2022-03-22T09:51:59.447Z"
   },
   {
    "duration": 0,
    "start_time": "2022-03-22T09:51:59.448Z"
   },
   {
    "duration": 30,
    "start_time": "2022-03-22T10:57:19.116Z"
   },
   {
    "duration": 8575,
    "start_time": "2022-03-22T11:00:55.028Z"
   },
   {
    "duration": 0,
    "start_time": "2022-03-22T11:01:03.605Z"
   },
   {
    "duration": 1161,
    "start_time": "2022-03-22T11:02:21.505Z"
   },
   {
    "duration": 212,
    "start_time": "2022-03-22T11:02:22.668Z"
   },
   {
    "duration": 93,
    "start_time": "2022-03-22T11:02:22.881Z"
   },
   {
    "duration": 52,
    "start_time": "2022-03-22T11:02:22.976Z"
   },
   {
    "duration": 66,
    "start_time": "2022-03-22T11:02:23.030Z"
   },
   {
    "duration": 36,
    "start_time": "2022-03-22T11:02:23.098Z"
   },
   {
    "duration": 55,
    "start_time": "2022-03-22T11:02:23.136Z"
   },
   {
    "duration": 4,
    "start_time": "2022-03-22T11:02:23.193Z"
   },
   {
    "duration": 52,
    "start_time": "2022-03-22T11:02:23.199Z"
   },
   {
    "duration": 14,
    "start_time": "2022-03-22T11:02:23.254Z"
   },
   {
    "duration": 73,
    "start_time": "2022-03-22T11:02:23.269Z"
   },
   {
    "duration": 13,
    "start_time": "2022-03-22T11:02:23.344Z"
   },
   {
    "duration": 22,
    "start_time": "2022-03-22T11:02:23.359Z"
   },
   {
    "duration": 1585,
    "start_time": "2022-03-22T11:02:23.383Z"
   },
   {
    "duration": 0,
    "start_time": "2022-03-22T11:02:24.969Z"
   },
   {
    "duration": 1,
    "start_time": "2022-03-22T11:02:24.970Z"
   },
   {
    "duration": 0,
    "start_time": "2022-03-22T11:02:24.971Z"
   },
   {
    "duration": 0,
    "start_time": "2022-03-22T11:02:24.972Z"
   },
   {
    "duration": 0,
    "start_time": "2022-03-22T11:02:24.974Z"
   },
   {
    "duration": 0,
    "start_time": "2022-03-22T11:02:24.974Z"
   },
   {
    "duration": 0,
    "start_time": "2022-03-22T11:02:24.975Z"
   },
   {
    "duration": 0,
    "start_time": "2022-03-22T11:02:24.977Z"
   },
   {
    "duration": 0,
    "start_time": "2022-03-22T11:02:24.977Z"
   },
   {
    "duration": 0,
    "start_time": "2022-03-22T11:02:24.978Z"
   },
   {
    "duration": 1171,
    "start_time": "2022-03-22T11:03:44.497Z"
   },
   {
    "duration": 207,
    "start_time": "2022-03-22T11:03:45.670Z"
   },
   {
    "duration": 89,
    "start_time": "2022-03-22T11:03:45.879Z"
   },
   {
    "duration": 53,
    "start_time": "2022-03-22T11:03:45.970Z"
   },
   {
    "duration": 71,
    "start_time": "2022-03-22T11:03:46.024Z"
   },
   {
    "duration": 37,
    "start_time": "2022-03-22T11:03:46.097Z"
   },
   {
    "duration": 45,
    "start_time": "2022-03-22T11:03:46.136Z"
   },
   {
    "duration": 4,
    "start_time": "2022-03-22T11:03:46.183Z"
   },
   {
    "duration": 44,
    "start_time": "2022-03-22T11:03:46.188Z"
   },
   {
    "duration": 9216,
    "start_time": "2022-03-22T11:03:46.235Z"
   },
   {
    "duration": 0,
    "start_time": "2022-03-22T11:03:55.453Z"
   },
   {
    "duration": 0,
    "start_time": "2022-03-22T11:03:55.455Z"
   },
   {
    "duration": 0,
    "start_time": "2022-03-22T11:03:55.456Z"
   },
   {
    "duration": 0,
    "start_time": "2022-03-22T11:03:55.457Z"
   },
   {
    "duration": 0,
    "start_time": "2022-03-22T11:03:55.458Z"
   },
   {
    "duration": 0,
    "start_time": "2022-03-22T11:03:55.459Z"
   },
   {
    "duration": 0,
    "start_time": "2022-03-22T11:03:55.460Z"
   },
   {
    "duration": 0,
    "start_time": "2022-03-22T11:03:55.461Z"
   },
   {
    "duration": 0,
    "start_time": "2022-03-22T11:03:55.463Z"
   },
   {
    "duration": 0,
    "start_time": "2022-03-22T11:03:55.464Z"
   },
   {
    "duration": 1,
    "start_time": "2022-03-22T11:03:55.464Z"
   },
   {
    "duration": 0,
    "start_time": "2022-03-22T11:03:55.466Z"
   },
   {
    "duration": 0,
    "start_time": "2022-03-22T11:03:55.467Z"
   },
   {
    "duration": 0,
    "start_time": "2022-03-22T11:03:55.468Z"
   },
   {
    "duration": 0,
    "start_time": "2022-03-22T11:03:55.469Z"
   },
   {
    "duration": 1205,
    "start_time": "2022-03-22T11:04:28.560Z"
   },
   {
    "duration": 197,
    "start_time": "2022-03-22T11:04:29.767Z"
   },
   {
    "duration": 98,
    "start_time": "2022-03-22T11:04:29.965Z"
   },
   {
    "duration": 53,
    "start_time": "2022-03-22T11:04:30.065Z"
   },
   {
    "duration": 62,
    "start_time": "2022-03-22T11:04:30.120Z"
   },
   {
    "duration": 37,
    "start_time": "2022-03-22T11:04:30.183Z"
   },
   {
    "duration": 53,
    "start_time": "2022-03-22T11:04:30.222Z"
   },
   {
    "duration": 3,
    "start_time": "2022-03-22T11:04:30.277Z"
   },
   {
    "duration": 94,
    "start_time": "2022-03-22T11:04:30.282Z"
   },
   {
    "duration": 5,
    "start_time": "2022-03-22T11:04:30.379Z"
   },
   {
    "duration": 16,
    "start_time": "2022-03-22T11:04:30.385Z"
   },
   {
    "duration": 80,
    "start_time": "2022-03-22T11:04:30.403Z"
   },
   {
    "duration": 14,
    "start_time": "2022-03-22T11:04:30.484Z"
   },
   {
    "duration": 82,
    "start_time": "2022-03-22T11:04:30.499Z"
   },
   {
    "duration": 381,
    "start_time": "2022-03-22T11:04:30.582Z"
   },
   {
    "duration": 98,
    "start_time": "2022-03-22T11:04:30.966Z"
   },
   {
    "duration": 12,
    "start_time": "2022-03-22T11:04:31.066Z"
   },
   {
    "duration": 8,
    "start_time": "2022-03-22T11:04:31.080Z"
   },
   {
    "duration": 1307,
    "start_time": "2022-03-22T11:04:31.090Z"
   },
   {
    "duration": 180,
    "start_time": "2022-03-22T11:04:32.399Z"
   },
   {
    "duration": 162,
    "start_time": "2022-03-22T11:04:32.580Z"
   },
   {
    "duration": 30,
    "start_time": "2022-03-22T11:04:32.744Z"
   },
   {
    "duration": 24,
    "start_time": "2022-03-22T11:04:32.776Z"
   },
   {
    "duration": 19,
    "start_time": "2022-03-22T11:04:32.801Z"
   },
   {
    "duration": 16,
    "start_time": "2022-03-22T11:04:32.821Z"
   },
   {
    "duration": 1605,
    "start_time": "2022-03-22T11:07:33.325Z"
   },
   {
    "duration": 237,
    "start_time": "2022-03-22T11:07:34.933Z"
   },
   {
    "duration": 91,
    "start_time": "2022-03-22T11:07:35.172Z"
   },
   {
    "duration": 52,
    "start_time": "2022-03-22T11:07:35.265Z"
   },
   {
    "duration": 60,
    "start_time": "2022-03-22T11:07:35.318Z"
   },
   {
    "duration": 34,
    "start_time": "2022-03-22T11:07:35.380Z"
   },
   {
    "duration": 51,
    "start_time": "2022-03-22T11:07:35.415Z"
   },
   {
    "duration": 4,
    "start_time": "2022-03-22T11:07:35.467Z"
   },
   {
    "duration": 38,
    "start_time": "2022-03-22T11:07:35.473Z"
   },
   {
    "duration": 5,
    "start_time": "2022-03-22T11:07:35.513Z"
   },
   {
    "duration": 17,
    "start_time": "2022-03-22T11:07:35.520Z"
   },
   {
    "duration": 41,
    "start_time": "2022-03-22T11:07:35.539Z"
   },
   {
    "duration": 13,
    "start_time": "2022-03-22T11:07:35.582Z"
   },
   {
    "duration": 21,
    "start_time": "2022-03-22T11:07:35.596Z"
   },
   {
    "duration": 150,
    "start_time": "2022-03-22T11:07:35.619Z"
   },
   {
    "duration": 29,
    "start_time": "2022-03-22T11:07:35.771Z"
   },
   {
    "duration": 12,
    "start_time": "2022-03-22T11:07:35.801Z"
   },
   {
    "duration": 9,
    "start_time": "2022-03-22T11:07:35.814Z"
   },
   {
    "duration": 733,
    "start_time": "2022-03-22T11:07:35.824Z"
   },
   {
    "duration": 168,
    "start_time": "2022-03-22T11:07:36.559Z"
   },
   {
    "duration": 175,
    "start_time": "2022-03-22T11:07:36.729Z"
   },
   {
    "duration": 22,
    "start_time": "2022-03-22T11:07:36.905Z"
   },
   {
    "duration": 43,
    "start_time": "2022-03-22T11:07:36.928Z"
   },
   {
    "duration": 21,
    "start_time": "2022-03-22T11:07:36.972Z"
   },
   {
    "duration": 18,
    "start_time": "2022-03-22T11:07:36.995Z"
   },
   {
    "duration": 17,
    "start_time": "2022-03-22T11:21:24.859Z"
   },
   {
    "duration": 11,
    "start_time": "2022-03-22T11:28:41.094Z"
   },
   {
    "duration": 12,
    "start_time": "2022-03-22T11:29:00.940Z"
   },
   {
    "duration": 161,
    "start_time": "2022-03-22T11:30:22.969Z"
   },
   {
    "duration": 100,
    "start_time": "2022-03-22T11:33:50.971Z"
   },
   {
    "duration": 14,
    "start_time": "2022-03-22T11:34:03.349Z"
   },
   {
    "duration": 12,
    "start_time": "2022-03-22T11:34:27.970Z"
   },
   {
    "duration": 9,
    "start_time": "2022-03-22T12:46:43.211Z"
   },
   {
    "duration": 11,
    "start_time": "2022-03-22T12:46:53.134Z"
   },
   {
    "duration": 16,
    "start_time": "2022-03-22T12:47:09.609Z"
   },
   {
    "duration": 13,
    "start_time": "2022-03-22T12:49:14.027Z"
   },
   {
    "duration": 1486,
    "start_time": "2022-03-23T06:52:06.083Z"
   },
   {
    "duration": 267,
    "start_time": "2022-03-23T06:52:07.575Z"
   },
   {
    "duration": 120,
    "start_time": "2022-03-23T06:52:07.845Z"
   },
   {
    "duration": 68,
    "start_time": "2022-03-23T06:52:07.968Z"
   },
   {
    "duration": 85,
    "start_time": "2022-03-23T06:52:08.038Z"
   },
   {
    "duration": 41,
    "start_time": "2022-03-23T06:52:08.126Z"
   },
   {
    "duration": 46,
    "start_time": "2022-03-23T06:52:08.182Z"
   },
   {
    "duration": 5,
    "start_time": "2022-03-23T06:52:08.230Z"
   },
   {
    "duration": 91,
    "start_time": "2022-03-23T06:52:08.238Z"
   },
   {
    "duration": 7,
    "start_time": "2022-03-23T06:52:08.332Z"
   },
   {
    "duration": 23,
    "start_time": "2022-03-23T06:52:08.341Z"
   },
   {
    "duration": 50,
    "start_time": "2022-03-23T06:52:08.367Z"
   },
   {
    "duration": 20,
    "start_time": "2022-03-23T06:52:08.419Z"
   },
   {
    "duration": 58,
    "start_time": "2022-03-23T06:52:08.441Z"
   },
   {
    "duration": 206,
    "start_time": "2022-03-23T06:52:08.501Z"
   },
   {
    "duration": 46,
    "start_time": "2022-03-23T06:52:08.709Z"
   },
   {
    "duration": 35,
    "start_time": "2022-03-23T06:52:08.757Z"
   },
   {
    "duration": 5,
    "start_time": "2022-03-23T06:52:08.794Z"
   },
   {
    "duration": 895,
    "start_time": "2022-03-23T06:52:08.802Z"
   },
   {
    "duration": 257,
    "start_time": "2022-03-23T06:52:09.699Z"
   },
   {
    "duration": 261,
    "start_time": "2022-03-23T06:52:09.959Z"
   },
   {
    "duration": 31,
    "start_time": "2022-03-23T06:52:10.222Z"
   },
   {
    "duration": 49,
    "start_time": "2022-03-23T06:52:10.256Z"
   },
   {
    "duration": 28,
    "start_time": "2022-03-23T06:52:10.307Z"
   },
   {
    "duration": 277,
    "start_time": "2022-03-23T06:52:10.338Z"
   },
   {
    "duration": 20,
    "start_time": "2022-03-23T06:52:10.618Z"
   },
   {
    "duration": 44,
    "start_time": "2022-03-23T06:52:10.640Z"
   },
   {
    "duration": 169,
    "start_time": "2022-03-23T10:19:08.015Z"
   },
   {
    "duration": 152,
    "start_time": "2022-03-23T10:49:14.584Z"
   },
   {
    "duration": 149,
    "start_time": "2022-03-23T10:52:46.773Z"
   },
   {
    "duration": 45,
    "start_time": "2022-03-23T10:53:59.209Z"
   },
   {
    "duration": 1232,
    "start_time": "2022-03-23T10:54:06.934Z"
   },
   {
    "duration": 210,
    "start_time": "2022-03-23T10:54:08.168Z"
   },
   {
    "duration": 191,
    "start_time": "2022-03-23T10:54:08.379Z"
   },
   {
    "duration": 0,
    "start_time": "2022-03-23T10:54:08.572Z"
   },
   {
    "duration": 0,
    "start_time": "2022-03-23T10:54:08.574Z"
   },
   {
    "duration": 0,
    "start_time": "2022-03-23T10:54:08.575Z"
   },
   {
    "duration": 0,
    "start_time": "2022-03-23T10:54:08.575Z"
   },
   {
    "duration": 0,
    "start_time": "2022-03-23T10:54:08.576Z"
   },
   {
    "duration": 0,
    "start_time": "2022-03-23T10:54:08.577Z"
   },
   {
    "duration": 0,
    "start_time": "2022-03-23T10:54:08.579Z"
   },
   {
    "duration": 0,
    "start_time": "2022-03-23T10:54:08.580Z"
   },
   {
    "duration": 0,
    "start_time": "2022-03-23T10:54:08.581Z"
   },
   {
    "duration": 0,
    "start_time": "2022-03-23T10:54:08.582Z"
   },
   {
    "duration": 0,
    "start_time": "2022-03-23T10:54:08.583Z"
   },
   {
    "duration": 0,
    "start_time": "2022-03-23T10:54:08.584Z"
   },
   {
    "duration": 0,
    "start_time": "2022-03-23T10:54:08.585Z"
   },
   {
    "duration": 0,
    "start_time": "2022-03-23T10:54:08.585Z"
   },
   {
    "duration": 0,
    "start_time": "2022-03-23T10:54:08.586Z"
   },
   {
    "duration": 0,
    "start_time": "2022-03-23T10:54:08.588Z"
   },
   {
    "duration": 0,
    "start_time": "2022-03-23T10:54:08.588Z"
   },
   {
    "duration": 0,
    "start_time": "2022-03-23T10:54:08.589Z"
   },
   {
    "duration": 0,
    "start_time": "2022-03-23T10:54:08.590Z"
   },
   {
    "duration": 0,
    "start_time": "2022-03-23T10:54:08.591Z"
   },
   {
    "duration": 0,
    "start_time": "2022-03-23T10:54:08.592Z"
   },
   {
    "duration": 0,
    "start_time": "2022-03-23T10:54:08.593Z"
   },
   {
    "duration": 8,
    "start_time": "2022-03-23T10:59:59.513Z"
   },
   {
    "duration": 1239,
    "start_time": "2022-03-23T11:00:14.644Z"
   },
   {
    "duration": 188,
    "start_time": "2022-03-23T11:00:15.885Z"
   },
   {
    "duration": 100,
    "start_time": "2022-03-23T11:00:16.076Z"
   },
   {
    "duration": 0,
    "start_time": "2022-03-23T11:00:16.178Z"
   },
   {
    "duration": 0,
    "start_time": "2022-03-23T11:00:16.180Z"
   },
   {
    "duration": 0,
    "start_time": "2022-03-23T11:00:16.181Z"
   },
   {
    "duration": 0,
    "start_time": "2022-03-23T11:00:16.182Z"
   },
   {
    "duration": 0,
    "start_time": "2022-03-23T11:00:16.183Z"
   },
   {
    "duration": 0,
    "start_time": "2022-03-23T11:00:16.184Z"
   },
   {
    "duration": 0,
    "start_time": "2022-03-23T11:00:16.185Z"
   },
   {
    "duration": 0,
    "start_time": "2022-03-23T11:00:16.186Z"
   },
   {
    "duration": 0,
    "start_time": "2022-03-23T11:00:16.187Z"
   },
   {
    "duration": 0,
    "start_time": "2022-03-23T11:00:16.188Z"
   },
   {
    "duration": 0,
    "start_time": "2022-03-23T11:00:16.189Z"
   },
   {
    "duration": 0,
    "start_time": "2022-03-23T11:00:16.189Z"
   },
   {
    "duration": 0,
    "start_time": "2022-03-23T11:00:16.190Z"
   },
   {
    "duration": 0,
    "start_time": "2022-03-23T11:00:16.191Z"
   },
   {
    "duration": 0,
    "start_time": "2022-03-23T11:00:16.192Z"
   },
   {
    "duration": 0,
    "start_time": "2022-03-23T11:00:16.193Z"
   },
   {
    "duration": 0,
    "start_time": "2022-03-23T11:00:16.194Z"
   },
   {
    "duration": 0,
    "start_time": "2022-03-23T11:00:16.195Z"
   },
   {
    "duration": 0,
    "start_time": "2022-03-23T11:00:16.195Z"
   },
   {
    "duration": 0,
    "start_time": "2022-03-23T11:00:16.196Z"
   },
   {
    "duration": 0,
    "start_time": "2022-03-23T11:00:16.197Z"
   },
   {
    "duration": 0,
    "start_time": "2022-03-23T11:00:16.198Z"
   },
   {
    "duration": 0,
    "start_time": "2022-03-23T11:00:16.199Z"
   },
   {
    "duration": 0,
    "start_time": "2022-03-23T11:00:16.200Z"
   },
   {
    "duration": 0,
    "start_time": "2022-03-23T11:00:16.201Z"
   },
   {
    "duration": 0,
    "start_time": "2022-03-23T11:00:16.201Z"
   },
   {
    "duration": 0,
    "start_time": "2022-03-23T11:00:16.202Z"
   },
   {
    "duration": 0,
    "start_time": "2022-03-23T11:00:16.203Z"
   },
   {
    "duration": 0,
    "start_time": "2022-03-23T11:00:16.204Z"
   },
   {
    "duration": 0,
    "start_time": "2022-03-23T11:00:16.205Z"
   },
   {
    "duration": 0,
    "start_time": "2022-03-23T11:00:16.206Z"
   },
   {
    "duration": 0,
    "start_time": "2022-03-23T11:00:16.207Z"
   },
   {
    "duration": 1240,
    "start_time": "2022-03-23T11:05:57.536Z"
   },
   {
    "duration": 189,
    "start_time": "2022-03-23T11:05:58.778Z"
   },
   {
    "duration": 35,
    "start_time": "2022-03-23T11:05:58.969Z"
   },
   {
    "duration": 24,
    "start_time": "2022-03-23T11:05:59.006Z"
   },
   {
    "duration": 42,
    "start_time": "2022-03-23T11:05:59.032Z"
   },
   {
    "duration": 21,
    "start_time": "2022-03-23T11:05:59.076Z"
   },
   {
    "duration": 17,
    "start_time": "2022-03-23T11:05:59.099Z"
   },
   {
    "duration": 20,
    "start_time": "2022-03-23T11:05:59.118Z"
   },
   {
    "duration": 66,
    "start_time": "2022-03-23T11:05:59.140Z"
   },
   {
    "duration": 31,
    "start_time": "2022-03-23T11:05:59.209Z"
   },
   {
    "duration": 40,
    "start_time": "2022-03-23T11:05:59.242Z"
   },
   {
    "duration": 4,
    "start_time": "2022-03-23T11:05:59.283Z"
   },
   {
    "duration": 40,
    "start_time": "2022-03-23T11:05:59.288Z"
   },
   {
    "duration": 5,
    "start_time": "2022-03-23T11:05:59.330Z"
   },
   {
    "duration": 28,
    "start_time": "2022-03-23T11:05:59.336Z"
   },
   {
    "duration": 4,
    "start_time": "2022-03-23T11:05:59.365Z"
   },
   {
    "duration": 6,
    "start_time": "2022-03-23T11:05:59.371Z"
   },
   {
    "duration": 10,
    "start_time": "2022-03-23T11:05:59.378Z"
   },
   {
    "duration": 11,
    "start_time": "2022-03-23T11:05:59.389Z"
   },
   {
    "duration": 19,
    "start_time": "2022-03-23T11:05:59.402Z"
   },
   {
    "duration": 8,
    "start_time": "2022-03-23T11:05:59.423Z"
   },
   {
    "duration": 7,
    "start_time": "2022-03-23T11:05:59.432Z"
   },
   {
    "duration": 13,
    "start_time": "2022-03-23T11:05:59.441Z"
   },
   {
    "duration": 36,
    "start_time": "2022-03-23T11:05:59.456Z"
   },
   {
    "duration": 710,
    "start_time": "2022-03-23T11:05:59.493Z"
   },
   {
    "duration": 0,
    "start_time": "2022-03-23T11:06:00.205Z"
   },
   {
    "duration": 0,
    "start_time": "2022-03-23T11:06:00.206Z"
   },
   {
    "duration": 0,
    "start_time": "2022-03-23T11:06:00.207Z"
   },
   {
    "duration": 0,
    "start_time": "2022-03-23T11:06:00.209Z"
   },
   {
    "duration": 0,
    "start_time": "2022-03-23T11:06:00.210Z"
   },
   {
    "duration": 0,
    "start_time": "2022-03-23T11:06:00.211Z"
   },
   {
    "duration": 0,
    "start_time": "2022-03-23T11:06:00.212Z"
   },
   {
    "duration": 0,
    "start_time": "2022-03-23T11:06:00.213Z"
   },
   {
    "duration": 0,
    "start_time": "2022-03-23T11:06:00.214Z"
   },
   {
    "duration": 0,
    "start_time": "2022-03-23T11:06:00.215Z"
   },
   {
    "duration": 0,
    "start_time": "2022-03-23T11:06:00.216Z"
   },
   {
    "duration": 0,
    "start_time": "2022-03-23T11:06:00.217Z"
   },
   {
    "duration": 30,
    "start_time": "2022-03-23T11:07:54.188Z"
   },
   {
    "duration": 32,
    "start_time": "2022-03-23T11:08:13.605Z"
   },
   {
    "duration": 72,
    "start_time": "2022-03-25T10:06:00.959Z"
   },
   {
    "duration": 1510,
    "start_time": "2022-03-25T10:06:06.650Z"
   },
   {
    "duration": 272,
    "start_time": "2022-03-25T10:06:08.162Z"
   },
   {
    "duration": 76,
    "start_time": "2022-03-25T10:06:08.437Z"
   },
   {
    "duration": 58,
    "start_time": "2022-03-25T10:06:08.516Z"
   },
   {
    "duration": 32,
    "start_time": "2022-03-25T10:06:08.576Z"
   },
   {
    "duration": 32,
    "start_time": "2022-03-25T10:06:08.611Z"
   },
   {
    "duration": 25,
    "start_time": "2022-03-25T10:06:08.669Z"
   },
   {
    "duration": 21,
    "start_time": "2022-03-25T10:06:08.696Z"
   },
   {
    "duration": 88,
    "start_time": "2022-03-25T10:06:08.719Z"
   },
   {
    "duration": 58,
    "start_time": "2022-03-25T10:06:08.812Z"
   },
   {
    "duration": 43,
    "start_time": "2022-03-25T10:06:08.872Z"
   },
   {
    "duration": 5,
    "start_time": "2022-03-25T10:06:08.917Z"
   },
   {
    "duration": 83,
    "start_time": "2022-03-25T10:06:08.924Z"
   },
   {
    "duration": 8,
    "start_time": "2022-03-25T10:06:09.009Z"
   },
   {
    "duration": 10,
    "start_time": "2022-03-25T10:06:09.019Z"
   },
   {
    "duration": 5,
    "start_time": "2022-03-25T10:06:09.031Z"
   },
   {
    "duration": 29,
    "start_time": "2022-03-25T10:06:09.039Z"
   },
   {
    "duration": 8,
    "start_time": "2022-03-25T10:06:09.070Z"
   },
   {
    "duration": 7,
    "start_time": "2022-03-25T10:06:09.080Z"
   },
   {
    "duration": 7,
    "start_time": "2022-03-25T10:06:09.089Z"
   },
   {
    "duration": 7,
    "start_time": "2022-03-25T10:06:09.098Z"
   },
   {
    "duration": 6,
    "start_time": "2022-03-25T10:06:09.107Z"
   },
   {
    "duration": 3,
    "start_time": "2022-03-25T10:06:09.115Z"
   },
   {
    "duration": 70,
    "start_time": "2022-03-25T10:06:09.121Z"
   },
   {
    "duration": 167,
    "start_time": "2022-03-25T10:06:09.193Z"
   },
   {
    "duration": 0,
    "start_time": "2022-03-25T10:06:09.366Z"
   },
   {
    "duration": 0,
    "start_time": "2022-03-25T10:06:09.368Z"
   },
   {
    "duration": 0,
    "start_time": "2022-03-25T10:06:09.370Z"
   },
   {
    "duration": 1,
    "start_time": "2022-03-25T10:06:09.371Z"
   },
   {
    "duration": 0,
    "start_time": "2022-03-25T10:06:09.373Z"
   },
   {
    "duration": 0,
    "start_time": "2022-03-25T10:06:09.374Z"
   },
   {
    "duration": 0,
    "start_time": "2022-03-25T10:06:09.376Z"
   },
   {
    "duration": 0,
    "start_time": "2022-03-25T10:06:09.378Z"
   },
   {
    "duration": 0,
    "start_time": "2022-03-25T10:06:09.382Z"
   },
   {
    "duration": 0,
    "start_time": "2022-03-25T10:06:09.383Z"
   },
   {
    "duration": 0,
    "start_time": "2022-03-25T10:06:09.384Z"
   },
   {
    "duration": 0,
    "start_time": "2022-03-25T10:06:09.386Z"
   },
   {
    "duration": 42,
    "start_time": "2022-03-25T10:07:20.611Z"
   },
   {
    "duration": 45,
    "start_time": "2022-03-25T10:09:27.484Z"
   },
   {
    "duration": 553,
    "start_time": "2022-03-25T10:09:55.291Z"
   },
   {
    "duration": 436,
    "start_time": "2022-03-25T10:10:41.481Z"
   },
   {
    "duration": 578,
    "start_time": "2022-03-25T10:11:06.426Z"
   },
   {
    "duration": 2262,
    "start_time": "2022-03-25T10:11:27.872Z"
   },
   {
    "duration": 504,
    "start_time": "2022-03-25T10:11:45.869Z"
   },
   {
    "duration": 210,
    "start_time": "2022-03-25T10:11:56.680Z"
   },
   {
    "duration": 1518,
    "start_time": "2022-03-25T10:12:04.947Z"
   },
   {
    "duration": 269,
    "start_time": "2022-03-25T10:12:06.468Z"
   },
   {
    "duration": 71,
    "start_time": "2022-03-25T10:12:06.739Z"
   },
   {
    "duration": 36,
    "start_time": "2022-03-25T10:12:06.813Z"
   },
   {
    "duration": 42,
    "start_time": "2022-03-25T10:12:06.851Z"
   },
   {
    "duration": 31,
    "start_time": "2022-03-25T10:12:06.895Z"
   },
   {
    "duration": 48,
    "start_time": "2022-03-25T10:12:06.928Z"
   },
   {
    "duration": 21,
    "start_time": "2022-03-25T10:12:06.978Z"
   },
   {
    "duration": 81,
    "start_time": "2022-03-25T10:12:07.001Z"
   },
   {
    "duration": 41,
    "start_time": "2022-03-25T10:12:07.086Z"
   },
   {
    "duration": 60,
    "start_time": "2022-03-25T10:12:07.129Z"
   },
   {
    "duration": 4,
    "start_time": "2022-03-25T10:12:07.192Z"
   },
   {
    "duration": 71,
    "start_time": "2022-03-25T10:12:07.198Z"
   },
   {
    "duration": 7,
    "start_time": "2022-03-25T10:12:07.271Z"
   },
   {
    "duration": 9,
    "start_time": "2022-03-25T10:12:07.280Z"
   },
   {
    "duration": 6,
    "start_time": "2022-03-25T10:12:07.291Z"
   },
   {
    "duration": 10,
    "start_time": "2022-03-25T10:12:07.300Z"
   },
   {
    "duration": 7,
    "start_time": "2022-03-25T10:12:07.312Z"
   },
   {
    "duration": 7,
    "start_time": "2022-03-25T10:12:07.321Z"
   },
   {
    "duration": 40,
    "start_time": "2022-03-25T10:12:07.330Z"
   },
   {
    "duration": 8,
    "start_time": "2022-03-25T10:12:07.372Z"
   },
   {
    "duration": 5,
    "start_time": "2022-03-25T10:12:07.381Z"
   },
   {
    "duration": 6,
    "start_time": "2022-03-25T10:12:07.388Z"
   },
   {
    "duration": 32,
    "start_time": "2022-03-25T10:12:07.396Z"
   },
   {
    "duration": 265,
    "start_time": "2022-03-25T10:12:07.430Z"
   },
   {
    "duration": 50,
    "start_time": "2022-03-25T10:12:07.697Z"
   },
   {
    "duration": 33,
    "start_time": "2022-03-25T10:12:07.748Z"
   },
   {
    "duration": 5,
    "start_time": "2022-03-25T10:12:07.785Z"
   },
   {
    "duration": 895,
    "start_time": "2022-03-25T10:12:07.792Z"
   },
   {
    "duration": 263,
    "start_time": "2022-03-25T10:12:08.689Z"
   },
   {
    "duration": 270,
    "start_time": "2022-03-25T10:12:08.954Z"
   },
   {
    "duration": 42,
    "start_time": "2022-03-25T10:12:09.227Z"
   },
   {
    "duration": 29,
    "start_time": "2022-03-25T10:12:09.272Z"
   },
   {
    "duration": 29,
    "start_time": "2022-03-25T10:12:09.304Z"
   },
   {
    "duration": 283,
    "start_time": "2022-03-25T10:12:09.335Z"
   },
   {
    "duration": 22,
    "start_time": "2022-03-25T10:12:09.621Z"
   },
   {
    "duration": 21,
    "start_time": "2022-03-25T10:12:09.667Z"
   },
   {
    "duration": 1493,
    "start_time": "2022-03-25T10:17:41.806Z"
   },
   {
    "duration": 282,
    "start_time": "2022-03-25T10:17:43.301Z"
   },
   {
    "duration": 53,
    "start_time": "2022-03-25T10:17:43.585Z"
   },
   {
    "duration": 54,
    "start_time": "2022-03-25T10:17:43.641Z"
   },
   {
    "duration": 30,
    "start_time": "2022-03-25T10:17:43.697Z"
   },
   {
    "duration": 50,
    "start_time": "2022-03-25T10:17:43.729Z"
   },
   {
    "duration": 23,
    "start_time": "2022-03-25T10:17:43.782Z"
   },
   {
    "duration": 72,
    "start_time": "2022-03-25T10:17:43.808Z"
   },
   {
    "duration": 110,
    "start_time": "2022-03-25T10:17:43.882Z"
   },
   {
    "duration": 92,
    "start_time": "2022-03-25T10:17:43.996Z"
   },
   {
    "duration": 94,
    "start_time": "2022-03-25T10:17:44.090Z"
   },
   {
    "duration": 5,
    "start_time": "2022-03-25T10:17:44.186Z"
   },
   {
    "duration": 115,
    "start_time": "2022-03-25T10:17:44.194Z"
   },
   {
    "duration": 8,
    "start_time": "2022-03-25T10:17:44.367Z"
   },
   {
    "duration": 11,
    "start_time": "2022-03-25T10:17:44.377Z"
   },
   {
    "duration": 5,
    "start_time": "2022-03-25T10:17:44.390Z"
   },
   {
    "duration": 6,
    "start_time": "2022-03-25T10:17:44.397Z"
   },
   {
    "duration": 6,
    "start_time": "2022-03-25T10:17:44.405Z"
   },
   {
    "duration": 5,
    "start_time": "2022-03-25T10:17:44.468Z"
   },
   {
    "duration": 7,
    "start_time": "2022-03-25T10:17:44.475Z"
   },
   {
    "duration": 6,
    "start_time": "2022-03-25T10:17:44.484Z"
   },
   {
    "duration": 9,
    "start_time": "2022-03-25T10:17:44.492Z"
   },
   {
    "duration": 3,
    "start_time": "2022-03-25T10:17:44.503Z"
   },
   {
    "duration": 85,
    "start_time": "2022-03-25T10:17:44.508Z"
   },
   {
    "duration": 373,
    "start_time": "2022-03-25T10:17:44.595Z"
   },
   {
    "duration": 0,
    "start_time": "2022-03-25T10:17:44.971Z"
   },
   {
    "duration": 0,
    "start_time": "2022-03-25T10:17:44.973Z"
   },
   {
    "duration": 0,
    "start_time": "2022-03-25T10:17:44.975Z"
   },
   {
    "duration": 0,
    "start_time": "2022-03-25T10:17:44.976Z"
   },
   {
    "duration": 0,
    "start_time": "2022-03-25T10:17:44.978Z"
   },
   {
    "duration": 0,
    "start_time": "2022-03-25T10:17:44.979Z"
   },
   {
    "duration": 0,
    "start_time": "2022-03-25T10:17:44.981Z"
   },
   {
    "duration": 0,
    "start_time": "2022-03-25T10:17:44.982Z"
   },
   {
    "duration": 0,
    "start_time": "2022-03-25T10:17:44.983Z"
   },
   {
    "duration": 0,
    "start_time": "2022-03-25T10:17:44.984Z"
   },
   {
    "duration": 0,
    "start_time": "2022-03-25T10:17:44.986Z"
   },
   {
    "duration": 0,
    "start_time": "2022-03-25T10:17:44.988Z"
   },
   {
    "duration": 1447,
    "start_time": "2022-03-25T10:18:06.692Z"
   },
   {
    "duration": 268,
    "start_time": "2022-03-25T10:18:08.142Z"
   },
   {
    "duration": 71,
    "start_time": "2022-03-25T10:18:08.412Z"
   },
   {
    "duration": 38,
    "start_time": "2022-03-25T10:18:08.487Z"
   },
   {
    "duration": 51,
    "start_time": "2022-03-25T10:18:08.527Z"
   },
   {
    "duration": 29,
    "start_time": "2022-03-25T10:18:08.580Z"
   },
   {
    "duration": 23,
    "start_time": "2022-03-25T10:18:08.611Z"
   },
   {
    "duration": 41,
    "start_time": "2022-03-25T10:18:08.636Z"
   },
   {
    "duration": 62,
    "start_time": "2022-03-25T10:18:08.679Z"
   },
   {
    "duration": 41,
    "start_time": "2022-03-25T10:18:08.767Z"
   },
   {
    "duration": 56,
    "start_time": "2022-03-25T10:18:08.811Z"
   },
   {
    "duration": 5,
    "start_time": "2022-03-25T10:18:08.869Z"
   },
   {
    "duration": 63,
    "start_time": "2022-03-25T10:18:08.877Z"
   },
   {
    "duration": 7,
    "start_time": "2022-03-25T10:18:08.942Z"
   },
   {
    "duration": 22,
    "start_time": "2022-03-25T10:18:08.951Z"
   },
   {
    "duration": 12,
    "start_time": "2022-03-25T10:18:08.975Z"
   },
   {
    "duration": 22,
    "start_time": "2022-03-25T10:18:08.989Z"
   },
   {
    "duration": 20,
    "start_time": "2022-03-25T10:18:09.013Z"
   },
   {
    "duration": 10,
    "start_time": "2022-03-25T10:18:09.036Z"
   },
   {
    "duration": 16,
    "start_time": "2022-03-25T10:18:09.048Z"
   },
   {
    "duration": 17,
    "start_time": "2022-03-25T10:18:09.066Z"
   },
   {
    "duration": 14,
    "start_time": "2022-03-25T10:18:09.085Z"
   },
   {
    "duration": 15,
    "start_time": "2022-03-25T10:18:09.101Z"
   },
   {
    "duration": 34,
    "start_time": "2022-03-25T10:18:09.118Z"
   },
   {
    "duration": 193,
    "start_time": "2022-03-25T10:18:09.154Z"
   },
   {
    "duration": 59,
    "start_time": "2022-03-25T10:18:09.349Z"
   },
   {
    "duration": 18,
    "start_time": "2022-03-25T10:18:09.410Z"
   },
   {
    "duration": 17,
    "start_time": "2022-03-25T10:18:09.433Z"
   },
   {
    "duration": 619,
    "start_time": "2022-03-25T10:18:09.452Z"
   },
   {
    "duration": 501,
    "start_time": "2022-03-25T10:18:10.073Z"
   },
   {
    "duration": 510,
    "start_time": "2022-03-25T10:18:10.576Z"
   },
   {
    "duration": 82,
    "start_time": "2022-03-25T10:18:11.088Z"
   },
   {
    "duration": 97,
    "start_time": "2022-03-25T10:18:11.173Z"
   },
   {
    "duration": 43,
    "start_time": "2022-03-25T10:18:11.272Z"
   },
   {
    "duration": 802,
    "start_time": "2022-03-25T10:18:11.368Z"
   },
   {
    "duration": 28,
    "start_time": "2022-03-25T10:18:12.172Z"
   },
   {
    "duration": 75,
    "start_time": "2022-03-25T10:18:12.202Z"
   },
   {
    "duration": 1500,
    "start_time": "2022-03-25T10:18:45.341Z"
   },
   {
    "duration": 272,
    "start_time": "2022-03-25T10:18:46.843Z"
   },
   {
    "duration": 75,
    "start_time": "2022-03-25T10:18:47.117Z"
   },
   {
    "duration": 36,
    "start_time": "2022-03-25T10:18:47.196Z"
   },
   {
    "duration": 48,
    "start_time": "2022-03-25T10:18:47.235Z"
   },
   {
    "duration": 32,
    "start_time": "2022-03-25T10:18:47.285Z"
   },
   {
    "duration": 54,
    "start_time": "2022-03-25T10:18:47.320Z"
   },
   {
    "duration": 21,
    "start_time": "2022-03-25T10:18:47.376Z"
   },
   {
    "duration": 109,
    "start_time": "2022-03-25T10:18:47.399Z"
   },
   {
    "duration": 94,
    "start_time": "2022-03-25T10:18:47.512Z"
   },
   {
    "duration": 96,
    "start_time": "2022-03-25T10:18:47.608Z"
   },
   {
    "duration": 5,
    "start_time": "2022-03-25T10:18:47.706Z"
   },
   {
    "duration": 159,
    "start_time": "2022-03-25T10:18:47.712Z"
   },
   {
    "duration": 7,
    "start_time": "2022-03-25T10:18:47.874Z"
   },
   {
    "duration": 9,
    "start_time": "2022-03-25T10:18:47.883Z"
   },
   {
    "duration": 15,
    "start_time": "2022-03-25T10:18:47.894Z"
   },
   {
    "duration": 57,
    "start_time": "2022-03-25T10:18:47.911Z"
   },
   {
    "duration": 8,
    "start_time": "2022-03-25T10:18:47.970Z"
   },
   {
    "duration": 7,
    "start_time": "2022-03-25T10:18:47.981Z"
   },
   {
    "duration": 6,
    "start_time": "2022-03-25T10:18:47.991Z"
   },
   {
    "duration": 6,
    "start_time": "2022-03-25T10:18:47.999Z"
   },
   {
    "duration": 6,
    "start_time": "2022-03-25T10:18:48.007Z"
   },
   {
    "duration": 4,
    "start_time": "2022-03-25T10:18:48.068Z"
   },
   {
    "duration": 109,
    "start_time": "2022-03-25T10:18:48.073Z"
   },
   {
    "duration": 699,
    "start_time": "2022-03-25T10:18:48.185Z"
   },
   {
    "duration": 127,
    "start_time": "2022-03-25T10:18:48.887Z"
   },
   {
    "duration": 28,
    "start_time": "2022-03-25T10:18:49.068Z"
   },
   {
    "duration": 6,
    "start_time": "2022-03-25T10:18:49.103Z"
   },
   {
    "duration": 1175,
    "start_time": "2022-03-25T10:18:49.112Z"
   },
   {
    "duration": 495,
    "start_time": "2022-03-25T10:18:50.289Z"
   },
   {
    "duration": 287,
    "start_time": "2022-03-25T10:18:50.786Z"
   },
   {
    "duration": 35,
    "start_time": "2022-03-25T10:18:51.075Z"
   },
   {
    "duration": 58,
    "start_time": "2022-03-25T10:18:51.112Z"
   },
   {
    "duration": 29,
    "start_time": "2022-03-25T10:18:51.172Z"
   },
   {
    "duration": 360,
    "start_time": "2022-03-25T10:18:51.203Z"
   },
   {
    "duration": 21,
    "start_time": "2022-03-25T10:18:51.568Z"
   },
   {
    "duration": 22,
    "start_time": "2022-03-25T10:18:51.591Z"
   },
   {
    "duration": 43,
    "start_time": "2022-03-25T10:34:05.375Z"
   },
   {
    "duration": 52,
    "start_time": "2022-03-25T10:39:09.448Z"
   },
   {
    "duration": 57,
    "start_time": "2022-03-25T11:57:20.857Z"
   },
   {
    "duration": 32,
    "start_time": "2022-03-25T11:58:02.607Z"
   },
   {
    "duration": 1684,
    "start_time": "2022-03-25T16:17:47.944Z"
   },
   {
    "duration": 389,
    "start_time": "2022-03-25T16:17:49.631Z"
   },
   {
    "duration": 97,
    "start_time": "2022-03-25T16:17:50.025Z"
   },
   {
    "duration": 65,
    "start_time": "2022-03-25T16:17:50.126Z"
   },
   {
    "duration": 31,
    "start_time": "2022-03-25T16:17:50.194Z"
   },
   {
    "duration": 57,
    "start_time": "2022-03-25T16:17:50.228Z"
   },
   {
    "duration": 24,
    "start_time": "2022-03-25T16:17:50.287Z"
   },
   {
    "duration": 26,
    "start_time": "2022-03-25T16:17:50.314Z"
   },
   {
    "duration": 107,
    "start_time": "2022-03-25T16:17:50.343Z"
   },
   {
    "duration": 58,
    "start_time": "2022-03-25T16:17:50.469Z"
   },
   {
    "duration": 73,
    "start_time": "2022-03-25T16:17:50.529Z"
   },
   {
    "duration": 4,
    "start_time": "2022-03-25T16:17:50.605Z"
   },
   {
    "duration": 109,
    "start_time": "2022-03-25T16:17:50.613Z"
   },
   {
    "duration": 10,
    "start_time": "2022-03-25T16:17:50.725Z"
   },
   {
    "duration": 29,
    "start_time": "2022-03-25T16:17:50.738Z"
   },
   {
    "duration": 9,
    "start_time": "2022-03-25T16:17:50.770Z"
   },
   {
    "duration": 5,
    "start_time": "2022-03-25T16:17:50.782Z"
   },
   {
    "duration": 6,
    "start_time": "2022-03-25T16:17:50.790Z"
   },
   {
    "duration": 10,
    "start_time": "2022-03-25T16:17:50.799Z"
   },
   {
    "duration": 7,
    "start_time": "2022-03-25T16:17:50.812Z"
   },
   {
    "duration": 49,
    "start_time": "2022-03-25T16:17:50.822Z"
   },
   {
    "duration": 8,
    "start_time": "2022-03-25T16:17:50.873Z"
   },
   {
    "duration": 230,
    "start_time": "2022-03-25T16:17:50.884Z"
   },
   {
    "duration": 64,
    "start_time": "2022-03-25T16:17:51.116Z"
   },
   {
    "duration": 5,
    "start_time": "2022-03-25T16:17:51.182Z"
   },
   {
    "duration": 1305,
    "start_time": "2022-03-25T16:17:51.190Z"
   },
   {
    "duration": 37,
    "start_time": "2022-03-25T16:17:52.498Z"
   },
   {
    "duration": 296,
    "start_time": "2022-03-25T16:17:52.540Z"
   },
   {
    "duration": 47,
    "start_time": "2022-03-25T16:17:52.839Z"
   },
   {
    "duration": 282,
    "start_time": "2022-03-25T16:17:52.889Z"
   },
   {
    "duration": 31,
    "start_time": "2022-03-25T16:17:53.174Z"
   },
   {
    "duration": 389,
    "start_time": "2022-03-25T16:17:53.207Z"
   },
   {
    "duration": 28,
    "start_time": "2022-03-25T16:17:53.599Z"
   },
   {
    "duration": 49,
    "start_time": "2022-03-25T16:17:53.629Z"
   },
   {
    "duration": 181,
    "start_time": "2022-03-25T16:43:51.375Z"
   },
   {
    "duration": 19,
    "start_time": "2022-03-25T16:43:57.972Z"
   },
   {
    "duration": 76,
    "start_time": "2022-03-25T16:44:22.843Z"
   },
   {
    "duration": 89,
    "start_time": "2022-03-25T16:46:01.885Z"
   },
   {
    "duration": 141,
    "start_time": "2022-03-25T16:46:53.860Z"
   },
   {
    "duration": 7,
    "start_time": "2022-03-25T16:47:00.413Z"
   },
   {
    "duration": 536,
    "start_time": "2022-03-25T16:47:02.082Z"
   },
   {
    "duration": 10,
    "start_time": "2022-03-25T16:47:15.661Z"
   },
   {
    "duration": 611,
    "start_time": "2022-03-25T16:47:17.785Z"
   },
   {
    "duration": 388,
    "start_time": "2022-03-25T16:47:28.153Z"
   },
   {
    "duration": 325,
    "start_time": "2022-03-25T16:47:34.191Z"
   },
   {
    "duration": 385,
    "start_time": "2022-03-25T16:47:40.234Z"
   },
   {
    "duration": 6,
    "start_time": "2022-03-25T16:48:52.312Z"
   },
   {
    "duration": 136,
    "start_time": "2022-03-25T16:48:54.007Z"
   },
   {
    "duration": 7,
    "start_time": "2022-03-25T16:49:06.885Z"
   },
   {
    "duration": 435,
    "start_time": "2022-03-25T16:49:08.775Z"
   },
   {
    "duration": 7,
    "start_time": "2022-03-25T16:49:21.793Z"
   },
   {
    "duration": 490,
    "start_time": "2022-03-25T16:49:23.646Z"
   },
   {
    "duration": 8,
    "start_time": "2022-03-25T16:49:37.477Z"
   },
   {
    "duration": 696,
    "start_time": "2022-03-25T16:49:39.171Z"
   },
   {
    "duration": 7,
    "start_time": "2022-03-25T16:49:59.337Z"
   },
   {
    "duration": 169,
    "start_time": "2022-03-25T16:50:01.472Z"
   },
   {
    "duration": 12,
    "start_time": "2022-03-25T16:50:21.695Z"
   },
   {
    "duration": 439,
    "start_time": "2022-03-25T16:50:22.932Z"
   },
   {
    "duration": 6,
    "start_time": "2022-03-25T16:50:33.320Z"
   },
   {
    "duration": 305,
    "start_time": "2022-03-25T16:50:34.821Z"
   },
   {
    "duration": 8,
    "start_time": "2022-03-25T16:50:46.011Z"
   },
   {
    "duration": 440,
    "start_time": "2022-03-25T16:50:47.373Z"
   },
   {
    "duration": 12,
    "start_time": "2022-03-25T16:50:56.568Z"
   },
   {
    "duration": 320,
    "start_time": "2022-03-25T16:50:57.952Z"
   },
   {
    "duration": 6,
    "start_time": "2022-03-25T16:51:02.718Z"
   },
   {
    "duration": 321,
    "start_time": "2022-03-25T16:51:04.786Z"
   },
   {
    "duration": 10,
    "start_time": "2022-03-25T16:52:03.162Z"
   },
   {
    "duration": 778,
    "start_time": "2022-03-25T16:52:04.379Z"
   },
   {
    "duration": 419,
    "start_time": "2022-03-25T16:52:10.703Z"
   },
   {
    "duration": 386,
    "start_time": "2022-03-25T16:52:14.705Z"
   },
   {
    "duration": 387,
    "start_time": "2022-03-25T16:52:21.473Z"
   },
   {
    "duration": 7,
    "start_time": "2022-03-25T16:52:39.738Z"
   },
   {
    "duration": 727,
    "start_time": "2022-03-25T16:52:40.995Z"
   },
   {
    "duration": 875,
    "start_time": "2022-03-25T16:52:46.443Z"
   },
   {
    "duration": 909,
    "start_time": "2022-03-25T16:52:52.762Z"
   },
   {
    "duration": 664,
    "start_time": "2022-03-25T16:52:59.728Z"
   },
   {
    "duration": 9,
    "start_time": "2022-03-25T16:53:21.310Z"
   },
   {
    "duration": 653,
    "start_time": "2022-03-25T16:53:22.117Z"
   },
   {
    "duration": 832,
    "start_time": "2022-03-25T16:53:27.336Z"
   },
   {
    "duration": 677,
    "start_time": "2022-03-25T16:53:30.587Z"
   },
   {
    "duration": 566,
    "start_time": "2022-03-25T16:53:36.712Z"
   },
   {
    "duration": 74,
    "start_time": "2022-03-25T17:20:49.448Z"
   },
   {
    "duration": 61,
    "start_time": "2022-03-25T17:21:05.194Z"
   },
   {
    "duration": 80,
    "start_time": "2022-03-25T17:21:14.443Z"
   },
   {
    "duration": 31,
    "start_time": "2022-03-25T17:22:07.710Z"
   },
   {
    "duration": 18,
    "start_time": "2022-03-25T17:28:18.725Z"
   },
   {
    "duration": 34,
    "start_time": "2022-03-25T17:33:50.584Z"
   },
   {
    "duration": 102,
    "start_time": "2022-03-25T17:51:10.832Z"
   },
   {
    "duration": 31,
    "start_time": "2022-03-25T17:51:56.118Z"
   },
   {
    "duration": 32,
    "start_time": "2022-03-25T17:52:20.079Z"
   },
   {
    "duration": 39,
    "start_time": "2022-03-25T17:52:27.532Z"
   },
   {
    "duration": 32,
    "start_time": "2022-03-25T17:56:52.510Z"
   },
   {
    "duration": 13,
    "start_time": "2022-03-25T17:57:44.101Z"
   },
   {
    "duration": 36,
    "start_time": "2022-03-25T17:59:02.236Z"
   },
   {
    "duration": 13,
    "start_time": "2022-03-25T18:00:23.448Z"
   },
   {
    "duration": 18,
    "start_time": "2022-03-25T18:00:49.676Z"
   },
   {
    "duration": 20,
    "start_time": "2022-03-25T18:01:57.429Z"
   },
   {
    "duration": 17,
    "start_time": "2022-03-25T18:02:03.737Z"
   },
   {
    "duration": 98,
    "start_time": "2022-03-25T18:04:39.570Z"
   },
   {
    "duration": 21,
    "start_time": "2022-03-25T18:24:32.121Z"
   },
   {
    "duration": 36,
    "start_time": "2022-03-25T18:31:11.567Z"
   },
   {
    "duration": 34,
    "start_time": "2022-03-25T18:32:52.511Z"
   },
   {
    "duration": 32,
    "start_time": "2022-03-25T18:35:12.557Z"
   },
   {
    "duration": 30,
    "start_time": "2022-03-25T18:35:22.460Z"
   },
   {
    "duration": 37,
    "start_time": "2022-03-25T18:35:27.184Z"
   },
   {
    "duration": 43,
    "start_time": "2022-03-25T18:35:49.583Z"
   },
   {
    "duration": 31,
    "start_time": "2022-03-25T18:36:11.349Z"
   },
   {
    "duration": 13,
    "start_time": "2022-03-25T18:36:30.601Z"
   },
   {
    "duration": 11,
    "start_time": "2022-03-25T18:36:35.786Z"
   },
   {
    "duration": 19,
    "start_time": "2022-03-25T18:37:03.151Z"
   },
   {
    "duration": 12,
    "start_time": "2022-03-25T18:37:16.307Z"
   },
   {
    "duration": 10,
    "start_time": "2022-03-25T18:37:33.884Z"
   },
   {
    "duration": 12,
    "start_time": "2022-03-25T18:37:49.093Z"
   },
   {
    "duration": 41,
    "start_time": "2022-03-25T18:39:26.307Z"
   },
   {
    "duration": 54,
    "start_time": "2022-03-25T18:48:42.955Z"
   },
   {
    "duration": 1532,
    "start_time": "2022-03-25T18:51:40.388Z"
   },
   {
    "duration": 292,
    "start_time": "2022-03-25T18:51:41.923Z"
   },
   {
    "duration": 72,
    "start_time": "2022-03-25T18:51:42.217Z"
   },
   {
    "duration": 34,
    "start_time": "2022-03-25T18:51:42.296Z"
   },
   {
    "duration": 47,
    "start_time": "2022-03-25T18:51:42.332Z"
   },
   {
    "duration": 31,
    "start_time": "2022-03-25T18:51:42.382Z"
   },
   {
    "duration": 24,
    "start_time": "2022-03-25T18:51:42.415Z"
   },
   {
    "duration": 40,
    "start_time": "2022-03-25T18:51:42.441Z"
   },
   {
    "duration": 68,
    "start_time": "2022-03-25T18:51:42.484Z"
   },
   {
    "duration": 48,
    "start_time": "2022-03-25T18:51:42.568Z"
   },
   {
    "duration": 72,
    "start_time": "2022-03-25T18:51:42.619Z"
   },
   {
    "duration": 5,
    "start_time": "2022-03-25T18:51:42.694Z"
   },
   {
    "duration": 84,
    "start_time": "2022-03-25T18:51:42.701Z"
   },
   {
    "duration": 9,
    "start_time": "2022-03-25T18:51:42.788Z"
   },
   {
    "duration": 22,
    "start_time": "2022-03-25T18:51:42.801Z"
   },
   {
    "duration": 17,
    "start_time": "2022-03-25T18:51:42.826Z"
   },
   {
    "duration": 34,
    "start_time": "2022-03-25T18:51:42.845Z"
   },
   {
    "duration": 10,
    "start_time": "2022-03-25T18:51:42.882Z"
   },
   {
    "duration": 39,
    "start_time": "2022-03-25T18:51:42.895Z"
   },
   {
    "duration": 16,
    "start_time": "2022-03-25T18:51:42.936Z"
   },
   {
    "duration": 6,
    "start_time": "2022-03-25T18:51:42.955Z"
   },
   {
    "duration": 11,
    "start_time": "2022-03-25T18:51:42.963Z"
   },
   {
    "duration": 227,
    "start_time": "2022-03-25T18:51:42.979Z"
   },
   {
    "duration": 59,
    "start_time": "2022-03-25T18:51:43.209Z"
   },
   {
    "duration": 6,
    "start_time": "2022-03-25T18:51:43.273Z"
   },
   {
    "duration": 961,
    "start_time": "2022-03-25T18:51:43.283Z"
   },
   {
    "duration": 56,
    "start_time": "2022-03-25T18:51:44.247Z"
   },
   {
    "duration": 648,
    "start_time": "2022-03-25T18:51:44.308Z"
   },
   {
    "duration": 38,
    "start_time": "2022-03-25T18:51:44.959Z"
   },
   {
    "duration": 517,
    "start_time": "2022-03-25T18:51:44.999Z"
   },
   {
    "duration": 31,
    "start_time": "2022-03-25T18:51:45.518Z"
   },
   {
    "duration": 35,
    "start_time": "2022-03-25T18:51:45.571Z"
   },
   {
    "duration": 18,
    "start_time": "2022-03-25T18:51:45.609Z"
   },
   {
    "duration": 11,
    "start_time": "2022-03-25T18:51:45.629Z"
   },
   {
    "duration": 18,
    "start_time": "2022-03-25T18:51:45.673Z"
   },
   {
    "duration": 13,
    "start_time": "2022-03-25T18:51:45.694Z"
   },
   {
    "duration": 14,
    "start_time": "2022-03-25T18:51:45.709Z"
   },
   {
    "duration": 57,
    "start_time": "2022-03-25T18:51:45.725Z"
   },
   {
    "duration": 1239,
    "start_time": "2022-03-28T22:27:12.424Z"
   },
   {
    "duration": 167,
    "start_time": "2022-03-28T22:27:13.664Z"
   },
   {
    "duration": 34,
    "start_time": "2022-03-28T22:27:17.029Z"
   },
   {
    "duration": 23,
    "start_time": "2022-03-28T22:27:17.337Z"
   },
   {
    "duration": 20,
    "start_time": "2022-03-28T22:27:17.597Z"
   },
   {
    "duration": 20,
    "start_time": "2022-03-28T22:27:18.073Z"
   },
   {
    "duration": 16,
    "start_time": "2022-03-28T22:27:18.278Z"
   },
   {
    "duration": 15,
    "start_time": "2022-03-28T22:27:18.468Z"
   },
   {
    "duration": 43,
    "start_time": "2022-03-28T22:27:18.793Z"
   },
   {
    "duration": 30,
    "start_time": "2022-03-28T22:27:19.290Z"
   },
   {
    "duration": 29,
    "start_time": "2022-03-28T22:27:19.625Z"
   },
   {
    "duration": 3,
    "start_time": "2022-03-28T22:27:20.207Z"
   },
   {
    "duration": 33,
    "start_time": "2022-03-28T22:27:20.375Z"
   },
   {
    "duration": 5,
    "start_time": "2022-03-28T22:27:20.620Z"
   },
   {
    "duration": 5,
    "start_time": "2022-03-28T22:27:20.705Z"
   },
   {
    "duration": 4,
    "start_time": "2022-03-28T22:27:20.870Z"
   },
   {
    "duration": 4,
    "start_time": "2022-03-28T22:27:20.966Z"
   },
   {
    "duration": 4,
    "start_time": "2022-03-28T22:27:21.040Z"
   },
   {
    "duration": 4,
    "start_time": "2022-03-28T22:27:21.125Z"
   },
   {
    "duration": 4,
    "start_time": "2022-03-28T22:27:21.290Z"
   },
   {
    "duration": 4,
    "start_time": "2022-03-28T22:27:21.375Z"
   },
   {
    "duration": 3,
    "start_time": "2022-03-28T22:27:21.544Z"
   },
   {
    "duration": 104,
    "start_time": "2022-03-28T22:27:21.708Z"
   },
   {
    "duration": 27,
    "start_time": "2022-03-28T22:27:21.814Z"
   },
   {
    "duration": 4,
    "start_time": "2022-03-28T22:27:22.209Z"
   },
   {
    "duration": 555,
    "start_time": "2022-03-28T22:27:22.380Z"
   },
   {
    "duration": 18,
    "start_time": "2022-03-28T22:27:22.937Z"
   },
   {
    "duration": 264,
    "start_time": "2022-03-28T22:27:22.957Z"
   },
   {
    "duration": 17,
    "start_time": "2022-03-28T22:27:23.223Z"
   },
   {
    "duration": 256,
    "start_time": "2022-03-28T22:27:23.241Z"
   },
   {
    "duration": 17,
    "start_time": "2022-03-28T22:27:23.499Z"
   },
   {
    "duration": 18,
    "start_time": "2022-03-28T22:27:23.724Z"
   },
   {
    "duration": 10,
    "start_time": "2022-03-28T22:27:23.974Z"
   },
   {
    "duration": 7,
    "start_time": "2022-03-28T22:27:24.477Z"
   },
   {
    "duration": 7,
    "start_time": "2022-03-28T22:27:24.558Z"
   },
   {
    "duration": 8,
    "start_time": "2022-03-28T22:27:24.730Z"
   },
   {
    "duration": 8,
    "start_time": "2022-03-28T22:27:24.810Z"
   },
   {
    "duration": 12,
    "start_time": "2022-03-28T22:27:24.981Z"
   },
   {
    "duration": 11,
    "start_time": "2022-03-29T00:10:50.005Z"
   },
   {
    "duration": 17,
    "start_time": "2022-03-29T00:11:05.675Z"
   },
   {
    "duration": 120,
    "start_time": "2022-03-29T12:09:55.006Z"
   },
   {
    "duration": 1202,
    "start_time": "2022-03-29T12:16:39.145Z"
   },
   {
    "duration": 185,
    "start_time": "2022-03-29T12:16:40.430Z"
   },
   {
    "duration": 36,
    "start_time": "2022-03-29T12:16:46.956Z"
   },
   {
    "duration": 25,
    "start_time": "2022-03-29T12:16:47.580Z"
   },
   {
    "duration": 21,
    "start_time": "2022-03-29T12:16:48.224Z"
   },
   {
    "duration": 22,
    "start_time": "2022-03-29T12:16:51.291Z"
   },
   {
    "duration": 17,
    "start_time": "2022-03-29T12:16:51.754Z"
   },
   {
    "duration": 16,
    "start_time": "2022-03-29T12:16:52.466Z"
   },
   {
    "duration": 114,
    "start_time": "2022-03-29T12:18:46.462Z"
   },
   {
    "duration": 24,
    "start_time": "2022-03-29T12:19:35.443Z"
   },
   {
    "duration": 22,
    "start_time": "2022-03-29T12:19:45.320Z"
   },
   {
    "duration": 49,
    "start_time": "2022-03-29T12:21:45.833Z"
   },
   {
    "duration": 35,
    "start_time": "2022-03-29T12:21:47.979Z"
   },
   {
    "duration": 31,
    "start_time": "2022-03-29T12:21:50.555Z"
   },
   {
    "duration": 4,
    "start_time": "2022-03-29T12:21:53.217Z"
   },
   {
    "duration": 35,
    "start_time": "2022-03-29T12:21:54.563Z"
   },
   {
    "duration": 6,
    "start_time": "2022-03-29T12:21:56.896Z"
   },
   {
    "duration": 5,
    "start_time": "2022-03-29T12:21:57.708Z"
   },
   {
    "duration": 5,
    "start_time": "2022-03-29T12:21:58.420Z"
   },
   {
    "duration": 5,
    "start_time": "2022-03-29T12:21:59.041Z"
   },
   {
    "duration": 4,
    "start_time": "2022-03-29T12:21:59.904Z"
   },
   {
    "duration": 90,
    "start_time": "2022-03-29T12:22:00.798Z"
   },
   {
    "duration": 4,
    "start_time": "2022-03-29T12:22:20.398Z"
   },
   {
    "duration": 5,
    "start_time": "2022-03-29T12:22:44.189Z"
   },
   {
    "duration": 5,
    "start_time": "2022-03-29T12:22:45.434Z"
   },
   {
    "duration": 5,
    "start_time": "2022-03-29T12:22:46.190Z"
   },
   {
    "duration": 30,
    "start_time": "2022-03-29T12:28:40.911Z"
   },
   {
    "duration": 382,
    "start_time": "2022-03-29T12:34:03.117Z"
   },
   {
    "duration": 184,
    "start_time": "2022-03-29T12:34:04.101Z"
   },
   {
    "duration": 31,
    "start_time": "2022-03-29T12:34:07.291Z"
   },
   {
    "duration": 24,
    "start_time": "2022-03-29T12:34:07.727Z"
   },
   {
    "duration": 21,
    "start_time": "2022-03-29T12:34:08.489Z"
   },
   {
    "duration": 22,
    "start_time": "2022-03-29T12:34:10.162Z"
   },
   {
    "duration": 17,
    "start_time": "2022-03-29T12:34:10.570Z"
   },
   {
    "duration": 16,
    "start_time": "2022-03-29T12:34:11.065Z"
   },
   {
    "duration": 16,
    "start_time": "2022-03-29T12:34:13.629Z"
   },
   {
    "duration": 37,
    "start_time": "2022-03-29T12:34:22.050Z"
   },
   {
    "duration": 5,
    "start_time": "2022-03-29T12:35:25.366Z"
   },
   {
    "duration": 31,
    "start_time": "2022-03-29T12:35:27.094Z"
   },
   {
    "duration": 31,
    "start_time": "2022-03-29T12:36:20.619Z"
   },
   {
    "duration": 3,
    "start_time": "2022-03-29T12:36:22.711Z"
   },
   {
    "duration": 37,
    "start_time": "2022-03-29T12:36:24.716Z"
   },
   {
    "duration": 21,
    "start_time": "2022-03-29T12:45:42.285Z"
   },
   {
    "duration": 23,
    "start_time": "2022-03-29T12:45:59.842Z"
   },
   {
    "duration": 13,
    "start_time": "2022-03-29T12:46:22.255Z"
   },
   {
    "duration": 10,
    "start_time": "2022-03-29T12:46:41.191Z"
   },
   {
    "duration": 12,
    "start_time": "2022-03-29T12:47:17.790Z"
   },
   {
    "duration": 11,
    "start_time": "2022-03-29T12:47:31.425Z"
   },
   {
    "duration": 21,
    "start_time": "2022-03-29T12:48:15.602Z"
   },
   {
    "duration": 6,
    "start_time": "2022-03-29T12:48:27.869Z"
   },
   {
    "duration": 23,
    "start_time": "2022-03-29T12:49:25.922Z"
   },
   {
    "duration": 40,
    "start_time": "2022-03-29T12:49:41.781Z"
   },
   {
    "duration": 19,
    "start_time": "2022-03-29T12:50:12.127Z"
   },
   {
    "duration": 19,
    "start_time": "2022-03-29T12:50:19.764Z"
   },
   {
    "duration": 25,
    "start_time": "2022-03-29T12:50:35.901Z"
   },
   {
    "duration": 25,
    "start_time": "2022-03-29T12:50:48.586Z"
   },
   {
    "duration": 31,
    "start_time": "2022-03-29T12:51:03.356Z"
   },
   {
    "duration": 35,
    "start_time": "2022-03-29T12:51:08.296Z"
   },
   {
    "duration": 17,
    "start_time": "2022-03-29T12:51:32.383Z"
   },
   {
    "duration": 10,
    "start_time": "2022-03-29T12:51:58.757Z"
   },
   {
    "duration": 8,
    "start_time": "2022-03-29T12:52:16.373Z"
   },
   {
    "duration": 12,
    "start_time": "2022-03-29T12:52:36.364Z"
   },
   {
    "duration": 41,
    "start_time": "2022-03-29T12:53:46.789Z"
   },
   {
    "duration": 42,
    "start_time": "2022-03-29T12:53:52.460Z"
   },
   {
    "duration": 444,
    "start_time": "2022-03-29T12:57:46.926Z"
   },
   {
    "duration": 108,
    "start_time": "2022-03-29T12:59:24.990Z"
   },
   {
    "duration": 4,
    "start_time": "2022-03-29T13:03:31.782Z"
   },
   {
    "duration": 1237,
    "start_time": "2022-03-29T13:03:38.613Z"
   },
   {
    "duration": 200,
    "start_time": "2022-03-29T13:03:39.852Z"
   },
   {
    "duration": 38,
    "start_time": "2022-03-29T13:03:40.054Z"
   },
   {
    "duration": 47,
    "start_time": "2022-03-29T13:03:40.094Z"
   },
   {
    "duration": 21,
    "start_time": "2022-03-29T13:03:40.143Z"
   },
   {
    "duration": 22,
    "start_time": "2022-03-29T13:03:40.166Z"
   },
   {
    "duration": 17,
    "start_time": "2022-03-29T13:03:40.190Z"
   },
   {
    "duration": 36,
    "start_time": "2022-03-29T13:03:40.208Z"
   },
   {
    "duration": 7,
    "start_time": "2022-03-29T13:03:40.246Z"
   },
   {
    "duration": 42,
    "start_time": "2022-03-29T13:03:40.256Z"
   },
   {
    "duration": 58,
    "start_time": "2022-03-29T13:03:40.301Z"
   },
   {
    "duration": 27,
    "start_time": "2022-03-29T13:03:40.361Z"
   },
   {
    "duration": 3,
    "start_time": "2022-03-29T13:03:40.390Z"
   },
   {
    "duration": 53,
    "start_time": "2022-03-29T13:03:40.394Z"
   },
   {
    "duration": 5,
    "start_time": "2022-03-29T13:03:40.448Z"
   },
   {
    "duration": 8,
    "start_time": "2022-03-29T13:03:40.455Z"
   },
   {
    "duration": 9,
    "start_time": "2022-03-29T13:03:40.465Z"
   },
   {
    "duration": 8,
    "start_time": "2022-03-29T13:03:40.475Z"
   },
   {
    "duration": 7,
    "start_time": "2022-03-29T13:03:40.484Z"
   },
   {
    "duration": 7,
    "start_time": "2022-03-29T13:03:40.493Z"
   },
   {
    "duration": 7,
    "start_time": "2022-03-29T13:03:40.501Z"
   },
   {
    "duration": 10,
    "start_time": "2022-03-29T13:03:40.510Z"
   },
   {
    "duration": 775,
    "start_time": "2022-03-29T13:03:40.521Z"
   },
   {
    "duration": 0,
    "start_time": "2022-03-29T13:03:41.298Z"
   },
   {
    "duration": 0,
    "start_time": "2022-03-29T13:03:41.299Z"
   },
   {
    "duration": 0,
    "start_time": "2022-03-29T13:03:41.301Z"
   },
   {
    "duration": 0,
    "start_time": "2022-03-29T13:03:41.302Z"
   },
   {
    "duration": 0,
    "start_time": "2022-03-29T13:03:41.302Z"
   },
   {
    "duration": 0,
    "start_time": "2022-03-29T13:03:41.303Z"
   },
   {
    "duration": 0,
    "start_time": "2022-03-29T13:03:41.304Z"
   },
   {
    "duration": 0,
    "start_time": "2022-03-29T13:03:41.305Z"
   },
   {
    "duration": 0,
    "start_time": "2022-03-29T13:03:41.306Z"
   },
   {
    "duration": 0,
    "start_time": "2022-03-29T13:03:41.307Z"
   },
   {
    "duration": 0,
    "start_time": "2022-03-29T13:03:41.308Z"
   },
   {
    "duration": 0,
    "start_time": "2022-03-29T13:03:41.309Z"
   },
   {
    "duration": 0,
    "start_time": "2022-03-29T13:03:41.310Z"
   },
   {
    "duration": 0,
    "start_time": "2022-03-29T13:03:41.311Z"
   },
   {
    "duration": 0,
    "start_time": "2022-03-29T13:03:41.312Z"
   },
   {
    "duration": 28,
    "start_time": "2022-03-29T13:04:19.470Z"
   },
   {
    "duration": 13,
    "start_time": "2022-03-29T13:05:23.456Z"
   },
   {
    "duration": 372,
    "start_time": "2022-03-29T13:07:07.325Z"
   },
   {
    "duration": 210,
    "start_time": "2022-03-29T13:07:08.833Z"
   },
   {
    "duration": 33,
    "start_time": "2022-03-29T13:07:13.078Z"
   },
   {
    "duration": 26,
    "start_time": "2022-03-29T13:07:13.827Z"
   },
   {
    "duration": 24,
    "start_time": "2022-03-29T13:07:14.525Z"
   },
   {
    "duration": 23,
    "start_time": "2022-03-29T13:07:16.321Z"
   },
   {
    "duration": 18,
    "start_time": "2022-03-29T13:07:16.762Z"
   },
   {
    "duration": 15,
    "start_time": "2022-03-29T13:07:17.186Z"
   },
   {
    "duration": 6,
    "start_time": "2022-03-29T13:07:19.970Z"
   },
   {
    "duration": 41,
    "start_time": "2022-03-29T13:07:21.453Z"
   },
   {
    "duration": 35,
    "start_time": "2022-03-29T13:07:50.074Z"
   },
   {
    "duration": 30,
    "start_time": "2022-03-29T13:07:56.102Z"
   },
   {
    "duration": 31,
    "start_time": "2022-03-29T13:07:59.163Z"
   },
   {
    "duration": 3,
    "start_time": "2022-03-29T13:08:02.078Z"
   },
   {
    "duration": 45,
    "start_time": "2022-03-29T13:08:03.300Z"
   },
   {
    "duration": 15,
    "start_time": "2022-03-29T13:08:06.120Z"
   },
   {
    "duration": 1190,
    "start_time": "2022-03-29T13:12:16.288Z"
   },
   {
    "duration": 196,
    "start_time": "2022-03-29T13:12:17.480Z"
   },
   {
    "duration": 39,
    "start_time": "2022-03-29T13:12:17.678Z"
   },
   {
    "duration": 41,
    "start_time": "2022-03-29T13:12:17.720Z"
   },
   {
    "duration": 24,
    "start_time": "2022-03-29T13:12:17.763Z"
   },
   {
    "duration": 52,
    "start_time": "2022-03-29T13:12:17.789Z"
   },
   {
    "duration": 19,
    "start_time": "2022-03-29T13:12:17.843Z"
   },
   {
    "duration": 17,
    "start_time": "2022-03-29T13:12:17.864Z"
   },
   {
    "duration": 8,
    "start_time": "2022-03-29T13:12:17.883Z"
   },
   {
    "duration": 68,
    "start_time": "2022-03-29T13:12:17.894Z"
   },
   {
    "duration": 29,
    "start_time": "2022-03-29T13:12:17.964Z"
   },
   {
    "duration": 50,
    "start_time": "2022-03-29T13:12:17.995Z"
   },
   {
    "duration": 4,
    "start_time": "2022-03-29T13:12:18.047Z"
   },
   {
    "duration": 55,
    "start_time": "2022-03-29T13:12:18.053Z"
   },
   {
    "duration": 35,
    "start_time": "2022-03-29T13:12:18.110Z"
   },
   {
    "duration": 5,
    "start_time": "2022-03-29T13:12:18.148Z"
   },
   {
    "duration": 12,
    "start_time": "2022-03-29T13:12:18.155Z"
   },
   {
    "duration": 6,
    "start_time": "2022-03-29T13:12:18.169Z"
   },
   {
    "duration": 7,
    "start_time": "2022-03-29T13:12:18.177Z"
   },
   {
    "duration": 7,
    "start_time": "2022-03-29T13:12:18.186Z"
   },
   {
    "duration": 7,
    "start_time": "2022-03-29T13:12:18.194Z"
   },
   {
    "duration": 6,
    "start_time": "2022-03-29T13:12:18.202Z"
   },
   {
    "duration": 29,
    "start_time": "2022-03-29T13:12:18.209Z"
   },
   {
    "duration": 7,
    "start_time": "2022-03-29T13:12:18.240Z"
   },
   {
    "duration": 9,
    "start_time": "2022-03-29T13:12:18.248Z"
   },
   {
    "duration": 12,
    "start_time": "2022-03-29T13:12:18.259Z"
   },
   {
    "duration": 7,
    "start_time": "2022-03-29T13:12:18.273Z"
   },
   {
    "duration": 8,
    "start_time": "2022-03-29T13:12:18.284Z"
   },
   {
    "duration": 7,
    "start_time": "2022-03-29T13:12:18.293Z"
   },
   {
    "duration": 7,
    "start_time": "2022-03-29T13:12:18.301Z"
   },
   {
    "duration": 7,
    "start_time": "2022-03-29T13:12:18.309Z"
   },
   {
    "duration": 39,
    "start_time": "2022-03-29T13:12:18.318Z"
   },
   {
    "duration": 680,
    "start_time": "2022-03-29T13:12:18.359Z"
   },
   {
    "duration": 0,
    "start_time": "2022-03-29T13:12:19.041Z"
   },
   {
    "duration": 0,
    "start_time": "2022-03-29T13:12:19.044Z"
   },
   {
    "duration": 0,
    "start_time": "2022-03-29T13:12:19.045Z"
   },
   {
    "duration": 0,
    "start_time": "2022-03-29T13:12:19.047Z"
   },
   {
    "duration": 0,
    "start_time": "2022-03-29T13:12:19.048Z"
   },
   {
    "duration": 0,
    "start_time": "2022-03-29T13:12:19.050Z"
   },
   {
    "duration": 0,
    "start_time": "2022-03-29T13:12:19.052Z"
   },
   {
    "duration": 0,
    "start_time": "2022-03-29T13:12:19.053Z"
   },
   {
    "duration": 0,
    "start_time": "2022-03-29T13:12:19.055Z"
   },
   {
    "duration": 0,
    "start_time": "2022-03-29T13:12:19.056Z"
   },
   {
    "duration": 0,
    "start_time": "2022-03-29T13:12:19.058Z"
   },
   {
    "duration": 0,
    "start_time": "2022-03-29T13:12:19.059Z"
   },
   {
    "duration": 0,
    "start_time": "2022-03-29T13:12:19.061Z"
   },
   {
    "duration": 0,
    "start_time": "2022-03-29T13:12:19.062Z"
   },
   {
    "duration": 0,
    "start_time": "2022-03-29T13:12:19.064Z"
   },
   {
    "duration": 1237,
    "start_time": "2022-03-29T13:14:15.412Z"
   },
   {
    "duration": 202,
    "start_time": "2022-03-29T13:14:16.651Z"
   },
   {
    "duration": 37,
    "start_time": "2022-03-29T13:14:16.854Z"
   },
   {
    "duration": 24,
    "start_time": "2022-03-29T13:14:16.893Z"
   },
   {
    "duration": 20,
    "start_time": "2022-03-29T13:14:16.938Z"
   },
   {
    "duration": 22,
    "start_time": "2022-03-29T13:14:16.960Z"
   },
   {
    "duration": 18,
    "start_time": "2022-03-29T13:14:16.984Z"
   },
   {
    "duration": 35,
    "start_time": "2022-03-29T13:14:17.004Z"
   },
   {
    "duration": 8,
    "start_time": "2022-03-29T13:14:17.041Z"
   },
   {
    "duration": 53,
    "start_time": "2022-03-29T13:14:17.052Z"
   },
   {
    "duration": 43,
    "start_time": "2022-03-29T13:14:17.107Z"
   },
   {
    "duration": 32,
    "start_time": "2022-03-29T13:14:17.151Z"
   },
   {
    "duration": 3,
    "start_time": "2022-03-29T13:14:17.185Z"
   },
   {
    "duration": 62,
    "start_time": "2022-03-29T13:14:17.189Z"
   },
   {
    "duration": 14,
    "start_time": "2022-03-29T13:14:17.253Z"
   },
   {
    "duration": 9,
    "start_time": "2022-03-29T13:14:17.269Z"
   },
   {
    "duration": 9,
    "start_time": "2022-03-29T13:14:17.280Z"
   },
   {
    "duration": 6,
    "start_time": "2022-03-29T13:14:17.291Z"
   },
   {
    "duration": 14,
    "start_time": "2022-03-29T13:14:17.299Z"
   },
   {
    "duration": 5,
    "start_time": "2022-03-29T13:14:17.315Z"
   },
   {
    "duration": 21,
    "start_time": "2022-03-29T13:14:17.322Z"
   },
   {
    "duration": 7,
    "start_time": "2022-03-29T13:14:17.344Z"
   },
   {
    "duration": 8,
    "start_time": "2022-03-29T13:14:17.353Z"
   },
   {
    "duration": 8,
    "start_time": "2022-03-29T13:14:17.363Z"
   },
   {
    "duration": 9,
    "start_time": "2022-03-29T13:14:17.373Z"
   },
   {
    "duration": 7,
    "start_time": "2022-03-29T13:14:17.384Z"
   },
   {
    "duration": 9,
    "start_time": "2022-03-29T13:14:17.393Z"
   },
   {
    "duration": 7,
    "start_time": "2022-03-29T13:14:17.406Z"
   },
   {
    "duration": 10,
    "start_time": "2022-03-29T13:14:17.415Z"
   },
   {
    "duration": 14,
    "start_time": "2022-03-29T13:14:17.427Z"
   },
   {
    "duration": 18,
    "start_time": "2022-03-29T13:14:17.443Z"
   },
   {
    "duration": 35,
    "start_time": "2022-03-29T13:14:17.463Z"
   },
   {
    "duration": 1271,
    "start_time": "2022-03-29T13:14:17.500Z"
   },
   {
    "duration": 0,
    "start_time": "2022-03-29T13:14:18.773Z"
   },
   {
    "duration": 0,
    "start_time": "2022-03-29T13:14:18.774Z"
   },
   {
    "duration": 0,
    "start_time": "2022-03-29T13:14:18.775Z"
   },
   {
    "duration": 0,
    "start_time": "2022-03-29T13:14:18.776Z"
   },
   {
    "duration": 0,
    "start_time": "2022-03-29T13:14:18.777Z"
   },
   {
    "duration": 0,
    "start_time": "2022-03-29T13:14:18.778Z"
   },
   {
    "duration": 0,
    "start_time": "2022-03-29T13:14:18.779Z"
   },
   {
    "duration": 0,
    "start_time": "2022-03-29T13:14:18.780Z"
   },
   {
    "duration": 0,
    "start_time": "2022-03-29T13:14:18.781Z"
   },
   {
    "duration": 0,
    "start_time": "2022-03-29T13:14:18.782Z"
   },
   {
    "duration": 0,
    "start_time": "2022-03-29T13:14:18.783Z"
   },
   {
    "duration": 0,
    "start_time": "2022-03-29T13:14:18.784Z"
   },
   {
    "duration": 0,
    "start_time": "2022-03-29T13:14:18.785Z"
   },
   {
    "duration": 0,
    "start_time": "2022-03-29T13:14:18.786Z"
   },
   {
    "duration": 0,
    "start_time": "2022-03-29T13:14:18.787Z"
   },
   {
    "duration": 8,
    "start_time": "2022-03-29T13:19:23.750Z"
   },
   {
    "duration": 11,
    "start_time": "2022-03-29T13:19:30.545Z"
   },
   {
    "duration": 9,
    "start_time": "2022-03-29T13:19:55.225Z"
   },
   {
    "duration": 6,
    "start_time": "2022-03-29T13:20:02.126Z"
   },
   {
    "duration": 30,
    "start_time": "2022-03-29T13:20:17.619Z"
   },
   {
    "duration": 1208,
    "start_time": "2022-03-29T13:29:16.571Z"
   },
   {
    "duration": 201,
    "start_time": "2022-03-29T13:29:17.781Z"
   },
   {
    "duration": 55,
    "start_time": "2022-03-29T13:29:17.983Z"
   },
   {
    "duration": 25,
    "start_time": "2022-03-29T13:29:18.040Z"
   },
   {
    "duration": 22,
    "start_time": "2022-03-29T13:29:18.067Z"
   },
   {
    "duration": 22,
    "start_time": "2022-03-29T13:29:18.091Z"
   },
   {
    "duration": 38,
    "start_time": "2022-03-29T13:29:18.114Z"
   },
   {
    "duration": 16,
    "start_time": "2022-03-29T13:29:18.154Z"
   },
   {
    "duration": 8,
    "start_time": "2022-03-29T13:29:18.171Z"
   },
   {
    "duration": 67,
    "start_time": "2022-03-29T13:29:18.181Z"
   },
   {
    "duration": 28,
    "start_time": "2022-03-29T13:29:18.250Z"
   },
   {
    "duration": 30,
    "start_time": "2022-03-29T13:29:18.280Z"
   },
   {
    "duration": 27,
    "start_time": "2022-03-29T13:29:18.312Z"
   },
   {
    "duration": 41,
    "start_time": "2022-03-29T13:29:18.340Z"
   },
   {
    "duration": 14,
    "start_time": "2022-03-29T13:29:18.383Z"
   },
   {
    "duration": 6,
    "start_time": "2022-03-29T13:29:18.398Z"
   },
   {
    "duration": 8,
    "start_time": "2022-03-29T13:29:18.406Z"
   },
   {
    "duration": 24,
    "start_time": "2022-03-29T13:29:18.416Z"
   },
   {
    "duration": 10,
    "start_time": "2022-03-29T13:29:18.441Z"
   },
   {
    "duration": 6,
    "start_time": "2022-03-29T13:29:18.453Z"
   },
   {
    "duration": 5,
    "start_time": "2022-03-29T13:29:18.461Z"
   },
   {
    "duration": 9,
    "start_time": "2022-03-29T13:29:18.468Z"
   },
   {
    "duration": 11,
    "start_time": "2022-03-29T13:29:18.479Z"
   },
   {
    "duration": 11,
    "start_time": "2022-03-29T13:29:18.491Z"
   },
   {
    "duration": 8,
    "start_time": "2022-03-29T13:29:18.503Z"
   },
   {
    "duration": 6,
    "start_time": "2022-03-29T13:29:18.513Z"
   },
   {
    "duration": 6,
    "start_time": "2022-03-29T13:29:18.520Z"
   },
   {
    "duration": 5,
    "start_time": "2022-03-29T13:29:18.537Z"
   },
   {
    "duration": 11,
    "start_time": "2022-03-29T13:29:18.543Z"
   },
   {
    "duration": 10,
    "start_time": "2022-03-29T13:29:18.555Z"
   },
   {
    "duration": 7,
    "start_time": "2022-03-29T13:29:18.566Z"
   },
   {
    "duration": 31,
    "start_time": "2022-03-29T13:29:18.575Z"
   },
   {
    "duration": 141,
    "start_time": "2022-03-29T13:29:18.607Z"
   },
   {
    "duration": 33,
    "start_time": "2022-03-29T13:29:18.749Z"
   },
   {
    "duration": 4,
    "start_time": "2022-03-29T13:29:18.784Z"
   },
   {
    "duration": 816,
    "start_time": "2022-03-29T13:29:18.790Z"
   },
   {
    "duration": 31,
    "start_time": "2022-03-29T13:29:19.608Z"
   },
   {
    "duration": 400,
    "start_time": "2022-03-29T13:29:19.640Z"
   },
   {
    "duration": 23,
    "start_time": "2022-03-29T13:29:20.042Z"
   },
   {
    "duration": 612,
    "start_time": "2022-03-29T13:29:20.067Z"
   },
   {
    "duration": 74,
    "start_time": "2022-03-29T13:29:20.681Z"
   },
   {
    "duration": 22,
    "start_time": "2022-03-29T13:29:20.757Z"
   },
   {
    "duration": 62,
    "start_time": "2022-03-29T13:29:20.780Z"
   },
   {
    "duration": 8,
    "start_time": "2022-03-29T13:29:20.844Z"
   },
   {
    "duration": 7,
    "start_time": "2022-03-29T13:29:20.853Z"
   },
   {
    "duration": 8,
    "start_time": "2022-03-29T13:29:20.862Z"
   },
   {
    "duration": 7,
    "start_time": "2022-03-29T13:29:20.871Z"
   },
   {
    "duration": 68,
    "start_time": "2022-03-29T13:29:20.880Z"
   },
   {
    "duration": 38,
    "start_time": "2022-03-29T13:31:25.163Z"
   },
   {
    "duration": 13,
    "start_time": "2022-03-29T13:34:48.644Z"
   },
   {
    "duration": 1234,
    "start_time": "2022-03-29T13:34:56.458Z"
   },
   {
    "duration": 197,
    "start_time": "2022-03-29T13:34:57.694Z"
   },
   {
    "duration": 62,
    "start_time": "2022-03-29T13:34:57.893Z"
   },
   {
    "duration": 25,
    "start_time": "2022-03-29T13:34:57.958Z"
   },
   {
    "duration": 21,
    "start_time": "2022-03-29T13:34:57.985Z"
   },
   {
    "duration": 43,
    "start_time": "2022-03-29T13:34:58.008Z"
   },
   {
    "duration": 17,
    "start_time": "2022-03-29T13:34:58.053Z"
   },
   {
    "duration": 15,
    "start_time": "2022-03-29T13:34:58.072Z"
   },
   {
    "duration": 7,
    "start_time": "2022-03-29T13:34:58.088Z"
   },
   {
    "duration": 68,
    "start_time": "2022-03-29T13:34:58.097Z"
   },
   {
    "duration": 33,
    "start_time": "2022-03-29T13:34:58.166Z"
   },
   {
    "duration": 50,
    "start_time": "2022-03-29T13:34:58.200Z"
   },
   {
    "duration": 4,
    "start_time": "2022-03-29T13:34:58.251Z"
   },
   {
    "duration": 46,
    "start_time": "2022-03-29T13:34:58.256Z"
   },
   {
    "duration": 15,
    "start_time": "2022-03-29T13:34:58.304Z"
   },
   {
    "duration": 6,
    "start_time": "2022-03-29T13:34:58.338Z"
   },
   {
    "duration": 9,
    "start_time": "2022-03-29T13:34:58.346Z"
   },
   {
    "duration": 15,
    "start_time": "2022-03-29T13:34:58.357Z"
   },
   {
    "duration": 5,
    "start_time": "2022-03-29T13:34:58.374Z"
   },
   {
    "duration": 8,
    "start_time": "2022-03-29T13:34:58.381Z"
   },
   {
    "duration": 9,
    "start_time": "2022-03-29T13:34:58.391Z"
   },
   {
    "duration": 8,
    "start_time": "2022-03-29T13:34:58.402Z"
   },
   {
    "duration": 15,
    "start_time": "2022-03-29T13:34:58.412Z"
   },
   {
    "duration": 10,
    "start_time": "2022-03-29T13:34:58.428Z"
   },
   {
    "duration": 4,
    "start_time": "2022-03-29T13:34:58.440Z"
   },
   {
    "duration": 7,
    "start_time": "2022-03-29T13:34:58.445Z"
   },
   {
    "duration": 7,
    "start_time": "2022-03-29T13:34:58.454Z"
   },
   {
    "duration": 6,
    "start_time": "2022-03-29T13:34:58.464Z"
   },
   {
    "duration": 6,
    "start_time": "2022-03-29T13:34:58.471Z"
   },
   {
    "duration": 5,
    "start_time": "2022-03-29T13:34:58.479Z"
   },
   {
    "duration": 12,
    "start_time": "2022-03-29T13:34:58.486Z"
   },
   {
    "duration": 51,
    "start_time": "2022-03-29T13:34:58.500Z"
   },
   {
    "duration": 127,
    "start_time": "2022-03-29T13:34:58.554Z"
   },
   {
    "duration": 33,
    "start_time": "2022-03-29T13:34:58.683Z"
   },
   {
    "duration": 20,
    "start_time": "2022-03-29T13:34:58.718Z"
   },
   {
    "duration": 630,
    "start_time": "2022-03-29T13:34:58.740Z"
   },
   {
    "duration": 22,
    "start_time": "2022-03-29T13:34:59.372Z"
   },
   {
    "duration": 337,
    "start_time": "2022-03-29T13:34:59.396Z"
   },
   {
    "duration": 22,
    "start_time": "2022-03-29T13:34:59.735Z"
   },
   {
    "duration": 327,
    "start_time": "2022-03-29T13:34:59.760Z"
   },
   {
    "duration": 25,
    "start_time": "2022-03-29T13:35:00.089Z"
   },
   {
    "duration": 41,
    "start_time": "2022-03-29T13:35:00.116Z"
   },
   {
    "duration": 13,
    "start_time": "2022-03-29T13:35:00.159Z"
   },
   {
    "duration": 18,
    "start_time": "2022-03-29T13:35:00.173Z"
   },
   {
    "duration": 12,
    "start_time": "2022-03-29T13:35:00.193Z"
   },
   {
    "duration": 33,
    "start_time": "2022-03-29T13:35:00.206Z"
   },
   {
    "duration": 11,
    "start_time": "2022-03-29T13:35:00.241Z"
   },
   {
    "duration": 16,
    "start_time": "2022-03-29T13:35:00.253Z"
   },
   {
    "duration": 4,
    "start_time": "2022-03-29T13:37:02.156Z"
   },
   {
    "duration": 308,
    "start_time": "2022-03-29T13:37:03.742Z"
   },
   {
    "duration": 5,
    "start_time": "2022-03-29T13:38:35.006Z"
   },
   {
    "duration": 406,
    "start_time": "2022-03-29T13:38:37.129Z"
   },
   {
    "duration": 5,
    "start_time": "2022-03-29T13:38:56.859Z"
   },
   {
    "duration": 301,
    "start_time": "2022-03-29T13:38:58.969Z"
   },
   {
    "duration": 4,
    "start_time": "2022-03-29T13:40:28.046Z"
   },
   {
    "duration": 341,
    "start_time": "2022-03-29T13:40:30.055Z"
   },
   {
    "duration": 141,
    "start_time": "2022-03-29T13:40:51.070Z"
   },
   {
    "duration": 5,
    "start_time": "2022-03-29T13:41:24.749Z"
   },
   {
    "duration": 333,
    "start_time": "2022-03-29T13:41:26.233Z"
   },
   {
    "duration": 99,
    "start_time": "2022-03-29T13:42:45.743Z"
   },
   {
    "duration": 5,
    "start_time": "2022-03-29T13:43:10.100Z"
   },
   {
    "duration": 325,
    "start_time": "2022-03-29T13:43:11.462Z"
   },
   {
    "duration": 437,
    "start_time": "2022-03-29T13:44:38.637Z"
   },
   {
    "duration": 312,
    "start_time": "2022-03-29T13:45:52.230Z"
   },
   {
    "duration": 308,
    "start_time": "2022-03-29T13:46:29.303Z"
   },
   {
    "duration": 321,
    "start_time": "2022-03-29T13:46:54.847Z"
   },
   {
    "duration": 341,
    "start_time": "2022-03-29T13:47:01.753Z"
   },
   {
    "duration": 115,
    "start_time": "2022-03-29T13:47:35.829Z"
   },
   {
    "duration": 119,
    "start_time": "2022-03-29T13:50:14.755Z"
   },
   {
    "duration": 159,
    "start_time": "2022-03-29T13:51:01.604Z"
   },
   {
    "duration": 1702,
    "start_time": "2022-03-29T14:55:12.599Z"
   },
   {
    "duration": 299,
    "start_time": "2022-03-29T14:55:14.304Z"
   },
   {
    "duration": 52,
    "start_time": "2022-03-29T14:55:14.605Z"
   },
   {
    "duration": 56,
    "start_time": "2022-03-29T14:55:14.660Z"
   },
   {
    "duration": 29,
    "start_time": "2022-03-29T14:55:14.719Z"
   },
   {
    "duration": 54,
    "start_time": "2022-03-29T14:55:14.751Z"
   },
   {
    "duration": 24,
    "start_time": "2022-03-29T14:55:14.807Z"
   },
   {
    "duration": 20,
    "start_time": "2022-03-29T14:55:14.833Z"
   },
   {
    "duration": 31,
    "start_time": "2022-03-29T14:55:14.855Z"
   },
   {
    "duration": 94,
    "start_time": "2022-03-29T14:55:14.892Z"
   },
   {
    "duration": 57,
    "start_time": "2022-03-29T14:55:14.989Z"
   },
   {
    "duration": 73,
    "start_time": "2022-03-29T14:55:15.048Z"
   },
   {
    "duration": 5,
    "start_time": "2022-03-29T14:55:15.124Z"
   },
   {
    "duration": 79,
    "start_time": "2022-03-29T14:55:15.131Z"
   },
   {
    "duration": 19,
    "start_time": "2022-03-29T14:55:15.213Z"
   },
   {
    "duration": 18,
    "start_time": "2022-03-29T14:55:15.235Z"
   },
   {
    "duration": 24,
    "start_time": "2022-03-29T14:55:15.256Z"
   },
   {
    "duration": 19,
    "start_time": "2022-03-29T14:55:15.284Z"
   },
   {
    "duration": 22,
    "start_time": "2022-03-29T14:55:15.306Z"
   },
   {
    "duration": 17,
    "start_time": "2022-03-29T14:55:15.331Z"
   },
   {
    "duration": 12,
    "start_time": "2022-03-29T14:55:15.350Z"
   },
   {
    "duration": 16,
    "start_time": "2022-03-29T14:55:15.364Z"
   },
   {
    "duration": 11,
    "start_time": "2022-03-29T14:55:15.382Z"
   },
   {
    "duration": 14,
    "start_time": "2022-03-29T14:55:15.396Z"
   },
   {
    "duration": 55,
    "start_time": "2022-03-29T14:55:15.412Z"
   },
   {
    "duration": 200,
    "start_time": "2022-03-29T14:55:15.470Z"
   },
   {
    "duration": 56,
    "start_time": "2022-03-29T14:55:15.672Z"
   },
   {
    "duration": 6,
    "start_time": "2022-03-29T14:55:15.732Z"
   },
   {
    "duration": 1328,
    "start_time": "2022-03-29T14:55:15.741Z"
   },
   {
    "duration": 36,
    "start_time": "2022-03-29T14:55:17.086Z"
   },
   {
    "duration": 559,
    "start_time": "2022-03-29T14:55:17.125Z"
   },
   {
    "duration": 37,
    "start_time": "2022-03-29T14:55:17.686Z"
   },
   {
    "duration": 874,
    "start_time": "2022-03-29T14:55:17.725Z"
   },
   {
    "duration": 30,
    "start_time": "2022-03-29T14:55:18.601Z"
   },
   {
    "duration": 33,
    "start_time": "2022-03-29T14:55:18.685Z"
   },
   {
    "duration": 66,
    "start_time": "2022-03-29T14:55:18.720Z"
   },
   {
    "duration": 12,
    "start_time": "2022-03-29T14:55:18.788Z"
   },
   {
    "duration": 11,
    "start_time": "2022-03-29T14:55:18.803Z"
   },
   {
    "duration": 69,
    "start_time": "2022-03-29T14:55:18.816Z"
   },
   {
    "duration": 11,
    "start_time": "2022-03-29T14:55:18.887Z"
   },
   {
    "duration": 20,
    "start_time": "2022-03-29T14:55:18.900Z"
   },
   {
    "duration": 554,
    "start_time": "2022-03-29T14:59:02.575Z"
   },
   {
    "duration": 300,
    "start_time": "2022-03-29T14:59:03.241Z"
   },
   {
    "duration": 45,
    "start_time": "2022-03-29T14:59:07.504Z"
   },
   {
    "duration": 35,
    "start_time": "2022-03-29T14:59:07.897Z"
   },
   {
    "duration": 35,
    "start_time": "2022-03-29T14:59:08.475Z"
   },
   {
    "duration": 31,
    "start_time": "2022-03-29T14:59:10.043Z"
   },
   {
    "duration": 24,
    "start_time": "2022-03-29T14:59:10.435Z"
   },
   {
    "duration": 21,
    "start_time": "2022-03-29T14:59:10.905Z"
   },
   {
    "duration": 8,
    "start_time": "2022-03-29T14:59:13.447Z"
   },
   {
    "duration": 71,
    "start_time": "2022-03-29T14:59:13.920Z"
   },
   {
    "duration": 7,
    "start_time": "2022-03-29T14:59:17.922Z"
   },
   {
    "duration": 37,
    "start_time": "2022-03-29T14:59:22.917Z"
   },
   {
    "duration": 64,
    "start_time": "2022-03-29T14:59:32.493Z"
   },
   {
    "duration": 6,
    "start_time": "2022-03-29T14:59:34.431Z"
   },
   {
    "duration": 97,
    "start_time": "2022-03-29T14:59:35.801Z"
   },
   {
    "duration": 1757,
    "start_time": "2022-03-29T15:01:54.659Z"
   },
   {
    "duration": 302,
    "start_time": "2022-03-29T15:01:56.418Z"
   },
   {
    "duration": 77,
    "start_time": "2022-03-29T15:01:56.722Z"
   },
   {
    "duration": 39,
    "start_time": "2022-03-29T15:01:56.803Z"
   },
   {
    "duration": 58,
    "start_time": "2022-03-29T15:01:56.845Z"
   },
   {
    "duration": 39,
    "start_time": "2022-03-29T15:01:56.905Z"
   },
   {
    "duration": 24,
    "start_time": "2022-03-29T15:01:56.946Z"
   },
   {
    "duration": 59,
    "start_time": "2022-03-29T15:01:56.972Z"
   },
   {
    "duration": 10,
    "start_time": "2022-03-29T15:01:57.034Z"
   },
   {
    "duration": 82,
    "start_time": "2022-03-29T15:01:57.049Z"
   },
   {
    "duration": 46,
    "start_time": "2022-03-29T15:01:57.133Z"
   },
   {
    "duration": 45,
    "start_time": "2022-03-29T15:01:57.187Z"
   },
   {
    "duration": 6,
    "start_time": "2022-03-29T15:01:57.235Z"
   },
   {
    "duration": 107,
    "start_time": "2022-03-29T15:01:57.243Z"
   },
   {
    "duration": 19,
    "start_time": "2022-03-29T15:01:57.352Z"
   },
   {
    "duration": 44,
    "start_time": "2022-03-29T15:01:57.374Z"
   },
   {
    "duration": 52,
    "start_time": "2022-03-29T15:01:57.421Z"
   },
   {
    "duration": 35,
    "start_time": "2022-03-29T15:01:57.476Z"
   },
   {
    "duration": 39,
    "start_time": "2022-03-29T15:01:57.514Z"
   },
   {
    "duration": 55,
    "start_time": "2022-03-29T15:01:57.556Z"
   },
   {
    "duration": 32,
    "start_time": "2022-03-29T15:01:57.614Z"
   },
   {
    "duration": 40,
    "start_time": "2022-03-29T15:01:57.650Z"
   },
   {
    "duration": 52,
    "start_time": "2022-03-29T15:01:57.693Z"
   },
   {
    "duration": 37,
    "start_time": "2022-03-29T15:01:57.748Z"
   },
   {
    "duration": 109,
    "start_time": "2022-03-29T15:01:57.788Z"
   },
   {
    "duration": 420,
    "start_time": "2022-03-29T15:01:57.901Z"
   },
   {
    "duration": 107,
    "start_time": "2022-03-29T15:01:58.323Z"
   },
   {
    "duration": 9,
    "start_time": "2022-03-29T15:01:58.484Z"
   },
   {
    "duration": 1901,
    "start_time": "2022-03-29T15:01:58.495Z"
   },
   {
    "duration": 86,
    "start_time": "2022-03-29T15:02:00.399Z"
   },
   {
    "duration": 632,
    "start_time": "2022-03-29T15:02:00.487Z"
   },
   {
    "duration": 31,
    "start_time": "2022-03-29T15:02:01.121Z"
   },
   {
    "duration": 544,
    "start_time": "2022-03-29T15:02:01.154Z"
   },
   {
    "duration": 31,
    "start_time": "2022-03-29T15:02:01.702Z"
   },
   {
    "duration": 57,
    "start_time": "2022-03-29T15:02:01.736Z"
   },
   {
    "duration": 34,
    "start_time": "2022-03-29T15:02:01.795Z"
   },
   {
    "duration": 23,
    "start_time": "2022-03-29T15:02:01.831Z"
   },
   {
    "duration": 32,
    "start_time": "2022-03-29T15:02:01.858Z"
   },
   {
    "duration": 66,
    "start_time": "2022-03-29T15:02:01.892Z"
   },
   {
    "duration": 60,
    "start_time": "2022-03-29T15:02:01.960Z"
   },
   {
    "duration": 66,
    "start_time": "2022-03-29T15:02:02.022Z"
   },
   {
    "duration": 112,
    "start_time": "2022-03-29T15:07:24.695Z"
   },
   {
    "duration": 511,
    "start_time": "2022-03-29T15:14:27.335Z"
   },
   {
    "duration": 582,
    "start_time": "2022-03-29T15:14:28.071Z"
   },
   {
    "duration": 491,
    "start_time": "2022-03-29T15:14:57.363Z"
   },
   {
    "duration": 611,
    "start_time": "2022-03-29T15:14:58.017Z"
   },
   {
    "duration": 154,
    "start_time": "2022-03-29T15:16:21.958Z"
   },
   {
    "duration": 1686,
    "start_time": "2022-03-29T15:18:45.797Z"
   },
   {
    "duration": 653,
    "start_time": "2022-03-29T15:18:47.486Z"
   },
   {
    "duration": 72,
    "start_time": "2022-03-29T15:18:48.141Z"
   },
   {
    "duration": 36,
    "start_time": "2022-03-29T15:18:48.217Z"
   },
   {
    "duration": 48,
    "start_time": "2022-03-29T15:18:48.256Z"
   },
   {
    "duration": 32,
    "start_time": "2022-03-29T15:18:48.307Z"
   },
   {
    "duration": 53,
    "start_time": "2022-03-29T15:18:48.342Z"
   },
   {
    "duration": 21,
    "start_time": "2022-03-29T15:18:48.397Z"
   },
   {
    "duration": 8,
    "start_time": "2022-03-29T15:18:48.420Z"
   },
   {
    "duration": 86,
    "start_time": "2022-03-29T15:18:48.432Z"
   },
   {
    "duration": 40,
    "start_time": "2022-03-29T15:18:48.522Z"
   },
   {
    "duration": 42,
    "start_time": "2022-03-29T15:18:48.584Z"
   },
   {
    "duration": 5,
    "start_time": "2022-03-29T15:18:48.629Z"
   },
   {
    "duration": 91,
    "start_time": "2022-03-29T15:18:48.638Z"
   },
   {
    "duration": 19,
    "start_time": "2022-03-29T15:18:48.731Z"
   },
   {
    "duration": 31,
    "start_time": "2022-03-29T15:18:48.752Z"
   },
   {
    "duration": 16,
    "start_time": "2022-03-29T15:18:48.786Z"
   },
   {
    "duration": 7,
    "start_time": "2022-03-29T15:18:48.804Z"
   },
   {
    "duration": 13,
    "start_time": "2022-03-29T15:18:48.813Z"
   },
   {
    "duration": 9,
    "start_time": "2022-03-29T15:18:48.829Z"
   },
   {
    "duration": 8,
    "start_time": "2022-03-29T15:18:48.840Z"
   },
   {
    "duration": 8,
    "start_time": "2022-03-29T15:18:48.850Z"
   },
   {
    "duration": 27,
    "start_time": "2022-03-29T15:18:48.860Z"
   },
   {
    "duration": 9,
    "start_time": "2022-03-29T15:18:48.890Z"
   },
   {
    "duration": 42,
    "start_time": "2022-03-29T15:18:48.902Z"
   },
   {
    "duration": 228,
    "start_time": "2022-03-29T15:18:48.947Z"
   },
   {
    "duration": 53,
    "start_time": "2022-03-29T15:18:49.177Z"
   },
   {
    "duration": 6,
    "start_time": "2022-03-29T15:18:49.235Z"
   },
   {
    "duration": 900,
    "start_time": "2022-03-29T15:18:49.243Z"
   },
   {
    "duration": 40,
    "start_time": "2022-03-29T15:18:50.145Z"
   },
   {
    "duration": 498,
    "start_time": "2022-03-29T15:18:50.188Z"
   },
   {
    "duration": 30,
    "start_time": "2022-03-29T15:18:50.689Z"
   },
   {
    "duration": 509,
    "start_time": "2022-03-29T15:18:50.721Z"
   },
   {
    "duration": 33,
    "start_time": "2022-03-29T15:18:51.232Z"
   },
   {
    "duration": 33,
    "start_time": "2022-03-29T15:18:51.284Z"
   },
   {
    "duration": 17,
    "start_time": "2022-03-29T15:18:51.319Z"
   },
   {
    "duration": 11,
    "start_time": "2022-03-29T15:18:51.338Z"
   },
   {
    "duration": 44,
    "start_time": "2022-03-29T15:18:51.350Z"
   },
   {
    "duration": 27,
    "start_time": "2022-03-29T15:18:51.396Z"
   },
   {
    "duration": 18,
    "start_time": "2022-03-29T15:18:51.425Z"
   },
   {
    "duration": 42,
    "start_time": "2022-03-29T15:18:51.446Z"
   },
   {
    "duration": 46,
    "start_time": "2022-03-30T11:42:44.904Z"
   },
   {
    "duration": 1142,
    "start_time": "2022-03-30T11:42:52.612Z"
   },
   {
    "duration": 414,
    "start_time": "2022-03-30T11:42:53.756Z"
   },
   {
    "duration": 33,
    "start_time": "2022-03-30T11:42:57.028Z"
   },
   {
    "duration": 25,
    "start_time": "2022-03-30T11:42:57.431Z"
   },
   {
    "duration": 20,
    "start_time": "2022-03-30T11:42:57.598Z"
   },
   {
    "duration": 21,
    "start_time": "2022-03-30T11:42:58.002Z"
   },
   {
    "duration": 17,
    "start_time": "2022-03-30T11:42:58.172Z"
   },
   {
    "duration": 16,
    "start_time": "2022-03-30T11:42:58.348Z"
   },
   {
    "duration": 7,
    "start_time": "2022-03-30T11:43:01.000Z"
   },
   {
    "duration": 42,
    "start_time": "2022-03-30T11:43:01.084Z"
   },
   {
    "duration": 27,
    "start_time": "2022-03-30T11:43:05.540Z"
   },
   {
    "duration": 32,
    "start_time": "2022-03-30T11:43:07.421Z"
   },
   {
    "duration": 4,
    "start_time": "2022-03-30T11:43:09.693Z"
   },
   {
    "duration": 34,
    "start_time": "2022-03-30T11:43:10.298Z"
   },
   {
    "duration": 4,
    "start_time": "2022-03-30T11:43:13.727Z"
   },
   {
    "duration": 4,
    "start_time": "2022-03-30T11:43:39.486Z"
   },
   {
    "duration": 6,
    "start_time": "2022-03-30T11:49:22.147Z"
   },
   {
    "duration": 6,
    "start_time": "2022-03-30T11:49:37.619Z"
   },
   {
    "duration": 4,
    "start_time": "2022-03-30T11:49:41.326Z"
   },
   {
    "duration": 5,
    "start_time": "2022-03-30T11:52:38.462Z"
   },
   {
    "duration": 2917,
    "start_time": "2022-03-30T11:53:16.056Z"
   },
   {
    "duration": 2600,
    "start_time": "2022-03-30T11:53:40.148Z"
   },
   {
    "duration": 5,
    "start_time": "2022-03-30T11:53:57.196Z"
   },
   {
    "duration": 5,
    "start_time": "2022-03-30T11:54:50.360Z"
   },
   {
    "duration": 5,
    "start_time": "2022-03-30T11:55:59.867Z"
   },
   {
    "duration": 7,
    "start_time": "2022-03-30T11:57:21.080Z"
   },
   {
    "duration": 4,
    "start_time": "2022-03-30T11:57:37.641Z"
   },
   {
    "duration": 13,
    "start_time": "2022-03-30T12:03:24.400Z"
   },
   {
    "duration": 9,
    "start_time": "2022-03-30T12:04:25.401Z"
   },
   {
    "duration": 15,
    "start_time": "2022-03-30T12:05:00.044Z"
   },
   {
    "duration": 21,
    "start_time": "2022-03-30T12:05:05.847Z"
   },
   {
    "duration": 34,
    "start_time": "2022-03-30T12:05:14.867Z"
   },
   {
    "duration": 12,
    "start_time": "2022-03-30T12:05:43.638Z"
   },
   {
    "duration": 12,
    "start_time": "2022-03-30T12:06:03.498Z"
   },
   {
    "duration": 13,
    "start_time": "2022-03-30T12:06:10.980Z"
   },
   {
    "duration": 10,
    "start_time": "2022-03-30T12:06:27.264Z"
   },
   {
    "duration": 10,
    "start_time": "2022-03-30T12:06:36.950Z"
   },
   {
    "duration": 5,
    "start_time": "2022-03-30T12:06:41.565Z"
   },
   {
    "duration": 9,
    "start_time": "2022-03-30T12:06:48.599Z"
   },
   {
    "duration": 30,
    "start_time": "2022-03-30T12:06:48.876Z"
   },
   {
    "duration": 24,
    "start_time": "2022-03-30T12:11:12.753Z"
   },
   {
    "duration": 20,
    "start_time": "2022-03-30T12:12:48.768Z"
   },
   {
    "duration": 5,
    "start_time": "2022-03-30T12:13:29.810Z"
   },
   {
    "duration": 20,
    "start_time": "2022-03-30T12:22:02.405Z"
   },
   {
    "duration": 1169,
    "start_time": "2022-03-30T12:26:27.881Z"
   },
   {
    "duration": 394,
    "start_time": "2022-03-30T12:26:29.053Z"
   },
   {
    "duration": 32,
    "start_time": "2022-03-30T12:26:29.850Z"
   },
   {
    "duration": 27,
    "start_time": "2022-03-30T12:26:29.996Z"
   },
   {
    "duration": 21,
    "start_time": "2022-03-30T12:26:30.150Z"
   },
   {
    "duration": 24,
    "start_time": "2022-03-30T12:26:31.082Z"
   },
   {
    "duration": 18,
    "start_time": "2022-03-30T12:26:31.274Z"
   },
   {
    "duration": 15,
    "start_time": "2022-03-30T12:26:31.437Z"
   },
   {
    "duration": 7,
    "start_time": "2022-03-30T12:26:33.250Z"
   },
   {
    "duration": 42,
    "start_time": "2022-03-30T12:26:33.424Z"
   },
   {
    "duration": 27,
    "start_time": "2022-03-30T12:26:35.455Z"
   },
   {
    "duration": 31,
    "start_time": "2022-03-30T12:26:36.940Z"
   },
   {
    "duration": 3,
    "start_time": "2022-03-30T12:26:38.797Z"
   },
   {
    "duration": 40,
    "start_time": "2022-03-30T12:26:39.640Z"
   },
   {
    "duration": 21,
    "start_time": "2022-03-30T12:27:03.663Z"
   },
   {
    "duration": 6,
    "start_time": "2022-03-30T12:27:04.970Z"
   },
   {
    "duration": 5,
    "start_time": "2022-03-30T12:27:05.362Z"
   },
   {
    "duration": 6,
    "start_time": "2022-03-30T12:27:06.010Z"
   },
   {
    "duration": 5,
    "start_time": "2022-03-30T12:27:06.423Z"
   },
   {
    "duration": 5,
    "start_time": "2022-03-30T12:27:07.626Z"
   },
   {
    "duration": 20,
    "start_time": "2022-03-30T12:27:08.026Z"
   },
   {
    "duration": 13,
    "start_time": "2022-03-30T12:35:23.584Z"
   },
   {
    "duration": 6,
    "start_time": "2022-03-30T12:35:24.999Z"
   },
   {
    "duration": 5,
    "start_time": "2022-03-30T12:35:25.175Z"
   },
   {
    "duration": 4,
    "start_time": "2022-03-30T12:35:26.095Z"
   },
   {
    "duration": 4,
    "start_time": "2022-03-30T12:35:26.286Z"
   },
   {
    "duration": 5,
    "start_time": "2022-03-30T12:35:26.431Z"
   },
   {
    "duration": 4,
    "start_time": "2022-03-30T12:35:26.571Z"
   },
   {
    "duration": 4,
    "start_time": "2022-03-30T12:35:26.867Z"
   },
   {
    "duration": 4,
    "start_time": "2022-03-30T12:35:27.071Z"
   },
   {
    "duration": 3,
    "start_time": "2022-03-30T12:35:29.555Z"
   },
   {
    "duration": 26,
    "start_time": "2022-03-30T12:35:30.028Z"
   },
   {
    "duration": 101,
    "start_time": "2022-03-30T12:35:31.508Z"
   },
   {
    "duration": 1305,
    "start_time": "2022-03-30T13:15:47.425Z"
   },
   {
    "duration": 406,
    "start_time": "2022-03-30T13:15:48.732Z"
   },
   {
    "duration": 30,
    "start_time": "2022-03-30T13:15:49.141Z"
   },
   {
    "duration": 41,
    "start_time": "2022-03-30T13:15:49.173Z"
   },
   {
    "duration": 20,
    "start_time": "2022-03-30T13:15:49.215Z"
   },
   {
    "duration": 21,
    "start_time": "2022-03-30T13:15:49.236Z"
   },
   {
    "duration": 45,
    "start_time": "2022-03-30T13:15:49.258Z"
   },
   {
    "duration": 15,
    "start_time": "2022-03-30T13:15:49.305Z"
   },
   {
    "duration": 6,
    "start_time": "2022-03-30T13:15:49.321Z"
   },
   {
    "duration": 41,
    "start_time": "2022-03-30T13:15:49.330Z"
   },
   {
    "duration": 50,
    "start_time": "2022-03-30T13:15:49.372Z"
   },
   {
    "duration": 28,
    "start_time": "2022-03-30T13:15:49.424Z"
   },
   {
    "duration": 3,
    "start_time": "2022-03-30T13:15:49.453Z"
   },
   {
    "duration": 53,
    "start_time": "2022-03-30T13:15:49.457Z"
   },
   {
    "duration": 31,
    "start_time": "2022-03-30T13:15:49.512Z"
   },
   {
    "duration": 6,
    "start_time": "2022-03-30T13:15:49.545Z"
   },
   {
    "duration": 6,
    "start_time": "2022-03-30T13:15:49.553Z"
   },
   {
    "duration": 7,
    "start_time": "2022-03-30T13:15:49.561Z"
   },
   {
    "duration": 5,
    "start_time": "2022-03-30T13:15:49.602Z"
   },
   {
    "duration": 7,
    "start_time": "2022-03-30T13:15:49.609Z"
   },
   {
    "duration": 26,
    "start_time": "2022-03-30T13:15:49.618Z"
   },
   {
    "duration": 57,
    "start_time": "2022-03-30T13:15:49.646Z"
   },
   {
    "duration": 20,
    "start_time": "2022-03-30T13:15:49.705Z"
   },
   {
    "duration": 7,
    "start_time": "2022-03-30T13:15:49.728Z"
   },
   {
    "duration": 8,
    "start_time": "2022-03-30T13:15:49.737Z"
   },
   {
    "duration": 4,
    "start_time": "2022-03-30T13:15:49.747Z"
   },
   {
    "duration": 4,
    "start_time": "2022-03-30T13:15:49.753Z"
   },
   {
    "duration": 6,
    "start_time": "2022-03-30T13:15:49.762Z"
   },
   {
    "duration": 32,
    "start_time": "2022-03-30T13:15:49.769Z"
   },
   {
    "duration": 5,
    "start_time": "2022-03-30T13:15:49.802Z"
   },
   {
    "duration": 4,
    "start_time": "2022-03-30T13:15:49.809Z"
   },
   {
    "duration": 8,
    "start_time": "2022-03-30T13:15:49.815Z"
   },
   {
    "duration": 28,
    "start_time": "2022-03-30T13:15:49.825Z"
   },
   {
    "duration": 992,
    "start_time": "2022-03-30T13:15:49.855Z"
   },
   {
    "duration": 0,
    "start_time": "2022-03-30T13:15:50.849Z"
   },
   {
    "duration": 0,
    "start_time": "2022-03-30T13:15:50.851Z"
   },
   {
    "duration": 0,
    "start_time": "2022-03-30T13:15:50.852Z"
   },
   {
    "duration": 0,
    "start_time": "2022-03-30T13:15:50.853Z"
   },
   {
    "duration": 0,
    "start_time": "2022-03-30T13:15:50.855Z"
   },
   {
    "duration": 0,
    "start_time": "2022-03-30T13:15:50.856Z"
   },
   {
    "duration": 0,
    "start_time": "2022-03-30T13:15:50.858Z"
   },
   {
    "duration": 0,
    "start_time": "2022-03-30T13:15:50.860Z"
   },
   {
    "duration": 0,
    "start_time": "2022-03-30T13:15:50.861Z"
   },
   {
    "duration": 0,
    "start_time": "2022-03-30T13:15:50.863Z"
   },
   {
    "duration": 0,
    "start_time": "2022-03-30T13:15:50.864Z"
   },
   {
    "duration": 0,
    "start_time": "2022-03-30T13:15:50.865Z"
   },
   {
    "duration": 0,
    "start_time": "2022-03-30T13:15:50.867Z"
   },
   {
    "duration": 0,
    "start_time": "2022-03-30T13:15:50.869Z"
   },
   {
    "duration": 0,
    "start_time": "2022-03-30T13:15:50.870Z"
   },
   {
    "duration": 1243,
    "start_time": "2022-03-30T13:18:38.139Z"
   },
   {
    "duration": 428,
    "start_time": "2022-03-30T13:18:39.385Z"
   },
   {
    "duration": 32,
    "start_time": "2022-03-30T13:18:39.815Z"
   },
   {
    "duration": 23,
    "start_time": "2022-03-30T13:18:39.849Z"
   },
   {
    "duration": 39,
    "start_time": "2022-03-30T13:18:39.874Z"
   },
   {
    "duration": 23,
    "start_time": "2022-03-30T13:18:39.915Z"
   },
   {
    "duration": 17,
    "start_time": "2022-03-30T13:18:39.939Z"
   },
   {
    "duration": 15,
    "start_time": "2022-03-30T13:18:39.958Z"
   },
   {
    "duration": 27,
    "start_time": "2022-03-30T13:18:39.974Z"
   },
   {
    "duration": 42,
    "start_time": "2022-03-30T13:18:40.004Z"
   },
   {
    "duration": 28,
    "start_time": "2022-03-30T13:18:40.048Z"
   },
   {
    "duration": 29,
    "start_time": "2022-03-30T13:18:40.102Z"
   },
   {
    "duration": 3,
    "start_time": "2022-03-30T13:18:40.132Z"
   },
   {
    "duration": 35,
    "start_time": "2022-03-30T13:18:40.137Z"
   },
   {
    "duration": 41,
    "start_time": "2022-03-30T13:18:40.173Z"
   },
   {
    "duration": 5,
    "start_time": "2022-03-30T13:18:40.216Z"
   },
   {
    "duration": 6,
    "start_time": "2022-03-30T13:18:40.222Z"
   },
   {
    "duration": 6,
    "start_time": "2022-03-30T13:18:40.229Z"
   },
   {
    "duration": 7,
    "start_time": "2022-03-30T13:18:40.236Z"
   },
   {
    "duration": 5,
    "start_time": "2022-03-30T13:18:40.244Z"
   },
   {
    "duration": 53,
    "start_time": "2022-03-30T13:18:40.251Z"
   },
   {
    "duration": 21,
    "start_time": "2022-03-30T13:18:40.306Z"
   },
   {
    "duration": 11,
    "start_time": "2022-03-30T13:18:40.329Z"
   },
   {
    "duration": 50,
    "start_time": "2022-03-30T13:18:40.342Z"
   },
   {
    "duration": 11,
    "start_time": "2022-03-30T13:18:40.393Z"
   },
   {
    "duration": 9,
    "start_time": "2022-03-30T13:18:40.405Z"
   },
   {
    "duration": 10,
    "start_time": "2022-03-30T13:18:40.415Z"
   },
   {
    "duration": 7,
    "start_time": "2022-03-30T13:18:40.430Z"
   },
   {
    "duration": 8,
    "start_time": "2022-03-30T13:18:40.439Z"
   },
   {
    "duration": 6,
    "start_time": "2022-03-30T13:18:40.450Z"
   },
   {
    "duration": 9,
    "start_time": "2022-03-30T13:18:40.458Z"
   },
   {
    "duration": 8,
    "start_time": "2022-03-30T13:18:40.469Z"
   },
   {
    "duration": 48,
    "start_time": "2022-03-30T13:18:40.479Z"
   },
   {
    "duration": 124,
    "start_time": "2022-03-30T13:18:40.530Z"
   },
   {
    "duration": 28,
    "start_time": "2022-03-30T13:18:40.657Z"
   },
   {
    "duration": 4,
    "start_time": "2022-03-30T13:18:40.687Z"
   },
   {
    "duration": 778,
    "start_time": "2022-03-30T13:18:40.700Z"
   },
   {
    "duration": 30,
    "start_time": "2022-03-30T13:18:41.480Z"
   },
   {
    "duration": 285,
    "start_time": "2022-03-30T13:18:41.512Z"
   },
   {
    "duration": 23,
    "start_time": "2022-03-30T13:18:41.799Z"
   },
   {
    "duration": 301,
    "start_time": "2022-03-30T13:18:41.824Z"
   },
   {
    "duration": 21,
    "start_time": "2022-03-30T13:18:42.127Z"
   },
   {
    "duration": 22,
    "start_time": "2022-03-30T13:18:42.150Z"
   },
   {
    "duration": 36,
    "start_time": "2022-03-30T13:18:42.173Z"
   },
   {
    "duration": 7,
    "start_time": "2022-03-30T13:18:42.211Z"
   },
   {
    "duration": 7,
    "start_time": "2022-03-30T13:18:42.220Z"
   },
   {
    "duration": 8,
    "start_time": "2022-03-30T13:18:42.229Z"
   },
   {
    "duration": 8,
    "start_time": "2022-03-30T13:18:42.238Z"
   },
   {
    "duration": 57,
    "start_time": "2022-03-30T13:18:42.248Z"
   },
   {
    "duration": 30,
    "start_time": "2022-03-30T13:19:08.005Z"
   },
   {
    "duration": 4,
    "start_time": "2022-03-30T13:21:46.767Z"
   },
   {
    "duration": 3678,
    "start_time": "2022-03-30T13:21:51.050Z"
   },
   {
    "duration": 3256,
    "start_time": "2022-03-30T13:22:01.709Z"
   },
   {
    "duration": 7,
    "start_time": "2022-03-30T13:22:18.745Z"
   },
   {
    "duration": 5,
    "start_time": "2022-03-30T13:22:24.178Z"
   },
   {
    "duration": 6,
    "start_time": "2022-03-30T13:22:26.498Z"
   },
   {
    "duration": 5,
    "start_time": "2022-03-30T13:23:01.429Z"
   },
   {
    "duration": 455,
    "start_time": "2022-03-30T13:23:21.205Z"
   },
   {
    "duration": 410,
    "start_time": "2022-03-30T13:23:23.556Z"
   },
   {
    "duration": 51,
    "start_time": "2022-03-30T13:23:26.862Z"
   },
   {
    "duration": 24,
    "start_time": "2022-03-30T13:23:27.452Z"
   },
   {
    "duration": 21,
    "start_time": "2022-03-30T13:23:28.963Z"
   },
   {
    "duration": 28,
    "start_time": "2022-03-30T13:23:28.988Z"
   },
   {
    "duration": 18,
    "start_time": "2022-03-30T13:23:29.524Z"
   },
   {
    "duration": 16,
    "start_time": "2022-03-30T13:23:30.039Z"
   },
   {
    "duration": 5,
    "start_time": "2022-03-30T13:23:32.582Z"
   },
   {
    "duration": 36,
    "start_time": "2022-03-30T13:23:33.857Z"
   },
   {
    "duration": 33,
    "start_time": "2022-03-30T13:23:38.091Z"
   },
   {
    "duration": 29,
    "start_time": "2022-03-30T13:23:41.148Z"
   },
   {
    "duration": 4,
    "start_time": "2022-03-30T13:23:43.647Z"
   },
   {
    "duration": 24,
    "start_time": "2022-03-30T13:23:56.613Z"
   },
   {
    "duration": 30,
    "start_time": "2022-03-30T13:24:03.324Z"
   },
   {
    "duration": 5,
    "start_time": "2022-03-30T13:24:10.585Z"
   },
   {
    "duration": 7,
    "start_time": "2022-03-30T13:24:11.599Z"
   },
   {
    "duration": 6,
    "start_time": "2022-03-30T13:24:12.779Z"
   },
   {
    "duration": 6,
    "start_time": "2022-03-30T13:24:14.065Z"
   },
   {
    "duration": 5,
    "start_time": "2022-03-30T13:24:15.345Z"
   },
   {
    "duration": 1280,
    "start_time": "2022-03-30T13:30:11.242Z"
   },
   {
    "duration": 479,
    "start_time": "2022-03-30T13:30:13.458Z"
   },
   {
    "duration": 45,
    "start_time": "2022-03-30T13:30:17.143Z"
   },
   {
    "duration": 27,
    "start_time": "2022-03-30T13:30:17.529Z"
   },
   {
    "duration": 32,
    "start_time": "2022-03-30T13:30:18.029Z"
   },
   {
    "duration": 26,
    "start_time": "2022-03-30T13:30:19.490Z"
   },
   {
    "duration": 19,
    "start_time": "2022-03-30T13:30:19.923Z"
   },
   {
    "duration": 17,
    "start_time": "2022-03-30T13:30:20.415Z"
   },
   {
    "duration": 8,
    "start_time": "2022-03-30T13:30:23.287Z"
   },
   {
    "duration": 46,
    "start_time": "2022-03-30T13:30:23.763Z"
   },
   {
    "duration": 34,
    "start_time": "2022-03-30T13:30:27.309Z"
   },
   {
    "duration": 35,
    "start_time": "2022-03-30T13:30:29.486Z"
   },
   {
    "duration": 4,
    "start_time": "2022-03-30T13:30:31.781Z"
   },
   {
    "duration": 28,
    "start_time": "2022-03-30T13:30:40.591Z"
   },
   {
    "duration": 40,
    "start_time": "2022-03-30T13:31:03.688Z"
   },
   {
    "duration": 6,
    "start_time": "2022-03-30T13:31:17.699Z"
   },
   {
    "duration": 8,
    "start_time": "2022-03-30T13:31:18.808Z"
   },
   {
    "duration": 6,
    "start_time": "2022-03-30T13:31:19.806Z"
   },
   {
    "duration": 5,
    "start_time": "2022-03-30T13:31:20.867Z"
   },
   {
    "duration": 5,
    "start_time": "2022-03-30T13:31:22.504Z"
   },
   {
    "duration": 1211,
    "start_time": "2022-03-30T13:33:35.954Z"
   },
   {
    "duration": 456,
    "start_time": "2022-03-30T13:33:37.167Z"
   },
   {
    "duration": 37,
    "start_time": "2022-03-30T13:33:37.625Z"
   },
   {
    "duration": 51,
    "start_time": "2022-03-30T13:33:37.664Z"
   },
   {
    "duration": 21,
    "start_time": "2022-03-30T13:33:37.717Z"
   },
   {
    "duration": 22,
    "start_time": "2022-03-30T13:33:37.740Z"
   },
   {
    "duration": 17,
    "start_time": "2022-03-30T13:33:37.764Z"
   },
   {
    "duration": 19,
    "start_time": "2022-03-30T13:33:37.804Z"
   },
   {
    "duration": 8,
    "start_time": "2022-03-30T13:33:37.825Z"
   },
   {
    "duration": 44,
    "start_time": "2022-03-30T13:33:37.836Z"
   },
   {
    "duration": 49,
    "start_time": "2022-03-30T13:33:37.881Z"
   },
   {
    "duration": 36,
    "start_time": "2022-03-30T13:33:37.932Z"
   },
   {
    "duration": 3,
    "start_time": "2022-03-30T13:33:37.970Z"
   },
   {
    "duration": 72,
    "start_time": "2022-03-30T13:33:37.975Z"
   },
   {
    "duration": 25,
    "start_time": "2022-03-30T13:33:38.048Z"
   },
   {
    "duration": 4,
    "start_time": "2022-03-30T13:33:38.075Z"
   },
   {
    "duration": 29,
    "start_time": "2022-03-30T13:33:38.081Z"
   },
   {
    "duration": 6,
    "start_time": "2022-03-30T13:33:38.112Z"
   },
   {
    "duration": 13,
    "start_time": "2022-03-30T13:33:38.120Z"
   },
   {
    "duration": 13,
    "start_time": "2022-03-30T13:33:38.135Z"
   },
   {
    "duration": 25,
    "start_time": "2022-03-30T13:33:38.149Z"
   },
   {
    "duration": 143,
    "start_time": "2022-03-30T13:33:38.175Z"
   },
   {
    "duration": 33,
    "start_time": "2022-03-30T13:33:38.319Z"
   },
   {
    "duration": 27,
    "start_time": "2022-03-30T13:33:38.354Z"
   },
   {
    "duration": 20,
    "start_time": "2022-03-30T13:33:38.400Z"
   },
   {
    "duration": 4,
    "start_time": "2022-03-30T13:33:38.422Z"
   },
   {
    "duration": 6,
    "start_time": "2022-03-30T13:33:38.427Z"
   },
   {
    "duration": 5,
    "start_time": "2022-03-30T13:33:38.436Z"
   },
   {
    "duration": 5,
    "start_time": "2022-03-30T13:33:38.443Z"
   },
   {
    "duration": 7,
    "start_time": "2022-03-30T13:33:38.450Z"
   },
   {
    "duration": 5,
    "start_time": "2022-03-30T13:33:38.459Z"
   },
   {
    "duration": 9,
    "start_time": "2022-03-30T13:33:38.465Z"
   },
   {
    "duration": 25,
    "start_time": "2022-03-30T13:33:38.476Z"
   },
   {
    "duration": 4,
    "start_time": "2022-03-30T13:33:38.503Z"
   },
   {
    "duration": 33,
    "start_time": "2022-03-30T13:33:38.509Z"
   },
   {
    "duration": 1110,
    "start_time": "2022-03-30T13:33:38.544Z"
   },
   {
    "duration": 0,
    "start_time": "2022-03-30T13:33:39.656Z"
   },
   {
    "duration": 0,
    "start_time": "2022-03-30T13:33:39.657Z"
   },
   {
    "duration": 0,
    "start_time": "2022-03-30T13:33:39.658Z"
   },
   {
    "duration": 0,
    "start_time": "2022-03-30T13:33:39.659Z"
   },
   {
    "duration": 0,
    "start_time": "2022-03-30T13:33:39.660Z"
   },
   {
    "duration": 0,
    "start_time": "2022-03-30T13:33:39.661Z"
   },
   {
    "duration": 0,
    "start_time": "2022-03-30T13:33:39.662Z"
   },
   {
    "duration": 0,
    "start_time": "2022-03-30T13:33:39.663Z"
   },
   {
    "duration": 0,
    "start_time": "2022-03-30T13:33:39.663Z"
   },
   {
    "duration": 0,
    "start_time": "2022-03-30T13:33:39.665Z"
   },
   {
    "duration": 0,
    "start_time": "2022-03-30T13:33:39.665Z"
   },
   {
    "duration": 0,
    "start_time": "2022-03-30T13:33:39.666Z"
   },
   {
    "duration": 0,
    "start_time": "2022-03-30T13:33:39.667Z"
   },
   {
    "duration": 0,
    "start_time": "2022-03-30T13:33:39.668Z"
   },
   {
    "duration": 0,
    "start_time": "2022-03-30T13:33:39.669Z"
   },
   {
    "duration": 406,
    "start_time": "2022-03-30T13:33:43.682Z"
   },
   {
    "duration": 432,
    "start_time": "2022-03-30T13:33:47.992Z"
   },
   {
    "duration": 368,
    "start_time": "2022-03-30T13:33:49.688Z"
   },
   {
    "duration": 34,
    "start_time": "2022-03-30T13:33:54.397Z"
   },
   {
    "duration": 26,
    "start_time": "2022-03-30T13:33:54.871Z"
   },
   {
    "duration": 18,
    "start_time": "2022-03-30T13:33:55.369Z"
   },
   {
    "duration": 21,
    "start_time": "2022-03-30T13:33:56.614Z"
   },
   {
    "duration": 17,
    "start_time": "2022-03-30T13:33:57.171Z"
   },
   {
    "duration": 15,
    "start_time": "2022-03-30T13:33:57.768Z"
   },
   {
    "duration": 5,
    "start_time": "2022-03-30T13:34:00.166Z"
   },
   {
    "duration": 34,
    "start_time": "2022-03-30T13:34:00.696Z"
   },
   {
    "duration": 26,
    "start_time": "2022-03-30T13:34:04.332Z"
   },
   {
    "duration": 33,
    "start_time": "2022-03-30T13:34:07.048Z"
   },
   {
    "duration": 4,
    "start_time": "2022-03-30T13:34:10.709Z"
   },
   {
    "duration": 118,
    "start_time": "2022-03-30T13:34:21.881Z"
   },
   {
    "duration": 29,
    "start_time": "2022-03-30T13:35:02.034Z"
   },
   {
    "duration": 32,
    "start_time": "2022-03-30T13:35:19.390Z"
   },
   {
    "duration": 5,
    "start_time": "2022-03-30T13:35:26.877Z"
   },
   {
    "duration": 4,
    "start_time": "2022-03-30T13:35:32.744Z"
   },
   {
    "duration": 6,
    "start_time": "2022-03-30T13:35:34.082Z"
   },
   {
    "duration": 5,
    "start_time": "2022-03-30T13:35:35.424Z"
   },
   {
    "duration": 5,
    "start_time": "2022-03-30T13:35:37.035Z"
   },
   {
    "duration": 22,
    "start_time": "2022-03-30T13:37:51.425Z"
   },
   {
    "duration": 27,
    "start_time": "2022-03-30T13:38:10.128Z"
   },
   {
    "duration": 24,
    "start_time": "2022-03-30T13:38:54.637Z"
   },
   {
    "duration": 9,
    "start_time": "2022-03-30T13:39:26.343Z"
   },
   {
    "duration": 6,
    "start_time": "2022-03-30T13:39:26.935Z"
   },
   {
    "duration": 5,
    "start_time": "2022-03-30T13:39:32.071Z"
   },
   {
    "duration": 5,
    "start_time": "2022-03-30T13:39:33.208Z"
   },
   {
    "duration": 5,
    "start_time": "2022-03-30T13:39:34.469Z"
   },
   {
    "duration": 23,
    "start_time": "2022-03-30T13:39:58.409Z"
   },
   {
    "duration": 37,
    "start_time": "2022-03-30T13:40:01.345Z"
   },
   {
    "duration": 25,
    "start_time": "2022-03-30T13:40:58.801Z"
   },
   {
    "duration": 25,
    "start_time": "2022-03-30T13:41:09.764Z"
   },
   {
    "duration": 1261,
    "start_time": "2022-03-30T13:49:53.100Z"
   },
   {
    "duration": 455,
    "start_time": "2022-03-30T13:49:54.363Z"
   },
   {
    "duration": 57,
    "start_time": "2022-03-30T13:49:54.820Z"
   },
   {
    "duration": 53,
    "start_time": "2022-03-30T13:49:54.880Z"
   },
   {
    "duration": 21,
    "start_time": "2022-03-30T13:49:54.935Z"
   },
   {
    "duration": 22,
    "start_time": "2022-03-30T13:49:54.958Z"
   },
   {
    "duration": 18,
    "start_time": "2022-03-30T13:49:54.981Z"
   },
   {
    "duration": 39,
    "start_time": "2022-03-30T13:49:55.001Z"
   },
   {
    "duration": 8,
    "start_time": "2022-03-30T13:49:55.042Z"
   },
   {
    "duration": 50,
    "start_time": "2022-03-30T13:49:55.053Z"
   },
   {
    "duration": 46,
    "start_time": "2022-03-30T13:49:55.105Z"
   },
   {
    "duration": 30,
    "start_time": "2022-03-30T13:49:55.152Z"
   },
   {
    "duration": 3,
    "start_time": "2022-03-30T13:49:55.184Z"
   },
   {
    "duration": 61,
    "start_time": "2022-03-30T13:49:55.189Z"
   },
   {
    "duration": 24,
    "start_time": "2022-03-30T13:49:55.251Z"
   },
   {
    "duration": 6,
    "start_time": "2022-03-30T13:49:55.276Z"
   },
   {
    "duration": 11,
    "start_time": "2022-03-30T13:49:55.283Z"
   },
   {
    "duration": 8,
    "start_time": "2022-03-30T13:49:55.295Z"
   },
   {
    "duration": 29,
    "start_time": "2022-03-30T13:49:55.305Z"
   },
   {
    "duration": 10,
    "start_time": "2022-03-30T13:49:55.336Z"
   },
   {
    "duration": 24,
    "start_time": "2022-03-30T13:49:55.348Z"
   },
   {
    "duration": 23,
    "start_time": "2022-03-30T13:49:55.374Z"
   },
   {
    "duration": 42,
    "start_time": "2022-03-30T13:49:55.398Z"
   },
   {
    "duration": 25,
    "start_time": "2022-03-30T13:49:55.441Z"
   },
   {
    "duration": 12,
    "start_time": "2022-03-30T13:49:55.467Z"
   },
   {
    "duration": 6,
    "start_time": "2022-03-30T13:49:55.481Z"
   },
   {
    "duration": 10,
    "start_time": "2022-03-30T13:49:55.488Z"
   },
   {
    "duration": 5,
    "start_time": "2022-03-30T13:49:55.501Z"
   },
   {
    "duration": 29,
    "start_time": "2022-03-30T13:49:55.507Z"
   },
   {
    "duration": 12,
    "start_time": "2022-03-30T13:49:55.539Z"
   },
   {
    "duration": 23,
    "start_time": "2022-03-30T13:49:55.553Z"
   },
   {
    "duration": 17,
    "start_time": "2022-03-30T13:49:55.577Z"
   },
   {
    "duration": 18,
    "start_time": "2022-03-30T13:49:55.595Z"
   },
   {
    "duration": 14,
    "start_time": "2022-03-30T13:49:55.615Z"
   },
   {
    "duration": 51,
    "start_time": "2022-03-30T13:49:55.630Z"
   },
   {
    "duration": 640,
    "start_time": "2022-03-30T13:49:55.683Z"
   },
   {
    "duration": 0,
    "start_time": "2022-03-30T13:49:56.324Z"
   },
   {
    "duration": 0,
    "start_time": "2022-03-30T13:49:56.326Z"
   },
   {
    "duration": 0,
    "start_time": "2022-03-30T13:49:56.327Z"
   },
   {
    "duration": 0,
    "start_time": "2022-03-30T13:49:56.327Z"
   },
   {
    "duration": 0,
    "start_time": "2022-03-30T13:49:56.329Z"
   },
   {
    "duration": 0,
    "start_time": "2022-03-30T13:49:56.330Z"
   },
   {
    "duration": 0,
    "start_time": "2022-03-30T13:49:56.331Z"
   },
   {
    "duration": 0,
    "start_time": "2022-03-30T13:49:56.332Z"
   },
   {
    "duration": 0,
    "start_time": "2022-03-30T13:49:56.333Z"
   },
   {
    "duration": 0,
    "start_time": "2022-03-30T13:49:56.334Z"
   },
   {
    "duration": 0,
    "start_time": "2022-03-30T13:49:56.335Z"
   },
   {
    "duration": 0,
    "start_time": "2022-03-30T13:49:56.336Z"
   },
   {
    "duration": 0,
    "start_time": "2022-03-30T13:49:56.337Z"
   },
   {
    "duration": 0,
    "start_time": "2022-03-30T13:49:56.338Z"
   },
   {
    "duration": 0,
    "start_time": "2022-03-30T13:49:56.339Z"
   },
   {
    "duration": 1187,
    "start_time": "2022-03-30T13:50:36.465Z"
   },
   {
    "duration": 424,
    "start_time": "2022-03-30T13:50:37.654Z"
   },
   {
    "duration": 56,
    "start_time": "2022-03-30T13:50:38.080Z"
   },
   {
    "duration": 25,
    "start_time": "2022-03-30T13:50:38.139Z"
   },
   {
    "duration": 20,
    "start_time": "2022-03-30T13:50:38.166Z"
   },
   {
    "duration": 22,
    "start_time": "2022-03-30T13:50:38.188Z"
   },
   {
    "duration": 18,
    "start_time": "2022-03-30T13:50:38.232Z"
   },
   {
    "duration": 14,
    "start_time": "2022-03-30T13:50:38.252Z"
   },
   {
    "duration": 8,
    "start_time": "2022-03-30T13:50:38.268Z"
   },
   {
    "duration": 66,
    "start_time": "2022-03-30T13:50:38.279Z"
   },
   {
    "duration": 27,
    "start_time": "2022-03-30T13:50:38.347Z"
   },
   {
    "duration": 30,
    "start_time": "2022-03-30T13:50:38.376Z"
   },
   {
    "duration": 2,
    "start_time": "2022-03-30T13:50:38.408Z"
   },
   {
    "duration": 34,
    "start_time": "2022-03-30T13:50:38.433Z"
   },
   {
    "duration": 19,
    "start_time": "2022-03-30T13:50:38.469Z"
   },
   {
    "duration": 5,
    "start_time": "2022-03-30T13:50:38.489Z"
   },
   {
    "duration": 13,
    "start_time": "2022-03-30T13:50:38.495Z"
   },
   {
    "duration": 27,
    "start_time": "2022-03-30T13:50:38.510Z"
   },
   {
    "duration": 9,
    "start_time": "2022-03-30T13:50:38.539Z"
   },
   {
    "duration": 8,
    "start_time": "2022-03-30T13:50:38.550Z"
   },
   {
    "duration": 23,
    "start_time": "2022-03-30T13:50:38.560Z"
   },
   {
    "duration": 20,
    "start_time": "2022-03-30T13:50:38.585Z"
   },
   {
    "duration": 47,
    "start_time": "2022-03-30T13:50:38.607Z"
   },
   {
    "duration": 12,
    "start_time": "2022-03-30T13:50:38.655Z"
   },
   {
    "duration": 5,
    "start_time": "2022-03-30T13:50:38.668Z"
   },
   {
    "duration": 8,
    "start_time": "2022-03-30T13:50:38.675Z"
   },
   {
    "duration": 6,
    "start_time": "2022-03-30T13:50:38.684Z"
   },
   {
    "duration": 4,
    "start_time": "2022-03-30T13:50:38.694Z"
   },
   {
    "duration": 35,
    "start_time": "2022-03-30T13:50:38.699Z"
   },
   {
    "duration": 4,
    "start_time": "2022-03-30T13:50:38.736Z"
   },
   {
    "duration": 9,
    "start_time": "2022-03-30T13:50:38.741Z"
   },
   {
    "duration": 10,
    "start_time": "2022-03-30T13:50:38.751Z"
   },
   {
    "duration": 13,
    "start_time": "2022-03-30T13:50:38.762Z"
   },
   {
    "duration": 25,
    "start_time": "2022-03-30T13:50:38.777Z"
   },
   {
    "duration": 188,
    "start_time": "2022-03-30T13:50:38.803Z"
   },
   {
    "duration": 28,
    "start_time": "2022-03-30T13:50:38.993Z"
   },
   {
    "duration": 12,
    "start_time": "2022-03-30T13:50:39.023Z"
   },
   {
    "duration": 1319,
    "start_time": "2022-03-30T13:50:39.036Z"
   },
   {
    "duration": 23,
    "start_time": "2022-03-30T13:50:40.356Z"
   },
   {
    "duration": 480,
    "start_time": "2022-03-30T13:50:40.434Z"
   },
   {
    "duration": 30,
    "start_time": "2022-03-30T13:50:40.916Z"
   },
   {
    "duration": 285,
    "start_time": "2022-03-30T13:50:40.947Z"
   },
   {
    "duration": 21,
    "start_time": "2022-03-30T13:50:41.234Z"
   },
   {
    "duration": 20,
    "start_time": "2022-03-30T13:50:41.257Z"
   },
   {
    "duration": 12,
    "start_time": "2022-03-30T13:50:41.278Z"
   },
   {
    "duration": 7,
    "start_time": "2022-03-30T13:50:41.291Z"
   },
   {
    "duration": 9,
    "start_time": "2022-03-30T13:50:41.334Z"
   },
   {
    "duration": 9,
    "start_time": "2022-03-30T13:50:41.345Z"
   },
   {
    "duration": 9,
    "start_time": "2022-03-30T13:50:41.356Z"
   },
   {
    "duration": 14,
    "start_time": "2022-03-30T13:50:41.366Z"
   },
   {
    "duration": 1352,
    "start_time": "2022-03-30T14:07:04.492Z"
   },
   {
    "duration": 443,
    "start_time": "2022-03-30T14:07:05.847Z"
   },
   {
    "duration": 65,
    "start_time": "2022-03-30T14:07:06.292Z"
   },
   {
    "duration": 33,
    "start_time": "2022-03-30T14:07:06.359Z"
   },
   {
    "duration": 39,
    "start_time": "2022-03-30T14:07:06.394Z"
   },
   {
    "duration": 23,
    "start_time": "2022-03-30T14:07:06.435Z"
   },
   {
    "duration": 18,
    "start_time": "2022-03-30T14:07:06.460Z"
   },
   {
    "duration": 16,
    "start_time": "2022-03-30T14:07:06.480Z"
   },
   {
    "duration": 8,
    "start_time": "2022-03-30T14:07:06.498Z"
   },
   {
    "duration": 45,
    "start_time": "2022-03-30T14:07:06.534Z"
   },
   {
    "duration": 27,
    "start_time": "2022-03-30T14:07:06.581Z"
   },
   {
    "duration": 50,
    "start_time": "2022-03-30T14:07:06.610Z"
   },
   {
    "duration": 3,
    "start_time": "2022-03-30T14:07:06.661Z"
   },
   {
    "duration": 28,
    "start_time": "2022-03-30T14:07:06.666Z"
   },
   {
    "duration": 5,
    "start_time": "2022-03-30T14:07:06.695Z"
   },
   {
    "duration": 34,
    "start_time": "2022-03-30T14:07:06.701Z"
   },
   {
    "duration": 6,
    "start_time": "2022-03-30T14:07:06.736Z"
   },
   {
    "duration": 7,
    "start_time": "2022-03-30T14:07:06.743Z"
   },
   {
    "duration": 9,
    "start_time": "2022-03-30T14:07:06.752Z"
   },
   {
    "duration": 25,
    "start_time": "2022-03-30T14:07:06.762Z"
   },
   {
    "duration": 56,
    "start_time": "2022-03-30T14:07:06.789Z"
   },
   {
    "duration": 30,
    "start_time": "2022-03-30T14:07:06.847Z"
   },
   {
    "duration": 34,
    "start_time": "2022-03-30T14:07:06.879Z"
   },
   {
    "duration": 6,
    "start_time": "2022-03-30T14:07:06.915Z"
   },
   {
    "duration": 12,
    "start_time": "2022-03-30T14:07:06.922Z"
   },
   {
    "duration": 13,
    "start_time": "2022-03-30T14:07:06.942Z"
   },
   {
    "duration": 10,
    "start_time": "2022-03-30T14:07:06.957Z"
   },
   {
    "duration": 5,
    "start_time": "2022-03-30T14:07:06.971Z"
   },
   {
    "duration": 9,
    "start_time": "2022-03-30T14:07:06.978Z"
   },
   {
    "duration": 7,
    "start_time": "2022-03-30T14:07:06.989Z"
   },
   {
    "duration": 6,
    "start_time": "2022-03-30T14:07:06.998Z"
   },
   {
    "duration": 9,
    "start_time": "2022-03-30T14:07:07.006Z"
   },
   {
    "duration": 57,
    "start_time": "2022-03-30T14:07:07.017Z"
   },
   {
    "duration": 139,
    "start_time": "2022-03-30T14:07:07.077Z"
   },
   {
    "duration": 34,
    "start_time": "2022-03-30T14:07:07.218Z"
   },
   {
    "duration": 5,
    "start_time": "2022-03-30T14:07:07.253Z"
   },
   {
    "duration": 624,
    "start_time": "2022-03-30T14:07:07.259Z"
   },
   {
    "duration": 26,
    "start_time": "2022-03-30T14:07:07.885Z"
   },
   {
    "duration": 338,
    "start_time": "2022-03-30T14:07:07.912Z"
   },
   {
    "duration": 45,
    "start_time": "2022-03-30T14:07:08.252Z"
   },
   {
    "duration": 304,
    "start_time": "2022-03-30T14:07:08.299Z"
   },
   {
    "duration": 30,
    "start_time": "2022-03-30T14:07:08.604Z"
   },
   {
    "duration": 26,
    "start_time": "2022-03-30T14:07:08.636Z"
   },
   {
    "duration": 12,
    "start_time": "2022-03-30T14:07:08.664Z"
   },
   {
    "duration": 11,
    "start_time": "2022-03-30T14:07:08.678Z"
   },
   {
    "duration": 42,
    "start_time": "2022-03-30T14:07:08.691Z"
   },
   {
    "duration": 10,
    "start_time": "2022-03-30T14:07:08.735Z"
   },
   {
    "duration": 14,
    "start_time": "2022-03-30T14:07:08.747Z"
   },
   {
    "duration": 15,
    "start_time": "2022-03-30T14:07:08.763Z"
   },
   {
    "duration": 1210,
    "start_time": "2022-03-30T14:08:11.878Z"
   },
   {
    "duration": 872,
    "start_time": "2022-03-30T14:08:13.090Z"
   },
   {
    "duration": 81,
    "start_time": "2022-03-30T14:08:13.964Z"
   },
   {
    "duration": 27,
    "start_time": "2022-03-30T14:08:14.047Z"
   },
   {
    "duration": 74,
    "start_time": "2022-03-30T14:08:14.076Z"
   },
   {
    "duration": 24,
    "start_time": "2022-03-30T14:08:14.152Z"
   },
   {
    "duration": 19,
    "start_time": "2022-03-30T14:08:14.233Z"
   },
   {
    "duration": 17,
    "start_time": "2022-03-30T14:08:14.254Z"
   },
   {
    "duration": 60,
    "start_time": "2022-03-30T14:08:14.273Z"
   },
   {
    "duration": 109,
    "start_time": "2022-03-30T14:08:14.336Z"
   },
   {
    "duration": 95,
    "start_time": "2022-03-30T14:08:14.448Z"
   },
   {
    "duration": 99,
    "start_time": "2022-03-30T14:08:14.545Z"
   },
   {
    "duration": 4,
    "start_time": "2022-03-30T14:08:14.646Z"
   },
   {
    "duration": 95,
    "start_time": "2022-03-30T14:08:14.652Z"
   },
   {
    "duration": 29,
    "start_time": "2022-03-30T14:08:14.748Z"
   },
   {
    "duration": 6,
    "start_time": "2022-03-30T14:08:14.834Z"
   },
   {
    "duration": 12,
    "start_time": "2022-03-30T14:08:14.841Z"
   },
   {
    "duration": 9,
    "start_time": "2022-03-30T14:08:14.855Z"
   },
   {
    "duration": 9,
    "start_time": "2022-03-30T14:08:14.866Z"
   },
   {
    "duration": 59,
    "start_time": "2022-03-30T14:08:14.877Z"
   },
   {
    "duration": 49,
    "start_time": "2022-03-30T14:08:14.938Z"
   },
   {
    "duration": 55,
    "start_time": "2022-03-30T14:08:14.989Z"
   },
   {
    "duration": 25,
    "start_time": "2022-03-30T14:08:15.046Z"
   },
   {
    "duration": 13,
    "start_time": "2022-03-30T14:08:15.073Z"
   },
   {
    "duration": 7,
    "start_time": "2022-03-30T14:08:15.088Z"
   },
   {
    "duration": 37,
    "start_time": "2022-03-30T14:08:15.096Z"
   },
   {
    "duration": 5,
    "start_time": "2022-03-30T14:08:15.136Z"
   },
   {
    "duration": 9,
    "start_time": "2022-03-30T14:08:15.145Z"
   },
   {
    "duration": 7,
    "start_time": "2022-03-30T14:08:15.156Z"
   },
   {
    "duration": 8,
    "start_time": "2022-03-30T14:08:15.165Z"
   },
   {
    "duration": 13,
    "start_time": "2022-03-30T14:08:15.175Z"
   },
   {
    "duration": 8,
    "start_time": "2022-03-30T14:08:15.191Z"
   },
   {
    "duration": 7,
    "start_time": "2022-03-30T14:08:15.201Z"
   },
   {
    "duration": 47,
    "start_time": "2022-03-30T14:08:15.209Z"
   },
   {
    "duration": 146,
    "start_time": "2022-03-30T14:08:15.258Z"
   },
   {
    "duration": 36,
    "start_time": "2022-03-30T14:08:15.406Z"
   },
   {
    "duration": 5,
    "start_time": "2022-03-30T14:08:15.445Z"
   },
   {
    "duration": 647,
    "start_time": "2022-03-30T14:08:15.451Z"
   },
   {
    "duration": 34,
    "start_time": "2022-03-30T14:08:16.100Z"
   },
   {
    "duration": 304,
    "start_time": "2022-03-30T14:08:16.136Z"
   },
   {
    "duration": 21,
    "start_time": "2022-03-30T14:08:16.441Z"
   },
   {
    "duration": 297,
    "start_time": "2022-03-30T14:08:16.464Z"
   },
   {
    "duration": 21,
    "start_time": "2022-03-30T14:08:16.763Z"
   },
   {
    "duration": 22,
    "start_time": "2022-03-30T14:08:16.785Z"
   },
   {
    "duration": 32,
    "start_time": "2022-03-30T14:08:16.809Z"
   },
   {
    "duration": 7,
    "start_time": "2022-03-30T14:08:16.843Z"
   },
   {
    "duration": 7,
    "start_time": "2022-03-30T14:08:16.852Z"
   },
   {
    "duration": 11,
    "start_time": "2022-03-30T14:08:16.861Z"
   },
   {
    "duration": 11,
    "start_time": "2022-03-30T14:08:16.873Z"
   },
   {
    "duration": 48,
    "start_time": "2022-03-30T14:08:16.886Z"
   },
   {
    "duration": 25,
    "start_time": "2022-03-30T14:10:11.955Z"
   },
   {
    "duration": 25,
    "start_time": "2022-03-30T14:10:13.706Z"
   },
   {
    "duration": 5,
    "start_time": "2022-03-30T14:10:18.548Z"
   },
   {
    "duration": 7,
    "start_time": "2022-03-30T14:10:23.184Z"
   },
   {
    "duration": 5,
    "start_time": "2022-03-30T14:10:24.090Z"
   },
   {
    "duration": 4,
    "start_time": "2022-03-30T14:10:24.718Z"
   },
   {
    "duration": 6,
    "start_time": "2022-03-30T14:10:25.926Z"
   },
   {
    "duration": 1289,
    "start_time": "2022-03-30T14:19:23.886Z"
   },
   {
    "duration": 459,
    "start_time": "2022-03-30T14:19:25.177Z"
   },
   {
    "duration": 37,
    "start_time": "2022-03-30T14:19:25.638Z"
   },
   {
    "duration": 25,
    "start_time": "2022-03-30T14:19:25.677Z"
   },
   {
    "duration": 43,
    "start_time": "2022-03-30T14:19:25.704Z"
   },
   {
    "duration": 24,
    "start_time": "2022-03-30T14:19:25.749Z"
   },
   {
    "duration": 18,
    "start_time": "2022-03-30T14:19:25.775Z"
   },
   {
    "duration": 40,
    "start_time": "2022-03-30T14:19:25.795Z"
   },
   {
    "duration": 9,
    "start_time": "2022-03-30T14:19:25.837Z"
   },
   {
    "duration": 42,
    "start_time": "2022-03-30T14:19:25.848Z"
   },
   {
    "duration": 46,
    "start_time": "2022-03-30T14:19:25.891Z"
   },
   {
    "duration": 32,
    "start_time": "2022-03-30T14:19:25.939Z"
   },
   {
    "duration": 3,
    "start_time": "2022-03-30T14:19:25.973Z"
   },
   {
    "duration": 56,
    "start_time": "2022-03-30T14:19:25.978Z"
   },
   {
    "duration": 21,
    "start_time": "2022-03-30T14:19:26.036Z"
   },
   {
    "duration": 5,
    "start_time": "2022-03-30T14:19:26.058Z"
   },
   {
    "duration": 9,
    "start_time": "2022-03-30T14:19:26.065Z"
   },
   {
    "duration": 10,
    "start_time": "2022-03-30T14:19:26.075Z"
   },
   {
    "duration": 9,
    "start_time": "2022-03-30T14:19:26.087Z"
   },
   {
    "duration": 37,
    "start_time": "2022-03-30T14:19:26.097Z"
   },
   {
    "duration": 26,
    "start_time": "2022-03-30T14:19:26.136Z"
   },
   {
    "duration": 29,
    "start_time": "2022-03-30T14:19:26.163Z"
   },
   {
    "duration": 44,
    "start_time": "2022-03-30T14:19:26.194Z"
   },
   {
    "duration": 14,
    "start_time": "2022-03-30T14:19:26.240Z"
   },
   {
    "duration": 7,
    "start_time": "2022-03-30T14:19:26.255Z"
   },
   {
    "duration": 10,
    "start_time": "2022-03-30T14:19:26.263Z"
   },
   {
    "duration": 8,
    "start_time": "2022-03-30T14:19:26.275Z"
   },
   {
    "duration": 4,
    "start_time": "2022-03-30T14:19:26.288Z"
   },
   {
    "duration": 8,
    "start_time": "2022-03-30T14:19:26.294Z"
   },
   {
    "duration": 32,
    "start_time": "2022-03-30T14:19:26.304Z"
   },
   {
    "duration": 6,
    "start_time": "2022-03-30T14:19:26.338Z"
   },
   {
    "duration": 6,
    "start_time": "2022-03-30T14:19:26.346Z"
   },
   {
    "duration": 8,
    "start_time": "2022-03-30T14:19:26.355Z"
   },
   {
    "duration": 31,
    "start_time": "2022-03-30T14:19:26.365Z"
   },
   {
    "duration": 145,
    "start_time": "2022-03-30T14:19:26.398Z"
   },
   {
    "duration": 31,
    "start_time": "2022-03-30T14:19:26.544Z"
   },
   {
    "duration": 5,
    "start_time": "2022-03-30T14:19:26.577Z"
   },
   {
    "duration": 616,
    "start_time": "2022-03-30T14:19:26.583Z"
   },
   {
    "duration": 20,
    "start_time": "2022-03-30T14:19:27.201Z"
   },
   {
    "duration": 302,
    "start_time": "2022-03-30T14:19:27.233Z"
   },
   {
    "duration": 21,
    "start_time": "2022-03-30T14:19:27.537Z"
   },
   {
    "duration": 305,
    "start_time": "2022-03-30T14:19:27.559Z"
   },
   {
    "duration": 20,
    "start_time": "2022-03-30T14:19:27.866Z"
   },
   {
    "duration": 28,
    "start_time": "2022-03-30T14:19:27.888Z"
   },
   {
    "duration": 25,
    "start_time": "2022-03-30T14:19:27.918Z"
   },
   {
    "duration": 8,
    "start_time": "2022-03-30T14:19:27.945Z"
   },
   {
    "duration": 18,
    "start_time": "2022-03-30T14:19:27.955Z"
   },
   {
    "duration": 10,
    "start_time": "2022-03-30T14:19:27.975Z"
   },
   {
    "duration": 15,
    "start_time": "2022-03-30T14:19:27.986Z"
   },
   {
    "duration": 34,
    "start_time": "2022-03-30T14:19:28.003Z"
   }
  ],
  "kernelspec": {
   "display_name": "Python 3 (ipykernel)",
   "language": "python",
   "name": "python3"
  },
  "language_info": {
   "codemirror_mode": {
    "name": "ipython",
    "version": 3
   },
   "file_extension": ".py",
   "mimetype": "text/x-python",
   "name": "python",
   "nbconvert_exporter": "python",
   "pygments_lexer": "ipython3",
   "version": "3.9.5"
  },
  "toc": {
   "base_numbering": 1,
   "nav_menu": {},
   "number_sections": true,
   "sideBar": true,
   "skip_h1_title": true,
   "title_cell": "Содержание",
   "title_sidebar": "Contents",
   "toc_cell": true,
   "toc_position": {
    "height": "calc(100% - 180px)",
    "left": "10px",
    "top": "150px",
    "width": "342.133px"
   },
   "toc_section_display": true,
   "toc_window_display": true
  }
 },
 "nbformat": 4,
 "nbformat_minor": 2
}
