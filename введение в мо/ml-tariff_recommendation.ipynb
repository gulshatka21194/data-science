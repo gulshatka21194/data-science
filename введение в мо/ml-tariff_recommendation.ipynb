{
 "cells": [
  {
   "cell_type": "markdown",
   "metadata": {
    "toc": true
   },
   "source": [
    "<h1>Содержание<span class=\"tocSkip\"></span></h1>\n",
    "<div class=\"toc\"><ul class=\"toc-item\"><li><span><a href=\"#Откройте-и-изучите-файл\" data-toc-modified-id=\"Откройте-и-изучите-файл-1\"><span class=\"toc-item-num\">1&nbsp;&nbsp;</span>Откройте и изучите файл</a></span><ul class=\"toc-item\"><li><span><a href=\"#Вывод\" data-toc-modified-id=\"Вывод-1.1\"><span class=\"toc-item-num\">1.1&nbsp;&nbsp;</span>Вывод</a></span></li></ul></li><li><span><a href=\"#Разбейте-данные-на-выборки\" data-toc-modified-id=\"Разбейте-данные-на-выборки-2\"><span class=\"toc-item-num\">2&nbsp;&nbsp;</span>Разбейте данные на выборки</a></span><ul class=\"toc-item\"><li><span><a href=\"#Вывод\" data-toc-modified-id=\"Вывод-2.1\"><span class=\"toc-item-num\">2.1&nbsp;&nbsp;</span>Вывод</a></span></li></ul></li><li><span><a href=\"#Исследуйте-модели\" data-toc-modified-id=\"Исследуйте-модели-3\"><span class=\"toc-item-num\">3&nbsp;&nbsp;</span>Исследуйте модели</a></span><ul class=\"toc-item\"><li><span><a href=\"#Вывод\" data-toc-modified-id=\"Вывод-3.1\"><span class=\"toc-item-num\">3.1&nbsp;&nbsp;</span>Вывод</a></span></li></ul></li><li><span><a href=\"#Проверьте-модель-на-тестовой-выборке\" data-toc-modified-id=\"Проверьте-модель-на-тестовой-выборке-4\"><span class=\"toc-item-num\">4&nbsp;&nbsp;</span>Проверьте модель на тестовой выборке</a></span><ul class=\"toc-item\"><li><span><a href=\"#Вывод\" data-toc-modified-id=\"Вывод-4.1\"><span class=\"toc-item-num\">4.1&nbsp;&nbsp;</span>Вывод</a></span></li></ul></li><li><span><a href=\"#(бонус)-Проверьте-модели-на-адекватность\" data-toc-modified-id=\"(бонус)-Проверьте-модели-на-адекватность-5\"><span class=\"toc-item-num\">5&nbsp;&nbsp;</span>(бонус) Проверьте модели на адекватность</a></span><ul class=\"toc-item\"><li><span><a href=\"#Вывод\" data-toc-modified-id=\"Вывод-5.1\"><span class=\"toc-item-num\">5.1&nbsp;&nbsp;</span>Вывод</a></span></li></ul></li><li><span><a href=\"#Общий-вывод\" data-toc-modified-id=\"Общий-вывод-6\"><span class=\"toc-item-num\">6&nbsp;&nbsp;</span>Общий вывод</a></span></li><li><span><a href=\"#Чек-лист-готовности-проекта\" data-toc-modified-id=\"Чек-лист-готовности-проекта-7\"><span class=\"toc-item-num\">7&nbsp;&nbsp;</span>Чек-лист готовности проекта</a></span></li></ul></div>"
   ]
  },
  {
   "cell_type": "markdown",
   "metadata": {},
   "source": [
    "# Рекомендация тарифов"
   ]
  },
  {
   "cell_type": "markdown",
   "metadata": {},
   "source": [
    "## Откройте и изучите файл"
   ]
  },
  {
   "cell_type": "code",
   "execution_count": 1,
   "metadata": {},
   "outputs": [
    {
     "data": {
      "text/html": [
       "<div>\n",
       "<style scoped>\n",
       "    .dataframe tbody tr th:only-of-type {\n",
       "        vertical-align: middle;\n",
       "    }\n",
       "\n",
       "    .dataframe tbody tr th {\n",
       "        vertical-align: top;\n",
       "    }\n",
       "\n",
       "    .dataframe thead th {\n",
       "        text-align: right;\n",
       "    }\n",
       "</style>\n",
       "<table border=\"1\" class=\"dataframe\">\n",
       "  <thead>\n",
       "    <tr style=\"text-align: right;\">\n",
       "      <th></th>\n",
       "      <th>calls</th>\n",
       "      <th>minutes</th>\n",
       "      <th>messages</th>\n",
       "      <th>mb_used</th>\n",
       "      <th>is_ultra</th>\n",
       "    </tr>\n",
       "  </thead>\n",
       "  <tbody>\n",
       "    <tr>\n",
       "      <th>0</th>\n",
       "      <td>40.0</td>\n",
       "      <td>311.90</td>\n",
       "      <td>83.0</td>\n",
       "      <td>19915.42</td>\n",
       "      <td>0</td>\n",
       "    </tr>\n",
       "    <tr>\n",
       "      <th>1</th>\n",
       "      <td>85.0</td>\n",
       "      <td>516.75</td>\n",
       "      <td>56.0</td>\n",
       "      <td>22696.96</td>\n",
       "      <td>0</td>\n",
       "    </tr>\n",
       "    <tr>\n",
       "      <th>2</th>\n",
       "      <td>77.0</td>\n",
       "      <td>467.66</td>\n",
       "      <td>86.0</td>\n",
       "      <td>21060.45</td>\n",
       "      <td>0</td>\n",
       "    </tr>\n",
       "    <tr>\n",
       "      <th>3</th>\n",
       "      <td>106.0</td>\n",
       "      <td>745.53</td>\n",
       "      <td>81.0</td>\n",
       "      <td>8437.39</td>\n",
       "      <td>1</td>\n",
       "    </tr>\n",
       "    <tr>\n",
       "      <th>4</th>\n",
       "      <td>66.0</td>\n",
       "      <td>418.74</td>\n",
       "      <td>1.0</td>\n",
       "      <td>14502.75</td>\n",
       "      <td>0</td>\n",
       "    </tr>\n",
       "    <tr>\n",
       "      <th>5</th>\n",
       "      <td>58.0</td>\n",
       "      <td>344.56</td>\n",
       "      <td>21.0</td>\n",
       "      <td>15823.37</td>\n",
       "      <td>0</td>\n",
       "    </tr>\n",
       "    <tr>\n",
       "      <th>6</th>\n",
       "      <td>57.0</td>\n",
       "      <td>431.64</td>\n",
       "      <td>20.0</td>\n",
       "      <td>3738.90</td>\n",
       "      <td>1</td>\n",
       "    </tr>\n",
       "    <tr>\n",
       "      <th>7</th>\n",
       "      <td>15.0</td>\n",
       "      <td>132.40</td>\n",
       "      <td>6.0</td>\n",
       "      <td>21911.60</td>\n",
       "      <td>0</td>\n",
       "    </tr>\n",
       "    <tr>\n",
       "      <th>8</th>\n",
       "      <td>7.0</td>\n",
       "      <td>43.39</td>\n",
       "      <td>3.0</td>\n",
       "      <td>2538.67</td>\n",
       "      <td>1</td>\n",
       "    </tr>\n",
       "    <tr>\n",
       "      <th>9</th>\n",
       "      <td>90.0</td>\n",
       "      <td>665.41</td>\n",
       "      <td>38.0</td>\n",
       "      <td>17358.61</td>\n",
       "      <td>0</td>\n",
       "    </tr>\n",
       "  </tbody>\n",
       "</table>\n",
       "</div>"
      ],
      "text/plain": [
       "   calls  minutes  messages   mb_used  is_ultra\n",
       "0   40.0   311.90      83.0  19915.42         0\n",
       "1   85.0   516.75      56.0  22696.96         0\n",
       "2   77.0   467.66      86.0  21060.45         0\n",
       "3  106.0   745.53      81.0   8437.39         1\n",
       "4   66.0   418.74       1.0  14502.75         0\n",
       "5   58.0   344.56      21.0  15823.37         0\n",
       "6   57.0   431.64      20.0   3738.90         1\n",
       "7   15.0   132.40       6.0  21911.60         0\n",
       "8    7.0    43.39       3.0   2538.67         1\n",
       "9   90.0   665.41      38.0  17358.61         0"
      ]
     },
     "execution_count": 1,
     "metadata": {},
     "output_type": "execute_result"
    }
   ],
   "source": [
    "import pandas as pd, numpy as np #импортируем библиотеки pandas\n",
    "from sklearn.model_selection import train_test_split #импортируем библиотеку train_test_split\n",
    "from sklearn.tree import DecisionTreeClassifier #импортируем библиотеку DecisionTreeClassifier\n",
    "from sklearn.ensemble import RandomForestClassifier #импортируем библиотеку RandomForestClassifier\n",
    "from sklearn.linear_model import LogisticRegression #импортируем библиотеку LogisticRegression\n",
    "from sklearn.metrics import accuracy_score  #импортируем библиотеку accuracy_score\n",
    "from sklearn.dummy import DummyClassifier #импортируем библиотеку DummyClassifier\n",
    "\n",
    "data = pd.read_csv('/datasets/users_behavior.csv') #считаем файл с данными и сохраним в data\n",
    "data.head(10) #получим первые 10 строк таблицы data"
   ]
  },
  {
   "cell_type": "code",
   "execution_count": 2,
   "metadata": {},
   "outputs": [
    {
     "name": "stdout",
     "output_type": "stream",
     "text": [
      "<class 'pandas.core.frame.DataFrame'>\n",
      "RangeIndex: 3214 entries, 0 to 3213\n",
      "Data columns (total 5 columns):\n",
      " #   Column    Non-Null Count  Dtype  \n",
      "---  ------    --------------  -----  \n",
      " 0   calls     3214 non-null   float64\n",
      " 1   minutes   3214 non-null   float64\n",
      " 2   messages  3214 non-null   float64\n",
      " 3   mb_used   3214 non-null   float64\n",
      " 4   is_ultra  3214 non-null   int64  \n",
      "dtypes: float64(4), int64(1)\n",
      "memory usage: 125.7 KB\n"
     ]
    },
    {
     "data": {
      "text/html": [
       "<div>\n",
       "<style scoped>\n",
       "    .dataframe tbody tr th:only-of-type {\n",
       "        vertical-align: middle;\n",
       "    }\n",
       "\n",
       "    .dataframe tbody tr th {\n",
       "        vertical-align: top;\n",
       "    }\n",
       "\n",
       "    .dataframe thead th {\n",
       "        text-align: right;\n",
       "    }\n",
       "</style>\n",
       "<table border=\"1\" class=\"dataframe\">\n",
       "  <thead>\n",
       "    <tr style=\"text-align: right;\">\n",
       "      <th></th>\n",
       "      <th>calls</th>\n",
       "      <th>minutes</th>\n",
       "      <th>messages</th>\n",
       "      <th>mb_used</th>\n",
       "      <th>is_ultra</th>\n",
       "    </tr>\n",
       "  </thead>\n",
       "  <tbody>\n",
       "    <tr>\n",
       "      <th>count</th>\n",
       "      <td>3214.000000</td>\n",
       "      <td>3214.000000</td>\n",
       "      <td>3214.000000</td>\n",
       "      <td>3214.000000</td>\n",
       "      <td>3214.000000</td>\n",
       "    </tr>\n",
       "    <tr>\n",
       "      <th>mean</th>\n",
       "      <td>63.038892</td>\n",
       "      <td>438.208787</td>\n",
       "      <td>38.281269</td>\n",
       "      <td>17207.673836</td>\n",
       "      <td>0.306472</td>\n",
       "    </tr>\n",
       "    <tr>\n",
       "      <th>std</th>\n",
       "      <td>33.236368</td>\n",
       "      <td>234.569872</td>\n",
       "      <td>36.148326</td>\n",
       "      <td>7570.968246</td>\n",
       "      <td>0.461100</td>\n",
       "    </tr>\n",
       "    <tr>\n",
       "      <th>min</th>\n",
       "      <td>0.000000</td>\n",
       "      <td>0.000000</td>\n",
       "      <td>0.000000</td>\n",
       "      <td>0.000000</td>\n",
       "      <td>0.000000</td>\n",
       "    </tr>\n",
       "    <tr>\n",
       "      <th>25%</th>\n",
       "      <td>40.000000</td>\n",
       "      <td>274.575000</td>\n",
       "      <td>9.000000</td>\n",
       "      <td>12491.902500</td>\n",
       "      <td>0.000000</td>\n",
       "    </tr>\n",
       "    <tr>\n",
       "      <th>50%</th>\n",
       "      <td>62.000000</td>\n",
       "      <td>430.600000</td>\n",
       "      <td>30.000000</td>\n",
       "      <td>16943.235000</td>\n",
       "      <td>0.000000</td>\n",
       "    </tr>\n",
       "    <tr>\n",
       "      <th>75%</th>\n",
       "      <td>82.000000</td>\n",
       "      <td>571.927500</td>\n",
       "      <td>57.000000</td>\n",
       "      <td>21424.700000</td>\n",
       "      <td>1.000000</td>\n",
       "    </tr>\n",
       "    <tr>\n",
       "      <th>max</th>\n",
       "      <td>244.000000</td>\n",
       "      <td>1632.060000</td>\n",
       "      <td>224.000000</td>\n",
       "      <td>49745.730000</td>\n",
       "      <td>1.000000</td>\n",
       "    </tr>\n",
       "  </tbody>\n",
       "</table>\n",
       "</div>"
      ],
      "text/plain": [
       "             calls      minutes     messages       mb_used     is_ultra\n",
       "count  3214.000000  3214.000000  3214.000000   3214.000000  3214.000000\n",
       "mean     63.038892   438.208787    38.281269  17207.673836     0.306472\n",
       "std      33.236368   234.569872    36.148326   7570.968246     0.461100\n",
       "min       0.000000     0.000000     0.000000      0.000000     0.000000\n",
       "25%      40.000000   274.575000     9.000000  12491.902500     0.000000\n",
       "50%      62.000000   430.600000    30.000000  16943.235000     0.000000\n",
       "75%      82.000000   571.927500    57.000000  21424.700000     1.000000\n",
       "max     244.000000  1632.060000   224.000000  49745.730000     1.000000"
      ]
     },
     "execution_count": 2,
     "metadata": {},
     "output_type": "execute_result"
    }
   ],
   "source": [
    "data.info() #получим общую информацию о данных в таблице data\n",
    "data.describe() #получим также разброс значений, максимум, минимум, среднее и медиану"
   ]
  },
  {
   "cell_type": "code",
   "execution_count": 3,
   "metadata": {},
   "outputs": [
    {
     "data": {
      "text/plain": [
       "calls       0.0\n",
       "minutes     0.0\n",
       "messages    0.0\n",
       "mb_used     0.0\n",
       "is_ultra    0.0\n",
       "dtype: float64"
      ]
     },
     "execution_count": 3,
     "metadata": {},
     "output_type": "execute_result"
    }
   ],
   "source": [
    "data.isna().mean() #получим долю пропущенных значений среди всех данных"
   ]
  },
  {
   "cell_type": "markdown",
   "metadata": {},
   "source": [
    "### Вывод"
   ]
  },
  {
   "cell_type": "markdown",
   "metadata": {},
   "source": [
    "Согласно документации к данным:\n",
    "\n",
    "Каждый объект в наборе данных — это информация о поведении одного пользователя за месяц. Известно:\n",
    "\n",
    "    сalls — количество звонков,\n",
    "    minutes — суммарная длительность звонков в минутах,\n",
    "    messages — количество sms-сообщений,\n",
    "    mb_used — израсходованный интернет-трафик в Мб,\n",
    "    is_ultra — каким тарифом пользовался в течение месяца («Ультра» — 1, «Смарт» — 0).\n",
    "\n",
    "Типы данных в столбцах — int64, float64.\n",
    "\n",
    "Пропущенных, дублирующихся значений нет."
   ]
  },
  {
   "cell_type": "markdown",
   "metadata": {},
   "source": [
    "## Разбейте данные на выборки"
   ]
  },
  {
   "cell_type": "markdown",
   "metadata": {},
   "source": [
    "Посмотрим зависимость количества звонков от количества минут, сообщений и объема трафика, посчитав корреляцию."
   ]
  },
  {
   "cell_type": "code",
   "execution_count": 4,
   "metadata": {},
   "outputs": [
    {
     "data": {
      "text/plain": [
       "calls       1.000000\n",
       "minutes     0.982083\n",
       "messages    0.177385\n",
       "mb_used     0.286442\n",
       "Name: calls, dtype: float64"
      ]
     },
     "execution_count": 4,
     "metadata": {},
     "output_type": "execute_result"
    }
   ],
   "source": [
    "data[['calls', 'minutes', 'messages', 'mb_used']].corr()['calls'] #посчитаем корреляцию"
   ]
  },
  {
   "cell_type": "markdown",
   "metadata": {},
   "source": [
    "Видим, что зависимость количества звонков от количества минут сильная - 0.98. Близка к 1. Можно сказать, что данные признаки описывают одни и те же зависимости. Один из признаков можно исключить, для упрощения работы модели."
   ]
  },
  {
   "cell_type": "markdown",
   "metadata": {},
   "source": [
    "Разделим данные на обучающую, валидационную и тестовую выборки в соотношении 3:1:1. Для этого применим функцию train_test_split к исходным данным в соотношении 80 на 20, получим при этом тренировочную и тестовую выборки, затем к тренировочным в соотношении 75 на 25. На выходе получим тренировочную и валидационную выборки."
   ]
  },
  {
   "cell_type": "code",
   "execution_count": 5,
   "metadata": {},
   "outputs": [],
   "source": [
    "data_train, data_test = train_test_split(data, test_size=0.2, random_state=12345) #разделим данные на data_train и data_test в соотношении 80 на 20"
   ]
  },
  {
   "cell_type": "code",
   "execution_count": 6,
   "metadata": {},
   "outputs": [],
   "source": [
    "data_train, data_valid = train_test_split(data_train, test_size=0.25, random_state=12345) #разделим данные на data_train и data_valid в соотношении 75 на 25"
   ]
  },
  {
   "cell_type": "markdown",
   "metadata": {},
   "source": [
    "Проверим количество каждой выборки."
   ]
  },
  {
   "cell_type": "code",
   "execution_count": 7,
   "metadata": {},
   "outputs": [
    {
     "data": {
      "text/plain": [
       "calls       1928\n",
       "minutes     1928\n",
       "messages    1928\n",
       "mb_used     1928\n",
       "is_ultra    1928\n",
       "dtype: int64"
      ]
     },
     "execution_count": 7,
     "metadata": {},
     "output_type": "execute_result"
    }
   ],
   "source": [
    "data_train.count() #посчитаем количество"
   ]
  },
  {
   "cell_type": "code",
   "execution_count": 8,
   "metadata": {},
   "outputs": [
    {
     "data": {
      "text/plain": [
       "calls       643\n",
       "minutes     643\n",
       "messages    643\n",
       "mb_used     643\n",
       "is_ultra    643\n",
       "dtype: int64"
      ]
     },
     "execution_count": 8,
     "metadata": {},
     "output_type": "execute_result"
    }
   ],
   "source": [
    "data_valid.count() #посчитаем количество"
   ]
  },
  {
   "cell_type": "code",
   "execution_count": 9,
   "metadata": {},
   "outputs": [
    {
     "data": {
      "text/plain": [
       "calls       643\n",
       "minutes     643\n",
       "messages    643\n",
       "mb_used     643\n",
       "is_ultra    643\n",
       "dtype: int64"
      ]
     },
     "execution_count": 9,
     "metadata": {},
     "output_type": "execute_result"
    }
   ],
   "source": [
    "data_test.count() #посчитаем количество"
   ]
  },
  {
   "cell_type": "markdown",
   "metadata": {},
   "source": [
    "Для каждой выборки обозначим признаки и цель, исключив 'calls'. В нашем случае целевым признаком является 'is_ultra'."
   ]
  },
  {
   "cell_type": "code",
   "execution_count": 10,
   "metadata": {},
   "outputs": [],
   "source": [
    "features_train = data_train.drop(['is_ultra', 'calls'], axis=1) #обозначим признаки для data_train\n",
    "target_train = data_train['is_ultra'] #обозначим целевой признак для data_train\n",
    "features_valid = data_valid.drop(['is_ultra', 'calls'], axis=1) #обозначим признаки для data_valid\n",
    "target_valid = data_valid['is_ultra'] #обозначим целевой признак для data_valid\n",
    "features_test = data_test.drop(['is_ultra', 'calls'], axis=1) #обозначим признаки для data_test\n",
    "target_test = data_test['is_ultra'] #обозначим целевой признак для data_test"
   ]
  },
  {
   "cell_type": "markdown",
   "metadata": {},
   "source": [
    "### Вывод"
   ]
  },
  {
   "cell_type": "markdown",
   "metadata": {},
   "source": [
    "Разделили данные на обучающую, валидационную и тестовую выборки в соотношении 3:1:1. Обозначили признаки и цель - is_ultra."
   ]
  },
  {
   "cell_type": "markdown",
   "metadata": {},
   "source": [
    "## Исследуйте модели"
   ]
  },
  {
   "cell_type": "markdown",
   "metadata": {},
   "source": [
    "###### Модель решающего дерева"
   ]
  },
  {
   "cell_type": "markdown",
   "metadata": {},
   "source": [
    "Самый важный гиперпараметр решающего дерева — max_depth. В цикле от 1 до 5 переберем разные значения и сравним качество моделей в разных вариантах. Зафиксируем псевдослучайность параметром random_state."
   ]
  },
  {
   "cell_type": "code",
   "execution_count": 11,
   "metadata": {},
   "outputs": [
    {
     "name": "stdout",
     "output_type": "stream",
     "text": [
      "Accuracy наилучшей модели решающего дерева на валидационной выборке: 0.7667185069984448 5\n"
     ]
    }
   ],
   "source": [
    "best_model = None\n",
    "best_result = 0\n",
    "for depth in range(1, 6):\n",
    "    model = DecisionTreeClassifier(random_state=12345, max_depth=depth) #обучим модель с заданной глубиной дерева\n",
    "    model.fit(features_train,target_train) #обучим модель на тренировочной выборке\n",
    "    result = model.score(features_valid, target_valid) #посчитаем качество модели на валидационной выборке\n",
    "    if result > best_result:\n",
    "        best_model = model #сохраним наилучшую модель\n",
    "        best_result = result #сохраним наилучшее значение метрики accuracy на валидационных данных\n",
    "\n",
    "print(\"Accuracy наилучшей модели решающего дерева на валидационной выборке:\", best_result, depth)"
   ]
  },
  {
   "cell_type": "code",
   "execution_count": 12,
   "metadata": {},
   "outputs": [],
   "source": [
    "data_result = []\n",
    "data_result.append(['DecisionTreeClassifier', best_result])"
   ]
  },
  {
   "cell_type": "markdown",
   "metadata": {},
   "source": [
    "###### Модель случайного леса"
   ]
  },
  {
   "cell_type": "markdown",
   "metadata": {},
   "source": [
    "Чтобы управлять количеством деревьев в лесу, пропишем гиперпараметр n_estimators. Чем больше деревьев, тем дольше модель будет учиться, но результат станет лучше (и наоборот). Возьмём пока значение n_estimators, равное 15."
   ]
  },
  {
   "cell_type": "code",
   "execution_count": 13,
   "metadata": {},
   "outputs": [
    {
     "name": "stdout",
     "output_type": "stream",
     "text": [
      "Accuracy наилучшей модели случайного леса на валидационной выборке: 0.7962674961119751 15\n"
     ]
    }
   ],
   "source": [
    "best_model = None\n",
    "best_result = 0\n",
    "for est in range(1, 16):\n",
    "    model = RandomForestClassifier(random_state=12345, n_estimators=est) #обучим модель с заданным количеством деревьев\n",
    "    model.fit(features_train, target_train) #обучим модель на тренировочной выборке\n",
    "    result = model.score(features_valid, target_valid) #посчитаем качество модели на валидационной выборке\n",
    "    if result > best_result:\n",
    "        best_model = model #сохраним наилучшую модель\n",
    "        best_result = result #сохраним наилучшее значение метрики accuracy на валидационных данных\n",
    "\n",
    "print(\"Accuracy наилучшей модели случайного леса на валидационной выборке:\", best_result, est)"
   ]
  },
  {
   "cell_type": "code",
   "execution_count": 14,
   "metadata": {},
   "outputs": [],
   "source": [
    "data_result.append(['RandomForestClassifier', best_result])"
   ]
  },
  {
   "cell_type": "markdown",
   "metadata": {},
   "source": [
    "###### Модель логистической регрессии"
   ]
  },
  {
   "cell_type": "markdown",
   "metadata": {},
   "source": [
    "Для постоянства результата зададим random_state, равный 12345. solver='lbfgs' позволяет выбрать алгоритм, который будет строить модель. max_iter задаёт максимальное количество итераций обучения."
   ]
  },
  {
   "cell_type": "code",
   "execution_count": 15,
   "metadata": {},
   "outputs": [
    {
     "name": "stdout",
     "output_type": "stream",
     "text": [
      "Accuracy модели логической регрессии на валидационной выборке: 0.7262830482115086\n"
     ]
    }
   ],
   "source": [
    "model = LogisticRegression(random_state=12345, solver='lbfgs', max_iter=1000) #обучим модель с заданным количеством итераций, стратегии\n",
    "model.fit(features_train,target_train) #обучим модель на тренировочной выборке\n",
    "result = model.score(features_valid,target_valid) #посчитаем качество модели на валидационной выборке\n",
    " \n",
    "print(\"Accuracy модели логической регрессии на валидационной выборке:\", result)"
   ]
  },
  {
   "cell_type": "code",
   "execution_count": 16,
   "metadata": {},
   "outputs": [],
   "source": [
    "data_result.append(['LogisticRegression', result])"
   ]
  },
  {
   "cell_type": "code",
   "execution_count": 17,
   "metadata": {},
   "outputs": [
    {
     "data": {
      "text/plain": [
       "[['DecisionTreeClassifier', 0.7667185069984448],\n",
       " ['RandomForestClassifier', 0.7962674961119751],\n",
       " ['LogisticRegression', 0.7262830482115086]]"
      ]
     },
     "execution_count": 17,
     "metadata": {},
     "output_type": "execute_result"
    }
   ],
   "source": [
    "data_result"
   ]
  },
  {
   "cell_type": "markdown",
   "metadata": {},
   "source": [
    "### Вывод"
   ]
  },
  {
   "cell_type": "markdown",
   "metadata": {},
   "source": [
    "Итак, качество модели решающего дерева при глубине 5 равно 0.76, качество модели случайного леса при количестве деревьев 15 равно 0.79 и качество модели логистической регрессии равно 0.72.\n",
    "\n",
    "Самое высокое качество у случайного леса."
   ]
  },
  {
   "cell_type": "markdown",
   "metadata": {},
   "source": [
    "## Проверьте модель на тестовой выборке"
   ]
  },
  {
   "cell_type": "markdown",
   "metadata": {},
   "source": [
    "Исходя из результатов прошлого этапа, наилучшей моделью является модель случайного леса. Проверим ее на тестовой выборке."
   ]
  },
  {
   "cell_type": "code",
   "execution_count": 18,
   "metadata": {},
   "outputs": [
    {
     "name": "stdout",
     "output_type": "stream",
     "text": [
      "Accuracy модели на валидационной выборке: 0.7916018662519441\n",
      "Accuracy модели на тестовой выборке: 0.7807153965785381\n"
     ]
    }
   ],
   "source": [
    "model = RandomForestClassifier(random_state=12345, n_estimators=15) #обучим модель с заданным количеством деревьев\n",
    "model.fit(features_train, target_train) #обучим модель на тренировочной выборке\n",
    "\n",
    "predictions_valid = model.predict(features_valid) #получим предсказания модели на валидационной выборке\n",
    "accuracy_valid = accuracy_score(target_valid,predictions_valid) #посчитаем качество модели на валидационной выборке\n",
    "\n",
    "predictions_test = model.predict(features_test) #получим предсказания модели на тестовой выборке\n",
    "accuracy_test = accuracy_score(target_test,predictions_test) #посчитаем качество модели на тестовой выборке\n",
    "\n",
    "print(\"Accuracy модели на валидационной выборке:\", accuracy_valid)\n",
    "print(\"Accuracy модели на тестовой выборке:\", accuracy_test)"
   ]
  },
  {
   "cell_type": "markdown",
   "metadata": {},
   "source": [
    "### Вывод"
   ]
  },
  {
   "cell_type": "markdown",
   "metadata": {},
   "source": [
    "После сопоставления количества ошибок с размером тестовой выборки, получили, что результаты практически не отличаются. Это значит, что соблюдается баланс между переобучением и недообучением."
   ]
  },
  {
   "cell_type": "markdown",
   "metadata": {},
   "source": [
    "## (бонус) Проверьте модели на адекватность"
   ]
  },
  {
   "cell_type": "markdown",
   "metadata": {},
   "source": [
    "Cравним модель со случайной, так мы сможем оценить её адекватность, или проверить на вменяемость. Для этого импортируем библиотеку DummyClassifier. Определим параметр strategy, равным 'most-frequent', т.к. точность модели должна быть равна представленности самого частого класса. Зафиксируем псевдослучайность параметром random_state"
   ]
  },
  {
   "cell_type": "code",
   "execution_count": 19,
   "metadata": {},
   "outputs": [
    {
     "data": {
      "text/plain": [
       "0.6889580093312597"
      ]
     },
     "execution_count": 19,
     "metadata": {},
     "output_type": "execute_result"
    }
   ],
   "source": [
    "dc_model = DummyClassifier(strategy='most_frequent', random_state=12345)\n",
    "dc_model.fit(features_train, target_train) # обучим модель на тренировочной выборке\n",
    "\n",
    "result = dc_model.score(features_valid, target_valid) # посчитаем качество модели на валидационной выборке\n",
    "result\n"
   ]
  },
  {
   "cell_type": "markdown",
   "metadata": {},
   "source": [
    "### Вывод"
   ]
  },
  {
   "cell_type": "markdown",
   "metadata": {},
   "source": [
    "Качество нашей полученной модели выше константной. Таким образом, модель адекватна."
   ]
  },
  {
   "cell_type": "markdown",
   "metadata": {},
   "source": [
    "## Общий вывод"
   ]
  },
  {
   "cell_type": "markdown",
   "metadata": {},
   "source": [
    "Исходя из результатов, наилучшей моделью является модель случайного леса при количестве деревьев 15. Качество модели на валидационной и тестовой выборке практически не отличаются. После проверки модели на вменяемость, получили, что модель адекватна."
   ]
  },
  {
   "cell_type": "markdown",
   "metadata": {},
   "source": [
    "## Чек-лист готовности проекта"
   ]
  },
  {
   "cell_type": "markdown",
   "metadata": {},
   "source": [
    "Поставьте 'x' в выполненных пунктах. Далее нажмите Shift+Enter."
   ]
  },
  {
   "cell_type": "markdown",
   "metadata": {},
   "source": [
    "- [x] Jupyter Notebook открыт\n",
    "- [ ] Весь код исполняется без ошибок\n",
    "- [ ] Ячейки с кодом расположены в порядке исполнения\n",
    "- [ ] Выполнено задание 1: данные загружены и изучены\n",
    "- [ ] Выполнено задание 2: данные разбиты на три выборки\n",
    "- [ ] Выполнено задание 3: проведено исследование моделей\n",
    "    - [ ] Рассмотрено больше одной модели\n",
    "    - [ ] Рассмотрено хотя бы 3 значения гипепараметров для какой-нибудь модели\n",
    "    - [ ] Написаны выводы по результатам исследования\n",
    "- [ ] Выполнено задание 3: Проведено тестирование\n",
    "- [ ] Удалось достичь accuracy не меньше 0.75\n"
   ]
  }
 ],
 "metadata": {
  "ExecuteTimeLog": [
   {
    "duration": 1077,
    "start_time": "2022-04-12T09:51:50.134Z"
   },
   {
    "duration": 31,
    "start_time": "2022-04-12T09:52:06.965Z"
   },
   {
    "duration": 6,
    "start_time": "2022-04-12T09:52:23.822Z"
   },
   {
    "duration": 7,
    "start_time": "2022-04-12T09:52:40.296Z"
   },
   {
    "duration": 1414,
    "start_time": "2022-04-12T17:51:31.476Z"
   },
   {
    "duration": 27,
    "start_time": "2022-04-12T17:51:32.892Z"
   },
   {
    "duration": 7,
    "start_time": "2022-04-12T17:51:34.098Z"
   },
   {
    "duration": 7,
    "start_time": "2022-04-12T17:51:36.647Z"
   },
   {
    "duration": 4,
    "start_time": "2022-04-12T17:51:37.583Z"
   },
   {
    "duration": 6,
    "start_time": "2022-04-12T17:51:38.650Z"
   },
   {
    "duration": 5,
    "start_time": "2022-04-12T17:51:39.800Z"
   },
   {
    "duration": 8,
    "start_time": "2022-04-12T17:51:40.996Z"
   },
   {
    "duration": 41,
    "start_time": "2022-04-12T17:51:43.510Z"
   },
   {
    "duration": 22,
    "start_time": "2022-04-12T17:51:44.171Z"
   },
   {
    "duration": 29,
    "start_time": "2022-04-12T17:51:45.341Z"
   },
   {
    "duration": 157,
    "start_time": "2022-04-12T17:51:47.206Z"
   },
   {
    "duration": 11,
    "start_time": "2022-04-12T17:53:40.892Z"
   },
   {
    "duration": 128,
    "start_time": "2022-04-12T17:53:45.090Z"
   },
   {
    "duration": 2,
    "start_time": "2022-04-12T18:03:55.181Z"
   },
   {
    "duration": 22,
    "start_time": "2022-04-12T18:03:58.102Z"
   },
   {
    "duration": 27,
    "start_time": "2022-04-12T18:06:14.399Z"
   },
   {
    "duration": 27,
    "start_time": "2022-04-12T18:06:42.371Z"
   },
   {
    "duration": 23,
    "start_time": "2022-04-12T18:06:53.310Z"
   },
   {
    "duration": 10,
    "start_time": "2022-04-12T18:09:22.241Z"
   },
   {
    "duration": 9,
    "start_time": "2022-04-12T18:09:56.633Z"
   },
   {
    "duration": 10,
    "start_time": "2022-04-12T18:10:06.631Z"
   },
   {
    "duration": 9,
    "start_time": "2022-04-12T18:10:12.975Z"
   },
   {
    "duration": 3,
    "start_time": "2022-04-12T18:10:20.369Z"
   },
   {
    "duration": 30,
    "start_time": "2022-04-12T18:10:33.880Z"
   },
   {
    "duration": 141,
    "start_time": "2022-04-12T18:10:34.895Z"
   },
   {
    "duration": 10,
    "start_time": "2022-04-12T18:10:36.073Z"
   },
   {
    "duration": 15,
    "start_time": "2022-04-12T18:14:11.171Z"
   },
   {
    "duration": 4,
    "start_time": "2022-04-12T18:14:30.505Z"
   },
   {
    "duration": 4,
    "start_time": "2022-04-12T18:14:31.570Z"
   },
   {
    "duration": 37,
    "start_time": "2022-04-12T18:14:31.577Z"
   },
   {
    "duration": 189,
    "start_time": "2022-04-12T18:14:32.772Z"
   },
   {
    "duration": 23,
    "start_time": "2022-04-12T18:14:34.005Z"
   },
   {
    "duration": 165,
    "start_time": "2022-04-12T18:29:45.572Z"
   },
   {
    "duration": 177,
    "start_time": "2022-04-12T18:29:54.516Z"
   },
   {
    "duration": 182,
    "start_time": "2022-04-12T18:30:05.710Z"
   },
   {
    "duration": 237,
    "start_time": "2022-04-12T18:30:13.775Z"
   },
   {
    "duration": 267,
    "start_time": "2022-04-12T18:30:19.450Z"
   },
   {
    "duration": 291,
    "start_time": "2022-04-12T18:30:32.875Z"
   },
   {
    "duration": 61,
    "start_time": "2022-04-12T18:34:55.226Z"
   },
   {
    "duration": 61,
    "start_time": "2022-04-12T18:36:01.482Z"
   },
   {
    "duration": 73,
    "start_time": "2022-04-12T18:36:12.642Z"
   },
   {
    "duration": 22,
    "start_time": "2022-04-12T18:37:32.223Z"
   },
   {
    "duration": 384,
    "start_time": "2022-04-12T18:37:36.331Z"
   },
   {
    "duration": 35,
    "start_time": "2022-04-12T18:37:47.831Z"
   },
   {
    "duration": 51,
    "start_time": "2022-04-12T18:37:54.383Z"
   },
   {
    "duration": 19,
    "start_time": "2022-04-12T18:40:20.175Z"
   },
   {
    "duration": 18,
    "start_time": "2022-04-12T18:40:24.686Z"
   },
   {
    "duration": 337,
    "start_time": "2022-04-12T18:40:42.074Z"
   },
   {
    "duration": 27,
    "start_time": "2022-04-12T18:40:52.883Z"
   },
   {
    "duration": 34,
    "start_time": "2022-04-12T18:41:01.978Z"
   },
   {
    "duration": 351,
    "start_time": "2022-04-12T18:41:02.786Z"
   },
   {
    "duration": 25,
    "start_time": "2022-04-12T18:41:05.076Z"
   },
   {
    "duration": 39,
    "start_time": "2022-04-12T18:41:15.586Z"
   },
   {
    "duration": 26,
    "start_time": "2022-04-12T18:42:59.442Z"
   },
   {
    "duration": 33,
    "start_time": "2022-04-12T18:43:05.242Z"
   },
   {
    "duration": 22,
    "start_time": "2022-04-12T18:43:26.311Z"
   },
   {
    "duration": 359,
    "start_time": "2022-04-12T18:43:32.814Z"
   },
   {
    "duration": 25,
    "start_time": "2022-04-12T18:43:33.980Z"
   },
   {
    "duration": 60,
    "start_time": "2022-04-12T18:43:36.941Z"
   },
   {
    "duration": 9,
    "start_time": "2022-04-12T18:46:13.394Z"
   },
   {
    "duration": 366,
    "start_time": "2022-04-12T18:56:03.001Z"
   },
   {
    "duration": 20,
    "start_time": "2022-04-12T18:56:07.893Z"
   },
   {
    "duration": 43,
    "start_time": "2022-04-12T18:56:13.806Z"
   },
   {
    "duration": 144,
    "start_time": "2022-04-13T06:57:25.175Z"
   },
   {
    "duration": 151,
    "start_time": "2022-04-13T07:17:23.200Z"
   },
   {
    "duration": 48,
    "start_time": "2022-04-13T07:26:26.675Z"
   },
   {
    "duration": 1196,
    "start_time": "2022-04-13T07:26:34.771Z"
   },
   {
    "duration": 30,
    "start_time": "2022-04-13T07:26:37.334Z"
   },
   {
    "duration": 8,
    "start_time": "2022-04-13T07:26:38.434Z"
   },
   {
    "duration": 8,
    "start_time": "2022-04-13T07:26:40.194Z"
   },
   {
    "duration": 6,
    "start_time": "2022-04-13T07:26:41.454Z"
   },
   {
    "duration": 5,
    "start_time": "2022-04-13T07:26:41.940Z"
   },
   {
    "duration": 65,
    "start_time": "2022-04-13T07:26:42.776Z"
   },
   {
    "duration": 10,
    "start_time": "2022-04-13T07:26:47.895Z"
   },
   {
    "duration": 14,
    "start_time": "2022-04-13T07:26:50.055Z"
   },
   {
    "duration": 7,
    "start_time": "2022-04-13T07:27:03.326Z"
   },
   {
    "duration": 7,
    "start_time": "2022-04-13T07:27:23.569Z"
   },
   {
    "duration": 7,
    "start_time": "2022-04-13T07:27:25.535Z"
   },
   {
    "duration": 6,
    "start_time": "2022-04-13T07:31:35.969Z"
   },
   {
    "duration": 8,
    "start_time": "2022-04-13T07:31:39.689Z"
   },
   {
    "duration": 5,
    "start_time": "2022-04-13T07:31:44.051Z"
   },
   {
    "duration": 7,
    "start_time": "2022-04-13T07:31:45.641Z"
   },
   {
    "duration": 7,
    "start_time": "2022-04-13T07:31:46.960Z"
   },
   {
    "duration": 9,
    "start_time": "2022-04-13T07:31:48.032Z"
   },
   {
    "duration": 4,
    "start_time": "2022-04-13T07:32:00.963Z"
   },
   {
    "duration": 7,
    "start_time": "2022-04-13T07:32:02.414Z"
   },
   {
    "duration": 5,
    "start_time": "2022-04-13T07:32:43.445Z"
   },
   {
    "duration": 7,
    "start_time": "2022-04-13T07:32:44.485Z"
   },
   {
    "duration": 8,
    "start_time": "2022-04-13T07:32:45.824Z"
   },
   {
    "duration": 7,
    "start_time": "2022-04-13T07:32:47.465Z"
   },
   {
    "duration": 5,
    "start_time": "2022-04-13T07:32:53.465Z"
   },
   {
    "duration": 8,
    "start_time": "2022-04-13T07:32:54.643Z"
   },
   {
    "duration": 8,
    "start_time": "2022-04-13T07:32:55.744Z"
   },
   {
    "duration": 8,
    "start_time": "2022-04-13T07:32:57.224Z"
   },
   {
    "duration": 5,
    "start_time": "2022-04-13T07:33:43.724Z"
   },
   {
    "duration": 8,
    "start_time": "2022-04-13T07:33:45.345Z"
   },
   {
    "duration": 8,
    "start_time": "2022-04-13T07:33:47.924Z"
   },
   {
    "duration": 6,
    "start_time": "2022-04-13T07:43:48.323Z"
   },
   {
    "duration": 6,
    "start_time": "2022-04-13T07:43:48.805Z"
   },
   {
    "duration": 9,
    "start_time": "2022-04-13T07:43:50.008Z"
   },
   {
    "duration": 7,
    "start_time": "2022-04-13T07:43:51.065Z"
   },
   {
    "duration": 8,
    "start_time": "2022-04-13T07:43:53.084Z"
   },
   {
    "duration": 5,
    "start_time": "2022-04-13T07:45:45.984Z"
   },
   {
    "duration": 4,
    "start_time": "2022-04-13T07:45:46.624Z"
   },
   {
    "duration": 9,
    "start_time": "2022-04-13T07:45:47.425Z"
   },
   {
    "duration": 8,
    "start_time": "2022-04-13T07:45:48.344Z"
   },
   {
    "duration": 7,
    "start_time": "2022-04-13T07:45:49.286Z"
   },
   {
    "duration": 6,
    "start_time": "2022-04-13T07:45:52.804Z"
   },
   {
    "duration": 7,
    "start_time": "2022-04-13T07:45:53.549Z"
   },
   {
    "duration": 9,
    "start_time": "2022-04-13T07:45:54.534Z"
   },
   {
    "duration": 7,
    "start_time": "2022-04-13T07:45:55.592Z"
   },
   {
    "duration": 7,
    "start_time": "2022-04-13T07:45:56.885Z"
   },
   {
    "duration": 3,
    "start_time": "2022-04-13T07:58:16.684Z"
   },
   {
    "duration": 164,
    "start_time": "2022-04-13T08:36:29.953Z"
   },
   {
    "duration": 407,
    "start_time": "2022-04-13T09:05:13.267Z"
   },
   {
    "duration": 42,
    "start_time": "2022-04-13T09:05:13.677Z"
   },
   {
    "duration": 8,
    "start_time": "2022-04-13T09:05:13.722Z"
   },
   {
    "duration": 11,
    "start_time": "2022-04-13T09:05:13.732Z"
   },
   {
    "duration": 901,
    "start_time": "2022-04-13T09:05:13.745Z"
   },
   {
    "duration": 6,
    "start_time": "2022-04-13T09:05:14.648Z"
   },
   {
    "duration": 10,
    "start_time": "2022-04-13T09:05:14.656Z"
   },
   {
    "duration": 16,
    "start_time": "2022-04-13T09:05:14.667Z"
   },
   {
    "duration": 17,
    "start_time": "2022-04-13T09:05:14.685Z"
   },
   {
    "duration": 15,
    "start_time": "2022-04-13T09:05:14.704Z"
   },
   {
    "duration": 12,
    "start_time": "2022-04-13T09:05:14.720Z"
   },
   {
    "duration": 62,
    "start_time": "2022-04-13T09:05:14.733Z"
   },
   {
    "duration": 39,
    "start_time": "2022-04-13T09:05:14.797Z"
   },
   {
    "duration": 462,
    "start_time": "2022-04-13T09:05:14.839Z"
   },
   {
    "duration": 32,
    "start_time": "2022-04-13T09:05:15.303Z"
   },
   {
    "duration": 81,
    "start_time": "2022-04-13T09:05:15.337Z"
   },
   {
    "duration": 7,
    "start_time": "2022-04-13T09:05:15.421Z"
   },
   {
    "duration": 1199,
    "start_time": "2022-04-13T11:28:23.124Z"
   },
   {
    "duration": 35,
    "start_time": "2022-04-13T11:28:25.682Z"
   },
   {
    "duration": 7,
    "start_time": "2022-04-13T11:28:26.804Z"
   },
   {
    "duration": 8,
    "start_time": "2022-04-13T11:28:29.023Z"
   },
   {
    "duration": 6,
    "start_time": "2022-04-13T11:28:31.929Z"
   },
   {
    "duration": 5,
    "start_time": "2022-04-13T11:28:33.163Z"
   },
   {
    "duration": 6,
    "start_time": "2022-04-13T11:28:34.723Z"
   },
   {
    "duration": 6,
    "start_time": "2022-04-13T11:28:35.163Z"
   },
   {
    "duration": 7,
    "start_time": "2022-04-13T11:28:35.602Z"
   },
   {
    "duration": 6,
    "start_time": "2022-04-13T11:28:37.964Z"
   },
   {
    "duration": 143,
    "start_time": "2022-04-13T11:28:44.964Z"
   },
   {
    "duration": 40,
    "start_time": "2022-04-13T11:28:59.822Z"
   },
   {
    "duration": 31,
    "start_time": "2022-04-13T11:29:10.895Z"
   },
   {
    "duration": 436,
    "start_time": "2022-04-13T11:29:28.091Z"
   },
   {
    "duration": 28,
    "start_time": "2022-04-13T11:29:53.298Z"
   },
   {
    "duration": 35,
    "start_time": "2022-04-13T11:30:25.581Z"
   },
   {
    "duration": 3,
    "start_time": "2022-04-13T11:30:26.764Z"
   },
   {
    "duration": 447,
    "start_time": "2022-04-13T11:30:47.765Z"
   },
   {
    "duration": 3,
    "start_time": "2022-04-13T11:30:49.633Z"
   },
   {
    "duration": 32,
    "start_time": "2022-04-13T11:30:59.563Z"
   },
   {
    "duration": 3,
    "start_time": "2022-04-13T11:31:00.823Z"
   },
   {
    "duration": 4,
    "start_time": "2022-04-13T11:31:07.025Z"
   },
   {
    "duration": 174,
    "start_time": "2022-04-13T11:33:07.685Z"
   },
   {
    "duration": 1277,
    "start_time": "2022-04-13T11:33:37.594Z"
   },
   {
    "duration": 37,
    "start_time": "2022-04-13T11:33:38.873Z"
   },
   {
    "duration": 16,
    "start_time": "2022-04-13T11:33:38.912Z"
   },
   {
    "duration": 11,
    "start_time": "2022-04-13T11:33:38.930Z"
   },
   {
    "duration": 8,
    "start_time": "2022-04-13T11:33:38.943Z"
   },
   {
    "duration": 7,
    "start_time": "2022-04-13T11:33:38.953Z"
   },
   {
    "duration": 18,
    "start_time": "2022-04-13T11:33:38.962Z"
   },
   {
    "duration": 45,
    "start_time": "2022-04-13T11:33:38.983Z"
   },
   {
    "duration": 9,
    "start_time": "2022-04-13T11:33:39.030Z"
   },
   {
    "duration": 7,
    "start_time": "2022-04-13T11:33:39.042Z"
   },
   {
    "duration": 35,
    "start_time": "2022-04-13T11:33:39.051Z"
   },
   {
    "duration": 5,
    "start_time": "2022-04-13T11:33:39.089Z"
   },
   {
    "duration": 467,
    "start_time": "2022-04-13T11:33:39.096Z"
   },
   {
    "duration": 3,
    "start_time": "2022-04-13T11:33:39.564Z"
   },
   {
    "duration": 75,
    "start_time": "2022-04-13T11:33:39.568Z"
   },
   {
    "duration": 3,
    "start_time": "2022-04-13T11:33:39.644Z"
   },
   {
    "duration": 9,
    "start_time": "2022-04-13T11:33:39.649Z"
   },
   {
    "duration": 78,
    "start_time": "2022-04-13T11:33:39.659Z"
   },
   {
    "duration": 7,
    "start_time": "2022-04-13T11:33:39.739Z"
   },
   {
    "duration": 2257,
    "start_time": "2022-04-13T11:45:35.211Z"
   },
   {
    "duration": 49,
    "start_time": "2022-04-13T11:45:37.471Z"
   },
   {
    "duration": 8,
    "start_time": "2022-04-13T11:45:37.521Z"
   },
   {
    "duration": 23,
    "start_time": "2022-04-13T11:45:37.531Z"
   },
   {
    "duration": 27,
    "start_time": "2022-04-13T11:45:37.555Z"
   },
   {
    "duration": 33,
    "start_time": "2022-04-13T11:45:37.584Z"
   },
   {
    "duration": 31,
    "start_time": "2022-04-13T11:45:37.619Z"
   },
   {
    "duration": 19,
    "start_time": "2022-04-13T11:45:37.651Z"
   },
   {
    "duration": 45,
    "start_time": "2022-04-13T11:45:37.672Z"
   },
   {
    "duration": 22,
    "start_time": "2022-04-13T11:45:37.719Z"
   },
   {
    "duration": 43,
    "start_time": "2022-04-13T11:45:37.743Z"
   },
   {
    "duration": 21,
    "start_time": "2022-04-13T11:45:37.788Z"
   },
   {
    "duration": 503,
    "start_time": "2022-04-13T11:45:37.812Z"
   },
   {
    "duration": 2,
    "start_time": "2022-04-13T11:45:38.317Z"
   },
   {
    "duration": 43,
    "start_time": "2022-04-13T11:45:38.321Z"
   },
   {
    "duration": 3,
    "start_time": "2022-04-13T11:45:38.366Z"
   },
   {
    "duration": 38,
    "start_time": "2022-04-13T11:45:38.370Z"
   },
   {
    "duration": 75,
    "start_time": "2022-04-13T11:45:38.410Z"
   },
   {
    "duration": 11,
    "start_time": "2022-04-13T11:45:38.487Z"
   }
  ],
  "kernelspec": {
   "display_name": "Python 3 (ipykernel)",
   "language": "python",
   "name": "python3"
  },
  "language_info": {
   "codemirror_mode": {
    "name": "ipython",
    "version": 3
   },
   "file_extension": ".py",
   "mimetype": "text/x-python",
   "name": "python",
   "nbconvert_exporter": "python",
   "pygments_lexer": "ipython3",
   "version": "3.9.5"
  },
  "toc": {
   "base_numbering": 1,
   "nav_menu": {},
   "number_sections": true,
   "sideBar": true,
   "skip_h1_title": true,
   "title_cell": "Содержание",
   "title_sidebar": "Содержание",
   "toc_cell": true,
   "toc_position": {},
   "toc_section_display": true,
   "toc_window_display": true
  }
 },
 "nbformat": 4,
 "nbformat_minor": 2
}
