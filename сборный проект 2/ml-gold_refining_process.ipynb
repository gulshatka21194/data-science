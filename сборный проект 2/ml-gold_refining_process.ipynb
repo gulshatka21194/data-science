{
 "cells": [
  {
   "cell_type": "markdown",
   "metadata": {
    "toc": true
   },
   "source": [
    "<h1>Содержание<span class=\"tocSkip\"></span></h1>\n",
    "<div class=\"toc\"><ul class=\"toc-item\"><li><span><a href=\"#Подготовка-данных\" data-toc-modified-id=\"Подготовка-данных-1\"><span class=\"toc-item-num\">1&nbsp;&nbsp;</span>Подготовка данных</a></span><ul class=\"toc-item\"><li><span><a href=\"#Изучение-данных\" data-toc-modified-id=\"Изучение-данных-1.1\"><span class=\"toc-item-num\">1.1&nbsp;&nbsp;</span>Изучение данных</a></span></li><li><span><a href=\"#Расчет-эффективности-обогащения\" data-toc-modified-id=\"Расчет-эффективности-обогащения-1.2\"><span class=\"toc-item-num\">1.2&nbsp;&nbsp;</span>Расчет эффективности обогащения</a></span></li><li><span><a href=\"#Анализ-признаков,-недоступных-в-тестовой-выборке\" data-toc-modified-id=\"Анализ-признаков,-недоступных-в-тестовой-выборке-1.3\"><span class=\"toc-item-num\">1.3&nbsp;&nbsp;</span>Анализ признаков, недоступных в тестовой выборке</a></span></li><li><span><a href=\"#Предобработка-данных\" data-toc-modified-id=\"Предобработка-данных-1.4\"><span class=\"toc-item-num\">1.4&nbsp;&nbsp;</span>Предобработка данных</a></span></li></ul></li><li><span><a href=\"#Анализ-данных\" data-toc-modified-id=\"Анализ-данных-2\"><span class=\"toc-item-num\">2&nbsp;&nbsp;</span>Анализ данных</a></span><ul class=\"toc-item\"><li><span><a href=\"#Анализ-концентрации-металлов-(Au,-Ag,-Pb)-на-различных-этапах-очистки.\" data-toc-modified-id=\"Анализ-концентрации-металлов-(Au,-Ag,-Pb)-на-различных-этапах-очистки.-2.1\"><span class=\"toc-item-num\">2.1&nbsp;&nbsp;</span>Анализ концентрации металлов (Au, Ag, Pb) на различных этапах очистки.</a></span></li><li><span><a href=\"#Анализ-распределений-размеров-гранул-сырья-на-обучающей-и-тестовой-выборках.\" data-toc-modified-id=\"Анализ-распределений-размеров-гранул-сырья-на-обучающей-и-тестовой-выборках.-2.2\"><span class=\"toc-item-num\">2.2&nbsp;&nbsp;</span>Анализ распределений размеров гранул сырья на обучающей и тестовой выборках.</a></span></li><li><span><a href=\"#Исследование-суммарной-концентрации-всех-веществ-на-разных-стадиях:-в-сырье,-в-черновом-и-финальном-концентратах.\" data-toc-modified-id=\"Исследование-суммарной-концентрации-всех-веществ-на-разных-стадиях:-в-сырье,-в-черновом-и-финальном-концентратах.-2.3\"><span class=\"toc-item-num\">2.3&nbsp;&nbsp;</span>Исследование суммарной концентрации всех веществ на разных стадиях: в сырье, в черновом и финальном концентратах.</a></span></li></ul></li><li><span><a href=\"#Модель\" data-toc-modified-id=\"Модель-3\"><span class=\"toc-item-num\">3&nbsp;&nbsp;</span>Модель</a></span><ul class=\"toc-item\"><li><span><a href=\"#Функция-для-вычисления-итоговой-sMAPE.\" data-toc-modified-id=\"Функция-для-вычисления-итоговой-sMAPE.-3.1\"><span class=\"toc-item-num\">3.1&nbsp;&nbsp;</span>Функция для вычисления итоговой sMAPE.</a></span></li><li><span><a href=\"#Обучение-разных-моделей-и-оценка-их-качества-кросс-валидацией.-Проверка-лучшей-модели-на-тестовой-выборке.\" data-toc-modified-id=\"Обучение-разных-моделей-и-оценка-их-качества-кросс-валидацией.-Проверка-лучшей-модели-на-тестовой-выборке.-3.2\"><span class=\"toc-item-num\">3.2&nbsp;&nbsp;</span>Обучение разных моделей и оценка их качества кросс-валидацией. Проверка лучшей модели на тестовой выборке.</a></span></li></ul></li><li><span><a href=\"#Общий-вывод\" data-toc-modified-id=\"Общий-вывод-4\"><span class=\"toc-item-num\">4&nbsp;&nbsp;</span>Общий вывод</a></span></li><li><span><a href=\"#Чек-лист-готовности-проекта\" data-toc-modified-id=\"Чек-лист-готовности-проекта-5\"><span class=\"toc-item-num\">5&nbsp;&nbsp;</span>Чек-лист готовности проекта</a></span></li></ul></div>"
   ]
  },
  {
   "cell_type": "markdown",
   "metadata": {},
   "source": [
    "# Восстановление золота из руды"
   ]
  },
  {
   "cell_type": "markdown",
   "metadata": {},
   "source": [
    "## Подготовка данных"
   ]
  },
  {
   "cell_type": "markdown",
   "metadata": {},
   "source": [
    "### Изучение данных"
   ]
  },
  {
   "cell_type": "code",
   "execution_count": 1,
   "metadata": {},
   "outputs": [],
   "source": [
    "import pandas as pd, numpy as np #импортируем библиотеки pandas\n",
    "import matplotlib.pyplot as plt #импортируем библиотеку plt\n",
    "from sklearn.model_selection import GridSearchCV #импортируем GridSearchCV\n",
    "from sklearn.model_selection import RandomizedSearchCV #импортируем RandomizedSearchCV\n",
    "from sklearn.metrics import make_scorer #импортируем make_scorer\n",
    "from sklearn.model_selection import cross_val_score #импортируем cross_val_score\n",
    "from sklearn.linear_model import LinearRegression #импортируем библиотеку LinearRegression\n",
    "from sklearn.tree import DecisionTreeRegressor #импортируем библиотеку DecisionTreeRegression\n",
    "from sklearn.ensemble import RandomForestRegressor #импортируем библиотеку RandomForestRegression\n",
    "from sklearn.metrics import mean_absolute_error #импортируем функцию mean_absolute_error\n",
    "from sklearn.dummy import DummyRegressor #импортируем библиотеку DummyRegressor\n",
    "import warnings #импортируем библиотеку warnings\n",
    "warnings.filterwarnings('ignore')"
   ]
  },
  {
   "cell_type": "markdown",
   "metadata": {},
   "source": [
    "Так как данные индексируются датой и временем получения информации (признак date), сразу при считывании данных индексируем date и преобразуем в дату со временем"
   ]
  },
  {
   "cell_type": "code",
   "execution_count": 2,
   "metadata": {},
   "outputs": [],
   "source": [
    "data_train = pd.read_csv('/datasets/gold_recovery_train_new.csv', index_col='date', parse_dates=True) #считаем файл с данными и сохраним в data_train\n",
    "data_test = pd.read_csv('/datasets/gold_recovery_test_new.csv', index_col='date', parse_dates=True) #считаем файл с данными и сохраним в data_test\n",
    "data_full = pd.read_csv('/datasets/gold_recovery_full_new.csv', index_col='date', parse_dates=True) #считаем файл с данными и сохраним в data_full"
   ]
  },
  {
   "cell_type": "code",
   "execution_count": 3,
   "metadata": {},
   "outputs": [],
   "source": [
    "def get_info(dataset):\n",
    "    display(dataset.head(10)) #получим первые 10 строк таблицы\n",
    "    dataset.info() #получим общую информацию о данных в таблице\n",
    "    display(dataset.describe()) #получим также разброс значений, максимум, минимум, среднее и медиану\n",
    "    display(\"Доля пропущенных значений:\", dataset.isna().mean()) #получим долю пропущенных значений среди всех данных\n",
    "    print(\"Количество дубликатов:\", dataset.duplicated().sum()) #получим количество дубликатов"
   ]
  },
  {
   "cell_type": "code",
   "execution_count": 4,
   "metadata": {},
   "outputs": [
    {
     "data": {
      "text/html": [
       "<div>\n",
       "<style scoped>\n",
       "    .dataframe tbody tr th:only-of-type {\n",
       "        vertical-align: middle;\n",
       "    }\n",
       "\n",
       "    .dataframe tbody tr th {\n",
       "        vertical-align: top;\n",
       "    }\n",
       "\n",
       "    .dataframe thead th {\n",
       "        text-align: right;\n",
       "    }\n",
       "</style>\n",
       "<table border=\"1\" class=\"dataframe\">\n",
       "  <thead>\n",
       "    <tr style=\"text-align: right;\">\n",
       "      <th></th>\n",
       "      <th>final.output.concentrate_ag</th>\n",
       "      <th>final.output.concentrate_pb</th>\n",
       "      <th>final.output.concentrate_sol</th>\n",
       "      <th>final.output.concentrate_au</th>\n",
       "      <th>final.output.recovery</th>\n",
       "      <th>final.output.tail_ag</th>\n",
       "      <th>final.output.tail_pb</th>\n",
       "      <th>final.output.tail_sol</th>\n",
       "      <th>final.output.tail_au</th>\n",
       "      <th>primary_cleaner.input.sulfate</th>\n",
       "      <th>...</th>\n",
       "      <th>secondary_cleaner.state.floatbank4_a_air</th>\n",
       "      <th>secondary_cleaner.state.floatbank4_a_level</th>\n",
       "      <th>secondary_cleaner.state.floatbank4_b_air</th>\n",
       "      <th>secondary_cleaner.state.floatbank4_b_level</th>\n",
       "      <th>secondary_cleaner.state.floatbank5_a_air</th>\n",
       "      <th>secondary_cleaner.state.floatbank5_a_level</th>\n",
       "      <th>secondary_cleaner.state.floatbank5_b_air</th>\n",
       "      <th>secondary_cleaner.state.floatbank5_b_level</th>\n",
       "      <th>secondary_cleaner.state.floatbank6_a_air</th>\n",
       "      <th>secondary_cleaner.state.floatbank6_a_level</th>\n",
       "    </tr>\n",
       "    <tr>\n",
       "      <th>date</th>\n",
       "      <th></th>\n",
       "      <th></th>\n",
       "      <th></th>\n",
       "      <th></th>\n",
       "      <th></th>\n",
       "      <th></th>\n",
       "      <th></th>\n",
       "      <th></th>\n",
       "      <th></th>\n",
       "      <th></th>\n",
       "      <th></th>\n",
       "      <th></th>\n",
       "      <th></th>\n",
       "      <th></th>\n",
       "      <th></th>\n",
       "      <th></th>\n",
       "      <th></th>\n",
       "      <th></th>\n",
       "      <th></th>\n",
       "      <th></th>\n",
       "      <th></th>\n",
       "    </tr>\n",
       "  </thead>\n",
       "  <tbody>\n",
       "    <tr>\n",
       "      <th>2016-01-15 00:00:00</th>\n",
       "      <td>6.055403</td>\n",
       "      <td>9.889648</td>\n",
       "      <td>5.507324</td>\n",
       "      <td>42.192020</td>\n",
       "      <td>70.541216</td>\n",
       "      <td>10.411962</td>\n",
       "      <td>0.895447</td>\n",
       "      <td>16.904297</td>\n",
       "      <td>2.143149</td>\n",
       "      <td>127.092003</td>\n",
       "      <td>...</td>\n",
       "      <td>14.016835</td>\n",
       "      <td>-502.488007</td>\n",
       "      <td>12.099931</td>\n",
       "      <td>-504.715942</td>\n",
       "      <td>9.925633</td>\n",
       "      <td>-498.310211</td>\n",
       "      <td>8.079666</td>\n",
       "      <td>-500.470978</td>\n",
       "      <td>14.151341</td>\n",
       "      <td>-605.841980</td>\n",
       "    </tr>\n",
       "    <tr>\n",
       "      <th>2016-01-15 01:00:00</th>\n",
       "      <td>6.029369</td>\n",
       "      <td>9.968944</td>\n",
       "      <td>5.257781</td>\n",
       "      <td>42.701629</td>\n",
       "      <td>69.266198</td>\n",
       "      <td>10.462676</td>\n",
       "      <td>0.927452</td>\n",
       "      <td>16.634514</td>\n",
       "      <td>2.224930</td>\n",
       "      <td>125.629232</td>\n",
       "      <td>...</td>\n",
       "      <td>13.992281</td>\n",
       "      <td>-505.503262</td>\n",
       "      <td>11.950531</td>\n",
       "      <td>-501.331529</td>\n",
       "      <td>10.039245</td>\n",
       "      <td>-500.169983</td>\n",
       "      <td>7.984757</td>\n",
       "      <td>-500.582168</td>\n",
       "      <td>13.998353</td>\n",
       "      <td>-599.787184</td>\n",
       "    </tr>\n",
       "    <tr>\n",
       "      <th>2016-01-15 02:00:00</th>\n",
       "      <td>6.055926</td>\n",
       "      <td>10.213995</td>\n",
       "      <td>5.383759</td>\n",
       "      <td>42.657501</td>\n",
       "      <td>68.116445</td>\n",
       "      <td>10.507046</td>\n",
       "      <td>0.953716</td>\n",
       "      <td>16.208849</td>\n",
       "      <td>2.257889</td>\n",
       "      <td>123.819808</td>\n",
       "      <td>...</td>\n",
       "      <td>14.015015</td>\n",
       "      <td>-502.520901</td>\n",
       "      <td>11.912783</td>\n",
       "      <td>-501.133383</td>\n",
       "      <td>10.070913</td>\n",
       "      <td>-500.129135</td>\n",
       "      <td>8.013877</td>\n",
       "      <td>-500.517572</td>\n",
       "      <td>14.028663</td>\n",
       "      <td>-601.427363</td>\n",
       "    </tr>\n",
       "    <tr>\n",
       "      <th>2016-01-15 03:00:00</th>\n",
       "      <td>6.047977</td>\n",
       "      <td>9.977019</td>\n",
       "      <td>4.858634</td>\n",
       "      <td>42.689819</td>\n",
       "      <td>68.347543</td>\n",
       "      <td>10.422762</td>\n",
       "      <td>0.883763</td>\n",
       "      <td>16.532835</td>\n",
       "      <td>2.146849</td>\n",
       "      <td>122.270188</td>\n",
       "      <td>...</td>\n",
       "      <td>14.036510</td>\n",
       "      <td>-500.857308</td>\n",
       "      <td>11.999550</td>\n",
       "      <td>-501.193686</td>\n",
       "      <td>9.970366</td>\n",
       "      <td>-499.201640</td>\n",
       "      <td>7.977324</td>\n",
       "      <td>-500.255908</td>\n",
       "      <td>14.005551</td>\n",
       "      <td>-599.996129</td>\n",
       "    </tr>\n",
       "    <tr>\n",
       "      <th>2016-01-15 04:00:00</th>\n",
       "      <td>6.148599</td>\n",
       "      <td>10.142511</td>\n",
       "      <td>4.939416</td>\n",
       "      <td>42.774141</td>\n",
       "      <td>66.927016</td>\n",
       "      <td>10.360302</td>\n",
       "      <td>0.792826</td>\n",
       "      <td>16.525686</td>\n",
       "      <td>2.055292</td>\n",
       "      <td>117.988169</td>\n",
       "      <td>...</td>\n",
       "      <td>14.027298</td>\n",
       "      <td>-499.838632</td>\n",
       "      <td>11.953070</td>\n",
       "      <td>-501.053894</td>\n",
       "      <td>9.925709</td>\n",
       "      <td>-501.686727</td>\n",
       "      <td>7.894242</td>\n",
       "      <td>-500.356035</td>\n",
       "      <td>13.996647</td>\n",
       "      <td>-601.496691</td>\n",
       "    </tr>\n",
       "    <tr>\n",
       "      <th>2016-01-15 05:00:00</th>\n",
       "      <td>6.482968</td>\n",
       "      <td>10.049416</td>\n",
       "      <td>5.480257</td>\n",
       "      <td>41.633678</td>\n",
       "      <td>69.465816</td>\n",
       "      <td>10.182708</td>\n",
       "      <td>0.664118</td>\n",
       "      <td>16.999638</td>\n",
       "      <td>1.918586</td>\n",
       "      <td>115.581252</td>\n",
       "      <td>...</td>\n",
       "      <td>13.938497</td>\n",
       "      <td>-500.970168</td>\n",
       "      <td>11.883350</td>\n",
       "      <td>-500.395298</td>\n",
       "      <td>10.054147</td>\n",
       "      <td>-496.374715</td>\n",
       "      <td>7.965083</td>\n",
       "      <td>-499.364752</td>\n",
       "      <td>14.017067</td>\n",
       "      <td>-599.707915</td>\n",
       "    </tr>\n",
       "    <tr>\n",
       "      <th>2016-01-15 06:00:00</th>\n",
       "      <td>6.533849</td>\n",
       "      <td>10.058141</td>\n",
       "      <td>4.569100</td>\n",
       "      <td>41.995316</td>\n",
       "      <td>69.300835</td>\n",
       "      <td>10.304598</td>\n",
       "      <td>0.807342</td>\n",
       "      <td>16.723575</td>\n",
       "      <td>2.058913</td>\n",
       "      <td>117.322323</td>\n",
       "      <td>...</td>\n",
       "      <td>14.046819</td>\n",
       "      <td>-500.971133</td>\n",
       "      <td>12.091543</td>\n",
       "      <td>-500.501426</td>\n",
       "      <td>10.003247</td>\n",
       "      <td>-497.083180</td>\n",
       "      <td>8.010890</td>\n",
       "      <td>-500.002423</td>\n",
       "      <td>14.029649</td>\n",
       "      <td>-600.905470</td>\n",
       "    </tr>\n",
       "    <tr>\n",
       "      <th>2016-01-15 07:00:00</th>\n",
       "      <td>6.130823</td>\n",
       "      <td>9.935481</td>\n",
       "      <td>4.389813</td>\n",
       "      <td>42.452727</td>\n",
       "      <td>70.230976</td>\n",
       "      <td>10.443288</td>\n",
       "      <td>0.949346</td>\n",
       "      <td>16.689959</td>\n",
       "      <td>2.143437</td>\n",
       "      <td>124.592960</td>\n",
       "      <td>...</td>\n",
       "      <td>13.974691</td>\n",
       "      <td>-501.819696</td>\n",
       "      <td>12.101324</td>\n",
       "      <td>-500.583446</td>\n",
       "      <td>9.873169</td>\n",
       "      <td>-499.171928</td>\n",
       "      <td>7.993381</td>\n",
       "      <td>-499.794518</td>\n",
       "      <td>13.984498</td>\n",
       "      <td>-600.411070</td>\n",
       "    </tr>\n",
       "    <tr>\n",
       "      <th>2016-01-15 08:00:00</th>\n",
       "      <td>5.834140</td>\n",
       "      <td>10.071156</td>\n",
       "      <td>4.876389</td>\n",
       "      <td>43.404078</td>\n",
       "      <td>69.688595</td>\n",
       "      <td>10.420140</td>\n",
       "      <td>1.065453</td>\n",
       "      <td>17.201948</td>\n",
       "      <td>2.209881</td>\n",
       "      <td>131.781026</td>\n",
       "      <td>...</td>\n",
       "      <td>13.964030</td>\n",
       "      <td>-504.252450</td>\n",
       "      <td>12.060738</td>\n",
       "      <td>-501.174549</td>\n",
       "      <td>10.033838</td>\n",
       "      <td>-501.178133</td>\n",
       "      <td>7.881604</td>\n",
       "      <td>-499.729434</td>\n",
       "      <td>13.967135</td>\n",
       "      <td>-599.061188</td>\n",
       "    </tr>\n",
       "    <tr>\n",
       "      <th>2016-01-15 09:00:00</th>\n",
       "      <td>5.687063</td>\n",
       "      <td>9.980404</td>\n",
       "      <td>5.282514</td>\n",
       "      <td>43.235220</td>\n",
       "      <td>70.279619</td>\n",
       "      <td>10.487013</td>\n",
       "      <td>1.159805</td>\n",
       "      <td>17.483979</td>\n",
       "      <td>2.209593</td>\n",
       "      <td>138.120409</td>\n",
       "      <td>...</td>\n",
       "      <td>13.989632</td>\n",
       "      <td>-503.195299</td>\n",
       "      <td>12.052233</td>\n",
       "      <td>-500.928547</td>\n",
       "      <td>9.962574</td>\n",
       "      <td>-502.986357</td>\n",
       "      <td>7.979219</td>\n",
       "      <td>-500.146835</td>\n",
       "      <td>13.981614</td>\n",
       "      <td>-598.070855</td>\n",
       "    </tr>\n",
       "  </tbody>\n",
       "</table>\n",
       "<p>10 rows × 86 columns</p>\n",
       "</div>"
      ],
      "text/plain": [
       "                     final.output.concentrate_ag  final.output.concentrate_pb  \\\n",
       "date                                                                            \n",
       "2016-01-15 00:00:00                     6.055403                     9.889648   \n",
       "2016-01-15 01:00:00                     6.029369                     9.968944   \n",
       "2016-01-15 02:00:00                     6.055926                    10.213995   \n",
       "2016-01-15 03:00:00                     6.047977                     9.977019   \n",
       "2016-01-15 04:00:00                     6.148599                    10.142511   \n",
       "2016-01-15 05:00:00                     6.482968                    10.049416   \n",
       "2016-01-15 06:00:00                     6.533849                    10.058141   \n",
       "2016-01-15 07:00:00                     6.130823                     9.935481   \n",
       "2016-01-15 08:00:00                     5.834140                    10.071156   \n",
       "2016-01-15 09:00:00                     5.687063                     9.980404   \n",
       "\n",
       "                     final.output.concentrate_sol  \\\n",
       "date                                                \n",
       "2016-01-15 00:00:00                      5.507324   \n",
       "2016-01-15 01:00:00                      5.257781   \n",
       "2016-01-15 02:00:00                      5.383759   \n",
       "2016-01-15 03:00:00                      4.858634   \n",
       "2016-01-15 04:00:00                      4.939416   \n",
       "2016-01-15 05:00:00                      5.480257   \n",
       "2016-01-15 06:00:00                      4.569100   \n",
       "2016-01-15 07:00:00                      4.389813   \n",
       "2016-01-15 08:00:00                      4.876389   \n",
       "2016-01-15 09:00:00                      5.282514   \n",
       "\n",
       "                     final.output.concentrate_au  final.output.recovery  \\\n",
       "date                                                                      \n",
       "2016-01-15 00:00:00                    42.192020              70.541216   \n",
       "2016-01-15 01:00:00                    42.701629              69.266198   \n",
       "2016-01-15 02:00:00                    42.657501              68.116445   \n",
       "2016-01-15 03:00:00                    42.689819              68.347543   \n",
       "2016-01-15 04:00:00                    42.774141              66.927016   \n",
       "2016-01-15 05:00:00                    41.633678              69.465816   \n",
       "2016-01-15 06:00:00                    41.995316              69.300835   \n",
       "2016-01-15 07:00:00                    42.452727              70.230976   \n",
       "2016-01-15 08:00:00                    43.404078              69.688595   \n",
       "2016-01-15 09:00:00                    43.235220              70.279619   \n",
       "\n",
       "                     final.output.tail_ag  final.output.tail_pb  \\\n",
       "date                                                              \n",
       "2016-01-15 00:00:00             10.411962              0.895447   \n",
       "2016-01-15 01:00:00             10.462676              0.927452   \n",
       "2016-01-15 02:00:00             10.507046              0.953716   \n",
       "2016-01-15 03:00:00             10.422762              0.883763   \n",
       "2016-01-15 04:00:00             10.360302              0.792826   \n",
       "2016-01-15 05:00:00             10.182708              0.664118   \n",
       "2016-01-15 06:00:00             10.304598              0.807342   \n",
       "2016-01-15 07:00:00             10.443288              0.949346   \n",
       "2016-01-15 08:00:00             10.420140              1.065453   \n",
       "2016-01-15 09:00:00             10.487013              1.159805   \n",
       "\n",
       "                     final.output.tail_sol  final.output.tail_au  \\\n",
       "date                                                               \n",
       "2016-01-15 00:00:00              16.904297              2.143149   \n",
       "2016-01-15 01:00:00              16.634514              2.224930   \n",
       "2016-01-15 02:00:00              16.208849              2.257889   \n",
       "2016-01-15 03:00:00              16.532835              2.146849   \n",
       "2016-01-15 04:00:00              16.525686              2.055292   \n",
       "2016-01-15 05:00:00              16.999638              1.918586   \n",
       "2016-01-15 06:00:00              16.723575              2.058913   \n",
       "2016-01-15 07:00:00              16.689959              2.143437   \n",
       "2016-01-15 08:00:00              17.201948              2.209881   \n",
       "2016-01-15 09:00:00              17.483979              2.209593   \n",
       "\n",
       "                     primary_cleaner.input.sulfate  ...  \\\n",
       "date                                                ...   \n",
       "2016-01-15 00:00:00                     127.092003  ...   \n",
       "2016-01-15 01:00:00                     125.629232  ...   \n",
       "2016-01-15 02:00:00                     123.819808  ...   \n",
       "2016-01-15 03:00:00                     122.270188  ...   \n",
       "2016-01-15 04:00:00                     117.988169  ...   \n",
       "2016-01-15 05:00:00                     115.581252  ...   \n",
       "2016-01-15 06:00:00                     117.322323  ...   \n",
       "2016-01-15 07:00:00                     124.592960  ...   \n",
       "2016-01-15 08:00:00                     131.781026  ...   \n",
       "2016-01-15 09:00:00                     138.120409  ...   \n",
       "\n",
       "                     secondary_cleaner.state.floatbank4_a_air  \\\n",
       "date                                                            \n",
       "2016-01-15 00:00:00                                 14.016835   \n",
       "2016-01-15 01:00:00                                 13.992281   \n",
       "2016-01-15 02:00:00                                 14.015015   \n",
       "2016-01-15 03:00:00                                 14.036510   \n",
       "2016-01-15 04:00:00                                 14.027298   \n",
       "2016-01-15 05:00:00                                 13.938497   \n",
       "2016-01-15 06:00:00                                 14.046819   \n",
       "2016-01-15 07:00:00                                 13.974691   \n",
       "2016-01-15 08:00:00                                 13.964030   \n",
       "2016-01-15 09:00:00                                 13.989632   \n",
       "\n",
       "                     secondary_cleaner.state.floatbank4_a_level  \\\n",
       "date                                                              \n",
       "2016-01-15 00:00:00                                 -502.488007   \n",
       "2016-01-15 01:00:00                                 -505.503262   \n",
       "2016-01-15 02:00:00                                 -502.520901   \n",
       "2016-01-15 03:00:00                                 -500.857308   \n",
       "2016-01-15 04:00:00                                 -499.838632   \n",
       "2016-01-15 05:00:00                                 -500.970168   \n",
       "2016-01-15 06:00:00                                 -500.971133   \n",
       "2016-01-15 07:00:00                                 -501.819696   \n",
       "2016-01-15 08:00:00                                 -504.252450   \n",
       "2016-01-15 09:00:00                                 -503.195299   \n",
       "\n",
       "                     secondary_cleaner.state.floatbank4_b_air  \\\n",
       "date                                                            \n",
       "2016-01-15 00:00:00                                 12.099931   \n",
       "2016-01-15 01:00:00                                 11.950531   \n",
       "2016-01-15 02:00:00                                 11.912783   \n",
       "2016-01-15 03:00:00                                 11.999550   \n",
       "2016-01-15 04:00:00                                 11.953070   \n",
       "2016-01-15 05:00:00                                 11.883350   \n",
       "2016-01-15 06:00:00                                 12.091543   \n",
       "2016-01-15 07:00:00                                 12.101324   \n",
       "2016-01-15 08:00:00                                 12.060738   \n",
       "2016-01-15 09:00:00                                 12.052233   \n",
       "\n",
       "                     secondary_cleaner.state.floatbank4_b_level  \\\n",
       "date                                                              \n",
       "2016-01-15 00:00:00                                 -504.715942   \n",
       "2016-01-15 01:00:00                                 -501.331529   \n",
       "2016-01-15 02:00:00                                 -501.133383   \n",
       "2016-01-15 03:00:00                                 -501.193686   \n",
       "2016-01-15 04:00:00                                 -501.053894   \n",
       "2016-01-15 05:00:00                                 -500.395298   \n",
       "2016-01-15 06:00:00                                 -500.501426   \n",
       "2016-01-15 07:00:00                                 -500.583446   \n",
       "2016-01-15 08:00:00                                 -501.174549   \n",
       "2016-01-15 09:00:00                                 -500.928547   \n",
       "\n",
       "                     secondary_cleaner.state.floatbank5_a_air  \\\n",
       "date                                                            \n",
       "2016-01-15 00:00:00                                  9.925633   \n",
       "2016-01-15 01:00:00                                 10.039245   \n",
       "2016-01-15 02:00:00                                 10.070913   \n",
       "2016-01-15 03:00:00                                  9.970366   \n",
       "2016-01-15 04:00:00                                  9.925709   \n",
       "2016-01-15 05:00:00                                 10.054147   \n",
       "2016-01-15 06:00:00                                 10.003247   \n",
       "2016-01-15 07:00:00                                  9.873169   \n",
       "2016-01-15 08:00:00                                 10.033838   \n",
       "2016-01-15 09:00:00                                  9.962574   \n",
       "\n",
       "                     secondary_cleaner.state.floatbank5_a_level  \\\n",
       "date                                                              \n",
       "2016-01-15 00:00:00                                 -498.310211   \n",
       "2016-01-15 01:00:00                                 -500.169983   \n",
       "2016-01-15 02:00:00                                 -500.129135   \n",
       "2016-01-15 03:00:00                                 -499.201640   \n",
       "2016-01-15 04:00:00                                 -501.686727   \n",
       "2016-01-15 05:00:00                                 -496.374715   \n",
       "2016-01-15 06:00:00                                 -497.083180   \n",
       "2016-01-15 07:00:00                                 -499.171928   \n",
       "2016-01-15 08:00:00                                 -501.178133   \n",
       "2016-01-15 09:00:00                                 -502.986357   \n",
       "\n",
       "                     secondary_cleaner.state.floatbank5_b_air  \\\n",
       "date                                                            \n",
       "2016-01-15 00:00:00                                  8.079666   \n",
       "2016-01-15 01:00:00                                  7.984757   \n",
       "2016-01-15 02:00:00                                  8.013877   \n",
       "2016-01-15 03:00:00                                  7.977324   \n",
       "2016-01-15 04:00:00                                  7.894242   \n",
       "2016-01-15 05:00:00                                  7.965083   \n",
       "2016-01-15 06:00:00                                  8.010890   \n",
       "2016-01-15 07:00:00                                  7.993381   \n",
       "2016-01-15 08:00:00                                  7.881604   \n",
       "2016-01-15 09:00:00                                  7.979219   \n",
       "\n",
       "                     secondary_cleaner.state.floatbank5_b_level  \\\n",
       "date                                                              \n",
       "2016-01-15 00:00:00                                 -500.470978   \n",
       "2016-01-15 01:00:00                                 -500.582168   \n",
       "2016-01-15 02:00:00                                 -500.517572   \n",
       "2016-01-15 03:00:00                                 -500.255908   \n",
       "2016-01-15 04:00:00                                 -500.356035   \n",
       "2016-01-15 05:00:00                                 -499.364752   \n",
       "2016-01-15 06:00:00                                 -500.002423   \n",
       "2016-01-15 07:00:00                                 -499.794518   \n",
       "2016-01-15 08:00:00                                 -499.729434   \n",
       "2016-01-15 09:00:00                                 -500.146835   \n",
       "\n",
       "                     secondary_cleaner.state.floatbank6_a_air  \\\n",
       "date                                                            \n",
       "2016-01-15 00:00:00                                 14.151341   \n",
       "2016-01-15 01:00:00                                 13.998353   \n",
       "2016-01-15 02:00:00                                 14.028663   \n",
       "2016-01-15 03:00:00                                 14.005551   \n",
       "2016-01-15 04:00:00                                 13.996647   \n",
       "2016-01-15 05:00:00                                 14.017067   \n",
       "2016-01-15 06:00:00                                 14.029649   \n",
       "2016-01-15 07:00:00                                 13.984498   \n",
       "2016-01-15 08:00:00                                 13.967135   \n",
       "2016-01-15 09:00:00                                 13.981614   \n",
       "\n",
       "                     secondary_cleaner.state.floatbank6_a_level  \n",
       "date                                                             \n",
       "2016-01-15 00:00:00                                 -605.841980  \n",
       "2016-01-15 01:00:00                                 -599.787184  \n",
       "2016-01-15 02:00:00                                 -601.427363  \n",
       "2016-01-15 03:00:00                                 -599.996129  \n",
       "2016-01-15 04:00:00                                 -601.496691  \n",
       "2016-01-15 05:00:00                                 -599.707915  \n",
       "2016-01-15 06:00:00                                 -600.905470  \n",
       "2016-01-15 07:00:00                                 -600.411070  \n",
       "2016-01-15 08:00:00                                 -599.061188  \n",
       "2016-01-15 09:00:00                                 -598.070855  \n",
       "\n",
       "[10 rows x 86 columns]"
      ]
     },
     "metadata": {},
     "output_type": "display_data"
    },
    {
     "name": "stdout",
     "output_type": "stream",
     "text": [
      "<class 'pandas.core.frame.DataFrame'>\n",
      "DatetimeIndex: 14149 entries, 2016-01-15 00:00:00 to 2018-08-18 10:59:59\n",
      "Data columns (total 86 columns):\n",
      " #   Column                                              Non-Null Count  Dtype  \n",
      "---  ------                                              --------------  -----  \n",
      " 0   final.output.concentrate_ag                         14148 non-null  float64\n",
      " 1   final.output.concentrate_pb                         14148 non-null  float64\n",
      " 2   final.output.concentrate_sol                        13938 non-null  float64\n",
      " 3   final.output.concentrate_au                         14149 non-null  float64\n",
      " 4   final.output.recovery                               14149 non-null  float64\n",
      " 5   final.output.tail_ag                                14149 non-null  float64\n",
      " 6   final.output.tail_pb                                14049 non-null  float64\n",
      " 7   final.output.tail_sol                               14144 non-null  float64\n",
      " 8   final.output.tail_au                                14149 non-null  float64\n",
      " 9   primary_cleaner.input.sulfate                       14129 non-null  float64\n",
      " 10  primary_cleaner.input.depressant                    14117 non-null  float64\n",
      " 11  primary_cleaner.input.feed_size                     14149 non-null  float64\n",
      " 12  primary_cleaner.input.xanthate                      14049 non-null  float64\n",
      " 13  primary_cleaner.output.concentrate_ag               14149 non-null  float64\n",
      " 14  primary_cleaner.output.concentrate_pb               14063 non-null  float64\n",
      " 15  primary_cleaner.output.concentrate_sol              13863 non-null  float64\n",
      " 16  primary_cleaner.output.concentrate_au               14149 non-null  float64\n",
      " 17  primary_cleaner.output.tail_ag                      14148 non-null  float64\n",
      " 18  primary_cleaner.output.tail_pb                      14134 non-null  float64\n",
      " 19  primary_cleaner.output.tail_sol                     14103 non-null  float64\n",
      " 20  primary_cleaner.output.tail_au                      14149 non-null  float64\n",
      " 21  primary_cleaner.state.floatbank8_a_air              14145 non-null  float64\n",
      " 22  primary_cleaner.state.floatbank8_a_level            14148 non-null  float64\n",
      " 23  primary_cleaner.state.floatbank8_b_air              14145 non-null  float64\n",
      " 24  primary_cleaner.state.floatbank8_b_level            14148 non-null  float64\n",
      " 25  primary_cleaner.state.floatbank8_c_air              14147 non-null  float64\n",
      " 26  primary_cleaner.state.floatbank8_c_level            14148 non-null  float64\n",
      " 27  primary_cleaner.state.floatbank8_d_air              14146 non-null  float64\n",
      " 28  primary_cleaner.state.floatbank8_d_level            14148 non-null  float64\n",
      " 29  rougher.calculation.sulfate_to_au_concentrate       14148 non-null  float64\n",
      " 30  rougher.calculation.floatbank10_sulfate_to_au_feed  14148 non-null  float64\n",
      " 31  rougher.calculation.floatbank11_sulfate_to_au_feed  14148 non-null  float64\n",
      " 32  rougher.calculation.au_pb_ratio                     14149 non-null  float64\n",
      " 33  rougher.input.feed_ag                               14149 non-null  float64\n",
      " 34  rougher.input.feed_pb                               14049 non-null  float64\n",
      " 35  rougher.input.feed_rate                             14141 non-null  float64\n",
      " 36  rougher.input.feed_size                             14005 non-null  float64\n",
      " 37  rougher.input.feed_sol                              14071 non-null  float64\n",
      " 38  rougher.input.feed_au                               14149 non-null  float64\n",
      " 39  rougher.input.floatbank10_sulfate                   14120 non-null  float64\n",
      " 40  rougher.input.floatbank10_xanthate                  14141 non-null  float64\n",
      " 41  rougher.input.floatbank11_sulfate                   14113 non-null  float64\n",
      " 42  rougher.input.floatbank11_xanthate                  13721 non-null  float64\n",
      " 43  rougher.output.concentrate_ag                       14149 non-null  float64\n",
      " 44  rougher.output.concentrate_pb                       14149 non-null  float64\n",
      " 45  rougher.output.concentrate_sol                      14127 non-null  float64\n",
      " 46  rougher.output.concentrate_au                       14149 non-null  float64\n",
      " 47  rougher.output.recovery                             14149 non-null  float64\n",
      " 48  rougher.output.tail_ag                              14148 non-null  float64\n",
      " 49  rougher.output.tail_pb                              14149 non-null  float64\n",
      " 50  rougher.output.tail_sol                             14149 non-null  float64\n",
      " 51  rougher.output.tail_au                              14149 non-null  float64\n",
      " 52  rougher.state.floatbank10_a_air                     14148 non-null  float64\n",
      " 53  rougher.state.floatbank10_a_level                   14148 non-null  float64\n",
      " 54  rougher.state.floatbank10_b_air                     14148 non-null  float64\n",
      " 55  rougher.state.floatbank10_b_level                   14148 non-null  float64\n",
      " 56  rougher.state.floatbank10_c_air                     14148 non-null  float64\n",
      " 57  rougher.state.floatbank10_c_level                   14148 non-null  float64\n",
      " 58  rougher.state.floatbank10_d_air                     14149 non-null  float64\n",
      " 59  rougher.state.floatbank10_d_level                   14149 non-null  float64\n",
      " 60  rougher.state.floatbank10_e_air                     13713 non-null  float64\n",
      " 61  rougher.state.floatbank10_e_level                   14149 non-null  float64\n",
      " 62  rougher.state.floatbank10_f_air                     14149 non-null  float64\n",
      " 63  rougher.state.floatbank10_f_level                   14149 non-null  float64\n",
      " 64  secondary_cleaner.output.tail_ag                    14147 non-null  float64\n",
      " 65  secondary_cleaner.output.tail_pb                    14139 non-null  float64\n",
      " 66  secondary_cleaner.output.tail_sol                   12544 non-null  float64\n",
      " 67  secondary_cleaner.output.tail_au                    14149 non-null  float64\n",
      " 68  secondary_cleaner.state.floatbank2_a_air            13932 non-null  float64\n",
      " 69  secondary_cleaner.state.floatbank2_a_level          14148 non-null  float64\n",
      " 70  secondary_cleaner.state.floatbank2_b_air            14128 non-null  float64\n",
      " 71  secondary_cleaner.state.floatbank2_b_level          14148 non-null  float64\n",
      " 72  secondary_cleaner.state.floatbank3_a_air            14145 non-null  float64\n",
      " 73  secondary_cleaner.state.floatbank3_a_level          14148 non-null  float64\n",
      " 74  secondary_cleaner.state.floatbank3_b_air            14148 non-null  float64\n",
      " 75  secondary_cleaner.state.floatbank3_b_level          14148 non-null  float64\n",
      " 76  secondary_cleaner.state.floatbank4_a_air            14143 non-null  float64\n",
      " 77  secondary_cleaner.state.floatbank4_a_level          14148 non-null  float64\n",
      " 78  secondary_cleaner.state.floatbank4_b_air            14148 non-null  float64\n",
      " 79  secondary_cleaner.state.floatbank4_b_level          14148 non-null  float64\n",
      " 80  secondary_cleaner.state.floatbank5_a_air            14148 non-null  float64\n",
      " 81  secondary_cleaner.state.floatbank5_a_level          14148 non-null  float64\n",
      " 82  secondary_cleaner.state.floatbank5_b_air            14148 non-null  float64\n",
      " 83  secondary_cleaner.state.floatbank5_b_level          14148 non-null  float64\n",
      " 84  secondary_cleaner.state.floatbank6_a_air            14147 non-null  float64\n",
      " 85  secondary_cleaner.state.floatbank6_a_level          14148 non-null  float64\n",
      "dtypes: float64(86)\n",
      "memory usage: 9.4 MB\n"
     ]
    },
    {
     "data": {
      "text/html": [
       "<div>\n",
       "<style scoped>\n",
       "    .dataframe tbody tr th:only-of-type {\n",
       "        vertical-align: middle;\n",
       "    }\n",
       "\n",
       "    .dataframe tbody tr th {\n",
       "        vertical-align: top;\n",
       "    }\n",
       "\n",
       "    .dataframe thead th {\n",
       "        text-align: right;\n",
       "    }\n",
       "</style>\n",
       "<table border=\"1\" class=\"dataframe\">\n",
       "  <thead>\n",
       "    <tr style=\"text-align: right;\">\n",
       "      <th></th>\n",
       "      <th>final.output.concentrate_ag</th>\n",
       "      <th>final.output.concentrate_pb</th>\n",
       "      <th>final.output.concentrate_sol</th>\n",
       "      <th>final.output.concentrate_au</th>\n",
       "      <th>final.output.recovery</th>\n",
       "      <th>final.output.tail_ag</th>\n",
       "      <th>final.output.tail_pb</th>\n",
       "      <th>final.output.tail_sol</th>\n",
       "      <th>final.output.tail_au</th>\n",
       "      <th>primary_cleaner.input.sulfate</th>\n",
       "      <th>...</th>\n",
       "      <th>secondary_cleaner.state.floatbank4_a_air</th>\n",
       "      <th>secondary_cleaner.state.floatbank4_a_level</th>\n",
       "      <th>secondary_cleaner.state.floatbank4_b_air</th>\n",
       "      <th>secondary_cleaner.state.floatbank4_b_level</th>\n",
       "      <th>secondary_cleaner.state.floatbank5_a_air</th>\n",
       "      <th>secondary_cleaner.state.floatbank5_a_level</th>\n",
       "      <th>secondary_cleaner.state.floatbank5_b_air</th>\n",
       "      <th>secondary_cleaner.state.floatbank5_b_level</th>\n",
       "      <th>secondary_cleaner.state.floatbank6_a_air</th>\n",
       "      <th>secondary_cleaner.state.floatbank6_a_level</th>\n",
       "    </tr>\n",
       "  </thead>\n",
       "  <tbody>\n",
       "    <tr>\n",
       "      <th>count</th>\n",
       "      <td>14148.000000</td>\n",
       "      <td>14148.000000</td>\n",
       "      <td>13938.000000</td>\n",
       "      <td>14149.000000</td>\n",
       "      <td>14149.000000</td>\n",
       "      <td>14149.000000</td>\n",
       "      <td>14049.000000</td>\n",
       "      <td>14144.000000</td>\n",
       "      <td>14149.000000</td>\n",
       "      <td>14129.000000</td>\n",
       "      <td>...</td>\n",
       "      <td>14143.000000</td>\n",
       "      <td>14148.000000</td>\n",
       "      <td>14148.000000</td>\n",
       "      <td>14148.000000</td>\n",
       "      <td>14148.000000</td>\n",
       "      <td>14148.000000</td>\n",
       "      <td>14148.000000</td>\n",
       "      <td>14148.000000</td>\n",
       "      <td>14147.000000</td>\n",
       "      <td>14148.000000</td>\n",
       "    </tr>\n",
       "    <tr>\n",
       "      <th>mean</th>\n",
       "      <td>5.142034</td>\n",
       "      <td>10.132960</td>\n",
       "      <td>9.202849</td>\n",
       "      <td>44.003792</td>\n",
       "      <td>66.518832</td>\n",
       "      <td>9.607035</td>\n",
       "      <td>2.597298</td>\n",
       "      <td>10.512122</td>\n",
       "      <td>2.918421</td>\n",
       "      <td>133.320659</td>\n",
       "      <td>...</td>\n",
       "      <td>19.985454</td>\n",
       "      <td>-478.696836</td>\n",
       "      <td>15.487065</td>\n",
       "      <td>-460.229416</td>\n",
       "      <td>16.775136</td>\n",
       "      <td>-483.956022</td>\n",
       "      <td>13.064590</td>\n",
       "      <td>-483.966564</td>\n",
       "      <td>19.577539</td>\n",
       "      <td>-506.798480</td>\n",
       "    </tr>\n",
       "    <tr>\n",
       "      <th>std</th>\n",
       "      <td>1.369586</td>\n",
       "      <td>1.654930</td>\n",
       "      <td>2.790516</td>\n",
       "      <td>4.905261</td>\n",
       "      <td>10.295402</td>\n",
       "      <td>2.319069</td>\n",
       "      <td>0.971843</td>\n",
       "      <td>3.003617</td>\n",
       "      <td>0.903712</td>\n",
       "      <td>39.431659</td>\n",
       "      <td>...</td>\n",
       "      <td>5.657723</td>\n",
       "      <td>50.736021</td>\n",
       "      <td>5.255655</td>\n",
       "      <td>58.843586</td>\n",
       "      <td>5.831906</td>\n",
       "      <td>37.892788</td>\n",
       "      <td>5.765617</td>\n",
       "      <td>39.207913</td>\n",
       "      <td>5.764417</td>\n",
       "      <td>37.079249</td>\n",
       "    </tr>\n",
       "    <tr>\n",
       "      <th>min</th>\n",
       "      <td>0.000000</td>\n",
       "      <td>0.000000</td>\n",
       "      <td>0.000000</td>\n",
       "      <td>0.000000</td>\n",
       "      <td>0.000000</td>\n",
       "      <td>0.000000</td>\n",
       "      <td>0.000000</td>\n",
       "      <td>0.000000</td>\n",
       "      <td>0.000000</td>\n",
       "      <td>0.003112</td>\n",
       "      <td>...</td>\n",
       "      <td>0.000000</td>\n",
       "      <td>-799.709069</td>\n",
       "      <td>0.000000</td>\n",
       "      <td>-799.889113</td>\n",
       "      <td>-0.372054</td>\n",
       "      <td>-797.142475</td>\n",
       "      <td>0.646208</td>\n",
       "      <td>-800.006180</td>\n",
       "      <td>0.195324</td>\n",
       "      <td>-809.398668</td>\n",
       "    </tr>\n",
       "    <tr>\n",
       "      <th>25%</th>\n",
       "      <td>4.211620</td>\n",
       "      <td>9.297355</td>\n",
       "      <td>7.484645</td>\n",
       "      <td>43.276111</td>\n",
       "      <td>62.545817</td>\n",
       "      <td>7.997429</td>\n",
       "      <td>1.905973</td>\n",
       "      <td>8.811324</td>\n",
       "      <td>2.368607</td>\n",
       "      <td>107.006651</td>\n",
       "      <td>...</td>\n",
       "      <td>14.990775</td>\n",
       "      <td>-500.628656</td>\n",
       "      <td>11.894558</td>\n",
       "      <td>-500.149000</td>\n",
       "      <td>11.083980</td>\n",
       "      <td>-500.363177</td>\n",
       "      <td>8.994405</td>\n",
       "      <td>-500.105994</td>\n",
       "      <td>14.989304</td>\n",
       "      <td>-500.745104</td>\n",
       "    </tr>\n",
       "    <tr>\n",
       "      <th>50%</th>\n",
       "      <td>4.994652</td>\n",
       "      <td>10.297144</td>\n",
       "      <td>8.845462</td>\n",
       "      <td>44.872436</td>\n",
       "      <td>67.432775</td>\n",
       "      <td>9.480270</td>\n",
       "      <td>2.592022</td>\n",
       "      <td>10.514621</td>\n",
       "      <td>2.851025</td>\n",
       "      <td>133.018328</td>\n",
       "      <td>...</td>\n",
       "      <td>20.001789</td>\n",
       "      <td>-499.681450</td>\n",
       "      <td>14.975536</td>\n",
       "      <td>-499.388738</td>\n",
       "      <td>17.932223</td>\n",
       "      <td>-499.702452</td>\n",
       "      <td>11.997547</td>\n",
       "      <td>-499.914556</td>\n",
       "      <td>19.984175</td>\n",
       "      <td>-500.061431</td>\n",
       "    </tr>\n",
       "    <tr>\n",
       "      <th>75%</th>\n",
       "      <td>5.859540</td>\n",
       "      <td>11.170603</td>\n",
       "      <td>10.487508</td>\n",
       "      <td>46.166425</td>\n",
       "      <td>72.346428</td>\n",
       "      <td>11.003707</td>\n",
       "      <td>3.241723</td>\n",
       "      <td>11.933009</td>\n",
       "      <td>3.434764</td>\n",
       "      <td>159.825396</td>\n",
       "      <td>...</td>\n",
       "      <td>24.990826</td>\n",
       "      <td>-477.472413</td>\n",
       "      <td>20.059375</td>\n",
       "      <td>-400.039008</td>\n",
       "      <td>21.346550</td>\n",
       "      <td>-487.712108</td>\n",
       "      <td>17.982903</td>\n",
       "      <td>-453.186936</td>\n",
       "      <td>24.991623</td>\n",
       "      <td>-499.536466</td>\n",
       "    </tr>\n",
       "    <tr>\n",
       "      <th>max</th>\n",
       "      <td>16.001945</td>\n",
       "      <td>17.031899</td>\n",
       "      <td>18.124851</td>\n",
       "      <td>52.756638</td>\n",
       "      <td>100.000000</td>\n",
       "      <td>19.552149</td>\n",
       "      <td>5.639565</td>\n",
       "      <td>22.317730</td>\n",
       "      <td>8.197408</td>\n",
       "      <td>250.127834</td>\n",
       "      <td>...</td>\n",
       "      <td>30.115735</td>\n",
       "      <td>-245.239184</td>\n",
       "      <td>24.007913</td>\n",
       "      <td>-145.071088</td>\n",
       "      <td>43.709931</td>\n",
       "      <td>-275.073125</td>\n",
       "      <td>27.926001</td>\n",
       "      <td>-157.396071</td>\n",
       "      <td>32.188906</td>\n",
       "      <td>-104.427459</td>\n",
       "    </tr>\n",
       "  </tbody>\n",
       "</table>\n",
       "<p>8 rows × 86 columns</p>\n",
       "</div>"
      ],
      "text/plain": [
       "       final.output.concentrate_ag  final.output.concentrate_pb  \\\n",
       "count                 14148.000000                 14148.000000   \n",
       "mean                      5.142034                    10.132960   \n",
       "std                       1.369586                     1.654930   \n",
       "min                       0.000000                     0.000000   \n",
       "25%                       4.211620                     9.297355   \n",
       "50%                       4.994652                    10.297144   \n",
       "75%                       5.859540                    11.170603   \n",
       "max                      16.001945                    17.031899   \n",
       "\n",
       "       final.output.concentrate_sol  final.output.concentrate_au  \\\n",
       "count                  13938.000000                 14149.000000   \n",
       "mean                       9.202849                    44.003792   \n",
       "std                        2.790516                     4.905261   \n",
       "min                        0.000000                     0.000000   \n",
       "25%                        7.484645                    43.276111   \n",
       "50%                        8.845462                    44.872436   \n",
       "75%                       10.487508                    46.166425   \n",
       "max                       18.124851                    52.756638   \n",
       "\n",
       "       final.output.recovery  final.output.tail_ag  final.output.tail_pb  \\\n",
       "count           14149.000000          14149.000000          14049.000000   \n",
       "mean               66.518832              9.607035              2.597298   \n",
       "std                10.295402              2.319069              0.971843   \n",
       "min                 0.000000              0.000000              0.000000   \n",
       "25%                62.545817              7.997429              1.905973   \n",
       "50%                67.432775              9.480270              2.592022   \n",
       "75%                72.346428             11.003707              3.241723   \n",
       "max               100.000000             19.552149              5.639565   \n",
       "\n",
       "       final.output.tail_sol  final.output.tail_au  \\\n",
       "count           14144.000000          14149.000000   \n",
       "mean               10.512122              2.918421   \n",
       "std                 3.003617              0.903712   \n",
       "min                 0.000000              0.000000   \n",
       "25%                 8.811324              2.368607   \n",
       "50%                10.514621              2.851025   \n",
       "75%                11.933009              3.434764   \n",
       "max                22.317730              8.197408   \n",
       "\n",
       "       primary_cleaner.input.sulfate  ...  \\\n",
       "count                   14129.000000  ...   \n",
       "mean                      133.320659  ...   \n",
       "std                        39.431659  ...   \n",
       "min                         0.003112  ...   \n",
       "25%                       107.006651  ...   \n",
       "50%                       133.018328  ...   \n",
       "75%                       159.825396  ...   \n",
       "max                       250.127834  ...   \n",
       "\n",
       "       secondary_cleaner.state.floatbank4_a_air  \\\n",
       "count                              14143.000000   \n",
       "mean                                  19.985454   \n",
       "std                                    5.657723   \n",
       "min                                    0.000000   \n",
       "25%                                   14.990775   \n",
       "50%                                   20.001789   \n",
       "75%                                   24.990826   \n",
       "max                                   30.115735   \n",
       "\n",
       "       secondary_cleaner.state.floatbank4_a_level  \\\n",
       "count                                14148.000000   \n",
       "mean                                  -478.696836   \n",
       "std                                     50.736021   \n",
       "min                                   -799.709069   \n",
       "25%                                   -500.628656   \n",
       "50%                                   -499.681450   \n",
       "75%                                   -477.472413   \n",
       "max                                   -245.239184   \n",
       "\n",
       "       secondary_cleaner.state.floatbank4_b_air  \\\n",
       "count                              14148.000000   \n",
       "mean                                  15.487065   \n",
       "std                                    5.255655   \n",
       "min                                    0.000000   \n",
       "25%                                   11.894558   \n",
       "50%                                   14.975536   \n",
       "75%                                   20.059375   \n",
       "max                                   24.007913   \n",
       "\n",
       "       secondary_cleaner.state.floatbank4_b_level  \\\n",
       "count                                14148.000000   \n",
       "mean                                  -460.229416   \n",
       "std                                     58.843586   \n",
       "min                                   -799.889113   \n",
       "25%                                   -500.149000   \n",
       "50%                                   -499.388738   \n",
       "75%                                   -400.039008   \n",
       "max                                   -145.071088   \n",
       "\n",
       "       secondary_cleaner.state.floatbank5_a_air  \\\n",
       "count                              14148.000000   \n",
       "mean                                  16.775136   \n",
       "std                                    5.831906   \n",
       "min                                   -0.372054   \n",
       "25%                                   11.083980   \n",
       "50%                                   17.932223   \n",
       "75%                                   21.346550   \n",
       "max                                   43.709931   \n",
       "\n",
       "       secondary_cleaner.state.floatbank5_a_level  \\\n",
       "count                                14148.000000   \n",
       "mean                                  -483.956022   \n",
       "std                                     37.892788   \n",
       "min                                   -797.142475   \n",
       "25%                                   -500.363177   \n",
       "50%                                   -499.702452   \n",
       "75%                                   -487.712108   \n",
       "max                                   -275.073125   \n",
       "\n",
       "       secondary_cleaner.state.floatbank5_b_air  \\\n",
       "count                              14148.000000   \n",
       "mean                                  13.064590   \n",
       "std                                    5.765617   \n",
       "min                                    0.646208   \n",
       "25%                                    8.994405   \n",
       "50%                                   11.997547   \n",
       "75%                                   17.982903   \n",
       "max                                   27.926001   \n",
       "\n",
       "       secondary_cleaner.state.floatbank5_b_level  \\\n",
       "count                                14148.000000   \n",
       "mean                                  -483.966564   \n",
       "std                                     39.207913   \n",
       "min                                   -800.006180   \n",
       "25%                                   -500.105994   \n",
       "50%                                   -499.914556   \n",
       "75%                                   -453.186936   \n",
       "max                                   -157.396071   \n",
       "\n",
       "       secondary_cleaner.state.floatbank6_a_air  \\\n",
       "count                              14147.000000   \n",
       "mean                                  19.577539   \n",
       "std                                    5.764417   \n",
       "min                                    0.195324   \n",
       "25%                                   14.989304   \n",
       "50%                                   19.984175   \n",
       "75%                                   24.991623   \n",
       "max                                   32.188906   \n",
       "\n",
       "       secondary_cleaner.state.floatbank6_a_level  \n",
       "count                                14148.000000  \n",
       "mean                                  -506.798480  \n",
       "std                                     37.079249  \n",
       "min                                   -809.398668  \n",
       "25%                                   -500.745104  \n",
       "50%                                   -500.061431  \n",
       "75%                                   -499.536466  \n",
       "max                                   -104.427459  \n",
       "\n",
       "[8 rows x 86 columns]"
      ]
     },
     "metadata": {},
     "output_type": "display_data"
    },
    {
     "data": {
      "text/plain": [
       "'Доля пропущенных значений:'"
      ]
     },
     "metadata": {},
     "output_type": "display_data"
    },
    {
     "data": {
      "text/plain": [
       "final.output.concentrate_ag                   0.000071\n",
       "final.output.concentrate_pb                   0.000071\n",
       "final.output.concentrate_sol                  0.014913\n",
       "final.output.concentrate_au                   0.000000\n",
       "final.output.recovery                         0.000000\n",
       "                                                ...   \n",
       "secondary_cleaner.state.floatbank5_a_level    0.000071\n",
       "secondary_cleaner.state.floatbank5_b_air      0.000071\n",
       "secondary_cleaner.state.floatbank5_b_level    0.000071\n",
       "secondary_cleaner.state.floatbank6_a_air      0.000141\n",
       "secondary_cleaner.state.floatbank6_a_level    0.000071\n",
       "Length: 86, dtype: float64"
      ]
     },
     "metadata": {},
     "output_type": "display_data"
    },
    {
     "name": "stdout",
     "output_type": "stream",
     "text": [
      "Количество дубликатов: 0\n"
     ]
    }
   ],
   "source": [
    "get_info(data_train) #применим функцию для data_train"
   ]
  },
  {
   "cell_type": "code",
   "execution_count": 5,
   "metadata": {},
   "outputs": [
    {
     "data": {
      "text/html": [
       "<div>\n",
       "<style scoped>\n",
       "    .dataframe tbody tr th:only-of-type {\n",
       "        vertical-align: middle;\n",
       "    }\n",
       "\n",
       "    .dataframe tbody tr th {\n",
       "        vertical-align: top;\n",
       "    }\n",
       "\n",
       "    .dataframe thead th {\n",
       "        text-align: right;\n",
       "    }\n",
       "</style>\n",
       "<table border=\"1\" class=\"dataframe\">\n",
       "  <thead>\n",
       "    <tr style=\"text-align: right;\">\n",
       "      <th></th>\n",
       "      <th>primary_cleaner.input.sulfate</th>\n",
       "      <th>primary_cleaner.input.depressant</th>\n",
       "      <th>primary_cleaner.input.feed_size</th>\n",
       "      <th>primary_cleaner.input.xanthate</th>\n",
       "      <th>primary_cleaner.state.floatbank8_a_air</th>\n",
       "      <th>primary_cleaner.state.floatbank8_a_level</th>\n",
       "      <th>primary_cleaner.state.floatbank8_b_air</th>\n",
       "      <th>primary_cleaner.state.floatbank8_b_level</th>\n",
       "      <th>primary_cleaner.state.floatbank8_c_air</th>\n",
       "      <th>primary_cleaner.state.floatbank8_c_level</th>\n",
       "      <th>...</th>\n",
       "      <th>secondary_cleaner.state.floatbank4_a_air</th>\n",
       "      <th>secondary_cleaner.state.floatbank4_a_level</th>\n",
       "      <th>secondary_cleaner.state.floatbank4_b_air</th>\n",
       "      <th>secondary_cleaner.state.floatbank4_b_level</th>\n",
       "      <th>secondary_cleaner.state.floatbank5_a_air</th>\n",
       "      <th>secondary_cleaner.state.floatbank5_a_level</th>\n",
       "      <th>secondary_cleaner.state.floatbank5_b_air</th>\n",
       "      <th>secondary_cleaner.state.floatbank5_b_level</th>\n",
       "      <th>secondary_cleaner.state.floatbank6_a_air</th>\n",
       "      <th>secondary_cleaner.state.floatbank6_a_level</th>\n",
       "    </tr>\n",
       "    <tr>\n",
       "      <th>date</th>\n",
       "      <th></th>\n",
       "      <th></th>\n",
       "      <th></th>\n",
       "      <th></th>\n",
       "      <th></th>\n",
       "      <th></th>\n",
       "      <th></th>\n",
       "      <th></th>\n",
       "      <th></th>\n",
       "      <th></th>\n",
       "      <th></th>\n",
       "      <th></th>\n",
       "      <th></th>\n",
       "      <th></th>\n",
       "      <th></th>\n",
       "      <th></th>\n",
       "      <th></th>\n",
       "      <th></th>\n",
       "      <th></th>\n",
       "      <th></th>\n",
       "      <th></th>\n",
       "    </tr>\n",
       "  </thead>\n",
       "  <tbody>\n",
       "    <tr>\n",
       "      <th>2016-09-01 00:59:59</th>\n",
       "      <td>210.800909</td>\n",
       "      <td>14.993118</td>\n",
       "      <td>8.080000</td>\n",
       "      <td>1.005021</td>\n",
       "      <td>1398.981301</td>\n",
       "      <td>-500.225577</td>\n",
       "      <td>1399.144926</td>\n",
       "      <td>-499.919735</td>\n",
       "      <td>1400.102998</td>\n",
       "      <td>-500.704369</td>\n",
       "      <td>...</td>\n",
       "      <td>12.023554</td>\n",
       "      <td>-497.795834</td>\n",
       "      <td>8.016656</td>\n",
       "      <td>-501.289139</td>\n",
       "      <td>7.946562</td>\n",
       "      <td>-432.317850</td>\n",
       "      <td>4.872511</td>\n",
       "      <td>-500.037437</td>\n",
       "      <td>26.705889</td>\n",
       "      <td>-499.709414</td>\n",
       "    </tr>\n",
       "    <tr>\n",
       "      <th>2016-09-01 01:59:59</th>\n",
       "      <td>215.392455</td>\n",
       "      <td>14.987471</td>\n",
       "      <td>8.080000</td>\n",
       "      <td>0.990469</td>\n",
       "      <td>1398.777912</td>\n",
       "      <td>-500.057435</td>\n",
       "      <td>1398.055362</td>\n",
       "      <td>-499.778182</td>\n",
       "      <td>1396.151033</td>\n",
       "      <td>-499.240168</td>\n",
       "      <td>...</td>\n",
       "      <td>12.058140</td>\n",
       "      <td>-498.695773</td>\n",
       "      <td>8.130979</td>\n",
       "      <td>-499.634209</td>\n",
       "      <td>7.958270</td>\n",
       "      <td>-525.839648</td>\n",
       "      <td>4.878850</td>\n",
       "      <td>-500.162375</td>\n",
       "      <td>25.019940</td>\n",
       "      <td>-499.819438</td>\n",
       "    </tr>\n",
       "    <tr>\n",
       "      <th>2016-09-01 02:59:59</th>\n",
       "      <td>215.259946</td>\n",
       "      <td>12.884934</td>\n",
       "      <td>7.786667</td>\n",
       "      <td>0.996043</td>\n",
       "      <td>1398.493666</td>\n",
       "      <td>-500.868360</td>\n",
       "      <td>1398.860436</td>\n",
       "      <td>-499.764529</td>\n",
       "      <td>1398.075709</td>\n",
       "      <td>-502.151509</td>\n",
       "      <td>...</td>\n",
       "      <td>11.962366</td>\n",
       "      <td>-498.767484</td>\n",
       "      <td>8.096893</td>\n",
       "      <td>-500.827423</td>\n",
       "      <td>8.071056</td>\n",
       "      <td>-500.801673</td>\n",
       "      <td>4.905125</td>\n",
       "      <td>-499.828510</td>\n",
       "      <td>24.994862</td>\n",
       "      <td>-500.622559</td>\n",
       "    </tr>\n",
       "    <tr>\n",
       "      <th>2016-09-01 03:59:59</th>\n",
       "      <td>215.336236</td>\n",
       "      <td>12.006805</td>\n",
       "      <td>7.640000</td>\n",
       "      <td>0.863514</td>\n",
       "      <td>1399.618111</td>\n",
       "      <td>-498.863574</td>\n",
       "      <td>1397.440120</td>\n",
       "      <td>-499.211024</td>\n",
       "      <td>1400.129303</td>\n",
       "      <td>-498.355873</td>\n",
       "      <td>...</td>\n",
       "      <td>12.033091</td>\n",
       "      <td>-498.350935</td>\n",
       "      <td>8.074946</td>\n",
       "      <td>-499.474407</td>\n",
       "      <td>7.897085</td>\n",
       "      <td>-500.868509</td>\n",
       "      <td>4.931400</td>\n",
       "      <td>-499.963623</td>\n",
       "      <td>24.948919</td>\n",
       "      <td>-498.709987</td>\n",
       "    </tr>\n",
       "    <tr>\n",
       "      <th>2016-09-01 04:59:59</th>\n",
       "      <td>199.099327</td>\n",
       "      <td>10.682530</td>\n",
       "      <td>7.530000</td>\n",
       "      <td>0.805575</td>\n",
       "      <td>1401.268123</td>\n",
       "      <td>-500.808305</td>\n",
       "      <td>1398.128818</td>\n",
       "      <td>-499.504543</td>\n",
       "      <td>1402.172226</td>\n",
       "      <td>-500.810606</td>\n",
       "      <td>...</td>\n",
       "      <td>12.025367</td>\n",
       "      <td>-500.786497</td>\n",
       "      <td>8.054678</td>\n",
       "      <td>-500.397500</td>\n",
       "      <td>8.107890</td>\n",
       "      <td>-509.526725</td>\n",
       "      <td>4.957674</td>\n",
       "      <td>-500.360026</td>\n",
       "      <td>25.003331</td>\n",
       "      <td>-500.856333</td>\n",
       "    </tr>\n",
       "    <tr>\n",
       "      <th>2016-09-01 05:59:59</th>\n",
       "      <td>168.485085</td>\n",
       "      <td>8.817007</td>\n",
       "      <td>7.420000</td>\n",
       "      <td>0.791191</td>\n",
       "      <td>1402.826803</td>\n",
       "      <td>-499.299521</td>\n",
       "      <td>1401.511119</td>\n",
       "      <td>-499.205357</td>\n",
       "      <td>1404.088107</td>\n",
       "      <td>-497.903666</td>\n",
       "      <td>...</td>\n",
       "      <td>12.029797</td>\n",
       "      <td>-499.814895</td>\n",
       "      <td>8.036586</td>\n",
       "      <td>-500.371492</td>\n",
       "      <td>8.041446</td>\n",
       "      <td>-510.037054</td>\n",
       "      <td>4.983949</td>\n",
       "      <td>-499.990990</td>\n",
       "      <td>24.978973</td>\n",
       "      <td>-500.475640</td>\n",
       "    </tr>\n",
       "    <tr>\n",
       "      <th>2016-09-01 06:59:59</th>\n",
       "      <td>144.133440</td>\n",
       "      <td>7.924610</td>\n",
       "      <td>7.420000</td>\n",
       "      <td>0.788838</td>\n",
       "      <td>1398.252401</td>\n",
       "      <td>-499.748672</td>\n",
       "      <td>1393.255503</td>\n",
       "      <td>-499.195380</td>\n",
       "      <td>1396.738566</td>\n",
       "      <td>-497.923683</td>\n",
       "      <td>...</td>\n",
       "      <td>12.026296</td>\n",
       "      <td>-499.473127</td>\n",
       "      <td>8.027984</td>\n",
       "      <td>-500.983079</td>\n",
       "      <td>7.907340</td>\n",
       "      <td>-507.964971</td>\n",
       "      <td>5.010224</td>\n",
       "      <td>-500.043697</td>\n",
       "      <td>25.040709</td>\n",
       "      <td>-499.501984</td>\n",
       "    </tr>\n",
       "    <tr>\n",
       "      <th>2016-09-01 07:59:59</th>\n",
       "      <td>133.513396</td>\n",
       "      <td>8.055252</td>\n",
       "      <td>6.988000</td>\n",
       "      <td>0.801871</td>\n",
       "      <td>1401.669677</td>\n",
       "      <td>-501.777839</td>\n",
       "      <td>1400.754446</td>\n",
       "      <td>-502.514024</td>\n",
       "      <td>1400.465244</td>\n",
       "      <td>-503.451306</td>\n",
       "      <td>...</td>\n",
       "      <td>12.040911</td>\n",
       "      <td>-501.293852</td>\n",
       "      <td>8.020490</td>\n",
       "      <td>-499.185229</td>\n",
       "      <td>8.116897</td>\n",
       "      <td>-511.927561</td>\n",
       "      <td>5.036498</td>\n",
       "      <td>-500.149615</td>\n",
       "      <td>25.032580</td>\n",
       "      <td>-503.970657</td>\n",
       "    </tr>\n",
       "    <tr>\n",
       "      <th>2016-09-01 08:59:59</th>\n",
       "      <td>133.735356</td>\n",
       "      <td>7.999618</td>\n",
       "      <td>6.935000</td>\n",
       "      <td>0.789329</td>\n",
       "      <td>1402.358981</td>\n",
       "      <td>-499.981597</td>\n",
       "      <td>1400.985954</td>\n",
       "      <td>-496.802968</td>\n",
       "      <td>1401.168584</td>\n",
       "      <td>-499.890350</td>\n",
       "      <td>...</td>\n",
       "      <td>11.998184</td>\n",
       "      <td>-499.481608</td>\n",
       "      <td>8.012610</td>\n",
       "      <td>-500.896783</td>\n",
       "      <td>7.974422</td>\n",
       "      <td>-521.199104</td>\n",
       "      <td>5.061599</td>\n",
       "      <td>-499.791519</td>\n",
       "      <td>25.005063</td>\n",
       "      <td>-497.613716</td>\n",
       "    </tr>\n",
       "    <tr>\n",
       "      <th>2016-09-01 09:59:59</th>\n",
       "      <td>126.961069</td>\n",
       "      <td>8.017856</td>\n",
       "      <td>7.030000</td>\n",
       "      <td>0.805298</td>\n",
       "      <td>1400.816120</td>\n",
       "      <td>-499.014158</td>\n",
       "      <td>1399.975401</td>\n",
       "      <td>-499.570552</td>\n",
       "      <td>1401.871924</td>\n",
       "      <td>-499.577934</td>\n",
       "      <td>...</td>\n",
       "      <td>12.040725</td>\n",
       "      <td>-499.987743</td>\n",
       "      <td>7.989503</td>\n",
       "      <td>-499.750625</td>\n",
       "      <td>7.989710</td>\n",
       "      <td>-509.946737</td>\n",
       "      <td>5.068811</td>\n",
       "      <td>-499.293900</td>\n",
       "      <td>24.992741</td>\n",
       "      <td>-499.272255</td>\n",
       "    </tr>\n",
       "  </tbody>\n",
       "</table>\n",
       "<p>10 rows × 52 columns</p>\n",
       "</div>"
      ],
      "text/plain": [
       "                     primary_cleaner.input.sulfate  \\\n",
       "date                                                 \n",
       "2016-09-01 00:59:59                     210.800909   \n",
       "2016-09-01 01:59:59                     215.392455   \n",
       "2016-09-01 02:59:59                     215.259946   \n",
       "2016-09-01 03:59:59                     215.336236   \n",
       "2016-09-01 04:59:59                     199.099327   \n",
       "2016-09-01 05:59:59                     168.485085   \n",
       "2016-09-01 06:59:59                     144.133440   \n",
       "2016-09-01 07:59:59                     133.513396   \n",
       "2016-09-01 08:59:59                     133.735356   \n",
       "2016-09-01 09:59:59                     126.961069   \n",
       "\n",
       "                     primary_cleaner.input.depressant  \\\n",
       "date                                                    \n",
       "2016-09-01 00:59:59                         14.993118   \n",
       "2016-09-01 01:59:59                         14.987471   \n",
       "2016-09-01 02:59:59                         12.884934   \n",
       "2016-09-01 03:59:59                         12.006805   \n",
       "2016-09-01 04:59:59                         10.682530   \n",
       "2016-09-01 05:59:59                          8.817007   \n",
       "2016-09-01 06:59:59                          7.924610   \n",
       "2016-09-01 07:59:59                          8.055252   \n",
       "2016-09-01 08:59:59                          7.999618   \n",
       "2016-09-01 09:59:59                          8.017856   \n",
       "\n",
       "                     primary_cleaner.input.feed_size  \\\n",
       "date                                                   \n",
       "2016-09-01 00:59:59                         8.080000   \n",
       "2016-09-01 01:59:59                         8.080000   \n",
       "2016-09-01 02:59:59                         7.786667   \n",
       "2016-09-01 03:59:59                         7.640000   \n",
       "2016-09-01 04:59:59                         7.530000   \n",
       "2016-09-01 05:59:59                         7.420000   \n",
       "2016-09-01 06:59:59                         7.420000   \n",
       "2016-09-01 07:59:59                         6.988000   \n",
       "2016-09-01 08:59:59                         6.935000   \n",
       "2016-09-01 09:59:59                         7.030000   \n",
       "\n",
       "                     primary_cleaner.input.xanthate  \\\n",
       "date                                                  \n",
       "2016-09-01 00:59:59                        1.005021   \n",
       "2016-09-01 01:59:59                        0.990469   \n",
       "2016-09-01 02:59:59                        0.996043   \n",
       "2016-09-01 03:59:59                        0.863514   \n",
       "2016-09-01 04:59:59                        0.805575   \n",
       "2016-09-01 05:59:59                        0.791191   \n",
       "2016-09-01 06:59:59                        0.788838   \n",
       "2016-09-01 07:59:59                        0.801871   \n",
       "2016-09-01 08:59:59                        0.789329   \n",
       "2016-09-01 09:59:59                        0.805298   \n",
       "\n",
       "                     primary_cleaner.state.floatbank8_a_air  \\\n",
       "date                                                          \n",
       "2016-09-01 00:59:59                             1398.981301   \n",
       "2016-09-01 01:59:59                             1398.777912   \n",
       "2016-09-01 02:59:59                             1398.493666   \n",
       "2016-09-01 03:59:59                             1399.618111   \n",
       "2016-09-01 04:59:59                             1401.268123   \n",
       "2016-09-01 05:59:59                             1402.826803   \n",
       "2016-09-01 06:59:59                             1398.252401   \n",
       "2016-09-01 07:59:59                             1401.669677   \n",
       "2016-09-01 08:59:59                             1402.358981   \n",
       "2016-09-01 09:59:59                             1400.816120   \n",
       "\n",
       "                     primary_cleaner.state.floatbank8_a_level  \\\n",
       "date                                                            \n",
       "2016-09-01 00:59:59                               -500.225577   \n",
       "2016-09-01 01:59:59                               -500.057435   \n",
       "2016-09-01 02:59:59                               -500.868360   \n",
       "2016-09-01 03:59:59                               -498.863574   \n",
       "2016-09-01 04:59:59                               -500.808305   \n",
       "2016-09-01 05:59:59                               -499.299521   \n",
       "2016-09-01 06:59:59                               -499.748672   \n",
       "2016-09-01 07:59:59                               -501.777839   \n",
       "2016-09-01 08:59:59                               -499.981597   \n",
       "2016-09-01 09:59:59                               -499.014158   \n",
       "\n",
       "                     primary_cleaner.state.floatbank8_b_air  \\\n",
       "date                                                          \n",
       "2016-09-01 00:59:59                             1399.144926   \n",
       "2016-09-01 01:59:59                             1398.055362   \n",
       "2016-09-01 02:59:59                             1398.860436   \n",
       "2016-09-01 03:59:59                             1397.440120   \n",
       "2016-09-01 04:59:59                             1398.128818   \n",
       "2016-09-01 05:59:59                             1401.511119   \n",
       "2016-09-01 06:59:59                             1393.255503   \n",
       "2016-09-01 07:59:59                             1400.754446   \n",
       "2016-09-01 08:59:59                             1400.985954   \n",
       "2016-09-01 09:59:59                             1399.975401   \n",
       "\n",
       "                     primary_cleaner.state.floatbank8_b_level  \\\n",
       "date                                                            \n",
       "2016-09-01 00:59:59                               -499.919735   \n",
       "2016-09-01 01:59:59                               -499.778182   \n",
       "2016-09-01 02:59:59                               -499.764529   \n",
       "2016-09-01 03:59:59                               -499.211024   \n",
       "2016-09-01 04:59:59                               -499.504543   \n",
       "2016-09-01 05:59:59                               -499.205357   \n",
       "2016-09-01 06:59:59                               -499.195380   \n",
       "2016-09-01 07:59:59                               -502.514024   \n",
       "2016-09-01 08:59:59                               -496.802968   \n",
       "2016-09-01 09:59:59                               -499.570552   \n",
       "\n",
       "                     primary_cleaner.state.floatbank8_c_air  \\\n",
       "date                                                          \n",
       "2016-09-01 00:59:59                             1400.102998   \n",
       "2016-09-01 01:59:59                             1396.151033   \n",
       "2016-09-01 02:59:59                             1398.075709   \n",
       "2016-09-01 03:59:59                             1400.129303   \n",
       "2016-09-01 04:59:59                             1402.172226   \n",
       "2016-09-01 05:59:59                             1404.088107   \n",
       "2016-09-01 06:59:59                             1396.738566   \n",
       "2016-09-01 07:59:59                             1400.465244   \n",
       "2016-09-01 08:59:59                             1401.168584   \n",
       "2016-09-01 09:59:59                             1401.871924   \n",
       "\n",
       "                     primary_cleaner.state.floatbank8_c_level  ...  \\\n",
       "date                                                           ...   \n",
       "2016-09-01 00:59:59                               -500.704369  ...   \n",
       "2016-09-01 01:59:59                               -499.240168  ...   \n",
       "2016-09-01 02:59:59                               -502.151509  ...   \n",
       "2016-09-01 03:59:59                               -498.355873  ...   \n",
       "2016-09-01 04:59:59                               -500.810606  ...   \n",
       "2016-09-01 05:59:59                               -497.903666  ...   \n",
       "2016-09-01 06:59:59                               -497.923683  ...   \n",
       "2016-09-01 07:59:59                               -503.451306  ...   \n",
       "2016-09-01 08:59:59                               -499.890350  ...   \n",
       "2016-09-01 09:59:59                               -499.577934  ...   \n",
       "\n",
       "                     secondary_cleaner.state.floatbank4_a_air  \\\n",
       "date                                                            \n",
       "2016-09-01 00:59:59                                 12.023554   \n",
       "2016-09-01 01:59:59                                 12.058140   \n",
       "2016-09-01 02:59:59                                 11.962366   \n",
       "2016-09-01 03:59:59                                 12.033091   \n",
       "2016-09-01 04:59:59                                 12.025367   \n",
       "2016-09-01 05:59:59                                 12.029797   \n",
       "2016-09-01 06:59:59                                 12.026296   \n",
       "2016-09-01 07:59:59                                 12.040911   \n",
       "2016-09-01 08:59:59                                 11.998184   \n",
       "2016-09-01 09:59:59                                 12.040725   \n",
       "\n",
       "                     secondary_cleaner.state.floatbank4_a_level  \\\n",
       "date                                                              \n",
       "2016-09-01 00:59:59                                 -497.795834   \n",
       "2016-09-01 01:59:59                                 -498.695773   \n",
       "2016-09-01 02:59:59                                 -498.767484   \n",
       "2016-09-01 03:59:59                                 -498.350935   \n",
       "2016-09-01 04:59:59                                 -500.786497   \n",
       "2016-09-01 05:59:59                                 -499.814895   \n",
       "2016-09-01 06:59:59                                 -499.473127   \n",
       "2016-09-01 07:59:59                                 -501.293852   \n",
       "2016-09-01 08:59:59                                 -499.481608   \n",
       "2016-09-01 09:59:59                                 -499.987743   \n",
       "\n",
       "                     secondary_cleaner.state.floatbank4_b_air  \\\n",
       "date                                                            \n",
       "2016-09-01 00:59:59                                  8.016656   \n",
       "2016-09-01 01:59:59                                  8.130979   \n",
       "2016-09-01 02:59:59                                  8.096893   \n",
       "2016-09-01 03:59:59                                  8.074946   \n",
       "2016-09-01 04:59:59                                  8.054678   \n",
       "2016-09-01 05:59:59                                  8.036586   \n",
       "2016-09-01 06:59:59                                  8.027984   \n",
       "2016-09-01 07:59:59                                  8.020490   \n",
       "2016-09-01 08:59:59                                  8.012610   \n",
       "2016-09-01 09:59:59                                  7.989503   \n",
       "\n",
       "                     secondary_cleaner.state.floatbank4_b_level  \\\n",
       "date                                                              \n",
       "2016-09-01 00:59:59                                 -501.289139   \n",
       "2016-09-01 01:59:59                                 -499.634209   \n",
       "2016-09-01 02:59:59                                 -500.827423   \n",
       "2016-09-01 03:59:59                                 -499.474407   \n",
       "2016-09-01 04:59:59                                 -500.397500   \n",
       "2016-09-01 05:59:59                                 -500.371492   \n",
       "2016-09-01 06:59:59                                 -500.983079   \n",
       "2016-09-01 07:59:59                                 -499.185229   \n",
       "2016-09-01 08:59:59                                 -500.896783   \n",
       "2016-09-01 09:59:59                                 -499.750625   \n",
       "\n",
       "                     secondary_cleaner.state.floatbank5_a_air  \\\n",
       "date                                                            \n",
       "2016-09-01 00:59:59                                  7.946562   \n",
       "2016-09-01 01:59:59                                  7.958270   \n",
       "2016-09-01 02:59:59                                  8.071056   \n",
       "2016-09-01 03:59:59                                  7.897085   \n",
       "2016-09-01 04:59:59                                  8.107890   \n",
       "2016-09-01 05:59:59                                  8.041446   \n",
       "2016-09-01 06:59:59                                  7.907340   \n",
       "2016-09-01 07:59:59                                  8.116897   \n",
       "2016-09-01 08:59:59                                  7.974422   \n",
       "2016-09-01 09:59:59                                  7.989710   \n",
       "\n",
       "                     secondary_cleaner.state.floatbank5_a_level  \\\n",
       "date                                                              \n",
       "2016-09-01 00:59:59                                 -432.317850   \n",
       "2016-09-01 01:59:59                                 -525.839648   \n",
       "2016-09-01 02:59:59                                 -500.801673   \n",
       "2016-09-01 03:59:59                                 -500.868509   \n",
       "2016-09-01 04:59:59                                 -509.526725   \n",
       "2016-09-01 05:59:59                                 -510.037054   \n",
       "2016-09-01 06:59:59                                 -507.964971   \n",
       "2016-09-01 07:59:59                                 -511.927561   \n",
       "2016-09-01 08:59:59                                 -521.199104   \n",
       "2016-09-01 09:59:59                                 -509.946737   \n",
       "\n",
       "                     secondary_cleaner.state.floatbank5_b_air  \\\n",
       "date                                                            \n",
       "2016-09-01 00:59:59                                  4.872511   \n",
       "2016-09-01 01:59:59                                  4.878850   \n",
       "2016-09-01 02:59:59                                  4.905125   \n",
       "2016-09-01 03:59:59                                  4.931400   \n",
       "2016-09-01 04:59:59                                  4.957674   \n",
       "2016-09-01 05:59:59                                  4.983949   \n",
       "2016-09-01 06:59:59                                  5.010224   \n",
       "2016-09-01 07:59:59                                  5.036498   \n",
       "2016-09-01 08:59:59                                  5.061599   \n",
       "2016-09-01 09:59:59                                  5.068811   \n",
       "\n",
       "                     secondary_cleaner.state.floatbank5_b_level  \\\n",
       "date                                                              \n",
       "2016-09-01 00:59:59                                 -500.037437   \n",
       "2016-09-01 01:59:59                                 -500.162375   \n",
       "2016-09-01 02:59:59                                 -499.828510   \n",
       "2016-09-01 03:59:59                                 -499.963623   \n",
       "2016-09-01 04:59:59                                 -500.360026   \n",
       "2016-09-01 05:59:59                                 -499.990990   \n",
       "2016-09-01 06:59:59                                 -500.043697   \n",
       "2016-09-01 07:59:59                                 -500.149615   \n",
       "2016-09-01 08:59:59                                 -499.791519   \n",
       "2016-09-01 09:59:59                                 -499.293900   \n",
       "\n",
       "                     secondary_cleaner.state.floatbank6_a_air  \\\n",
       "date                                                            \n",
       "2016-09-01 00:59:59                                 26.705889   \n",
       "2016-09-01 01:59:59                                 25.019940   \n",
       "2016-09-01 02:59:59                                 24.994862   \n",
       "2016-09-01 03:59:59                                 24.948919   \n",
       "2016-09-01 04:59:59                                 25.003331   \n",
       "2016-09-01 05:59:59                                 24.978973   \n",
       "2016-09-01 06:59:59                                 25.040709   \n",
       "2016-09-01 07:59:59                                 25.032580   \n",
       "2016-09-01 08:59:59                                 25.005063   \n",
       "2016-09-01 09:59:59                                 24.992741   \n",
       "\n",
       "                     secondary_cleaner.state.floatbank6_a_level  \n",
       "date                                                             \n",
       "2016-09-01 00:59:59                                 -499.709414  \n",
       "2016-09-01 01:59:59                                 -499.819438  \n",
       "2016-09-01 02:59:59                                 -500.622559  \n",
       "2016-09-01 03:59:59                                 -498.709987  \n",
       "2016-09-01 04:59:59                                 -500.856333  \n",
       "2016-09-01 05:59:59                                 -500.475640  \n",
       "2016-09-01 06:59:59                                 -499.501984  \n",
       "2016-09-01 07:59:59                                 -503.970657  \n",
       "2016-09-01 08:59:59                                 -497.613716  \n",
       "2016-09-01 09:59:59                                 -499.272255  \n",
       "\n",
       "[10 rows x 52 columns]"
      ]
     },
     "metadata": {},
     "output_type": "display_data"
    },
    {
     "name": "stdout",
     "output_type": "stream",
     "text": [
      "<class 'pandas.core.frame.DataFrame'>\n",
      "DatetimeIndex: 5290 entries, 2016-09-01 00:59:59 to 2017-12-31 23:59:59\n",
      "Data columns (total 52 columns):\n",
      " #   Column                                      Non-Null Count  Dtype  \n",
      "---  ------                                      --------------  -----  \n",
      " 0   primary_cleaner.input.sulfate               5286 non-null   float64\n",
      " 1   primary_cleaner.input.depressant            5285 non-null   float64\n",
      " 2   primary_cleaner.input.feed_size             5290 non-null   float64\n",
      " 3   primary_cleaner.input.xanthate              5286 non-null   float64\n",
      " 4   primary_cleaner.state.floatbank8_a_air      5290 non-null   float64\n",
      " 5   primary_cleaner.state.floatbank8_a_level    5290 non-null   float64\n",
      " 6   primary_cleaner.state.floatbank8_b_air      5290 non-null   float64\n",
      " 7   primary_cleaner.state.floatbank8_b_level    5290 non-null   float64\n",
      " 8   primary_cleaner.state.floatbank8_c_air      5290 non-null   float64\n",
      " 9   primary_cleaner.state.floatbank8_c_level    5290 non-null   float64\n",
      " 10  primary_cleaner.state.floatbank8_d_air      5290 non-null   float64\n",
      " 11  primary_cleaner.state.floatbank8_d_level    5290 non-null   float64\n",
      " 12  rougher.input.feed_ag                       5290 non-null   float64\n",
      " 13  rougher.input.feed_pb                       5290 non-null   float64\n",
      " 14  rougher.input.feed_rate                     5287 non-null   float64\n",
      " 15  rougher.input.feed_size                     5289 non-null   float64\n",
      " 16  rougher.input.feed_sol                      5269 non-null   float64\n",
      " 17  rougher.input.feed_au                       5290 non-null   float64\n",
      " 18  rougher.input.floatbank10_sulfate           5285 non-null   float64\n",
      " 19  rougher.input.floatbank10_xanthate          5290 non-null   float64\n",
      " 20  rougher.input.floatbank11_sulfate           5282 non-null   float64\n",
      " 21  rougher.input.floatbank11_xanthate          5265 non-null   float64\n",
      " 22  rougher.state.floatbank10_a_air             5290 non-null   float64\n",
      " 23  rougher.state.floatbank10_a_level           5290 non-null   float64\n",
      " 24  rougher.state.floatbank10_b_air             5290 non-null   float64\n",
      " 25  rougher.state.floatbank10_b_level           5290 non-null   float64\n",
      " 26  rougher.state.floatbank10_c_air             5290 non-null   float64\n",
      " 27  rougher.state.floatbank10_c_level           5290 non-null   float64\n",
      " 28  rougher.state.floatbank10_d_air             5290 non-null   float64\n",
      " 29  rougher.state.floatbank10_d_level           5290 non-null   float64\n",
      " 30  rougher.state.floatbank10_e_air             5290 non-null   float64\n",
      " 31  rougher.state.floatbank10_e_level           5290 non-null   float64\n",
      " 32  rougher.state.floatbank10_f_air             5290 non-null   float64\n",
      " 33  rougher.state.floatbank10_f_level           5290 non-null   float64\n",
      " 34  secondary_cleaner.state.floatbank2_a_air    5287 non-null   float64\n",
      " 35  secondary_cleaner.state.floatbank2_a_level  5290 non-null   float64\n",
      " 36  secondary_cleaner.state.floatbank2_b_air    5288 non-null   float64\n",
      " 37  secondary_cleaner.state.floatbank2_b_level  5290 non-null   float64\n",
      " 38  secondary_cleaner.state.floatbank3_a_air    5281 non-null   float64\n",
      " 39  secondary_cleaner.state.floatbank3_a_level  5290 non-null   float64\n",
      " 40  secondary_cleaner.state.floatbank3_b_air    5290 non-null   float64\n",
      " 41  secondary_cleaner.state.floatbank3_b_level  5290 non-null   float64\n",
      " 42  secondary_cleaner.state.floatbank4_a_air    5290 non-null   float64\n",
      " 43  secondary_cleaner.state.floatbank4_a_level  5290 non-null   float64\n",
      " 44  secondary_cleaner.state.floatbank4_b_air    5290 non-null   float64\n",
      " 45  secondary_cleaner.state.floatbank4_b_level  5290 non-null   float64\n",
      " 46  secondary_cleaner.state.floatbank5_a_air    5290 non-null   float64\n",
      " 47  secondary_cleaner.state.floatbank5_a_level  5290 non-null   float64\n",
      " 48  secondary_cleaner.state.floatbank5_b_air    5290 non-null   float64\n",
      " 49  secondary_cleaner.state.floatbank5_b_level  5290 non-null   float64\n",
      " 50  secondary_cleaner.state.floatbank6_a_air    5290 non-null   float64\n",
      " 51  secondary_cleaner.state.floatbank6_a_level  5290 non-null   float64\n",
      "dtypes: float64(52)\n",
      "memory usage: 2.1 MB\n"
     ]
    },
    {
     "data": {
      "text/html": [
       "<div>\n",
       "<style scoped>\n",
       "    .dataframe tbody tr th:only-of-type {\n",
       "        vertical-align: middle;\n",
       "    }\n",
       "\n",
       "    .dataframe tbody tr th {\n",
       "        vertical-align: top;\n",
       "    }\n",
       "\n",
       "    .dataframe thead th {\n",
       "        text-align: right;\n",
       "    }\n",
       "</style>\n",
       "<table border=\"1\" class=\"dataframe\">\n",
       "  <thead>\n",
       "    <tr style=\"text-align: right;\">\n",
       "      <th></th>\n",
       "      <th>primary_cleaner.input.sulfate</th>\n",
       "      <th>primary_cleaner.input.depressant</th>\n",
       "      <th>primary_cleaner.input.feed_size</th>\n",
       "      <th>primary_cleaner.input.xanthate</th>\n",
       "      <th>primary_cleaner.state.floatbank8_a_air</th>\n",
       "      <th>primary_cleaner.state.floatbank8_a_level</th>\n",
       "      <th>primary_cleaner.state.floatbank8_b_air</th>\n",
       "      <th>primary_cleaner.state.floatbank8_b_level</th>\n",
       "      <th>primary_cleaner.state.floatbank8_c_air</th>\n",
       "      <th>primary_cleaner.state.floatbank8_c_level</th>\n",
       "      <th>...</th>\n",
       "      <th>secondary_cleaner.state.floatbank4_a_air</th>\n",
       "      <th>secondary_cleaner.state.floatbank4_a_level</th>\n",
       "      <th>secondary_cleaner.state.floatbank4_b_air</th>\n",
       "      <th>secondary_cleaner.state.floatbank4_b_level</th>\n",
       "      <th>secondary_cleaner.state.floatbank5_a_air</th>\n",
       "      <th>secondary_cleaner.state.floatbank5_a_level</th>\n",
       "      <th>secondary_cleaner.state.floatbank5_b_air</th>\n",
       "      <th>secondary_cleaner.state.floatbank5_b_level</th>\n",
       "      <th>secondary_cleaner.state.floatbank6_a_air</th>\n",
       "      <th>secondary_cleaner.state.floatbank6_a_level</th>\n",
       "    </tr>\n",
       "  </thead>\n",
       "  <tbody>\n",
       "    <tr>\n",
       "      <th>count</th>\n",
       "      <td>5286.000000</td>\n",
       "      <td>5285.000000</td>\n",
       "      <td>5290.000000</td>\n",
       "      <td>5286.000000</td>\n",
       "      <td>5.290000e+03</td>\n",
       "      <td>5290.000000</td>\n",
       "      <td>5.290000e+03</td>\n",
       "      <td>5290.000000</td>\n",
       "      <td>5.290000e+03</td>\n",
       "      <td>5290.000000</td>\n",
       "      <td>...</td>\n",
       "      <td>5.290000e+03</td>\n",
       "      <td>5290.000000</td>\n",
       "      <td>5.290000e+03</td>\n",
       "      <td>5290.000000</td>\n",
       "      <td>5290.000000</td>\n",
       "      <td>5290.000000</td>\n",
       "      <td>5290.000000</td>\n",
       "      <td>5290.000000</td>\n",
       "      <td>5290.000000</td>\n",
       "      <td>5290.000000</td>\n",
       "    </tr>\n",
       "    <tr>\n",
       "      <th>mean</th>\n",
       "      <td>174.839652</td>\n",
       "      <td>8.683596</td>\n",
       "      <td>7.266339</td>\n",
       "      <td>1.383803</td>\n",
       "      <td>1.539494e+03</td>\n",
       "      <td>-497.665883</td>\n",
       "      <td>1.545174e+03</td>\n",
       "      <td>-500.273098</td>\n",
       "      <td>1.527272e+03</td>\n",
       "      <td>-498.330680</td>\n",
       "      <td>...</td>\n",
       "      <td>1.632007e+01</td>\n",
       "      <td>-505.144570</td>\n",
       "      <td>1.373544e+01</td>\n",
       "      <td>-463.349858</td>\n",
       "      <td>12.804186</td>\n",
       "      <td>-501.329122</td>\n",
       "      <td>9.881145</td>\n",
       "      <td>-495.663398</td>\n",
       "      <td>17.304935</td>\n",
       "      <td>-501.793193</td>\n",
       "    </tr>\n",
       "    <tr>\n",
       "      <th>std</th>\n",
       "      <td>43.027080</td>\n",
       "      <td>3.072050</td>\n",
       "      <td>0.610219</td>\n",
       "      <td>0.643474</td>\n",
       "      <td>1.167979e+02</td>\n",
       "      <td>19.952431</td>\n",
       "      <td>1.222246e+02</td>\n",
       "      <td>32.968307</td>\n",
       "      <td>1.225380e+02</td>\n",
       "      <td>21.964876</td>\n",
       "      <td>...</td>\n",
       "      <td>3.493583e+00</td>\n",
       "      <td>31.427337</td>\n",
       "      <td>3.430484e+00</td>\n",
       "      <td>86.189107</td>\n",
       "      <td>3.026591</td>\n",
       "      <td>17.951495</td>\n",
       "      <td>2.868205</td>\n",
       "      <td>34.535007</td>\n",
       "      <td>4.536544</td>\n",
       "      <td>39.044215</td>\n",
       "    </tr>\n",
       "    <tr>\n",
       "      <th>min</th>\n",
       "      <td>2.566156</td>\n",
       "      <td>0.003839</td>\n",
       "      <td>5.650000</td>\n",
       "      <td>0.004984</td>\n",
       "      <td>5.445860e-32</td>\n",
       "      <td>-795.316337</td>\n",
       "      <td>6.647490e-32</td>\n",
       "      <td>-799.997015</td>\n",
       "      <td>4.033736e-32</td>\n",
       "      <td>-799.960571</td>\n",
       "      <td>...</td>\n",
       "      <td>1.079872e-16</td>\n",
       "      <td>-799.798523</td>\n",
       "      <td>2.489718e-17</td>\n",
       "      <td>-800.836914</td>\n",
       "      <td>0.069227</td>\n",
       "      <td>-797.323986</td>\n",
       "      <td>0.528083</td>\n",
       "      <td>-800.220337</td>\n",
       "      <td>-0.079426</td>\n",
       "      <td>-809.741464</td>\n",
       "    </tr>\n",
       "    <tr>\n",
       "      <th>25%</th>\n",
       "      <td>147.121401</td>\n",
       "      <td>6.489555</td>\n",
       "      <td>6.890000</td>\n",
       "      <td>0.907623</td>\n",
       "      <td>1.498936e+03</td>\n",
       "      <td>-500.357298</td>\n",
       "      <td>1.498971e+03</td>\n",
       "      <td>-500.703002</td>\n",
       "      <td>1.473230e+03</td>\n",
       "      <td>-501.018117</td>\n",
       "      <td>...</td>\n",
       "      <td>1.403618e+01</td>\n",
       "      <td>-500.868258</td>\n",
       "      <td>1.202862e+01</td>\n",
       "      <td>-500.323028</td>\n",
       "      <td>10.914838</td>\n",
       "      <td>-500.726841</td>\n",
       "      <td>8.036719</td>\n",
       "      <td>-500.194668</td>\n",
       "      <td>13.997317</td>\n",
       "      <td>-500.690984</td>\n",
       "    </tr>\n",
       "    <tr>\n",
       "      <th>50%</th>\n",
       "      <td>177.828489</td>\n",
       "      <td>8.052207</td>\n",
       "      <td>7.250000</td>\n",
       "      <td>1.197610</td>\n",
       "      <td>1.585129e+03</td>\n",
       "      <td>-499.969164</td>\n",
       "      <td>1.595622e+03</td>\n",
       "      <td>-500.028514</td>\n",
       "      <td>1.549595e+03</td>\n",
       "      <td>-500.017711</td>\n",
       "      <td>...</td>\n",
       "      <td>1.700847e+01</td>\n",
       "      <td>-500.115727</td>\n",
       "      <td>1.496486e+01</td>\n",
       "      <td>-499.576513</td>\n",
       "      <td>12.954182</td>\n",
       "      <td>-499.990332</td>\n",
       "      <td>10.004301</td>\n",
       "      <td>-499.990535</td>\n",
       "      <td>16.014935</td>\n",
       "      <td>-500.007126</td>\n",
       "    </tr>\n",
       "    <tr>\n",
       "      <th>75%</th>\n",
       "      <td>208.125438</td>\n",
       "      <td>10.027764</td>\n",
       "      <td>7.600000</td>\n",
       "      <td>1.797819</td>\n",
       "      <td>1.602077e+03</td>\n",
       "      <td>-499.568951</td>\n",
       "      <td>1.602324e+03</td>\n",
       "      <td>-499.293257</td>\n",
       "      <td>1.601144e+03</td>\n",
       "      <td>-498.994130</td>\n",
       "      <td>...</td>\n",
       "      <td>1.803862e+01</td>\n",
       "      <td>-499.404224</td>\n",
       "      <td>1.596213e+01</td>\n",
       "      <td>-400.933805</td>\n",
       "      <td>15.097528</td>\n",
       "      <td>-499.283191</td>\n",
       "      <td>11.997467</td>\n",
       "      <td>-499.719913</td>\n",
       "      <td>21.020013</td>\n",
       "      <td>-499.373018</td>\n",
       "    </tr>\n",
       "    <tr>\n",
       "      <th>max</th>\n",
       "      <td>265.983123</td>\n",
       "      <td>40.000000</td>\n",
       "      <td>15.500000</td>\n",
       "      <td>4.102454</td>\n",
       "      <td>2.103104e+03</td>\n",
       "      <td>-57.195404</td>\n",
       "      <td>1.813084e+03</td>\n",
       "      <td>-142.527229</td>\n",
       "      <td>1.715054e+03</td>\n",
       "      <td>-150.937035</td>\n",
       "      <td>...</td>\n",
       "      <td>3.005180e+01</td>\n",
       "      <td>-401.565212</td>\n",
       "      <td>3.126971e+01</td>\n",
       "      <td>-6.506986</td>\n",
       "      <td>25.258848</td>\n",
       "      <td>-244.483566</td>\n",
       "      <td>14.086866</td>\n",
       "      <td>-137.740004</td>\n",
       "      <td>26.705889</td>\n",
       "      <td>-123.307487</td>\n",
       "    </tr>\n",
       "  </tbody>\n",
       "</table>\n",
       "<p>8 rows × 52 columns</p>\n",
       "</div>"
      ],
      "text/plain": [
       "       primary_cleaner.input.sulfate  primary_cleaner.input.depressant  \\\n",
       "count                    5286.000000                       5285.000000   \n",
       "mean                      174.839652                          8.683596   \n",
       "std                        43.027080                          3.072050   \n",
       "min                         2.566156                          0.003839   \n",
       "25%                       147.121401                          6.489555   \n",
       "50%                       177.828489                          8.052207   \n",
       "75%                       208.125438                         10.027764   \n",
       "max                       265.983123                         40.000000   \n",
       "\n",
       "       primary_cleaner.input.feed_size  primary_cleaner.input.xanthate  \\\n",
       "count                      5290.000000                     5286.000000   \n",
       "mean                          7.266339                        1.383803   \n",
       "std                           0.610219                        0.643474   \n",
       "min                           5.650000                        0.004984   \n",
       "25%                           6.890000                        0.907623   \n",
       "50%                           7.250000                        1.197610   \n",
       "75%                           7.600000                        1.797819   \n",
       "max                          15.500000                        4.102454   \n",
       "\n",
       "       primary_cleaner.state.floatbank8_a_air  \\\n",
       "count                            5.290000e+03   \n",
       "mean                             1.539494e+03   \n",
       "std                              1.167979e+02   \n",
       "min                              5.445860e-32   \n",
       "25%                              1.498936e+03   \n",
       "50%                              1.585129e+03   \n",
       "75%                              1.602077e+03   \n",
       "max                              2.103104e+03   \n",
       "\n",
       "       primary_cleaner.state.floatbank8_a_level  \\\n",
       "count                               5290.000000   \n",
       "mean                                -497.665883   \n",
       "std                                   19.952431   \n",
       "min                                 -795.316337   \n",
       "25%                                 -500.357298   \n",
       "50%                                 -499.969164   \n",
       "75%                                 -499.568951   \n",
       "max                                  -57.195404   \n",
       "\n",
       "       primary_cleaner.state.floatbank8_b_air  \\\n",
       "count                            5.290000e+03   \n",
       "mean                             1.545174e+03   \n",
       "std                              1.222246e+02   \n",
       "min                              6.647490e-32   \n",
       "25%                              1.498971e+03   \n",
       "50%                              1.595622e+03   \n",
       "75%                              1.602324e+03   \n",
       "max                              1.813084e+03   \n",
       "\n",
       "       primary_cleaner.state.floatbank8_b_level  \\\n",
       "count                               5290.000000   \n",
       "mean                                -500.273098   \n",
       "std                                   32.968307   \n",
       "min                                 -799.997015   \n",
       "25%                                 -500.703002   \n",
       "50%                                 -500.028514   \n",
       "75%                                 -499.293257   \n",
       "max                                 -142.527229   \n",
       "\n",
       "       primary_cleaner.state.floatbank8_c_air  \\\n",
       "count                            5.290000e+03   \n",
       "mean                             1.527272e+03   \n",
       "std                              1.225380e+02   \n",
       "min                              4.033736e-32   \n",
       "25%                              1.473230e+03   \n",
       "50%                              1.549595e+03   \n",
       "75%                              1.601144e+03   \n",
       "max                              1.715054e+03   \n",
       "\n",
       "       primary_cleaner.state.floatbank8_c_level  ...  \\\n",
       "count                               5290.000000  ...   \n",
       "mean                                -498.330680  ...   \n",
       "std                                   21.964876  ...   \n",
       "min                                 -799.960571  ...   \n",
       "25%                                 -501.018117  ...   \n",
       "50%                                 -500.017711  ...   \n",
       "75%                                 -498.994130  ...   \n",
       "max                                 -150.937035  ...   \n",
       "\n",
       "       secondary_cleaner.state.floatbank4_a_air  \\\n",
       "count                              5.290000e+03   \n",
       "mean                               1.632007e+01   \n",
       "std                                3.493583e+00   \n",
       "min                                1.079872e-16   \n",
       "25%                                1.403618e+01   \n",
       "50%                                1.700847e+01   \n",
       "75%                                1.803862e+01   \n",
       "max                                3.005180e+01   \n",
       "\n",
       "       secondary_cleaner.state.floatbank4_a_level  \\\n",
       "count                                 5290.000000   \n",
       "mean                                  -505.144570   \n",
       "std                                     31.427337   \n",
       "min                                   -799.798523   \n",
       "25%                                   -500.868258   \n",
       "50%                                   -500.115727   \n",
       "75%                                   -499.404224   \n",
       "max                                   -401.565212   \n",
       "\n",
       "       secondary_cleaner.state.floatbank4_b_air  \\\n",
       "count                              5.290000e+03   \n",
       "mean                               1.373544e+01   \n",
       "std                                3.430484e+00   \n",
       "min                                2.489718e-17   \n",
       "25%                                1.202862e+01   \n",
       "50%                                1.496486e+01   \n",
       "75%                                1.596213e+01   \n",
       "max                                3.126971e+01   \n",
       "\n",
       "       secondary_cleaner.state.floatbank4_b_level  \\\n",
       "count                                 5290.000000   \n",
       "mean                                  -463.349858   \n",
       "std                                     86.189107   \n",
       "min                                   -800.836914   \n",
       "25%                                   -500.323028   \n",
       "50%                                   -499.576513   \n",
       "75%                                   -400.933805   \n",
       "max                                     -6.506986   \n",
       "\n",
       "       secondary_cleaner.state.floatbank5_a_air  \\\n",
       "count                               5290.000000   \n",
       "mean                                  12.804186   \n",
       "std                                    3.026591   \n",
       "min                                    0.069227   \n",
       "25%                                   10.914838   \n",
       "50%                                   12.954182   \n",
       "75%                                   15.097528   \n",
       "max                                   25.258848   \n",
       "\n",
       "       secondary_cleaner.state.floatbank5_a_level  \\\n",
       "count                                 5290.000000   \n",
       "mean                                  -501.329122   \n",
       "std                                     17.951495   \n",
       "min                                   -797.323986   \n",
       "25%                                   -500.726841   \n",
       "50%                                   -499.990332   \n",
       "75%                                   -499.283191   \n",
       "max                                   -244.483566   \n",
       "\n",
       "       secondary_cleaner.state.floatbank5_b_air  \\\n",
       "count                               5290.000000   \n",
       "mean                                   9.881145   \n",
       "std                                    2.868205   \n",
       "min                                    0.528083   \n",
       "25%                                    8.036719   \n",
       "50%                                   10.004301   \n",
       "75%                                   11.997467   \n",
       "max                                   14.086866   \n",
       "\n",
       "       secondary_cleaner.state.floatbank5_b_level  \\\n",
       "count                                 5290.000000   \n",
       "mean                                  -495.663398   \n",
       "std                                     34.535007   \n",
       "min                                   -800.220337   \n",
       "25%                                   -500.194668   \n",
       "50%                                   -499.990535   \n",
       "75%                                   -499.719913   \n",
       "max                                   -137.740004   \n",
       "\n",
       "       secondary_cleaner.state.floatbank6_a_air  \\\n",
       "count                               5290.000000   \n",
       "mean                                  17.304935   \n",
       "std                                    4.536544   \n",
       "min                                   -0.079426   \n",
       "25%                                   13.997317   \n",
       "50%                                   16.014935   \n",
       "75%                                   21.020013   \n",
       "max                                   26.705889   \n",
       "\n",
       "       secondary_cleaner.state.floatbank6_a_level  \n",
       "count                                 5290.000000  \n",
       "mean                                  -501.793193  \n",
       "std                                     39.044215  \n",
       "min                                   -809.741464  \n",
       "25%                                   -500.690984  \n",
       "50%                                   -500.007126  \n",
       "75%                                   -499.373018  \n",
       "max                                   -123.307487  \n",
       "\n",
       "[8 rows x 52 columns]"
      ]
     },
     "metadata": {},
     "output_type": "display_data"
    },
    {
     "data": {
      "text/plain": [
       "'Доля пропущенных значений:'"
      ]
     },
     "metadata": {},
     "output_type": "display_data"
    },
    {
     "data": {
      "text/plain": [
       "primary_cleaner.input.sulfate                 0.000756\n",
       "primary_cleaner.input.depressant              0.000945\n",
       "primary_cleaner.input.feed_size               0.000000\n",
       "primary_cleaner.input.xanthate                0.000756\n",
       "primary_cleaner.state.floatbank8_a_air        0.000000\n",
       "primary_cleaner.state.floatbank8_a_level      0.000000\n",
       "primary_cleaner.state.floatbank8_b_air        0.000000\n",
       "primary_cleaner.state.floatbank8_b_level      0.000000\n",
       "primary_cleaner.state.floatbank8_c_air        0.000000\n",
       "primary_cleaner.state.floatbank8_c_level      0.000000\n",
       "primary_cleaner.state.floatbank8_d_air        0.000000\n",
       "primary_cleaner.state.floatbank8_d_level      0.000000\n",
       "rougher.input.feed_ag                         0.000000\n",
       "rougher.input.feed_pb                         0.000000\n",
       "rougher.input.feed_rate                       0.000567\n",
       "rougher.input.feed_size                       0.000189\n",
       "rougher.input.feed_sol                        0.003970\n",
       "rougher.input.feed_au                         0.000000\n",
       "rougher.input.floatbank10_sulfate             0.000945\n",
       "rougher.input.floatbank10_xanthate            0.000000\n",
       "rougher.input.floatbank11_sulfate             0.001512\n",
       "rougher.input.floatbank11_xanthate            0.004726\n",
       "rougher.state.floatbank10_a_air               0.000000\n",
       "rougher.state.floatbank10_a_level             0.000000\n",
       "rougher.state.floatbank10_b_air               0.000000\n",
       "rougher.state.floatbank10_b_level             0.000000\n",
       "rougher.state.floatbank10_c_air               0.000000\n",
       "rougher.state.floatbank10_c_level             0.000000\n",
       "rougher.state.floatbank10_d_air               0.000000\n",
       "rougher.state.floatbank10_d_level             0.000000\n",
       "rougher.state.floatbank10_e_air               0.000000\n",
       "rougher.state.floatbank10_e_level             0.000000\n",
       "rougher.state.floatbank10_f_air               0.000000\n",
       "rougher.state.floatbank10_f_level             0.000000\n",
       "secondary_cleaner.state.floatbank2_a_air      0.000567\n",
       "secondary_cleaner.state.floatbank2_a_level    0.000000\n",
       "secondary_cleaner.state.floatbank2_b_air      0.000378\n",
       "secondary_cleaner.state.floatbank2_b_level    0.000000\n",
       "secondary_cleaner.state.floatbank3_a_air      0.001701\n",
       "secondary_cleaner.state.floatbank3_a_level    0.000000\n",
       "secondary_cleaner.state.floatbank3_b_air      0.000000\n",
       "secondary_cleaner.state.floatbank3_b_level    0.000000\n",
       "secondary_cleaner.state.floatbank4_a_air      0.000000\n",
       "secondary_cleaner.state.floatbank4_a_level    0.000000\n",
       "secondary_cleaner.state.floatbank4_b_air      0.000000\n",
       "secondary_cleaner.state.floatbank4_b_level    0.000000\n",
       "secondary_cleaner.state.floatbank5_a_air      0.000000\n",
       "secondary_cleaner.state.floatbank5_a_level    0.000000\n",
       "secondary_cleaner.state.floatbank5_b_air      0.000000\n",
       "secondary_cleaner.state.floatbank5_b_level    0.000000\n",
       "secondary_cleaner.state.floatbank6_a_air      0.000000\n",
       "secondary_cleaner.state.floatbank6_a_level    0.000000\n",
       "dtype: float64"
      ]
     },
     "metadata": {},
     "output_type": "display_data"
    },
    {
     "name": "stdout",
     "output_type": "stream",
     "text": [
      "Количество дубликатов: 0\n"
     ]
    }
   ],
   "source": [
    "get_info(data_test) #применим функцию для data_test"
   ]
  },
  {
   "cell_type": "code",
   "execution_count": 6,
   "metadata": {},
   "outputs": [
    {
     "data": {
      "text/html": [
       "<div>\n",
       "<style scoped>\n",
       "    .dataframe tbody tr th:only-of-type {\n",
       "        vertical-align: middle;\n",
       "    }\n",
       "\n",
       "    .dataframe tbody tr th {\n",
       "        vertical-align: top;\n",
       "    }\n",
       "\n",
       "    .dataframe thead th {\n",
       "        text-align: right;\n",
       "    }\n",
       "</style>\n",
       "<table border=\"1\" class=\"dataframe\">\n",
       "  <thead>\n",
       "    <tr style=\"text-align: right;\">\n",
       "      <th></th>\n",
       "      <th>final.output.concentrate_ag</th>\n",
       "      <th>final.output.concentrate_pb</th>\n",
       "      <th>final.output.concentrate_sol</th>\n",
       "      <th>final.output.concentrate_au</th>\n",
       "      <th>final.output.recovery</th>\n",
       "      <th>final.output.tail_ag</th>\n",
       "      <th>final.output.tail_pb</th>\n",
       "      <th>final.output.tail_sol</th>\n",
       "      <th>final.output.tail_au</th>\n",
       "      <th>primary_cleaner.input.sulfate</th>\n",
       "      <th>...</th>\n",
       "      <th>secondary_cleaner.state.floatbank4_a_air</th>\n",
       "      <th>secondary_cleaner.state.floatbank4_a_level</th>\n",
       "      <th>secondary_cleaner.state.floatbank4_b_air</th>\n",
       "      <th>secondary_cleaner.state.floatbank4_b_level</th>\n",
       "      <th>secondary_cleaner.state.floatbank5_a_air</th>\n",
       "      <th>secondary_cleaner.state.floatbank5_a_level</th>\n",
       "      <th>secondary_cleaner.state.floatbank5_b_air</th>\n",
       "      <th>secondary_cleaner.state.floatbank5_b_level</th>\n",
       "      <th>secondary_cleaner.state.floatbank6_a_air</th>\n",
       "      <th>secondary_cleaner.state.floatbank6_a_level</th>\n",
       "    </tr>\n",
       "    <tr>\n",
       "      <th>date</th>\n",
       "      <th></th>\n",
       "      <th></th>\n",
       "      <th></th>\n",
       "      <th></th>\n",
       "      <th></th>\n",
       "      <th></th>\n",
       "      <th></th>\n",
       "      <th></th>\n",
       "      <th></th>\n",
       "      <th></th>\n",
       "      <th></th>\n",
       "      <th></th>\n",
       "      <th></th>\n",
       "      <th></th>\n",
       "      <th></th>\n",
       "      <th></th>\n",
       "      <th></th>\n",
       "      <th></th>\n",
       "      <th></th>\n",
       "      <th></th>\n",
       "      <th></th>\n",
       "    </tr>\n",
       "  </thead>\n",
       "  <tbody>\n",
       "    <tr>\n",
       "      <th>2016-01-15 00:00:00</th>\n",
       "      <td>6.055403</td>\n",
       "      <td>9.889648</td>\n",
       "      <td>5.507324</td>\n",
       "      <td>42.192020</td>\n",
       "      <td>70.541216</td>\n",
       "      <td>10.411962</td>\n",
       "      <td>0.895447</td>\n",
       "      <td>16.904297</td>\n",
       "      <td>2.143149</td>\n",
       "      <td>127.092003</td>\n",
       "      <td>...</td>\n",
       "      <td>14.016835</td>\n",
       "      <td>-502.488007</td>\n",
       "      <td>12.099931</td>\n",
       "      <td>-504.715942</td>\n",
       "      <td>9.925633</td>\n",
       "      <td>-498.310211</td>\n",
       "      <td>8.079666</td>\n",
       "      <td>-500.470978</td>\n",
       "      <td>14.151341</td>\n",
       "      <td>-605.841980</td>\n",
       "    </tr>\n",
       "    <tr>\n",
       "      <th>2016-01-15 01:00:00</th>\n",
       "      <td>6.029369</td>\n",
       "      <td>9.968944</td>\n",
       "      <td>5.257781</td>\n",
       "      <td>42.701629</td>\n",
       "      <td>69.266198</td>\n",
       "      <td>10.462676</td>\n",
       "      <td>0.927452</td>\n",
       "      <td>16.634514</td>\n",
       "      <td>2.224930</td>\n",
       "      <td>125.629232</td>\n",
       "      <td>...</td>\n",
       "      <td>13.992281</td>\n",
       "      <td>-505.503262</td>\n",
       "      <td>11.950531</td>\n",
       "      <td>-501.331529</td>\n",
       "      <td>10.039245</td>\n",
       "      <td>-500.169983</td>\n",
       "      <td>7.984757</td>\n",
       "      <td>-500.582168</td>\n",
       "      <td>13.998353</td>\n",
       "      <td>-599.787184</td>\n",
       "    </tr>\n",
       "    <tr>\n",
       "      <th>2016-01-15 02:00:00</th>\n",
       "      <td>6.055926</td>\n",
       "      <td>10.213995</td>\n",
       "      <td>5.383759</td>\n",
       "      <td>42.657501</td>\n",
       "      <td>68.116445</td>\n",
       "      <td>10.507046</td>\n",
       "      <td>0.953716</td>\n",
       "      <td>16.208849</td>\n",
       "      <td>2.257889</td>\n",
       "      <td>123.819808</td>\n",
       "      <td>...</td>\n",
       "      <td>14.015015</td>\n",
       "      <td>-502.520901</td>\n",
       "      <td>11.912783</td>\n",
       "      <td>-501.133383</td>\n",
       "      <td>10.070913</td>\n",
       "      <td>-500.129135</td>\n",
       "      <td>8.013877</td>\n",
       "      <td>-500.517572</td>\n",
       "      <td>14.028663</td>\n",
       "      <td>-601.427363</td>\n",
       "    </tr>\n",
       "    <tr>\n",
       "      <th>2016-01-15 03:00:00</th>\n",
       "      <td>6.047977</td>\n",
       "      <td>9.977019</td>\n",
       "      <td>4.858634</td>\n",
       "      <td>42.689819</td>\n",
       "      <td>68.347543</td>\n",
       "      <td>10.422762</td>\n",
       "      <td>0.883763</td>\n",
       "      <td>16.532835</td>\n",
       "      <td>2.146849</td>\n",
       "      <td>122.270188</td>\n",
       "      <td>...</td>\n",
       "      <td>14.036510</td>\n",
       "      <td>-500.857308</td>\n",
       "      <td>11.999550</td>\n",
       "      <td>-501.193686</td>\n",
       "      <td>9.970366</td>\n",
       "      <td>-499.201640</td>\n",
       "      <td>7.977324</td>\n",
       "      <td>-500.255908</td>\n",
       "      <td>14.005551</td>\n",
       "      <td>-599.996129</td>\n",
       "    </tr>\n",
       "    <tr>\n",
       "      <th>2016-01-15 04:00:00</th>\n",
       "      <td>6.148599</td>\n",
       "      <td>10.142511</td>\n",
       "      <td>4.939416</td>\n",
       "      <td>42.774141</td>\n",
       "      <td>66.927016</td>\n",
       "      <td>10.360302</td>\n",
       "      <td>0.792826</td>\n",
       "      <td>16.525686</td>\n",
       "      <td>2.055292</td>\n",
       "      <td>117.988169</td>\n",
       "      <td>...</td>\n",
       "      <td>14.027298</td>\n",
       "      <td>-499.838632</td>\n",
       "      <td>11.953070</td>\n",
       "      <td>-501.053894</td>\n",
       "      <td>9.925709</td>\n",
       "      <td>-501.686727</td>\n",
       "      <td>7.894242</td>\n",
       "      <td>-500.356035</td>\n",
       "      <td>13.996647</td>\n",
       "      <td>-601.496691</td>\n",
       "    </tr>\n",
       "    <tr>\n",
       "      <th>2016-01-15 05:00:00</th>\n",
       "      <td>6.482968</td>\n",
       "      <td>10.049416</td>\n",
       "      <td>5.480257</td>\n",
       "      <td>41.633678</td>\n",
       "      <td>69.465816</td>\n",
       "      <td>10.182708</td>\n",
       "      <td>0.664118</td>\n",
       "      <td>16.999638</td>\n",
       "      <td>1.918586</td>\n",
       "      <td>115.581252</td>\n",
       "      <td>...</td>\n",
       "      <td>13.938497</td>\n",
       "      <td>-500.970168</td>\n",
       "      <td>11.883350</td>\n",
       "      <td>-500.395298</td>\n",
       "      <td>10.054147</td>\n",
       "      <td>-496.374715</td>\n",
       "      <td>7.965083</td>\n",
       "      <td>-499.364752</td>\n",
       "      <td>14.017067</td>\n",
       "      <td>-599.707915</td>\n",
       "    </tr>\n",
       "    <tr>\n",
       "      <th>2016-01-15 06:00:00</th>\n",
       "      <td>6.533849</td>\n",
       "      <td>10.058141</td>\n",
       "      <td>4.569100</td>\n",
       "      <td>41.995316</td>\n",
       "      <td>69.300835</td>\n",
       "      <td>10.304598</td>\n",
       "      <td>0.807342</td>\n",
       "      <td>16.723575</td>\n",
       "      <td>2.058913</td>\n",
       "      <td>117.322323</td>\n",
       "      <td>...</td>\n",
       "      <td>14.046819</td>\n",
       "      <td>-500.971133</td>\n",
       "      <td>12.091543</td>\n",
       "      <td>-500.501426</td>\n",
       "      <td>10.003247</td>\n",
       "      <td>-497.083180</td>\n",
       "      <td>8.010890</td>\n",
       "      <td>-500.002423</td>\n",
       "      <td>14.029649</td>\n",
       "      <td>-600.905470</td>\n",
       "    </tr>\n",
       "    <tr>\n",
       "      <th>2016-01-15 07:00:00</th>\n",
       "      <td>6.130823</td>\n",
       "      <td>9.935481</td>\n",
       "      <td>4.389813</td>\n",
       "      <td>42.452727</td>\n",
       "      <td>70.230976</td>\n",
       "      <td>10.443288</td>\n",
       "      <td>0.949346</td>\n",
       "      <td>16.689959</td>\n",
       "      <td>2.143437</td>\n",
       "      <td>124.592960</td>\n",
       "      <td>...</td>\n",
       "      <td>13.974691</td>\n",
       "      <td>-501.819696</td>\n",
       "      <td>12.101324</td>\n",
       "      <td>-500.583446</td>\n",
       "      <td>9.873169</td>\n",
       "      <td>-499.171928</td>\n",
       "      <td>7.993381</td>\n",
       "      <td>-499.794518</td>\n",
       "      <td>13.984498</td>\n",
       "      <td>-600.411070</td>\n",
       "    </tr>\n",
       "    <tr>\n",
       "      <th>2016-01-15 08:00:00</th>\n",
       "      <td>5.834140</td>\n",
       "      <td>10.071156</td>\n",
       "      <td>4.876389</td>\n",
       "      <td>43.404078</td>\n",
       "      <td>69.688595</td>\n",
       "      <td>10.420140</td>\n",
       "      <td>1.065453</td>\n",
       "      <td>17.201948</td>\n",
       "      <td>2.209881</td>\n",
       "      <td>131.781026</td>\n",
       "      <td>...</td>\n",
       "      <td>13.964030</td>\n",
       "      <td>-504.252450</td>\n",
       "      <td>12.060738</td>\n",
       "      <td>-501.174549</td>\n",
       "      <td>10.033838</td>\n",
       "      <td>-501.178133</td>\n",
       "      <td>7.881604</td>\n",
       "      <td>-499.729434</td>\n",
       "      <td>13.967135</td>\n",
       "      <td>-599.061188</td>\n",
       "    </tr>\n",
       "    <tr>\n",
       "      <th>2016-01-15 09:00:00</th>\n",
       "      <td>5.687063</td>\n",
       "      <td>9.980404</td>\n",
       "      <td>5.282514</td>\n",
       "      <td>43.235220</td>\n",
       "      <td>70.279619</td>\n",
       "      <td>10.487013</td>\n",
       "      <td>1.159805</td>\n",
       "      <td>17.483979</td>\n",
       "      <td>2.209593</td>\n",
       "      <td>138.120409</td>\n",
       "      <td>...</td>\n",
       "      <td>13.989632</td>\n",
       "      <td>-503.195299</td>\n",
       "      <td>12.052233</td>\n",
       "      <td>-500.928547</td>\n",
       "      <td>9.962574</td>\n",
       "      <td>-502.986357</td>\n",
       "      <td>7.979219</td>\n",
       "      <td>-500.146835</td>\n",
       "      <td>13.981614</td>\n",
       "      <td>-598.070855</td>\n",
       "    </tr>\n",
       "  </tbody>\n",
       "</table>\n",
       "<p>10 rows × 86 columns</p>\n",
       "</div>"
      ],
      "text/plain": [
       "                     final.output.concentrate_ag  final.output.concentrate_pb  \\\n",
       "date                                                                            \n",
       "2016-01-15 00:00:00                     6.055403                     9.889648   \n",
       "2016-01-15 01:00:00                     6.029369                     9.968944   \n",
       "2016-01-15 02:00:00                     6.055926                    10.213995   \n",
       "2016-01-15 03:00:00                     6.047977                     9.977019   \n",
       "2016-01-15 04:00:00                     6.148599                    10.142511   \n",
       "2016-01-15 05:00:00                     6.482968                    10.049416   \n",
       "2016-01-15 06:00:00                     6.533849                    10.058141   \n",
       "2016-01-15 07:00:00                     6.130823                     9.935481   \n",
       "2016-01-15 08:00:00                     5.834140                    10.071156   \n",
       "2016-01-15 09:00:00                     5.687063                     9.980404   \n",
       "\n",
       "                     final.output.concentrate_sol  \\\n",
       "date                                                \n",
       "2016-01-15 00:00:00                      5.507324   \n",
       "2016-01-15 01:00:00                      5.257781   \n",
       "2016-01-15 02:00:00                      5.383759   \n",
       "2016-01-15 03:00:00                      4.858634   \n",
       "2016-01-15 04:00:00                      4.939416   \n",
       "2016-01-15 05:00:00                      5.480257   \n",
       "2016-01-15 06:00:00                      4.569100   \n",
       "2016-01-15 07:00:00                      4.389813   \n",
       "2016-01-15 08:00:00                      4.876389   \n",
       "2016-01-15 09:00:00                      5.282514   \n",
       "\n",
       "                     final.output.concentrate_au  final.output.recovery  \\\n",
       "date                                                                      \n",
       "2016-01-15 00:00:00                    42.192020              70.541216   \n",
       "2016-01-15 01:00:00                    42.701629              69.266198   \n",
       "2016-01-15 02:00:00                    42.657501              68.116445   \n",
       "2016-01-15 03:00:00                    42.689819              68.347543   \n",
       "2016-01-15 04:00:00                    42.774141              66.927016   \n",
       "2016-01-15 05:00:00                    41.633678              69.465816   \n",
       "2016-01-15 06:00:00                    41.995316              69.300835   \n",
       "2016-01-15 07:00:00                    42.452727              70.230976   \n",
       "2016-01-15 08:00:00                    43.404078              69.688595   \n",
       "2016-01-15 09:00:00                    43.235220              70.279619   \n",
       "\n",
       "                     final.output.tail_ag  final.output.tail_pb  \\\n",
       "date                                                              \n",
       "2016-01-15 00:00:00             10.411962              0.895447   \n",
       "2016-01-15 01:00:00             10.462676              0.927452   \n",
       "2016-01-15 02:00:00             10.507046              0.953716   \n",
       "2016-01-15 03:00:00             10.422762              0.883763   \n",
       "2016-01-15 04:00:00             10.360302              0.792826   \n",
       "2016-01-15 05:00:00             10.182708              0.664118   \n",
       "2016-01-15 06:00:00             10.304598              0.807342   \n",
       "2016-01-15 07:00:00             10.443288              0.949346   \n",
       "2016-01-15 08:00:00             10.420140              1.065453   \n",
       "2016-01-15 09:00:00             10.487013              1.159805   \n",
       "\n",
       "                     final.output.tail_sol  final.output.tail_au  \\\n",
       "date                                                               \n",
       "2016-01-15 00:00:00              16.904297              2.143149   \n",
       "2016-01-15 01:00:00              16.634514              2.224930   \n",
       "2016-01-15 02:00:00              16.208849              2.257889   \n",
       "2016-01-15 03:00:00              16.532835              2.146849   \n",
       "2016-01-15 04:00:00              16.525686              2.055292   \n",
       "2016-01-15 05:00:00              16.999638              1.918586   \n",
       "2016-01-15 06:00:00              16.723575              2.058913   \n",
       "2016-01-15 07:00:00              16.689959              2.143437   \n",
       "2016-01-15 08:00:00              17.201948              2.209881   \n",
       "2016-01-15 09:00:00              17.483979              2.209593   \n",
       "\n",
       "                     primary_cleaner.input.sulfate  ...  \\\n",
       "date                                                ...   \n",
       "2016-01-15 00:00:00                     127.092003  ...   \n",
       "2016-01-15 01:00:00                     125.629232  ...   \n",
       "2016-01-15 02:00:00                     123.819808  ...   \n",
       "2016-01-15 03:00:00                     122.270188  ...   \n",
       "2016-01-15 04:00:00                     117.988169  ...   \n",
       "2016-01-15 05:00:00                     115.581252  ...   \n",
       "2016-01-15 06:00:00                     117.322323  ...   \n",
       "2016-01-15 07:00:00                     124.592960  ...   \n",
       "2016-01-15 08:00:00                     131.781026  ...   \n",
       "2016-01-15 09:00:00                     138.120409  ...   \n",
       "\n",
       "                     secondary_cleaner.state.floatbank4_a_air  \\\n",
       "date                                                            \n",
       "2016-01-15 00:00:00                                 14.016835   \n",
       "2016-01-15 01:00:00                                 13.992281   \n",
       "2016-01-15 02:00:00                                 14.015015   \n",
       "2016-01-15 03:00:00                                 14.036510   \n",
       "2016-01-15 04:00:00                                 14.027298   \n",
       "2016-01-15 05:00:00                                 13.938497   \n",
       "2016-01-15 06:00:00                                 14.046819   \n",
       "2016-01-15 07:00:00                                 13.974691   \n",
       "2016-01-15 08:00:00                                 13.964030   \n",
       "2016-01-15 09:00:00                                 13.989632   \n",
       "\n",
       "                     secondary_cleaner.state.floatbank4_a_level  \\\n",
       "date                                                              \n",
       "2016-01-15 00:00:00                                 -502.488007   \n",
       "2016-01-15 01:00:00                                 -505.503262   \n",
       "2016-01-15 02:00:00                                 -502.520901   \n",
       "2016-01-15 03:00:00                                 -500.857308   \n",
       "2016-01-15 04:00:00                                 -499.838632   \n",
       "2016-01-15 05:00:00                                 -500.970168   \n",
       "2016-01-15 06:00:00                                 -500.971133   \n",
       "2016-01-15 07:00:00                                 -501.819696   \n",
       "2016-01-15 08:00:00                                 -504.252450   \n",
       "2016-01-15 09:00:00                                 -503.195299   \n",
       "\n",
       "                     secondary_cleaner.state.floatbank4_b_air  \\\n",
       "date                                                            \n",
       "2016-01-15 00:00:00                                 12.099931   \n",
       "2016-01-15 01:00:00                                 11.950531   \n",
       "2016-01-15 02:00:00                                 11.912783   \n",
       "2016-01-15 03:00:00                                 11.999550   \n",
       "2016-01-15 04:00:00                                 11.953070   \n",
       "2016-01-15 05:00:00                                 11.883350   \n",
       "2016-01-15 06:00:00                                 12.091543   \n",
       "2016-01-15 07:00:00                                 12.101324   \n",
       "2016-01-15 08:00:00                                 12.060738   \n",
       "2016-01-15 09:00:00                                 12.052233   \n",
       "\n",
       "                     secondary_cleaner.state.floatbank4_b_level  \\\n",
       "date                                                              \n",
       "2016-01-15 00:00:00                                 -504.715942   \n",
       "2016-01-15 01:00:00                                 -501.331529   \n",
       "2016-01-15 02:00:00                                 -501.133383   \n",
       "2016-01-15 03:00:00                                 -501.193686   \n",
       "2016-01-15 04:00:00                                 -501.053894   \n",
       "2016-01-15 05:00:00                                 -500.395298   \n",
       "2016-01-15 06:00:00                                 -500.501426   \n",
       "2016-01-15 07:00:00                                 -500.583446   \n",
       "2016-01-15 08:00:00                                 -501.174549   \n",
       "2016-01-15 09:00:00                                 -500.928547   \n",
       "\n",
       "                     secondary_cleaner.state.floatbank5_a_air  \\\n",
       "date                                                            \n",
       "2016-01-15 00:00:00                                  9.925633   \n",
       "2016-01-15 01:00:00                                 10.039245   \n",
       "2016-01-15 02:00:00                                 10.070913   \n",
       "2016-01-15 03:00:00                                  9.970366   \n",
       "2016-01-15 04:00:00                                  9.925709   \n",
       "2016-01-15 05:00:00                                 10.054147   \n",
       "2016-01-15 06:00:00                                 10.003247   \n",
       "2016-01-15 07:00:00                                  9.873169   \n",
       "2016-01-15 08:00:00                                 10.033838   \n",
       "2016-01-15 09:00:00                                  9.962574   \n",
       "\n",
       "                     secondary_cleaner.state.floatbank5_a_level  \\\n",
       "date                                                              \n",
       "2016-01-15 00:00:00                                 -498.310211   \n",
       "2016-01-15 01:00:00                                 -500.169983   \n",
       "2016-01-15 02:00:00                                 -500.129135   \n",
       "2016-01-15 03:00:00                                 -499.201640   \n",
       "2016-01-15 04:00:00                                 -501.686727   \n",
       "2016-01-15 05:00:00                                 -496.374715   \n",
       "2016-01-15 06:00:00                                 -497.083180   \n",
       "2016-01-15 07:00:00                                 -499.171928   \n",
       "2016-01-15 08:00:00                                 -501.178133   \n",
       "2016-01-15 09:00:00                                 -502.986357   \n",
       "\n",
       "                     secondary_cleaner.state.floatbank5_b_air  \\\n",
       "date                                                            \n",
       "2016-01-15 00:00:00                                  8.079666   \n",
       "2016-01-15 01:00:00                                  7.984757   \n",
       "2016-01-15 02:00:00                                  8.013877   \n",
       "2016-01-15 03:00:00                                  7.977324   \n",
       "2016-01-15 04:00:00                                  7.894242   \n",
       "2016-01-15 05:00:00                                  7.965083   \n",
       "2016-01-15 06:00:00                                  8.010890   \n",
       "2016-01-15 07:00:00                                  7.993381   \n",
       "2016-01-15 08:00:00                                  7.881604   \n",
       "2016-01-15 09:00:00                                  7.979219   \n",
       "\n",
       "                     secondary_cleaner.state.floatbank5_b_level  \\\n",
       "date                                                              \n",
       "2016-01-15 00:00:00                                 -500.470978   \n",
       "2016-01-15 01:00:00                                 -500.582168   \n",
       "2016-01-15 02:00:00                                 -500.517572   \n",
       "2016-01-15 03:00:00                                 -500.255908   \n",
       "2016-01-15 04:00:00                                 -500.356035   \n",
       "2016-01-15 05:00:00                                 -499.364752   \n",
       "2016-01-15 06:00:00                                 -500.002423   \n",
       "2016-01-15 07:00:00                                 -499.794518   \n",
       "2016-01-15 08:00:00                                 -499.729434   \n",
       "2016-01-15 09:00:00                                 -500.146835   \n",
       "\n",
       "                     secondary_cleaner.state.floatbank6_a_air  \\\n",
       "date                                                            \n",
       "2016-01-15 00:00:00                                 14.151341   \n",
       "2016-01-15 01:00:00                                 13.998353   \n",
       "2016-01-15 02:00:00                                 14.028663   \n",
       "2016-01-15 03:00:00                                 14.005551   \n",
       "2016-01-15 04:00:00                                 13.996647   \n",
       "2016-01-15 05:00:00                                 14.017067   \n",
       "2016-01-15 06:00:00                                 14.029649   \n",
       "2016-01-15 07:00:00                                 13.984498   \n",
       "2016-01-15 08:00:00                                 13.967135   \n",
       "2016-01-15 09:00:00                                 13.981614   \n",
       "\n",
       "                     secondary_cleaner.state.floatbank6_a_level  \n",
       "date                                                             \n",
       "2016-01-15 00:00:00                                 -605.841980  \n",
       "2016-01-15 01:00:00                                 -599.787184  \n",
       "2016-01-15 02:00:00                                 -601.427363  \n",
       "2016-01-15 03:00:00                                 -599.996129  \n",
       "2016-01-15 04:00:00                                 -601.496691  \n",
       "2016-01-15 05:00:00                                 -599.707915  \n",
       "2016-01-15 06:00:00                                 -600.905470  \n",
       "2016-01-15 07:00:00                                 -600.411070  \n",
       "2016-01-15 08:00:00                                 -599.061188  \n",
       "2016-01-15 09:00:00                                 -598.070855  \n",
       "\n",
       "[10 rows x 86 columns]"
      ]
     },
     "metadata": {},
     "output_type": "display_data"
    },
    {
     "name": "stdout",
     "output_type": "stream",
     "text": [
      "<class 'pandas.core.frame.DataFrame'>\n",
      "DatetimeIndex: 19439 entries, 2016-01-15 00:00:00 to 2018-08-18 10:59:59\n",
      "Data columns (total 86 columns):\n",
      " #   Column                                              Non-Null Count  Dtype  \n",
      "---  ------                                              --------------  -----  \n",
      " 0   final.output.concentrate_ag                         19438 non-null  float64\n",
      " 1   final.output.concentrate_pb                         19438 non-null  float64\n",
      " 2   final.output.concentrate_sol                        19228 non-null  float64\n",
      " 3   final.output.concentrate_au                         19439 non-null  float64\n",
      " 4   final.output.recovery                               19439 non-null  float64\n",
      " 5   final.output.tail_ag                                19438 non-null  float64\n",
      " 6   final.output.tail_pb                                19338 non-null  float64\n",
      " 7   final.output.tail_sol                               19433 non-null  float64\n",
      " 8   final.output.tail_au                                19439 non-null  float64\n",
      " 9   primary_cleaner.input.sulfate                       19415 non-null  float64\n",
      " 10  primary_cleaner.input.depressant                    19402 non-null  float64\n",
      " 11  primary_cleaner.input.feed_size                     19439 non-null  float64\n",
      " 12  primary_cleaner.input.xanthate                      19335 non-null  float64\n",
      " 13  primary_cleaner.output.concentrate_ag               19439 non-null  float64\n",
      " 14  primary_cleaner.output.concentrate_pb               19323 non-null  float64\n",
      " 15  primary_cleaner.output.concentrate_sol              19069 non-null  float64\n",
      " 16  primary_cleaner.output.concentrate_au               19439 non-null  float64\n",
      " 17  primary_cleaner.output.tail_ag                      19435 non-null  float64\n",
      " 18  primary_cleaner.output.tail_pb                      19418 non-null  float64\n",
      " 19  primary_cleaner.output.tail_sol                     19377 non-null  float64\n",
      " 20  primary_cleaner.output.tail_au                      19439 non-null  float64\n",
      " 21  primary_cleaner.state.floatbank8_a_air              19435 non-null  float64\n",
      " 22  primary_cleaner.state.floatbank8_a_level            19438 non-null  float64\n",
      " 23  primary_cleaner.state.floatbank8_b_air              19435 non-null  float64\n",
      " 24  primary_cleaner.state.floatbank8_b_level            19438 non-null  float64\n",
      " 25  primary_cleaner.state.floatbank8_c_air              19437 non-null  float64\n",
      " 26  primary_cleaner.state.floatbank8_c_level            19438 non-null  float64\n",
      " 27  primary_cleaner.state.floatbank8_d_air              19436 non-null  float64\n",
      " 28  primary_cleaner.state.floatbank8_d_level            19438 non-null  float64\n",
      " 29  rougher.calculation.sulfate_to_au_concentrate       19437 non-null  float64\n",
      " 30  rougher.calculation.floatbank10_sulfate_to_au_feed  19437 non-null  float64\n",
      " 31  rougher.calculation.floatbank11_sulfate_to_au_feed  19437 non-null  float64\n",
      " 32  rougher.calculation.au_pb_ratio                     19439 non-null  float64\n",
      " 33  rougher.input.feed_ag                               19439 non-null  float64\n",
      " 34  rougher.input.feed_pb                               19339 non-null  float64\n",
      " 35  rougher.input.feed_rate                             19428 non-null  float64\n",
      " 36  rougher.input.feed_size                             19294 non-null  float64\n",
      " 37  rougher.input.feed_sol                              19340 non-null  float64\n",
      " 38  rougher.input.feed_au                               19439 non-null  float64\n",
      " 39  rougher.input.floatbank10_sulfate                   19405 non-null  float64\n",
      " 40  rougher.input.floatbank10_xanthate                  19431 non-null  float64\n",
      " 41  rougher.input.floatbank11_sulfate                   19395 non-null  float64\n",
      " 42  rougher.input.floatbank11_xanthate                  18986 non-null  float64\n",
      " 43  rougher.output.concentrate_ag                       19439 non-null  float64\n",
      " 44  rougher.output.concentrate_pb                       19439 non-null  float64\n",
      " 45  rougher.output.concentrate_sol                      19416 non-null  float64\n",
      " 46  rougher.output.concentrate_au                       19439 non-null  float64\n",
      " 47  rougher.output.recovery                             19439 non-null  float64\n",
      " 48  rougher.output.tail_ag                              19438 non-null  float64\n",
      " 49  rougher.output.tail_pb                              19439 non-null  float64\n",
      " 50  rougher.output.tail_sol                             19439 non-null  float64\n",
      " 51  rougher.output.tail_au                              19439 non-null  float64\n",
      " 52  rougher.state.floatbank10_a_air                     19438 non-null  float64\n",
      " 53  rougher.state.floatbank10_a_level                   19438 non-null  float64\n",
      " 54  rougher.state.floatbank10_b_air                     19438 non-null  float64\n",
      " 55  rougher.state.floatbank10_b_level                   19438 non-null  float64\n",
      " 56  rougher.state.floatbank10_c_air                     19438 non-null  float64\n",
      " 57  rougher.state.floatbank10_c_level                   19438 non-null  float64\n",
      " 58  rougher.state.floatbank10_d_air                     19439 non-null  float64\n",
      " 59  rougher.state.floatbank10_d_level                   19439 non-null  float64\n",
      " 60  rougher.state.floatbank10_e_air                     19003 non-null  float64\n",
      " 61  rougher.state.floatbank10_e_level                   19439 non-null  float64\n",
      " 62  rougher.state.floatbank10_f_air                     19439 non-null  float64\n",
      " 63  rougher.state.floatbank10_f_level                   19439 non-null  float64\n",
      " 64  secondary_cleaner.output.tail_ag                    19437 non-null  float64\n",
      " 65  secondary_cleaner.output.tail_pb                    19427 non-null  float64\n",
      " 66  secondary_cleaner.output.tail_sol                   17691 non-null  float64\n",
      " 67  secondary_cleaner.output.tail_au                    19439 non-null  float64\n",
      " 68  secondary_cleaner.state.floatbank2_a_air            19219 non-null  float64\n",
      " 69  secondary_cleaner.state.floatbank2_a_level          19438 non-null  float64\n",
      " 70  secondary_cleaner.state.floatbank2_b_air            19416 non-null  float64\n",
      " 71  secondary_cleaner.state.floatbank2_b_level          19438 non-null  float64\n",
      " 72  secondary_cleaner.state.floatbank3_a_air            19426 non-null  float64\n",
      " 73  secondary_cleaner.state.floatbank3_a_level          19438 non-null  float64\n",
      " 74  secondary_cleaner.state.floatbank3_b_air            19438 non-null  float64\n",
      " 75  secondary_cleaner.state.floatbank3_b_level          19438 non-null  float64\n",
      " 76  secondary_cleaner.state.floatbank4_a_air            19433 non-null  float64\n",
      " 77  secondary_cleaner.state.floatbank4_a_level          19438 non-null  float64\n",
      " 78  secondary_cleaner.state.floatbank4_b_air            19438 non-null  float64\n",
      " 79  secondary_cleaner.state.floatbank4_b_level          19438 non-null  float64\n",
      " 80  secondary_cleaner.state.floatbank5_a_air            19438 non-null  float64\n",
      " 81  secondary_cleaner.state.floatbank5_a_level          19438 non-null  float64\n",
      " 82  secondary_cleaner.state.floatbank5_b_air            19438 non-null  float64\n",
      " 83  secondary_cleaner.state.floatbank5_b_level          19438 non-null  float64\n",
      " 84  secondary_cleaner.state.floatbank6_a_air            19437 non-null  float64\n",
      " 85  secondary_cleaner.state.floatbank6_a_level          19438 non-null  float64\n",
      "dtypes: float64(86)\n",
      "memory usage: 12.9 MB\n"
     ]
    },
    {
     "data": {
      "text/html": [
       "<div>\n",
       "<style scoped>\n",
       "    .dataframe tbody tr th:only-of-type {\n",
       "        vertical-align: middle;\n",
       "    }\n",
       "\n",
       "    .dataframe tbody tr th {\n",
       "        vertical-align: top;\n",
       "    }\n",
       "\n",
       "    .dataframe thead th {\n",
       "        text-align: right;\n",
       "    }\n",
       "</style>\n",
       "<table border=\"1\" class=\"dataframe\">\n",
       "  <thead>\n",
       "    <tr style=\"text-align: right;\">\n",
       "      <th></th>\n",
       "      <th>final.output.concentrate_ag</th>\n",
       "      <th>final.output.concentrate_pb</th>\n",
       "      <th>final.output.concentrate_sol</th>\n",
       "      <th>final.output.concentrate_au</th>\n",
       "      <th>final.output.recovery</th>\n",
       "      <th>final.output.tail_ag</th>\n",
       "      <th>final.output.tail_pb</th>\n",
       "      <th>final.output.tail_sol</th>\n",
       "      <th>final.output.tail_au</th>\n",
       "      <th>primary_cleaner.input.sulfate</th>\n",
       "      <th>...</th>\n",
       "      <th>secondary_cleaner.state.floatbank4_a_air</th>\n",
       "      <th>secondary_cleaner.state.floatbank4_a_level</th>\n",
       "      <th>secondary_cleaner.state.floatbank4_b_air</th>\n",
       "      <th>secondary_cleaner.state.floatbank4_b_level</th>\n",
       "      <th>secondary_cleaner.state.floatbank5_a_air</th>\n",
       "      <th>secondary_cleaner.state.floatbank5_a_level</th>\n",
       "      <th>secondary_cleaner.state.floatbank5_b_air</th>\n",
       "      <th>secondary_cleaner.state.floatbank5_b_level</th>\n",
       "      <th>secondary_cleaner.state.floatbank6_a_air</th>\n",
       "      <th>secondary_cleaner.state.floatbank6_a_level</th>\n",
       "    </tr>\n",
       "  </thead>\n",
       "  <tbody>\n",
       "    <tr>\n",
       "      <th>count</th>\n",
       "      <td>19438.000000</td>\n",
       "      <td>19438.000000</td>\n",
       "      <td>19228.000000</td>\n",
       "      <td>19439.000000</td>\n",
       "      <td>19439.000000</td>\n",
       "      <td>19438.000000</td>\n",
       "      <td>19338.000000</td>\n",
       "      <td>19433.000000</td>\n",
       "      <td>19439.000000</td>\n",
       "      <td>19415.000000</td>\n",
       "      <td>...</td>\n",
       "      <td>19433.000000</td>\n",
       "      <td>19438.000000</td>\n",
       "      <td>19438.000000</td>\n",
       "      <td>19438.000000</td>\n",
       "      <td>19438.000000</td>\n",
       "      <td>19438.000000</td>\n",
       "      <td>19438.000000</td>\n",
       "      <td>19438.000000</td>\n",
       "      <td>19437.000000</td>\n",
       "      <td>19438.000000</td>\n",
       "    </tr>\n",
       "    <tr>\n",
       "      <th>mean</th>\n",
       "      <td>5.168470</td>\n",
       "      <td>9.978895</td>\n",
       "      <td>9.501224</td>\n",
       "      <td>44.076513</td>\n",
       "      <td>67.050208</td>\n",
       "      <td>9.688589</td>\n",
       "      <td>2.705795</td>\n",
       "      <td>10.583728</td>\n",
       "      <td>3.042467</td>\n",
       "      <td>144.624774</td>\n",
       "      <td>...</td>\n",
       "      <td>18.987674</td>\n",
       "      <td>-485.894516</td>\n",
       "      <td>15.010366</td>\n",
       "      <td>-461.078636</td>\n",
       "      <td>15.694452</td>\n",
       "      <td>-488.684065</td>\n",
       "      <td>12.198224</td>\n",
       "      <td>-487.149827</td>\n",
       "      <td>18.959024</td>\n",
       "      <td>-505.436305</td>\n",
       "    </tr>\n",
       "    <tr>\n",
       "      <th>std</th>\n",
       "      <td>1.372348</td>\n",
       "      <td>1.669240</td>\n",
       "      <td>2.787537</td>\n",
       "      <td>5.129784</td>\n",
       "      <td>10.125840</td>\n",
       "      <td>2.328642</td>\n",
       "      <td>0.949077</td>\n",
       "      <td>2.868782</td>\n",
       "      <td>0.922808</td>\n",
       "      <td>44.464071</td>\n",
       "      <td>...</td>\n",
       "      <td>5.411058</td>\n",
       "      <td>47.758570</td>\n",
       "      <td>4.890228</td>\n",
       "      <td>67.405524</td>\n",
       "      <td>5.510974</td>\n",
       "      <td>34.533396</td>\n",
       "      <td>5.333024</td>\n",
       "      <td>38.347312</td>\n",
       "      <td>5.550498</td>\n",
       "      <td>37.689057</td>\n",
       "    </tr>\n",
       "    <tr>\n",
       "      <th>min</th>\n",
       "      <td>0.000000</td>\n",
       "      <td>0.000000</td>\n",
       "      <td>0.000000</td>\n",
       "      <td>0.000000</td>\n",
       "      <td>0.000000</td>\n",
       "      <td>0.000000</td>\n",
       "      <td>0.000000</td>\n",
       "      <td>0.000000</td>\n",
       "      <td>0.000000</td>\n",
       "      <td>0.003112</td>\n",
       "      <td>...</td>\n",
       "      <td>0.000000</td>\n",
       "      <td>-799.798523</td>\n",
       "      <td>0.000000</td>\n",
       "      <td>-800.836914</td>\n",
       "      <td>-0.372054</td>\n",
       "      <td>-797.323986</td>\n",
       "      <td>0.528083</td>\n",
       "      <td>-800.220337</td>\n",
       "      <td>-0.079426</td>\n",
       "      <td>-809.741464</td>\n",
       "    </tr>\n",
       "    <tr>\n",
       "      <th>25%</th>\n",
       "      <td>4.251240</td>\n",
       "      <td>9.137262</td>\n",
       "      <td>7.722820</td>\n",
       "      <td>43.402215</td>\n",
       "      <td>63.299712</td>\n",
       "      <td>8.062878</td>\n",
       "      <td>2.040119</td>\n",
       "      <td>8.938947</td>\n",
       "      <td>2.461138</td>\n",
       "      <td>114.107029</td>\n",
       "      <td>...</td>\n",
       "      <td>14.975734</td>\n",
       "      <td>-500.704892</td>\n",
       "      <td>11.940294</td>\n",
       "      <td>-500.187742</td>\n",
       "      <td>10.988606</td>\n",
       "      <td>-500.458467</td>\n",
       "      <td>8.971105</td>\n",
       "      <td>-500.129462</td>\n",
       "      <td>14.983037</td>\n",
       "      <td>-500.728067</td>\n",
       "    </tr>\n",
       "    <tr>\n",
       "      <th>50%</th>\n",
       "      <td>5.066094</td>\n",
       "      <td>10.102433</td>\n",
       "      <td>9.218961</td>\n",
       "      <td>45.011244</td>\n",
       "      <td>68.172738</td>\n",
       "      <td>9.743623</td>\n",
       "      <td>2.748730</td>\n",
       "      <td>10.622456</td>\n",
       "      <td>2.984909</td>\n",
       "      <td>143.232103</td>\n",
       "      <td>...</td>\n",
       "      <td>18.017481</td>\n",
       "      <td>-499.837793</td>\n",
       "      <td>14.971014</td>\n",
       "      <td>-499.459786</td>\n",
       "      <td>15.000036</td>\n",
       "      <td>-499.802605</td>\n",
       "      <td>11.019433</td>\n",
       "      <td>-499.935317</td>\n",
       "      <td>19.960541</td>\n",
       "      <td>-500.048400</td>\n",
       "    </tr>\n",
       "    <tr>\n",
       "      <th>75%</th>\n",
       "      <td>5.895527</td>\n",
       "      <td>11.035769</td>\n",
       "      <td>10.947813</td>\n",
       "      <td>46.275313</td>\n",
       "      <td>72.686642</td>\n",
       "      <td>11.134294</td>\n",
       "      <td>3.333216</td>\n",
       "      <td>12.104271</td>\n",
       "      <td>3.571351</td>\n",
       "      <td>175.075656</td>\n",
       "      <td>...</td>\n",
       "      <td>23.012470</td>\n",
       "      <td>-498.249730</td>\n",
       "      <td>19.034162</td>\n",
       "      <td>-400.118106</td>\n",
       "      <td>18.026190</td>\n",
       "      <td>-498.384187</td>\n",
       "      <td>14.019088</td>\n",
       "      <td>-499.436708</td>\n",
       "      <td>24.003170</td>\n",
       "      <td>-499.495378</td>\n",
       "    </tr>\n",
       "    <tr>\n",
       "      <th>max</th>\n",
       "      <td>16.001945</td>\n",
       "      <td>17.031899</td>\n",
       "      <td>19.615720</td>\n",
       "      <td>52.756638</td>\n",
       "      <td>100.000000</td>\n",
       "      <td>19.552149</td>\n",
       "      <td>5.804178</td>\n",
       "      <td>22.317730</td>\n",
       "      <td>8.245022</td>\n",
       "      <td>265.983123</td>\n",
       "      <td>...</td>\n",
       "      <td>30.115735</td>\n",
       "      <td>-245.239184</td>\n",
       "      <td>31.269706</td>\n",
       "      <td>-6.506986</td>\n",
       "      <td>43.709931</td>\n",
       "      <td>-244.483566</td>\n",
       "      <td>27.926001</td>\n",
       "      <td>-137.740004</td>\n",
       "      <td>32.188906</td>\n",
       "      <td>-104.427459</td>\n",
       "    </tr>\n",
       "  </tbody>\n",
       "</table>\n",
       "<p>8 rows × 86 columns</p>\n",
       "</div>"
      ],
      "text/plain": [
       "       final.output.concentrate_ag  final.output.concentrate_pb  \\\n",
       "count                 19438.000000                 19438.000000   \n",
       "mean                      5.168470                     9.978895   \n",
       "std                       1.372348                     1.669240   \n",
       "min                       0.000000                     0.000000   \n",
       "25%                       4.251240                     9.137262   \n",
       "50%                       5.066094                    10.102433   \n",
       "75%                       5.895527                    11.035769   \n",
       "max                      16.001945                    17.031899   \n",
       "\n",
       "       final.output.concentrate_sol  final.output.concentrate_au  \\\n",
       "count                  19228.000000                 19439.000000   \n",
       "mean                       9.501224                    44.076513   \n",
       "std                        2.787537                     5.129784   \n",
       "min                        0.000000                     0.000000   \n",
       "25%                        7.722820                    43.402215   \n",
       "50%                        9.218961                    45.011244   \n",
       "75%                       10.947813                    46.275313   \n",
       "max                       19.615720                    52.756638   \n",
       "\n",
       "       final.output.recovery  final.output.tail_ag  final.output.tail_pb  \\\n",
       "count           19439.000000          19438.000000          19338.000000   \n",
       "mean               67.050208              9.688589              2.705795   \n",
       "std                10.125840              2.328642              0.949077   \n",
       "min                 0.000000              0.000000              0.000000   \n",
       "25%                63.299712              8.062878              2.040119   \n",
       "50%                68.172738              9.743623              2.748730   \n",
       "75%                72.686642             11.134294              3.333216   \n",
       "max               100.000000             19.552149              5.804178   \n",
       "\n",
       "       final.output.tail_sol  final.output.tail_au  \\\n",
       "count           19433.000000          19439.000000   \n",
       "mean               10.583728              3.042467   \n",
       "std                 2.868782              0.922808   \n",
       "min                 0.000000              0.000000   \n",
       "25%                 8.938947              2.461138   \n",
       "50%                10.622456              2.984909   \n",
       "75%                12.104271              3.571351   \n",
       "max                22.317730              8.245022   \n",
       "\n",
       "       primary_cleaner.input.sulfate  ...  \\\n",
       "count                   19415.000000  ...   \n",
       "mean                      144.624774  ...   \n",
       "std                        44.464071  ...   \n",
       "min                         0.003112  ...   \n",
       "25%                       114.107029  ...   \n",
       "50%                       143.232103  ...   \n",
       "75%                       175.075656  ...   \n",
       "max                       265.983123  ...   \n",
       "\n",
       "       secondary_cleaner.state.floatbank4_a_air  \\\n",
       "count                              19433.000000   \n",
       "mean                                  18.987674   \n",
       "std                                    5.411058   \n",
       "min                                    0.000000   \n",
       "25%                                   14.975734   \n",
       "50%                                   18.017481   \n",
       "75%                                   23.012470   \n",
       "max                                   30.115735   \n",
       "\n",
       "       secondary_cleaner.state.floatbank4_a_level  \\\n",
       "count                                19438.000000   \n",
       "mean                                  -485.894516   \n",
       "std                                     47.758570   \n",
       "min                                   -799.798523   \n",
       "25%                                   -500.704892   \n",
       "50%                                   -499.837793   \n",
       "75%                                   -498.249730   \n",
       "max                                   -245.239184   \n",
       "\n",
       "       secondary_cleaner.state.floatbank4_b_air  \\\n",
       "count                              19438.000000   \n",
       "mean                                  15.010366   \n",
       "std                                    4.890228   \n",
       "min                                    0.000000   \n",
       "25%                                   11.940294   \n",
       "50%                                   14.971014   \n",
       "75%                                   19.034162   \n",
       "max                                   31.269706   \n",
       "\n",
       "       secondary_cleaner.state.floatbank4_b_level  \\\n",
       "count                                19438.000000   \n",
       "mean                                  -461.078636   \n",
       "std                                     67.405524   \n",
       "min                                   -800.836914   \n",
       "25%                                   -500.187742   \n",
       "50%                                   -499.459786   \n",
       "75%                                   -400.118106   \n",
       "max                                     -6.506986   \n",
       "\n",
       "       secondary_cleaner.state.floatbank5_a_air  \\\n",
       "count                              19438.000000   \n",
       "mean                                  15.694452   \n",
       "std                                    5.510974   \n",
       "min                                   -0.372054   \n",
       "25%                                   10.988606   \n",
       "50%                                   15.000036   \n",
       "75%                                   18.026190   \n",
       "max                                   43.709931   \n",
       "\n",
       "       secondary_cleaner.state.floatbank5_a_level  \\\n",
       "count                                19438.000000   \n",
       "mean                                  -488.684065   \n",
       "std                                     34.533396   \n",
       "min                                   -797.323986   \n",
       "25%                                   -500.458467   \n",
       "50%                                   -499.802605   \n",
       "75%                                   -498.384187   \n",
       "max                                   -244.483566   \n",
       "\n",
       "       secondary_cleaner.state.floatbank5_b_air  \\\n",
       "count                              19438.000000   \n",
       "mean                                  12.198224   \n",
       "std                                    5.333024   \n",
       "min                                    0.528083   \n",
       "25%                                    8.971105   \n",
       "50%                                   11.019433   \n",
       "75%                                   14.019088   \n",
       "max                                   27.926001   \n",
       "\n",
       "       secondary_cleaner.state.floatbank5_b_level  \\\n",
       "count                                19438.000000   \n",
       "mean                                  -487.149827   \n",
       "std                                     38.347312   \n",
       "min                                   -800.220337   \n",
       "25%                                   -500.129462   \n",
       "50%                                   -499.935317   \n",
       "75%                                   -499.436708   \n",
       "max                                   -137.740004   \n",
       "\n",
       "       secondary_cleaner.state.floatbank6_a_air  \\\n",
       "count                              19437.000000   \n",
       "mean                                  18.959024   \n",
       "std                                    5.550498   \n",
       "min                                   -0.079426   \n",
       "25%                                   14.983037   \n",
       "50%                                   19.960541   \n",
       "75%                                   24.003170   \n",
       "max                                   32.188906   \n",
       "\n",
       "       secondary_cleaner.state.floatbank6_a_level  \n",
       "count                                19438.000000  \n",
       "mean                                  -505.436305  \n",
       "std                                     37.689057  \n",
       "min                                   -809.741464  \n",
       "25%                                   -500.728067  \n",
       "50%                                   -500.048400  \n",
       "75%                                   -499.495378  \n",
       "max                                   -104.427459  \n",
       "\n",
       "[8 rows x 86 columns]"
      ]
     },
     "metadata": {},
     "output_type": "display_data"
    },
    {
     "data": {
      "text/plain": [
       "'Доля пропущенных значений:'"
      ]
     },
     "metadata": {},
     "output_type": "display_data"
    },
    {
     "data": {
      "text/plain": [
       "final.output.concentrate_ag                   0.000051\n",
       "final.output.concentrate_pb                   0.000051\n",
       "final.output.concentrate_sol                  0.010854\n",
       "final.output.concentrate_au                   0.000000\n",
       "final.output.recovery                         0.000000\n",
       "                                                ...   \n",
       "secondary_cleaner.state.floatbank5_a_level    0.000051\n",
       "secondary_cleaner.state.floatbank5_b_air      0.000051\n",
       "secondary_cleaner.state.floatbank5_b_level    0.000051\n",
       "secondary_cleaner.state.floatbank6_a_air      0.000103\n",
       "secondary_cleaner.state.floatbank6_a_level    0.000051\n",
       "Length: 86, dtype: float64"
      ]
     },
     "metadata": {},
     "output_type": "display_data"
    },
    {
     "name": "stdout",
     "output_type": "stream",
     "text": [
      "Количество дубликатов: 0\n"
     ]
    }
   ],
   "source": [
    "get_info(data_full) #применим функцию для data_full"
   ]
  },
  {
   "cell_type": "markdown",
   "metadata": {},
   "source": [
    "###### Вывод"
   ]
  },
  {
   "cell_type": "markdown",
   "metadata": {},
   "source": [
    "В таблице data_train 86 столбцов, data_test 52 столбца, data_full 86 столбцов. Типы данных в столбцах — float64.\n",
    "\n",
    "В названии колонок нарушения стиля нет.\n",
    "\n",
    "Количество значений в столбцах различается. Значит, в данных есть пропущенные значения. Дубликатов нет.\n",
    "\n",
    "В тестовой выборке отсутствуют некоторые признаки, которые могут быть в обучающей. Также в тестовом наборе нет целевых признаков.\n",
    "\n",
    "Чтобы двигаться дальше, нужно устранить эти проблемы.\n"
   ]
  },
  {
   "cell_type": "markdown",
   "metadata": {},
   "source": [
    "### Расчет эффективности обогащения"
   ]
  },
  {
   "cell_type": "markdown",
   "metadata": {},
   "source": [
    "Проверим, что эффективность обогащения рассчитана правильно.\n",
    "Вычислим её на обучающей выборке для признака rougher.output.recovery и найдем MAE между получившимися расчётами и значением признака."
   ]
  },
  {
   "cell_type": "markdown",
   "metadata": {},
   "source": [
    "Эффективность обогащения рассчитывается по формуле\n",
    "\n",
    "    recovery = (c*(f-t))/(f*(c-t))*100\n",
    "где:\n",
    "\n",
    "    C — доля золота в концентрате после флотации/очистки;\n",
    "    F — доля золота в сырье/концентрате до флотации/очистки;\n",
    "    T — доля золота в отвальных хвостах после флотации/очистки."
   ]
  },
  {
   "cell_type": "markdown",
   "metadata": {},
   "source": [
    "Напишем функцию, рассчитывающую по вышеописанной формуле, эффективность обогащения."
   ]
  },
  {
   "cell_type": "code",
   "execution_count": 7,
   "metadata": {},
   "outputs": [],
   "source": [
    "#функция для расчета эффективности обогащения\n",
    "def recovery (c, f, t):\n",
    "    result = (c*(f-t))/(f*(c-t))*100\n",
    "    return result"
   ]
  },
  {
   "cell_type": "markdown",
   "metadata": {},
   "source": [
    "Применим функцию к 'rougher.output.concentrate_au', 'rougher.input.feed_au', 'rougher.output.tail_au'."
   ]
  },
  {
   "cell_type": "code",
   "execution_count": 8,
   "metadata": {},
   "outputs": [
    {
     "name": "stdout",
     "output_type": "stream",
     "text": [
      "MAE: 9.73512347450521e-15\n"
     ]
    }
   ],
   "source": [
    "data_train['recovery'] = recovery(data_train['rougher.output.concentrate_au'], #функцией recovery с параметрами c, f, t вычислим эффективность обогащения\n",
    "                                  data_train['rougher.input.feed_au'],\n",
    "                                  data_train['rougher.output.tail_au'])\n",
    " \n",
    "mae = mean_absolute_error(data_train['rougher.output.recovery'], data_train['recovery']) #функцией mean_absolute_error вычислим mae\n",
    "print('MAE:', mae)"
   ]
  },
  {
   "cell_type": "markdown",
   "metadata": {},
   "source": [
    "###### Вывод"
   ]
  },
  {
   "cell_type": "markdown",
   "metadata": {},
   "source": [
    "Метрика MAE измеряет среднюю сумму абсолютной разницы между фактическим значением и прогнозируемым значением.\n",
    "\n",
    "Исходя из результатов, значение MAE бесконечно мало, практически приравнивается к нулю. Это означает отсутствие ошибки.\n",
    "\n",
    "Таким образом, эффективность обогащения рассчитана правильно."
   ]
  },
  {
   "cell_type": "markdown",
   "metadata": {},
   "source": [
    "### Анализ признаков, недоступных в тестовой выборке"
   ]
  },
  {
   "cell_type": "markdown",
   "metadata": {},
   "source": [
    "Проанализируем признаки, недоступные в тестовой выборке."
   ]
  },
  {
   "cell_type": "markdown",
   "metadata": {},
   "source": [
    "Для того, чтобы получить признаки, которых нет в data_test, функцией set() создадим множества из data_train и data_test.\n",
    "Затем применим метод difference, который выдает разницу между множествами data_train и data_test"
   ]
  },
  {
   "cell_type": "code",
   "execution_count": 9,
   "metadata": {},
   "outputs": [
    {
     "data": {
      "text/plain": [
       "{'final.output.concentrate_ag',\n",
       " 'final.output.concentrate_au',\n",
       " 'final.output.concentrate_pb',\n",
       " 'final.output.concentrate_sol',\n",
       " 'final.output.recovery',\n",
       " 'final.output.tail_ag',\n",
       " 'final.output.tail_au',\n",
       " 'final.output.tail_pb',\n",
       " 'final.output.tail_sol',\n",
       " 'primary_cleaner.output.concentrate_ag',\n",
       " 'primary_cleaner.output.concentrate_au',\n",
       " 'primary_cleaner.output.concentrate_pb',\n",
       " 'primary_cleaner.output.concentrate_sol',\n",
       " 'primary_cleaner.output.tail_ag',\n",
       " 'primary_cleaner.output.tail_au',\n",
       " 'primary_cleaner.output.tail_pb',\n",
       " 'primary_cleaner.output.tail_sol',\n",
       " 'recovery',\n",
       " 'rougher.calculation.au_pb_ratio',\n",
       " 'rougher.calculation.floatbank10_sulfate_to_au_feed',\n",
       " 'rougher.calculation.floatbank11_sulfate_to_au_feed',\n",
       " 'rougher.calculation.sulfate_to_au_concentrate',\n",
       " 'rougher.output.concentrate_ag',\n",
       " 'rougher.output.concentrate_au',\n",
       " 'rougher.output.concentrate_pb',\n",
       " 'rougher.output.concentrate_sol',\n",
       " 'rougher.output.recovery',\n",
       " 'rougher.output.tail_ag',\n",
       " 'rougher.output.tail_au',\n",
       " 'rougher.output.tail_pb',\n",
       " 'rougher.output.tail_sol',\n",
       " 'secondary_cleaner.output.tail_ag',\n",
       " 'secondary_cleaner.output.tail_au',\n",
       " 'secondary_cleaner.output.tail_pb',\n",
       " 'secondary_cleaner.output.tail_sol'}"
      ]
     },
     "execution_count": 9,
     "metadata": {},
     "output_type": "execute_result"
    }
   ],
   "source": [
    "columns_diff = set(data_train).difference(set(data_test)) #получим столбцы, которых нет в тестовой выборке\n",
    "columns_diff"
   ]
  },
  {
   "cell_type": "markdown",
   "metadata": {},
   "source": [
    "###### Вывод"
   ]
  },
  {
   "cell_type": "markdown",
   "metadata": {},
   "source": [
    "Эти параметры - данные по выходу продукции типа float64. Очевидно, что их в обучающей выборке до начала процесса быть не должно. На этапе выделения признаков на обучающей выборке для обучения модели, их необходимо удалить."
   ]
  },
  {
   "cell_type": "markdown",
   "metadata": {},
   "source": [
    "### Предобработка данных"
   ]
  },
  {
   "cell_type": "markdown",
   "metadata": {},
   "source": [
    "На этапе изучения данных выявили пропущенные значения.\n",
    "\n",
    "Так как соседние по времени параметры часто похожи, применим для заполнения пропусков метод 'ffill', т.е. заполнение предыдущим значением."
   ]
  },
  {
   "cell_type": "code",
   "execution_count": 10,
   "metadata": {},
   "outputs": [],
   "source": [
    "data_train = data_train.fillna(method='ffill') #методом ffill заполним пропуски в data_train\n",
    "data_test = data_test.fillna(method='ffill') #методом ffill заполним пропуски в data_test\n",
    "data_full = data_full.fillna(method='ffill') #методом ffill заполним пропуски в data_full"
   ]
  },
  {
   "cell_type": "markdown",
   "metadata": {},
   "source": [
    "Проверим данные."
   ]
  },
  {
   "cell_type": "code",
   "execution_count": 11,
   "metadata": {},
   "outputs": [
    {
     "data": {
      "text/plain": [
       "final.output.concentrate_ag                   0.0\n",
       "final.output.concentrate_pb                   0.0\n",
       "final.output.concentrate_sol                  0.0\n",
       "final.output.concentrate_au                   0.0\n",
       "final.output.recovery                         0.0\n",
       "                                             ... \n",
       "secondary_cleaner.state.floatbank5_b_air      0.0\n",
       "secondary_cleaner.state.floatbank5_b_level    0.0\n",
       "secondary_cleaner.state.floatbank6_a_air      0.0\n",
       "secondary_cleaner.state.floatbank6_a_level    0.0\n",
       "recovery                                      0.0\n",
       "Length: 87, dtype: float64"
      ]
     },
     "execution_count": 11,
     "metadata": {},
     "output_type": "execute_result"
    }
   ],
   "source": [
    "data_train.isna().mean() #доля пропущенных значений"
   ]
  },
  {
   "cell_type": "code",
   "execution_count": 12,
   "metadata": {},
   "outputs": [
    {
     "data": {
      "text/plain": [
       "primary_cleaner.input.sulfate                 0.0\n",
       "primary_cleaner.input.depressant              0.0\n",
       "primary_cleaner.input.feed_size               0.0\n",
       "primary_cleaner.input.xanthate                0.0\n",
       "primary_cleaner.state.floatbank8_a_air        0.0\n",
       "primary_cleaner.state.floatbank8_a_level      0.0\n",
       "primary_cleaner.state.floatbank8_b_air        0.0\n",
       "primary_cleaner.state.floatbank8_b_level      0.0\n",
       "primary_cleaner.state.floatbank8_c_air        0.0\n",
       "primary_cleaner.state.floatbank8_c_level      0.0\n",
       "primary_cleaner.state.floatbank8_d_air        0.0\n",
       "primary_cleaner.state.floatbank8_d_level      0.0\n",
       "rougher.input.feed_ag                         0.0\n",
       "rougher.input.feed_pb                         0.0\n",
       "rougher.input.feed_rate                       0.0\n",
       "rougher.input.feed_size                       0.0\n",
       "rougher.input.feed_sol                        0.0\n",
       "rougher.input.feed_au                         0.0\n",
       "rougher.input.floatbank10_sulfate             0.0\n",
       "rougher.input.floatbank10_xanthate            0.0\n",
       "rougher.input.floatbank11_sulfate             0.0\n",
       "rougher.input.floatbank11_xanthate            0.0\n",
       "rougher.state.floatbank10_a_air               0.0\n",
       "rougher.state.floatbank10_a_level             0.0\n",
       "rougher.state.floatbank10_b_air               0.0\n",
       "rougher.state.floatbank10_b_level             0.0\n",
       "rougher.state.floatbank10_c_air               0.0\n",
       "rougher.state.floatbank10_c_level             0.0\n",
       "rougher.state.floatbank10_d_air               0.0\n",
       "rougher.state.floatbank10_d_level             0.0\n",
       "rougher.state.floatbank10_e_air               0.0\n",
       "rougher.state.floatbank10_e_level             0.0\n",
       "rougher.state.floatbank10_f_air               0.0\n",
       "rougher.state.floatbank10_f_level             0.0\n",
       "secondary_cleaner.state.floatbank2_a_air      0.0\n",
       "secondary_cleaner.state.floatbank2_a_level    0.0\n",
       "secondary_cleaner.state.floatbank2_b_air      0.0\n",
       "secondary_cleaner.state.floatbank2_b_level    0.0\n",
       "secondary_cleaner.state.floatbank3_a_air      0.0\n",
       "secondary_cleaner.state.floatbank3_a_level    0.0\n",
       "secondary_cleaner.state.floatbank3_b_air      0.0\n",
       "secondary_cleaner.state.floatbank3_b_level    0.0\n",
       "secondary_cleaner.state.floatbank4_a_air      0.0\n",
       "secondary_cleaner.state.floatbank4_a_level    0.0\n",
       "secondary_cleaner.state.floatbank4_b_air      0.0\n",
       "secondary_cleaner.state.floatbank4_b_level    0.0\n",
       "secondary_cleaner.state.floatbank5_a_air      0.0\n",
       "secondary_cleaner.state.floatbank5_a_level    0.0\n",
       "secondary_cleaner.state.floatbank5_b_air      0.0\n",
       "secondary_cleaner.state.floatbank5_b_level    0.0\n",
       "secondary_cleaner.state.floatbank6_a_air      0.0\n",
       "secondary_cleaner.state.floatbank6_a_level    0.0\n",
       "dtype: float64"
      ]
     },
     "execution_count": 12,
     "metadata": {},
     "output_type": "execute_result"
    }
   ],
   "source": [
    "data_test.isna().mean() #доля пропущенных значений"
   ]
  },
  {
   "cell_type": "code",
   "execution_count": 13,
   "metadata": {},
   "outputs": [
    {
     "data": {
      "text/plain": [
       "final.output.concentrate_ag                   0.0\n",
       "final.output.concentrate_pb                   0.0\n",
       "final.output.concentrate_sol                  0.0\n",
       "final.output.concentrate_au                   0.0\n",
       "final.output.recovery                         0.0\n",
       "                                             ... \n",
       "secondary_cleaner.state.floatbank5_a_level    0.0\n",
       "secondary_cleaner.state.floatbank5_b_air      0.0\n",
       "secondary_cleaner.state.floatbank5_b_level    0.0\n",
       "secondary_cleaner.state.floatbank6_a_air      0.0\n",
       "secondary_cleaner.state.floatbank6_a_level    0.0\n",
       "Length: 86, dtype: float64"
      ]
     },
     "execution_count": 13,
     "metadata": {},
     "output_type": "execute_result"
    }
   ],
   "source": [
    "data_full.isna().mean() #доля пропущенных значений"
   ]
  },
  {
   "cell_type": "markdown",
   "metadata": {},
   "source": [
    "###### Вывод"
   ]
  },
  {
   "cell_type": "markdown",
   "metadata": {},
   "source": [
    "Заполнили пропущенные значения."
   ]
  },
  {
   "cell_type": "markdown",
   "metadata": {},
   "source": [
    "## Анализ данных"
   ]
  },
  {
   "cell_type": "markdown",
   "metadata": {},
   "source": [
    "### Анализ концентрации металлов (Au, Ag, Pb) на различных этапах очистки."
   ]
  },
  {
   "cell_type": "markdown",
   "metadata": {},
   "source": [
    "Напишем функцию для построения гистограмм концентраций металлов на различных этапах очистки. На вход принимает концентрации в исходном сырье, после флотации, после первичной очистки и в финальном концентрате, а также название металла."
   ]
  },
  {
   "cell_type": "code",
   "execution_count": 14,
   "metadata": {},
   "outputs": [],
   "source": [
    "def hist_metal(df, name):\n",
    "    plt.figure(figsize=(12, 7))\n",
    "    #в цикле строим гистограмму для каждого этапа\n",
    "    for i in range(len(df)):\n",
    "        plt.hist(df[i][0], bins=70, alpha=0.5, label=df[i][1])\n",
    "    plt.title(name)\n",
    "    plt.xlabel('Концентрация, у.е.')\n",
    "    plt.ylabel('Количество наблюдений')\n",
    "    plt.legend()\n",
    "    plt.show()\n"
   ]
  },
  {
   "cell_type": "markdown",
   "metadata": {},
   "source": [
    "Построим гистограммы концентрации золота на различных этапах очистки."
   ]
  },
  {
   "cell_type": "code",
   "execution_count": 15,
   "metadata": {},
   "outputs": [
    {
     "data": {
      "image/png": "[encoded data removed]",
      "text/plain": [
       "<Figure size 864x504 with 1 Axes>"
      ]
     },
     "metadata": {
      "needs_background": "light"
     },
     "output_type": "display_data"
    }
   ],
   "source": [
    "#функция построение гистограмм\n",
    "hist_metal([[data_full['rougher.input.feed_au'], 'Исходное сырьё'],\n",
    "           [data_full['rougher.output.concentrate_au'], 'После флотации'],\n",
    "           [data_full['primary_cleaner.output.concentrate_au'], 'После первичной очистки'],\n",
    "           [data_full['final.output.concentrate_au'], 'Финальный концентрат']], 'Золото')"
   ]
  },
  {
   "cell_type": "markdown",
   "metadata": {},
   "source": [
    "Построим гистограммы концентрации серебра на различных этапах очистки."
   ]
  },
  {
   "cell_type": "code",
   "execution_count": 16,
   "metadata": {},
   "outputs": [
    {
     "data": {
      "image/png": "[encoded data removed]",
      "text/plain": [
       "<Figure size 864x504 with 1 Axes>"
      ]
     },
     "metadata": {
      "needs_background": "light"
     },
     "output_type": "display_data"
    }
   ],
   "source": [
    "#функция построение гистограмм\n",
    "hist_metal([[data_full['rougher.input.feed_ag'], 'Исходное сырьё'],\n",
    "           [data_full['rougher.output.concentrate_ag'], 'После флотации'],\n",
    "           [data_full['primary_cleaner.output.concentrate_ag'], 'После первичной очистки'],\n",
    "           [data_full['final.output.concentrate_ag'], 'Финальный концентрат']], 'Серебро')"
   ]
  },
  {
   "cell_type": "markdown",
   "metadata": {},
   "source": [
    "Построим гистограммы концентрации свинца на различных этапах очистки."
   ]
  },
  {
   "cell_type": "code",
   "execution_count": 17,
   "metadata": {},
   "outputs": [
    {
     "data": {
      "image/png": "[encoded data removed]",
      "text/plain": [
       "<Figure size 864x504 with 1 Axes>"
      ]
     },
     "metadata": {
      "needs_background": "light"
     },
     "output_type": "display_data"
    }
   ],
   "source": [
    "#функция построение гистограмм\n",
    "hist_metal([[data_full['rougher.input.feed_pb'], 'Исходное сырьё'],\n",
    "           [data_full['rougher.output.concentrate_pb'], 'После флотации'],\n",
    "           [data_full['primary_cleaner.output.concentrate_pb'], 'После первичной очистки'],\n",
    "           [data_full['final.output.concentrate_pb'], 'Финальный концентрат']], 'Свинец')"
   ]
  },
  {
   "cell_type": "markdown",
   "metadata": {},
   "source": [
    "###### Вывод"
   ]
  },
  {
   "cell_type": "markdown",
   "metadata": {},
   "source": [
    "Исходя из результатов, можем сказать, что:\n",
    "    Концентрация золота после каждого этапа очистки растет.\n",
    "    Концентрация серебра после флотации растет, затем снижается.\n",
    "    Концентрация свинца после каждого этапа остается примерно на одном уровне."
   ]
  },
  {
   "cell_type": "markdown",
   "metadata": {},
   "source": [
    "### Анализ распределений размеров гранул сырья на обучающей и тестовой выборках."
   ]
  },
  {
   "cell_type": "markdown",
   "metadata": {},
   "source": [
    "Сравним распределения размеров гранул сырья на обучающей и тестовой выборках.\n",
    "\n",
    "feed size — размер гранул сырья.\n",
    "\n",
    "Построим гистограммы."
   ]
  },
  {
   "cell_type": "code",
   "execution_count": 18,
   "metadata": {},
   "outputs": [
    {
     "data": {
      "image/png": "[encoded data removed]",
      "text/plain": [
       "<Figure size 432x288 with 1 Axes>"
      ]
     },
     "metadata": {
      "needs_background": "light"
     },
     "output_type": "display_data"
    }
   ],
   "source": [
    "#определим test_feed_size и train_feed_size\n",
    "test_feed_size = data_test['primary_cleaner.input.feed_size']\n",
    "train_feed_size = data_train['primary_cleaner.input.feed_size']\n",
    "\n",
    "#выведем гистограммы\n",
    "test_feed_size.plot(bins=10, kind='hist', density=True, alpha=0.5, label='test_feed_size')\n",
    "train_feed_size.plot(bins=10, kind='hist', density=True, alpha=0.5, label='train_feed_size')\n",
    "\n",
    "plt.legend(loc='upper right')\n",
    "plt.title('Распределение размеров гранул сырья')\n",
    "plt.show()"
   ]
  },
  {
   "cell_type": "markdown",
   "metadata": {},
   "source": [
    "###### Вывод"
   ]
  },
  {
   "cell_type": "markdown",
   "metadata": {},
   "source": [
    "Распределения размеров гранул сырья на обучающей и тестовой выборках практически не отличаются. Это значит, что оценка модели будет правильной."
   ]
  },
  {
   "cell_type": "markdown",
   "metadata": {},
   "source": [
    "### Исследование суммарной концентрации всех веществ на разных стадиях: в сырье, в черновом и финальном концентратах."
   ]
  },
  {
   "cell_type": "markdown",
   "metadata": {},
   "source": [
    "Построим гистограммы суммарных концентраций металлов на разных стадиях: в сырье, в черновом и финальном концентратах.\n",
    "\n",
    "Функции hist_metal() на вход подадим суммы концентраций в исходном сырье, после флотации и в финальном концентрате."
   ]
  },
  {
   "cell_type": "code",
   "execution_count": 19,
   "metadata": {},
   "outputs": [
    {
     "data": {
      "image/png": "[encoded data removed]",
      "text/plain": [
       "<Figure size 864x504 with 1 Axes>"
      ]
     },
     "metadata": {
      "needs_background": "light"
     },
     "output_type": "display_data"
    }
   ],
   "source": [
    "#функция построение гистограмм\n",
    "hist_metal([[data_full['rougher.input.feed_au'] +\n",
    "           data_full['rougher.input.feed_ag'] +\n",
    "           data_full['rougher.input.feed_pb'] +\n",
    "           data_full['rougher.input.feed_sol'], 'Исходное сырьё'],\n",
    "           [data_full['rougher.output.concentrate_au'] +\n",
    "           data_full['rougher.output.concentrate_ag'] +\n",
    "           data_full['rougher.output.concentrate_pb'] +\n",
    "           data_full['rougher.output.concentrate_sol'], 'После флотации'],\n",
    "           [data_full['final.output.concentrate_au'] +\n",
    "           data_full['final.output.concentrate_ag'] +\n",
    "           data_full['final.output.concentrate_pb'] +\n",
    "           data_full['final.output.concentrate_sol'], 'Финальный концентрат']], 'Вещества: золото, серебро, свинец, раствор')"
   ]
  },
  {
   "cell_type": "markdown",
   "metadata": {},
   "source": [
    "На гистограммах есть редкие значения в 0. Нужно отбросить эти данные для эффективности обучения модели."
   ]
  },
  {
   "cell_type": "markdown",
   "metadata": {},
   "source": [
    "Выведем размер выборок."
   ]
  },
  {
   "cell_type": "code",
   "execution_count": 20,
   "metadata": {},
   "outputs": [
    {
     "data": {
      "text/plain": [
       "(5290, 52)"
      ]
     },
     "metadata": {},
     "output_type": "display_data"
    },
    {
     "data": {
      "text/plain": [
       "(14149, 87)"
      ]
     },
     "metadata": {},
     "output_type": "display_data"
    }
   ],
   "source": [
    "display(data_test.shape)\n",
    "display(data_train.shape)"
   ]
  },
  {
   "cell_type": "markdown",
   "metadata": {},
   "source": [
    "Отбросим нулевые значения из обучающей и тестовой выборок."
   ]
  },
  {
   "cell_type": "code",
   "execution_count": 21,
   "metadata": {},
   "outputs": [
    {
     "data": {
      "text/plain": [
       "(5154, 52)"
      ]
     },
     "metadata": {},
     "output_type": "display_data"
    },
    {
     "data": {
      "text/plain": [
       "(13795, 87)"
      ]
     },
     "metadata": {},
     "output_type": "display_data"
    }
   ],
   "source": [
    "#столбцы, по которым отбрасываем 0 (исходное сырье)\n",
    "features_input_concentrate = ['rougher.input.feed_au', \n",
    "                              'rougher.input.feed_ag', \n",
    "                              'rougher.input.feed_pb', \n",
    "                              'rougher.input.feed_sol']\n",
    "\n",
    "#столбцы, по которым отбрасываем 0 (после флотации)\n",
    "features_output_concentrate = ['rougher.output.concentrate_au',\n",
    "                                'rougher.output.concentrate_ag',\n",
    "                                'rougher.output.concentrate_pb',\n",
    "                                'rougher.output.concentrate_sol']\n",
    "\n",
    "#столбцы, по которым отбрасываем 0 (финальный концентрат)\n",
    "features_final_concentrate = ['final.output.concentrate_au',\n",
    "                              'final.output.concentrate_ag',\n",
    "                              'final.output.concentrate_pb',\n",
    "                              'final.output.concentrate_sol']\n",
    "\n",
    "#отбрасываем на обучающей выборке\n",
    "data_train = data_train[data_train[features_input_concentrate].sum(1) > 0]\n",
    "data_train = data_train[data_train[features_output_concentrate].sum(1) > 0]\n",
    "data_train = data_train[data_train[features_final_concentrate].sum(1) > 0]\n",
    "\n",
    "#отбрасываем на тестовой выборке\n",
    "data_test = data_test[data_full[features_input_concentrate].sum(1) > 0]\n",
    "data_test = data_test[data_full[features_output_concentrate].sum(1) > 0]\n",
    "data_test = data_test[data_full[features_final_concentrate].sum(1) > 0]\n",
    "\n",
    "display(data_test.shape)\n",
    "display(data_train.shape)"
   ]
  },
  {
   "cell_type": "markdown",
   "metadata": {},
   "source": [
    "###### Вывод"
   ]
  },
  {
   "cell_type": "markdown",
   "metadata": {},
   "source": [
    "Изучив распределения суммарных концентраций всех веществ на разных стадиях: в сырье, в черновом и финальном концентратах, выявили аномальные нулевые значения. Так как аномальные данные способны значительно ухудшить работу моделей, решено было удалить. "
   ]
  },
  {
   "cell_type": "markdown",
   "metadata": {},
   "source": [
    "## Модель"
   ]
  },
  {
   "cell_type": "markdown",
   "metadata": {},
   "source": [
    "### Функция для вычисления итоговой sMAPE."
   ]
  },
  {
   "cell_type": "markdown",
   "metadata": {},
   "source": [
    "Метрика sMAPE вычисляется так:\n",
    "    \n",
    "    smape = 1 / len(target) * sum(|target - predictions| / ((|target| + |predictions|) / 2) * 100\n",
    "                                  \n",
    "Обозначения:\n",
    "\n",
    "    target - значение целевого признака\n",
    "    predictions - значение предсказания\n",
    "    len - количество объектов в выборке.\n",
    "    sum - суммирование по всем объектам выборки.\n",
    "   "
   ]
  },
  {
   "cell_type": "markdown",
   "metadata": {},
   "source": [
    "Напишем функцию для вычисления sMAPE."
   ]
  },
  {
   "cell_type": "code",
   "execution_count": 22,
   "metadata": {},
   "outputs": [],
   "source": [
    "def calc_smape(target, predictions):\n",
    "    diff_tp = np.abs(target - predictions) #разность по модулю target и predictions\n",
    "    mean_tr = (np.abs(target) + np.abs(predictions)) / 2 #среднее target и predictions\n",
    "    smape = 1 / len(target) * np.sum(diff_tp / mean_tr) * 100\n",
    "    return smape"
   ]
  },
  {
   "cell_type": "markdown",
   "metadata": {},
   "source": [
    "Итоговая метрика складывается из двух величин:\n",
    "    \n",
    "    final_smape = 0.25 * smape(rougher) + 0.75 * smape(final)\n",
    "\n",
    "Обозначения:\n",
    "    \n",
    "    smape(rougher) - эффективность обогащения чернового концентрата rougher.output.recovery\n",
    "    smape(final) - эффективность обогащения финального концентрата final.output.recovery."
   ]
  },
  {
   "cell_type": "markdown",
   "metadata": {},
   "source": [
    "Напишем функцию для вычисления итоговой sMAPE."
   ]
  },
  {
   "cell_type": "code",
   "execution_count": 23,
   "metadata": {},
   "outputs": [],
   "source": [
    "def calc_final_smape(target, predictions):\n",
    "    target_rougher = target['rougher.output.recovery'] #определим target для rougher\n",
    "    target_final = target['final.output.recovery'] #определим target для final\n",
    "    predictions_rougher = predictions[:, 0] #определим predictions для rougher\n",
    "    predictions_final = predictions[:, 1] #определим predictions для final\n",
    "    final_smape = 0.25 * calc_smape(target_rougher, predictions_rougher) + 0.75 * calc_smape(target_final, predictions_final)\n",
    "    return final_smape"
   ]
  },
  {
   "cell_type": "markdown",
   "metadata": {},
   "source": [
    "Сохраним функцию в переменной smape_scorer."
   ]
  },
  {
   "cell_type": "code",
   "execution_count": 24,
   "metadata": {},
   "outputs": [
    {
     "data": {
      "text/plain": [
       "make_scorer(calc_final_smape, greater_is_better=False)"
      ]
     },
     "execution_count": 24,
     "metadata": {},
     "output_type": "execute_result"
    }
   ],
   "source": [
    "smape_scorer = make_scorer(calc_final_smape, greater_is_better=False)\n",
    "smape_scorer"
   ]
  },
  {
   "cell_type": "markdown",
   "metadata": {},
   "source": [
    "### Обучение разных моделей и оценка их качества кросс-валидацией. Проверка лучшей модели на тестовой выборке."
   ]
  },
  {
   "cell_type": "markdown",
   "metadata": {},
   "source": [
    "На  этапе анализа признаков, недоступных в тестовой выборке, были выявлены признаки, необходимые для удаления из обучающей выборки.\n",
    "\n",
    "Удалим эти столбцы и обозначим признаки и цель. В нашем случае целевыми признаками являются 'rougher.output.recovery', 'final.output.recovery'."
   ]
  },
  {
   "cell_type": "code",
   "execution_count": 25,
   "metadata": {},
   "outputs": [],
   "source": [
    "columns_features = data_train.drop(columns_diff, axis = 1).columns #удалим столбцы из обучающей выборки и запишем оставшиеся в columns_features\n",
    "columns_target = ['rougher.output.recovery', 'final.output.recovery'] #запишем целевые признаки в columns_target\n",
    "\n",
    "features_train = data_train[columns_features].reset_index(drop = True) #определим признаки для обучающей выборки\n",
    "target_train = data_train[columns_target].reset_index(drop = True) #определим целевые признаки для обучающей выборки\n",
    "\n",
    "target_test = data_full[columns_target].loc[data_test.index] #определим целевые признаки для тестовой выборки\n",
    "features_test = data_test.reset_index(drop = True) #определим признаки для тестовой выборки"
   ]
  },
  {
   "cell_type": "markdown",
   "metadata": {},
   "source": [
    "Проверим размеры выборок."
   ]
  },
  {
   "cell_type": "code",
   "execution_count": 26,
   "metadata": {},
   "outputs": [
    {
     "name": "stdout",
     "output_type": "stream",
     "text": [
      "(13795, 52) (13795, 2)\n",
      "(5154, 52) (5154, 2)\n"
     ]
    }
   ],
   "source": [
    "print(features_train.shape, target_train.shape)\n",
    "print(features_test.shape, target_test.shape)"
   ]
  },
  {
   "cell_type": "markdown",
   "metadata": {},
   "source": [
    "###### Модель дерева решений"
   ]
  },
  {
   "cell_type": "markdown",
   "metadata": {},
   "source": [
    "Применим метод GridSearchCV для выявления наилучших гиперпараметров для модели дерева решений и расчета итоговой smape."
   ]
  },
  {
   "cell_type": "code",
   "execution_count": 27,
   "metadata": {},
   "outputs": [
    {
     "name": "stdout",
     "output_type": "stream",
     "text": [
      "Лучшее значение метрики smape для модели дерева решений: 8.987481089659127\n",
      "Лучшие параметры для модели дерева решений: {'max_depth': 1}\n"
     ]
    }
   ],
   "source": [
    "model_dt = DecisionTreeRegressor(random_state=12345)\n",
    "params = {'max_depth' : range(1,10)} #определим гиперпараметры\n",
    "\n",
    "grid = GridSearchCV(model_dt, params, scoring=smape_scorer, cv=5, n_jobs=-1) #применим GridSearchCV для модели model_dt\n",
    "grid.fit(features_train, target_train) #обучим модель\n",
    "\n",
    "print('Лучшее значение метрики smape для модели дерева решений:', -grid.best_score_) #выведем наилучший показатель\n",
    "print('Лучшие параметры для модели дерева решений:', grid.best_params_) #выведем наилучшие параметры"
   ]
  },
  {
   "cell_type": "markdown",
   "metadata": {},
   "source": [
    "###### Модель случайного леса"
   ]
  },
  {
   "cell_type": "markdown",
   "metadata": {},
   "source": [
    "Применим метод RandomizedSearchCV для выявления наилучших гиперпараметров для модели случайного леса и расчета итоговой smape."
   ]
  },
  {
   "cell_type": "code",
   "execution_count": 28,
   "metadata": {},
   "outputs": [
    {
     "name": "stdout",
     "output_type": "stream",
     "text": [
      "Лучшее значение метрики smape для модели случайного леса: 8.824893322706567\n",
      "Лучшие параметры для модели случайного леса {'n_estimators': 10, 'max_depth': 3}\n"
     ]
    }
   ],
   "source": [
    "model_rf = RandomForestRegressor(random_state=12345)\n",
    "params = {'n_estimators' : range(10,20,5), #определим гиперпараметры\n",
    "          'max_depth' : range(1,16,2)}\n",
    "\n",
    "grid = RandomizedSearchCV(model_rf, params, scoring=smape_scorer, cv=5, n_jobs=-1) #применим RandomizedSearchCV для модели model_rf\n",
    "grid.fit(features_train, target_train) #обучим модель\n",
    "\n",
    "print('Лучшее значение метрики smape для модели случайного леса:', -grid.best_score_) #выведем наилучший показатель\n",
    "print('Лучшие параметры для модели случайного леса', grid.best_params_) #выведем наилучшие параметры"
   ]
  },
  {
   "cell_type": "markdown",
   "metadata": {},
   "source": [
    "###### Модель линейной регрессии"
   ]
  },
  {
   "cell_type": "markdown",
   "metadata": {},
   "source": [
    "Применим метод cross_val_score для расчета итоговой smape модели линейной регрессии."
   ]
  },
  {
   "cell_type": "code",
   "execution_count": 29,
   "metadata": {},
   "outputs": [
    {
     "name": "stdout",
     "output_type": "stream",
     "text": [
      "Лучшее значение метрики smape для модели линейной регрессии: 10.059602069093554\n"
     ]
    }
   ],
   "source": [
    "model_lr = LinearRegression()\n",
    "smape = cross_val_score(model_lr, features_train, target_train, scoring = smape_scorer, cv=5) #вычислим итоговую smape\n",
    "smape = smape.mean() #найдем среднее smape\n",
    "\n",
    "print('Лучшее значение метрики smape для модели линейной регрессии:', -smape)"
   ]
  },
  {
   "cell_type": "markdown",
   "metadata": {},
   "source": [
    "###### Вывод"
   ]
  },
  {
   "cell_type": "markdown",
   "metadata": {},
   "source": [
    "Итак, качество модели решающего дерева при глубине 1 равно 8.99, качество модели случайного леса при количестве деревьев 10 и глубине 3 равно 8.82 и качество модели линейной регрессии равно 10.06.\n",
    "\n",
    "Самое лучшее качество у модели случайного леса."
   ]
  },
  {
   "cell_type": "markdown",
   "metadata": {},
   "source": [
    "###### Проверка наилучшей модели на тестовой выборке"
   ]
  },
  {
   "cell_type": "markdown",
   "metadata": {},
   "source": [
    "Проверим модель случайного леса на тестовой выборке."
   ]
  },
  {
   "cell_type": "code",
   "execution_count": 30,
   "metadata": {},
   "outputs": [
    {
     "data": {
      "text/plain": [
       "6.974180710095055"
      ]
     },
     "execution_count": 30,
     "metadata": {},
     "output_type": "execute_result"
    }
   ],
   "source": [
    "model_rf = RandomForestRegressor(random_state=12345, n_estimators=10, max_depth=3)\n",
    "model_rf.fit(features_train, target_train) #обучим модель\n",
    "predicted_test_rf = model_rf.predict(features_test) #получим предсказания модели\n",
    "smape_rf = calc_final_smape(target_test, predicted_test_rf) #вычислим итоговую smape\n",
    "smape_rf"
   ]
  },
  {
   "cell_type": "markdown",
   "metadata": {},
   "source": [
    "###### Вывод"
   ]
  },
  {
   "cell_type": "markdown",
   "metadata": {},
   "source": [
    "При проверке модели случайного леса на тестовой выборке значение метрики качества составила 6.97."
   ]
  },
  {
   "cell_type": "markdown",
   "metadata": {},
   "source": [
    "###### Проверка модели на адекватность"
   ]
  },
  {
   "cell_type": "markdown",
   "metadata": {},
   "source": [
    "Cравним модель со случайной, так мы сможем оценить её адекватность, или проверить на вменяемость. Для этого импортируем библиотеку DummyRegressor."
   ]
  },
  {
   "cell_type": "code",
   "execution_count": 31,
   "metadata": {},
   "outputs": [
    {
     "data": {
      "text/plain": [
       "7.766604067388526"
      ]
     },
     "execution_count": 31,
     "metadata": {},
     "output_type": "execute_result"
    }
   ],
   "source": [
    "dc_model = DummyRegressor()\n",
    "dc_model.fit(features_train, target_train) # обучим модель на тренировочной выборке\n",
    "predicted_test_dc = dc_model.predict(features_test) #получим предсказания модели\n",
    "smape_dc = calc_final_smape(target_test, predicted_test_dc) #вычислим итоговую smape\n",
    "smape_dc"
   ]
  },
  {
   "cell_type": "markdown",
   "metadata": {},
   "source": [
    "###### Вывод"
   ]
  },
  {
   "cell_type": "markdown",
   "metadata": {},
   "source": [
    "Значение метрики SMAPE нашей полученной модели ниже константной. Таким образом, модель адекватна."
   ]
  },
  {
   "cell_type": "markdown",
   "metadata": {},
   "source": [
    "## Общий вывод"
   ]
  },
  {
   "cell_type": "markdown",
   "metadata": {},
   "source": [
    "Таким образом, наилучшей моделью является модель случайного леса. Качество модели на обучающей выборке при количестве деревьев 10 и глубине 3 равно 8.82. Качество модели на тестовой выборке при количестве деревьев 10 и глубине 3 равно 6.97. После проверки модели на вменяемость, получили, что модель адекватна."
   ]
  },
  {
   "cell_type": "markdown",
   "metadata": {},
   "source": [
    "## Чек-лист готовности проекта"
   ]
  },
  {
   "cell_type": "markdown",
   "metadata": {},
   "source": [
    "- [x]  Jupyter Notebook открыт\n",
    "- [x]  Весь код выполняется без ошибок\n",
    "- [x]  Ячейки с кодом расположены в порядке выполнения\n",
    "- [x]  Выполнен шаг 1: данные подготовлены\n",
    "    - [x]  Проверена формула вычисления эффективности обогащения\n",
    "    - [x]  Проанализированы признаки, недоступные в тестовой выборке\n",
    "    - [x]  Проведена предобработка данных\n",
    "- [x]  Выполнен шаг 2: данные проанализированы\n",
    "    - [x]  Исследовано изменение концентрации элементов на каждом этапе\n",
    "    - [x]  Проанализированы распределения размеров гранул на обучающей и тестовой выборках\n",
    "    - [x]  Исследованы суммарные концентрации\n",
    "- [x]  Выполнен шаг 3: построена модель прогнозирования\n",
    "    - [x]  Написана функция для вычисления итогового *sMAPE*\n",
    "    - [x]  Обучено и проверено несколько моделей\n",
    "    - [x]  Выбрана лучшая модель, её качество проверено на тестовой выборке"
   ]
  }
 ],
 "metadata": {
  "ExecuteTimeLog": [
   {
    "duration": 1155,
    "start_time": "2022-04-18T08:07:40.294Z"
   },
   {
    "duration": 628,
    "start_time": "2022-04-18T08:07:41.451Z"
   },
   {
    "duration": 3,
    "start_time": "2022-04-18T08:07:42.814Z"
   },
   {
    "duration": 350,
    "start_time": "2022-04-18T08:07:43.563Z"
   },
   {
    "duration": 158,
    "start_time": "2022-04-18T08:07:46.338Z"
   },
   {
    "duration": 333,
    "start_time": "2022-04-18T08:07:48.253Z"
   },
   {
    "duration": 1126,
    "start_time": "2022-04-18T16:44:20.436Z"
   },
   {
    "duration": 1215,
    "start_time": "2022-04-18T16:44:21.563Z"
   },
   {
    "duration": 3,
    "start_time": "2022-04-18T16:44:22.780Z"
   },
   {
    "duration": 374,
    "start_time": "2022-04-18T16:44:22.785Z"
   },
   {
    "duration": 166,
    "start_time": "2022-04-18T16:44:23.715Z"
   },
   {
    "duration": 494,
    "start_time": "2022-04-18T16:44:24.399Z"
   },
   {
    "duration": 143,
    "start_time": "2022-04-18T16:44:31.821Z"
   },
   {
    "duration": 3,
    "start_time": "2022-04-18T16:46:03.069Z"
   },
   {
    "duration": 6,
    "start_time": "2022-04-18T16:46:10.333Z"
   },
   {
    "duration": 3,
    "start_time": "2022-04-18T16:46:38.701Z"
   },
   {
    "duration": 6,
    "start_time": "2022-04-18T16:46:39.546Z"
   },
   {
    "duration": 4,
    "start_time": "2022-04-18T16:49:50.906Z"
   },
   {
    "duration": 6,
    "start_time": "2022-04-18T16:49:51.781Z"
   },
   {
    "duration": 8,
    "start_time": "2022-04-18T16:53:01.326Z"
   },
   {
    "duration": 7,
    "start_time": "2022-04-18T16:53:12.279Z"
   },
   {
    "duration": 8,
    "start_time": "2022-04-18T16:53:25.547Z"
   },
   {
    "duration": 7,
    "start_time": "2022-04-18T16:54:10.422Z"
   },
   {
    "duration": 7,
    "start_time": "2022-04-18T16:55:27.485Z"
   },
   {
    "duration": 5,
    "start_time": "2022-04-18T16:55:39.572Z"
   },
   {
    "duration": 8,
    "start_time": "2022-04-18T16:56:22.860Z"
   },
   {
    "duration": 8,
    "start_time": "2022-04-18T16:56:29.935Z"
   },
   {
    "duration": 8,
    "start_time": "2022-04-18T16:56:41.487Z"
   },
   {
    "duration": 7,
    "start_time": "2022-04-18T16:56:52.820Z"
   },
   {
    "duration": 1576,
    "start_time": "2022-04-18T20:08:14.518Z"
   },
   {
    "duration": 912,
    "start_time": "2022-04-18T20:08:16.098Z"
   },
   {
    "duration": 6,
    "start_time": "2022-04-18T20:08:17.013Z"
   },
   {
    "duration": 556,
    "start_time": "2022-04-18T20:08:17.021Z"
   },
   {
    "duration": 252,
    "start_time": "2022-04-18T20:08:17.580Z"
   },
   {
    "duration": 524,
    "start_time": "2022-04-18T20:08:17.835Z"
   },
   {
    "duration": 136,
    "start_time": "2022-04-18T20:08:18.361Z"
   },
   {
    "duration": 0,
    "start_time": "2022-04-18T20:08:18.502Z"
   },
   {
    "duration": 0,
    "start_time": "2022-04-18T20:08:18.505Z"
   },
   {
    "duration": 0,
    "start_time": "2022-04-18T20:08:18.507Z"
   },
   {
    "duration": 3,
    "start_time": "2022-04-18T20:08:27.439Z"
   },
   {
    "duration": 10,
    "start_time": "2022-04-18T20:08:28.143Z"
   },
   {
    "duration": 5,
    "start_time": "2022-04-18T20:08:29.793Z"
   },
   {
    "duration": 12,
    "start_time": "2022-04-18T20:08:36.885Z"
   },
   {
    "duration": 12,
    "start_time": "2022-04-18T20:09:42.743Z"
   },
   {
    "duration": 12,
    "start_time": "2022-04-18T20:09:54.884Z"
   },
   {
    "duration": 30,
    "start_time": "2022-04-18T20:19:36.835Z"
   },
   {
    "duration": 15,
    "start_time": "2022-04-18T20:19:38.037Z"
   },
   {
    "duration": 38,
    "start_time": "2022-04-18T20:30:20.228Z"
   },
   {
    "duration": 45,
    "start_time": "2022-04-18T20:38:50.772Z"
   },
   {
    "duration": 1569,
    "start_time": "2022-04-18T20:38:59.581Z"
   },
   {
    "duration": 793,
    "start_time": "2022-04-18T20:39:01.152Z"
   },
   {
    "duration": 4,
    "start_time": "2022-04-18T20:39:01.947Z"
   },
   {
    "duration": 532,
    "start_time": "2022-04-18T20:39:01.953Z"
   },
   {
    "duration": 287,
    "start_time": "2022-04-18T20:39:02.487Z"
   },
   {
    "duration": 445,
    "start_time": "2022-04-18T20:39:02.776Z"
   },
   {
    "duration": 4,
    "start_time": "2022-04-18T20:39:03.223Z"
   },
   {
    "duration": 17,
    "start_time": "2022-04-18T20:39:03.230Z"
   },
   {
    "duration": 208,
    "start_time": "2022-04-18T20:39:03.249Z"
   },
   {
    "duration": 0,
    "start_time": "2022-04-18T20:39:03.459Z"
   },
   {
    "duration": 0,
    "start_time": "2022-04-18T20:39:03.460Z"
   },
   {
    "duration": 6,
    "start_time": "2022-04-18T20:39:25.578Z"
   },
   {
    "duration": 73,
    "start_time": "2022-04-18T21:05:32.568Z"
   },
   {
    "duration": 7,
    "start_time": "2022-04-18T21:05:53.035Z"
   },
   {
    "duration": 10,
    "start_time": "2022-04-18T21:05:57.811Z"
   },
   {
    "duration": 7,
    "start_time": "2022-04-18T21:06:08.488Z"
   },
   {
    "duration": 1358,
    "start_time": "2022-04-18T21:06:15.466Z"
   },
   {
    "duration": 810,
    "start_time": "2022-04-18T21:06:16.826Z"
   },
   {
    "duration": 4,
    "start_time": "2022-04-18T21:06:17.638Z"
   },
   {
    "duration": 491,
    "start_time": "2022-04-18T21:06:17.644Z"
   },
   {
    "duration": 237,
    "start_time": "2022-04-18T21:06:18.139Z"
   },
   {
    "duration": 468,
    "start_time": "2022-04-18T21:06:18.378Z"
   },
   {
    "duration": 4,
    "start_time": "2022-04-18T21:06:18.848Z"
   },
   {
    "duration": 14,
    "start_time": "2022-04-18T21:06:18.853Z"
   },
   {
    "duration": 27,
    "start_time": "2022-04-18T21:06:18.869Z"
   },
   {
    "duration": 161,
    "start_time": "2022-04-18T21:06:18.899Z"
   },
   {
    "duration": 0,
    "start_time": "2022-04-18T21:06:19.061Z"
   },
   {
    "duration": 0,
    "start_time": "2022-04-18T21:06:19.063Z"
   },
   {
    "duration": 1375,
    "start_time": "2022-04-18T21:07:00.519Z"
   },
   {
    "duration": 817,
    "start_time": "2022-04-18T21:07:01.902Z"
   },
   {
    "duration": 4,
    "start_time": "2022-04-18T21:07:02.725Z"
   },
   {
    "duration": 477,
    "start_time": "2022-04-18T21:07:02.732Z"
   },
   {
    "duration": 220,
    "start_time": "2022-04-18T21:07:03.211Z"
   },
   {
    "duration": 507,
    "start_time": "2022-04-18T21:07:03.433Z"
   },
   {
    "duration": 51,
    "start_time": "2022-04-18T21:07:03.942Z"
   },
   {
    "duration": 29,
    "start_time": "2022-04-18T21:07:03.996Z"
   },
   {
    "duration": 361,
    "start_time": "2022-04-18T21:07:04.032Z"
   },
   {
    "duration": 0,
    "start_time": "2022-04-18T21:07:04.395Z"
   },
   {
    "duration": 0,
    "start_time": "2022-04-18T21:07:04.396Z"
   },
   {
    "duration": 0,
    "start_time": "2022-04-18T21:07:04.397Z"
   },
   {
    "duration": 6,
    "start_time": "2022-04-18T21:10:30.190Z"
   },
   {
    "duration": 4,
    "start_time": "2022-04-18T21:13:42.411Z"
   },
   {
    "duration": 771,
    "start_time": "2022-04-18T21:13:43.449Z"
   },
   {
    "duration": 3,
    "start_time": "2022-04-18T21:13:44.345Z"
   },
   {
    "duration": 207,
    "start_time": "2022-04-18T21:13:50.911Z"
   },
   {
    "duration": 444,
    "start_time": "2022-04-18T21:14:00.193Z"
   },
   {
    "duration": 3,
    "start_time": "2022-04-18T21:14:04.659Z"
   },
   {
    "duration": 8,
    "start_time": "2022-04-18T21:14:05.629Z"
   },
   {
    "duration": 40,
    "start_time": "2022-04-18T21:14:32.930Z"
   },
   {
    "duration": 32,
    "start_time": "2022-04-18T21:16:08.426Z"
   },
   {
    "duration": 37,
    "start_time": "2022-04-18T21:19:12.318Z"
   },
   {
    "duration": 29,
    "start_time": "2022-04-18T21:19:51.851Z"
   },
   {
    "duration": 9,
    "start_time": "2022-04-18T21:19:58.045Z"
   },
   {
    "duration": 13,
    "start_time": "2022-04-18T21:20:08.486Z"
   },
   {
    "duration": 632,
    "start_time": "2022-04-18T21:20:30.477Z"
   },
   {
    "duration": 10,
    "start_time": "2022-04-18T21:21:34.557Z"
   },
   {
    "duration": 10,
    "start_time": "2022-04-18T21:21:48.740Z"
   },
   {
    "duration": 14,
    "start_time": "2022-04-18T21:22:09.992Z"
   },
   {
    "duration": 12,
    "start_time": "2022-04-18T21:22:30.539Z"
   },
   {
    "duration": 13,
    "start_time": "2022-04-18T21:22:59.264Z"
   },
   {
    "duration": 7,
    "start_time": "2022-04-18T21:25:52.899Z"
   },
   {
    "duration": 14,
    "start_time": "2022-04-18T21:25:53.712Z"
   },
   {
    "duration": 5,
    "start_time": "2022-04-18T21:41:42.343Z"
   },
   {
    "duration": 39,
    "start_time": "2022-04-18T21:45:18.358Z"
   },
   {
    "duration": 35,
    "start_time": "2022-04-18T21:45:27.584Z"
   },
   {
    "duration": 19,
    "start_time": "2022-04-18T21:45:39.293Z"
   },
   {
    "duration": 364,
    "start_time": "2022-04-18T21:49:24.083Z"
   },
   {
    "duration": 286,
    "start_time": "2022-04-18T21:49:58.826Z"
   },
   {
    "duration": 1358,
    "start_time": "2022-04-18T21:50:52.315Z"
   },
   {
    "duration": 817,
    "start_time": "2022-04-18T21:50:53.676Z"
   },
   {
    "duration": 6,
    "start_time": "2022-04-18T21:50:54.496Z"
   },
   {
    "duration": 591,
    "start_time": "2022-04-18T21:50:54.505Z"
   },
   {
    "duration": 237,
    "start_time": "2022-04-18T21:50:55.098Z"
   },
   {
    "duration": 440,
    "start_time": "2022-04-18T21:50:55.336Z"
   },
   {
    "duration": 4,
    "start_time": "2022-04-18T21:50:55.778Z"
   },
   {
    "duration": 135,
    "start_time": "2022-04-18T21:50:55.783Z"
   },
   {
    "duration": 34,
    "start_time": "2022-04-18T21:50:55.920Z"
   },
   {
    "duration": 56,
    "start_time": "2022-04-18T21:50:55.957Z"
   },
   {
    "duration": 671,
    "start_time": "2022-04-18T21:50:56.015Z"
   },
   {
    "duration": 37,
    "start_time": "2022-04-18T21:50:56.688Z"
   },
   {
    "duration": 35,
    "start_time": "2022-04-18T21:50:56.727Z"
   },
   {
    "duration": 5,
    "start_time": "2022-04-18T21:50:56.764Z"
   },
   {
    "duration": 131,
    "start_time": "2022-04-18T21:50:56.794Z"
   },
   {
    "duration": 0,
    "start_time": "2022-04-18T21:50:56.927Z"
   },
   {
    "duration": 0,
    "start_time": "2022-04-18T21:50:56.928Z"
   },
   {
    "duration": 0,
    "start_time": "2022-04-18T21:50:56.929Z"
   },
   {
    "duration": 231,
    "start_time": "2022-04-18T21:51:28.755Z"
   },
   {
    "duration": 274,
    "start_time": "2022-04-18T21:51:47.589Z"
   },
   {
    "duration": 274,
    "start_time": "2022-04-18T21:52:04.056Z"
   },
   {
    "duration": 349,
    "start_time": "2022-04-18T21:52:12.181Z"
   },
   {
    "duration": 16,
    "start_time": "2022-04-18T21:56:28.930Z"
   },
   {
    "duration": 4,
    "start_time": "2022-04-18T21:57:06.572Z"
   },
   {
    "duration": 2056,
    "start_time": "2022-04-18T21:57:16.005Z"
   },
   {
    "duration": 316,
    "start_time": "2022-04-18T22:01:43.540Z"
   },
   {
    "duration": 4,
    "start_time": "2022-04-18T22:01:48.866Z"
   },
   {
    "duration": 2182,
    "start_time": "2022-04-18T22:02:46.510Z"
   },
   {
    "duration": 158,
    "start_time": "2022-04-18T22:03:15.125Z"
   },
   {
    "duration": 4,
    "start_time": "2022-04-18T22:03:48.514Z"
   },
   {
    "duration": 619,
    "start_time": "2022-04-18T22:03:50.424Z"
   },
   {
    "duration": 735,
    "start_time": "2022-04-18T22:03:53.450Z"
   },
   {
    "duration": 632,
    "start_time": "2022-04-18T22:03:55.045Z"
   },
   {
    "duration": 2323,
    "start_time": "2022-04-19T14:32:46.801Z"
   },
   {
    "duration": 1125,
    "start_time": "2022-04-19T14:32:49.128Z"
   },
   {
    "duration": 7,
    "start_time": "2022-04-19T14:32:50.255Z"
   },
   {
    "duration": 595,
    "start_time": "2022-04-19T14:32:50.266Z"
   },
   {
    "duration": 289,
    "start_time": "2022-04-19T14:32:50.863Z"
   },
   {
    "duration": 866,
    "start_time": "2022-04-19T14:32:51.155Z"
   },
   {
    "duration": 6,
    "start_time": "2022-04-19T14:32:52.024Z"
   },
   {
    "duration": 18,
    "start_time": "2022-04-19T14:32:52.033Z"
   },
   {
    "duration": 6,
    "start_time": "2022-04-19T14:32:52.053Z"
   },
   {
    "duration": 53,
    "start_time": "2022-04-19T14:32:52.095Z"
   },
   {
    "duration": 75,
    "start_time": "2022-04-19T14:32:52.150Z"
   },
   {
    "duration": 357,
    "start_time": "2022-04-19T14:32:52.227Z"
   },
   {
    "duration": 19,
    "start_time": "2022-04-19T14:32:52.586Z"
   },
   {
    "duration": 7,
    "start_time": "2022-04-19T14:32:52.611Z"
   },
   {
    "duration": 1127,
    "start_time": "2022-04-19T14:32:52.621Z"
   },
   {
    "duration": 1347,
    "start_time": "2022-04-19T14:32:53.750Z"
   },
   {
    "duration": 1021,
    "start_time": "2022-04-19T14:32:55.100Z"
   },
   {
    "duration": 210,
    "start_time": "2022-04-19T14:49:35.522Z"
   },
   {
    "duration": 209,
    "start_time": "2022-04-19T14:49:42.972Z"
   },
   {
    "duration": 6,
    "start_time": "2022-04-19T14:49:50.171Z"
   },
   {
    "duration": 791,
    "start_time": "2022-04-19T14:49:51.237Z"
   },
   {
    "duration": 8,
    "start_time": "2022-04-19T14:50:30.056Z"
   },
   {
    "duration": 976,
    "start_time": "2022-04-19T14:50:30.672Z"
   },
   {
    "duration": 46,
    "start_time": "2022-04-19T17:00:40.623Z"
   },
   {
    "duration": 5,
    "start_time": "2022-04-19T17:00:51.695Z"
   },
   {
    "duration": 6,
    "start_time": "2022-04-19T17:00:52.682Z"
   },
   {
    "duration": 1720,
    "start_time": "2022-04-19T17:01:02.196Z"
   },
   {
    "duration": 633,
    "start_time": "2022-04-19T17:01:03.918Z"
   },
   {
    "duration": 3,
    "start_time": "2022-04-19T17:01:04.553Z"
   },
   {
    "duration": 358,
    "start_time": "2022-04-19T17:01:04.558Z"
   },
   {
    "duration": 156,
    "start_time": "2022-04-19T17:01:04.917Z"
   },
   {
    "duration": 355,
    "start_time": "2022-04-19T17:01:05.075Z"
   },
   {
    "duration": 3,
    "start_time": "2022-04-19T17:01:10.043Z"
   },
   {
    "duration": 11,
    "start_time": "2022-04-19T17:01:10.505Z"
   },
   {
    "duration": 5,
    "start_time": "2022-04-19T17:01:14.320Z"
   },
   {
    "duration": 34,
    "start_time": "2022-04-19T17:01:17.818Z"
   },
   {
    "duration": 26,
    "start_time": "2022-04-19T17:01:21.708Z"
   },
   {
    "duration": 4,
    "start_time": "2022-04-19T17:01:37.015Z"
   },
   {
    "duration": 3542,
    "start_time": "2022-04-19T17:01:37.807Z"
   },
   {
    "duration": 25,
    "start_time": "2022-04-19T17:02:10.400Z"
   },
   {
    "duration": 553,
    "start_time": "2022-04-19T17:03:29.155Z"
   },
   {
    "duration": 5,
    "start_time": "2022-04-19T17:09:20.879Z"
   },
   {
    "duration": 4,
    "start_time": "2022-04-19T17:09:32.410Z"
   },
   {
    "duration": 4,
    "start_time": "2022-04-19T17:10:02.101Z"
   },
   {
    "duration": 4,
    "start_time": "2022-04-19T17:10:21.546Z"
   },
   {
    "duration": 511,
    "start_time": "2022-04-19T17:10:38.411Z"
   },
   {
    "duration": 11,
    "start_time": "2022-04-19T17:17:37.808Z"
   },
   {
    "duration": 124,
    "start_time": "2022-04-19T17:18:13.566Z"
   },
   {
    "duration": 194,
    "start_time": "2022-04-19T17:18:45.728Z"
   },
   {
    "duration": 154,
    "start_time": "2022-04-19T17:19:33.703Z"
   },
   {
    "duration": 3101,
    "start_time": "2022-04-19T17:24:14.474Z"
   },
   {
    "duration": 420,
    "start_time": "2022-04-19T17:27:37.757Z"
   },
   {
    "duration": 29,
    "start_time": "2022-04-19T17:28:54.214Z"
   },
   {
    "duration": 1619,
    "start_time": "2022-04-19T19:58:31.186Z"
   },
   {
    "duration": 0,
    "start_time": "2022-04-19T19:58:32.807Z"
   },
   {
    "duration": 0,
    "start_time": "2022-04-19T19:58:32.808Z"
   },
   {
    "duration": 12,
    "start_time": "2022-04-19T19:59:32.127Z"
   },
   {
    "duration": 656,
    "start_time": "2022-04-19T19:59:33.318Z"
   },
   {
    "duration": 4,
    "start_time": "2022-04-19T19:59:33.976Z"
   },
   {
    "duration": 3,
    "start_time": "2022-04-19T19:59:38.856Z"
   },
   {
    "duration": 10,
    "start_time": "2022-04-19T19:59:38.873Z"
   },
   {
    "duration": 4,
    "start_time": "2022-04-19T19:59:41.522Z"
   },
   {
    "duration": 10,
    "start_time": "2022-04-19T19:59:45.515Z"
   },
   {
    "duration": 33,
    "start_time": "2022-04-19T20:00:23.677Z"
   },
   {
    "duration": 18,
    "start_time": "2022-04-19T20:01:31.346Z"
   },
   {
    "duration": 668,
    "start_time": "2022-04-19T20:02:46.325Z"
   },
   {
    "duration": 3,
    "start_time": "2022-04-19T20:02:47.643Z"
   },
   {
    "duration": 348,
    "start_time": "2022-04-19T20:02:48.286Z"
   },
   {
    "duration": 3,
    "start_time": "2022-04-19T20:03:13.205Z"
   },
   {
    "duration": 9,
    "start_time": "2022-04-19T20:03:13.795Z"
   },
   {
    "duration": 5,
    "start_time": "2022-04-19T20:03:16.209Z"
   },
   {
    "duration": 23,
    "start_time": "2022-04-19T20:03:20.813Z"
   },
   {
    "duration": 11,
    "start_time": "2022-04-19T20:03:23.865Z"
   },
   {
    "duration": 28,
    "start_time": "2022-04-19T20:03:44.921Z"
   },
   {
    "duration": 4,
    "start_time": "2022-04-19T20:04:01.177Z"
   },
   {
    "duration": 5,
    "start_time": "2022-04-19T20:04:03.829Z"
   },
   {
    "duration": 24,
    "start_time": "2022-04-19T20:04:07.520Z"
   },
   {
    "duration": 515,
    "start_time": "2022-04-19T20:04:14.710Z"
   },
   {
    "duration": 610,
    "start_time": "2022-04-19T20:04:27.008Z"
   },
   {
    "duration": 510,
    "start_time": "2022-04-19T20:04:32.565Z"
   },
   {
    "duration": 172,
    "start_time": "2022-04-19T20:04:42.624Z"
   },
   {
    "duration": 239,
    "start_time": "2022-04-19T20:04:55.185Z"
   },
   {
    "duration": 416,
    "start_time": "2022-04-19T20:05:07.133Z"
   },
   {
    "duration": 33,
    "start_time": "2022-04-19T20:06:21.375Z"
   },
   {
    "duration": 4,
    "start_time": "2022-04-19T20:09:25.186Z"
   },
   {
    "duration": 709,
    "start_time": "2022-04-19T20:09:26.139Z"
   },
   {
    "duration": 4,
    "start_time": "2022-04-19T20:09:27.550Z"
   },
   {
    "duration": 361,
    "start_time": "2022-04-19T20:09:28.219Z"
   },
   {
    "duration": 160,
    "start_time": "2022-04-19T20:09:29.625Z"
   },
   {
    "duration": 348,
    "start_time": "2022-04-19T20:09:30.820Z"
   },
   {
    "duration": 4,
    "start_time": "2022-04-19T20:09:38.738Z"
   },
   {
    "duration": 484,
    "start_time": "2022-04-19T20:09:46.264Z"
   },
   {
    "duration": 585,
    "start_time": "2022-04-19T20:09:51.439Z"
   },
   {
    "duration": 513,
    "start_time": "2022-04-19T20:10:04.706Z"
   },
   {
    "duration": 156,
    "start_time": "2022-04-19T20:10:10.727Z"
   },
   {
    "duration": 531,
    "start_time": "2022-04-19T20:10:15.101Z"
   },
   {
    "duration": 31,
    "start_time": "2022-04-19T20:10:19.095Z"
   },
   {
    "duration": 10,
    "start_time": "2022-04-19T20:10:25.942Z"
   },
   {
    "duration": 4,
    "start_time": "2022-04-19T20:10:28.158Z"
   },
   {
    "duration": 190,
    "start_time": "2022-04-19T20:10:31.101Z"
   },
   {
    "duration": 174,
    "start_time": "2022-04-19T20:10:43.662Z"
   },
   {
    "duration": 1298,
    "start_time": "2022-04-19T20:11:21.692Z"
   },
   {
    "duration": 10,
    "start_time": "2022-04-19T20:11:31.758Z"
   },
   {
    "duration": 10,
    "start_time": "2022-04-19T20:11:39.012Z"
   },
   {
    "duration": 4,
    "start_time": "2022-04-19T20:12:29.499Z"
   },
   {
    "duration": 630,
    "start_time": "2022-04-19T20:12:30.532Z"
   },
   {
    "duration": 4,
    "start_time": "2022-04-19T20:12:31.929Z"
   },
   {
    "duration": 3,
    "start_time": "2022-04-19T20:12:38.343Z"
   },
   {
    "duration": 9,
    "start_time": "2022-04-19T20:12:38.880Z"
   },
   {
    "duration": 4,
    "start_time": "2022-04-19T20:12:41.954Z"
   },
   {
    "duration": 18,
    "start_time": "2022-04-19T20:12:45.631Z"
   },
   {
    "duration": 11,
    "start_time": "2022-04-19T20:12:46.486Z"
   },
   {
    "duration": 27,
    "start_time": "2022-04-19T20:12:47.498Z"
   },
   {
    "duration": 5,
    "start_time": "2022-04-19T20:12:52.828Z"
   },
   {
    "duration": 23,
    "start_time": "2022-04-19T20:12:54.223Z"
   },
   {
    "duration": 528,
    "start_time": "2022-04-19T20:12:57.897Z"
   },
   {
    "duration": 522,
    "start_time": "2022-04-19T20:13:03.224Z"
   },
   {
    "duration": 658,
    "start_time": "2022-04-19T20:13:10.859Z"
   },
   {
    "duration": 161,
    "start_time": "2022-04-19T20:13:14.461Z"
   },
   {
    "duration": 440,
    "start_time": "2022-04-19T20:13:17.125Z"
   },
   {
    "duration": 33,
    "start_time": "2022-04-19T20:13:20.535Z"
   },
   {
    "duration": 33,
    "start_time": "2022-04-19T20:13:22.533Z"
   },
   {
    "duration": 9,
    "start_time": "2022-04-19T20:13:28.635Z"
   },
   {
    "duration": 4,
    "start_time": "2022-04-19T20:13:30.935Z"
   },
   {
    "duration": 7708,
    "start_time": "2022-04-19T20:13:44.726Z"
   },
   {
    "duration": 1584,
    "start_time": "2022-04-19T20:25:32.003Z"
   },
   {
    "duration": 700,
    "start_time": "2022-04-19T20:25:33.590Z"
   },
   {
    "duration": 3,
    "start_time": "2022-04-19T20:25:34.292Z"
   },
   {
    "duration": 3,
    "start_time": "2022-04-19T20:25:39.465Z"
   },
   {
    "duration": 18,
    "start_time": "2022-04-19T20:26:02.164Z"
   },
   {
    "duration": 106,
    "start_time": "2022-04-19T20:26:19.192Z"
   },
   {
    "duration": 5,
    "start_time": "2022-04-19T20:26:30.036Z"
   },
   {
    "duration": 29,
    "start_time": "2022-04-19T20:27:03.968Z"
   },
   {
    "duration": 29,
    "start_time": "2022-04-19T20:27:05.707Z"
   },
   {
    "duration": 5,
    "start_time": "2022-04-19T20:27:20.480Z"
   },
   {
    "duration": 505,
    "start_time": "2022-04-19T20:27:51.539Z"
   },
   {
    "duration": 584,
    "start_time": "2022-04-19T20:27:58.172Z"
   },
   {
    "duration": 522,
    "start_time": "2022-04-19T20:28:01.938Z"
   },
   {
    "duration": 172,
    "start_time": "2022-04-19T20:28:17.475Z"
   },
   {
    "duration": 493,
    "start_time": "2022-04-19T20:28:35.723Z"
   },
   {
    "duration": 15,
    "start_time": "2022-04-19T20:29:39.445Z"
   },
   {
    "duration": 33,
    "start_time": "2022-04-19T20:29:51.999Z"
   },
   {
    "duration": 30,
    "start_time": "2022-04-19T20:29:54.272Z"
   },
   {
    "duration": 4,
    "start_time": "2022-04-19T20:31:17.108Z"
   },
   {
    "duration": 7,
    "start_time": "2022-04-19T20:36:12.968Z"
   },
   {
    "duration": 3,
    "start_time": "2022-04-19T20:36:16.075Z"
   },
   {
    "duration": 7594,
    "start_time": "2022-04-19T20:36:19.665Z"
   },
   {
    "duration": 10,
    "start_time": "2022-04-19T20:36:41.534Z"
   },
   {
    "duration": 1786,
    "start_time": "2022-04-19T20:36:49.243Z"
   },
   {
    "duration": 1612,
    "start_time": "2022-04-19T20:40:54.829Z"
   },
   {
    "duration": 680,
    "start_time": "2022-04-19T20:40:58.929Z"
   },
   {
    "duration": 4,
    "start_time": "2022-04-19T20:40:59.918Z"
   },
   {
    "duration": 3,
    "start_time": "2022-04-19T20:41:04.421Z"
   },
   {
    "duration": 13,
    "start_time": "2022-04-19T20:41:05.018Z"
   },
   {
    "duration": 5,
    "start_time": "2022-04-19T20:41:07.982Z"
   },
   {
    "duration": 31,
    "start_time": "2022-04-19T20:41:20.090Z"
   },
   {
    "duration": 25,
    "start_time": "2022-04-19T20:41:44.482Z"
   },
   {
    "duration": 40,
    "start_time": "2022-04-19T20:41:45.818Z"
   },
   {
    "duration": 4,
    "start_time": "2022-04-19T20:41:49.184Z"
   },
   {
    "duration": 557,
    "start_time": "2022-04-19T20:41:52.125Z"
   },
   {
    "duration": 571,
    "start_time": "2022-04-19T20:41:56.333Z"
   },
   {
    "duration": 506,
    "start_time": "2022-04-19T20:41:59.467Z"
   },
   {
    "duration": 165,
    "start_time": "2022-04-19T20:42:02.608Z"
   },
   {
    "duration": 505,
    "start_time": "2022-04-19T20:42:05.394Z"
   },
   {
    "duration": 70,
    "start_time": "2022-04-19T20:42:09.183Z"
   },
   {
    "duration": 119,
    "start_time": "2022-04-19T20:42:23.601Z"
   },
   {
    "duration": 16,
    "start_time": "2022-04-19T20:42:45.305Z"
   },
   {
    "duration": 7,
    "start_time": "2022-04-19T20:42:58.129Z"
   },
   {
    "duration": 4,
    "start_time": "2022-04-19T20:43:01.454Z"
   },
   {
    "duration": 3,
    "start_time": "2022-04-19T20:43:10.560Z"
   },
   {
    "duration": 11509,
    "start_time": "2022-04-19T20:43:13.486Z"
   },
   {
    "duration": 10,
    "start_time": "2022-04-19T20:43:30.755Z"
   },
   {
    "duration": 2186,
    "start_time": "2022-04-19T20:43:38.832Z"
   },
   {
    "duration": 4,
    "start_time": "2022-04-19T20:56:39.883Z"
   },
   {
    "duration": 11316,
    "start_time": "2022-04-19T20:56:43.836Z"
   },
   {
    "duration": 4,
    "start_time": "2022-04-19T20:58:16.502Z"
   },
   {
    "duration": 11629,
    "start_time": "2022-04-19T20:58:19.004Z"
   },
   {
    "duration": 3,
    "start_time": "2022-04-19T20:58:46.868Z"
   },
   {
    "duration": 674,
    "start_time": "2022-04-19T20:58:47.476Z"
   },
   {
    "duration": 3,
    "start_time": "2022-04-19T20:58:48.945Z"
   },
   {
    "duration": 2,
    "start_time": "2022-04-19T20:58:53.116Z"
   },
   {
    "duration": 8,
    "start_time": "2022-04-19T20:58:53.176Z"
   },
   {
    "duration": 4,
    "start_time": "2022-04-19T20:58:55.349Z"
   },
   {
    "duration": 23,
    "start_time": "2022-04-19T20:58:59.431Z"
   },
   {
    "duration": 4,
    "start_time": "2022-04-19T20:59:07.800Z"
   },
   {
    "duration": 542,
    "start_time": "2022-04-19T20:59:11.207Z"
   },
   {
    "duration": 538,
    "start_time": "2022-04-19T20:59:16.099Z"
   },
   {
    "duration": 648,
    "start_time": "2022-04-19T20:59:19.297Z"
   },
   {
    "duration": 162,
    "start_time": "2022-04-19T20:59:22.339Z"
   },
   {
    "duration": 407,
    "start_time": "2022-04-19T20:59:25.101Z"
   },
   {
    "duration": 30,
    "start_time": "2022-04-19T20:59:28.129Z"
   },
   {
    "duration": 10,
    "start_time": "2022-04-19T20:59:50.205Z"
   },
   {
    "duration": 4,
    "start_time": "2022-04-19T20:59:57.302Z"
   },
   {
    "duration": 4,
    "start_time": "2022-04-19T21:00:04.195Z"
   },
   {
    "duration": 11472,
    "start_time": "2022-04-19T21:00:06.726Z"
   },
   {
    "duration": 7,
    "start_time": "2022-04-19T21:01:34.703Z"
   },
   {
    "duration": 3,
    "start_time": "2022-04-19T21:01:35.873Z"
   },
   {
    "duration": 6,
    "start_time": "2022-04-19T21:01:42.896Z"
   },
   {
    "duration": 7792,
    "start_time": "2022-04-19T21:01:48.951Z"
   },
   {
    "duration": 1900,
    "start_time": "2022-04-19T21:02:05.126Z"
   },
   {
    "duration": 227818,
    "start_time": "2022-04-19T21:02:20.505Z"
   },
   {
    "duration": 188,
    "start_time": "2022-04-19T21:06:11.624Z"
   },
   {
    "duration": 1457,
    "start_time": "2022-04-19T21:07:05.728Z"
   },
   {
    "duration": 667,
    "start_time": "2022-04-19T21:07:07.187Z"
   },
   {
    "duration": 3,
    "start_time": "2022-04-19T21:07:07.856Z"
   },
   {
    "duration": 109,
    "start_time": "2022-04-19T21:07:07.861Z"
   },
   {
    "duration": 0,
    "start_time": "2022-04-19T21:07:07.972Z"
   },
   {
    "duration": 0,
    "start_time": "2022-04-19T21:07:07.973Z"
   },
   {
    "duration": 0,
    "start_time": "2022-04-19T21:07:07.974Z"
   },
   {
    "duration": 1,
    "start_time": "2022-04-19T21:07:07.975Z"
   },
   {
    "duration": 0,
    "start_time": "2022-04-19T21:07:07.977Z"
   },
   {
    "duration": 0,
    "start_time": "2022-04-19T21:07:07.978Z"
   },
   {
    "duration": 0,
    "start_time": "2022-04-19T21:07:07.979Z"
   },
   {
    "duration": 0,
    "start_time": "2022-04-19T21:07:07.980Z"
   },
   {
    "duration": 0,
    "start_time": "2022-04-19T21:07:07.981Z"
   },
   {
    "duration": 0,
    "start_time": "2022-04-19T21:07:07.982Z"
   },
   {
    "duration": 0,
    "start_time": "2022-04-19T21:07:07.983Z"
   },
   {
    "duration": 0,
    "start_time": "2022-04-19T21:07:07.984Z"
   },
   {
    "duration": 0,
    "start_time": "2022-04-19T21:07:07.985Z"
   },
   {
    "duration": 0,
    "start_time": "2022-04-19T21:07:07.986Z"
   },
   {
    "duration": 0,
    "start_time": "2022-04-19T21:07:07.987Z"
   },
   {
    "duration": 0,
    "start_time": "2022-04-19T21:07:07.988Z"
   },
   {
    "duration": 0,
    "start_time": "2022-04-19T21:07:07.989Z"
   },
   {
    "duration": 0,
    "start_time": "2022-04-19T21:07:07.990Z"
   },
   {
    "duration": 0,
    "start_time": "2022-04-19T21:07:07.990Z"
   },
   {
    "duration": 0,
    "start_time": "2022-04-19T21:07:07.991Z"
   },
   {
    "duration": 0,
    "start_time": "2022-04-19T21:07:08.023Z"
   },
   {
    "duration": 0,
    "start_time": "2022-04-19T21:07:08.024Z"
   },
   {
    "duration": 0,
    "start_time": "2022-04-19T21:07:08.024Z"
   },
   {
    "duration": 0,
    "start_time": "2022-04-19T21:07:08.025Z"
   },
   {
    "duration": 0,
    "start_time": "2022-04-19T21:07:08.026Z"
   },
   {
    "duration": 346,
    "start_time": "2022-04-19T21:08:05.667Z"
   },
   {
    "duration": 160,
    "start_time": "2022-04-19T21:08:06.280Z"
   },
   {
    "duration": 330,
    "start_time": "2022-04-19T21:08:07.380Z"
   },
   {
    "duration": 3,
    "start_time": "2022-04-19T21:08:12.544Z"
   },
   {
    "duration": 13,
    "start_time": "2022-04-19T21:08:13.209Z"
   },
   {
    "duration": 4,
    "start_time": "2022-04-19T21:08:15.433Z"
   },
   {
    "duration": 24,
    "start_time": "2022-04-19T21:08:20.320Z"
   },
   {
    "duration": 20,
    "start_time": "2022-04-19T21:08:23.801Z"
   },
   {
    "duration": 28,
    "start_time": "2022-04-19T21:08:24.414Z"
   },
   {
    "duration": 4,
    "start_time": "2022-04-19T21:08:31.687Z"
   },
   {
    "duration": 601,
    "start_time": "2022-04-19T21:08:34.636Z"
   },
   {
    "duration": 557,
    "start_time": "2022-04-19T21:08:38.546Z"
   },
   {
    "duration": 526,
    "start_time": "2022-04-19T21:08:40.107Z"
   },
   {
    "duration": 273,
    "start_time": "2022-04-19T21:09:08.585Z"
   },
   {
    "duration": 420,
    "start_time": "2022-04-19T21:09:12.009Z"
   },
   {
    "duration": 69,
    "start_time": "2022-04-19T21:09:19.323Z"
   },
   {
    "duration": 38,
    "start_time": "2022-04-19T21:10:54.238Z"
   },
   {
    "duration": 4,
    "start_time": "2022-04-19T21:11:02.151Z"
   },
   {
    "duration": 7,
    "start_time": "2022-04-19T21:11:15.537Z"
   },
   {
    "duration": 11,
    "start_time": "2022-04-19T21:11:24.693Z"
   },
   {
    "duration": 3,
    "start_time": "2022-04-19T21:11:37.989Z"
   },
   {
    "duration": 5,
    "start_time": "2022-04-19T21:11:42.304Z"
   },
   {
    "duration": 1546,
    "start_time": "2022-04-19T21:12:40.389Z"
   },
   {
    "duration": 678,
    "start_time": "2022-04-19T21:12:41.937Z"
   },
   {
    "duration": 8,
    "start_time": "2022-04-19T21:12:42.616Z"
   },
   {
    "duration": 3,
    "start_time": "2022-04-19T21:12:43.897Z"
   },
   {
    "duration": 14,
    "start_time": "2022-04-19T21:12:44.456Z"
   },
   {
    "duration": 5,
    "start_time": "2022-04-19T21:12:49.041Z"
   },
   {
    "duration": 28,
    "start_time": "2022-04-19T21:12:52.980Z"
   },
   {
    "duration": 26,
    "start_time": "2022-04-19T21:12:54.407Z"
   },
   {
    "duration": 4,
    "start_time": "2022-04-19T21:13:00.385Z"
   },
   {
    "duration": 546,
    "start_time": "2022-04-19T21:13:01.660Z"
   },
   {
    "duration": 591,
    "start_time": "2022-04-19T21:13:03.635Z"
   },
   {
    "duration": 525,
    "start_time": "2022-04-19T21:13:05.871Z"
   },
   {
    "duration": 167,
    "start_time": "2022-04-19T21:13:13.088Z"
   },
   {
    "duration": 547,
    "start_time": "2022-04-19T21:13:17.022Z"
   },
   {
    "duration": 37,
    "start_time": "2022-04-19T21:13:20.659Z"
   },
   {
    "duration": 10,
    "start_time": "2022-04-19T21:13:31.527Z"
   },
   {
    "duration": 4,
    "start_time": "2022-04-19T21:13:32.945Z"
   },
   {
    "duration": 4,
    "start_time": "2022-04-19T21:13:35.864Z"
   },
   {
    "duration": 74675,
    "start_time": "2022-04-19T21:13:37.660Z"
   },
   {
    "duration": 925,
    "start_time": "2022-04-19T21:15:08.098Z"
   },
   {
    "duration": 1510,
    "start_time": "2022-04-19T21:19:41.333Z"
   },
   {
    "duration": 696,
    "start_time": "2022-04-19T21:19:42.845Z"
   },
   {
    "duration": 3,
    "start_time": "2022-04-19T21:19:43.543Z"
   },
   {
    "duration": 3,
    "start_time": "2022-04-19T21:19:45.934Z"
   },
   {
    "duration": 13,
    "start_time": "2022-04-19T21:19:46.436Z"
   },
   {
    "duration": 4,
    "start_time": "2022-04-19T21:19:48.742Z"
   },
   {
    "duration": 27,
    "start_time": "2022-04-19T21:19:52.289Z"
   },
   {
    "duration": 104,
    "start_time": "2022-04-19T21:19:53.687Z"
   },
   {
    "duration": 28,
    "start_time": "2022-04-19T21:20:09.116Z"
   },
   {
    "duration": 4,
    "start_time": "2022-04-19T21:20:30.686Z"
   },
   {
    "duration": 535,
    "start_time": "2022-04-19T21:20:32.224Z"
   },
   {
    "duration": 571,
    "start_time": "2022-04-19T21:20:33.514Z"
   },
   {
    "duration": 612,
    "start_time": "2022-04-19T21:20:34.744Z"
   },
   {
    "duration": 161,
    "start_time": "2022-04-19T21:20:37.067Z"
   },
   {
    "duration": 561,
    "start_time": "2022-04-19T21:20:38.728Z"
   },
   {
    "duration": 33,
    "start_time": "2022-04-19T21:20:40.685Z"
   },
   {
    "duration": 5,
    "start_time": "2022-04-19T21:20:54.930Z"
   },
   {
    "duration": 29,
    "start_time": "2022-04-19T21:21:52.896Z"
   },
   {
    "duration": 29,
    "start_time": "2022-04-19T21:22:08.037Z"
   },
   {
    "duration": 4,
    "start_time": "2022-04-19T21:22:20.616Z"
   },
   {
    "duration": 712,
    "start_time": "2022-04-19T21:22:21.101Z"
   },
   {
    "duration": 4,
    "start_time": "2022-04-19T21:22:21.850Z"
   },
   {
    "duration": 3,
    "start_time": "2022-04-19T21:22:26.439Z"
   },
   {
    "duration": 9,
    "start_time": "2022-04-19T21:22:26.981Z"
   },
   {
    "duration": 5,
    "start_time": "2022-04-19T21:22:29.410Z"
   },
   {
    "duration": 23,
    "start_time": "2022-04-19T21:22:32.567Z"
   },
   {
    "duration": 27,
    "start_time": "2022-04-19T21:22:36.845Z"
   },
   {
    "duration": 4,
    "start_time": "2022-04-19T21:23:11.494Z"
   },
   {
    "duration": 520,
    "start_time": "2022-04-19T21:23:12.324Z"
   },
   {
    "duration": 528,
    "start_time": "2022-04-19T21:23:13.402Z"
   },
   {
    "duration": 647,
    "start_time": "2022-04-19T21:23:14.901Z"
   },
   {
    "duration": 164,
    "start_time": "2022-04-19T21:23:18.695Z"
   },
   {
    "duration": 442,
    "start_time": "2022-04-19T21:23:21.192Z"
   },
   {
    "duration": 31,
    "start_time": "2022-04-19T21:23:24.130Z"
   },
   {
    "duration": 11,
    "start_time": "2022-04-19T21:24:09.912Z"
   },
   {
    "duration": 675,
    "start_time": "2022-04-19T21:24:54.465Z"
   },
   {
    "duration": 3,
    "start_time": "2022-04-19T21:24:58.045Z"
   },
   {
    "duration": 9,
    "start_time": "2022-04-19T21:24:58.462Z"
   },
   {
    "duration": 28,
    "start_time": "2022-04-19T21:25:02.101Z"
   },
   {
    "duration": 14,
    "start_time": "2022-04-19T21:25:07.153Z"
   },
   {
    "duration": 29,
    "start_time": "2022-04-19T21:25:24.057Z"
   },
   {
    "duration": 668,
    "start_time": "2022-04-19T21:25:45.751Z"
   },
   {
    "duration": 20,
    "start_time": "2022-04-19T21:25:51.196Z"
   },
   {
    "duration": 24,
    "start_time": "2022-04-19T21:25:52.520Z"
   },
   {
    "duration": 4,
    "start_time": "2022-04-19T21:26:01.669Z"
   },
   {
    "duration": 588,
    "start_time": "2022-04-19T21:26:02.259Z"
   },
   {
    "duration": 518,
    "start_time": "2022-04-19T21:26:04.319Z"
   },
   {
    "duration": 527,
    "start_time": "2022-04-19T21:26:06.137Z"
   },
   {
    "duration": 262,
    "start_time": "2022-04-19T21:26:10.700Z"
   },
   {
    "duration": 422,
    "start_time": "2022-04-19T21:26:16.239Z"
   },
   {
    "duration": 31,
    "start_time": "2022-04-19T21:26:19.038Z"
   },
   {
    "duration": 4,
    "start_time": "2022-04-19T21:26:22.310Z"
   },
   {
    "duration": 8,
    "start_time": "2022-04-19T21:26:24.942Z"
   },
   {
    "duration": 3,
    "start_time": "2022-04-19T21:26:25.811Z"
   },
   {
    "duration": 6,
    "start_time": "2022-04-19T21:26:27.877Z"
   },
   {
    "duration": 73346,
    "start_time": "2022-04-19T21:26:30.113Z"
   },
   {
    "duration": 1121,
    "start_time": "2022-04-19T21:28:28.707Z"
   },
   {
    "duration": 1638,
    "start_time": "2022-04-19T21:29:56.408Z"
   },
   {
    "duration": 665,
    "start_time": "2022-04-19T21:29:58.048Z"
   },
   {
    "duration": 4,
    "start_time": "2022-04-19T21:29:58.715Z"
   },
   {
    "duration": 20,
    "start_time": "2022-04-19T21:30:02.825Z"
   },
   {
    "duration": 40,
    "start_time": "2022-04-19T21:30:14.285Z"
   },
   {
    "duration": 118,
    "start_time": "2022-04-19T21:30:25.534Z"
   },
   {
    "duration": 34,
    "start_time": "2022-04-19T21:30:55.347Z"
   },
   {
    "duration": 4,
    "start_time": "2022-04-19T21:31:04.068Z"
   },
   {
    "duration": 4,
    "start_time": "2022-04-19T21:31:11.976Z"
   },
   {
    "duration": 46657,
    "start_time": "2022-04-19T21:31:14.113Z"
   },
   {
    "duration": 909,
    "start_time": "2022-04-19T21:32:12.124Z"
   },
   {
    "duration": 2512,
    "start_time": "2022-04-19T21:32:34.250Z"
   },
   {
    "duration": 1526,
    "start_time": "2022-04-19T21:43:09.912Z"
   },
   {
    "duration": 676,
    "start_time": "2022-04-19T21:43:11.441Z"
   },
   {
    "duration": 20,
    "start_time": "2022-04-19T21:43:17.014Z"
   },
   {
    "duration": 39,
    "start_time": "2022-04-19T21:43:24.001Z"
   },
   {
    "duration": 39,
    "start_time": "2022-04-19T21:43:29.184Z"
   },
   {
    "duration": 3,
    "start_time": "2022-04-19T21:43:32.650Z"
   },
   {
    "duration": 3,
    "start_time": "2022-04-19T21:43:34.769Z"
   },
   {
    "duration": 91473,
    "start_time": "2022-04-19T21:43:38.222Z"
   },
   {
    "duration": 4560,
    "start_time": "2022-04-19T21:46:48.876Z"
   },
   {
    "duration": 4628,
    "start_time": "2022-04-19T21:47:20.830Z"
   },
   {
    "duration": 100,
    "start_time": "2022-04-19T21:47:37.637Z"
   },
   {
    "duration": 671,
    "start_time": "2022-04-19T21:47:38.046Z"
   },
   {
    "duration": 3,
    "start_time": "2022-04-19T21:48:10.850Z"
   },
   {
    "duration": 677,
    "start_time": "2022-04-19T21:48:11.694Z"
   },
   {
    "duration": 19,
    "start_time": "2022-04-19T21:48:17.898Z"
   },
   {
    "duration": 33,
    "start_time": "2022-04-19T21:48:23.384Z"
   },
   {
    "duration": 33,
    "start_time": "2022-04-19T21:48:27.598Z"
   },
   {
    "duration": 4,
    "start_time": "2022-04-19T21:48:30.981Z"
   },
   {
    "duration": 4,
    "start_time": "2022-04-19T21:48:33.473Z"
   },
   {
    "duration": 4518,
    "start_time": "2022-04-19T21:48:38.337Z"
   },
   {
    "duration": 2545,
    "start_time": "2022-04-19T21:48:52.853Z"
   },
   {
    "duration": 1386,
    "start_time": "2022-04-19T21:49:10.140Z"
   },
   {
    "duration": 1545,
    "start_time": "2022-04-19T21:49:52.326Z"
   },
   {
    "duration": 659,
    "start_time": "2022-04-19T21:49:53.873Z"
   },
   {
    "duration": 21,
    "start_time": "2022-04-19T21:49:58.019Z"
   },
   {
    "duration": 39,
    "start_time": "2022-04-19T21:50:03.264Z"
   },
   {
    "duration": 35,
    "start_time": "2022-04-19T21:50:08.731Z"
   },
   {
    "duration": 4,
    "start_time": "2022-04-19T21:50:12.625Z"
   },
   {
    "duration": 5,
    "start_time": "2022-04-19T21:50:14.441Z"
   },
   {
    "duration": 2698,
    "start_time": "2022-04-19T21:50:16.659Z"
   },
   {
    "duration": 1070,
    "start_time": "2022-04-19T21:50:22.552Z"
   },
   {
    "duration": 24382,
    "start_time": "2022-04-19T21:50:28.224Z"
   },
   {
    "duration": 31555,
    "start_time": "2022-04-19T21:51:45.356Z"
   },
   {
    "duration": 100433,
    "start_time": "2022-04-19T21:53:45.903Z"
   },
   {
    "duration": 117387,
    "start_time": "2022-04-19T21:55:45.429Z"
   },
   {
    "duration": 115,
    "start_time": "2022-04-19T22:02:04.226Z"
   },
   {
    "duration": 680,
    "start_time": "2022-04-19T22:02:10.921Z"
   },
   {
    "duration": 21,
    "start_time": "2022-04-19T22:02:18.220Z"
   },
   {
    "duration": 29,
    "start_time": "2022-04-19T22:02:25.819Z"
   },
   {
    "duration": 19,
    "start_time": "2022-04-19T22:02:36.585Z"
   },
   {
    "duration": 23,
    "start_time": "2022-04-19T22:03:39.414Z"
   },
   {
    "duration": 33,
    "start_time": "2022-04-19T22:04:17.264Z"
   },
   {
    "duration": 3,
    "start_time": "2022-04-19T22:04:22.381Z"
   },
   {
    "duration": 5,
    "start_time": "2022-04-19T22:04:26.420Z"
   },
   {
    "duration": 2592,
    "start_time": "2022-04-19T22:04:28.951Z"
   },
   {
    "duration": 1333,
    "start_time": "2022-04-19T22:04:35.794Z"
   },
   {
    "duration": 108623,
    "start_time": "2022-04-19T22:04:39.916Z"
   },
   {
    "duration": 392,
    "start_time": "2022-04-19T22:06:44.239Z"
   },
   {
    "duration": 31,
    "start_time": "2022-04-19T22:15:37.876Z"
   },
   {
    "duration": 4,
    "start_time": "2022-04-19T22:15:43.806Z"
   },
   {
    "duration": 4,
    "start_time": "2022-04-19T22:15:47.231Z"
   },
   {
    "duration": 2562,
    "start_time": "2022-04-19T22:15:49.361Z"
   },
   {
    "duration": 127137,
    "start_time": "2022-04-19T22:15:56.228Z"
   },
   {
    "duration": 1074,
    "start_time": "2022-04-19T22:18:39.149Z"
   },
   {
    "duration": 176528,
    "start_time": "2022-04-19T22:19:03.354Z"
   },
   {
    "duration": 138,
    "start_time": "2022-04-19T22:22:33.273Z"
   },
   {
    "duration": 137,
    "start_time": "2022-04-19T22:22:42.680Z"
   },
   {
    "duration": 134,
    "start_time": "2022-04-19T22:25:10.261Z"
   },
   {
    "duration": 137,
    "start_time": "2022-04-19T22:25:14.075Z"
   },
   {
    "duration": 148,
    "start_time": "2022-04-19T22:25:20.020Z"
   },
   {
    "duration": 2039,
    "start_time": "2022-04-19T22:26:24.807Z"
   },
   {
    "duration": 4,
    "start_time": "2022-04-19T22:27:53.349Z"
   },
   {
    "duration": 649,
    "start_time": "2022-04-19T22:27:53.796Z"
   },
   {
    "duration": 16,
    "start_time": "2022-04-19T22:28:01.443Z"
   },
   {
    "duration": 34,
    "start_time": "2022-04-19T22:28:13.879Z"
   },
   {
    "duration": 26,
    "start_time": "2022-04-19T22:28:20.989Z"
   },
   {
    "duration": 683,
    "start_time": "2022-04-19T22:28:48.760Z"
   },
   {
    "duration": 17,
    "start_time": "2022-04-19T22:28:54.697Z"
   },
   {
    "duration": 24,
    "start_time": "2022-04-19T22:28:57.720Z"
   },
   {
    "duration": 31,
    "start_time": "2022-04-19T22:29:10.226Z"
   },
   {
    "duration": 23,
    "start_time": "2022-04-19T22:29:59.111Z"
   },
   {
    "duration": 38,
    "start_time": "2022-04-19T22:30:32.830Z"
   },
   {
    "duration": 36,
    "start_time": "2022-04-19T22:31:05.024Z"
   },
   {
    "duration": 35,
    "start_time": "2022-04-19T22:31:25.994Z"
   },
   {
    "duration": 37,
    "start_time": "2022-04-19T22:32:07.461Z"
   },
   {
    "duration": 22,
    "start_time": "2022-04-19T22:32:37.775Z"
   },
   {
    "duration": 23,
    "start_time": "2022-04-19T22:32:52.154Z"
   },
   {
    "duration": 33,
    "start_time": "2022-04-19T22:33:06.172Z"
   },
   {
    "duration": 25,
    "start_time": "2022-04-19T22:33:41.631Z"
   },
   {
    "duration": 4,
    "start_time": "2022-04-19T22:34:14.289Z"
   },
   {
    "duration": 2729,
    "start_time": "2022-04-19T22:34:17.469Z"
   },
   {
    "duration": 154974,
    "start_time": "2022-04-19T22:34:23.790Z"
   },
   {
    "duration": 758,
    "start_time": "2022-04-19T22:37:11.666Z"
   },
   {
    "duration": 2505,
    "start_time": "2022-04-19T22:37:29.518Z"
   },
   {
    "duration": 131,
    "start_time": "2022-04-19T22:37:35.382Z"
   },
   {
    "duration": 309,
    "start_time": "2022-04-19T22:37:46.514Z"
   },
   {
    "duration": 2336,
    "start_time": "2022-04-20T06:41:25.274Z"
   },
   {
    "duration": 859,
    "start_time": "2022-04-20T06:41:27.613Z"
   },
   {
    "duration": 6,
    "start_time": "2022-04-20T06:41:28.475Z"
   },
   {
    "duration": 611,
    "start_time": "2022-04-20T06:41:28.485Z"
   },
   {
    "duration": 282,
    "start_time": "2022-04-20T06:41:32.932Z"
   },
   {
    "duration": 654,
    "start_time": "2022-04-20T06:41:35.173Z"
   },
   {
    "duration": 841,
    "start_time": "2022-04-20T06:56:12.653Z"
   },
   {
    "duration": 5,
    "start_time": "2022-04-20T06:56:13.497Z"
   },
   {
    "duration": 586,
    "start_time": "2022-04-20T06:56:13.907Z"
   },
   {
    "duration": 277,
    "start_time": "2022-04-20T06:56:43.537Z"
   },
   {
    "duration": 569,
    "start_time": "2022-04-20T06:56:54.067Z"
   },
   {
    "duration": 140,
    "start_time": "2022-04-20T06:58:49.479Z"
   },
   {
    "duration": 160,
    "start_time": "2022-04-20T07:04:50.866Z"
   },
   {
    "duration": 163,
    "start_time": "2022-04-20T07:04:56.768Z"
   },
   {
    "duration": 4,
    "start_time": "2022-04-20T07:05:09.908Z"
   },
   {
    "duration": 14,
    "start_time": "2022-04-20T07:05:11.013Z"
   },
   {
    "duration": 98,
    "start_time": "2022-04-20T07:14:54.813Z"
   },
   {
    "duration": 10,
    "start_time": "2022-04-20T07:18:47.756Z"
   },
   {
    "duration": 782,
    "start_time": "2022-04-20T07:18:48.173Z"
   },
   {
    "duration": 19,
    "start_time": "2022-04-20T07:18:54.898Z"
   },
   {
    "duration": 59,
    "start_time": "2022-04-20T07:19:01.319Z"
   },
   {
    "duration": 6,
    "start_time": "2022-04-20T07:19:04.718Z"
   },
   {
    "duration": 102,
    "start_time": "2022-04-20T07:20:22.373Z"
   },
   {
    "duration": 65,
    "start_time": "2022-04-20T07:20:43.652Z"
   },
   {
    "duration": 58,
    "start_time": "2022-04-20T07:21:18.082Z"
   },
   {
    "duration": 62,
    "start_time": "2022-04-20T07:21:33.073Z"
   },
   {
    "duration": 116,
    "start_time": "2022-04-20T07:21:46.318Z"
   },
   {
    "duration": 834,
    "start_time": "2022-04-20T07:23:09.949Z"
   },
   {
    "duration": 23,
    "start_time": "2022-04-20T07:23:14.337Z"
   },
   {
    "duration": 55,
    "start_time": "2022-04-20T07:23:18.307Z"
   },
   {
    "duration": 94,
    "start_time": "2022-04-20T07:23:23.159Z"
   },
   {
    "duration": 55,
    "start_time": "2022-04-20T07:23:39.469Z"
   },
   {
    "duration": 11,
    "start_time": "2022-04-20T07:24:41.012Z"
   },
   {
    "duration": 20,
    "start_time": "2022-04-20T07:24:58.527Z"
   },
   {
    "duration": 42,
    "start_time": "2022-04-20T07:25:16.491Z"
   },
   {
    "duration": 38,
    "start_time": "2022-04-20T07:25:23.871Z"
   },
   {
    "duration": 5,
    "start_time": "2022-04-20T07:25:26.947Z"
   },
   {
    "duration": 7,
    "start_time": "2022-04-20T07:27:42.152Z"
   },
   {
    "duration": 13,
    "start_time": "2022-04-20T07:34:56.811Z"
   },
   {
    "duration": 6,
    "start_time": "2022-04-20T07:35:11.787Z"
   },
   {
    "duration": 18,
    "start_time": "2022-04-20T07:52:34.953Z"
   },
   {
    "duration": 11,
    "start_time": "2022-04-20T07:53:03.082Z"
   },
   {
    "duration": 17,
    "start_time": "2022-04-20T07:53:10.673Z"
   },
   {
    "duration": 14,
    "start_time": "2022-04-20T07:53:31.117Z"
   },
   {
    "duration": 4,
    "start_time": "2022-04-20T07:53:40.349Z"
   },
   {
    "duration": 5,
    "start_time": "2022-04-20T07:55:54.268Z"
   },
   {
    "duration": 1947,
    "start_time": "2022-04-20T07:55:55.052Z"
   },
   {
    "duration": 1164,
    "start_time": "2022-04-20T07:56:10.712Z"
   },
   {
    "duration": 97,
    "start_time": "2022-04-20T07:58:27.713Z"
   },
   {
    "duration": 6,
    "start_time": "2022-04-20T08:00:56.307Z"
   },
   {
    "duration": 1027,
    "start_time": "2022-04-20T08:00:57.650Z"
   },
   {
    "duration": 1864,
    "start_time": "2022-04-20T08:01:15.836Z"
   },
   {
    "duration": 1250,
    "start_time": "2022-04-20T08:01:21.695Z"
   },
   {
    "duration": 6,
    "start_time": "2022-04-20T08:04:23.311Z"
   },
   {
    "duration": 1125,
    "start_time": "2022-04-20T08:04:25.273Z"
   },
   {
    "duration": 6,
    "start_time": "2022-04-20T08:04:31.041Z"
   },
   {
    "duration": 1181,
    "start_time": "2022-04-20T08:04:32.953Z"
   },
   {
    "duration": 1111,
    "start_time": "2022-04-20T08:04:37.052Z"
   },
   {
    "duration": 1191,
    "start_time": "2022-04-20T08:04:40.096Z"
   },
   {
    "duration": 158,
    "start_time": "2022-04-20T08:28:59.010Z"
   },
   {
    "duration": 89,
    "start_time": "2022-04-20T08:31:16.459Z"
   },
   {
    "duration": 2769,
    "start_time": "2022-04-20T08:31:21.059Z"
   },
   {
    "duration": 1281,
    "start_time": "2022-04-20T08:31:23.832Z"
   },
   {
    "duration": 34,
    "start_time": "2022-04-20T08:31:25.544Z"
   },
   {
    "duration": 455,
    "start_time": "2022-04-20T08:31:30.777Z"
   },
   {
    "duration": 470,
    "start_time": "2022-04-20T08:31:36.448Z"
   },
   {
    "duration": 316,
    "start_time": "2022-04-20T08:31:49.650Z"
   },
   {
    "duration": 413,
    "start_time": "2022-04-20T08:31:58.674Z"
   },
   {
    "duration": 292,
    "start_time": "2022-04-20T08:32:07.366Z"
   },
   {
    "duration": 555,
    "start_time": "2022-04-20T08:32:17.978Z"
   },
   {
    "duration": 281,
    "start_time": "2022-04-20T08:32:26.524Z"
   },
   {
    "duration": 408,
    "start_time": "2022-04-20T08:32:31.473Z"
   },
   {
    "duration": 426,
    "start_time": "2022-04-20T08:32:36.278Z"
   },
   {
    "duration": 438,
    "start_time": "2022-04-20T08:32:47.504Z"
   },
   {
    "duration": 291,
    "start_time": "2022-04-20T08:33:25.174Z"
   },
   {
    "duration": 136,
    "start_time": "2022-04-20T08:44:23.590Z"
   },
   {
    "duration": 8,
    "start_time": "2022-04-20T08:44:29.035Z"
   },
   {
    "duration": 1075,
    "start_time": "2022-04-20T08:44:29.046Z"
   },
   {
    "duration": 22,
    "start_time": "2022-04-20T08:44:32.888Z"
   },
   {
    "duration": 8,
    "start_time": "2022-04-20T08:44:35.697Z"
   },
   {
    "duration": 905,
    "start_time": "2022-04-20T08:44:39.721Z"
   },
   {
    "duration": 1036,
    "start_time": "2022-04-20T08:45:25.501Z"
   },
   {
    "duration": 8,
    "start_time": "2022-04-20T08:45:59.801Z"
   },
   {
    "duration": 11,
    "start_time": "2022-04-20T08:47:01.177Z"
   },
   {
    "duration": 68,
    "start_time": "2022-04-20T08:47:09.236Z"
   },
   {
    "duration": 8,
    "start_time": "2022-04-20T08:47:36.532Z"
   },
   {
    "duration": 56,
    "start_time": "2022-04-20T08:47:58.911Z"
   },
   {
    "duration": 3,
    "start_time": "2022-04-20T08:48:11.616Z"
   },
   {
    "duration": 7,
    "start_time": "2022-04-20T09:00:22.824Z"
   },
   {
    "duration": 15,
    "start_time": "2022-04-20T09:00:25.100Z"
   },
   {
    "duration": 11,
    "start_time": "2022-04-20T09:00:32.007Z"
   },
   {
    "duration": 1089,
    "start_time": "2022-04-20T09:00:32.022Z"
   },
   {
    "duration": 4,
    "start_time": "2022-04-20T09:00:33.824Z"
   },
   {
    "duration": 12,
    "start_time": "2022-04-20T09:00:35.310Z"
   },
   {
    "duration": 9,
    "start_time": "2022-04-20T09:00:37.280Z"
   },
   {
    "duration": 35,
    "start_time": "2022-04-20T09:00:39.081Z"
   },
   {
    "duration": 53,
    "start_time": "2022-04-20T09:00:51.823Z"
   },
   {
    "duration": 8,
    "start_time": "2022-04-20T09:01:04.172Z"
   },
   {
    "duration": 14,
    "start_time": "2022-04-20T09:01:06.013Z"
   },
   {
    "duration": 6,
    "start_time": "2022-04-20T09:01:07.233Z"
   },
   {
    "duration": 4315,
    "start_time": "2022-04-20T09:01:11.372Z"
   },
   {
    "duration": 8,
    "start_time": "2022-04-20T09:01:38.186Z"
   },
   {
    "duration": 19,
    "start_time": "2022-04-20T09:01:39.477Z"
   },
   {
    "duration": 6,
    "start_time": "2022-04-20T09:01:40.043Z"
   },
   {
    "duration": 3597,
    "start_time": "2022-04-20T09:01:41.842Z"
   },
   {
    "duration": 9,
    "start_time": "2022-04-20T09:02:01.892Z"
   },
   {
    "duration": 15,
    "start_time": "2022-04-20T09:02:03.230Z"
   },
   {
    "duration": 7,
    "start_time": "2022-04-20T09:02:03.794Z"
   },
   {
    "duration": 3798,
    "start_time": "2022-04-20T09:02:05.247Z"
   },
   {
    "duration": 267816,
    "start_time": "2022-04-20T09:02:21.225Z"
   },
   {
    "duration": 1765,
    "start_time": "2022-04-20T09:07:27.922Z"
   },
   {
    "duration": 1266,
    "start_time": "2022-04-20T09:07:40.825Z"
   },
   {
    "duration": 263,
    "start_time": "2022-04-20T09:07:44.705Z"
   },
   {
    "duration": 4226,
    "start_time": "2022-04-20T09:07:47.164Z"
   },
   {
    "duration": 125,
    "start_time": "2022-04-20T09:19:48.720Z"
   },
   {
    "duration": 5,
    "start_time": "2022-04-20T09:21:41.376Z"
   },
   {
    "duration": 8,
    "start_time": "2022-04-20T09:21:42.847Z"
   },
   {
    "duration": 7,
    "start_time": "2022-04-20T09:21:43.967Z"
   },
   {
    "duration": 107,
    "start_time": "2022-04-20T09:38:27.126Z"
   },
   {
    "duration": 2467,
    "start_time": "2022-04-20T09:43:15.350Z"
   },
   {
    "duration": 207,
    "start_time": "2022-04-20T09:43:43.704Z"
   },
   {
    "duration": 1810,
    "start_time": "2022-04-20T09:43:50.681Z"
   },
   {
    "duration": 9698,
    "start_time": "2022-04-20T09:44:18.776Z"
   },
   {
    "duration": 12865,
    "start_time": "2022-04-20T09:44:49.694Z"
   },
   {
    "duration": 22123,
    "start_time": "2022-04-20T09:45:07.128Z"
   },
   {
    "duration": 220402,
    "start_time": "2022-04-20T09:45:33.484Z"
   },
   {
    "duration": 899,
    "start_time": "2022-04-20T09:53:15.289Z"
   },
   {
    "duration": 2604,
    "start_time": "2022-04-20T09:53:16.394Z"
   },
   {
    "duration": 75,
    "start_time": "2022-04-20T09:53:21.053Z"
   },
   {
    "duration": 1327,
    "start_time": "2022-04-20T09:53:22.512Z"
   },
   {
    "duration": 19627,
    "start_time": "2022-04-20T09:55:28.844Z"
   },
   {
    "duration": 255093,
    "start_time": "2022-04-20T09:56:03.952Z"
   },
   {
    "duration": 54,
    "start_time": "2022-04-20T10:02:45.187Z"
   },
   {
    "duration": 1247,
    "start_time": "2022-04-20T10:02:50.200Z"
   },
   {
    "duration": 1516,
    "start_time": "2022-04-20T10:03:02.750Z"
   },
   {
    "duration": 112406,
    "start_time": "2022-04-20T10:03:14.530Z"
   },
   {
    "duration": 9178,
    "start_time": "2022-04-20T10:05:59.616Z"
   },
   {
    "duration": 1690,
    "start_time": "2022-04-20T10:06:14.691Z"
   },
   {
    "duration": 1637,
    "start_time": "2022-04-20T10:06:24.600Z"
   },
   {
    "duration": 19,
    "start_time": "2022-04-20T10:11:22.246Z"
   },
   {
    "duration": 6,
    "start_time": "2022-04-20T10:11:39.520Z"
   },
   {
    "duration": 15,
    "start_time": "2022-04-20T10:11:43.470Z"
   },
   {
    "duration": 6,
    "start_time": "2022-04-20T10:27:12.502Z"
   },
   {
    "duration": 853,
    "start_time": "2022-04-20T10:27:12.672Z"
   },
   {
    "duration": 26,
    "start_time": "2022-04-20T10:27:15.643Z"
   },
   {
    "duration": 45,
    "start_time": "2022-04-20T10:27:24.098Z"
   },
   {
    "duration": 50,
    "start_time": "2022-04-20T10:27:39.356Z"
   },
   {
    "duration": 7,
    "start_time": "2022-04-20T10:27:44.816Z"
   },
   {
    "duration": 839,
    "start_time": "2022-04-20T10:27:45.102Z"
   },
   {
    "duration": 17,
    "start_time": "2022-04-20T10:27:50.776Z"
   },
   {
    "duration": 7,
    "start_time": "2022-04-20T10:27:56.687Z"
   },
   {
    "duration": 53,
    "start_time": "2022-04-20T10:28:03.692Z"
   },
   {
    "duration": 6,
    "start_time": "2022-04-20T10:28:10.031Z"
   },
   {
    "duration": 5,
    "start_time": "2022-04-20T10:28:11.397Z"
   },
   {
    "duration": 5,
    "start_time": "2022-04-20T10:28:12.576Z"
   },
   {
    "duration": 25,
    "start_time": "2022-04-20T10:28:14.207Z"
   },
   {
    "duration": 6,
    "start_time": "2022-04-20T10:28:37.642Z"
   },
   {
    "duration": 888,
    "start_time": "2022-04-20T10:28:38.888Z"
   },
   {
    "duration": 5,
    "start_time": "2022-04-20T10:28:39.780Z"
   },
   {
    "duration": 6,
    "start_time": "2022-04-20T10:28:42.271Z"
   },
   {
    "duration": 10,
    "start_time": "2022-04-20T10:28:43.610Z"
   },
   {
    "duration": 13,
    "start_time": "2022-04-20T10:28:46.361Z"
   },
   {
    "duration": 38,
    "start_time": "2022-04-20T10:28:47.946Z"
   },
   {
    "duration": 292,
    "start_time": "2022-04-20T10:28:55.124Z"
   },
   {
    "duration": 6,
    "start_time": "2022-04-20T10:28:59.473Z"
   },
   {
    "duration": 57,
    "start_time": "2022-04-20T10:29:01.297Z"
   },
   {
    "duration": 6,
    "start_time": "2022-04-20T10:29:04.344Z"
   },
   {
    "duration": 6,
    "start_time": "2022-04-20T10:29:05.552Z"
   },
   {
    "duration": 16,
    "start_time": "2022-04-20T10:29:06.853Z"
   },
   {
    "duration": 14,
    "start_time": "2022-04-20T10:29:08.327Z"
   },
   {
    "duration": 6,
    "start_time": "2022-04-20T10:29:14.727Z"
   },
   {
    "duration": 9034,
    "start_time": "2022-04-20T10:29:17.401Z"
   },
   {
    "duration": 1988,
    "start_time": "2022-04-20T10:36:09.103Z"
   },
   {
    "duration": 1488,
    "start_time": "2022-04-20T10:36:11.093Z"
   },
   {
    "duration": 6,
    "start_time": "2022-04-20T10:36:12.583Z"
   },
   {
    "duration": 1292,
    "start_time": "2022-04-20T10:36:12.591Z"
   },
   {
    "duration": 609,
    "start_time": "2022-04-20T10:36:13.885Z"
   },
   {
    "duration": 803,
    "start_time": "2022-04-20T10:36:14.496Z"
   },
   {
    "duration": 4,
    "start_time": "2022-04-20T10:36:15.302Z"
   },
   {
    "duration": 20,
    "start_time": "2022-04-20T10:36:15.308Z"
   },
   {
    "duration": 6,
    "start_time": "2022-04-20T10:36:15.330Z"
   },
   {
    "duration": 32,
    "start_time": "2022-04-20T10:36:15.354Z"
   },
   {
    "duration": 13,
    "start_time": "2022-04-20T10:36:15.388Z"
   },
   {
    "duration": 12,
    "start_time": "2022-04-20T10:36:15.404Z"
   },
   {
    "duration": 15,
    "start_time": "2022-04-20T10:36:15.462Z"
   },
   {
    "duration": 10,
    "start_time": "2022-04-20T10:36:15.481Z"
   },
   {
    "duration": 1120,
    "start_time": "2022-04-20T10:36:15.493Z"
   },
   {
    "duration": 1041,
    "start_time": "2022-04-20T10:36:16.616Z"
   },
   {
    "duration": 1043,
    "start_time": "2022-04-20T10:36:17.659Z"
   },
   {
    "duration": 456,
    "start_time": "2022-04-20T10:36:18.705Z"
   },
   {
    "duration": 834,
    "start_time": "2022-04-20T10:36:19.164Z"
   },
   {
    "duration": 8,
    "start_time": "2022-04-20T10:36:20.000Z"
   },
   {
    "duration": 84,
    "start_time": "2022-04-20T10:36:20.011Z"
   },
   {
    "duration": 5,
    "start_time": "2022-04-20T10:36:20.097Z"
   },
   {
    "duration": 13,
    "start_time": "2022-04-20T10:36:20.104Z"
   },
   {
    "duration": 16,
    "start_time": "2022-04-20T10:36:20.119Z"
   },
   {
    "duration": 38,
    "start_time": "2022-04-20T10:36:20.137Z"
   },
   {
    "duration": 16,
    "start_time": "2022-04-20T10:36:20.177Z"
   },
   {
    "duration": 9246,
    "start_time": "2022-04-20T10:36:20.195Z"
   },
   {
    "duration": 107425,
    "start_time": "2022-04-20T10:36:29.446Z"
   },
   {
    "duration": 1513,
    "start_time": "2022-04-20T10:38:16.874Z"
   },
   {
    "duration": 1775,
    "start_time": "2022-04-20T10:38:18.390Z"
   },
   {
    "duration": 1078,
    "start_time": "2022-04-20T10:39:19.873Z"
   },
   {
    "duration": 1041,
    "start_time": "2022-04-20T10:39:37.288Z"
   },
   {
    "duration": 2031,
    "start_time": "2022-04-21T10:42:32.081Z"
   },
   {
    "duration": 940,
    "start_time": "2022-04-21T10:42:34.114Z"
   },
   {
    "duration": 8,
    "start_time": "2022-04-21T10:42:35.059Z"
   },
   {
    "duration": 544,
    "start_time": "2022-04-21T10:42:35.070Z"
   },
   {
    "duration": 253,
    "start_time": "2022-04-21T10:42:35.615Z"
   },
   {
    "duration": 531,
    "start_time": "2022-04-21T10:42:35.869Z"
   },
   {
    "duration": 4,
    "start_time": "2022-04-21T10:42:36.402Z"
   },
   {
    "duration": 13,
    "start_time": "2022-04-21T10:42:36.408Z"
   },
   {
    "duration": 28,
    "start_time": "2022-04-21T10:42:36.423Z"
   },
   {
    "duration": 63,
    "start_time": "2022-04-21T10:42:36.455Z"
   },
   {
    "duration": 9,
    "start_time": "2022-04-21T10:42:36.520Z"
   },
   {
    "duration": 23,
    "start_time": "2022-04-21T10:42:36.531Z"
   },
   {
    "duration": 52,
    "start_time": "2022-04-21T10:42:36.557Z"
   },
   {
    "duration": 4,
    "start_time": "2022-04-21T10:42:36.611Z"
   },
   {
    "duration": 899,
    "start_time": "2022-04-21T10:42:36.617Z"
   },
   {
    "duration": 809,
    "start_time": "2022-04-21T10:42:37.518Z"
   },
   {
    "duration": 834,
    "start_time": "2022-04-21T10:42:38.333Z"
   },
   {
    "duration": 384,
    "start_time": "2022-04-21T10:42:39.169Z"
   },
   {
    "duration": 653,
    "start_time": "2022-04-21T10:42:39.557Z"
   },
   {
    "duration": 7,
    "start_time": "2022-04-21T10:42:40.212Z"
   },
   {
    "duration": 60,
    "start_time": "2022-04-21T10:42:40.222Z"
   },
   {
    "duration": 18,
    "start_time": "2022-04-21T10:42:40.284Z"
   },
   {
    "duration": 9,
    "start_time": "2022-04-21T10:42:40.304Z"
   },
   {
    "duration": 14,
    "start_time": "2022-04-21T10:42:40.315Z"
   },
   {
    "duration": 65,
    "start_time": "2022-04-21T10:42:40.331Z"
   },
   {
    "duration": 4,
    "start_time": "2022-04-21T10:42:40.398Z"
   },
   {
    "duration": 8668,
    "start_time": "2022-04-21T10:42:40.404Z"
   },
   {
    "duration": 103503,
    "start_time": "2022-04-21T10:42:49.077Z"
   },
   {
    "duration": 3293,
    "start_time": "2022-04-21T10:44:32.582Z"
   },
   {
    "duration": 993,
    "start_time": "2022-04-21T10:44:35.884Z"
   },
   {
    "duration": 15,
    "start_time": "2022-04-21T10:44:36.879Z"
   },
   {
    "duration": 166,
    "start_time": "2022-04-21T10:54:16.223Z"
   },
   {
    "duration": 5,
    "start_time": "2022-04-21T10:54:37.876Z"
   },
   {
    "duration": 15,
    "start_time": "2022-04-21T10:54:49.379Z"
   },
   {
    "duration": 21,
    "start_time": "2022-04-21T10:54:57.259Z"
   },
   {
    "duration": 2646,
    "start_time": "2022-04-21T11:00:46.484Z"
   },
   {
    "duration": 11,
    "start_time": "2022-04-21T11:01:16.609Z"
   },
   {
    "duration": 11,
    "start_time": "2022-04-21T11:02:01.513Z"
   },
   {
    "duration": 14,
    "start_time": "2022-04-21T11:02:15.780Z"
   },
   {
    "duration": 10,
    "start_time": "2022-04-21T11:05:48.174Z"
   },
   {
    "duration": 15926,
    "start_time": "2022-04-21T11:09:36.291Z"
   },
   {
    "duration": 174978,
    "start_time": "2022-04-21T11:09:58.160Z"
   },
   {
    "duration": 4335,
    "start_time": "2022-04-21T11:13:05.825Z"
   },
   {
    "duration": 208,
    "start_time": "2022-04-21T11:13:24.621Z"
   },
   {
    "duration": 1779,
    "start_time": "2022-04-21T11:13:35.501Z"
   },
   {
    "duration": 13,
    "start_time": "2022-04-21T11:13:49.182Z"
   },
   {
    "duration": 86852,
    "start_time": "2022-04-21T11:24:48.587Z"
   },
   {
    "duration": 1853,
    "start_time": "2022-04-21T11:26:21.025Z"
   },
   {
    "duration": 840,
    "start_time": "2022-04-21T11:26:22.881Z"
   },
   {
    "duration": 9,
    "start_time": "2022-04-21T11:26:23.723Z"
   },
   {
    "duration": 543,
    "start_time": "2022-04-21T11:26:23.737Z"
   },
   {
    "duration": 225,
    "start_time": "2022-04-21T11:26:24.282Z"
   },
   {
    "duration": 475,
    "start_time": "2022-04-21T11:26:24.510Z"
   },
   {
    "duration": 3,
    "start_time": "2022-04-21T11:26:24.987Z"
   },
   {
    "duration": 18,
    "start_time": "2022-04-21T11:26:24.992Z"
   },
   {
    "duration": 5,
    "start_time": "2022-04-21T11:26:25.012Z"
   },
   {
    "duration": 37,
    "start_time": "2022-04-21T11:26:25.035Z"
   },
   {
    "duration": 22,
    "start_time": "2022-04-21T11:26:25.074Z"
   },
   {
    "duration": 9,
    "start_time": "2022-04-21T11:26:25.098Z"
   },
   {
    "duration": 15,
    "start_time": "2022-04-21T11:26:25.108Z"
   },
   {
    "duration": 8,
    "start_time": "2022-04-21T11:26:25.140Z"
   },
   {
    "duration": 869,
    "start_time": "2022-04-21T11:26:25.150Z"
   },
   {
    "duration": 769,
    "start_time": "2022-04-21T11:26:26.021Z"
   },
   {
    "duration": 772,
    "start_time": "2022-04-21T11:26:26.792Z"
   },
   {
    "duration": 346,
    "start_time": "2022-04-21T11:26:27.569Z"
   },
   {
    "duration": 635,
    "start_time": "2022-04-21T11:26:27.917Z"
   },
   {
    "duration": 9,
    "start_time": "2022-04-21T11:26:28.556Z"
   },
   {
    "duration": 53,
    "start_time": "2022-04-21T11:26:28.566Z"
   },
   {
    "duration": 4,
    "start_time": "2022-04-21T11:26:28.621Z"
   },
   {
    "duration": 21,
    "start_time": "2022-04-21T11:26:28.627Z"
   },
   {
    "duration": 31,
    "start_time": "2022-04-21T11:26:28.654Z"
   },
   {
    "duration": 17,
    "start_time": "2022-04-21T11:26:28.687Z"
   },
   {
    "duration": 7,
    "start_time": "2022-04-21T11:26:28.706Z"
   },
   {
    "duration": 16782,
    "start_time": "2022-04-21T11:26:28.715Z"
   },
   {
    "duration": 1766,
    "start_time": "2022-04-21T11:30:23.756Z"
   },
   {
    "duration": 842,
    "start_time": "2022-04-21T11:30:25.524Z"
   },
   {
    "duration": 13,
    "start_time": "2022-04-21T11:30:26.368Z"
   },
   {
    "duration": 477,
    "start_time": "2022-04-21T11:30:26.383Z"
   },
   {
    "duration": 217,
    "start_time": "2022-04-21T11:30:26.866Z"
   },
   {
    "duration": 479,
    "start_time": "2022-04-21T11:30:27.085Z"
   },
   {
    "duration": 3,
    "start_time": "2022-04-21T11:30:27.569Z"
   },
   {
    "duration": 21,
    "start_time": "2022-04-21T11:30:27.574Z"
   },
   {
    "duration": 4,
    "start_time": "2022-04-21T11:30:27.597Z"
   },
   {
    "duration": 36,
    "start_time": "2022-04-21T11:30:27.603Z"
   },
   {
    "duration": 11,
    "start_time": "2022-04-21T11:30:27.645Z"
   },
   {
    "duration": 26,
    "start_time": "2022-04-21T11:30:27.665Z"
   },
   {
    "duration": 10,
    "start_time": "2022-04-21T11:30:27.693Z"
   },
   {
    "duration": 4,
    "start_time": "2022-04-21T11:30:27.706Z"
   },
   {
    "duration": 873,
    "start_time": "2022-04-21T11:30:27.712Z"
   },
   {
    "duration": 743,
    "start_time": "2022-04-21T11:30:28.587Z"
   },
   {
    "duration": 763,
    "start_time": "2022-04-21T11:30:29.332Z"
   },
   {
    "duration": 371,
    "start_time": "2022-04-21T11:30:30.097Z"
   },
   {
    "duration": 614,
    "start_time": "2022-04-21T11:30:30.471Z"
   },
   {
    "duration": 7,
    "start_time": "2022-04-21T11:30:31.087Z"
   },
   {
    "duration": 82,
    "start_time": "2022-04-21T11:30:31.096Z"
   },
   {
    "duration": 7,
    "start_time": "2022-04-21T11:30:31.180Z"
   },
   {
    "duration": 12,
    "start_time": "2022-04-21T11:30:31.234Z"
   },
   {
    "duration": 57,
    "start_time": "2022-04-21T11:30:31.250Z"
   },
   {
    "duration": 86,
    "start_time": "2022-04-21T11:30:31.309Z"
   },
   {
    "duration": 5,
    "start_time": "2022-04-21T11:30:31.397Z"
   },
   {
    "duration": 16806,
    "start_time": "2022-04-21T11:30:31.446Z"
   },
   {
    "duration": 1963,
    "start_time": "2022-04-21T19:32:20.928Z"
   },
   {
    "duration": 691,
    "start_time": "2022-04-21T19:32:22.894Z"
   },
   {
    "duration": 5,
    "start_time": "2022-04-21T19:32:23.587Z"
   },
   {
    "duration": 388,
    "start_time": "2022-04-21T19:32:23.595Z"
   },
   {
    "duration": 184,
    "start_time": "2022-04-21T19:32:23.985Z"
   },
   {
    "duration": 391,
    "start_time": "2022-04-21T19:32:24.171Z"
   },
   {
    "duration": 3,
    "start_time": "2022-04-21T19:32:24.564Z"
   },
   {
    "duration": 13,
    "start_time": "2022-04-21T19:32:24.569Z"
   },
   {
    "duration": 5,
    "start_time": "2022-04-21T19:32:24.592Z"
   },
   {
    "duration": 24,
    "start_time": "2022-04-21T19:32:24.599Z"
   },
   {
    "duration": 8,
    "start_time": "2022-04-21T19:32:24.625Z"
   },
   {
    "duration": 7,
    "start_time": "2022-04-21T19:32:24.635Z"
   },
   {
    "duration": 14,
    "start_time": "2022-04-21T19:32:24.643Z"
   },
   {
    "duration": 35,
    "start_time": "2022-04-21T19:32:24.658Z"
   },
   {
    "duration": 658,
    "start_time": "2022-04-21T19:32:24.695Z"
   },
   {
    "duration": 584,
    "start_time": "2022-04-21T19:32:25.354Z"
   },
   {
    "duration": 693,
    "start_time": "2022-04-21T19:32:25.939Z"
   },
   {
    "duration": 294,
    "start_time": "2022-04-21T19:32:26.634Z"
   },
   {
    "duration": 495,
    "start_time": "2022-04-21T19:32:26.930Z"
   },
   {
    "duration": 5,
    "start_time": "2022-04-21T19:32:27.427Z"
   },
   {
    "duration": 50,
    "start_time": "2022-04-21T19:32:27.433Z"
   },
   {
    "duration": 10,
    "start_time": "2022-04-21T19:32:27.484Z"
   },
   {
    "duration": 12,
    "start_time": "2022-04-21T19:32:27.495Z"
   },
   {
    "duration": 33,
    "start_time": "2022-04-21T19:32:27.509Z"
   },
   {
    "duration": 13,
    "start_time": "2022-04-21T19:32:27.544Z"
   },
   {
    "duration": 4,
    "start_time": "2022-04-21T19:32:27.559Z"
   },
   {
    "duration": 13739,
    "start_time": "2022-04-21T19:32:27.565Z"
   },
   {
    "duration": 190407,
    "start_time": "2022-04-21T19:32:41.307Z"
   },
   {
    "duration": 1183,
    "start_time": "2022-04-21T19:35:51.716Z"
   },
   {
    "duration": 1668,
    "start_time": "2022-04-21T19:35:52.900Z"
   },
   {
    "duration": 9,
    "start_time": "2022-04-21T19:35:54.569Z"
   }
  ],
  "kernelspec": {
   "display_name": "Python 3 (ipykernel)",
   "language": "python",
   "name": "python3"
  },
  "language_info": {
   "codemirror_mode": {
    "name": "ipython",
    "version": 3
   },
   "file_extension": ".py",
   "mimetype": "text/x-python",
   "name": "python",
   "nbconvert_exporter": "python",
   "pygments_lexer": "ipython3",
   "version": "3.9.5"
  },
  "toc": {
   "base_numbering": 1,
   "nav_menu": {},
   "number_sections": true,
   "sideBar": true,
   "skip_h1_title": true,
   "title_cell": "Содержание",
   "title_sidebar": "Contents",
   "toc_cell": true,
   "toc_position": {
    "height": "calc(100% - 180px)",
    "left": "10px",
    "top": "150px",
    "width": "324px"
   },
   "toc_section_display": true,
   "toc_window_display": true
  }
 },
 "nbformat": 4,
 "nbformat_minor": 2
}
