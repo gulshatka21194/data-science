{
 "cells": [
  {
   "cell_type": "markdown",
   "metadata": {
    "toc": true
   },
   "source": [
    "<h1>Содержание<span class=\"tocSkip\"></span></h1>\n",
    "<div class=\"toc\"><ul class=\"toc-item\"><li><span><a href=\"#Загрузка-и-подготовка-данных\" data-toc-modified-id=\"Загрузка-и-подготовка-данных-1\"><span class=\"toc-item-num\">1&nbsp;&nbsp;</span>Загрузка и подготовка данных</a></span><ul class=\"toc-item\"><li><span><a href=\"#Изучение-данных\" data-toc-modified-id=\"Изучение-данных-1.1\"><span class=\"toc-item-num\">1.1&nbsp;&nbsp;</span>Изучение данных</a></span></li><li><span><a href=\"#Подготовка-данных\" data-toc-modified-id=\"Подготовка-данных-1.2\"><span class=\"toc-item-num\">1.2&nbsp;&nbsp;</span>Подготовка данных</a></span></li><li><span><a href=\"#Вывод\" data-toc-modified-id=\"Вывод-1.3\"><span class=\"toc-item-num\">1.3&nbsp;&nbsp;</span>Вывод</a></span></li></ul></li><li><span><a href=\"#Обучение-и-проверка-модели\" data-toc-modified-id=\"Обучение-и-проверка-модели-2\"><span class=\"toc-item-num\">2&nbsp;&nbsp;</span>Обучение и проверка модели</a></span><ul class=\"toc-item\"><li><span><a href=\"#Вывод\" data-toc-modified-id=\"Вывод-2.1\"><span class=\"toc-item-num\">2.1&nbsp;&nbsp;</span>Вывод</a></span></li></ul></li><li><span><a href=\"#Подготовка-к-расчёту-прибыли\" data-toc-modified-id=\"Подготовка-к-расчёту-прибыли-3\"><span class=\"toc-item-num\">3&nbsp;&nbsp;</span>Подготовка к расчёту прибыли</a></span><ul class=\"toc-item\"><li><span><a href=\"#Вывод\" data-toc-modified-id=\"Вывод-3.1\"><span class=\"toc-item-num\">3.1&nbsp;&nbsp;</span>Вывод</a></span></li></ul></li><li><span><a href=\"#Расчёт-прибыли-и-рисков\" data-toc-modified-id=\"Расчёт-прибыли-и-рисков-4\"><span class=\"toc-item-num\">4&nbsp;&nbsp;</span>Расчёт прибыли и рисков</a></span><ul class=\"toc-item\"><li><span><a href=\"#Вывод\" data-toc-modified-id=\"Вывод-4.1\"><span class=\"toc-item-num\">4.1&nbsp;&nbsp;</span>Вывод</a></span></li></ul></li><li><span><a href=\"#Общий-вывод\" data-toc-modified-id=\"Общий-вывод-5\"><span class=\"toc-item-num\">5&nbsp;&nbsp;</span>Общий вывод</a></span></li><li><span><a href=\"#Чек-лист-готовности-проекта\" data-toc-modified-id=\"Чек-лист-готовности-проекта-6\"><span class=\"toc-item-num\">6&nbsp;&nbsp;</span>Чек-лист готовности проекта</a></span></li></ul></div>"
   ]
  },
  {
   "cell_type": "markdown",
   "metadata": {},
   "source": [
    "# Выбор локации для скважины"
   ]
  },
  {
   "cell_type": "markdown",
   "metadata": {},
   "source": [
    "## Загрузка и подготовка данных"
   ]
  },
  {
   "cell_type": "markdown",
   "metadata": {},
   "source": [
    "### Изучение данных"
   ]
  },
  {
   "cell_type": "code",
   "execution_count": 1,
   "metadata": {},
   "outputs": [],
   "source": [
    "import pandas as pd, numpy as np #импортируем библиотеки pandas\n",
    "from sklearn.model_selection import train_test_split #импортируем функцию train_test_split\n",
    "from sklearn.linear_model import LinearRegression #импортируем библиотеку LinearRegression\n",
    "from sklearn.metrics import mean_squared_error #импортируем функцию mean_squared_error\n",
    "import warnings #импортируем библиотеку warnings\n",
    "warnings.filterwarnings('ignore')"
   ]
  },
  {
   "cell_type": "code",
   "execution_count": 2,
   "metadata": {},
   "outputs": [],
   "source": [
    "geo_data_0 = pd.read_csv('/datasets/geo_data_0.csv') #считаем файл с данными и сохраним в geo_data_0\n",
    "geo_data_1 = pd.read_csv('/datasets/geo_data_1.csv') #считаем файл с данными и сохраним в geo_data_1\n",
    "geo_data_2 = pd.read_csv('/datasets/geo_data_2.csv') #считаем файл с данными и сохраним в geo_data_2"
   ]
  },
  {
   "cell_type": "code",
   "execution_count": 3,
   "metadata": {},
   "outputs": [],
   "source": [
    "def get_info(dataset):\n",
    "    display(dataset.head(10)) #получим первые 10 строк таблицы\n",
    "    dataset.info() #получим общую информацию о данных в таблице\n",
    "    display(dataset.describe()) #получим также разброс значений, максимум, минимум, среднее и медиану\n",
    "    display(\"Доля пропущенных значений:\", dataset.isna().mean()) #получим долю пропущенных значений среди всех данных\n",
    "    print(\"Количество дубликатов:\", dataset.duplicated().sum()) #получим количество дубликатов"
   ]
  },
  {
   "cell_type": "code",
   "execution_count": 4,
   "metadata": {},
   "outputs": [
    {
     "data": {
      "text/html": [
       "<div>\n",
       "<style scoped>\n",
       "    .dataframe tbody tr th:only-of-type {\n",
       "        vertical-align: middle;\n",
       "    }\n",
       "\n",
       "    .dataframe tbody tr th {\n",
       "        vertical-align: top;\n",
       "    }\n",
       "\n",
       "    .dataframe thead th {\n",
       "        text-align: right;\n",
       "    }\n",
       "</style>\n",
       "<table border=\"1\" class=\"dataframe\">\n",
       "  <thead>\n",
       "    <tr style=\"text-align: right;\">\n",
       "      <th></th>\n",
       "      <th>id</th>\n",
       "      <th>f0</th>\n",
       "      <th>f1</th>\n",
       "      <th>f2</th>\n",
       "      <th>product</th>\n",
       "    </tr>\n",
       "  </thead>\n",
       "  <tbody>\n",
       "    <tr>\n",
       "      <th>0</th>\n",
       "      <td>txEyH</td>\n",
       "      <td>0.705745</td>\n",
       "      <td>-0.497823</td>\n",
       "      <td>1.221170</td>\n",
       "      <td>105.280062</td>\n",
       "    </tr>\n",
       "    <tr>\n",
       "      <th>1</th>\n",
       "      <td>2acmU</td>\n",
       "      <td>1.334711</td>\n",
       "      <td>-0.340164</td>\n",
       "      <td>4.365080</td>\n",
       "      <td>73.037750</td>\n",
       "    </tr>\n",
       "    <tr>\n",
       "      <th>2</th>\n",
       "      <td>409Wp</td>\n",
       "      <td>1.022732</td>\n",
       "      <td>0.151990</td>\n",
       "      <td>1.419926</td>\n",
       "      <td>85.265647</td>\n",
       "    </tr>\n",
       "    <tr>\n",
       "      <th>3</th>\n",
       "      <td>iJLyR</td>\n",
       "      <td>-0.032172</td>\n",
       "      <td>0.139033</td>\n",
       "      <td>2.978566</td>\n",
       "      <td>168.620776</td>\n",
       "    </tr>\n",
       "    <tr>\n",
       "      <th>4</th>\n",
       "      <td>Xdl7t</td>\n",
       "      <td>1.988431</td>\n",
       "      <td>0.155413</td>\n",
       "      <td>4.751769</td>\n",
       "      <td>154.036647</td>\n",
       "    </tr>\n",
       "    <tr>\n",
       "      <th>5</th>\n",
       "      <td>wX4Hy</td>\n",
       "      <td>0.969570</td>\n",
       "      <td>0.489775</td>\n",
       "      <td>-0.735383</td>\n",
       "      <td>64.741541</td>\n",
       "    </tr>\n",
       "    <tr>\n",
       "      <th>6</th>\n",
       "      <td>tL6pL</td>\n",
       "      <td>0.645075</td>\n",
       "      <td>0.530656</td>\n",
       "      <td>1.780266</td>\n",
       "      <td>49.055285</td>\n",
       "    </tr>\n",
       "    <tr>\n",
       "      <th>7</th>\n",
       "      <td>BYPU6</td>\n",
       "      <td>-0.400648</td>\n",
       "      <td>0.808337</td>\n",
       "      <td>-5.624670</td>\n",
       "      <td>72.943292</td>\n",
       "    </tr>\n",
       "    <tr>\n",
       "      <th>8</th>\n",
       "      <td>j9Oui</td>\n",
       "      <td>0.643105</td>\n",
       "      <td>-0.551583</td>\n",
       "      <td>2.372141</td>\n",
       "      <td>113.356160</td>\n",
       "    </tr>\n",
       "    <tr>\n",
       "      <th>9</th>\n",
       "      <td>OLuZU</td>\n",
       "      <td>2.173381</td>\n",
       "      <td>0.563698</td>\n",
       "      <td>9.441852</td>\n",
       "      <td>127.910945</td>\n",
       "    </tr>\n",
       "  </tbody>\n",
       "</table>\n",
       "</div>"
      ],
      "text/plain": [
       "      id        f0        f1        f2     product\n",
       "0  txEyH  0.705745 -0.497823  1.221170  105.280062\n",
       "1  2acmU  1.334711 -0.340164  4.365080   73.037750\n",
       "2  409Wp  1.022732  0.151990  1.419926   85.265647\n",
       "3  iJLyR -0.032172  0.139033  2.978566  168.620776\n",
       "4  Xdl7t  1.988431  0.155413  4.751769  154.036647\n",
       "5  wX4Hy  0.969570  0.489775 -0.735383   64.741541\n",
       "6  tL6pL  0.645075  0.530656  1.780266   49.055285\n",
       "7  BYPU6 -0.400648  0.808337 -5.624670   72.943292\n",
       "8  j9Oui  0.643105 -0.551583  2.372141  113.356160\n",
       "9  OLuZU  2.173381  0.563698  9.441852  127.910945"
      ]
     },
     "metadata": {},
     "output_type": "display_data"
    },
    {
     "name": "stdout",
     "output_type": "stream",
     "text": [
      "<class 'pandas.core.frame.DataFrame'>\n",
      "RangeIndex: 100000 entries, 0 to 99999\n",
      "Data columns (total 5 columns):\n",
      " #   Column   Non-Null Count   Dtype  \n",
      "---  ------   --------------   -----  \n",
      " 0   id       100000 non-null  object \n",
      " 1   f0       100000 non-null  float64\n",
      " 2   f1       100000 non-null  float64\n",
      " 3   f2       100000 non-null  float64\n",
      " 4   product  100000 non-null  float64\n",
      "dtypes: float64(4), object(1)\n",
      "memory usage: 3.8+ MB\n"
     ]
    },
    {
     "data": {
      "text/html": [
       "<div>\n",
       "<style scoped>\n",
       "    .dataframe tbody tr th:only-of-type {\n",
       "        vertical-align: middle;\n",
       "    }\n",
       "\n",
       "    .dataframe tbody tr th {\n",
       "        vertical-align: top;\n",
       "    }\n",
       "\n",
       "    .dataframe thead th {\n",
       "        text-align: right;\n",
       "    }\n",
       "</style>\n",
       "<table border=\"1\" class=\"dataframe\">\n",
       "  <thead>\n",
       "    <tr style=\"text-align: right;\">\n",
       "      <th></th>\n",
       "      <th>f0</th>\n",
       "      <th>f1</th>\n",
       "      <th>f2</th>\n",
       "      <th>product</th>\n",
       "    </tr>\n",
       "  </thead>\n",
       "  <tbody>\n",
       "    <tr>\n",
       "      <th>count</th>\n",
       "      <td>100000.000000</td>\n",
       "      <td>100000.000000</td>\n",
       "      <td>100000.000000</td>\n",
       "      <td>100000.000000</td>\n",
       "    </tr>\n",
       "    <tr>\n",
       "      <th>mean</th>\n",
       "      <td>0.500419</td>\n",
       "      <td>0.250143</td>\n",
       "      <td>2.502647</td>\n",
       "      <td>92.500000</td>\n",
       "    </tr>\n",
       "    <tr>\n",
       "      <th>std</th>\n",
       "      <td>0.871832</td>\n",
       "      <td>0.504433</td>\n",
       "      <td>3.248248</td>\n",
       "      <td>44.288691</td>\n",
       "    </tr>\n",
       "    <tr>\n",
       "      <th>min</th>\n",
       "      <td>-1.408605</td>\n",
       "      <td>-0.848218</td>\n",
       "      <td>-12.088328</td>\n",
       "      <td>0.000000</td>\n",
       "    </tr>\n",
       "    <tr>\n",
       "      <th>25%</th>\n",
       "      <td>-0.072580</td>\n",
       "      <td>-0.200881</td>\n",
       "      <td>0.287748</td>\n",
       "      <td>56.497507</td>\n",
       "    </tr>\n",
       "    <tr>\n",
       "      <th>50%</th>\n",
       "      <td>0.502360</td>\n",
       "      <td>0.250252</td>\n",
       "      <td>2.515969</td>\n",
       "      <td>91.849972</td>\n",
       "    </tr>\n",
       "    <tr>\n",
       "      <th>75%</th>\n",
       "      <td>1.073581</td>\n",
       "      <td>0.700646</td>\n",
       "      <td>4.715088</td>\n",
       "      <td>128.564089</td>\n",
       "    </tr>\n",
       "    <tr>\n",
       "      <th>max</th>\n",
       "      <td>2.362331</td>\n",
       "      <td>1.343769</td>\n",
       "      <td>16.003790</td>\n",
       "      <td>185.364347</td>\n",
       "    </tr>\n",
       "  </tbody>\n",
       "</table>\n",
       "</div>"
      ],
      "text/plain": [
       "                  f0             f1             f2        product\n",
       "count  100000.000000  100000.000000  100000.000000  100000.000000\n",
       "mean        0.500419       0.250143       2.502647      92.500000\n",
       "std         0.871832       0.504433       3.248248      44.288691\n",
       "min        -1.408605      -0.848218     -12.088328       0.000000\n",
       "25%        -0.072580      -0.200881       0.287748      56.497507\n",
       "50%         0.502360       0.250252       2.515969      91.849972\n",
       "75%         1.073581       0.700646       4.715088     128.564089\n",
       "max         2.362331       1.343769      16.003790     185.364347"
      ]
     },
     "metadata": {},
     "output_type": "display_data"
    },
    {
     "data": {
      "text/plain": [
       "'Доля пропущенных значений:'"
      ]
     },
     "metadata": {},
     "output_type": "display_data"
    },
    {
     "data": {
      "text/plain": [
       "id         0.0\n",
       "f0         0.0\n",
       "f1         0.0\n",
       "f2         0.0\n",
       "product    0.0\n",
       "dtype: float64"
      ]
     },
     "metadata": {},
     "output_type": "display_data"
    },
    {
     "name": "stdout",
     "output_type": "stream",
     "text": [
      "Количество дубликатов: 0\n"
     ]
    }
   ],
   "source": [
    "get_info(geo_data_0) #применим функцию для geo_data_0"
   ]
  },
  {
   "cell_type": "code",
   "execution_count": 5,
   "metadata": {},
   "outputs": [
    {
     "data": {
      "text/html": [
       "<div>\n",
       "<style scoped>\n",
       "    .dataframe tbody tr th:only-of-type {\n",
       "        vertical-align: middle;\n",
       "    }\n",
       "\n",
       "    .dataframe tbody tr th {\n",
       "        vertical-align: top;\n",
       "    }\n",
       "\n",
       "    .dataframe thead th {\n",
       "        text-align: right;\n",
       "    }\n",
       "</style>\n",
       "<table border=\"1\" class=\"dataframe\">\n",
       "  <thead>\n",
       "    <tr style=\"text-align: right;\">\n",
       "      <th></th>\n",
       "      <th>id</th>\n",
       "      <th>f0</th>\n",
       "      <th>f1</th>\n",
       "      <th>f2</th>\n",
       "      <th>product</th>\n",
       "    </tr>\n",
       "  </thead>\n",
       "  <tbody>\n",
       "    <tr>\n",
       "      <th>0</th>\n",
       "      <td>kBEdx</td>\n",
       "      <td>-15.001348</td>\n",
       "      <td>-8.276000</td>\n",
       "      <td>-0.005876</td>\n",
       "      <td>3.179103</td>\n",
       "    </tr>\n",
       "    <tr>\n",
       "      <th>1</th>\n",
       "      <td>62mP7</td>\n",
       "      <td>14.272088</td>\n",
       "      <td>-3.475083</td>\n",
       "      <td>0.999183</td>\n",
       "      <td>26.953261</td>\n",
       "    </tr>\n",
       "    <tr>\n",
       "      <th>2</th>\n",
       "      <td>vyE1P</td>\n",
       "      <td>6.263187</td>\n",
       "      <td>-5.948386</td>\n",
       "      <td>5.001160</td>\n",
       "      <td>134.766305</td>\n",
       "    </tr>\n",
       "    <tr>\n",
       "      <th>3</th>\n",
       "      <td>KcrkZ</td>\n",
       "      <td>-13.081196</td>\n",
       "      <td>-11.506057</td>\n",
       "      <td>4.999415</td>\n",
       "      <td>137.945408</td>\n",
       "    </tr>\n",
       "    <tr>\n",
       "      <th>4</th>\n",
       "      <td>AHL4O</td>\n",
       "      <td>12.702195</td>\n",
       "      <td>-8.147433</td>\n",
       "      <td>5.004363</td>\n",
       "      <td>134.766305</td>\n",
       "    </tr>\n",
       "    <tr>\n",
       "      <th>5</th>\n",
       "      <td>HHckp</td>\n",
       "      <td>-3.327590</td>\n",
       "      <td>-2.205276</td>\n",
       "      <td>3.003647</td>\n",
       "      <td>84.038886</td>\n",
       "    </tr>\n",
       "    <tr>\n",
       "      <th>6</th>\n",
       "      <td>h5Ujo</td>\n",
       "      <td>-11.142655</td>\n",
       "      <td>-10.133399</td>\n",
       "      <td>4.002382</td>\n",
       "      <td>110.992147</td>\n",
       "    </tr>\n",
       "    <tr>\n",
       "      <th>7</th>\n",
       "      <td>muH9x</td>\n",
       "      <td>4.234715</td>\n",
       "      <td>-0.001354</td>\n",
       "      <td>2.004588</td>\n",
       "      <td>53.906522</td>\n",
       "    </tr>\n",
       "    <tr>\n",
       "      <th>8</th>\n",
       "      <td>YiRkx</td>\n",
       "      <td>13.355129</td>\n",
       "      <td>-0.332068</td>\n",
       "      <td>4.998647</td>\n",
       "      <td>134.766305</td>\n",
       "    </tr>\n",
       "    <tr>\n",
       "      <th>9</th>\n",
       "      <td>jG6Gi</td>\n",
       "      <td>1.069227</td>\n",
       "      <td>-11.025667</td>\n",
       "      <td>4.997844</td>\n",
       "      <td>137.945408</td>\n",
       "    </tr>\n",
       "  </tbody>\n",
       "</table>\n",
       "</div>"
      ],
      "text/plain": [
       "      id         f0         f1        f2     product\n",
       "0  kBEdx -15.001348  -8.276000 -0.005876    3.179103\n",
       "1  62mP7  14.272088  -3.475083  0.999183   26.953261\n",
       "2  vyE1P   6.263187  -5.948386  5.001160  134.766305\n",
       "3  KcrkZ -13.081196 -11.506057  4.999415  137.945408\n",
       "4  AHL4O  12.702195  -8.147433  5.004363  134.766305\n",
       "5  HHckp  -3.327590  -2.205276  3.003647   84.038886\n",
       "6  h5Ujo -11.142655 -10.133399  4.002382  110.992147\n",
       "7  muH9x   4.234715  -0.001354  2.004588   53.906522\n",
       "8  YiRkx  13.355129  -0.332068  4.998647  134.766305\n",
       "9  jG6Gi   1.069227 -11.025667  4.997844  137.945408"
      ]
     },
     "metadata": {},
     "output_type": "display_data"
    },
    {
     "name": "stdout",
     "output_type": "stream",
     "text": [
      "<class 'pandas.core.frame.DataFrame'>\n",
      "RangeIndex: 100000 entries, 0 to 99999\n",
      "Data columns (total 5 columns):\n",
      " #   Column   Non-Null Count   Dtype  \n",
      "---  ------   --------------   -----  \n",
      " 0   id       100000 non-null  object \n",
      " 1   f0       100000 non-null  float64\n",
      " 2   f1       100000 non-null  float64\n",
      " 3   f2       100000 non-null  float64\n",
      " 4   product  100000 non-null  float64\n",
      "dtypes: float64(4), object(1)\n",
      "memory usage: 3.8+ MB\n"
     ]
    },
    {
     "data": {
      "text/html": [
       "<div>\n",
       "<style scoped>\n",
       "    .dataframe tbody tr th:only-of-type {\n",
       "        vertical-align: middle;\n",
       "    }\n",
       "\n",
       "    .dataframe tbody tr th {\n",
       "        vertical-align: top;\n",
       "    }\n",
       "\n",
       "    .dataframe thead th {\n",
       "        text-align: right;\n",
       "    }\n",
       "</style>\n",
       "<table border=\"1\" class=\"dataframe\">\n",
       "  <thead>\n",
       "    <tr style=\"text-align: right;\">\n",
       "      <th></th>\n",
       "      <th>f0</th>\n",
       "      <th>f1</th>\n",
       "      <th>f2</th>\n",
       "      <th>product</th>\n",
       "    </tr>\n",
       "  </thead>\n",
       "  <tbody>\n",
       "    <tr>\n",
       "      <th>count</th>\n",
       "      <td>100000.000000</td>\n",
       "      <td>100000.000000</td>\n",
       "      <td>100000.000000</td>\n",
       "      <td>100000.000000</td>\n",
       "    </tr>\n",
       "    <tr>\n",
       "      <th>mean</th>\n",
       "      <td>1.141296</td>\n",
       "      <td>-4.796579</td>\n",
       "      <td>2.494541</td>\n",
       "      <td>68.825000</td>\n",
       "    </tr>\n",
       "    <tr>\n",
       "      <th>std</th>\n",
       "      <td>8.965932</td>\n",
       "      <td>5.119872</td>\n",
       "      <td>1.703572</td>\n",
       "      <td>45.944423</td>\n",
       "    </tr>\n",
       "    <tr>\n",
       "      <th>min</th>\n",
       "      <td>-31.609576</td>\n",
       "      <td>-26.358598</td>\n",
       "      <td>-0.018144</td>\n",
       "      <td>0.000000</td>\n",
       "    </tr>\n",
       "    <tr>\n",
       "      <th>25%</th>\n",
       "      <td>-6.298551</td>\n",
       "      <td>-8.267985</td>\n",
       "      <td>1.000021</td>\n",
       "      <td>26.953261</td>\n",
       "    </tr>\n",
       "    <tr>\n",
       "      <th>50%</th>\n",
       "      <td>1.153055</td>\n",
       "      <td>-4.813172</td>\n",
       "      <td>2.011479</td>\n",
       "      <td>57.085625</td>\n",
       "    </tr>\n",
       "    <tr>\n",
       "      <th>75%</th>\n",
       "      <td>8.621015</td>\n",
       "      <td>-1.332816</td>\n",
       "      <td>3.999904</td>\n",
       "      <td>107.813044</td>\n",
       "    </tr>\n",
       "    <tr>\n",
       "      <th>max</th>\n",
       "      <td>29.421755</td>\n",
       "      <td>18.734063</td>\n",
       "      <td>5.019721</td>\n",
       "      <td>137.945408</td>\n",
       "    </tr>\n",
       "  </tbody>\n",
       "</table>\n",
       "</div>"
      ],
      "text/plain": [
       "                  f0             f1             f2        product\n",
       "count  100000.000000  100000.000000  100000.000000  100000.000000\n",
       "mean        1.141296      -4.796579       2.494541      68.825000\n",
       "std         8.965932       5.119872       1.703572      45.944423\n",
       "min       -31.609576     -26.358598      -0.018144       0.000000\n",
       "25%        -6.298551      -8.267985       1.000021      26.953261\n",
       "50%         1.153055      -4.813172       2.011479      57.085625\n",
       "75%         8.621015      -1.332816       3.999904     107.813044\n",
       "max        29.421755      18.734063       5.019721     137.945408"
      ]
     },
     "metadata": {},
     "output_type": "display_data"
    },
    {
     "data": {
      "text/plain": [
       "'Доля пропущенных значений:'"
      ]
     },
     "metadata": {},
     "output_type": "display_data"
    },
    {
     "data": {
      "text/plain": [
       "id         0.0\n",
       "f0         0.0\n",
       "f1         0.0\n",
       "f2         0.0\n",
       "product    0.0\n",
       "dtype: float64"
      ]
     },
     "metadata": {},
     "output_type": "display_data"
    },
    {
     "name": "stdout",
     "output_type": "stream",
     "text": [
      "Количество дубликатов: 0\n"
     ]
    }
   ],
   "source": [
    "get_info(geo_data_1) #применим функцию для geo_data_1"
   ]
  },
  {
   "cell_type": "code",
   "execution_count": 6,
   "metadata": {},
   "outputs": [
    {
     "data": {
      "text/html": [
       "<div>\n",
       "<style scoped>\n",
       "    .dataframe tbody tr th:only-of-type {\n",
       "        vertical-align: middle;\n",
       "    }\n",
       "\n",
       "    .dataframe tbody tr th {\n",
       "        vertical-align: top;\n",
       "    }\n",
       "\n",
       "    .dataframe thead th {\n",
       "        text-align: right;\n",
       "    }\n",
       "</style>\n",
       "<table border=\"1\" class=\"dataframe\">\n",
       "  <thead>\n",
       "    <tr style=\"text-align: right;\">\n",
       "      <th></th>\n",
       "      <th>id</th>\n",
       "      <th>f0</th>\n",
       "      <th>f1</th>\n",
       "      <th>f2</th>\n",
       "      <th>product</th>\n",
       "    </tr>\n",
       "  </thead>\n",
       "  <tbody>\n",
       "    <tr>\n",
       "      <th>0</th>\n",
       "      <td>fwXo0</td>\n",
       "      <td>-1.146987</td>\n",
       "      <td>0.963328</td>\n",
       "      <td>-0.828965</td>\n",
       "      <td>27.758673</td>\n",
       "    </tr>\n",
       "    <tr>\n",
       "      <th>1</th>\n",
       "      <td>WJtFt</td>\n",
       "      <td>0.262778</td>\n",
       "      <td>0.269839</td>\n",
       "      <td>-2.530187</td>\n",
       "      <td>56.069697</td>\n",
       "    </tr>\n",
       "    <tr>\n",
       "      <th>2</th>\n",
       "      <td>ovLUW</td>\n",
       "      <td>0.194587</td>\n",
       "      <td>0.289035</td>\n",
       "      <td>-5.586433</td>\n",
       "      <td>62.871910</td>\n",
       "    </tr>\n",
       "    <tr>\n",
       "      <th>3</th>\n",
       "      <td>q6cA6</td>\n",
       "      <td>2.236060</td>\n",
       "      <td>-0.553760</td>\n",
       "      <td>0.930038</td>\n",
       "      <td>114.572842</td>\n",
       "    </tr>\n",
       "    <tr>\n",
       "      <th>4</th>\n",
       "      <td>WPMUX</td>\n",
       "      <td>-0.515993</td>\n",
       "      <td>1.716266</td>\n",
       "      <td>5.899011</td>\n",
       "      <td>149.600746</td>\n",
       "    </tr>\n",
       "    <tr>\n",
       "      <th>5</th>\n",
       "      <td>LzZXx</td>\n",
       "      <td>-0.758092</td>\n",
       "      <td>0.710691</td>\n",
       "      <td>2.585887</td>\n",
       "      <td>90.222465</td>\n",
       "    </tr>\n",
       "    <tr>\n",
       "      <th>6</th>\n",
       "      <td>WBHRv</td>\n",
       "      <td>-0.574891</td>\n",
       "      <td>0.317727</td>\n",
       "      <td>1.773745</td>\n",
       "      <td>45.641478</td>\n",
       "    </tr>\n",
       "    <tr>\n",
       "      <th>7</th>\n",
       "      <td>XO8fn</td>\n",
       "      <td>-1.906649</td>\n",
       "      <td>-2.458350</td>\n",
       "      <td>-0.177097</td>\n",
       "      <td>72.480640</td>\n",
       "    </tr>\n",
       "    <tr>\n",
       "      <th>8</th>\n",
       "      <td>ybmQ5</td>\n",
       "      <td>1.776292</td>\n",
       "      <td>-0.279356</td>\n",
       "      <td>3.004156</td>\n",
       "      <td>106.616832</td>\n",
       "    </tr>\n",
       "    <tr>\n",
       "      <th>9</th>\n",
       "      <td>OilcN</td>\n",
       "      <td>-1.214452</td>\n",
       "      <td>-0.439314</td>\n",
       "      <td>5.922514</td>\n",
       "      <td>52.954532</td>\n",
       "    </tr>\n",
       "  </tbody>\n",
       "</table>\n",
       "</div>"
      ],
      "text/plain": [
       "      id        f0        f1        f2     product\n",
       "0  fwXo0 -1.146987  0.963328 -0.828965   27.758673\n",
       "1  WJtFt  0.262778  0.269839 -2.530187   56.069697\n",
       "2  ovLUW  0.194587  0.289035 -5.586433   62.871910\n",
       "3  q6cA6  2.236060 -0.553760  0.930038  114.572842\n",
       "4  WPMUX -0.515993  1.716266  5.899011  149.600746\n",
       "5  LzZXx -0.758092  0.710691  2.585887   90.222465\n",
       "6  WBHRv -0.574891  0.317727  1.773745   45.641478\n",
       "7  XO8fn -1.906649 -2.458350 -0.177097   72.480640\n",
       "8  ybmQ5  1.776292 -0.279356  3.004156  106.616832\n",
       "9  OilcN -1.214452 -0.439314  5.922514   52.954532"
      ]
     },
     "metadata": {},
     "output_type": "display_data"
    },
    {
     "name": "stdout",
     "output_type": "stream",
     "text": [
      "<class 'pandas.core.frame.DataFrame'>\n",
      "RangeIndex: 100000 entries, 0 to 99999\n",
      "Data columns (total 5 columns):\n",
      " #   Column   Non-Null Count   Dtype  \n",
      "---  ------   --------------   -----  \n",
      " 0   id       100000 non-null  object \n",
      " 1   f0       100000 non-null  float64\n",
      " 2   f1       100000 non-null  float64\n",
      " 3   f2       100000 non-null  float64\n",
      " 4   product  100000 non-null  float64\n",
      "dtypes: float64(4), object(1)\n",
      "memory usage: 3.8+ MB\n"
     ]
    },
    {
     "data": {
      "text/html": [
       "<div>\n",
       "<style scoped>\n",
       "    .dataframe tbody tr th:only-of-type {\n",
       "        vertical-align: middle;\n",
       "    }\n",
       "\n",
       "    .dataframe tbody tr th {\n",
       "        vertical-align: top;\n",
       "    }\n",
       "\n",
       "    .dataframe thead th {\n",
       "        text-align: right;\n",
       "    }\n",
       "</style>\n",
       "<table border=\"1\" class=\"dataframe\">\n",
       "  <thead>\n",
       "    <tr style=\"text-align: right;\">\n",
       "      <th></th>\n",
       "      <th>f0</th>\n",
       "      <th>f1</th>\n",
       "      <th>f2</th>\n",
       "      <th>product</th>\n",
       "    </tr>\n",
       "  </thead>\n",
       "  <tbody>\n",
       "    <tr>\n",
       "      <th>count</th>\n",
       "      <td>100000.000000</td>\n",
       "      <td>100000.000000</td>\n",
       "      <td>100000.000000</td>\n",
       "      <td>100000.000000</td>\n",
       "    </tr>\n",
       "    <tr>\n",
       "      <th>mean</th>\n",
       "      <td>0.002023</td>\n",
       "      <td>-0.002081</td>\n",
       "      <td>2.495128</td>\n",
       "      <td>95.000000</td>\n",
       "    </tr>\n",
       "    <tr>\n",
       "      <th>std</th>\n",
       "      <td>1.732045</td>\n",
       "      <td>1.730417</td>\n",
       "      <td>3.473445</td>\n",
       "      <td>44.749921</td>\n",
       "    </tr>\n",
       "    <tr>\n",
       "      <th>min</th>\n",
       "      <td>-8.760004</td>\n",
       "      <td>-7.084020</td>\n",
       "      <td>-11.970335</td>\n",
       "      <td>0.000000</td>\n",
       "    </tr>\n",
       "    <tr>\n",
       "      <th>25%</th>\n",
       "      <td>-1.162288</td>\n",
       "      <td>-1.174820</td>\n",
       "      <td>0.130359</td>\n",
       "      <td>59.450441</td>\n",
       "    </tr>\n",
       "    <tr>\n",
       "      <th>50%</th>\n",
       "      <td>0.009424</td>\n",
       "      <td>-0.009482</td>\n",
       "      <td>2.484236</td>\n",
       "      <td>94.925613</td>\n",
       "    </tr>\n",
       "    <tr>\n",
       "      <th>75%</th>\n",
       "      <td>1.158535</td>\n",
       "      <td>1.163678</td>\n",
       "      <td>4.858794</td>\n",
       "      <td>130.595027</td>\n",
       "    </tr>\n",
       "    <tr>\n",
       "      <th>max</th>\n",
       "      <td>7.238262</td>\n",
       "      <td>7.844801</td>\n",
       "      <td>16.739402</td>\n",
       "      <td>190.029838</td>\n",
       "    </tr>\n",
       "  </tbody>\n",
       "</table>\n",
       "</div>"
      ],
      "text/plain": [
       "                  f0             f1             f2        product\n",
       "count  100000.000000  100000.000000  100000.000000  100000.000000\n",
       "mean        0.002023      -0.002081       2.495128      95.000000\n",
       "std         1.732045       1.730417       3.473445      44.749921\n",
       "min        -8.760004      -7.084020     -11.970335       0.000000\n",
       "25%        -1.162288      -1.174820       0.130359      59.450441\n",
       "50%         0.009424      -0.009482       2.484236      94.925613\n",
       "75%         1.158535       1.163678       4.858794     130.595027\n",
       "max         7.238262       7.844801      16.739402     190.029838"
      ]
     },
     "metadata": {},
     "output_type": "display_data"
    },
    {
     "data": {
      "text/plain": [
       "'Доля пропущенных значений:'"
      ]
     },
     "metadata": {},
     "output_type": "display_data"
    },
    {
     "data": {
      "text/plain": [
       "id         0.0\n",
       "f0         0.0\n",
       "f1         0.0\n",
       "f2         0.0\n",
       "product    0.0\n",
       "dtype: float64"
      ]
     },
     "metadata": {},
     "output_type": "display_data"
    },
    {
     "name": "stdout",
     "output_type": "stream",
     "text": [
      "Количество дубликатов: 0\n"
     ]
    }
   ],
   "source": [
    "get_info(geo_data_2) #применим функцию для geo_data_2"
   ]
  },
  {
   "cell_type": "markdown",
   "metadata": {},
   "source": [
    "###### Вывод"
   ]
  },
  {
   "cell_type": "markdown",
   "metadata": {},
   "source": [
    "Предоставлены пробы нефти в трёх регионах: geo_data_0 (регион 0), geo_data_1 (регион 1):\n",
    "\n",
    "    id — уникальный идентификатор скважины;\n",
    "\n",
    "    f0, f1, f2 — три признака точек (неважно, что они означают, но сами признаки значимы);\n",
    "\n",
    "    product — объём запасов в скважине (тыс. баррелей).\n",
    "В каждой из таблиц 5 столбцов. Типы данных в столбцах — object, float64.\n",
    "\n",
    "В названии колонок нарушения стиля нет. Количество значений в столбцах одинаковое. Дубликатов нет. \n",
    "\n",
    "Обнаружены неинформативные столбцы id. Т.к. суть модели в прогнозе количества сырья на основе характеристик скважины."
   ]
  },
  {
   "cell_type": "markdown",
   "metadata": {},
   "source": [
    "### Подготовка данных"
   ]
  },
  {
   "cell_type": "markdown",
   "metadata": {},
   "source": [
    "Так как столбец id для дальнейшего анализа, обучения модели и расчетов не понадобится, удалим. Для этого напишем функцию удаления столбца в каждой таблице."
   ]
  },
  {
   "cell_type": "code",
   "execution_count": 7,
   "metadata": {},
   "outputs": [],
   "source": [
    "def drop_column(datasets):\n",
    "    for i in range(len(datasets)):\n",
    "        datasets[i] = datasets[i].drop('id', axis=1) # #удалим столбец 'id'\n",
    "    return datasets"
   ]
  },
  {
   "cell_type": "code",
   "execution_count": 8,
   "metadata": {},
   "outputs": [],
   "source": [
    "[geo_data_0, geo_data_1, geo_data_2] = drop_column([geo_data_0, geo_data_1, geo_data_2]) #применим функцию drop_column"
   ]
  },
  {
   "cell_type": "markdown",
   "metadata": {},
   "source": [
    "Проверим данные на зависимость, чтобы в случае высокой связи исключить какой-либо признак."
   ]
  },
  {
   "cell_type": "code",
   "execution_count": 9,
   "metadata": {},
   "outputs": [
    {
     "data": {
      "text/html": [
       "<div>\n",
       "<style scoped>\n",
       "    .dataframe tbody tr th:only-of-type {\n",
       "        vertical-align: middle;\n",
       "    }\n",
       "\n",
       "    .dataframe tbody tr th {\n",
       "        vertical-align: top;\n",
       "    }\n",
       "\n",
       "    .dataframe thead th {\n",
       "        text-align: right;\n",
       "    }\n",
       "</style>\n",
       "<table border=\"1\" class=\"dataframe\">\n",
       "  <thead>\n",
       "    <tr style=\"text-align: right;\">\n",
       "      <th></th>\n",
       "      <th>f0</th>\n",
       "      <th>f1</th>\n",
       "      <th>f2</th>\n",
       "      <th>product</th>\n",
       "    </tr>\n",
       "  </thead>\n",
       "  <tbody>\n",
       "    <tr>\n",
       "      <th>f0</th>\n",
       "      <td>1.000000</td>\n",
       "      <td>-0.440723</td>\n",
       "      <td>-0.003153</td>\n",
       "      <td>0.143536</td>\n",
       "    </tr>\n",
       "    <tr>\n",
       "      <th>f1</th>\n",
       "      <td>-0.440723</td>\n",
       "      <td>1.000000</td>\n",
       "      <td>0.001724</td>\n",
       "      <td>-0.192356</td>\n",
       "    </tr>\n",
       "    <tr>\n",
       "      <th>f2</th>\n",
       "      <td>-0.003153</td>\n",
       "      <td>0.001724</td>\n",
       "      <td>1.000000</td>\n",
       "      <td>0.483663</td>\n",
       "    </tr>\n",
       "    <tr>\n",
       "      <th>product</th>\n",
       "      <td>0.143536</td>\n",
       "      <td>-0.192356</td>\n",
       "      <td>0.483663</td>\n",
       "      <td>1.000000</td>\n",
       "    </tr>\n",
       "  </tbody>\n",
       "</table>\n",
       "</div>"
      ],
      "text/plain": [
       "               f0        f1        f2   product\n",
       "f0       1.000000 -0.440723 -0.003153  0.143536\n",
       "f1      -0.440723  1.000000  0.001724 -0.192356\n",
       "f2      -0.003153  0.001724  1.000000  0.483663\n",
       "product  0.143536 -0.192356  0.483663  1.000000"
      ]
     },
     "execution_count": 9,
     "metadata": {},
     "output_type": "execute_result"
    }
   ],
   "source": [
    "geo_data_0.corr() #посчитаем корреляцию "
   ]
  },
  {
   "cell_type": "code",
   "execution_count": 10,
   "metadata": {},
   "outputs": [
    {
     "data": {
      "text/html": [
       "<div>\n",
       "<style scoped>\n",
       "    .dataframe tbody tr th:only-of-type {\n",
       "        vertical-align: middle;\n",
       "    }\n",
       "\n",
       "    .dataframe tbody tr th {\n",
       "        vertical-align: top;\n",
       "    }\n",
       "\n",
       "    .dataframe thead th {\n",
       "        text-align: right;\n",
       "    }\n",
       "</style>\n",
       "<table border=\"1\" class=\"dataframe\">\n",
       "  <thead>\n",
       "    <tr style=\"text-align: right;\">\n",
       "      <th></th>\n",
       "      <th>f0</th>\n",
       "      <th>f1</th>\n",
       "      <th>f2</th>\n",
       "      <th>product</th>\n",
       "    </tr>\n",
       "  </thead>\n",
       "  <tbody>\n",
       "    <tr>\n",
       "      <th>f0</th>\n",
       "      <td>1.000000</td>\n",
       "      <td>0.182287</td>\n",
       "      <td>-0.001777</td>\n",
       "      <td>-0.030491</td>\n",
       "    </tr>\n",
       "    <tr>\n",
       "      <th>f1</th>\n",
       "      <td>0.182287</td>\n",
       "      <td>1.000000</td>\n",
       "      <td>-0.002595</td>\n",
       "      <td>-0.010155</td>\n",
       "    </tr>\n",
       "    <tr>\n",
       "      <th>f2</th>\n",
       "      <td>-0.001777</td>\n",
       "      <td>-0.002595</td>\n",
       "      <td>1.000000</td>\n",
       "      <td>0.999397</td>\n",
       "    </tr>\n",
       "    <tr>\n",
       "      <th>product</th>\n",
       "      <td>-0.030491</td>\n",
       "      <td>-0.010155</td>\n",
       "      <td>0.999397</td>\n",
       "      <td>1.000000</td>\n",
       "    </tr>\n",
       "  </tbody>\n",
       "</table>\n",
       "</div>"
      ],
      "text/plain": [
       "               f0        f1        f2   product\n",
       "f0       1.000000  0.182287 -0.001777 -0.030491\n",
       "f1       0.182287  1.000000 -0.002595 -0.010155\n",
       "f2      -0.001777 -0.002595  1.000000  0.999397\n",
       "product -0.030491 -0.010155  0.999397  1.000000"
      ]
     },
     "execution_count": 10,
     "metadata": {},
     "output_type": "execute_result"
    }
   ],
   "source": [
    "geo_data_1.corr() #посчитаем корреляцию "
   ]
  },
  {
   "cell_type": "code",
   "execution_count": 11,
   "metadata": {},
   "outputs": [
    {
     "data": {
      "text/html": [
       "<div>\n",
       "<style scoped>\n",
       "    .dataframe tbody tr th:only-of-type {\n",
       "        vertical-align: middle;\n",
       "    }\n",
       "\n",
       "    .dataframe tbody tr th {\n",
       "        vertical-align: top;\n",
       "    }\n",
       "\n",
       "    .dataframe thead th {\n",
       "        text-align: right;\n",
       "    }\n",
       "</style>\n",
       "<table border=\"1\" class=\"dataframe\">\n",
       "  <thead>\n",
       "    <tr style=\"text-align: right;\">\n",
       "      <th></th>\n",
       "      <th>f0</th>\n",
       "      <th>f1</th>\n",
       "      <th>f2</th>\n",
       "      <th>product</th>\n",
       "    </tr>\n",
       "  </thead>\n",
       "  <tbody>\n",
       "    <tr>\n",
       "      <th>f0</th>\n",
       "      <td>1.000000</td>\n",
       "      <td>0.000528</td>\n",
       "      <td>-0.000448</td>\n",
       "      <td>-0.001987</td>\n",
       "    </tr>\n",
       "    <tr>\n",
       "      <th>f1</th>\n",
       "      <td>0.000528</td>\n",
       "      <td>1.000000</td>\n",
       "      <td>0.000779</td>\n",
       "      <td>-0.001012</td>\n",
       "    </tr>\n",
       "    <tr>\n",
       "      <th>f2</th>\n",
       "      <td>-0.000448</td>\n",
       "      <td>0.000779</td>\n",
       "      <td>1.000000</td>\n",
       "      <td>0.445871</td>\n",
       "    </tr>\n",
       "    <tr>\n",
       "      <th>product</th>\n",
       "      <td>-0.001987</td>\n",
       "      <td>-0.001012</td>\n",
       "      <td>0.445871</td>\n",
       "      <td>1.000000</td>\n",
       "    </tr>\n",
       "  </tbody>\n",
       "</table>\n",
       "</div>"
      ],
      "text/plain": [
       "               f0        f1        f2   product\n",
       "f0       1.000000  0.000528 -0.000448 -0.001987\n",
       "f1       0.000528  1.000000  0.000779 -0.001012\n",
       "f2      -0.000448  0.000779  1.000000  0.445871\n",
       "product -0.001987 -0.001012  0.445871  1.000000"
      ]
     },
     "execution_count": 11,
     "metadata": {},
     "output_type": "execute_result"
    }
   ],
   "source": [
    "geo_data_2.corr() #посчитаем корреляцию "
   ]
  },
  {
   "cell_type": "markdown",
   "metadata": {},
   "source": [
    "Корреляция минимальная, исключать признаки не нужно."
   ]
  },
  {
   "cell_type": "markdown",
   "metadata": {},
   "source": [
    "Напишем функцию, в которой создадим переменные с целевым и остальными признаками и разделим датафрейм на обучающую и валидационную выборки в соотношении 75:25%."
   ]
  },
  {
   "cell_type": "code",
   "execution_count": 12,
   "metadata": {},
   "outputs": [],
   "source": [
    "def data_preparation(dataset):\n",
    "    features = dataset.drop(['product'], axis=1) #выделим признаки\n",
    "    target = dataset['product'] #выделим целевой признак product\n",
    "    \n",
    "    features_train, features_valid, target_train, target_valid = train_test_split(features, target, test_size=0.25, random_state=12345) #разделим данные на features_train и features_valid в соотношении 75 на 25\n",
    "    return features_train, features_valid, target_train, target_valid"
   ]
  },
  {
   "cell_type": "code",
   "execution_count": 13,
   "metadata": {},
   "outputs": [],
   "source": [
    "features_train_0, features_valid_0, target_train_0, target_valid_0 = data_preparation(geo_data_0) #применим функцию data_preparation для geo_data_0"
   ]
  },
  {
   "cell_type": "code",
   "execution_count": 14,
   "metadata": {},
   "outputs": [],
   "source": [
    "features_train_1, features_valid_1, target_train_1, target_valid_1 = data_preparation(geo_data_1) #применим функцию data_preparation для geo_data_1"
   ]
  },
  {
   "cell_type": "code",
   "execution_count": 15,
   "metadata": {},
   "outputs": [],
   "source": [
    "features_train_2, features_valid_2, target_train_2, target_valid_2 = data_preparation(geo_data_2) #применим функцию data_preparation для geo_data_2"
   ]
  },
  {
   "cell_type": "markdown",
   "metadata": {},
   "source": [
    "Сравним размеры получившихся выборок."
   ]
  },
  {
   "cell_type": "code",
   "execution_count": 16,
   "metadata": {},
   "outputs": [
    {
     "name": "stdout",
     "output_type": "stream",
     "text": [
      "(75000, 3) (25000, 3)\n"
     ]
    }
   ],
   "source": [
    "print(features_train_0.shape, features_valid_0.shape)"
   ]
  },
  {
   "cell_type": "code",
   "execution_count": 17,
   "metadata": {},
   "outputs": [
    {
     "name": "stdout",
     "output_type": "stream",
     "text": [
      "(75000, 3) (25000, 3)\n"
     ]
    }
   ],
   "source": [
    "print(features_train_1.shape, features_valid_1.shape)"
   ]
  },
  {
   "cell_type": "code",
   "execution_count": 18,
   "metadata": {},
   "outputs": [
    {
     "name": "stdout",
     "output_type": "stream",
     "text": [
      "(75000, 3) (25000, 3)\n"
     ]
    }
   ],
   "source": [
    "print(features_train_2.shape, features_valid_2.shape)"
   ]
  },
  {
   "cell_type": "markdown",
   "metadata": {},
   "source": [
    "### Вывод"
   ]
  },
  {
   "cell_type": "markdown",
   "metadata": {},
   "source": [
    "Изучив данные, провели предобработку, которая включала в себя:\n",
    "\n",
    "    исключение ненужных столбцов,\n",
    "    исследование зависимостей.\n",
    "\n",
    "Далее подготовили признаки. А именно:\n",
    "\n",
    "    определили целевой и остальные признаки,\n",
    "    разделили данные на обучающую и валидационную выборки в соотношении 75:25."
   ]
  },
  {
   "cell_type": "markdown",
   "metadata": {},
   "source": [
    "## Обучение и проверка модели"
   ]
  },
  {
   "cell_type": "markdown",
   "metadata": {},
   "source": [
    "Напишем функцию для обучения модели."
   ]
  },
  {
   "cell_type": "code",
   "execution_count": 19,
   "metadata": {},
   "outputs": [],
   "source": [
    "def model_training(features_train, features_valid, target_train, target_valid, region):\n",
    "    model = LinearRegression()\n",
    "    model.fit(features_train, target_train) #обучим модель\n",
    "    predicted_valid = model.predict(features_valid) #получим предсказания модели\n",
    "    rmse = mean_squared_error(target_valid, predicted_valid, squared=False) #вычислим rmse\n",
    "    print(\"Linear Regression для региона:\", region)\n",
    "    print(\"Средний запас предсказанного сырья:\", predicted_valid.mean())\n",
    "    print(\"RMSE =\", rmse)\n",
    "    return predicted_valid #возвратим предсказания"
   ]
  },
  {
   "cell_type": "markdown",
   "metadata": {},
   "source": [
    "Обучим модель на данных региона 0, рассчитаем средний запас предсказанного сырья и rmse."
   ]
  },
  {
   "cell_type": "code",
   "execution_count": 20,
   "metadata": {},
   "outputs": [
    {
     "name": "stdout",
     "output_type": "stream",
     "text": [
      "Linear Regression для региона: 0\n",
      "Средний запас предсказанного сырья: 92.59256778438035\n",
      "RMSE = 37.5794217150813\n"
     ]
    }
   ],
   "source": [
    "predicted_valid_0 = model_training(features_train_0, features_valid_0, target_train_0, target_valid_0, 0) #применим функцию model_training"
   ]
  },
  {
   "cell_type": "markdown",
   "metadata": {},
   "source": [
    "Обучим модель на данных региона 1, рассчитаем средний запас предсказанного сырья и rmse."
   ]
  },
  {
   "cell_type": "code",
   "execution_count": 21,
   "metadata": {},
   "outputs": [
    {
     "name": "stdout",
     "output_type": "stream",
     "text": [
      "Linear Regression для региона: 1\n",
      "Средний запас предсказанного сырья: 68.728546895446\n",
      "RMSE = 0.893099286775617\n"
     ]
    }
   ],
   "source": [
    "predicted_valid_1 = model_training(features_train_1, features_valid_1, target_train_1, target_valid_1, 1) #применим функцию model_training"
   ]
  },
  {
   "cell_type": "markdown",
   "metadata": {},
   "source": [
    "Обучим модель на данных региона 2, рассчитаем средний запас предсказанного сырья и rmse."
   ]
  },
  {
   "cell_type": "code",
   "execution_count": 22,
   "metadata": {},
   "outputs": [
    {
     "name": "stdout",
     "output_type": "stream",
     "text": [
      "Linear Regression для региона: 2\n",
      "Средний запас предсказанного сырья: 94.96504596800489\n",
      "RMSE = 40.02970873393434\n"
     ]
    }
   ],
   "source": [
    "predicted_valid_2 = model_training(features_train_2, features_valid_2, target_train_2, target_valid_2, 2) #применим функцию model_training"
   ]
  },
  {
   "cell_type": "markdown",
   "metadata": {},
   "source": [
    "### Вывод"
   ]
  },
  {
   "cell_type": "markdown",
   "metadata": {},
   "source": [
    "Исходя из результатов, наибольший средний запас предсказанного сырья в регионе 2, равен 95 тыс. баррелей, rmse при этом равен 40."
   ]
  },
  {
   "cell_type": "markdown",
   "metadata": {},
   "source": [
    "## Подготовка к расчёту прибыли"
   ]
  },
  {
   "cell_type": "markdown",
   "metadata": {},
   "source": [
    "Подготовим данные к расчета прибыли. Так как в данных присутствуют различные ЕИ, приведем к единообразию - млн. рублей. Бюджет - 10 млрд.руб., в млн - 10000. Доход с каждой единицы продукта 450 тыс.руб., в млн - 0.45."
   ]
  },
  {
   "cell_type": "code",
   "execution_count": 23,
   "metadata": {},
   "outputs": [],
   "source": [
    "BUDGET = 10000 #бюджет\n",
    "REVENUE_PER_UNIT_PRODUCT= 0.45 #доход с каждой единицы продукта"
   ]
  },
  {
   "cell_type": "markdown",
   "metadata": {},
   "source": [
    "Рассчитаем достаточный объём сырья для безубыточной разработки новой скважины. Для этого бюджет поделим на 200 точек и также поделим на доход с каждой единицы продукта и получим результат в тыс.баррелей."
   ]
  },
  {
   "cell_type": "code",
   "execution_count": 24,
   "metadata": {},
   "outputs": [
    {
     "data": {
      "text/plain": [
       "111.11111111111111"
      ]
     },
     "execution_count": 24,
     "metadata": {},
     "output_type": "execute_result"
    }
   ],
   "source": [
    "oil_stock_min = BUDGET / 200 / REVENUE_PER_UNIT_PRODUCT\n",
    "oil_stock_min # минимальный запас нефти в тыс. баррелей"
   ]
  },
  {
   "cell_type": "markdown",
   "metadata": {},
   "source": [
    "### Вывод"
   ]
  },
  {
   "cell_type": "markdown",
   "metadata": {},
   "source": [
    "Средний запас предсказанного сырья: 92.59256778438035 в регионе 0\n",
    "\n",
    "Средний запас предсказанного сырья: 68.728546895446 в регионе 1\n",
    "\n",
    "Средний запас предсказанного сырья: 94.96504596800489 в регионе 2\n",
    "\n",
    "Таким образом, средние запасы всех регионов не превышают достаточный объём сырья для безубыточной разработки новой скважины."
   ]
  },
  {
   "cell_type": "markdown",
   "metadata": {},
   "source": [
    "## Расчёт прибыли и рисков "
   ]
  },
  {
   "cell_type": "markdown",
   "metadata": {},
   "source": [
    "Сперва напишем функцию для приведения predictions_valid к типу Series и сброса индексов target_valid."
   ]
  },
  {
   "cell_type": "code",
   "execution_count": 25,
   "metadata": {},
   "outputs": [],
   "source": [
    "def normalize(target_valid, predictions_valid):\n",
    "    predictions_valid = pd.Series(predictions_valid) #приведем predictions_valid к типу Series\n",
    "    target_valid = target_valid.reset_index(drop=True) #сбросим индексы target_valid\n",
    "    return target_valid, predictions_valid"
   ]
  },
  {
   "cell_type": "code",
   "execution_count": 26,
   "metadata": {},
   "outputs": [],
   "source": [
    "target_valid_0, predicted_valid_0 = normalize(target_valid_0, predicted_valid_0) #применим функцию normalize к target_valid_0, predicted_valid_0"
   ]
  },
  {
   "cell_type": "code",
   "execution_count": 27,
   "metadata": {},
   "outputs": [],
   "source": [
    "target_valid_1, predicted_valid_1 = normalize(target_valid_1, predicted_valid_1) #применим функцию normalize к target_valid_1, predicted_valid_1"
   ]
  },
  {
   "cell_type": "code",
   "execution_count": 28,
   "metadata": {},
   "outputs": [],
   "source": [
    "target_valid_2, predicted_valid_2 = normalize(target_valid_2, predicted_valid_2) #применим функцию normalize к target_valid_2, predicted_valid_2"
   ]
  },
  {
   "cell_type": "markdown",
   "metadata": {},
   "source": [
    "Напишем функцию расчета прибыли для полученного объёма сырья в каждом регионе с 200 скважин."
   ]
  },
  {
   "cell_type": "code",
   "execution_count": 29,
   "metadata": {},
   "outputs": [],
   "source": [
    "def revenue(target_valid, predictions_valid, count):\n",
    "    pred_sorted = predictions_valid.sort_values(ascending=False)# каждую выборку отсортируем в порядке убывания сырья\n",
    "    selected = target_valid[pred_sorted.index][:count]# определяем значения для отобранных 200 скважин\n",
    "    revenue = (selected.sum() * REVENUE_PER_UNIT_PRODUCT) - BUDGET # доход в млн. рублях с 200 скважин\n",
    "    return revenue"
   ]
  },
  {
   "cell_type": "code",
   "execution_count": 30,
   "metadata": {},
   "outputs": [
    {
     "data": {
      "text/plain": [
       "3320.8260431398503"
      ]
     },
     "execution_count": 30,
     "metadata": {},
     "output_type": "execute_result"
    }
   ],
   "source": [
    "revenue_0 = revenue(target_valid_0, predicted_valid_0, 200) #применим функцию revenue к target_valid_0, predicted_valid_0\n",
    "revenue_0 #прибыль в млн. руб."
   ]
  },
  {
   "cell_type": "code",
   "execution_count": 31,
   "metadata": {},
   "outputs": [
    {
     "data": {
      "text/plain": [
       "2415.086696681512"
      ]
     },
     "execution_count": 31,
     "metadata": {},
     "output_type": "execute_result"
    }
   ],
   "source": [
    "revenue_1 = revenue(target_valid_1, predicted_valid_1, 200) #применим функцию revenue к target_valid_1, predicted_valid_1\n",
    "revenue_1 #прибыль в млн. руб."
   ]
  },
  {
   "cell_type": "code",
   "execution_count": 32,
   "metadata": {},
   "outputs": [
    {
     "data": {
      "text/plain": [
       "2710.3499635998323"
      ]
     },
     "execution_count": 32,
     "metadata": {},
     "output_type": "execute_result"
    }
   ],
   "source": [
    "revenue_2 = revenue(target_valid_2, predicted_valid_2, 200) #применим функцию revenue к target_valid_2, predicted_valid_2\n",
    "revenue_2 #прибыль в млн. руб."
   ]
  },
  {
   "cell_type": "markdown",
   "metadata": {},
   "source": [
    "Применим метод бутстреп для расчета средней прогнозной прибыли, доверительного интервала и риска убытков. Для построения 95%-го доверительного интервала нужно выкинуть 5% экстремальных значений, то есть 2.5% самых больших и 2.5% самых маленьких. Точка, на которой заканчивается 2.5% самых маленьких значений, — 0.025-квантиль.. Точка, с которой начинается 2.5% самых больших значений, — 0.975-квантиль."
   ]
  },
  {
   "cell_type": "code",
   "execution_count": 33,
   "metadata": {},
   "outputs": [],
   "source": [
    "state = np.random.RandomState(12345) #указываем random_state для воспроизводимости\n",
    "\n",
    "def get_result(target, predictions):\n",
    "    values = []\n",
    "    for i in range(1000):\n",
    "        target_subsample = target.sample(n=500, replace=True, random_state=state) #создадим подвыборку из ответов\n",
    "        probs_subsample = predictions[target_subsample.index] #создадим подвыборку из вероятностей, извлекая индексы target_subsample\n",
    "        result = revenue(target_subsample, probs_subsample, 200) #применим функцию revenue для target_subsample, probs_subsample, 200\n",
    "        values.append(result) #добавим приюыль в список\n",
    "\n",
    "    values = pd.Series(values) #приведем к типу Series\n",
    "    #определим доверительный интервал\n",
    "    lower = values.quantile(0.025)\n",
    "    upper = values.quantile(0.975)\n",
    "    mean = values.mean() #найдем среднюю прибыль\n",
    "    risk_of_loss = (values < 0).mean() * 100 #рассчитаем риск убытков\n",
    "    \n",
    "    print(f\"Средняя прогнозная прибыль: {mean} млн. руб.\")\n",
    "    print(f\"С вероятностью 95% прибыль составит от {lower} до {upper} млн. руб.\")\n",
    "    print(f\"Риск убытков: {risk_of_loss}%\")"
   ]
  },
  {
   "cell_type": "code",
   "execution_count": 34,
   "metadata": {},
   "outputs": [
    {
     "name": "stdout",
     "output_type": "stream",
     "text": [
      "Средняя прогнозная прибыль: 425.9385269105927 млн. руб.\n",
      "С вероятностью 95% прибыль составит от -102.09009483793592 до 947.976353358369 млн. руб.\n",
      "Риск убытков: 6.0%\n"
     ]
    }
   ],
   "source": [
    "get_result(target_valid_0, predicted_valid_0) #применим функцию get_result к target_valid_0, predicted_valid_0"
   ]
  },
  {
   "cell_type": "code",
   "execution_count": 35,
   "metadata": {},
   "outputs": [
    {
     "name": "stdout",
     "output_type": "stream",
     "text": [
      "Средняя прогнозная прибыль: 518.2594936973252 млн. руб.\n",
      "С вероятностью 95% прибыль составит от 128.12323143308453 до 953.6129820669079 млн. руб.\n",
      "Риск убытков: 0.3%\n"
     ]
    }
   ],
   "source": [
    "get_result(target_valid_1, predicted_valid_1) #применим функцию get_result к target_valid_1, predicted_valid_1"
   ]
  },
  {
   "cell_type": "code",
   "execution_count": 36,
   "metadata": {},
   "outputs": [
    {
     "name": "stdout",
     "output_type": "stream",
     "text": [
      "Средняя прогнозная прибыль: 420.19400534405037 млн. руб.\n",
      "С вероятностью 95% прибыль составит от -115.85260916001138 до 989.6299398445756 млн. руб.\n",
      "Риск убытков: 6.2%\n"
     ]
    }
   ],
   "source": [
    "get_result(target_valid_2, predicted_valid_2) #применим функцию get_result к target_valid_2, predicted_valid_2"
   ]
  },
  {
   "cell_type": "markdown",
   "metadata": {},
   "source": [
    "### Вывод"
   ]
  },
  {
   "cell_type": "markdown",
   "metadata": {},
   "source": [
    "В регионе 0:\n",
    "\n",
    "    Прибыль для полученного объёма сырья составляет 3320.8 млн. руб.\n",
    "    Средняя прогнозная прибыль: 425.9385269105927 млн. руб.\n",
    "    С вероятностью 95% прибыль составит от -102.09009483793592 до 947.976353358369 млн. руб.\n",
    "    Риск убытков: 6.0%\n",
    "\n",
    "В регионе 1:\n",
    "\n",
    "    Прибыль для полученного объёма сырья составляет 2415.1 млн. руб.\n",
    "    Средняя прогнозная прибыль: 518.2594936973252 млн. руб.\n",
    "    С вероятностью 95% прибыль составит от 128.12323143308453 до 953.6129820669079 млн. руб.\n",
    "    Риск убытков: 0.3%\n",
    "\n",
    "В регионе 2:\n",
    "\n",
    "    Прибыль для полученного объёма сырья составляет 2710.3 млн. руб.\n",
    "    Средняя прогнозная прибыль: 420.19400534405037 млн. руб.\n",
    "    С вероятностью 95% прибыль составит от -115.85260916001138 до 989.6299398445756 млн. руб.\n",
    "    Риск убытков: 6.2%"
   ]
  },
  {
   "cell_type": "markdown",
   "metadata": {},
   "source": [
    "## Общий вывод"
   ]
  },
  {
   "cell_type": "markdown",
   "metadata": {},
   "source": [
    "Исходя из результатов, регион, в котором риск убытков не превышает 2.5% является регион 1 с вероятностью убытков 0.3%. Средняя прибыль составляет 518.3 млн. руб. Прибыль для полученного объёма сырья составляет 2415.1 млн. руб.\n",
    "Таким образом, определили регион, где добыча принесёт наибольшую прибыль это регион 1."
   ]
  },
  {
   "cell_type": "markdown",
   "metadata": {},
   "source": [
    "## Чек-лист готовности проекта"
   ]
  },
  {
   "cell_type": "markdown",
   "metadata": {},
   "source": [
    "Поставьте 'x' в выполненных пунктах. Далее нажмите Shift+Enter."
   ]
  },
  {
   "cell_type": "markdown",
   "metadata": {},
   "source": [
    "- [x]  Jupyter Notebook открыт\n",
    "- [x]  Весь код выполняется без ошибок\n",
    "- [x]  Ячейки с кодом расположены в порядке исполнения\n",
    "- [x]  Выполнен шаг 1: данные подготовлены\n",
    "- [x]  Выполнен шаг 2: модели обучены и проверены\n",
    "    - [x]  Данные корректно разбиты на обучающую и валидационную выборки\n",
    "    - [x]  Модели обучены, предсказания сделаны\n",
    "    - [x]  Предсказания и правильные ответы на валидационной выборке сохранены\n",
    "    - [x]  На экране напечатаны результаты\n",
    "    - [x]  Сделаны выводы\n",
    "- [x]  Выполнен шаг 3: проведена подготовка к расчёту прибыли\n",
    "    - [x]  Для всех ключевых значений созданы константы Python\n",
    "    - [x]  Посчитано минимальное среднее количество продукта в месторождениях региона, достаточное для разработки\n",
    "    - [x]  По предыдущему пункту сделаны выводы\n",
    "    - [x]  Написана функция расчёта прибыли\n",
    "- [x]  Выполнен шаг 4: посчитаны риски и прибыль\n",
    "    - [x]  Проведена процедура *Bootstrap*\n",
    "    - [x]  Все параметры бутстрепа соответствуют условию\n",
    "    - [x]  Найдены все нужные величины\n",
    "    - [x]  Предложен регион для разработки месторождения\n",
    "    - [x]  Выбор региона обоснован"
   ]
  }
 ],
 "metadata": {
  "ExecuteTimeLog": [
   {
    "duration": 2045,
    "start_time": "2022-04-17T13:33:40.904Z"
   },
   {
    "duration": 523,
    "start_time": "2022-04-17T13:33:42.952Z"
   },
   {
    "duration": 25,
    "start_time": "2022-04-17T13:33:43.478Z"
   },
   {
    "duration": 18,
    "start_time": "2022-04-17T13:34:09.139Z"
   },
   {
    "duration": 12,
    "start_time": "2022-04-17T13:34:10.422Z"
   },
   {
    "duration": 51,
    "start_time": "2022-04-17T13:38:05.112Z"
   },
   {
    "duration": 48,
    "start_time": "2022-04-17T13:38:10.635Z"
   },
   {
    "duration": 72,
    "start_time": "2022-04-17T13:38:12.980Z"
   },
   {
    "duration": 12,
    "start_time": "2022-04-17T13:38:30.259Z"
   },
   {
    "duration": 21,
    "start_time": "2022-04-17T13:38:40.050Z"
   },
   {
    "duration": 20,
    "start_time": "2022-04-17T13:38:41.850Z"
   },
   {
    "duration": 48,
    "start_time": "2022-04-17T13:39:09.839Z"
   },
   {
    "duration": 63,
    "start_time": "2022-04-17T13:39:10.984Z"
   },
   {
    "duration": 74,
    "start_time": "2022-04-17T13:39:11.495Z"
   },
   {
    "duration": 5,
    "start_time": "2022-04-17T13:43:25.820Z"
   },
   {
    "duration": 109,
    "start_time": "2022-04-17T13:43:26.729Z"
   },
   {
    "duration": 7,
    "start_time": "2022-04-17T13:44:52.587Z"
   },
   {
    "duration": 128,
    "start_time": "2022-04-17T13:44:53.539Z"
   },
   {
    "duration": 3,
    "start_time": "2022-04-17T13:45:12.059Z"
   },
   {
    "duration": 133,
    "start_time": "2022-04-17T13:45:12.718Z"
   },
   {
    "duration": 160,
    "start_time": "2022-04-17T13:45:45.446Z"
   },
   {
    "duration": 154,
    "start_time": "2022-04-17T13:45:47.626Z"
   },
   {
    "duration": 4,
    "start_time": "2022-04-17T14:13:42.692Z"
   },
   {
    "duration": 151,
    "start_time": "2022-04-17T14:14:34.761Z"
   },
   {
    "duration": 3,
    "start_time": "2022-04-17T14:14:51.143Z"
   },
   {
    "duration": 12,
    "start_time": "2022-04-17T14:14:51.742Z"
   },
   {
    "duration": 18,
    "start_time": "2022-04-17T14:15:07.509Z"
   },
   {
    "duration": 3,
    "start_time": "2022-04-17T14:15:34.054Z"
   },
   {
    "duration": 11,
    "start_time": "2022-04-17T14:15:34.076Z"
   },
   {
    "duration": 18,
    "start_time": "2022-04-17T14:15:35.131Z"
   },
   {
    "duration": 3,
    "start_time": "2022-04-17T14:16:01.863Z"
   },
   {
    "duration": 174,
    "start_time": "2022-04-17T14:16:02.524Z"
   },
   {
    "duration": 14,
    "start_time": "2022-04-17T14:16:13.998Z"
   },
   {
    "duration": 15,
    "start_time": "2022-04-17T14:16:16.713Z"
   },
   {
    "duration": 30,
    "start_time": "2022-04-17T14:16:41.030Z"
   },
   {
    "duration": 460,
    "start_time": "2022-04-17T14:16:51.387Z"
   },
   {
    "duration": 3,
    "start_time": "2022-04-17T14:16:57.643Z"
   },
   {
    "duration": 19,
    "start_time": "2022-04-17T14:16:59.142Z"
   },
   {
    "duration": 10,
    "start_time": "2022-04-17T14:17:04.357Z"
   },
   {
    "duration": 19,
    "start_time": "2022-04-17T14:18:27.746Z"
   },
   {
    "duration": 14,
    "start_time": "2022-04-17T14:18:49.635Z"
   },
   {
    "duration": 14,
    "start_time": "2022-04-17T14:18:54.512Z"
   },
   {
    "duration": 4,
    "start_time": "2022-04-17T14:25:03.831Z"
   },
   {
    "duration": 13,
    "start_time": "2022-04-17T14:25:48.033Z"
   },
   {
    "duration": 3,
    "start_time": "2022-04-17T14:26:17.672Z"
   },
   {
    "duration": 6,
    "start_time": "2022-04-17T14:27:31.267Z"
   },
   {
    "duration": 21,
    "start_time": "2022-04-17T14:27:32.095Z"
   },
   {
    "duration": 3,
    "start_time": "2022-04-17T14:27:32.867Z"
   },
   {
    "duration": 15,
    "start_time": "2022-04-17T14:27:33.733Z"
   },
   {
    "duration": 3,
    "start_time": "2022-04-17T14:27:34.736Z"
   },
   {
    "duration": 8,
    "start_time": "2022-04-17T14:36:56.541Z"
   },
   {
    "duration": 19,
    "start_time": "2022-04-17T14:37:13.574Z"
   },
   {
    "duration": 23,
    "start_time": "2022-04-17T14:37:40.541Z"
   },
   {
    "duration": 6,
    "start_time": "2022-04-17T14:37:45.241Z"
   },
   {
    "duration": 27,
    "start_time": "2022-04-17T14:37:45.940Z"
   },
   {
    "duration": 15,
    "start_time": "2022-04-17T14:38:22.777Z"
   },
   {
    "duration": 14,
    "start_time": "2022-04-17T14:38:32.824Z"
   },
   {
    "duration": 14,
    "start_time": "2022-04-17T14:39:05.953Z"
   },
   {
    "duration": 4,
    "start_time": "2022-04-17T14:39:06.655Z"
   },
   {
    "duration": 14,
    "start_time": "2022-04-17T14:39:07.738Z"
   },
   {
    "duration": 4,
    "start_time": "2022-04-17T14:39:09.036Z"
   },
   {
    "duration": 12,
    "start_time": "2022-04-17T14:39:10.002Z"
   },
   {
    "duration": 3,
    "start_time": "2022-04-17T14:39:10.825Z"
   },
   {
    "duration": 3,
    "start_time": "2022-04-17T14:39:12.701Z"
   },
   {
    "duration": 14,
    "start_time": "2022-04-17T14:39:13.421Z"
   },
   {
    "duration": 13,
    "start_time": "2022-04-17T14:39:14.487Z"
   },
   {
    "duration": 14,
    "start_time": "2022-04-17T14:39:15.580Z"
   },
   {
    "duration": 4,
    "start_time": "2022-04-17T14:40:32.066Z"
   },
   {
    "duration": 13,
    "start_time": "2022-04-17T14:40:32.710Z"
   },
   {
    "duration": 100,
    "start_time": "2022-04-17T14:40:45.892Z"
   },
   {
    "duration": 13,
    "start_time": "2022-04-17T14:40:47.179Z"
   },
   {
    "duration": 4,
    "start_time": "2022-04-17T14:40:51.627Z"
   },
   {
    "duration": 76,
    "start_time": "2022-04-17T14:40:52.017Z"
   },
   {
    "duration": 13,
    "start_time": "2022-04-17T14:40:52.605Z"
   },
   {
    "duration": 14,
    "start_time": "2022-04-17T14:40:53.094Z"
   },
   {
    "duration": 10,
    "start_time": "2022-04-17T14:48:23.722Z"
   },
   {
    "duration": 8,
    "start_time": "2022-04-17T14:48:45.234Z"
   },
   {
    "duration": 4,
    "start_time": "2022-04-17T14:49:46.380Z"
   },
   {
    "duration": 81,
    "start_time": "2022-04-17T14:49:49.714Z"
   },
   {
    "duration": 32,
    "start_time": "2022-04-17T14:49:56.670Z"
   },
   {
    "duration": 191,
    "start_time": "2022-04-17T14:49:58.304Z"
   },
   {
    "duration": 5,
    "start_time": "2022-04-17T14:50:20.390Z"
   },
   {
    "duration": 84,
    "start_time": "2022-04-17T14:50:20.916Z"
   },
   {
    "duration": 4,
    "start_time": "2022-04-17T14:50:37.752Z"
   },
   {
    "duration": 18,
    "start_time": "2022-04-17T14:50:38.189Z"
   },
   {
    "duration": 16,
    "start_time": "2022-04-17T14:50:41.791Z"
   },
   {
    "duration": 19,
    "start_time": "2022-04-17T14:50:42.964Z"
   },
   {
    "duration": 3,
    "start_time": "2022-04-17T14:51:16.467Z"
   },
   {
    "duration": 14,
    "start_time": "2022-04-17T14:51:17.165Z"
   },
   {
    "duration": 15,
    "start_time": "2022-04-17T14:51:18.255Z"
   },
   {
    "duration": 21,
    "start_time": "2022-04-17T14:51:19.119Z"
   },
   {
    "duration": 375,
    "start_time": "2022-04-17T14:51:32.317Z"
   },
   {
    "duration": 3,
    "start_time": "2022-04-17T14:51:34.686Z"
   },
   {
    "duration": 145,
    "start_time": "2022-04-17T14:51:35.326Z"
   },
   {
    "duration": 108,
    "start_time": "2022-04-17T14:51:36.541Z"
   },
   {
    "duration": 100,
    "start_time": "2022-04-17T14:51:37.456Z"
   },
   {
    "duration": 4,
    "start_time": "2022-04-17T14:51:40.109Z"
   },
   {
    "duration": 16,
    "start_time": "2022-04-17T14:51:41.225Z"
   },
   {
    "duration": 16,
    "start_time": "2022-04-17T14:51:42.272Z"
   },
   {
    "duration": 19,
    "start_time": "2022-04-17T14:51:43.337Z"
   },
   {
    "duration": 15,
    "start_time": "2022-04-17T14:51:44.100Z"
   },
   {
    "duration": 5,
    "start_time": "2022-04-17T14:51:46.856Z"
   },
   {
    "duration": 14,
    "start_time": "2022-04-17T14:51:47.691Z"
   },
   {
    "duration": 3,
    "start_time": "2022-04-17T14:51:48.187Z"
   },
   {
    "duration": 13,
    "start_time": "2022-04-17T14:51:48.852Z"
   },
   {
    "duration": 3,
    "start_time": "2022-04-17T14:51:49.275Z"
   },
   {
    "duration": 13,
    "start_time": "2022-04-17T14:51:50.158Z"
   },
   {
    "duration": 4,
    "start_time": "2022-04-17T14:51:50.686Z"
   },
   {
    "duration": 4,
    "start_time": "2022-04-17T14:51:52.497Z"
   },
   {
    "duration": 21,
    "start_time": "2022-04-17T14:51:53.794Z"
   },
   {
    "duration": 14,
    "start_time": "2022-04-17T14:51:54.927Z"
   },
   {
    "duration": 14,
    "start_time": "2022-04-17T14:51:56.299Z"
   },
   {
    "duration": 7,
    "start_time": "2022-04-17T14:54:32.434Z"
   },
   {
    "duration": 135,
    "start_time": "2022-04-17T14:54:33.969Z"
   },
   {
    "duration": 5,
    "start_time": "2022-04-17T14:54:43.816Z"
   },
   {
    "duration": 28,
    "start_time": "2022-04-17T14:54:44.392Z"
   },
   {
    "duration": 4,
    "start_time": "2022-04-17T14:54:50.968Z"
   },
   {
    "duration": 14,
    "start_time": "2022-04-17T14:54:51.657Z"
   },
   {
    "duration": 14,
    "start_time": "2022-04-17T14:54:52.503Z"
   },
   {
    "duration": 13,
    "start_time": "2022-04-17T14:54:53.011Z"
   },
   {
    "duration": 5,
    "start_time": "2022-04-17T14:55:00.197Z"
   },
   {
    "duration": 4,
    "start_time": "2022-04-17T15:02:51.389Z"
   },
   {
    "duration": 13,
    "start_time": "2022-04-17T15:02:52.254Z"
   },
   {
    "duration": 14,
    "start_time": "2022-04-17T15:02:55.349Z"
   },
   {
    "duration": 14,
    "start_time": "2022-04-17T15:02:58.402Z"
   },
   {
    "duration": 3,
    "start_time": "2022-04-17T15:20:42.949Z"
   },
   {
    "duration": 2,
    "start_time": "2022-04-17T15:22:16.525Z"
   },
   {
    "duration": 4,
    "start_time": "2022-04-17T15:22:24.968Z"
   },
   {
    "duration": 3,
    "start_time": "2022-04-17T15:22:58.672Z"
   },
   {
    "duration": 3,
    "start_time": "2022-04-17T15:22:59.270Z"
   },
   {
    "duration": 1561,
    "start_time": "2022-04-17T18:17:57.557Z"
   },
   {
    "duration": 341,
    "start_time": "2022-04-17T18:17:59.120Z"
   },
   {
    "duration": 4,
    "start_time": "2022-04-17T18:17:59.462Z"
   },
   {
    "duration": 126,
    "start_time": "2022-04-17T18:17:59.467Z"
   },
   {
    "duration": 108,
    "start_time": "2022-04-17T18:17:59.594Z"
   },
   {
    "duration": 111,
    "start_time": "2022-04-17T18:17:59.704Z"
   },
   {
    "duration": 3,
    "start_time": "2022-04-17T18:17:59.817Z"
   },
   {
    "duration": 4,
    "start_time": "2022-04-17T18:18:00.681Z"
   },
   {
    "duration": 3,
    "start_time": "2022-04-17T18:18:05.979Z"
   },
   {
    "duration": 19,
    "start_time": "2022-04-17T18:18:06.408Z"
   },
   {
    "duration": 14,
    "start_time": "2022-04-17T18:18:06.801Z"
   },
   {
    "duration": 15,
    "start_time": "2022-04-17T18:18:08.164Z"
   },
   {
    "duration": 16,
    "start_time": "2022-04-17T18:18:08.505Z"
   },
   {
    "duration": 3,
    "start_time": "2022-04-17T18:18:09.874Z"
   },
   {
    "duration": 14,
    "start_time": "2022-04-17T18:18:10.423Z"
   },
   {
    "duration": 3,
    "start_time": "2022-04-17T18:18:10.804Z"
   },
   {
    "duration": 15,
    "start_time": "2022-04-17T18:18:11.268Z"
   },
   {
    "duration": 3,
    "start_time": "2022-04-17T18:18:11.684Z"
   },
   {
    "duration": 16,
    "start_time": "2022-04-17T18:18:12.232Z"
   },
   {
    "duration": 3,
    "start_time": "2022-04-17T18:18:13.167Z"
   },
   {
    "duration": 4,
    "start_time": "2022-04-17T18:18:14.710Z"
   },
   {
    "duration": 33,
    "start_time": "2022-04-17T18:18:15.347Z"
   },
   {
    "duration": 14,
    "start_time": "2022-04-17T18:18:15.875Z"
   },
   {
    "duration": 13,
    "start_time": "2022-04-17T18:18:21.361Z"
   },
   {
    "duration": 7,
    "start_time": "2022-04-17T18:18:22.445Z"
   },
   {
    "duration": 3,
    "start_time": "2022-04-17T18:18:26.577Z"
   },
   {
    "duration": 3,
    "start_time": "2022-04-17T18:18:26.992Z"
   },
   {
    "duration": 3,
    "start_time": "2022-04-17T18:18:27.530Z"
   },
   {
    "duration": 4,
    "start_time": "2022-04-17T18:18:28.465Z"
   },
   {
    "duration": 4,
    "start_time": "2022-04-17T18:18:29.511Z"
   },
   {
    "duration": 4,
    "start_time": "2022-04-17T18:20:11.649Z"
   },
   {
    "duration": 4,
    "start_time": "2022-04-17T18:21:37.945Z"
   },
   {
    "duration": 107,
    "start_time": "2022-04-17T18:21:38.516Z"
   },
   {
    "duration": 4,
    "start_time": "2022-04-17T18:22:17.948Z"
   },
   {
    "duration": 5,
    "start_time": "2022-04-17T18:22:22.399Z"
   },
   {
    "duration": 13,
    "start_time": "2022-04-17T18:22:27.373Z"
   },
   {
    "duration": 4,
    "start_time": "2022-04-17T18:22:53.322Z"
   },
   {
    "duration": 4,
    "start_time": "2022-04-17T18:23:08.198Z"
   },
   {
    "duration": 19,
    "start_time": "2022-04-17T18:23:08.851Z"
   },
   {
    "duration": 15,
    "start_time": "2022-04-17T18:23:09.359Z"
   },
   {
    "duration": 14,
    "start_time": "2022-04-17T18:23:09.797Z"
   },
   {
    "duration": 8,
    "start_time": "2022-04-17T18:23:10.733Z"
   },
   {
    "duration": 3,
    "start_time": "2022-04-17T18:23:16.933Z"
   },
   {
    "duration": 2,
    "start_time": "2022-04-17T18:23:17.287Z"
   },
   {
    "duration": 3,
    "start_time": "2022-04-17T18:23:17.689Z"
   },
   {
    "duration": 4,
    "start_time": "2022-04-17T18:23:18.176Z"
   },
   {
    "duration": 3,
    "start_time": "2022-04-17T18:23:19.109Z"
   },
   {
    "duration": 6,
    "start_time": "2022-04-17T18:23:19.711Z"
   },
   {
    "duration": 25,
    "start_time": "2022-04-17T18:23:21.459Z"
   },
   {
    "duration": 4,
    "start_time": "2022-04-17T18:25:18.102Z"
   },
   {
    "duration": 16,
    "start_time": "2022-04-17T18:25:18.558Z"
   },
   {
    "duration": 14,
    "start_time": "2022-04-17T18:25:18.901Z"
   },
   {
    "duration": 15,
    "start_time": "2022-04-17T18:25:19.268Z"
   },
   {
    "duration": 5,
    "start_time": "2022-04-17T18:25:20.442Z"
   },
   {
    "duration": 3,
    "start_time": "2022-04-17T18:25:32.702Z"
   },
   {
    "duration": 4,
    "start_time": "2022-04-17T18:25:33.559Z"
   },
   {
    "duration": 14,
    "start_time": "2022-04-17T18:25:34.782Z"
   },
   {
    "duration": 4,
    "start_time": "2022-04-17T18:25:43.092Z"
   },
   {
    "duration": 5,
    "start_time": "2022-04-17T18:25:43.476Z"
   },
   {
    "duration": 22,
    "start_time": "2022-04-17T18:25:45.133Z"
   },
   {
    "duration": 4,
    "start_time": "2022-04-17T18:25:51.072Z"
   },
   {
    "duration": 5,
    "start_time": "2022-04-17T18:25:51.661Z"
   },
   {
    "duration": 9,
    "start_time": "2022-04-17T18:25:52.188Z"
   },
   {
    "duration": 11,
    "start_time": "2022-04-17T18:26:26.037Z"
   },
   {
    "duration": 10,
    "start_time": "2022-04-17T18:26:46.073Z"
   },
   {
    "duration": 10,
    "start_time": "2022-04-17T18:27:00.740Z"
   },
   {
    "duration": 9,
    "start_time": "2022-04-17T18:29:05.317Z"
   },
   {
    "duration": 2,
    "start_time": "2022-04-17T18:31:22.351Z"
   },
   {
    "duration": 2,
    "start_time": "2022-04-17T18:31:22.749Z"
   },
   {
    "duration": 2,
    "start_time": "2022-04-17T18:31:23.814Z"
   },
   {
    "duration": 4,
    "start_time": "2022-04-17T18:31:26.142Z"
   },
   {
    "duration": 3,
    "start_time": "2022-04-17T18:31:27.308Z"
   },
   {
    "duration": 8,
    "start_time": "2022-04-17T18:31:28.670Z"
   },
   {
    "duration": 10,
    "start_time": "2022-04-17T18:32:15.912Z"
   },
   {
    "duration": 9,
    "start_time": "2022-04-17T18:32:16.878Z"
   },
   {
    "duration": 3,
    "start_time": "2022-04-17T18:36:38.563Z"
   },
   {
    "duration": 2,
    "start_time": "2022-04-17T18:36:39.019Z"
   },
   {
    "duration": 2,
    "start_time": "2022-04-17T18:36:40.063Z"
   },
   {
    "duration": 3,
    "start_time": "2022-04-17T18:36:48.124Z"
   },
   {
    "duration": 3,
    "start_time": "2022-04-17T18:36:49.390Z"
   },
   {
    "duration": 9,
    "start_time": "2022-04-17T18:36:51.140Z"
   },
   {
    "duration": 10,
    "start_time": "2022-04-17T18:36:51.709Z"
   },
   {
    "duration": 10,
    "start_time": "2022-04-17T18:36:52.044Z"
   },
   {
    "duration": 4,
    "start_time": "2022-04-17T18:44:26.320Z"
   },
   {
    "duration": 9,
    "start_time": "2022-04-17T18:44:26.888Z"
   },
   {
    "duration": 10,
    "start_time": "2022-04-17T18:44:27.801Z"
   },
   {
    "duration": 9,
    "start_time": "2022-04-17T18:44:28.918Z"
   },
   {
    "duration": 2,
    "start_time": "2022-04-17T18:47:51.799Z"
   },
   {
    "duration": 3,
    "start_time": "2022-04-17T18:47:52.285Z"
   },
   {
    "duration": 3,
    "start_time": "2022-04-17T18:47:52.662Z"
   },
   {
    "duration": 4,
    "start_time": "2022-04-17T18:47:53.180Z"
   },
   {
    "duration": 4,
    "start_time": "2022-04-17T18:47:53.757Z"
   },
   {
    "duration": 10,
    "start_time": "2022-04-17T18:47:54.366Z"
   },
   {
    "duration": 10,
    "start_time": "2022-04-17T18:47:55.005Z"
   },
   {
    "duration": 9,
    "start_time": "2022-04-17T18:47:55.473Z"
   },
   {
    "duration": 6,
    "start_time": "2022-04-17T18:52:35.747Z"
   },
   {
    "duration": 3,
    "start_time": "2022-04-17T18:55:39.771Z"
   },
   {
    "duration": 15,
    "start_time": "2022-04-17T18:55:40.570Z"
   },
   {
    "duration": 14,
    "start_time": "2022-04-17T18:55:53.887Z"
   },
   {
    "duration": 13,
    "start_time": "2022-04-17T18:55:54.570Z"
   },
   {
    "duration": 4,
    "start_time": "2022-04-17T18:55:59.396Z"
   },
   {
    "duration": 3,
    "start_time": "2022-04-17T18:56:39.450Z"
   },
   {
    "duration": 4,
    "start_time": "2022-04-17T18:57:22.202Z"
   },
   {
    "duration": 3,
    "start_time": "2022-04-17T18:57:22.760Z"
   },
   {
    "duration": 3,
    "start_time": "2022-04-17T18:57:23.265Z"
   },
   {
    "duration": 3,
    "start_time": "2022-04-17T18:57:24.422Z"
   },
   {
    "duration": 9,
    "start_time": "2022-04-17T18:57:25.217Z"
   },
   {
    "duration": 8,
    "start_time": "2022-04-17T18:57:26.333Z"
   },
   {
    "duration": 8,
    "start_time": "2022-04-17T18:57:28.303Z"
   },
   {
    "duration": 5,
    "start_time": "2022-04-17T18:57:32.036Z"
   },
   {
    "duration": 12,
    "start_time": "2022-04-17T18:57:56.731Z"
   },
   {
    "duration": 6,
    "start_time": "2022-04-17T18:58:06.529Z"
   },
   {
    "duration": 1360,
    "start_time": "2022-04-17T18:58:07.289Z"
   },
   {
    "duration": 1186,
    "start_time": "2022-04-17T18:58:35.229Z"
   },
   {
    "duration": 1202,
    "start_time": "2022-04-17T18:58:36.417Z"
   },
   {
    "duration": 4,
    "start_time": "2022-04-17T19:01:14.211Z"
   },
   {
    "duration": 10,
    "start_time": "2022-04-17T19:01:14.719Z"
   },
   {
    "duration": 10,
    "start_time": "2022-04-17T19:01:15.825Z"
   },
   {
    "duration": 8,
    "start_time": "2022-04-17T19:01:16.272Z"
   },
   {
    "duration": 5,
    "start_time": "2022-04-17T19:01:18.009Z"
   },
   {
    "duration": 1268,
    "start_time": "2022-04-17T19:01:18.823Z"
   },
   {
    "duration": 5,
    "start_time": "2022-04-17T19:02:36.022Z"
   },
   {
    "duration": 3,
    "start_time": "2022-04-17T19:02:52.437Z"
   },
   {
    "duration": 9,
    "start_time": "2022-04-17T19:02:53.047Z"
   },
   {
    "duration": 5,
    "start_time": "2022-04-17T19:03:05.082Z"
   },
   {
    "duration": 9,
    "start_time": "2022-04-17T19:03:06.766Z"
   },
   {
    "duration": 9,
    "start_time": "2022-04-17T19:03:07.182Z"
   },
   {
    "duration": 6,
    "start_time": "2022-04-17T19:03:08.734Z"
   },
   {
    "duration": 1219,
    "start_time": "2022-04-17T19:03:09.790Z"
   },
   {
    "duration": 1233,
    "start_time": "2022-04-17T19:03:11.784Z"
   },
   {
    "duration": 1230,
    "start_time": "2022-04-17T19:03:13.726Z"
   },
   {
    "duration": 3,
    "start_time": "2022-04-17T19:05:31.400Z"
   },
   {
    "duration": 3,
    "start_time": "2022-04-17T19:05:31.898Z"
   },
   {
    "duration": 2,
    "start_time": "2022-04-17T19:05:32.346Z"
   },
   {
    "duration": 4,
    "start_time": "2022-04-17T19:05:32.825Z"
   },
   {
    "duration": 3,
    "start_time": "2022-04-17T19:05:33.504Z"
   },
   {
    "duration": 3,
    "start_time": "2022-04-17T19:05:34.267Z"
   },
   {
    "duration": 3,
    "start_time": "2022-04-17T19:05:34.664Z"
   },
   {
    "duration": 3,
    "start_time": "2022-04-17T19:05:35.058Z"
   },
   {
    "duration": 4,
    "start_time": "2022-04-17T19:05:35.779Z"
   },
   {
    "duration": 9,
    "start_time": "2022-04-17T19:05:37.119Z"
   },
   {
    "duration": 9,
    "start_time": "2022-04-17T19:05:38.175Z"
   },
   {
    "duration": 9,
    "start_time": "2022-04-17T19:05:38.743Z"
   },
   {
    "duration": 2,
    "start_time": "2022-04-17T19:05:54.508Z"
   },
   {
    "duration": 3,
    "start_time": "2022-04-17T19:05:54.906Z"
   },
   {
    "duration": 3,
    "start_time": "2022-04-17T19:05:55.200Z"
   },
   {
    "duration": 4,
    "start_time": "2022-04-17T19:05:55.524Z"
   },
   {
    "duration": 3,
    "start_time": "2022-04-17T19:05:55.881Z"
   },
   {
    "duration": 3,
    "start_time": "2022-04-17T19:05:56.338Z"
   },
   {
    "duration": 3,
    "start_time": "2022-04-17T19:05:56.690Z"
   },
   {
    "duration": 3,
    "start_time": "2022-04-17T19:05:57.054Z"
   },
   {
    "duration": 4,
    "start_time": "2022-04-17T19:05:57.470Z"
   },
   {
    "duration": 9,
    "start_time": "2022-04-17T19:05:58.051Z"
   },
   {
    "duration": 10,
    "start_time": "2022-04-17T19:05:58.496Z"
   },
   {
    "duration": 9,
    "start_time": "2022-04-17T19:05:59.096Z"
   },
   {
    "duration": 5,
    "start_time": "2022-04-17T19:06:01.178Z"
   },
   {
    "duration": 1320,
    "start_time": "2022-04-17T19:06:01.574Z"
   },
   {
    "duration": 1282,
    "start_time": "2022-04-17T19:06:02.896Z"
   },
   {
    "duration": 1240,
    "start_time": "2022-04-17T19:06:04.180Z"
   },
   {
    "duration": 5,
    "start_time": "2022-04-17T19:09:34.309Z"
   },
   {
    "duration": 1238,
    "start_time": "2022-04-17T19:09:34.877Z"
   },
   {
    "duration": 6,
    "start_time": "2022-04-17T19:09:46.373Z"
   },
   {
    "duration": 1229,
    "start_time": "2022-04-17T19:09:46.777Z"
   },
   {
    "duration": 3,
    "start_time": "2022-04-17T19:14:33.244Z"
   },
   {
    "duration": 3,
    "start_time": "2022-04-17T19:14:34.447Z"
   },
   {
    "duration": 4,
    "start_time": "2022-04-17T19:14:35.094Z"
   },
   {
    "duration": 2,
    "start_time": "2022-04-17T19:14:37.598Z"
   },
   {
    "duration": 3,
    "start_time": "2022-04-17T19:14:38.083Z"
   },
   {
    "duration": 3,
    "start_time": "2022-04-17T19:14:38.480Z"
   },
   {
    "duration": 5,
    "start_time": "2022-04-17T19:14:38.907Z"
   },
   {
    "duration": 4,
    "start_time": "2022-04-17T19:15:08.146Z"
   },
   {
    "duration": 5,
    "start_time": "2022-04-17T19:15:13.084Z"
   },
   {
    "duration": 3,
    "start_time": "2022-04-17T19:15:13.599Z"
   },
   {
    "duration": 3,
    "start_time": "2022-04-17T19:15:14.049Z"
   },
   {
    "duration": 3,
    "start_time": "2022-04-17T19:15:14.671Z"
   },
   {
    "duration": 4,
    "start_time": "2022-04-17T19:15:30.301Z"
   },
   {
    "duration": 9,
    "start_time": "2022-04-17T19:15:31.163Z"
   },
   {
    "duration": 4,
    "start_time": "2022-04-17T19:15:35.009Z"
   },
   {
    "duration": 12,
    "start_time": "2022-04-17T19:15:36.153Z"
   },
   {
    "duration": 12,
    "start_time": "2022-04-17T19:15:42.338Z"
   },
   {
    "duration": 12,
    "start_time": "2022-04-17T19:15:42.957Z"
   },
   {
    "duration": 8,
    "start_time": "2022-04-17T19:15:52.429Z"
   },
   {
    "duration": 1303,
    "start_time": "2022-04-17T19:15:54.450Z"
   },
   {
    "duration": 5,
    "start_time": "2022-04-17T19:17:12.757Z"
   },
   {
    "duration": 1239,
    "start_time": "2022-04-17T19:17:13.246Z"
   },
   {
    "duration": 1280,
    "start_time": "2022-04-17T19:17:15.926Z"
   },
   {
    "duration": 1247,
    "start_time": "2022-04-17T19:17:17.747Z"
   },
   {
    "duration": 1103,
    "start_time": "2022-04-17T19:21:55.309Z"
   },
   {
    "duration": 358,
    "start_time": "2022-04-17T19:21:56.414Z"
   },
   {
    "duration": 3,
    "start_time": "2022-04-17T19:21:56.774Z"
   },
   {
    "duration": 141,
    "start_time": "2022-04-17T19:21:56.780Z"
   },
   {
    "duration": 122,
    "start_time": "2022-04-17T19:21:56.923Z"
   },
   {
    "duration": 138,
    "start_time": "2022-04-17T19:21:57.047Z"
   },
   {
    "duration": 3,
    "start_time": "2022-04-17T19:21:57.187Z"
   },
   {
    "duration": 24,
    "start_time": "2022-04-17T19:21:57.191Z"
   },
   {
    "duration": 19,
    "start_time": "2022-04-17T19:21:57.217Z"
   },
   {
    "duration": 37,
    "start_time": "2022-04-17T19:21:57.239Z"
   },
   {
    "duration": 16,
    "start_time": "2022-04-17T19:21:57.277Z"
   },
   {
    "duration": 3,
    "start_time": "2022-04-17T19:21:57.294Z"
   },
   {
    "duration": 16,
    "start_time": "2022-04-17T19:21:57.299Z"
   },
   {
    "duration": 3,
    "start_time": "2022-04-17T19:21:57.317Z"
   },
   {
    "duration": 18,
    "start_time": "2022-04-17T19:21:57.321Z"
   },
   {
    "duration": 34,
    "start_time": "2022-04-17T19:21:57.341Z"
   },
   {
    "duration": 17,
    "start_time": "2022-04-17T19:21:57.377Z"
   },
   {
    "duration": 4,
    "start_time": "2022-04-17T19:21:57.395Z"
   },
   {
    "duration": 4,
    "start_time": "2022-04-17T19:21:57.401Z"
   },
   {
    "duration": 70,
    "start_time": "2022-04-17T19:21:57.407Z"
   },
   {
    "duration": 106,
    "start_time": "2022-04-17T19:21:57.479Z"
   },
   {
    "duration": 190,
    "start_time": "2022-04-17T19:21:57.587Z"
   },
   {
    "duration": 96,
    "start_time": "2022-04-17T19:21:57.780Z"
   },
   {
    "duration": 167,
    "start_time": "2022-04-17T19:21:57.878Z"
   },
   {
    "duration": 0,
    "start_time": "2022-04-17T19:21:58.048Z"
   },
   {
    "duration": 0,
    "start_time": "2022-04-17T19:21:58.049Z"
   },
   {
    "duration": 0,
    "start_time": "2022-04-17T19:21:58.050Z"
   },
   {
    "duration": 0,
    "start_time": "2022-04-17T19:21:58.051Z"
   },
   {
    "duration": 0,
    "start_time": "2022-04-17T19:21:58.052Z"
   },
   {
    "duration": 0,
    "start_time": "2022-04-17T19:21:58.053Z"
   },
   {
    "duration": 0,
    "start_time": "2022-04-17T19:21:58.055Z"
   },
   {
    "duration": 0,
    "start_time": "2022-04-17T19:21:58.073Z"
   },
   {
    "duration": 0,
    "start_time": "2022-04-17T19:21:58.075Z"
   },
   {
    "duration": 0,
    "start_time": "2022-04-17T19:21:58.076Z"
   },
   {
    "duration": 0,
    "start_time": "2022-04-17T19:21:58.077Z"
   },
   {
    "duration": 0,
    "start_time": "2022-04-17T19:21:58.078Z"
   },
   {
    "duration": 0,
    "start_time": "2022-04-17T19:21:58.079Z"
   },
   {
    "duration": 0,
    "start_time": "2022-04-17T19:21:58.079Z"
   },
   {
    "duration": 3,
    "start_time": "2022-04-17T19:30:15.744Z"
   },
   {
    "duration": 9,
    "start_time": "2022-04-17T19:30:16.802Z"
   },
   {
    "duration": 8,
    "start_time": "2022-04-17T19:30:17.268Z"
   },
   {
    "duration": 3,
    "start_time": "2022-04-17T19:30:35.845Z"
   },
   {
    "duration": 3,
    "start_time": "2022-04-17T19:30:36.739Z"
   },
   {
    "duration": 3,
    "start_time": "2022-04-17T19:30:37.566Z"
   },
   {
    "duration": 4,
    "start_time": "2022-04-17T19:30:38.686Z"
   },
   {
    "duration": 4,
    "start_time": "2022-04-17T19:31:08.688Z"
   },
   {
    "duration": 2,
    "start_time": "2022-04-17T19:31:40.510Z"
   },
   {
    "duration": 2,
    "start_time": "2022-04-17T19:31:41.342Z"
   },
   {
    "duration": 2,
    "start_time": "2022-04-17T19:31:41.633Z"
   },
   {
    "duration": 3,
    "start_time": "2022-04-17T19:31:42.982Z"
   },
   {
    "duration": 105,
    "start_time": "2022-04-17T19:36:34.076Z"
   },
   {
    "duration": 16,
    "start_time": "2022-04-17T19:36:39.130Z"
   },
   {
    "duration": 15,
    "start_time": "2022-04-17T19:36:39.647Z"
   },
   {
    "duration": 14,
    "start_time": "2022-04-17T19:36:40.387Z"
   },
   {
    "duration": 14,
    "start_time": "2022-04-17T19:39:19.934Z"
   },
   {
    "duration": 11,
    "start_time": "2022-04-17T19:39:24.768Z"
   },
   {
    "duration": 12,
    "start_time": "2022-04-17T19:39:25.625Z"
   },
   {
    "duration": 4,
    "start_time": "2022-04-17T19:39:28.914Z"
   },
   {
    "duration": 4,
    "start_time": "2022-04-17T19:39:30.972Z"
   },
   {
    "duration": 4,
    "start_time": "2022-04-17T19:39:31.386Z"
   },
   {
    "duration": 115,
    "start_time": "2022-04-17T19:44:01.723Z"
   },
   {
    "duration": 4,
    "start_time": "2022-04-17T19:45:04.014Z"
   },
   {
    "duration": 26,
    "start_time": "2022-04-17T19:45:04.847Z"
   },
   {
    "duration": 15,
    "start_time": "2022-04-17T19:45:06.715Z"
   },
   {
    "duration": 14,
    "start_time": "2022-04-17T19:45:07.967Z"
   },
   {
    "duration": 4,
    "start_time": "2022-04-17T19:46:43.496Z"
   },
   {
    "duration": 113,
    "start_time": "2022-04-17T19:52:23.247Z"
   },
   {
    "duration": 3,
    "start_time": "2022-04-17T19:59:10.653Z"
   },
   {
    "duration": 4,
    "start_time": "2022-04-17T19:59:12.182Z"
   },
   {
    "duration": 4,
    "start_time": "2022-04-17T19:59:57.874Z"
   },
   {
    "duration": 3,
    "start_time": "2022-04-17T20:04:33.248Z"
   },
   {
    "duration": 3,
    "start_time": "2022-04-17T20:04:33.714Z"
   },
   {
    "duration": 3,
    "start_time": "2022-04-17T20:04:34.085Z"
   },
   {
    "duration": 4,
    "start_time": "2022-04-17T20:04:34.563Z"
   },
   {
    "duration": 3,
    "start_time": "2022-04-17T20:04:35.007Z"
   },
   {
    "duration": 3,
    "start_time": "2022-04-17T20:04:35.400Z"
   },
   {
    "duration": 4,
    "start_time": "2022-04-17T20:04:35.847Z"
   },
   {
    "duration": 3,
    "start_time": "2022-04-17T20:04:36.417Z"
   },
   {
    "duration": 9,
    "start_time": "2022-04-17T20:04:36.955Z"
   },
   {
    "duration": 9,
    "start_time": "2022-04-17T20:04:40.893Z"
   },
   {
    "duration": 9,
    "start_time": "2022-04-17T20:04:41.189Z"
   },
   {
    "duration": 153,
    "start_time": "2022-04-17T20:06:57.442Z"
   },
   {
    "duration": 5,
    "start_time": "2022-04-17T20:13:57.813Z"
   },
   {
    "duration": 3,
    "start_time": "2022-04-17T20:44:18.721Z"
   },
   {
    "duration": 4,
    "start_time": "2022-04-17T20:44:19.200Z"
   },
   {
    "duration": 3,
    "start_time": "2022-04-17T20:44:19.945Z"
   },
   {
    "duration": 3,
    "start_time": "2022-04-17T20:44:20.878Z"
   },
   {
    "duration": 4,
    "start_time": "2022-04-17T20:44:21.935Z"
   },
   {
    "duration": 9,
    "start_time": "2022-04-17T20:44:22.404Z"
   },
   {
    "duration": 9,
    "start_time": "2022-04-17T20:44:23.211Z"
   },
   {
    "duration": 10,
    "start_time": "2022-04-17T20:44:24.649Z"
   },
   {
    "duration": 6,
    "start_time": "2022-04-17T20:44:42.741Z"
   },
   {
    "duration": 1234,
    "start_time": "2022-04-17T20:44:43.507Z"
   },
   {
    "duration": 1218,
    "start_time": "2022-04-17T20:44:45.494Z"
   },
   {
    "duration": 1224,
    "start_time": "2022-04-17T20:44:47.541Z"
   },
   {
    "duration": 112,
    "start_time": "2022-04-17T20:47:47.760Z"
   },
   {
    "duration": 1113,
    "start_time": "2022-04-17T20:57:37.695Z"
   },
   {
    "duration": 370,
    "start_time": "2022-04-17T20:57:38.811Z"
   },
   {
    "duration": 3,
    "start_time": "2022-04-17T20:57:39.183Z"
   },
   {
    "duration": 135,
    "start_time": "2022-04-17T20:57:39.188Z"
   },
   {
    "duration": 118,
    "start_time": "2022-04-17T20:57:39.325Z"
   },
   {
    "duration": 139,
    "start_time": "2022-04-17T20:57:39.445Z"
   },
   {
    "duration": 4,
    "start_time": "2022-04-17T20:57:39.586Z"
   },
   {
    "duration": 22,
    "start_time": "2022-04-17T20:57:39.592Z"
   },
   {
    "duration": 17,
    "start_time": "2022-04-17T20:57:39.616Z"
   },
   {
    "duration": 39,
    "start_time": "2022-04-17T20:57:39.636Z"
   },
   {
    "duration": 16,
    "start_time": "2022-04-17T20:57:39.677Z"
   },
   {
    "duration": 3,
    "start_time": "2022-04-17T20:57:39.695Z"
   },
   {
    "duration": 16,
    "start_time": "2022-04-17T20:57:39.700Z"
   },
   {
    "duration": 15,
    "start_time": "2022-04-17T20:57:39.717Z"
   },
   {
    "duration": 48,
    "start_time": "2022-04-17T20:57:39.734Z"
   },
   {
    "duration": 3,
    "start_time": "2022-04-17T20:57:39.784Z"
   },
   {
    "duration": 5,
    "start_time": "2022-04-17T20:57:39.789Z"
   },
   {
    "duration": 5,
    "start_time": "2022-04-17T20:57:39.796Z"
   },
   {
    "duration": 4,
    "start_time": "2022-04-17T20:57:39.803Z"
   },
   {
    "duration": 68,
    "start_time": "2022-04-17T20:57:39.809Z"
   },
   {
    "duration": 102,
    "start_time": "2022-04-17T20:57:39.878Z"
   },
   {
    "duration": 203,
    "start_time": "2022-04-17T20:57:39.982Z"
   },
   {
    "duration": 93,
    "start_time": "2022-04-17T20:57:40.188Z"
   },
   {
    "duration": 102,
    "start_time": "2022-04-17T20:57:40.283Z"
   },
   {
    "duration": 8,
    "start_time": "2022-04-17T20:57:40.386Z"
   },
   {
    "duration": 8,
    "start_time": "2022-04-17T20:57:40.396Z"
   },
   {
    "duration": 8,
    "start_time": "2022-04-17T20:57:40.405Z"
   },
   {
    "duration": 6,
    "start_time": "2022-04-17T20:57:40.416Z"
   },
   {
    "duration": 8,
    "start_time": "2022-04-17T20:57:40.424Z"
   },
   {
    "duration": 14,
    "start_time": "2022-04-17T20:57:40.434Z"
   },
   {
    "duration": 9,
    "start_time": "2022-04-17T20:57:40.450Z"
   },
   {
    "duration": 17,
    "start_time": "2022-04-17T20:57:40.460Z"
   },
   {
    "duration": 5,
    "start_time": "2022-04-17T20:57:40.479Z"
   },
   {
    "duration": 1706,
    "start_time": "2022-04-17T20:57:40.486Z"
   },
   {
    "duration": 1578,
    "start_time": "2022-04-17T20:57:42.194Z"
   },
   {
    "duration": 1257,
    "start_time": "2022-04-17T20:57:43.774Z"
   },
   {
    "duration": 1109,
    "start_time": "2022-04-17T21:06:38.841Z"
   },
   {
    "duration": 355,
    "start_time": "2022-04-17T21:06:39.952Z"
   },
   {
    "duration": 3,
    "start_time": "2022-04-17T21:06:40.309Z"
   },
   {
    "duration": 116,
    "start_time": "2022-04-17T21:06:40.314Z"
   },
   {
    "duration": 118,
    "start_time": "2022-04-17T21:06:40.431Z"
   },
   {
    "duration": 138,
    "start_time": "2022-04-17T21:06:40.550Z"
   },
   {
    "duration": 4,
    "start_time": "2022-04-17T21:06:40.689Z"
   },
   {
    "duration": 26,
    "start_time": "2022-04-17T21:06:40.694Z"
   },
   {
    "duration": 25,
    "start_time": "2022-04-17T21:06:40.722Z"
   },
   {
    "duration": 27,
    "start_time": "2022-04-17T21:06:40.750Z"
   },
   {
    "duration": 15,
    "start_time": "2022-04-17T21:06:40.779Z"
   },
   {
    "duration": 3,
    "start_time": "2022-04-17T21:06:40.795Z"
   },
   {
    "duration": 18,
    "start_time": "2022-04-17T21:06:40.800Z"
   },
   {
    "duration": 16,
    "start_time": "2022-04-17T21:06:40.819Z"
   },
   {
    "duration": 41,
    "start_time": "2022-04-17T21:06:40.837Z"
   },
   {
    "duration": 3,
    "start_time": "2022-04-17T21:06:40.880Z"
   },
   {
    "duration": 6,
    "start_time": "2022-04-17T21:06:40.884Z"
   },
   {
    "duration": 8,
    "start_time": "2022-04-17T21:06:40.892Z"
   },
   {
    "duration": 7,
    "start_time": "2022-04-17T21:06:40.901Z"
   },
   {
    "duration": 72,
    "start_time": "2022-04-17T21:06:40.910Z"
   },
   {
    "duration": 20,
    "start_time": "2022-04-17T21:06:41.074Z"
   },
   {
    "duration": 107,
    "start_time": "2022-04-17T21:06:41.175Z"
   },
   {
    "duration": 4,
    "start_time": "2022-04-17T21:06:41.284Z"
   },
   {
    "duration": 5,
    "start_time": "2022-04-17T21:06:41.375Z"
   },
   {
    "duration": 7,
    "start_time": "2022-04-17T21:06:41.472Z"
   },
   {
    "duration": 6,
    "start_time": "2022-04-17T21:06:41.481Z"
   },
   {
    "duration": 5,
    "start_time": "2022-04-17T21:06:41.488Z"
   },
   {
    "duration": 6,
    "start_time": "2022-04-17T21:06:41.496Z"
   },
   {
    "duration": 4,
    "start_time": "2022-04-17T21:06:41.504Z"
   },
   {
    "duration": 10,
    "start_time": "2022-04-17T21:06:41.510Z"
   },
   {
    "duration": 8,
    "start_time": "2022-04-17T21:06:41.522Z"
   },
   {
    "duration": 8,
    "start_time": "2022-04-17T21:06:41.531Z"
   },
   {
    "duration": 7,
    "start_time": "2022-04-17T21:06:41.572Z"
   },
   {
    "duration": 2020,
    "start_time": "2022-04-17T21:06:41.580Z"
   },
   {
    "duration": 1253,
    "start_time": "2022-04-17T21:06:43.601Z"
   },
   {
    "duration": 1230,
    "start_time": "2022-04-17T21:06:44.856Z"
   },
   {
    "duration": 213,
    "start_time": "2022-04-18T07:10:36.913Z"
   },
   {
    "duration": 187,
    "start_time": "2022-04-18T07:11:08.593Z"
   },
   {
    "duration": 1251,
    "start_time": "2022-04-18T07:27:06.195Z"
   },
   {
    "duration": 6524,
    "start_time": "2022-04-18T07:27:07.448Z"
   },
   {
    "duration": 4,
    "start_time": "2022-04-18T07:27:13.973Z"
   },
   {
    "duration": 144,
    "start_time": "2022-04-18T07:27:13.979Z"
   },
   {
    "duration": 127,
    "start_time": "2022-04-18T07:27:14.124Z"
   },
   {
    "duration": 120,
    "start_time": "2022-04-18T07:27:14.253Z"
   },
   {
    "duration": 4,
    "start_time": "2022-04-18T07:27:14.375Z"
   },
   {
    "duration": 23,
    "start_time": "2022-04-18T07:27:14.380Z"
   },
   {
    "duration": 26,
    "start_time": "2022-04-18T07:27:14.405Z"
   },
   {
    "duration": 15,
    "start_time": "2022-04-18T07:27:14.434Z"
   },
   {
    "duration": 14,
    "start_time": "2022-04-18T07:27:14.450Z"
   },
   {
    "duration": 3,
    "start_time": "2022-04-18T07:27:14.466Z"
   },
   {
    "duration": 14,
    "start_time": "2022-04-18T07:27:14.471Z"
   },
   {
    "duration": 49,
    "start_time": "2022-04-18T07:27:14.487Z"
   },
   {
    "duration": 15,
    "start_time": "2022-04-18T07:27:14.537Z"
   },
   {
    "duration": 3,
    "start_time": "2022-04-18T07:27:14.554Z"
   },
   {
    "duration": 8,
    "start_time": "2022-04-18T07:27:14.559Z"
   },
   {
    "duration": 5,
    "start_time": "2022-04-18T07:27:14.569Z"
   },
   {
    "duration": 6,
    "start_time": "2022-04-18T07:27:14.575Z"
   },
   {
    "duration": 60,
    "start_time": "2022-04-18T07:27:14.583Z"
   },
   {
    "duration": 13,
    "start_time": "2022-04-18T07:27:14.823Z"
   },
   {
    "duration": 194,
    "start_time": "2022-04-18T07:27:14.839Z"
   },
   {
    "duration": 89,
    "start_time": "2022-04-18T07:27:15.035Z"
   },
   {
    "duration": 96,
    "start_time": "2022-04-18T07:27:15.127Z"
   },
   {
    "duration": 4,
    "start_time": "2022-04-18T07:27:15.225Z"
   },
   {
    "duration": 7,
    "start_time": "2022-04-18T07:27:15.230Z"
   },
   {
    "duration": 4,
    "start_time": "2022-04-18T07:27:15.239Z"
   },
   {
    "duration": 8,
    "start_time": "2022-04-18T07:27:15.247Z"
   },
   {
    "duration": 5,
    "start_time": "2022-04-18T07:27:15.257Z"
   },
   {
    "duration": 21,
    "start_time": "2022-04-18T07:27:15.264Z"
   },
   {
    "duration": 13,
    "start_time": "2022-04-18T07:27:15.287Z"
   },
   {
    "duration": 22,
    "start_time": "2022-04-18T07:27:15.302Z"
   },
   {
    "duration": 6,
    "start_time": "2022-04-18T07:27:15.325Z"
   },
   {
    "duration": 1240,
    "start_time": "2022-04-18T07:27:15.332Z"
   },
   {
    "duration": 1155,
    "start_time": "2022-04-18T07:27:16.574Z"
   },
   {
    "duration": 2215,
    "start_time": "2022-04-18T07:27:17.731Z"
   },
   {
    "duration": 3,
    "start_time": "2022-04-18T07:31:30.535Z"
   },
   {
    "duration": 4,
    "start_time": "2022-04-18T07:31:32.058Z"
   },
   {
    "duration": 3,
    "start_time": "2022-04-18T07:31:34.159Z"
   },
   {
    "duration": 3,
    "start_time": "2022-04-18T07:31:34.758Z"
   },
   {
    "duration": 3,
    "start_time": "2022-04-18T07:31:35.159Z"
   },
   {
    "duration": 3,
    "start_time": "2022-04-18T07:31:35.698Z"
   },
   {
    "duration": 4,
    "start_time": "2022-04-18T07:31:37.285Z"
   },
   {
    "duration": 9,
    "start_time": "2022-04-18T07:31:39.301Z"
   },
   {
    "duration": 9,
    "start_time": "2022-04-18T07:31:39.979Z"
   },
   {
    "duration": 9,
    "start_time": "2022-04-18T07:31:40.598Z"
   },
   {
    "duration": 8,
    "start_time": "2022-04-18T07:31:45.179Z"
   },
   {
    "duration": 1429,
    "start_time": "2022-04-18T07:31:47.650Z"
   },
   {
    "duration": 1082,
    "start_time": "2022-04-18T07:31:49.081Z"
   },
   {
    "duration": 1087,
    "start_time": "2022-04-18T07:31:50.165Z"
   },
   {
    "duration": 1196,
    "start_time": "2022-04-18T07:32:36.057Z"
   },
   {
    "duration": 379,
    "start_time": "2022-04-18T07:32:37.255Z"
   },
   {
    "duration": 4,
    "start_time": "2022-04-18T07:32:37.636Z"
   },
   {
    "duration": 125,
    "start_time": "2022-04-18T07:32:37.642Z"
   },
   {
    "duration": 113,
    "start_time": "2022-04-18T07:32:37.769Z"
   },
   {
    "duration": 115,
    "start_time": "2022-04-18T07:32:37.883Z"
   },
   {
    "duration": 3,
    "start_time": "2022-04-18T07:32:38.000Z"
   },
   {
    "duration": 32,
    "start_time": "2022-04-18T07:32:38.005Z"
   },
   {
    "duration": 23,
    "start_time": "2022-04-18T07:32:38.039Z"
   },
   {
    "duration": 15,
    "start_time": "2022-04-18T07:32:38.063Z"
   },
   {
    "duration": 14,
    "start_time": "2022-04-18T07:32:38.079Z"
   },
   {
    "duration": 3,
    "start_time": "2022-04-18T07:32:38.095Z"
   },
   {
    "duration": 35,
    "start_time": "2022-04-18T07:32:38.099Z"
   },
   {
    "duration": 14,
    "start_time": "2022-04-18T07:32:38.137Z"
   },
   {
    "duration": 15,
    "start_time": "2022-04-18T07:32:38.152Z"
   },
   {
    "duration": 3,
    "start_time": "2022-04-18T07:32:38.169Z"
   },
   {
    "duration": 7,
    "start_time": "2022-04-18T07:32:38.174Z"
   },
   {
    "duration": 42,
    "start_time": "2022-04-18T07:32:38.182Z"
   },
   {
    "duration": 15,
    "start_time": "2022-04-18T07:32:38.226Z"
   },
   {
    "duration": 86,
    "start_time": "2022-04-18T07:32:38.242Z"
   },
   {
    "duration": 103,
    "start_time": "2022-04-18T07:32:38.330Z"
   },
   {
    "duration": 190,
    "start_time": "2022-04-18T07:32:38.436Z"
   },
   {
    "duration": 4,
    "start_time": "2022-04-18T07:32:38.628Z"
   },
   {
    "duration": 191,
    "start_time": "2022-04-18T07:32:38.634Z"
   },
   {
    "duration": 11,
    "start_time": "2022-04-18T07:32:38.827Z"
   },
   {
    "duration": 14,
    "start_time": "2022-04-18T07:32:38.839Z"
   },
   {
    "duration": 20,
    "start_time": "2022-04-18T07:32:38.855Z"
   },
   {
    "duration": 22,
    "start_time": "2022-04-18T07:32:38.877Z"
   },
   {
    "duration": 25,
    "start_time": "2022-04-18T07:32:38.901Z"
   },
   {
    "duration": 29,
    "start_time": "2022-04-18T07:32:38.928Z"
   },
   {
    "duration": 29,
    "start_time": "2022-04-18T07:32:38.959Z"
   },
   {
    "duration": 19,
    "start_time": "2022-04-18T07:32:38.990Z"
   },
   {
    "duration": 5,
    "start_time": "2022-04-18T07:32:39.011Z"
   },
   {
    "duration": 1177,
    "start_time": "2022-04-18T07:32:39.018Z"
   },
   {
    "duration": 1126,
    "start_time": "2022-04-18T07:32:40.197Z"
   },
   {
    "duration": 1173,
    "start_time": "2022-04-18T07:32:41.324Z"
   }
  ],
  "kernelspec": {
   "display_name": "Python 3 (ipykernel)",
   "language": "python",
   "name": "python3"
  },
  "language_info": {
   "codemirror_mode": {
    "name": "ipython",
    "version": 3
   },
   "file_extension": ".py",
   "mimetype": "text/x-python",
   "name": "python",
   "nbconvert_exporter": "python",
   "pygments_lexer": "ipython3",
   "version": "3.9.5"
  },
  "toc": {
   "base_numbering": 1,
   "nav_menu": {},
   "number_sections": true,
   "sideBar": true,
   "skip_h1_title": true,
   "title_cell": "Содержание",
   "title_sidebar": "Содержание",
   "toc_cell": true,
   "toc_position": {
    "height": "calc(100% - 180px)",
    "left": "10px",
    "top": "150px",
    "width": "359.783px"
   },
   "toc_section_display": true,
   "toc_window_display": true
  }
 },
 "nbformat": 4,
 "nbformat_minor": 2
}
